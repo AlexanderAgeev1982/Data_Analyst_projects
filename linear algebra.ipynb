{
 "cells": [
  {
   "cell_type": "markdown",
   "metadata": {},
   "source": [
    "👋 **Привет, Александр!**\n",
    "\n",
    "Меня зовут Арсен Абдулин, и я буду твоим ревьювером по проекту. Предлагаю общаться на «ты», если не против =) Моя цель — не поиск ошибок в твоей работе, а поделиться опытом и помочь успешно завершить проект, чтобы на шаг приблизиться к профессии специалиста по Data Science.\n",
    "\n",
    "Видно, что ты очень старался, выполняя проект, у меня положительное впечатление о работе! Выполнены все ключевые этапы — особых замечаний нет. В остальном я отметил рекомендации.\n",
    "\n",
    "При проверке работ я делаю следующие комментарии:\n",
    "\n",
    "<div class=\"alert alert-success\">\n",
    "<b>✔️ Зеленым цветом</b> отмечены удачные решения, на которые можно опираться в следующих проектах.</div>\n",
    "\n",
    "<div class=\"alert alert-warning\">\n",
    "<b>⚠️ Желтым цветом</b> я отметил пункты, которые в следующий раз можно сделать по-другому. Одно-два таких замечания в проекте допускается, но если их много — проект следует доработать. </div>\n",
    "\n",
    "<div class=\"alert alert-danger\">\n",
    "<b>🚫 Красным цветом</b> отмечены критические замечания, которые необходимо поправить, чтобы принять проект. </div>\n",
    "\n",
    "Если какие-то моменты в задании для тебя были непонятны и у тебя есть ко мне вопросы — смело спрашивай 😊 Также ты можешь доработать места, где есть желтые комментарии в этом проекте (однако, это не обязательно).\n",
    "\n",
    "Предлагаю работать над проектом в диалоге: если ты решишь что-то поменять по моим рекомендациям — пиши об этом (выбери для своих комментариев определенный цвет — так мне будет легче увидеть изменения). Пожалуйста не перемещай, не изменяй и не удаляй мои комментарии. Все это поможет сделать проверку твоего проекта оперативнее.\n",
    "\n",
    "<div class=\"alert alert-info\"> <b>ℹ️ Комментарий студента: </b> Пример комментария. </div>"
   ]
  },
  {
   "cell_type": "markdown",
   "metadata": {},
   "source": [
    "<div class=\"alert alert-success\">\n",
    "<b>✔️ Комментарий ревьювера:</b> На всякий случай, здесь я добавил дополнительные материалы по матрицам. Может пригодится =)\n",
    "    \n",
    "http://publish.sutd.ru/e_books/lin_alg_2013/html/matrix_33.html основные операции с матрицами    \n",
    "\n",
    "https://python-scripts.com/numpy информация по numpy с примерами\n",
    "    \n",
    "https://xn--80apmoib.xn--p1ai/media/uploads/2019/07/18/2-2.Matricy_i_osnovnye_matrichnye_operacii.pdf матричные операции\n",
    "    \n",
    "https://ml-handbook.ru/chapters/linear_models/intro Можешь посмотреть вот здесь теорию по линейной регрессии и по матрицам в том числе.\n",
    "\n",
    "Вот неплохая статья по основам матричных операций и линейным моделям, правда на английском языке:\n",
    "\n",
    "https://jonathan-hui.medium.com/machine-learning-linear-algebra-a5b1658f0151\n",
    "\n",
    "http://www.machinelearning.ru/wiki/images/b/bb/Sem08_factorizations.pdf по матричным разложениям\n",
    "    \n",
    "Как дополнение по матричным разложениями и теории машинного обучения можно посмотреть видеолекции К. Воронцова или Е. Соколова, они есть на Youtube.\n",
    "    \n",
    "</div>"
   ]
  },
  {
   "cell_type": "markdown",
   "metadata": {
    "toc": true
   },
   "source": [
    "<h1>Содержание<span class=\"tocSkip\"></span></h1>\n",
    "<div class=\"toc\"><ul class=\"toc-item\"><li><span><a href=\"#Загрузка-данных\" data-toc-modified-id=\"Загрузка-данных-1\"><span class=\"toc-item-num\">1&nbsp;&nbsp;</span>Загрузка данных</a></span></li><li><span><a href=\"#Умножение-матриц\" data-toc-modified-id=\"Умножение-матриц-2\"><span class=\"toc-item-num\">2&nbsp;&nbsp;</span>Умножение матриц</a></span></li><li><span><a href=\"#Алгоритм-преобразования\" data-toc-modified-id=\"Алгоритм-преобразования-3\"><span class=\"toc-item-num\">3&nbsp;&nbsp;</span>Алгоритм преобразования</a></span></li><li><span><a href=\"#Проверка-алгоритма\" data-toc-modified-id=\"Проверка-алгоритма-4\"><span class=\"toc-item-num\">4&nbsp;&nbsp;</span>Проверка алгоритма</a></span></li><li><span><a href=\"#Чек-лист-проверки\" data-toc-modified-id=\"Чек-лист-проверки-5\"><span class=\"toc-item-num\">5&nbsp;&nbsp;</span>Чек-лист проверки</a></span></li></ul></div>"
   ]
  },
  {
   "cell_type": "markdown",
   "metadata": {},
   "source": [
    "# Защита персональных данных клиентов"
   ]
  },
  {
   "cell_type": "markdown",
   "metadata": {},
   "source": [
    "Вам нужно защитить данные клиентов страховой компании «Хоть потоп». Разработайте такой метод преобразования данных, чтобы по ним было сложно восстановить персональную информацию. Обоснуйте корректность его работы.\n",
    "\n",
    "Нужно защитить данные, чтобы при преобразовании качество моделей машинного обучения не ухудшилось. Подбирать наилучшую модель не требуется."
   ]
  },
  {
   "cell_type": "markdown",
   "metadata": {},
   "source": [
    "<div class=\"alert alert-success\">\n",
    "<b>✔️ Комментарий ревьювера:</b> Хорошо, что добавил небольшое описание и содержание проекта.\n",
    "    \n",
    "</div>"
   ]
  },
  {
   "cell_type": "markdown",
   "metadata": {},
   "source": [
    "## Загрузка данных"
   ]
  },
  {
   "cell_type": "markdown",
   "metadata": {},
   "source": [
    "1.1 импортируем необходимые библиотеки"
   ]
  },
  {
   "cell_type": "code",
   "execution_count": 1,
   "metadata": {},
   "outputs": [],
   "source": [
    "import pandas as pd \n",
    "from IPython.display import display \n",
    "pd.set_option('display.max_columns', None) \n",
    "pd.set_option('display.float_format', '{:.3f}'.format) \n",
    "import matplotlib.pyplot as plt\n",
    "import numpy as np\n",
    "import seaborn as sns\n",
    "import warnings\n",
    "warnings.filterwarnings('ignore')\n",
    "from sklearn.linear_model import LinearRegression \n",
    "from sklearn.metrics import r2_score"
   ]
  },
  {
   "cell_type": "markdown",
   "metadata": {},
   "source": [
    "<div class=\"alert alert-success\">\n",
    "<b>✔️ Комментарий ревьювера:</b> Необходимые библиотеки на месте, ничего лишнего.\n",
    "    \n",
    "</div>"
   ]
  },
  {
   "cell_type": "code",
   "execution_count": 2,
   "metadata": {},
   "outputs": [
    {
     "name": "stdout",
     "output_type": "stream",
     "text": [
      "<class 'pandas.core.frame.DataFrame'>\n",
      "RangeIndex: 5000 entries, 0 to 4999\n",
      "Data columns (total 5 columns):\n",
      " #   Column             Non-Null Count  Dtype  \n",
      "---  ------             --------------  -----  \n",
      " 0   Пол                5000 non-null   int64  \n",
      " 1   Возраст            5000 non-null   float64\n",
      " 2   Зарплата           5000 non-null   float64\n",
      " 3   Члены семьи        5000 non-null   int64  \n",
      " 4   Страховые выплаты  5000 non-null   int64  \n",
      "dtypes: float64(2), int64(3)\n",
      "memory usage: 195.4 KB\n"
     ]
    },
    {
     "data": {
      "text/html": [
       "<div>\n",
       "<style scoped>\n",
       "    .dataframe tbody tr th:only-of-type {\n",
       "        vertical-align: middle;\n",
       "    }\n",
       "\n",
       "    .dataframe tbody tr th {\n",
       "        vertical-align: top;\n",
       "    }\n",
       "\n",
       "    .dataframe thead th {\n",
       "        text-align: right;\n",
       "    }\n",
       "</style>\n",
       "<table border=\"1\" class=\"dataframe\">\n",
       "  <thead>\n",
       "    <tr style=\"text-align: right;\">\n",
       "      <th></th>\n",
       "      <th>Пол</th>\n",
       "      <th>Возраст</th>\n",
       "      <th>Зарплата</th>\n",
       "      <th>Члены семьи</th>\n",
       "      <th>Страховые выплаты</th>\n",
       "    </tr>\n",
       "  </thead>\n",
       "  <tbody>\n",
       "    <tr>\n",
       "      <th>0</th>\n",
       "      <td>1</td>\n",
       "      <td>41.000</td>\n",
       "      <td>49600.000</td>\n",
       "      <td>1</td>\n",
       "      <td>0</td>\n",
       "    </tr>\n",
       "    <tr>\n",
       "      <th>1</th>\n",
       "      <td>0</td>\n",
       "      <td>46.000</td>\n",
       "      <td>38000.000</td>\n",
       "      <td>1</td>\n",
       "      <td>1</td>\n",
       "    </tr>\n",
       "    <tr>\n",
       "      <th>2</th>\n",
       "      <td>0</td>\n",
       "      <td>29.000</td>\n",
       "      <td>21000.000</td>\n",
       "      <td>0</td>\n",
       "      <td>0</td>\n",
       "    </tr>\n",
       "    <tr>\n",
       "      <th>3</th>\n",
       "      <td>0</td>\n",
       "      <td>21.000</td>\n",
       "      <td>41700.000</td>\n",
       "      <td>2</td>\n",
       "      <td>0</td>\n",
       "    </tr>\n",
       "    <tr>\n",
       "      <th>4</th>\n",
       "      <td>1</td>\n",
       "      <td>28.000</td>\n",
       "      <td>26100.000</td>\n",
       "      <td>0</td>\n",
       "      <td>0</td>\n",
       "    </tr>\n",
       "  </tbody>\n",
       "</table>\n",
       "</div>"
      ],
      "text/plain": [
       "   Пол  Возраст  Зарплата  Члены семьи  Страховые выплаты\n",
       "0    1   41.000 49600.000            1                  0\n",
       "1    0   46.000 38000.000            1                  1\n",
       "2    0   29.000 21000.000            0                  0\n",
       "3    0   21.000 41700.000            2                  0\n",
       "4    1   28.000 26100.000            0                  0"
      ]
     },
     "execution_count": 2,
     "metadata": {},
     "output_type": "execute_result"
    }
   ],
   "source": [
    "data = pd.read_csv('/datasets/insurance.csv', sep=',')\n",
    "data.info()\n",
    "data.head()\n"
   ]
  },
  {
   "cell_type": "code",
   "execution_count": 3,
   "metadata": {
    "scrolled": false
   },
   "outputs": [
    {
     "data": {
      "text/html": [
       "<div>\n",
       "<style scoped>\n",
       "    .dataframe tbody tr th:only-of-type {\n",
       "        vertical-align: middle;\n",
       "    }\n",
       "\n",
       "    .dataframe tbody tr th {\n",
       "        vertical-align: top;\n",
       "    }\n",
       "\n",
       "    .dataframe thead th {\n",
       "        text-align: right;\n",
       "    }\n",
       "</style>\n",
       "<table border=\"1\" class=\"dataframe\">\n",
       "  <thead>\n",
       "    <tr style=\"text-align: right;\">\n",
       "      <th></th>\n",
       "      <th>Пол</th>\n",
       "      <th>Возраст</th>\n",
       "      <th>Зарплата</th>\n",
       "      <th>Члены семьи</th>\n",
       "      <th>Страховые выплаты</th>\n",
       "    </tr>\n",
       "  </thead>\n",
       "  <tbody>\n",
       "    <tr>\n",
       "      <th>count</th>\n",
       "      <td>5000.000</td>\n",
       "      <td>5000.000</td>\n",
       "      <td>5000.000</td>\n",
       "      <td>5000.000</td>\n",
       "      <td>5000.000</td>\n",
       "    </tr>\n",
       "    <tr>\n",
       "      <th>mean</th>\n",
       "      <td>0.499</td>\n",
       "      <td>30.953</td>\n",
       "      <td>39916.360</td>\n",
       "      <td>1.194</td>\n",
       "      <td>0.148</td>\n",
       "    </tr>\n",
       "    <tr>\n",
       "      <th>std</th>\n",
       "      <td>0.500</td>\n",
       "      <td>8.441</td>\n",
       "      <td>9900.084</td>\n",
       "      <td>1.091</td>\n",
       "      <td>0.463</td>\n",
       "    </tr>\n",
       "    <tr>\n",
       "      <th>min</th>\n",
       "      <td>0.000</td>\n",
       "      <td>18.000</td>\n",
       "      <td>5300.000</td>\n",
       "      <td>0.000</td>\n",
       "      <td>0.000</td>\n",
       "    </tr>\n",
       "    <tr>\n",
       "      <th>25%</th>\n",
       "      <td>0.000</td>\n",
       "      <td>24.000</td>\n",
       "      <td>33300.000</td>\n",
       "      <td>0.000</td>\n",
       "      <td>0.000</td>\n",
       "    </tr>\n",
       "    <tr>\n",
       "      <th>50%</th>\n",
       "      <td>0.000</td>\n",
       "      <td>30.000</td>\n",
       "      <td>40200.000</td>\n",
       "      <td>1.000</td>\n",
       "      <td>0.000</td>\n",
       "    </tr>\n",
       "    <tr>\n",
       "      <th>75%</th>\n",
       "      <td>1.000</td>\n",
       "      <td>37.000</td>\n",
       "      <td>46600.000</td>\n",
       "      <td>2.000</td>\n",
       "      <td>0.000</td>\n",
       "    </tr>\n",
       "    <tr>\n",
       "      <th>max</th>\n",
       "      <td>1.000</td>\n",
       "      <td>65.000</td>\n",
       "      <td>79000.000</td>\n",
       "      <td>6.000</td>\n",
       "      <td>5.000</td>\n",
       "    </tr>\n",
       "  </tbody>\n",
       "</table>\n",
       "</div>"
      ],
      "text/plain": [
       "           Пол  Возраст  Зарплата  Члены семьи  Страховые выплаты\n",
       "count 5000.000 5000.000  5000.000     5000.000           5000.000\n",
       "mean     0.499   30.953 39916.360        1.194              0.148\n",
       "std      0.500    8.441  9900.084        1.091              0.463\n",
       "min      0.000   18.000  5300.000        0.000              0.000\n",
       "25%      0.000   24.000 33300.000        0.000              0.000\n",
       "50%      0.000   30.000 40200.000        1.000              0.000\n",
       "75%      1.000   37.000 46600.000        2.000              0.000\n",
       "max      1.000   65.000 79000.000        6.000              5.000"
      ]
     },
     "execution_count": 3,
     "metadata": {},
     "output_type": "execute_result"
    }
   ],
   "source": [
    "data.describe() # посмотрим распределения нашего dataset"
   ]
  },
  {
   "cell_type": "markdown",
   "metadata": {},
   "source": [
    "1.2 Построим гистограммы, посмотрим на наличие выбросов"
   ]
  },
  {
   "cell_type": "code",
   "execution_count": 4,
   "metadata": {},
   "outputs": [
    {
     "data": {
      "image/png": "[encoded data removed]",
      "text/plain": [
       "<Figure size 720x432 with 1 Axes>"
      ]
     },
     "metadata": {
      "needs_background": "light"
     },
     "output_type": "display_data"
    },
    {
     "data": {
      "image/png": "[encoded data removed]",
      "text/plain": [
       "<Figure size 720x432 with 1 Axes>"
      ]
     },
     "metadata": {
      "needs_background": "light"
     },
     "output_type": "display_data"
    },
    {
     "data": {
      "image/png": "[encoded data removed]",
      "text/plain": [
       "<Figure size 720x432 with 1 Axes>"
      ]
     },
     "metadata": {
      "needs_background": "light"
     },
     "output_type": "display_data"
    },
    {
     "data": {
      "image/png": "[encoded data removed]",
      "text/plain": [
       "<Figure size 720x432 with 1 Axes>"
      ]
     },
     "metadata": {
      "needs_background": "light"
     },
     "output_type": "display_data"
    }
   ],
   "source": [
    "# прочитал про функцию sns.displot(), которая позволяет получить гибко настраиваемый график оценки одномерного распределения по выборке.\n",
    "columns = ['Возраст', 'Зарплата', 'Страховые выплаты', 'Члены семьи']\n",
    "for i in columns:\n",
    "    plt.figure(figsize=(10,6))\n",
    "    sns.distplot(data[i])\n",
    "    plt.title(f'график плотности для признака {i}')\n",
    "\n",
    "    plt.show()"
   ]
  },
  {
   "cell_type": "markdown",
   "metadata": {},
   "source": [
    "<div class=\"alert alert-success\">\n",
    "<b>✔️ Комментарий ревьювера:</b> Хорошо, что провел подробный анализ данных и добавил гистограммы распределения признаков!\n",
    "    \n",
    "</div>"
   ]
  },
  {
   "cell_type": "markdown",
   "metadata": {},
   "source": [
    "# Вывод:\n",
    " - график плотности \"Возраста\" показыват, что средний и медианный возраст почти совпадают, а кол-во клиентов с растущим возрастом закономерно уменьшается\n",
    " - график плосности признака \"Зарплата\" показывает нормальную медианную ЗП = 40000р\n",
    " - целевой признак \"Кол-во страховых выплат\" на графике выглядит так, как-будто Страховые выплаты выдаются крайне редко\n",
    " - график плотности \"Члены семьи\" говорит о том, что наибольшее кол-во клиентов либо одинок, либо имеет одного и в еще меньшей степени двух членов семьи."
   ]
  },
  {
   "cell_type": "code",
   "execution_count": 5,
   "metadata": {},
   "outputs": [
    {
     "data": {
      "text/plain": [
       "153"
      ]
     },
     "execution_count": 5,
     "metadata": {},
     "output_type": "execute_result"
    }
   ],
   "source": [
    "data.duplicated().sum() # проверим на дубликаты"
   ]
  },
  {
   "cell_type": "code",
   "execution_count": 6,
   "metadata": {},
   "outputs": [
    {
     "data": {
      "text/plain": [
       "0"
      ]
     },
     "execution_count": 6,
     "metadata": {},
     "output_type": "execute_result"
    }
   ],
   "source": [
    "data.drop_duplicates(inplace=True)\n",
    "data.duplicated().sum()"
   ]
  },
  {
   "cell_type": "code",
   "execution_count": null,
   "metadata": {},
   "outputs": [],
   "source": []
  },
  {
   "cell_type": "markdown",
   "metadata": {},
   "source": [
    "1.3 Построим матрицу корреляций для определения линейной зависимости между признаками"
   ]
  },
  {
   "cell_type": "code",
   "execution_count": 7,
   "metadata": {
    "scrolled": true
   },
   "outputs": [
    {
     "data": {
      "text/plain": [
       "<AxesSubplot:>"
      ]
     },
     "execution_count": 7,
     "metadata": {},
     "output_type": "execute_result"
    },
    {
     "data": {
      "image/png": "[encoded data removed]",
      "text/plain": [
       "<Figure size 504x504 with 2 Axes>"
      ]
     },
     "metadata": {
      "needs_background": "light"
     },
     "output_type": "display_data"
    }
   ],
   "source": [
    "# проверим на мультиколлениарность, то есть на наличие линейной зависимости между объясняющими переменными (факторами) регрессионной модели\n",
    "plt.rcParams['figure.figsize'] = (7.0, 7.0)\n",
    "sns.heatmap(data.corr(), annot=True, linewidths=3, linecolor='white')"
   ]
  },
  {
   "cell_type": "markdown",
   "metadata": {},
   "source": [
    "# Вывод\n",
    " - Матрица корреляций показала, что линейной зависимости между обучающими признаками практически нет."
   ]
  },
  {
   "cell_type": "markdown",
   "metadata": {},
   "source": [
    "<div class=\"alert alert-success\">\n",
    "<b>✔️ Комментарий ревьювера:</b> Можно отметить корреляцию между возрастом клиента и страховыми выплатами.\n",
    "    \n",
    "</div>"
   ]
  },
  {
   "cell_type": "markdown",
   "metadata": {},
   "source": [
    "# Вывод по изучению данных:\n",
    " - данные загружены корректно, пропусков не обнаружено.\n",
    " - Типы данных в порядке и не требуют замены.\n",
    " - Значительных выбросов и аномалий не выявлено.\n",
    " - Выявлены дубликатов = 153, удалили.\n"
   ]
  },
  {
   "cell_type": "markdown",
   "metadata": {},
   "source": [
    "## Умножение матриц"
   ]
  },
  {
   "cell_type": "markdown",
   "metadata": {},
   "source": [
    "В этом задании вы можете записывать формулы в *Jupyter Notebook.*\n",
    "\n",
    "Чтобы записать формулу внутри текста, окружите её символами доллара \\\\$; если снаружи —  двойными символами \\\\$\\\\$. Эти формулы записываются на языке вёрстки *LaTeX.* \n",
    "\n",
    "Для примера мы записали формулы линейной регрессии. Можете их скопировать и отредактировать, чтобы решить задачу.\n",
    "\n",
    "Работать в *LaTeX* необязательно."
   ]
  },
  {
   "cell_type": "markdown",
   "metadata": {},
   "source": [
    "Обозначения:\n",
    "\n",
    "- $X$ — матрица признаков (нулевой столбец состоит из единиц)\n",
    "\n",
    "- $y$ — вектор целевого признака\n",
    "\n",
    "- $P$ — матрица, на которую умножаются признаки\n",
    "\n",
    "- $w$ — вектор весов линейной регрессии (нулевой элемент равен сдвигу)"
   ]
  },
  {
   "cell_type": "markdown",
   "metadata": {},
   "source": [
    "Предсказания:\n",
    "\n",
    "$$\n",
    "a = Xw\n",
    "$$\n",
    "\n",
    "Задача обучения:\n",
    "\n",
    "$$\n",
    "w = \\arg\\min_w MSE(Xw, y)\n",
    "$$\n",
    "\n",
    "Формула обучения:\n",
    "\n",
    "$$\n",
    "w = (X^T X)^{-1} X^T y\n",
    "$$"
   ]
  },
  {
   "cell_type": "markdown",
   "metadata": {},
   "source": [
    "**Ответ:** качество линейной регрессии не изменится\n",
    "\n"
   ]
  },
  {
   "cell_type": "markdown",
   "metadata": {},
   "source": [
    "**Обоснование:** \n",
    "Для обоснования ответа нужно получить предсказания для домноженных признаков. Пусть наши признаки будут как в исходном датасете размерностью 5000 на 4, а матрица для домножения 4 на 4. Умноженная матрица будет иметь вид X * P. Тогда фомула предсказаний примет следующий вид:\n",
    "$$\n",
    "a_n = XPw_n\n",
    "$$\n",
    "Подставим в формулу предсказаний формулу обучения для матрицы X P:\n",
    "$$\n",
    "a_n = XP((XP)^T XP)^{-1} (XP)^T y\n",
    "$$\n",
    "Воспользуемся следующими свойствами матриц:\n",
    "$$\n",
    "(AB)^{-1} = B^{-1} A^{-1}\n",
    "$$\n",
    "$$\n",
    "(AB)^T = B^T A^T\n",
    "$$\n",
    "$$\n",
    "AA^{-1} = E\n",
    "$$\n",
    "$$\n",
    "AE = EA = A\n",
    "$$\n",
    "\n",
    "Раскроем скобки с транспонированием матриц, получится следующее уравнение:\n",
    "$$\n",
    "a_n = XP(P^T X^T XP)^{-1} P^T X^T y\n",
    "$$\n",
    "\n",
    "Внутри скобок, от множителей которых берется обратная матрица остались следующие матрицы: $P^T$ размером 4х4, $X^T$ размером 4х5000, $X$ размером 5000x4, $P$ размером 4x4. Одно из дополнительных свойств матриц, о котором следует помнить слудующее $A(BC) = AB(C)$. Оно позволяет группировать матрицы внутри произведения различным образом. Т.к. обратная матрица может браться только от квадратной матрицы, то для раскрытия скобок данного произведения нам надо сгруппировать его множители так, чтобы они были квадратными матрицами.\n",
    "\n",
    "Выделим 2 множителя произведения $P^T X^T X$ и $P$ и раскроем скобки:\n",
    "$$\n",
    "a_n = XPP^{-1}(P^T X^T X)^{-1} P^T X^T y\n",
    "$$\n",
    "\n",
    "\n",
    "Произведения $PP^{-1}$ и $(P^T)^{-1} P^T$ дают единичные матрицы, которые можно исключить из уровнения. С учетом этого формула принимает вид:\n",
    "\n",
    "$$\n",
    "a_n = X(X^T X)^{-1} X^T y\n",
    "$$\n",
    "\n",
    "Не сложно заметить, что произведение $(X^T X)^{-1} X^T y$  равно  $w$, тогда:\n",
    "\n",
    "$$\n",
    "a_n = Xw\n",
    "$$\n",
    "\n",
    "Таким образом, мы получили аналогичную формулу предсказаний, что и была в начале, значит домножение признаков на обратимую матрицу не влияет на предсказания модели.\n",
    "\n"
   ]
  },
  {
   "cell_type": "markdown",
   "metadata": {},
   "source": [
    "<div class=\"alert alert-success\">\n",
    "<b>✔️ Комментарий ревьювера:</b> Доказательство верное и хорошо оформлено! Скобки в операциях транспонирования и обращения раскрыты правильно.\n",
    "    \n",
    "Молодец, что не раскрываешь скобки в выражении $(X^T X)^{-1}$, так как матрицы $X$ и $X^T$ прямоугольные и для них не существует обратных матриц.  \n",
    "    \n",
    "Многие делают ошибку в этом месте =)\n",
    "\n",
    "</div>"
   ]
  },
  {
   "cell_type": "markdown",
   "metadata": {},
   "source": [
    "## Алгоритм преобразования"
   ]
  },
  {
   "cell_type": "markdown",
   "metadata": {},
   "source": [
    "**Алгоритм**\n",
    "\n",
    "Домножение обучающих признаков X на случайную обратимую матрицу P размером 4х4 и будет алгоритмом преобразования. Создадим модель линейной регрессии до преобразования и посчитаем R2.\n",
    "после - умножим исходные признаки на обратимую матрицу и на основе полученных значений вновь посчитаем R2."
   ]
  },
  {
   "cell_type": "markdown",
   "metadata": {},
   "source": [
    "<div class=\"alert alert-success\">\n",
    "<b>✔️ Комментарий ревьювера:</b> Описание алгоритма правильное.\n",
    "\n",
    "</div>"
   ]
  },
  {
   "cell_type": "markdown",
   "metadata": {},
   "source": [
    "**Обоснование**\n",
    "\n",
    "домножение признаков на обратимую матрицу не приводит к изменению предсказаний, поэтому результаты R2 должны оказаться равны."
   ]
  },
  {
   "cell_type": "markdown",
   "metadata": {},
   "source": [
    "## Проверка алгоритма"
   ]
  },
  {
   "cell_type": "code",
   "execution_count": 8,
   "metadata": {},
   "outputs": [
    {
     "data": {
      "text/html": [
       "<div>\n",
       "<style scoped>\n",
       "    .dataframe tbody tr th:only-of-type {\n",
       "        vertical-align: middle;\n",
       "    }\n",
       "\n",
       "    .dataframe tbody tr th {\n",
       "        vertical-align: top;\n",
       "    }\n",
       "\n",
       "    .dataframe thead th {\n",
       "        text-align: right;\n",
       "    }\n",
       "</style>\n",
       "<table border=\"1\" class=\"dataframe\">\n",
       "  <thead>\n",
       "    <tr style=\"text-align: right;\">\n",
       "      <th></th>\n",
       "      <th>Пол</th>\n",
       "      <th>Возраст</th>\n",
       "      <th>Зарплата</th>\n",
       "      <th>Члены семьи</th>\n",
       "    </tr>\n",
       "  </thead>\n",
       "  <tbody>\n",
       "    <tr>\n",
       "      <th>0</th>\n",
       "      <td>1</td>\n",
       "      <td>41.000</td>\n",
       "      <td>49600.000</td>\n",
       "      <td>1</td>\n",
       "    </tr>\n",
       "    <tr>\n",
       "      <th>1</th>\n",
       "      <td>0</td>\n",
       "      <td>46.000</td>\n",
       "      <td>38000.000</td>\n",
       "      <td>1</td>\n",
       "    </tr>\n",
       "    <tr>\n",
       "      <th>2</th>\n",
       "      <td>0</td>\n",
       "      <td>29.000</td>\n",
       "      <td>21000.000</td>\n",
       "      <td>0</td>\n",
       "    </tr>\n",
       "    <tr>\n",
       "      <th>3</th>\n",
       "      <td>0</td>\n",
       "      <td>21.000</td>\n",
       "      <td>41700.000</td>\n",
       "      <td>2</td>\n",
       "    </tr>\n",
       "    <tr>\n",
       "      <th>4</th>\n",
       "      <td>1</td>\n",
       "      <td>28.000</td>\n",
       "      <td>26100.000</td>\n",
       "      <td>0</td>\n",
       "    </tr>\n",
       "  </tbody>\n",
       "</table>\n",
       "</div>"
      ],
      "text/plain": [
       "   Пол  Возраст  Зарплата  Члены семьи\n",
       "0    1   41.000 49600.000            1\n",
       "1    0   46.000 38000.000            1\n",
       "2    0   29.000 21000.000            0\n",
       "3    0   21.000 41700.000            2\n",
       "4    1   28.000 26100.000            0"
      ]
     },
     "metadata": {},
     "output_type": "display_data"
    },
    {
     "data": {
      "text/plain": [
       "0    0\n",
       "1    1\n",
       "2    0\n",
       "3    0\n",
       "4    0\n",
       "Name: Страховые выплаты, dtype: int64"
      ]
     },
     "metadata": {},
     "output_type": "display_data"
    }
   ],
   "source": [
    "# необходимо создать признаки для исходного состояния\n",
    "features = data.drop('Страховые выплаты', axis=1)\n",
    "target = data['Страховые выплаты']\n",
    "display(features.head())\n",
    "display(target.head())"
   ]
  },
  {
   "cell_type": "code",
   "execution_count": 9,
   "metadata": {},
   "outputs": [
    {
     "name": "stdout",
     "output_type": "stream",
     "text": [
      "R2 для признаков в исходном состоянии = 0.4302010044852066\n"
     ]
    }
   ],
   "source": [
    "# проведем моделирование\n",
    "model = LinearRegression()\n",
    "model.fit(features, target)\n",
    "predictions = model.predict(features)\n",
    "r2 = r2_score(target, predictions)\n",
    "print(f'R2 для признаков в исходном состоянии = {r2}')"
   ]
  },
  {
   "cell_type": "markdown",
   "metadata": {},
   "source": [
    "4.1\n",
    "Необходимо создать обратимую матрицу размером 4 на 4. Очень важно не создать случайной необратимую матрицу, т.к. это нарушит наш алгоритм. По одной из теорем обратных матриц: для существования обратной матрицы $A^{-1}$ необходимо и достаточно, чтобы матрица $A$ была невырожденной, то есть, чтобы ее определитель не был равен нулю. Заложим проверку данного условия при создании обратимой матрицы."
   ]
  },
  {
   "cell_type": "code",
   "execution_count": 10,
   "metadata": {
    "scrolled": true
   },
   "outputs": [
    {
     "data": {
      "text/plain": [
       "array([[ 0.36383896, -0.5220551 , -0.4189048 ,  0.08114267],\n",
       "       [-1.296579  ,  0.14126551,  0.92924744,  0.63391971],\n",
       "       [-0.52817965,  0.28234641,  1.01555242,  0.51667417],\n",
       "       [-0.24023876, -0.79956076,  2.44438932, -0.55573747]])"
      ]
     },
     "execution_count": 10,
     "metadata": {},
     "output_type": "execute_result"
    }
   ],
   "source": [
    "det = 0 # задали исходную точку определителя  (детерминанта матрицы). Прочитал на Zaochnik.com: некоторое число, с которым можно сопоставить любую квадратную матрицу А\n",
    "P = 0\n",
    "while det == 0:\n",
    "    P = np.random.normal(size=(4, 4))\n",
    "    det = np.linalg.det(P)\n",
    "P"
   ]
  },
  {
   "cell_type": "markdown",
   "metadata": {},
   "source": [
    "<div class=\"alert alert-success\">\n",
    "<b>✔️ Комментарий ревьювера:</b> Здорово, что выполнил проверку матрицы на обратимость в цикле.\n",
    "\n",
    "</div>"
   ]
  },
  {
   "cell_type": "markdown",
   "metadata": {},
   "source": [
    "# Вывод \n",
    "Матрица обратима. Теперь нужно умножить исходные признаки на нашу матрицу."
   ]
  },
  {
   "cell_type": "code",
   "execution_count": 11,
   "metadata": {},
   "outputs": [
    {
     "data": {
      "text/html": [
       "<div>\n",
       "<style scoped>\n",
       "    .dataframe tbody tr th:only-of-type {\n",
       "        vertical-align: middle;\n",
       "    }\n",
       "\n",
       "    .dataframe tbody tr th {\n",
       "        vertical-align: top;\n",
       "    }\n",
       "\n",
       "    .dataframe thead th {\n",
       "        text-align: right;\n",
       "    }\n",
       "</style>\n",
       "<table border=\"1\" class=\"dataframe\">\n",
       "  <thead>\n",
       "    <tr style=\"text-align: right;\">\n",
       "      <th></th>\n",
       "      <th>0</th>\n",
       "      <th>1</th>\n",
       "      <th>2</th>\n",
       "      <th>3</th>\n",
       "    </tr>\n",
       "  </thead>\n",
       "  <tbody>\n",
       "    <tr>\n",
       "      <th>0</th>\n",
       "      <td>-26250.747</td>\n",
       "      <td>14008.852</td>\n",
       "      <td>50411.525</td>\n",
       "      <td>25652.555</td>\n",
       "    </tr>\n",
       "    <tr>\n",
       "      <th>1</th>\n",
       "      <td>-20130.709</td>\n",
       "      <td>10734.862</td>\n",
       "      <td>38636.182</td>\n",
       "      <td>19662.223</td>\n",
       "    </tr>\n",
       "    <tr>\n",
       "      <th>2</th>\n",
       "      <td>-11129.373</td>\n",
       "      <td>5933.371</td>\n",
       "      <td>21353.549</td>\n",
       "      <td>10868.541</td>\n",
       "    </tr>\n",
       "    <tr>\n",
       "      <th>3</th>\n",
       "      <td>-22052.800</td>\n",
       "      <td>11775.213</td>\n",
       "      <td>42372.939</td>\n",
       "      <td>21557.514</td>\n",
       "    </tr>\n",
       "    <tr>\n",
       "      <th>4</th>\n",
       "      <td>-13821.429</td>\n",
       "      <td>7372.675</td>\n",
       "      <td>26531.518</td>\n",
       "      <td>13503.027</td>\n",
       "    </tr>\n",
       "  </tbody>\n",
       "</table>\n",
       "</div>"
      ],
      "text/plain": [
       "           0         1         2         3\n",
       "0 -26250.747 14008.852 50411.525 25652.555\n",
       "1 -20130.709 10734.862 38636.182 19662.223\n",
       "2 -11129.373  5933.371 21353.549 10868.541\n",
       "3 -22052.800 11775.213 42372.939 21557.514\n",
       "4 -13821.429  7372.675 26531.518 13503.027"
      ]
     },
     "execution_count": 11,
     "metadata": {},
     "output_type": "execute_result"
    }
   ],
   "source": [
    "features_new = features @ P\n",
    "features_new.head()"
   ]
  },
  {
   "cell_type": "markdown",
   "metadata": {},
   "source": [
    "4.2 \n",
    "Произведем моделирование на измененных признаках "
   ]
  },
  {
   "cell_type": "code",
   "execution_count": 12,
   "metadata": {
    "scrolled": true
   },
   "outputs": [
    {
     "name": "stdout",
     "output_type": "stream",
     "text": [
      "R2 для признаков в умноженном состоянии = 0.4302010044852136\n"
     ]
    }
   ],
   "source": [
    "model_1 = LinearRegression()\n",
    "model_1.fit(features_new, target)\n",
    "predictions = model_1.predict(features_new)\n",
    "r2_new = r2_score(target, predictions)\n",
    "print(f'R2 для признаков в умноженном состоянии = {r2_new}')"
   ]
  },
  {
   "cell_type": "markdown",
   "metadata": {},
   "source": [
    "<div class=\"alert alert-success\">\n",
    "<b>✔️ Комментарий ревьювера:</b> Качество предсказания действительно не изменяется, результат достигнут!\n",
    "    \n",
    "Еще могу порекомендовать вот такой материал:\n",
    "    \n",
    "https://habr.com/ru/post/479398/\n",
    "\n",
    "https://habr.com/ru/company/vk/blog/478514/ Применение зашифрованных данных для машинного обучения\n",
    "\n",
    "https://www.amazon.science/blog/machine-learning-models-that-act-on-encrypted-data#:~:text=Privacy%2Dpreserving%20machine%20learning%20 Privacy-preserving machine learning (PPML)\n",
    " \n",
    "</div>"
   ]
  },
  {
   "cell_type": "markdown",
   "metadata": {},
   "source": [
    "# Вывод \n",
    " - при сравнении качества можелей до и после преобразований R2 обеих моделей одинаковые\n"
   ]
  },
  {
   "cell_type": "markdown",
   "metadata": {},
   "source": [
    "# Общие выводы:\n",
    " - данные загружены корректно, пропусков не обнаружено.\n",
    " - Типы данных в порядке и не требуют замены.\n",
    " - Значительных выбросов и аномалий не выявлено.\n",
    " - Выявлены дубликатов = 153, удалили.\n",
    " - при сравнении качества можелей до и после преобразований R2 обеих моделей одиннаковые\n",
    " - Умножение исходных данных на случайную обратимую матрицу может быть применено для их шифрования."
   ]
  },
  {
   "cell_type": "markdown",
   "metadata": {},
   "source": [
    "<font color=blue>\n",
    "<b> ✔️ 👍Заключение ревьювера:</b> Александр, было приятно проверять твою работу, она выполнена на хорошем уровне! \n",
    "   \n",
    "Могу отметить грамотно составленный код, хорошую практическую часть, доказательство без ошибок =)\n",
    "    \n",
    "Особых замечаний по работе нет, я отметил только рекомендации!\n",
    "    \n",
    "Отправляю работу для ознакомления с ходом проверки, а также если есть вопросы — смело задавай их, я постараюсь тебе помочь 😊\n",
    "\n",
    "Жду твоего ответа!\n",
    "</font>"
   ]
  },
  {
   "cell_type": "markdown",
   "metadata": {},
   "source": [
    "<div class=\"alert alert-info\"> <b> Комментарий студента: </b> Арсен, спасибо за ревью моего проекта. Я на выходных поизучаю Youtube и по ссылкам полажу.) </div>"
   ]
  },
  {
   "cell_type": "markdown",
   "metadata": {},
   "source": [
    "<div class=\"alert alert-success\">\n",
    "<b>✔️ Комментарий ревьювера (v2):</b> Александр, рад был помочь =)\n",
    "    \n",
    "Желаю успехов в дальнейших проектах!\n",
    " \n",
    "</div>"
   ]
  },
  {
   "cell_type": "markdown",
   "metadata": {},
   "source": [
    "## Чек-лист проверки"
   ]
  },
  {
   "cell_type": "markdown",
   "metadata": {},
   "source": [
    "Поставьте 'x' в выполненных пунктах. Далее нажмите Shift+Enter."
   ]
  },
  {
   "cell_type": "markdown",
   "metadata": {},
   "source": [
    "- [x]  Jupyter Notebook открыт\n",
    "- [ ]  Весь код выполняется без ошибок\n",
    "- [ ]  Ячейки с кодом расположены в порядке исполнения\n",
    "- [ ]  Выполнен шаг 1: данные загружены\n",
    "- [ ]  Выполнен шаг 2: получен ответ на вопрос об умножении матриц\n",
    "    - [ ]  Указан правильный вариант ответа\n",
    "    - [ ]  Вариант обоснован\n",
    "- [ ]  Выполнен шаг 3: предложен алгоритм преобразования\n",
    "    - [ ]  Алгоритм описан\n",
    "    - [ ]  Алгоритм обоснован\n",
    "- [ ]  Выполнен шаг 4: алгоритм проверен\n",
    "    - [ ]  Алгоритм реализован\n",
    "    - [ ]  Проведено сравнение качества моделей до и после преобразования"
   ]
  },
  {
   "cell_type": "code",
   "execution_count": null,
   "metadata": {},
   "outputs": [],
   "source": []
  }
 ],
 "metadata": {
  "ExecuteTimeLog": [
   {
    "duration": 1488,
    "start_time": "2022-07-07T07:09:18.980Z"
   },
   {
    "duration": 143,
    "start_time": "2022-07-07T07:09:41.555Z"
   },
   {
    "duration": 56,
    "start_time": "2022-07-07T07:10:09.399Z"
   },
   {
    "duration": 10,
    "start_time": "2022-07-07T07:10:17.653Z"
   },
   {
    "duration": 75,
    "start_time": "2022-07-07T07:11:40.311Z"
   },
   {
    "duration": 28,
    "start_time": "2022-07-07T07:11:57.947Z"
   },
   {
    "duration": 33,
    "start_time": "2022-07-07T07:12:11.449Z"
   },
   {
    "duration": 28,
    "start_time": "2022-07-07T07:13:30.391Z"
   },
   {
    "duration": 772,
    "start_time": "2022-07-07T07:14:40.591Z"
   },
   {
    "duration": 6,
    "start_time": "2022-07-07T07:15:00.011Z"
   },
   {
    "duration": 10,
    "start_time": "2022-07-07T07:15:16.051Z"
   },
   {
    "duration": 444,
    "start_time": "2022-07-07T07:16:45.275Z"
   },
   {
    "duration": 1469,
    "start_time": "2022-07-08T06:38:13.328Z"
   },
   {
    "duration": 74,
    "start_time": "2022-07-08T06:38:14.799Z"
   },
   {
    "duration": 22,
    "start_time": "2022-07-08T06:38:14.875Z"
   },
   {
    "duration": 849,
    "start_time": "2022-07-08T06:38:14.898Z"
   },
   {
    "duration": 7,
    "start_time": "2022-07-08T06:38:15.748Z"
   },
   {
    "duration": 8,
    "start_time": "2022-07-08T06:38:15.764Z"
   },
   {
    "duration": 493,
    "start_time": "2022-07-08T06:38:15.774Z"
   },
   {
    "duration": 194,
    "start_time": "2022-07-08T06:51:22.220Z"
   },
   {
    "duration": 1664,
    "start_time": "2022-07-09T13:47:02.054Z"
   },
   {
    "duration": 72,
    "start_time": "2022-07-09T13:47:03.721Z"
   },
   {
    "duration": 22,
    "start_time": "2022-07-09T13:47:03.794Z"
   },
   {
    "duration": 844,
    "start_time": "2022-07-09T13:47:03.818Z"
   },
   {
    "duration": 9,
    "start_time": "2022-07-09T13:47:04.664Z"
   },
   {
    "duration": 13,
    "start_time": "2022-07-09T13:47:04.675Z"
   },
   {
    "duration": 477,
    "start_time": "2022-07-09T13:47:04.690Z"
   },
   {
    "duration": 1624,
    "start_time": "2022-07-10T09:14:03.191Z"
   },
   {
    "duration": 69,
    "start_time": "2022-07-10T09:14:04.817Z"
   },
   {
    "duration": 23,
    "start_time": "2022-07-10T09:14:04.888Z"
   },
   {
    "duration": 841,
    "start_time": "2022-07-10T09:14:04.912Z"
   },
   {
    "duration": 5,
    "start_time": "2022-07-10T09:14:05.755Z"
   },
   {
    "duration": 10,
    "start_time": "2022-07-10T09:14:05.762Z"
   },
   {
    "duration": 536,
    "start_time": "2022-07-10T09:14:05.773Z"
   },
   {
    "duration": 12,
    "start_time": "2022-07-10T09:14:34.585Z"
   },
   {
    "duration": 13,
    "start_time": "2022-07-10T09:15:36.401Z"
   },
   {
    "duration": 5,
    "start_time": "2022-07-10T09:21:41.153Z"
   },
   {
    "duration": 7,
    "start_time": "2022-07-10T09:22:08.302Z"
   },
   {
    "duration": 9,
    "start_time": "2022-07-10T09:23:15.143Z"
   },
   {
    "duration": 11,
    "start_time": "2022-07-10T09:25:54.427Z"
   },
   {
    "duration": 101,
    "start_time": "2022-07-10T09:27:28.102Z"
   },
   {
    "duration": 8,
    "start_time": "2022-07-10T09:27:41.428Z"
   },
   {
    "duration": 17,
    "start_time": "2022-07-10T09:27:44.929Z"
   },
   {
    "duration": 11,
    "start_time": "2022-07-10T09:27:52.331Z"
   },
   {
    "duration": 3,
    "start_time": "2022-07-10T09:34:13.058Z"
   },
   {
    "duration": 5,
    "start_time": "2022-07-10T09:34:24.598Z"
   },
   {
    "duration": 5,
    "start_time": "2022-07-10T09:34:52.169Z"
   },
   {
    "duration": 5,
    "start_time": "2022-07-10T09:35:08.329Z"
   },
   {
    "duration": 5,
    "start_time": "2022-07-10T09:35:13.169Z"
   },
   {
    "duration": 1733,
    "start_time": "2022-07-12T08:10:20.341Z"
   },
   {
    "duration": 75,
    "start_time": "2022-07-12T08:10:22.076Z"
   },
   {
    "duration": 24,
    "start_time": "2022-07-12T08:10:22.153Z"
   },
   {
    "duration": 1050,
    "start_time": "2022-07-12T08:10:22.179Z"
   },
   {
    "duration": 7,
    "start_time": "2022-07-12T08:10:23.230Z"
   },
   {
    "duration": 12,
    "start_time": "2022-07-12T08:10:23.240Z"
   },
   {
    "duration": 457,
    "start_time": "2022-07-12T08:10:23.254Z"
   },
   {
    "duration": 15,
    "start_time": "2022-07-12T08:10:23.713Z"
   },
   {
    "duration": 20,
    "start_time": "2022-07-12T08:10:23.730Z"
   },
   {
    "duration": 101,
    "start_time": "2022-07-12T08:10:23.826Z"
   },
   {
    "duration": 12,
    "start_time": "2022-07-12T08:10:23.929Z"
   },
   {
    "duration": 83,
    "start_time": "2022-07-12T08:10:23.943Z"
   },
   {
    "duration": 14,
    "start_time": "2022-07-12T08:10:24.028Z"
   },
   {
    "duration": 100,
    "start_time": "2022-07-12T08:10:24.125Z"
   },
   {
    "duration": 992,
    "start_time": "2022-07-12T08:40:12.887Z"
   },
   {
    "duration": 995,
    "start_time": "2022-07-12T08:46:24.699Z"
   },
   {
    "duration": 1170,
    "start_time": "2022-07-12T08:46:40.195Z"
   },
   {
    "duration": 11,
    "start_time": "2022-07-12T09:32:16.471Z"
   },
   {
    "duration": 10,
    "start_time": "2022-07-12T10:39:50.861Z"
   },
   {
    "duration": 14,
    "start_time": "2022-07-12T10:39:59.082Z"
   },
   {
    "duration": 8,
    "start_time": "2022-07-12T10:41:11.132Z"
   },
   {
    "duration": 12,
    "start_time": "2022-07-12T10:42:04.851Z"
   },
   {
    "duration": 1744,
    "start_time": "2022-07-12T11:29:55.654Z"
   },
   {
    "duration": 151,
    "start_time": "2022-07-12T11:29:57.400Z"
   },
   {
    "duration": 20,
    "start_time": "2022-07-12T11:29:57.553Z"
   },
   {
    "duration": 765,
    "start_time": "2022-07-12T11:29:57.576Z"
   },
   {
    "duration": 12,
    "start_time": "2022-07-12T11:29:58.342Z"
   },
   {
    "duration": 7,
    "start_time": "2022-07-12T11:29:58.356Z"
   },
   {
    "duration": 458,
    "start_time": "2022-07-12T11:29:58.365Z"
   },
   {
    "duration": 8,
    "start_time": "2022-07-12T11:29:58.825Z"
   },
   {
    "duration": 18,
    "start_time": "2022-07-12T11:29:58.835Z"
   },
   {
    "duration": 97,
    "start_time": "2022-07-12T11:29:58.856Z"
   },
   {
    "duration": 98,
    "start_time": "2022-07-12T11:29:58.955Z"
   },
   {
    "duration": 9,
    "start_time": "2022-07-12T11:29:59.054Z"
   }
  ],
  "kernelspec": {
   "display_name": "Python 3 (ipykernel)",
   "language": "python",
   "name": "python3"
  },
  "language_info": {
   "codemirror_mode": {
    "name": "ipython",
    "version": 3
   },
   "file_extension": ".py",
   "mimetype": "text/x-python",
   "name": "python",
   "nbconvert_exporter": "python",
   "pygments_lexer": "ipython3",
   "version": "3.9.5"
  },
  "toc": {
   "base_numbering": 1,
   "nav_menu": {},
   "number_sections": true,
   "sideBar": true,
   "skip_h1_title": true,
   "title_cell": "Содержание",
   "title_sidebar": "Contents",
   "toc_cell": true,
   "toc_position": {
    "height": "calc(100% - 180px)",
    "left": "10px",
    "top": "150px",
    "width": "246.163px"
   },
   "toc_section_display": true,
   "toc_window_display": true
  }
 },
 "nbformat": 4,
 "nbformat_minor": 2
}
