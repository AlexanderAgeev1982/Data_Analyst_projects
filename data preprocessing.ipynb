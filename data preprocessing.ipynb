{
 "cells": [
  {
   "cell_type": "markdown",
   "metadata": {},
   "source": [
    "<div style=\"border:solid green 3px; padding: 20px\">\n",
    "\t\n",
    "<b>Привет, Александр! :)</b>\n",
    "\t\n",
    "Меня зовут Сороколетов Илья и я буду проверять твой проект. \n",
    "\t\n",
    "Предлагаю общаться на «**ты**», но если тебе будет комфортнее общаться на «**вы**», то сообщи об этом в комментариях)\n",
    "\t\n",
    "\t\n",
    "Для твоего удобства, я буду выделять свои комментарии следующим образом:\n",
    "\t\n",
    "<div class=\"alert alert-danger\">\n",
    "<b>❌ Комментарий ревьюера:</b> Самые важные замечания. Они указывают на ключевые моменты, которые влияют на конечный результат проекта. </div>\n",
    "\t\n",
    "<div class=\"alert alert-warning\">\n",
    "<b>⚠️ Комментарий ревьюера:</b> Советы или замечания, которые помогут сделать твою работу лучше, но необязательны к выполнению.\n",
    "\t\n",
    "</div>\n",
    "\t\n",
    "<div class=\"alert alert-success\">\n",
    "<b>✔️ Комментарий ревьюера:</b> Так я выделяю все остальные комментарии.</div>\n",
    "\t\n",
    "Давай работать над проектом в диалоге: если ты что-то меняешь в проекте по моим рекомендациям — пиши об этом. Выбери для своих комментариев какой-то заметный цвет, так мне будет легче отследить изменения, например вот так:\n",
    "<div class=\"alert alert-info\">\n",
    "<b>Комментарий студента:</b>\n",
    "<br>\n",
    "</div>\n",
    "\t\n",
    "Пожалуйста, не перемещай, не изменяй и не удаляй мои комментарии. Всё это поможет выполнить повторную проверку твоего проекта оперативнее. \n",
    "\t\n",
    "Обязательно задавай вопросы если они возникнут, а я перехожу к проверке)"
   ]
  },
  {
   "cell_type": "markdown",
   "metadata": {},
   "source": [
    "# Исследование надёжности заёмщиков\n",
    "\n",
    "Заказчик — кредитный отдел банка. Нужно разобраться, влияет ли семейное положение и количество детей клиента на факт погашения кредита в срок. Входные данные от банка — статистика о платёжеспособности клиентов.\n",
    "\n",
    "Результаты исследования будут учтены при построении модели **кредитного скоринга** — специальной системы, которая оценивает способность потенциального заёмщика вернуть кредит банку."
   ]
  },
  {
   "cell_type": "markdown",
   "metadata": {},
   "source": [
    "## Шаг 1. Откройте файл с данными и изучите общую информацию"
   ]
  },
  {
   "cell_type": "code",
   "execution_count": 1,
   "metadata": {},
   "outputs": [
    {
     "name": "stdout",
     "output_type": "stream",
     "text": [
      "<class 'pandas.core.frame.DataFrame'>\n",
      "RangeIndex: 21525 entries, 0 to 21524\n",
      "Data columns (total 12 columns):\n",
      "children            21525 non-null int64\n",
      "days_employed       19351 non-null float64\n",
      "dob_years           21525 non-null int64\n",
      "education           21525 non-null object\n",
      "education_id        21525 non-null int64\n",
      "family_status       21525 non-null object\n",
      "family_status_id    21525 non-null int64\n",
      "gender              21525 non-null object\n",
      "income_type         21525 non-null object\n",
      "debt                21525 non-null int64\n",
      "total_income        19351 non-null float64\n",
      "purpose             21525 non-null object\n",
      "dtypes: float64(2), int64(5), object(5)\n",
      "memory usage: 2.0+ MB\n"
     ]
    }
   ],
   "source": [
    "import pandas as pd\n",
    "data = pd.read_csv('/datasets/data.csv') #импортируем pandas в таблицу 'data'\n",
    "data.info()"
   ]
  },
  {
   "cell_type": "markdown",
   "metadata": {},
   "source": [
    "**Вывод**\n",
    "вывел таблицу на экран для изучения как видно на первый взгляд, есть значения минусовые, вещественные, используется разный регистр. Требуется предобработка для приведения data frame в подходящий для анализа вид. "
   ]
  },
  {
   "cell_type": "markdown",
   "metadata": {},
   "source": [
    "<div class=\"alert alert-danger\">\n",
    "<b>❌ Комментарий ревьюера:</b> \n",
    "<br>Тут необходимо применить метод info() и написать в каких столбцах есть пропуски, где нужно изменить тип данных, а также описать другие аномалии\n",
    "</div>"
   ]
  },
  {
   "cell_type": "markdown",
   "metadata": {},
   "source": [
    "<div class=\"alert alert-info\">\n",
    "<b>Комментарий студента:</b>\n",
    "1) вывел таблицу на экран для изучения\n",
    "как видно на первый взгляд, есть значения минусовые, вещественные, используется разный регистр. Требуется предобработка для приведения data frame в подходящий для анализа вид.\n",
    "2) использовал метод info() где увидел 2 столбца с пропусками:  'days_employed' и 'total_income'.в каждом по 2174 пропуска. "
   ]
  },
  {
   "cell_type": "markdown",
   "metadata": {},
   "source": [
    "<div class=\"alert alert-success\">\n",
    "<b>✔️ Комментарий ревьюера v2:</b> \n",
    "<br>Всё верно! Целью первичного анализа данных является выявление проблем с данными, с которыми нужно будет поработать. Чем больше всего мы найдём в этом шаге, тем лучше сможем построить дальнейший план работы и понять с чем нам стоит работать, а на что можно закрыть глаза.\n",
    "</div>\n",
    "\n",
    "<div class=\"alert alert-warning\">\n",
    "<b>⚠️ Комментарий ревьюера v2:</b> \n",
    "<br>Что можно обнаружить ещё при первичном анализе данных:    \n",
    "<br>- столбец children - выбросы (20 детей)\n",
    "<br>- столбец days_employed - пропуски, выбросы\n",
    "<br>- столбец dob_years - нулевые значения\n",
    "<br>- столбец gender - содержит артефакт\n",
    "<br>- столбец total_income - пропуски\n",
    "<br>- столбец purpose - много аналогичных формулировок, которые можно категоризировать\n",
    "<br>Подумай также о возможных причинах появления пропусков, а также о том, являются ли они случайными или нет.\n",
    "<br>Во время первичного анализа данных, часто может помочь метод describe(). Он покажет тебе min/mean/max значения в каждом столбце и многое другое)\n",
    "</div>"
   ]
  },
  {
   "cell_type": "markdown",
   "metadata": {},
   "source": [
    "## Шаг 2. Предобработка данных"
   ]
  },
  {
   "cell_type": "markdown",
   "metadata": {},
   "source": [
    "### Обработка пропусков"
   ]
  },
  {
   "cell_type": "code",
   "execution_count": 2,
   "metadata": {},
   "outputs": [
    {
     "name": "stdout",
     "output_type": "stream",
     "text": [
      "income_type\n",
      "безработный        131339.751676\n",
      "в декрете           53829.130729\n",
      "госслужащий        150447.935283\n",
      "компаньон          172357.950966\n",
      "пенсионер          118514.486412\n",
      "предприниматель    499163.144947\n",
      "сотрудник          142594.396847\n",
      "студент             98201.625314\n",
      "Name: total_income, dtype: float64\n"
     ]
    },
    {
     "data": {
      "text/html": [
       "<div>\n",
       "<style scoped>\n",
       "    .dataframe tbody tr th:only-of-type {\n",
       "        vertical-align: middle;\n",
       "    }\n",
       "\n",
       "    .dataframe tbody tr th {\n",
       "        vertical-align: top;\n",
       "    }\n",
       "\n",
       "    .dataframe thead th {\n",
       "        text-align: right;\n",
       "    }\n",
       "</style>\n",
       "<table border=\"1\" class=\"dataframe\">\n",
       "  <thead>\n",
       "    <tr style=\"text-align: right;\">\n",
       "      <th></th>\n",
       "      <th>children</th>\n",
       "      <th>days_employed</th>\n",
       "      <th>dob_years</th>\n",
       "      <th>education</th>\n",
       "      <th>education_id</th>\n",
       "      <th>family_status</th>\n",
       "      <th>family_status_id</th>\n",
       "      <th>gender</th>\n",
       "      <th>income_type</th>\n",
       "      <th>debt</th>\n",
       "      <th>total_income</th>\n",
       "      <th>purpose</th>\n",
       "    </tr>\n",
       "  </thead>\n",
       "  <tbody>\n",
       "    <tr>\n",
       "      <td>0</td>\n",
       "      <td>1</td>\n",
       "      <td>-8437.673028</td>\n",
       "      <td>42</td>\n",
       "      <td>высшее</td>\n",
       "      <td>0</td>\n",
       "      <td>женат / замужем</td>\n",
       "      <td>0</td>\n",
       "      <td>F</td>\n",
       "      <td>сотрудник</td>\n",
       "      <td>0</td>\n",
       "      <td>253875</td>\n",
       "      <td>покупка жилья</td>\n",
       "    </tr>\n",
       "    <tr>\n",
       "      <td>1</td>\n",
       "      <td>1</td>\n",
       "      <td>-4024.803754</td>\n",
       "      <td>36</td>\n",
       "      <td>среднее</td>\n",
       "      <td>1</td>\n",
       "      <td>женат / замужем</td>\n",
       "      <td>0</td>\n",
       "      <td>F</td>\n",
       "      <td>сотрудник</td>\n",
       "      <td>0</td>\n",
       "      <td>112080</td>\n",
       "      <td>приобретение автомобиля</td>\n",
       "    </tr>\n",
       "    <tr>\n",
       "      <td>2</td>\n",
       "      <td>0</td>\n",
       "      <td>-5623.422610</td>\n",
       "      <td>33</td>\n",
       "      <td>Среднее</td>\n",
       "      <td>1</td>\n",
       "      <td>женат / замужем</td>\n",
       "      <td>0</td>\n",
       "      <td>M</td>\n",
       "      <td>сотрудник</td>\n",
       "      <td>0</td>\n",
       "      <td>145885</td>\n",
       "      <td>покупка жилья</td>\n",
       "    </tr>\n",
       "    <tr>\n",
       "      <td>3</td>\n",
       "      <td>3</td>\n",
       "      <td>-4124.747207</td>\n",
       "      <td>32</td>\n",
       "      <td>среднее</td>\n",
       "      <td>1</td>\n",
       "      <td>женат / замужем</td>\n",
       "      <td>0</td>\n",
       "      <td>M</td>\n",
       "      <td>сотрудник</td>\n",
       "      <td>0</td>\n",
       "      <td>267628</td>\n",
       "      <td>дополнительное образование</td>\n",
       "    </tr>\n",
       "    <tr>\n",
       "      <td>4</td>\n",
       "      <td>0</td>\n",
       "      <td>340266.072047</td>\n",
       "      <td>53</td>\n",
       "      <td>среднее</td>\n",
       "      <td>1</td>\n",
       "      <td>гражданский брак</td>\n",
       "      <td>1</td>\n",
       "      <td>F</td>\n",
       "      <td>пенсионер</td>\n",
       "      <td>0</td>\n",
       "      <td>158616</td>\n",
       "      <td>сыграть свадьбу</td>\n",
       "    </tr>\n",
       "    <tr>\n",
       "      <td>...</td>\n",
       "      <td>...</td>\n",
       "      <td>...</td>\n",
       "      <td>...</td>\n",
       "      <td>...</td>\n",
       "      <td>...</td>\n",
       "      <td>...</td>\n",
       "      <td>...</td>\n",
       "      <td>...</td>\n",
       "      <td>...</td>\n",
       "      <td>...</td>\n",
       "      <td>...</td>\n",
       "      <td>...</td>\n",
       "    </tr>\n",
       "    <tr>\n",
       "      <td>21520</td>\n",
       "      <td>1</td>\n",
       "      <td>-4529.316663</td>\n",
       "      <td>43</td>\n",
       "      <td>среднее</td>\n",
       "      <td>1</td>\n",
       "      <td>гражданский брак</td>\n",
       "      <td>1</td>\n",
       "      <td>F</td>\n",
       "      <td>компаньон</td>\n",
       "      <td>0</td>\n",
       "      <td>224791</td>\n",
       "      <td>операции с жильем</td>\n",
       "    </tr>\n",
       "    <tr>\n",
       "      <td>21521</td>\n",
       "      <td>0</td>\n",
       "      <td>343937.404131</td>\n",
       "      <td>67</td>\n",
       "      <td>среднее</td>\n",
       "      <td>1</td>\n",
       "      <td>женат / замужем</td>\n",
       "      <td>0</td>\n",
       "      <td>F</td>\n",
       "      <td>пенсионер</td>\n",
       "      <td>0</td>\n",
       "      <td>155999</td>\n",
       "      <td>сделка с автомобилем</td>\n",
       "    </tr>\n",
       "    <tr>\n",
       "      <td>21522</td>\n",
       "      <td>1</td>\n",
       "      <td>-2113.346888</td>\n",
       "      <td>38</td>\n",
       "      <td>среднее</td>\n",
       "      <td>1</td>\n",
       "      <td>гражданский брак</td>\n",
       "      <td>1</td>\n",
       "      <td>M</td>\n",
       "      <td>сотрудник</td>\n",
       "      <td>1</td>\n",
       "      <td>89672</td>\n",
       "      <td>недвижимость</td>\n",
       "    </tr>\n",
       "    <tr>\n",
       "      <td>21523</td>\n",
       "      <td>3</td>\n",
       "      <td>-3112.481705</td>\n",
       "      <td>38</td>\n",
       "      <td>среднее</td>\n",
       "      <td>1</td>\n",
       "      <td>женат / замужем</td>\n",
       "      <td>0</td>\n",
       "      <td>M</td>\n",
       "      <td>сотрудник</td>\n",
       "      <td>1</td>\n",
       "      <td>244093</td>\n",
       "      <td>на покупку своего автомобиля</td>\n",
       "    </tr>\n",
       "    <tr>\n",
       "      <td>21524</td>\n",
       "      <td>2</td>\n",
       "      <td>-1984.507589</td>\n",
       "      <td>40</td>\n",
       "      <td>среднее</td>\n",
       "      <td>1</td>\n",
       "      <td>женат / замужем</td>\n",
       "      <td>0</td>\n",
       "      <td>F</td>\n",
       "      <td>сотрудник</td>\n",
       "      <td>0</td>\n",
       "      <td>82047</td>\n",
       "      <td>на покупку автомобиля</td>\n",
       "    </tr>\n",
       "  </tbody>\n",
       "</table>\n",
       "<p>21525 rows × 12 columns</p>\n",
       "</div>"
      ],
      "text/plain": [
       "       children  days_employed  dob_years education  education_id  \\\n",
       "0             1   -8437.673028         42    высшее             0   \n",
       "1             1   -4024.803754         36   среднее             1   \n",
       "2             0   -5623.422610         33   Среднее             1   \n",
       "3             3   -4124.747207         32   среднее             1   \n",
       "4             0  340266.072047         53   среднее             1   \n",
       "...         ...            ...        ...       ...           ...   \n",
       "21520         1   -4529.316663         43   среднее             1   \n",
       "21521         0  343937.404131         67   среднее             1   \n",
       "21522         1   -2113.346888         38   среднее             1   \n",
       "21523         3   -3112.481705         38   среднее             1   \n",
       "21524         2   -1984.507589         40   среднее             1   \n",
       "\n",
       "          family_status  family_status_id gender income_type  debt  \\\n",
       "0       женат / замужем                 0      F   сотрудник     0   \n",
       "1       женат / замужем                 0      F   сотрудник     0   \n",
       "2       женат / замужем                 0      M   сотрудник     0   \n",
       "3       женат / замужем                 0      M   сотрудник     0   \n",
       "4      гражданский брак                 1      F   пенсионер     0   \n",
       "...                 ...               ...    ...         ...   ...   \n",
       "21520  гражданский брак                 1      F   компаньон     0   \n",
       "21521   женат / замужем                 0      F   пенсионер     0   \n",
       "21522  гражданский брак                 1      M   сотрудник     1   \n",
       "21523   женат / замужем                 0      M   сотрудник     1   \n",
       "21524   женат / замужем                 0      F   сотрудник     0   \n",
       "\n",
       "       total_income                       purpose  \n",
       "0            253875                 покупка жилья  \n",
       "1            112080       приобретение автомобиля  \n",
       "2            145885                 покупка жилья  \n",
       "3            267628    дополнительное образование  \n",
       "4            158616               сыграть свадьбу  \n",
       "...             ...                           ...  \n",
       "21520        224791             операции с жильем  \n",
       "21521        155999          сделка с автомобилем  \n",
       "21522         89672                  недвижимость  \n",
       "21523        244093  на покупку своего автомобиля  \n",
       "21524         82047         на покупку автомобиля  \n",
       "\n",
       "[21525 rows x 12 columns]"
      ]
     },
     "execution_count": 2,
     "metadata": {},
     "output_type": "execute_result"
    }
   ],
   "source": [
    "#display(data.columns) # проверям нарушения в названиях стоблцов\n",
    "#data.info()\n",
    "#data.isna().sum() #методом 'isna()' и 'sum()' определил\n",
    "#кол-во пропусков в столбцах 'days_employed' и 'total_income' \n",
    "data['days_employed'] = data['days_employed'].fillna(0) #убираем пропуски методом 'fillna()'\n",
    "data_income_type_sum = data.groupby('income_type')['total_income'].median()\n",
    "print(data_income_type_sum)\n",
    "data.sort_values(by='total_income') \n",
    "data['total_income'] = data['total_income'].fillna(data['total_income'].median())\n",
    "data['total_income'] = data['total_income'].astype('int') \n",
    "data.isna().sum() \n",
    "data\n"
   ]
  },
  {
   "cell_type": "markdown",
   "metadata": {},
   "source": [
    "**Вывод**"
   ]
  },
  {
   "cell_type": "markdown",
   "metadata": {},
   "source": [
    "Как правило в данных возможны пропуски в связи с человеческим фактором (возможно пользователь не указал какие-либо данные о себе). Пропуски оказались в стоблбцах 'days_employed' и 'total_income'. Для дальнейшей работы с data frame необходимо его привести в однородное состояние и ликвидировать все пропуски."
   ]
  },
  {
   "cell_type": "markdown",
   "metadata": {},
   "source": [
    "<div class=\"alert alert-danger\">\n",
    "<b>❌ Комментарий ревьюера:</b> \n",
    "<br>Насколько вероятно, что клиент вообще не имеет дохода? В случае со столбцом days_employed так можно поступить, потому что он не участвует в дальнейшем исследовании, но вот столбец total_income нам нужен для ответа на вопросы в конце. Подумай, чем оптимально можно было заменить значение в этом столбце и попробуй реализовать его. Также, обрати внимание на то, что у нас есть разные типы занятости, следовательно найди ЕЁ для каждого типа и используй для замены)\n",
    "</div>"
   ]
  },
  {
   "cell_type": "markdown",
   "metadata": {},
   "source": [
    "<div class=\"alert alert-warning\">\n",
    "<b>⚠️ Комментарий ревьюера:</b> \n",
    "<br>Так как столбец days_employed нам не нужен, то делать с ним что-то не обязательно, но я расскажу как его можно было бы обработать более оптимально:\n",
    "<br>- отрицательные значения взять по модулю\n",
    "<br>- пропуски заполнить медианами по возрасту\n",
    "<br>- аномально высокие значения разделить на 24 и тогда получится вполне себе адекватный стаж (в реальной задаче, прежде чем такое делать, стоит уточнить могла ли быть такая ошибка при выгрузке/заполнении данных)    \n",
    "</div>"
   ]
  },
  {
   "cell_type": "markdown",
   "metadata": {},
   "source": [
    "<div class=\"alert alert-info\">\n",
    "<b>Комментарий студента:</b>\n",
    "1. сгруппировал отдельные типы занятости по столбцу 'income_type'. Вывел медианные ЗП\\доходы\n",
    "2. определил общую медиану среди всех по доходу и ею заменил пропуски в 'total_income'\n",
    "3. сразу изменил тип данных на 'int'.\n",
    "    я пока не понял как проверить пропуски в конкретных типах занятости и как потом именно в них заменить пропуски на их медиану... (?)"
   ]
  },
  {
   "cell_type": "markdown",
   "metadata": {},
   "source": [
    "<div class=\"alert alert-success\">\n",
    "<b>✔️ Комментарий ревьюера v2:</b>\n",
    "<br>Это можно сделать черезе transform()\n",
    "    \n",
    "    df_transformed = df.groupby('income_type')['total_income'].transform('median')\n",
    "    df['total_income'] = df['total_income'].fillna(df_transformed)\n",
    "</div>"
   ]
  },
  {
   "cell_type": "markdown",
   "metadata": {},
   "source": [
    "### Замена типа данных"
   ]
  },
  {
   "cell_type": "code",
   "execution_count": 3,
   "metadata": {},
   "outputs": [
    {
     "data": {
      "text/html": [
       "<div>\n",
       "<style scoped>\n",
       "    .dataframe tbody tr th:only-of-type {\n",
       "        vertical-align: middle;\n",
       "    }\n",
       "\n",
       "    .dataframe tbody tr th {\n",
       "        vertical-align: top;\n",
       "    }\n",
       "\n",
       "    .dataframe thead th {\n",
       "        text-align: right;\n",
       "    }\n",
       "</style>\n",
       "<table border=\"1\" class=\"dataframe\">\n",
       "  <thead>\n",
       "    <tr style=\"text-align: right;\">\n",
       "      <th></th>\n",
       "      <th>children</th>\n",
       "      <th>days_employed</th>\n",
       "      <th>dob_years</th>\n",
       "      <th>education</th>\n",
       "      <th>education_id</th>\n",
       "      <th>family_status</th>\n",
       "      <th>family_status_id</th>\n",
       "      <th>gender</th>\n",
       "      <th>income_type</th>\n",
       "      <th>debt</th>\n",
       "      <th>total_income</th>\n",
       "      <th>purpose</th>\n",
       "    </tr>\n",
       "  </thead>\n",
       "  <tbody>\n",
       "    <tr>\n",
       "      <td>0</td>\n",
       "      <td>1</td>\n",
       "      <td>23</td>\n",
       "      <td>42</td>\n",
       "      <td>высшее</td>\n",
       "      <td>0</td>\n",
       "      <td>женат / замужем</td>\n",
       "      <td>0</td>\n",
       "      <td>F</td>\n",
       "      <td>сотрудник</td>\n",
       "      <td>0</td>\n",
       "      <td>253875</td>\n",
       "      <td>покупка жилья</td>\n",
       "    </tr>\n",
       "    <tr>\n",
       "      <td>1</td>\n",
       "      <td>1</td>\n",
       "      <td>11</td>\n",
       "      <td>36</td>\n",
       "      <td>среднее</td>\n",
       "      <td>1</td>\n",
       "      <td>женат / замужем</td>\n",
       "      <td>0</td>\n",
       "      <td>F</td>\n",
       "      <td>сотрудник</td>\n",
       "      <td>0</td>\n",
       "      <td>112080</td>\n",
       "      <td>приобретение автомобиля</td>\n",
       "    </tr>\n",
       "    <tr>\n",
       "      <td>2</td>\n",
       "      <td>0</td>\n",
       "      <td>15</td>\n",
       "      <td>33</td>\n",
       "      <td>Среднее</td>\n",
       "      <td>1</td>\n",
       "      <td>женат / замужем</td>\n",
       "      <td>0</td>\n",
       "      <td>M</td>\n",
       "      <td>сотрудник</td>\n",
       "      <td>0</td>\n",
       "      <td>145885</td>\n",
       "      <td>покупка жилья</td>\n",
       "    </tr>\n",
       "    <tr>\n",
       "      <td>3</td>\n",
       "      <td>3</td>\n",
       "      <td>11</td>\n",
       "      <td>32</td>\n",
       "      <td>среднее</td>\n",
       "      <td>1</td>\n",
       "      <td>женат / замужем</td>\n",
       "      <td>0</td>\n",
       "      <td>M</td>\n",
       "      <td>сотрудник</td>\n",
       "      <td>0</td>\n",
       "      <td>267628</td>\n",
       "      <td>дополнительное образование</td>\n",
       "    </tr>\n",
       "    <tr>\n",
       "      <td>4</td>\n",
       "      <td>0</td>\n",
       "      <td>932</td>\n",
       "      <td>53</td>\n",
       "      <td>среднее</td>\n",
       "      <td>1</td>\n",
       "      <td>гражданский брак</td>\n",
       "      <td>1</td>\n",
       "      <td>F</td>\n",
       "      <td>пенсионер</td>\n",
       "      <td>0</td>\n",
       "      <td>158616</td>\n",
       "      <td>сыграть свадьбу</td>\n",
       "    </tr>\n",
       "    <tr>\n",
       "      <td>5</td>\n",
       "      <td>0</td>\n",
       "      <td>2</td>\n",
       "      <td>27</td>\n",
       "      <td>высшее</td>\n",
       "      <td>0</td>\n",
       "      <td>гражданский брак</td>\n",
       "      <td>1</td>\n",
       "      <td>M</td>\n",
       "      <td>компаньон</td>\n",
       "      <td>0</td>\n",
       "      <td>255763</td>\n",
       "      <td>покупка жилья</td>\n",
       "    </tr>\n",
       "    <tr>\n",
       "      <td>6</td>\n",
       "      <td>0</td>\n",
       "      <td>7</td>\n",
       "      <td>43</td>\n",
       "      <td>высшее</td>\n",
       "      <td>0</td>\n",
       "      <td>женат / замужем</td>\n",
       "      <td>0</td>\n",
       "      <td>F</td>\n",
       "      <td>компаньон</td>\n",
       "      <td>0</td>\n",
       "      <td>240525</td>\n",
       "      <td>операции с жильем</td>\n",
       "    </tr>\n",
       "    <tr>\n",
       "      <td>7</td>\n",
       "      <td>0</td>\n",
       "      <td>0</td>\n",
       "      <td>50</td>\n",
       "      <td>СРЕДНЕЕ</td>\n",
       "      <td>1</td>\n",
       "      <td>женат / замужем</td>\n",
       "      <td>0</td>\n",
       "      <td>M</td>\n",
       "      <td>сотрудник</td>\n",
       "      <td>0</td>\n",
       "      <td>135823</td>\n",
       "      <td>образование</td>\n",
       "    </tr>\n",
       "    <tr>\n",
       "      <td>8</td>\n",
       "      <td>2</td>\n",
       "      <td>18</td>\n",
       "      <td>35</td>\n",
       "      <td>ВЫСШЕЕ</td>\n",
       "      <td>0</td>\n",
       "      <td>гражданский брак</td>\n",
       "      <td>1</td>\n",
       "      <td>F</td>\n",
       "      <td>сотрудник</td>\n",
       "      <td>0</td>\n",
       "      <td>95856</td>\n",
       "      <td>на проведение свадьбы</td>\n",
       "    </tr>\n",
       "    <tr>\n",
       "      <td>9</td>\n",
       "      <td>0</td>\n",
       "      <td>5</td>\n",
       "      <td>41</td>\n",
       "      <td>среднее</td>\n",
       "      <td>1</td>\n",
       "      <td>женат / замужем</td>\n",
       "      <td>0</td>\n",
       "      <td>M</td>\n",
       "      <td>сотрудник</td>\n",
       "      <td>0</td>\n",
       "      <td>144425</td>\n",
       "      <td>покупка жилья для семьи</td>\n",
       "    </tr>\n",
       "  </tbody>\n",
       "</table>\n",
       "</div>"
      ],
      "text/plain": [
       "   children  days_employed  dob_years education  education_id  \\\n",
       "0         1             23         42    высшее             0   \n",
       "1         1             11         36   среднее             1   \n",
       "2         0             15         33   Среднее             1   \n",
       "3         3             11         32   среднее             1   \n",
       "4         0            932         53   среднее             1   \n",
       "5         0              2         27    высшее             0   \n",
       "6         0              7         43    высшее             0   \n",
       "7         0              0         50   СРЕДНЕЕ             1   \n",
       "8         2             18         35    ВЫСШЕЕ             0   \n",
       "9         0              5         41   среднее             1   \n",
       "\n",
       "      family_status  family_status_id gender income_type  debt  total_income  \\\n",
       "0   женат / замужем                 0      F   сотрудник     0        253875   \n",
       "1   женат / замужем                 0      F   сотрудник     0        112080   \n",
       "2   женат / замужем                 0      M   сотрудник     0        145885   \n",
       "3   женат / замужем                 0      M   сотрудник     0        267628   \n",
       "4  гражданский брак                 1      F   пенсионер     0        158616   \n",
       "5  гражданский брак                 1      M   компаньон     0        255763   \n",
       "6   женат / замужем                 0      F   компаньон     0        240525   \n",
       "7   женат / замужем                 0      M   сотрудник     0        135823   \n",
       "8  гражданский брак                 1      F   сотрудник     0         95856   \n",
       "9   женат / замужем                 0      M   сотрудник     0        144425   \n",
       "\n",
       "                      purpose  \n",
       "0               покупка жилья  \n",
       "1     приобретение автомобиля  \n",
       "2               покупка жилья  \n",
       "3  дополнительное образование  \n",
       "4             сыграть свадьбу  \n",
       "5               покупка жилья  \n",
       "6           операции с жильем  \n",
       "7                 образование  \n",
       "8       на проведение свадьбы  \n",
       "9     покупка жилья для семьи  "
      ]
     },
     "metadata": {},
     "output_type": "display_data"
    },
    {
     "name": "stdout",
     "output_type": "stream",
     "text": [
      "<class 'pandas.core.frame.DataFrame'>\n",
      "RangeIndex: 21525 entries, 0 to 21524\n",
      "Data columns (total 12 columns):\n",
      "children            21525 non-null int64\n",
      "days_employed       21525 non-null int64\n",
      "dob_years           21525 non-null int64\n",
      "education           21525 non-null object\n",
      "education_id        21525 non-null int64\n",
      "family_status       21525 non-null object\n",
      "family_status_id    21525 non-null int64\n",
      "gender              21525 non-null object\n",
      "income_type         21525 non-null object\n",
      "debt                21525 non-null int64\n",
      "total_income        21525 non-null int64\n",
      "purpose             21525 non-null object\n",
      "dtypes: int64(7), object(5)\n",
      "memory usage: 2.0+ MB\n"
     ]
    }
   ],
   "source": [
    "data['days_employed'] = data['days_employed'] / 365\n",
    "data['days_employed'] = data['days_employed'].astype('int') # меняем тип с float на int\n",
    "#data['total_income'] = data['total_income'].astype('int')\n",
    "data['days_employed'] = data['days_employed'].abs() # приводим все отрицательные значения к положительным\n",
    "display(data.head(10))\n",
    "data.info()"
   ]
  },
  {
   "cell_type": "markdown",
   "metadata": {},
   "source": [
    "**Вывод**"
   ]
  },
  {
   "cell_type": "markdown",
   "metadata": {},
   "source": [
    "1) перевел значения 'float' в 'int' столбцов 'days_employed' и 'total_income' методом astype c аргументом 'int';\n",
    "2) функцией 'abs()' обратил минусовые значения в столбце 'days_employed' в положительные;\n",
    "2) проверил через 'info()'и на всякий случай сам data frame посмотрел. все числовые значения целые.\n",
    "3) бростается в глаза невероятно большое значение в 5 строке столбца 'days_employed' женщина пенсионерка со стажем 340266 дней, что составляет 1350 лет. Больше похоже на ошибку."
   ]
  },
  {
   "cell_type": "markdown",
   "metadata": {},
   "source": [
    "<div class=\"alert alert-success\">\n",
    "<b>✔️ Комментарий ревьюера:</b> \n",
    "<br>Всё верно!\n",
    "</div>\n",
    "\n",
    "<div class=\"alert alert-warning\">\n",
    "<b>⚠️ Комментарий ревьюера:</b> \n",
    "<br>Что можно сделать ещё для удобства: \n",
    "<br>- разделить количество дней стажа на 365, получив таким образом стаж в годах\n",
    "<br>- разделить ежемесячный доход на 1000, получив значения в тысячах. В данном случае точность до сотен рублей нам не нужна, а значения будут выглядеть аккуратнее\n",
    "</div>"
   ]
  },
  {
   "cell_type": "markdown",
   "metadata": {},
   "source": [
    "### Обработка дубликатов"
   ]
  },
  {
   "cell_type": "code",
   "execution_count": 4,
   "metadata": {},
   "outputs": [
    {
     "data": {
      "text/plain": [
       "0        False\n",
       "1        False\n",
       "2        False\n",
       "3        False\n",
       "4        False\n",
       "         ...  \n",
       "21520    False\n",
       "21521    False\n",
       "21522    False\n",
       "21523    False\n",
       "21524    False\n",
       "Length: 21454, dtype: bool"
      ]
     },
     "execution_count": 4,
     "metadata": {},
     "output_type": "execute_result"
    }
   ],
   "source": [
    "data['education'] = data['education'].str.lower() #приводим к нижнему регистру все значения в столбце 'education' \n",
    "data['gender'] = data['gender'].str.lower() # тоже самое в столбце 'gender'\n",
    "#data.duplicated().sum()\n",
    "i = data[data.duplicated() == True] #проверяем наличие дубликатов True\\False\n",
    "#i\n",
    "data = data.drop_duplicates() # удаляем дубликаты\n",
    "data.duplicated()\n",
    "\n",
    "\n",
    "\n",
    "\n"
   ]
  },
  {
   "cell_type": "markdown",
   "metadata": {},
   "source": [
    "<div class=\"alert alert-success\">\n",
    "<b>✔️ Комментарий ревьюера:</b> \n",
    "<br>Шикарно! Избавились от дубликатов\n",
    "</div>"
   ]
  },
  {
   "cell_type": "markdown",
   "metadata": {},
   "source": [
    "<div class=\"alert alert-warning\">\n",
    "<b>⚠️ Комментарий ревьюера:</b> \n",
    "<br>В данном случае ты перевёл значения в нижний регистр, чтобы это проверить тебе нужно обязательно вывести таблицу, чтобы убедиться что всё сработало как надо)\n",
    "</div>"
   ]
  },
  {
   "cell_type": "markdown",
   "metadata": {},
   "source": [
    "**Вывод**"
   ]
  },
  {
   "cell_type": "markdown",
   "metadata": {},
   "source": [
    "Дубликаты присутсвовали в data frame во-первых по причине отсутствия единого регистра, во вторых по причине не верно занесенных данных\n",
    "1) привел все значения столбцов 'education' и 'gender' к нижнему регистру методом str.lower()\n",
    "2) получил общее кол-во дубликатов в data 2-мя методами - duplicated().sum()\n",
    "3) выделил все строки с дубликатами и сохранил в перменной i\n",
    "4) дропнул 71 дубликат\n",
    "5) проверил, напечатав таблицу без дубликатов. строк стало на 71 меньше"
   ]
  },
  {
   "cell_type": "markdown",
   "metadata": {},
   "source": [
    "### Лемматизация"
   ]
  },
  {
   "cell_type": "code",
   "execution_count": 5,
   "metadata": {},
   "outputs": [
    {
     "data": {
      "text/plain": [
       "Counter({'покупка': 10,\n",
       "         ' ': 96,\n",
       "         'жилье': 7,\n",
       "         'приобретение': 1,\n",
       "         'автомобиль': 9,\n",
       "         'дополнительный': 2,\n",
       "         'образование': 9,\n",
       "         'сыграть': 1,\n",
       "         'свадьба': 3,\n",
       "         'операция': 4,\n",
       "         'с': 5,\n",
       "         'на': 4,\n",
       "         'проведение': 1,\n",
       "         'для': 2,\n",
       "         'семья': 1,\n",
       "         'недвижимость': 10,\n",
       "         'коммерческий': 2,\n",
       "         'жилой': 2,\n",
       "         'строительство': 3,\n",
       "         'собственный': 1,\n",
       "         'подержать': 2,\n",
       "         'свой': 4,\n",
       "         'со': 1,\n",
       "         'заниматься': 2,\n",
       "         'сделка': 2,\n",
       "         'получение': 3,\n",
       "         'высокий': 3,\n",
       "         'профильный': 1,\n",
       "         'сдача': 1,\n",
       "         'ремонт': 1,\n",
       "         '\\n': 1})"
      ]
     },
     "metadata": {},
     "output_type": "display_data"
    }
   ],
   "source": [
    "from pymystem3 import Mystem\n",
    "m = Mystem()\n",
    "real_purpose = data['purpose'].unique()\n",
    "real_purpose = ' '.join(real_purpose)\n",
    "lemmas = m.lemmatize(real_purpose)\n",
    "from collections import Counter\n",
    "display(Counter(lemmas))"
   ]
  },
  {
   "cell_type": "markdown",
   "metadata": {},
   "source": [
    "**Вывод**"
   ]
  },
  {
   "cell_type": "markdown",
   "metadata": {},
   "source": [
    "1) импортировал библиотеку pymystem3\n",
    "2) Для наглядности вывел все преобразования переменной real_purpose в отдельных строках\n",
    "3) импортировал специальный контейнер Counter из модуля collections для подсчета числа лематизированных слов\n",
    "4) при помощи лематизации мне стало видно определенное кол-во целей, так как кол-во форм(падежей) слов существенно сократилось. Так удобнее будет кагоризировать в дальнейшем "
   ]
  },
  {
   "cell_type": "markdown",
   "metadata": {},
   "source": [
    "### Категоризация данных"
   ]
  },
  {
   "cell_type": "code",
   "execution_count": 6,
   "metadata": {},
   "outputs": [
    {
     "data": {
      "text/plain": [
       "'Исходное слово - недвижимость, после стемминга - недвижим'"
      ]
     },
     "metadata": {},
     "output_type": "display_data"
    },
    {
     "data": {
      "text/plain": [
       "'Исходное слово - автомобиль, после стемминга - автомобил'"
      ]
     },
     "metadata": {},
     "output_type": "display_data"
    },
    {
     "data": {
      "text/plain": [
       "'Исходное слово - образование, после стемминга - образован'"
      ]
     },
     "metadata": {},
     "output_type": "display_data"
    },
    {
     "data": {
      "text/plain": [
       "'Исходное слово - свадьба, после стемминга - свадьб'"
      ]
     },
     "metadata": {},
     "output_type": "display_data"
    },
    {
     "data": {
      "text/plain": [
       "'Исходное слово - жилье, после стемминга - жил'"
      ]
     },
     "metadata": {},
     "output_type": "display_data"
    },
    {
     "name": "stderr",
     "output_type": "stream",
     "text": [
      "/opt/conda/lib/python3.7/site-packages/ipykernel_launcher.py:20: SettingWithCopyWarning: \n",
      "A value is trying to be set on a copy of a slice from a DataFrame.\n",
      "Try using .loc[row_indexer,col_indexer] = value instead\n",
      "\n",
      "See the caveats in the documentation: http://pandas.pydata.org/pandas-docs/stable/user_guide/indexing.html#returning-a-view-versus-a-copy\n",
      "/opt/conda/lib/python3.7/site-packages/ipykernel_launcher.py:27: SettingWithCopyWarning: \n",
      "A value is trying to be set on a copy of a slice from a DataFrame.\n",
      "Try using .loc[row_indexer,col_indexer] = value instead\n",
      "\n",
      "See the caveats in the documentation: http://pandas.pydata.org/pandas-docs/stable/user_guide/indexing.html#returning-a-view-versus-a-copy\n"
     ]
    },
    {
     "data": {
      "text/plain": [
       "12412    2265604\n",
       "19606    2200852\n",
       "9169     1726276\n",
       "20809    1715018\n",
       "17178    1711309\n",
       "          ...   \n",
       "14276      21895\n",
       "1598       21695\n",
       "16174      21367\n",
       "13006      21205\n",
       "14585      20667\n",
       "Name: total_income, Length: 21454, dtype: int64"
      ]
     },
     "metadata": {},
     "output_type": "display_data"
    },
    {
     "name": "stderr",
     "output_type": "stream",
     "text": [
      "/opt/conda/lib/python3.7/site-packages/ipykernel_launcher.py:40: SettingWithCopyWarning: \n",
      "A value is trying to be set on a copy of a slice from a DataFrame.\n",
      "Try using .loc[row_indexer,col_indexer] = value instead\n",
      "\n",
      "See the caveats in the documentation: http://pandas.pydata.org/pandas-docs/stable/user_guide/indexing.html#returning-a-view-versus-a-copy\n"
     ]
    },
    {
     "data": {
      "text/html": [
       "<div>\n",
       "<style scoped>\n",
       "    .dataframe tbody tr th:only-of-type {\n",
       "        vertical-align: middle;\n",
       "    }\n",
       "\n",
       "    .dataframe tbody tr th {\n",
       "        vertical-align: top;\n",
       "    }\n",
       "\n",
       "    .dataframe thead th {\n",
       "        text-align: right;\n",
       "    }\n",
       "</style>\n",
       "<table border=\"1\" class=\"dataframe\">\n",
       "  <thead>\n",
       "    <tr style=\"text-align: right;\">\n",
       "      <th></th>\n",
       "      <th>children</th>\n",
       "      <th>days_employed</th>\n",
       "      <th>dob_years</th>\n",
       "      <th>education</th>\n",
       "      <th>education_id</th>\n",
       "      <th>family_status</th>\n",
       "      <th>family_status_id</th>\n",
       "      <th>gender</th>\n",
       "      <th>income_type</th>\n",
       "      <th>debt</th>\n",
       "      <th>total_income</th>\n",
       "      <th>purpose</th>\n",
       "      <th>purpose_groups</th>\n",
       "      <th>children_groups</th>\n",
       "      <th>income_groups</th>\n",
       "    </tr>\n",
       "  </thead>\n",
       "  <tbody>\n",
       "    <tr>\n",
       "      <td>0</td>\n",
       "      <td>1</td>\n",
       "      <td>23</td>\n",
       "      <td>42</td>\n",
       "      <td>высшее</td>\n",
       "      <td>0</td>\n",
       "      <td>женат / замужем</td>\n",
       "      <td>0</td>\n",
       "      <td>f</td>\n",
       "      <td>сотрудник</td>\n",
       "      <td>0</td>\n",
       "      <td>253875</td>\n",
       "      <td>покупка жилья</td>\n",
       "      <td>Недвижимость</td>\n",
       "      <td>есть дети</td>\n",
       "      <td>низкий доход</td>\n",
       "    </tr>\n",
       "    <tr>\n",
       "      <td>1</td>\n",
       "      <td>1</td>\n",
       "      <td>11</td>\n",
       "      <td>36</td>\n",
       "      <td>среднее</td>\n",
       "      <td>1</td>\n",
       "      <td>женат / замужем</td>\n",
       "      <td>0</td>\n",
       "      <td>f</td>\n",
       "      <td>сотрудник</td>\n",
       "      <td>0</td>\n",
       "      <td>112080</td>\n",
       "      <td>приобретение автомобиля</td>\n",
       "      <td>Автомобиль</td>\n",
       "      <td>есть дети</td>\n",
       "      <td>низкий доход</td>\n",
       "    </tr>\n",
       "    <tr>\n",
       "      <td>2</td>\n",
       "      <td>0</td>\n",
       "      <td>15</td>\n",
       "      <td>33</td>\n",
       "      <td>среднее</td>\n",
       "      <td>1</td>\n",
       "      <td>женат / замужем</td>\n",
       "      <td>0</td>\n",
       "      <td>m</td>\n",
       "      <td>сотрудник</td>\n",
       "      <td>0</td>\n",
       "      <td>145885</td>\n",
       "      <td>покупка жилья</td>\n",
       "      <td>Недвижимость</td>\n",
       "      <td>бездетные</td>\n",
       "      <td>низкий доход</td>\n",
       "    </tr>\n",
       "    <tr>\n",
       "      <td>3</td>\n",
       "      <td>3</td>\n",
       "      <td>11</td>\n",
       "      <td>32</td>\n",
       "      <td>среднее</td>\n",
       "      <td>1</td>\n",
       "      <td>женат / замужем</td>\n",
       "      <td>0</td>\n",
       "      <td>m</td>\n",
       "      <td>сотрудник</td>\n",
       "      <td>0</td>\n",
       "      <td>267628</td>\n",
       "      <td>дополнительное образование</td>\n",
       "      <td>Образование</td>\n",
       "      <td>есть дети</td>\n",
       "      <td>низкий доход</td>\n",
       "    </tr>\n",
       "    <tr>\n",
       "      <td>4</td>\n",
       "      <td>0</td>\n",
       "      <td>932</td>\n",
       "      <td>53</td>\n",
       "      <td>среднее</td>\n",
       "      <td>1</td>\n",
       "      <td>гражданский брак</td>\n",
       "      <td>1</td>\n",
       "      <td>f</td>\n",
       "      <td>пенсионер</td>\n",
       "      <td>0</td>\n",
       "      <td>158616</td>\n",
       "      <td>сыграть свадьбу</td>\n",
       "      <td>Свадьба</td>\n",
       "      <td>бездетные</td>\n",
       "      <td>низкий доход</td>\n",
       "    </tr>\n",
       "    <tr>\n",
       "      <td>5</td>\n",
       "      <td>0</td>\n",
       "      <td>2</td>\n",
       "      <td>27</td>\n",
       "      <td>высшее</td>\n",
       "      <td>0</td>\n",
       "      <td>гражданский брак</td>\n",
       "      <td>1</td>\n",
       "      <td>m</td>\n",
       "      <td>компаньон</td>\n",
       "      <td>0</td>\n",
       "      <td>255763</td>\n",
       "      <td>покупка жилья</td>\n",
       "      <td>Недвижимость</td>\n",
       "      <td>бездетные</td>\n",
       "      <td>низкий доход</td>\n",
       "    </tr>\n",
       "    <tr>\n",
       "      <td>6</td>\n",
       "      <td>0</td>\n",
       "      <td>7</td>\n",
       "      <td>43</td>\n",
       "      <td>высшее</td>\n",
       "      <td>0</td>\n",
       "      <td>женат / замужем</td>\n",
       "      <td>0</td>\n",
       "      <td>f</td>\n",
       "      <td>компаньон</td>\n",
       "      <td>0</td>\n",
       "      <td>240525</td>\n",
       "      <td>операции с жильем</td>\n",
       "      <td>Недвижимость</td>\n",
       "      <td>бездетные</td>\n",
       "      <td>низкий доход</td>\n",
       "    </tr>\n",
       "    <tr>\n",
       "      <td>7</td>\n",
       "      <td>0</td>\n",
       "      <td>0</td>\n",
       "      <td>50</td>\n",
       "      <td>среднее</td>\n",
       "      <td>1</td>\n",
       "      <td>женат / замужем</td>\n",
       "      <td>0</td>\n",
       "      <td>m</td>\n",
       "      <td>сотрудник</td>\n",
       "      <td>0</td>\n",
       "      <td>135823</td>\n",
       "      <td>образование</td>\n",
       "      <td>Образование</td>\n",
       "      <td>бездетные</td>\n",
       "      <td>низкий доход</td>\n",
       "    </tr>\n",
       "    <tr>\n",
       "      <td>8</td>\n",
       "      <td>2</td>\n",
       "      <td>18</td>\n",
       "      <td>35</td>\n",
       "      <td>высшее</td>\n",
       "      <td>0</td>\n",
       "      <td>гражданский брак</td>\n",
       "      <td>1</td>\n",
       "      <td>f</td>\n",
       "      <td>сотрудник</td>\n",
       "      <td>0</td>\n",
       "      <td>95856</td>\n",
       "      <td>на проведение свадьбы</td>\n",
       "      <td>Свадьба</td>\n",
       "      <td>есть дети</td>\n",
       "      <td>низкий доход</td>\n",
       "    </tr>\n",
       "    <tr>\n",
       "      <td>9</td>\n",
       "      <td>0</td>\n",
       "      <td>5</td>\n",
       "      <td>41</td>\n",
       "      <td>среднее</td>\n",
       "      <td>1</td>\n",
       "      <td>женат / замужем</td>\n",
       "      <td>0</td>\n",
       "      <td>m</td>\n",
       "      <td>сотрудник</td>\n",
       "      <td>0</td>\n",
       "      <td>144425</td>\n",
       "      <td>покупка жилья для семьи</td>\n",
       "      <td>Недвижимость</td>\n",
       "      <td>бездетные</td>\n",
       "      <td>низкий доход</td>\n",
       "    </tr>\n",
       "  </tbody>\n",
       "</table>\n",
       "</div>"
      ],
      "text/plain": [
       "   children  days_employed  dob_years education  education_id  \\\n",
       "0         1             23         42    высшее             0   \n",
       "1         1             11         36   среднее             1   \n",
       "2         0             15         33   среднее             1   \n",
       "3         3             11         32   среднее             1   \n",
       "4         0            932         53   среднее             1   \n",
       "5         0              2         27    высшее             0   \n",
       "6         0              7         43    высшее             0   \n",
       "7         0              0         50   среднее             1   \n",
       "8         2             18         35    высшее             0   \n",
       "9         0              5         41   среднее             1   \n",
       "\n",
       "      family_status  family_status_id gender income_type  debt  total_income  \\\n",
       "0   женат / замужем                 0      f   сотрудник     0        253875   \n",
       "1   женат / замужем                 0      f   сотрудник     0        112080   \n",
       "2   женат / замужем                 0      m   сотрудник     0        145885   \n",
       "3   женат / замужем                 0      m   сотрудник     0        267628   \n",
       "4  гражданский брак                 1      f   пенсионер     0        158616   \n",
       "5  гражданский брак                 1      m   компаньон     0        255763   \n",
       "6   женат / замужем                 0      f   компаньон     0        240525   \n",
       "7   женат / замужем                 0      m   сотрудник     0        135823   \n",
       "8  гражданский брак                 1      f   сотрудник     0         95856   \n",
       "9   женат / замужем                 0      m   сотрудник     0        144425   \n",
       "\n",
       "                      purpose purpose_groups children_groups income_groups  \n",
       "0               покупка жилья   Недвижимость       есть дети  низкий доход  \n",
       "1     приобретение автомобиля     Автомобиль       есть дети  низкий доход  \n",
       "2               покупка жилья   Недвижимость       бездетные  низкий доход  \n",
       "3  дополнительное образование    Образование       есть дети  низкий доход  \n",
       "4             сыграть свадьбу        Свадьба       бездетные  низкий доход  \n",
       "5               покупка жилья   Недвижимость       бездетные  низкий доход  \n",
       "6           операции с жильем   Недвижимость       бездетные  низкий доход  \n",
       "7                 образование    Образование       бездетные  низкий доход  \n",
       "8       на проведение свадьбы        Свадьба       есть дети  низкий доход  \n",
       "9     покупка жилья для семьи   Недвижимость       бездетные  низкий доход  "
      ]
     },
     "metadata": {},
     "output_type": "display_data"
    }
   ],
   "source": [
    "from nltk.stem import SnowballStemmer # импортируем стеммер для русского языка\n",
    "russian_stemmer = SnowballStemmer('russian')  \n",
    "\n",
    "words = ['недвижимость', 'автомобиль', 'образование', 'свадьба', 'жилье',]\n",
    "for w in words: \n",
    "    display('Исходное слово - ' + w + ', после стемминга - ' + russian_stemmer.stem(w))#для каждого\n",
    "    #элемента списка напечатаем исходное слово и его основу, выявленную стеммингом\n",
    "\n",
    "def purpose_groups(purpose): # создаем функцию для категоризации по целям\n",
    "    if ('недвижим' in purpose) or ('жил' in purpose):\n",
    "            return 'Недвижимость'\n",
    "    if 'автомобил' in purpose:\n",
    "            return 'Автомобиль'\n",
    "    if 'образован' in purpose:\n",
    "            return 'Образование'\n",
    "    if 'свадьб' in purpose:\n",
    "            return 'Свадьба'       \n",
    "    return 'Другое'    \n",
    " \n",
    "data['purpose_groups'] = data['purpose'].apply(purpose_groups) #создаем новый столбец\n",
    "#с категориями по целям\n",
    "\n",
    "def children_groups(children): #создаем функцию для категоризации по наличию и кол-ву детей \n",
    "    if children > 0:\n",
    "        return 'есть дети'\n",
    "    return 'бездетные'\n",
    "data['children_groups'] = data['children'].apply(children_groups) # создаем новый столбец с категориями по детям\n",
    "#display(data.head(10))\n",
    "\n",
    "display(data['total_income'].sort_values(ascending=False)) # отсортировал доходы по убыванию, чтобы определить на какое кол-во групп делить\n",
    "def income_groups(total_income): #создаем функцию для категоризации по уровню дохода\n",
    "    if (total_income >= 0) and (total_income < 500000):\n",
    "        return 'низкий доход'\n",
    "    if (total_income > 500000) and (total_income < 1000000) :\n",
    "        return 'средний доход'\n",
    "    if (total_income > 1000000) and (total_income < 2000000) :    \n",
    "        return 'высокий доход'\n",
    "    return 'олигарх'\n",
    "        \n",
    "data['income_groups'] = data['total_income'].apply(income_groups) # создаем новый столбец с категориями по уровню дохода\n",
    "display(data.head(10))\n",
    "        \n",
    "\n",
    "\n",
    "\n",
    "\n"
   ]
  },
  {
   "cell_type": "markdown",
   "metadata": {},
   "source": [
    "**Вывод**\n",
    "1. категоризация помогла уменьшить кол-во уникальных значений по каждому столбцу, посредством присоединения новых столбцов. Получилось создать необходмые Series, применить метод apply и соединить их вновь в data frame. Принцип *split-apply-combine.*\n",
    "2. анализ группы по кредитным целям показал: наибольшее кол-во заявок приходится на Недвижимость =    10811, а наименьшее для Свадеб и создания будущих семей, всего 2324.\n",
    "3. посмотрев на наличие и кол-во детей можно сделать однозначный вывод о том, что в нашей базе превалирует числоБездетных = 14138, а многодетных как и следовало ожидать - меньшинство = 2508\n",
    "4. Семейных пар оказалось больше с заявками на кредит, чем всех остальных (всего до группировки было 4 значения в столбце, что было очень не удобно для анализа)\n",
    "5. группировка по уровню дохода показала, что за кредитом обращаются в основном люди с низким годовым доходом = более 23000, все остальные сильно позади, при этом люди с высоким уровнем и \"олигархи\" так же всписке тех, кто кредиты берут.\n",
    "6. определить зависимость наличия долга от новых столбцов и их категорий теперь возможно."
   ]
  },
  {
   "cell_type": "markdown",
   "metadata": {},
   "source": [
    "<div class=\"alert alert-success\">\n",
    "<b>✔️ Комментарий ревьюера:</b> \n",
    "<br>Цели кредита категоризированы правильно! 👍\n",
    "</div>\n",
    "\n",
    "<div class=\"alert alert-danger\">\n",
    "<b>❌ Комментарий ревьюера:</b> \n",
    "<br>Вопрос в шаге 3 звучит так: \"Есть ли зависимость между наличием детей и возвратом кредита в срок?\". Здесь всех нужно разделить на 2 категории - есть дети или нет\n",
    "</div>"
   ]
  },
  {
   "cell_type": "markdown",
   "metadata": {},
   "source": [
    "<div class=\"alert alert-info\">\n",
    "<b>Комментарий студента:</b>\n",
    "1. принцип категоризации изменил. В фунции теперь только одно условие: есть дети или нет (при не выполнении\n"
   ]
  },
  {
   "cell_type": "markdown",
   "metadata": {},
   "source": [
    "<div class=\"alert alert-danger\">\n",
    "<b>❌ Комментарий ревьюера:</b> \n",
    "<br>У нас уже есть категоризация по семейному положению и если ты делаешь ещё одну, то наш анализ становится более общим.\n",
    "</div>"
   ]
  },
  {
   "cell_type": "markdown",
   "metadata": {},
   "source": [
    "<div class=\"alert alert-info\">\n",
    "<b>Комментарий студента:</b>\n",
    "убрал функцию, которая категоризирует по семейному положению"
   ]
  },
  {
   "cell_type": "markdown",
   "metadata": {},
   "source": [
    "<div class=\"alert alert-success\">\n",
    "<b>✔️ Комментарий ревьюера:</b> \n",
    "<br>Так можно выделить категории уровня дохода, но в реальной задаче лучше этот момент уточнить у заказчика или коллег. Желательно выделить 4-5 категорий, чтобы можно было сделать более точный анализ\n",
    "</div>"
   ]
  },
  {
   "cell_type": "markdown",
   "metadata": {},
   "source": [
    "## Шаг 3. Ответьте на вопросы"
   ]
  },
  {
   "cell_type": "markdown",
   "metadata": {},
   "source": [
    "- Есть ли зависимость между наличием детей и возвратом кредита в срок?"
   ]
  },
  {
   "cell_type": "code",
   "execution_count": 7,
   "metadata": {},
   "outputs": [
    {
     "data": {
      "text/plain": [
       "children_groups\n",
       "бездетные    14138\n",
       "есть дети     7316\n",
       "Name: debt, dtype: int64"
      ]
     },
     "metadata": {},
     "output_type": "display_data"
    },
    {
     "data": {
      "text/plain": [
       "children_groups\n",
       "бездетные    1064\n",
       "есть дети     677\n",
       "Name: debt, dtype: int64"
      ]
     },
     "metadata": {},
     "output_type": "display_data"
    },
    {
     "data": {
      "text/plain": [
       "children_groups\n",
       "бездетные    0.075258\n",
       "есть дети    0.092537\n",
       "Name: debt, dtype: float64"
      ]
     },
     "metadata": {},
     "output_type": "display_data"
    }
   ],
   "source": [
    "data_children_count = data.groupby('children_groups')['debt'].count() # создадим series где видно разделение семей по кол-ву детей \n",
    "display(data_children_count)\n",
    "data_children_sum = data.groupby('children_groups')['debt'].sum() # создадим series где видно кол-во должников относительно каждой группы \n",
    "display(data_children_sum)\n",
    "data_children_percent = (data_children_sum/data_children_count).sort_values()\n",
    "display(data_children_percent)\n"
   ]
  },
  {
   "cell_type": "markdown",
   "metadata": {},
   "source": [
    "**Вывод**"
   ]
  },
  {
   "cell_type": "markdown",
   "metadata": {},
   "source": [
    "1. Бездетные люди чаще возвращают кредит и среди должников их всего **7,5%**, что говорит об их большей надежности по сравнении с остальными группами.\n",
    "2. семьи с одним ребенком берут кредит в **2 раза реже**, но при этом их плохая статистика равна **9,3%** от их общего числа.\n",
    "3. из представленных групп можно отдавать наибольшее предпочтение группе бездетных семей, так как у них наименьшее число иждивенцев и, следовательно, процент возратов больший чем у семей с детьми."
   ]
  },
  {
   "cell_type": "markdown",
   "metadata": {},
   "source": [
    "<div class=\"alert alert-danger\">\n",
    "<b>❌ Комментарий ревьюера:</b> \n",
    "<br>Вывод у тебя правильный, но нужно поправить категоризацию\n",
    "</div>"
   ]
  },
  {
   "cell_type": "markdown",
   "metadata": {},
   "source": [
    "<div class=\"alert alert-info\">\n",
    "<b>Комментарий студента:</b>\n",
    "поправил выводы, так как категории стало 2"
   ]
  },
  {
   "cell_type": "markdown",
   "metadata": {},
   "source": [
    "<div class=\"alert alert-success\">\n",
    "<b>✔️ Комментарий ревьюера v2:</b>\n",
    "<br>Супер) Теперь всё верно!\n",
    "</div>"
   ]
  },
  {
   "cell_type": "markdown",
   "metadata": {},
   "source": [
    "- Есть ли зависимость между семейным положением и возвратом кредита в срок?"
   ]
  },
  {
   "cell_type": "code",
   "execution_count": 8,
   "metadata": {},
   "outputs": [
    {
     "data": {
      "text/plain": [
       "family_status\n",
       "Не женат / не замужем     2810\n",
       "в разводе                 1195\n",
       "вдовец / вдова             959\n",
       "гражданский брак          4151\n",
       "женат / замужем          12339\n",
       "Name: debt, dtype: int64"
      ]
     },
     "metadata": {},
     "output_type": "display_data"
    },
    {
     "data": {
      "text/plain": [
       "family_status\n",
       "Не женат / не замужем    274\n",
       "в разводе                 85\n",
       "вдовец / вдова            63\n",
       "гражданский брак         388\n",
       "женат / замужем          931\n",
       "Name: debt, dtype: int64"
      ]
     },
     "metadata": {},
     "output_type": "display_data"
    },
    {
     "data": {
      "text/plain": [
       "family_status\n",
       "вдовец / вдова           0.065693\n",
       "в разводе                0.071130\n",
       "женат / замужем          0.075452\n",
       "гражданский брак         0.093471\n",
       "Не женат / не замужем    0.097509\n",
       "Name: debt, dtype: float64"
      ]
     },
     "metadata": {},
     "output_type": "display_data"
    }
   ],
   "source": [
    "data_family_id_count = data.groupby('family_status')['debt'].count() # создадим series где видно разделение семей по семейному положению\n",
    "display(data_family_id_count.head(10))\n",
    "data_family_id_sum = data.groupby('family_status')['debt'].sum() # создадим series где видно кол-во должников относительно каждой группы \n",
    "display(data_family_id_sum.head(10))\n",
    "data_family_id_percent = (data_family_id_sum/data_family_id_count).sort_values()\n",
    "display(data_family_id_percent)"
   ]
  },
  {
   "cell_type": "markdown",
   "metadata": {},
   "source": [
    "**Вывод**"
   ]
  },
  {
   "cell_type": "markdown",
   "metadata": {},
   "source": [
    "1. разделив семейныепары на 5 групп, сразу стало видно, что официальные семейные пары берут кредит чаще, но при этом не имеют большую дисциплинированность при его возврате. **7,5%** должников.\n",
    "2. не оформившие официальный брак пары, а также \"одиночки\" имеют массу возможностей к расставаниию, а как следствие потере возможности вернуть кредит, о чем и говорит статистика: **9,3%** и **9,8%** должников от их общей массы соотвественно. \n",
    "3. лидер по кредитной дисциплине внезапно оказалась группа **водец / вдова** с результатом **6,5%** должников, однако нужно обратить внимание на самое маленькое кол-во заявок относительно остальных групп.\n",
    "3. Очевидно давать предпочтение по выдаче кредита нужно в первую очередь **водец / вдова**, людям в разводе и официальным семейным парам соответственно."
   ]
  },
  {
   "cell_type": "markdown",
   "metadata": {},
   "source": [
    "<div class=\"alert alert-danger\">\n",
    "<b>❌ Комментарий ревьюера:</b> \n",
    "<br>Вывод у тебя практически правильный. После того как ты поправишь категоризацию, лидер должен смениться)\n",
    "</div>"
   ]
  },
  {
   "cell_type": "markdown",
   "metadata": {},
   "source": [
    "<div class=\"alert alert-info\">\n",
    "<b>Комментарий студента:</b>\n",
    "поправил выводы после того как обновились данные по категориям семейного положения"
   ]
  },
  {
   "cell_type": "markdown",
   "metadata": {},
   "source": [
    "<div class=\"alert alert-success\">\n",
    "<b>✔️ Комментарий ревьюера v2:</b>\n",
    "<br>Замечательно! \n",
    "</div>"
   ]
  },
  {
   "cell_type": "markdown",
   "metadata": {},
   "source": [
    "- Есть ли зависимость между уровнем дохода и возвратом кредита в срок?"
   ]
  },
  {
   "cell_type": "code",
   "execution_count": 9,
   "metadata": {},
   "outputs": [
    {
     "data": {
      "text/plain": [
       "income_groups\n",
       "высокий доход       23\n",
       "низкий доход     21232\n",
       "олигарх              2\n",
       "средний доход      197\n",
       "Name: debt, dtype: int64"
      ]
     },
     "metadata": {},
     "output_type": "display_data"
    },
    {
     "data": {
      "text/plain": [
       "income_groups\n",
       "высокий доход       1\n",
       "низкий доход     1727\n",
       "олигарх             1\n",
       "средний доход      12\n",
       "Name: debt, dtype: int64"
      ]
     },
     "metadata": {},
     "output_type": "display_data"
    },
    {
     "data": {
      "text/plain": [
       "income_groups\n",
       "высокий доход    0.043478\n",
       "средний доход    0.060914\n",
       "низкий доход     0.081339\n",
       "олигарх          0.500000\n",
       "Name: debt, dtype: float64"
      ]
     },
     "metadata": {},
     "output_type": "display_data"
    }
   ],
   "source": [
    "data_income_count = data.groupby('income_groups')['debt'].count() # создадим series где видно раздельное кол-во целей \n",
    "display(data_income_count.head(10))\n",
    "data_income_sum = data.groupby('income_groups')['debt'].sum() # создадим series где видно кол-во должников относительно каждой группы целей\n",
    "display(data_income_sum.head(10))\n",
    "data_income_percent = (data_income_sum/data_income_count).sort_values()\n",
    "display(data_income_percent)"
   ]
  },
  {
   "cell_type": "markdown",
   "metadata": {},
   "source": [
    "**Вывод**"
   ]
  },
  {
   "cell_type": "markdown",
   "metadata": {},
   "source": [
    "1. отсортировав группы по доходам и вычислив долю должников стало понятно что самые надежные находятся в группе высоких доходов с **4,3%** должников, а самые рискованные заемщики - люди с низкими доходами = **8,1%** должников.\n",
    "2. при этом самый страшный процент должников = 50% лежит в группе \"Олигарх\", но там все 2 участника и эта группа не репрезентативна "
   ]
  },
  {
   "cell_type": "markdown",
   "metadata": {},
   "source": [
    "<div class=\"alert alert-success\">\n",
    "<b>✔️ Комментарий ревьюера:</b> \n",
    "<br>В точку! Идём дальше)\n",
    "</div>"
   ]
  },
  {
   "cell_type": "markdown",
   "metadata": {},
   "source": [
    "- Как разные цели кредита влияют на его возврат в срок?"
   ]
  },
  {
   "cell_type": "code",
   "execution_count": 10,
   "metadata": {},
   "outputs": [
    {
     "data": {
      "text/plain": [
       "purpose_groups\n",
       "Автомобиль       4306\n",
       "Недвижимость    10811\n",
       "Образование      4013\n",
       "Свадьба          2324\n",
       "Name: debt, dtype: int64"
      ]
     },
     "metadata": {},
     "output_type": "display_data"
    },
    {
     "data": {
      "text/plain": [
       "purpose_groups\n",
       "Автомобиль      403\n",
       "Недвижимость    782\n",
       "Образование     370\n",
       "Свадьба         186\n",
       "Name: debt, dtype: int64"
      ]
     },
     "metadata": {},
     "output_type": "display_data"
    },
    {
     "data": {
      "text/plain": [
       "purpose_groups\n",
       "Недвижимость    0.072334\n",
       "Свадьба         0.080034\n",
       "Образование     0.092200\n",
       "Автомобиль      0.093590\n",
       "Name: debt, dtype: float64"
      ]
     },
     "metadata": {},
     "output_type": "display_data"
    },
    {
     "data": {
      "text/html": [
       "<div>\n",
       "<style scoped>\n",
       "    .dataframe tbody tr th:only-of-type {\n",
       "        vertical-align: middle;\n",
       "    }\n",
       "\n",
       "    .dataframe tbody tr th {\n",
       "        vertical-align: top;\n",
       "    }\n",
       "\n",
       "    .dataframe thead th {\n",
       "        text-align: right;\n",
       "    }\n",
       "</style>\n",
       "<table border=\"1\" class=\"dataframe\">\n",
       "  <thead>\n",
       "    <tr style=\"text-align: right;\">\n",
       "      <th></th>\n",
       "      <th>children_groups</th>\n",
       "      <th>бездетные</th>\n",
       "      <th>есть дети</th>\n",
       "    </tr>\n",
       "    <tr>\n",
       "      <th>purpose_groups</th>\n",
       "      <th>purpose</th>\n",
       "      <th></th>\n",
       "      <th></th>\n",
       "    </tr>\n",
       "  </thead>\n",
       "  <tbody>\n",
       "    <tr>\n",
       "      <td rowspan=\"9\" valign=\"top\">Автомобиль</td>\n",
       "      <td>автомобили</td>\n",
       "      <td>28</td>\n",
       "      <td>16</td>\n",
       "    </tr>\n",
       "    <tr>\n",
       "      <td>автомобиль</td>\n",
       "      <td>31</td>\n",
       "      <td>11</td>\n",
       "    </tr>\n",
       "    <tr>\n",
       "      <td>на покупку автомобиля</td>\n",
       "      <td>22</td>\n",
       "      <td>22</td>\n",
       "    </tr>\n",
       "    <tr>\n",
       "      <td>на покупку подержанного автомобиля</td>\n",
       "      <td>20</td>\n",
       "      <td>16</td>\n",
       "    </tr>\n",
       "    <tr>\n",
       "      <td>на покупку своего автомобиля</td>\n",
       "      <td>30</td>\n",
       "      <td>16</td>\n",
       "    </tr>\n",
       "    <tr>\n",
       "      <td>приобретение автомобиля</td>\n",
       "      <td>23</td>\n",
       "      <td>19</td>\n",
       "    </tr>\n",
       "    <tr>\n",
       "      <td>свой автомобиль</td>\n",
       "      <td>27</td>\n",
       "      <td>21</td>\n",
       "    </tr>\n",
       "    <tr>\n",
       "      <td>сделка с автомобилем</td>\n",
       "      <td>34</td>\n",
       "      <td>16</td>\n",
       "    </tr>\n",
       "    <tr>\n",
       "      <td>сделка с подержанным автомобилем</td>\n",
       "      <td>29</td>\n",
       "      <td>22</td>\n",
       "    </tr>\n",
       "    <tr>\n",
       "      <td rowspan=\"17\" valign=\"top\">Недвижимость</td>\n",
       "      <td>жилье</td>\n",
       "      <td>31</td>\n",
       "      <td>15</td>\n",
       "    </tr>\n",
       "    <tr>\n",
       "      <td>недвижимость</td>\n",
       "      <td>29</td>\n",
       "      <td>13</td>\n",
       "    </tr>\n",
       "    <tr>\n",
       "      <td>операции с жильем</td>\n",
       "      <td>30</td>\n",
       "      <td>18</td>\n",
       "    </tr>\n",
       "    <tr>\n",
       "      <td>операции с коммерческой недвижимостью</td>\n",
       "      <td>34</td>\n",
       "      <td>18</td>\n",
       "    </tr>\n",
       "    <tr>\n",
       "      <td>операции с недвижимостью</td>\n",
       "      <td>33</td>\n",
       "      <td>22</td>\n",
       "    </tr>\n",
       "    <tr>\n",
       "      <td>операции со своей недвижимостью</td>\n",
       "      <td>28</td>\n",
       "      <td>22</td>\n",
       "    </tr>\n",
       "    <tr>\n",
       "      <td>покупка жилой недвижимости</td>\n",
       "      <td>23</td>\n",
       "      <td>18</td>\n",
       "    </tr>\n",
       "    <tr>\n",
       "      <td>покупка жилья</td>\n",
       "      <td>28</td>\n",
       "      <td>20</td>\n",
       "    </tr>\n",
       "    <tr>\n",
       "      <td>покупка жилья для сдачи</td>\n",
       "      <td>31</td>\n",
       "      <td>21</td>\n",
       "    </tr>\n",
       "    <tr>\n",
       "      <td>покупка жилья для семьи</td>\n",
       "      <td>29</td>\n",
       "      <td>16</td>\n",
       "    </tr>\n",
       "    <tr>\n",
       "      <td>покупка коммерческой недвижимости</td>\n",
       "      <td>30</td>\n",
       "      <td>17</td>\n",
       "    </tr>\n",
       "    <tr>\n",
       "      <td>покупка недвижимости</td>\n",
       "      <td>21</td>\n",
       "      <td>22</td>\n",
       "    </tr>\n",
       "    <tr>\n",
       "      <td>покупка своего жилья</td>\n",
       "      <td>20</td>\n",
       "      <td>14</td>\n",
       "    </tr>\n",
       "    <tr>\n",
       "      <td>ремонт жилью</td>\n",
       "      <td>23</td>\n",
       "      <td>12</td>\n",
       "    </tr>\n",
       "    <tr>\n",
       "      <td>строительство жилой недвижимости</td>\n",
       "      <td>37</td>\n",
       "      <td>11</td>\n",
       "    </tr>\n",
       "    <tr>\n",
       "      <td>строительство недвижимости</td>\n",
       "      <td>27</td>\n",
       "      <td>27</td>\n",
       "    </tr>\n",
       "    <tr>\n",
       "      <td>строительство собственной недвижимости</td>\n",
       "      <td>22</td>\n",
       "      <td>20</td>\n",
       "    </tr>\n",
       "    <tr>\n",
       "      <td rowspan=\"9\" valign=\"top\">Образование</td>\n",
       "      <td>высшее образование</td>\n",
       "      <td>24</td>\n",
       "      <td>16</td>\n",
       "    </tr>\n",
       "    <tr>\n",
       "      <td>дополнительное образование</td>\n",
       "      <td>26</td>\n",
       "      <td>12</td>\n",
       "    </tr>\n",
       "    <tr>\n",
       "      <td>заняться высшим образованием</td>\n",
       "      <td>28</td>\n",
       "      <td>15</td>\n",
       "    </tr>\n",
       "    <tr>\n",
       "      <td>заняться образованием</td>\n",
       "      <td>20</td>\n",
       "      <td>19</td>\n",
       "    </tr>\n",
       "    <tr>\n",
       "      <td>образование</td>\n",
       "      <td>25</td>\n",
       "      <td>7</td>\n",
       "    </tr>\n",
       "    <tr>\n",
       "      <td>получение высшего образования</td>\n",
       "      <td>28</td>\n",
       "      <td>18</td>\n",
       "    </tr>\n",
       "    <tr>\n",
       "      <td>получение дополнительного образования</td>\n",
       "      <td>28</td>\n",
       "      <td>23</td>\n",
       "    </tr>\n",
       "    <tr>\n",
       "      <td>получение образования</td>\n",
       "      <td>21</td>\n",
       "      <td>16</td>\n",
       "    </tr>\n",
       "    <tr>\n",
       "      <td>профильное образование</td>\n",
       "      <td>29</td>\n",
       "      <td>15</td>\n",
       "    </tr>\n",
       "    <tr>\n",
       "      <td rowspan=\"3\" valign=\"top\">Свадьба</td>\n",
       "      <td>на проведение свадьбы</td>\n",
       "      <td>39</td>\n",
       "      <td>25</td>\n",
       "    </tr>\n",
       "    <tr>\n",
       "      <td>свадьба</td>\n",
       "      <td>39</td>\n",
       "      <td>25</td>\n",
       "    </tr>\n",
       "    <tr>\n",
       "      <td>сыграть свадьбу</td>\n",
       "      <td>37</td>\n",
       "      <td>21</td>\n",
       "    </tr>\n",
       "  </tbody>\n",
       "</table>\n",
       "</div>"
      ],
      "text/plain": [
       "children_groups                                        бездетные  есть дети\n",
       "purpose_groups purpose                                                     \n",
       "Автомобиль     автомобили                                     28         16\n",
       "               автомобиль                                     31         11\n",
       "               на покупку автомобиля                          22         22\n",
       "               на покупку подержанного автомобиля             20         16\n",
       "               на покупку своего автомобиля                   30         16\n",
       "               приобретение автомобиля                        23         19\n",
       "               свой автомобиль                                27         21\n",
       "               сделка с автомобилем                           34         16\n",
       "               сделка с подержанным автомобилем               29         22\n",
       "Недвижимость   жилье                                          31         15\n",
       "               недвижимость                                   29         13\n",
       "               операции с жильем                              30         18\n",
       "               операции с коммерческой недвижимостью          34         18\n",
       "               операции с недвижимостью                       33         22\n",
       "               операции со своей недвижимостью                28         22\n",
       "               покупка жилой недвижимости                     23         18\n",
       "               покупка жилья                                  28         20\n",
       "               покупка жилья для сдачи                        31         21\n",
       "               покупка жилья для семьи                        29         16\n",
       "               покупка коммерческой недвижимости              30         17\n",
       "               покупка недвижимости                           21         22\n",
       "               покупка своего жилья                           20         14\n",
       "               ремонт жилью                                   23         12\n",
       "               строительство жилой недвижимости               37         11\n",
       "               строительство недвижимости                     27         27\n",
       "               строительство собственной недвижимости         22         20\n",
       "Образование    высшее образование                             24         16\n",
       "               дополнительное образование                     26         12\n",
       "               заняться высшим образованием                   28         15\n",
       "               заняться образованием                          20         19\n",
       "               образование                                    25          7\n",
       "               получение высшего образования                  28         18\n",
       "               получение дополнительного образования          28         23\n",
       "               получение образования                          21         16\n",
       "               профильное образование                         29         15\n",
       "Свадьба        на проведение свадьбы                          39         25\n",
       "               свадьба                                        39         25\n",
       "               сыграть свадьбу                                37         21"
      ]
     },
     "execution_count": 10,
     "metadata": {},
     "output_type": "execute_result"
    }
   ],
   "source": [
    "data_purpose_count = data.groupby('purpose_groups')['debt'].count() # создадим series где видно раздельное кол-во целей \n",
    "display(data_purpose_count)\n",
    "data_purpose_sum = data.groupby('purpose_groups')['debt'].sum() # создадим series где видно кол-во должников относительно каждой группы целей\n",
    "display(data_purpose_sum)\n",
    "data_purpose_percent = (data_purpose_sum/data_purpose_count).sort_values()\n",
    "display(data_purpose_percent)\n",
    "\n",
    "data_pivot = data.pivot_table(\n",
    "    index=['purpose_groups', 'purpose'], columns='children_groups', values='debt', aggfunc='sum')\n",
    "data_pivot"
   ]
  },
  {
   "cell_type": "markdown",
   "metadata": {},
   "source": [
    "**Вывод**"
   ]
  },
  {
   "cell_type": "markdown",
   "metadata": {},
   "source": [
    "1. зависимость возврата кредита от их целей тоже есть. Например наибольшее число заявок в группе \"Недвижимость\" и при этом там же наименьший процент должников =**7,2%**\n",
    "2. Группы \"Образование\" и \"автомобиль\" примерно равны как по общему числу заявок, так и по проценту должников = **9,2%** и **9,3%** соответственно.\n",
    "3. На \"Свадьбу\" кредитов берут меньше всего и эта группа в числе \"хороших\" заемщиков с результатом **8%** должников, так как создание молодой официальной семьи как правило ведет к увеличению суммарного дохода и положительно сказывается на финансовой дисциплине заемщиков."
   ]
  },
  {
   "cell_type": "markdown",
   "metadata": {},
   "source": [
    "<div class=\"alert alert-success\">\n",
    "<b>✔️ Комментарий ревьюера:</b>\n",
    "<br>Абсолютно верно! Возможно, это связано с тем, что к покупке жилья люди относятся более ответственно, так как сумма заемных средств и срок кредита, как правило гораздо выше чем в остальных категориях, а свадебные кредиты возвращаются за счет подаренных денег\n",
    "</div>"
   ]
  },
  {
   "cell_type": "markdown",
   "metadata": {},
   "source": [
    "<div class=\"alert alert-info\">\n",
    "<b>Комментарий студента:</b>\n",
    "построил дополнительную сводную таблицу"
   ]
  },
  {
   "cell_type": "markdown",
   "metadata": {},
   "source": [
    "## Шаг 4. Общий вывод"
   ]
  },
  {
   "cell_type": "markdown",
   "metadata": {},
   "source": [
    "1. **Влияение семейного положения и наличие детей на возврат кредита очевидно.** \n",
    "2. **после группировки и сортировки данных можно склеить портрет почти идеального заемщика: это семейный человек, либо водец/вдова, без детей, с высоким либо средним доходом.** \n",
    "3. **Так же статистика подсказывает тот факт, что при выборе целей кредита тоже есть разница. Если \"идеальный клиент\" выбирает покупку недвижимости, то желание вернуть кредит выше, а процент должников ниже и составляет 7,2%.**\n",
    "4. **стоит обратить особое внимание на портрет неидеального клиента, а именно - многодетный отец \\ мать, не оформившие официальные отношения, с низким уровнем дохода и с целью оформить авто кредит.**\n",
    "*Итоговая таблица с исследуемыми категориями клиентов находится ниже.*"
   ]
  },
  {
   "cell_type": "markdown",
   "metadata": {},
   "source": [
    "<div class=\"alert alert-danger\">\n",
    "<b>❌ Итоговый комментарий ревьюера:</b> \n",
    "<br>Ты хорошо потрудился, большая часть работы сделана, но остаётся внести следующие правки:\n",
    "<br>- применить метод info() для первичного анализа данных    \n",
    "<br>- убрать дополнительную категоризацию по семейному положению  \n",
    "<br>- правильно категоризировать наличие детей   \n",
    "<br>- построить сводную таблицу используя метод pivot_table() для любого из вопросов в шаге 3. Это необходимо для отработки пройденного материала\n",
    "<br>- поправить итоговые выводы    \n",
    "</div>"
   ]
  },
  {
   "cell_type": "markdown",
   "metadata": {},
   "source": [
    "<div class=\"alert alert-success\">\n",
    "<b>✔️ Итоговый комментарий ревьюера v2:</b>\n",
    "<br>Ты проделал большую работу! У тебя шикарные выводы с хорошей аргументацией. Здорово, что ты пишешь свои рассуждения и предположения - это помогает видеть ход твоей мысли. Отдельно хочу выделить аккуратность и структурированность твоей работы. Отдельный плюс за итоговую таблицу в конце - это готовый отчет для коллег) Рад был поработать над проверкой твоего проекта! Желаю удачи в дальнейшем обучении! 😉\n",
    "</div>"
   ]
  },
  {
   "cell_type": "markdown",
   "metadata": {},
   "source": [
    "## Чек-лист готовности проекта\n",
    "\n",
    "Поставьте 'x' в выполненных пунктах. Далее нажмите Shift+Enter."
   ]
  },
  {
   "cell_type": "markdown",
   "metadata": {},
   "source": [
    "- [x]  открыт файл;\n",
    "- [x]  файл изучен;\n",
    "- [x]  определены пропущенные значения;\n",
    "- [x]  заполнены пропущенные значения;\n",
    "- [x]  есть пояснение, какие пропущенные значения обнаружены;\n",
    "- [x]  описаны возможные причины появления пропусков в данных;\n",
    "- [x]  объяснено, по какому принципу заполнены пропуски;\n",
    "- [x]  заменен вещественный тип данных на целочисленный;\n",
    "- [x]  есть пояснение, какой метод используется для изменения типа данных и почему;\n",
    "- [x]  удалены дубликаты;\n",
    "- [x]  есть пояснение, какой метод используется для поиска и удаления дубликатов;\n",
    "- [x]  описаны возможные причины появления дубликатов в данных;\n",
    "- [x]  выделены леммы в значениях столбца с целями получения кредита;\n",
    "- [x]  описан процесс лемматизации;\n",
    "- [x]  данные категоризированы;\n",
    "- [x]  есть объяснение принципа категоризации данных;\n",
    "- [x]  есть ответ на вопрос: \"Есть ли зависимость между наличием детей и возвратом кредита в срок?\";\n",
    "- [x]  есть ответ на вопрос: \"Есть ли зависимость между семейным положением и возвратом кредита в срок?\";\n",
    "- [x]  есть ответ на вопрос: \"Есть ли зависимость между уровнем дохода и возвратом кредита в срок?\";\n",
    "- [x]  есть ответ на вопрос: \"Как разные цели кредита влияют на его возврат в срок?\";\n",
    "- [x]  в каждом этапе есть выводы;\n",
    "- [x]  есть общий вывод."
   ]
  },
  {
   "cell_type": "code",
   "execution_count": 11,
   "metadata": {},
   "outputs": [
    {
     "data": {
      "text/html": [
       "<div>\n",
       "<style scoped>\n",
       "    .dataframe tbody tr th:only-of-type {\n",
       "        vertical-align: middle;\n",
       "    }\n",
       "\n",
       "    .dataframe tbody tr th {\n",
       "        vertical-align: top;\n",
       "    }\n",
       "\n",
       "    .dataframe thead th {\n",
       "        text-align: right;\n",
       "    }\n",
       "</style>\n",
       "<table border=\"1\" class=\"dataframe\">\n",
       "  <thead>\n",
       "    <tr style=\"text-align: right;\">\n",
       "      <th></th>\n",
       "      <th>категория заемщика</th>\n",
       "      <th>общее кол-во</th>\n",
       "      <th>должники</th>\n",
       "      <th>процент должников</th>\n",
       "    </tr>\n",
       "  </thead>\n",
       "  <tbody>\n",
       "    <tr>\n",
       "      <td>0</td>\n",
       "      <td>бездетные</td>\n",
       "      <td>14196</td>\n",
       "      <td>1064</td>\n",
       "      <td>0.074951</td>\n",
       "    </tr>\n",
       "    <tr>\n",
       "      <td>1</td>\n",
       "      <td>один ребенок</td>\n",
       "      <td>4818</td>\n",
       "      <td>444</td>\n",
       "      <td>0.092154</td>\n",
       "    </tr>\n",
       "    <tr>\n",
       "      <td>2</td>\n",
       "      <td>многодетные</td>\n",
       "      <td>2511</td>\n",
       "      <td>233</td>\n",
       "      <td>0.092792</td>\n",
       "    </tr>\n",
       "  </tbody>\n",
       "</table>\n",
       "</div>"
      ],
      "text/plain": [
       "  категория заемщика общее кол-во должники процент должников\n",
       "0          бездетные        14196     1064          0.074951\n",
       "1       один ребенок         4818      444          0.092154\n",
       "2        многодетные         2511      233          0.092792"
      ]
     },
     "metadata": {},
     "output_type": "display_data"
    },
    {
     "data": {
      "text/html": [
       "<div>\n",
       "<style scoped>\n",
       "    .dataframe tbody tr th:only-of-type {\n",
       "        vertical-align: middle;\n",
       "    }\n",
       "\n",
       "    .dataframe tbody tr th {\n",
       "        vertical-align: top;\n",
       "    }\n",
       "\n",
       "    .dataframe thead th {\n",
       "        text-align: right;\n",
       "    }\n",
       "</style>\n",
       "<table border=\"1\" class=\"dataframe\">\n",
       "  <thead>\n",
       "    <tr style=\"text-align: right;\">\n",
       "      <th></th>\n",
       "      <th>категория заемщика</th>\n",
       "      <th>общее кол-во</th>\n",
       "      <th>должники</th>\n",
       "      <th>процент должников</th>\n",
       "    </tr>\n",
       "  </thead>\n",
       "  <tbody>\n",
       "    <tr>\n",
       "      <td>0</td>\n",
       "      <td>женат / замужем</td>\n",
       "      <td>12380</td>\n",
       "      <td>931</td>\n",
       "      <td>0.075202</td>\n",
       "    </tr>\n",
       "    <tr>\n",
       "      <td>1</td>\n",
       "      <td>не женат / не замужем</td>\n",
       "      <td>9145</td>\n",
       "      <td>810</td>\n",
       "      <td>0.088573</td>\n",
       "    </tr>\n",
       "  </tbody>\n",
       "</table>\n",
       "</div>"
      ],
      "text/plain": [
       "      категория заемщика общее кол-во должники процент должников\n",
       "0        женат / замужем        12380      931          0.075202\n",
       "1  не женат / не замужем         9145      810          0.088573"
      ]
     },
     "metadata": {},
     "output_type": "display_data"
    },
    {
     "data": {
      "text/html": [
       "<div>\n",
       "<style scoped>\n",
       "    .dataframe tbody tr th:only-of-type {\n",
       "        vertical-align: middle;\n",
       "    }\n",
       "\n",
       "    .dataframe tbody tr th {\n",
       "        vertical-align: top;\n",
       "    }\n",
       "\n",
       "    .dataframe thead th {\n",
       "        text-align: right;\n",
       "    }\n",
       "</style>\n",
       "<table border=\"1\" class=\"dataframe\">\n",
       "  <thead>\n",
       "    <tr style=\"text-align: right;\">\n",
       "      <th></th>\n",
       "      <th>категория заемщика</th>\n",
       "      <th>общее кол-во</th>\n",
       "      <th>должники</th>\n",
       "      <th>процент должников</th>\n",
       "    </tr>\n",
       "  </thead>\n",
       "  <tbody>\n",
       "    <tr>\n",
       "      <td>0</td>\n",
       "      <td>высокий доход</td>\n",
       "      <td>23</td>\n",
       "      <td>1</td>\n",
       "      <td>0.043478</td>\n",
       "    </tr>\n",
       "    <tr>\n",
       "      <td>1</td>\n",
       "      <td>средний доход</td>\n",
       "      <td>197</td>\n",
       "      <td>12</td>\n",
       "      <td>0.060914</td>\n",
       "    </tr>\n",
       "    <tr>\n",
       "      <td>2</td>\n",
       "      <td>низкий доход</td>\n",
       "      <td>21303</td>\n",
       "      <td>1727</td>\n",
       "      <td>0.081068</td>\n",
       "    </tr>\n",
       "    <tr>\n",
       "      <td>3</td>\n",
       "      <td>олигарх</td>\n",
       "      <td>2</td>\n",
       "      <td>1</td>\n",
       "      <td>0.50</td>\n",
       "    </tr>\n",
       "  </tbody>\n",
       "</table>\n",
       "</div>"
      ],
      "text/plain": [
       "  категория заемщика общее кол-во должники процент должников\n",
       "0      высокий доход           23        1          0.043478\n",
       "1      средний доход          197       12          0.060914\n",
       "2       низкий доход        21303     1727          0.081068\n",
       "3            олигарх            2        1              0.50"
      ]
     },
     "metadata": {},
     "output_type": "display_data"
    },
    {
     "data": {
      "text/html": [
       "<div>\n",
       "<style scoped>\n",
       "    .dataframe tbody tr th:only-of-type {\n",
       "        vertical-align: middle;\n",
       "    }\n",
       "\n",
       "    .dataframe tbody tr th {\n",
       "        vertical-align: top;\n",
       "    }\n",
       "\n",
       "    .dataframe thead th {\n",
       "        text-align: right;\n",
       "    }\n",
       "</style>\n",
       "<table border=\"1\" class=\"dataframe\">\n",
       "  <thead>\n",
       "    <tr style=\"text-align: right;\">\n",
       "      <th></th>\n",
       "      <th>категория заемщика</th>\n",
       "      <th>общее кол-во</th>\n",
       "      <th>должники</th>\n",
       "      <th>процент должников</th>\n",
       "    </tr>\n",
       "  </thead>\n",
       "  <tbody>\n",
       "    <tr>\n",
       "      <td>0</td>\n",
       "      <td>недвижимость</td>\n",
       "      <td>10840</td>\n",
       "      <td>782</td>\n",
       "      <td>0.072140</td>\n",
       "    </tr>\n",
       "    <tr>\n",
       "      <td>1</td>\n",
       "      <td>свадьба</td>\n",
       "      <td>2348</td>\n",
       "      <td>186</td>\n",
       "      <td>0.091994</td>\n",
       "    </tr>\n",
       "    <tr>\n",
       "      <td>2</td>\n",
       "      <td>образование</td>\n",
       "      <td>4022</td>\n",
       "      <td>370</td>\n",
       "      <td>0.091994</td>\n",
       "    </tr>\n",
       "    <tr>\n",
       "      <td>3</td>\n",
       "      <td>автомобиль</td>\n",
       "      <td>4315</td>\n",
       "      <td>403</td>\n",
       "      <td>0.093395</td>\n",
       "    </tr>\n",
       "  </tbody>\n",
       "</table>\n",
       "</div>"
      ],
      "text/plain": [
       "  категория заемщика общее кол-во должники процент должников\n",
       "0       недвижимость        10840      782          0.072140\n",
       "1            свадьба         2348      186          0.091994\n",
       "2        образование         4022      370          0.091994\n",
       "3         автомобиль         4315      403          0.093395"
      ]
     },
     "metadata": {},
     "output_type": "display_data"
    }
   ],
   "source": [
    "data_table_children = [['бездетные', '14196', '1064', '0.074951'],\n",
    "       ['один ребенок', '4818', '444', '0.092154'],\n",
    "       ['многодетные', '2511', '233', '0.092792']]       \n",
    "columns = ['категория заемщика', 'общее кол-во', 'должники', 'процент должников']\n",
    "\n",
    "research_children_result = pd.DataFrame(data = data_table_children, columns =\n",
    "columns)\n",
    "display(research_children_result)\n",
    "\n",
    "data_table_family_id = [['женат / замужем', '12380', '931', '0.075202'],\n",
    "       ['не женат / не замужем', '9145', '810', '0.088573']]    \n",
    "columns = ['категория заемщика', 'общее кол-во', 'должники', 'процент должников']\n",
    "\n",
    "research_family_id_result = pd.DataFrame(data = data_table_family_id, columns =\n",
    "columns)\n",
    "display(research_family_id_result)\n",
    "\n",
    "data_table_income = [['высокий доход', '23', '1', '0.043478'],\n",
    "       ['средний доход', '197', '12', '0.060914'],\n",
    "       ['низкий доход', '21303', '1727', '0.081068'], \n",
    "       ['олигарх', '2', '1', '0.50']]                  \n",
    "columns = ['категория заемщика', 'общее кол-во', 'должники', 'процент должников']\n",
    "\n",
    "research_income_result = pd.DataFrame(data = data_table_income, columns =\n",
    "columns)\n",
    "display(research_income_result)\n",
    "\n",
    "data_table_purpose = [['недвижимость', '10840', '782', '0.072140'],\n",
    "       ['свадьба', '2348', '186', '0.091994'],\n",
    "       ['образование', '4022', '370', '0.091994'], \n",
    "       ['автомобиль', '4315', '403', '0.093395']]                  \n",
    "columns = ['категория заемщика', 'общее кол-во', 'должники', 'процент должников']\n",
    "\n",
    "research_purpose_result = pd.DataFrame(data = data_table_purpose, columns =\n",
    "columns)\n",
    "display(research_purpose_result)"
   ]
  }
 ],
 "metadata": {
  "ExecuteTimeLog": [
   {
    "duration": 836,
    "start_time": "2021-12-02T15:18:56.822Z"
   },
   {
    "duration": 13,
    "start_time": "2021-12-02T17:01:16.383Z"
   },
   {
    "duration": 491,
    "start_time": "2021-12-03T09:37:01.031Z"
   },
   {
    "duration": 1285,
    "start_time": "2021-12-03T09:37:08.240Z"
   },
   {
    "duration": 16,
    "start_time": "2021-12-03T09:37:13.336Z"
   },
   {
    "duration": 430,
    "start_time": "2021-12-03T09:39:56.622Z"
   },
   {
    "duration": 436,
    "start_time": "2021-12-03T09:40:14.571Z"
   },
   {
    "duration": 14,
    "start_time": "2021-12-03T09:40:23.533Z"
   },
   {
    "duration": 438,
    "start_time": "2021-12-03T09:42:37.347Z"
   },
   {
    "duration": 5,
    "start_time": "2021-12-03T09:42:46.995Z"
   },
   {
    "duration": 13,
    "start_time": "2021-12-03T09:45:49.653Z"
   },
   {
    "duration": 76,
    "start_time": "2021-12-03T09:50:57.925Z"
   },
   {
    "duration": 74,
    "start_time": "2021-12-03T09:51:25.728Z"
   },
   {
    "duration": 96,
    "start_time": "2021-12-03T09:51:47.868Z"
   },
   {
    "duration": 38,
    "start_time": "2021-12-03T09:59:10.517Z"
   },
   {
    "duration": 14,
    "start_time": "2021-12-03T09:59:52.840Z"
   },
   {
    "duration": 18,
    "start_time": "2021-12-03T10:00:19.813Z"
   },
   {
    "duration": 92,
    "start_time": "2021-12-03T14:23:09.301Z"
   },
   {
    "duration": 15,
    "start_time": "2021-12-03T14:23:09.396Z"
   },
   {
    "duration": 381,
    "start_time": "2021-12-03T14:23:13.957Z"
   },
   {
    "duration": 363,
    "start_time": "2021-12-03T14:24:09.674Z"
   },
   {
    "duration": 430,
    "start_time": "2021-12-03T14:25:13.674Z"
   },
   {
    "duration": 135,
    "start_time": "2021-12-03T14:42:12.306Z"
   },
   {
    "duration": 117,
    "start_time": "2021-12-03T14:42:29.243Z"
   },
   {
    "duration": 13,
    "start_time": "2021-12-03T14:42:40.814Z"
   },
   {
    "duration": 20,
    "start_time": "2021-12-03T14:43:46.524Z"
   },
   {
    "duration": 29,
    "start_time": "2021-12-03T14:47:44.181Z"
   },
   {
    "duration": 23,
    "start_time": "2021-12-03T14:49:17.356Z"
   },
   {
    "duration": 19,
    "start_time": "2021-12-03T14:49:31.356Z"
   },
   {
    "duration": 10,
    "start_time": "2021-12-03T14:58:14.421Z"
   },
   {
    "duration": 459,
    "start_time": "2021-12-03T14:58:47.048Z"
   },
   {
    "duration": 10,
    "start_time": "2021-12-03T14:59:34.846Z"
   },
   {
    "duration": 877,
    "start_time": "2021-12-04T14:48:28.314Z"
   },
   {
    "duration": 15,
    "start_time": "2021-12-04T14:48:29.193Z"
   },
   {
    "duration": 27,
    "start_time": "2021-12-04T14:48:29.211Z"
   },
   {
    "duration": 21,
    "start_time": "2021-12-04T14:48:52.623Z"
   },
   {
    "duration": 23,
    "start_time": "2021-12-04T14:54:39.170Z"
   },
   {
    "duration": 21,
    "start_time": "2021-12-04T14:54:49.631Z"
   },
   {
    "duration": 28,
    "start_time": "2021-12-04T14:55:19.492Z"
   },
   {
    "duration": 64,
    "start_time": "2021-12-04T14:57:21.419Z"
   },
   {
    "duration": 392,
    "start_time": "2021-12-04T14:59:14.658Z"
   },
   {
    "duration": 82,
    "start_time": "2021-12-04T15:02:40.102Z"
   },
   {
    "duration": 75,
    "start_time": "2021-12-04T15:04:00.446Z"
   },
   {
    "duration": 77,
    "start_time": "2021-12-04T15:04:19.694Z"
   },
   {
    "duration": 37,
    "start_time": "2021-12-04T15:08:20.328Z"
   },
   {
    "duration": 42,
    "start_time": "2021-12-04T15:08:49.912Z"
   },
   {
    "duration": 36,
    "start_time": "2021-12-04T15:10:41.185Z"
   },
   {
    "duration": 59,
    "start_time": "2021-12-04T15:10:52.617Z"
   },
   {
    "duration": 50,
    "start_time": "2021-12-04T15:13:06.556Z"
   },
   {
    "duration": 33,
    "start_time": "2021-12-04T15:13:25.804Z"
   },
   {
    "duration": 41,
    "start_time": "2021-12-04T15:17:20.241Z"
   },
   {
    "duration": 89,
    "start_time": "2021-12-04T15:18:16.949Z"
   },
   {
    "duration": 14,
    "start_time": "2021-12-04T15:18:17.041Z"
   },
   {
    "duration": 17,
    "start_time": "2021-12-04T15:18:17.058Z"
   },
   {
    "duration": 22,
    "start_time": "2021-12-04T15:18:30.051Z"
   },
   {
    "duration": 66,
    "start_time": "2021-12-04T15:18:44.628Z"
   },
   {
    "duration": 121,
    "start_time": "2021-12-04T15:23:23.419Z"
   },
   {
    "duration": 91,
    "start_time": "2021-12-04T15:23:54.867Z"
   },
   {
    "duration": 92,
    "start_time": "2021-12-04T15:24:08.077Z"
   },
   {
    "duration": 93,
    "start_time": "2021-12-04T15:24:40.907Z"
   },
   {
    "duration": 72,
    "start_time": "2021-12-04T15:26:09.431Z"
   },
   {
    "duration": 19,
    "start_time": "2021-12-04T15:32:47.475Z"
   },
   {
    "duration": 30,
    "start_time": "2021-12-04T15:33:04.754Z"
   },
   {
    "duration": 30,
    "start_time": "2021-12-04T15:33:41.862Z"
   },
   {
    "duration": 73,
    "start_time": "2021-12-04T15:35:40.374Z"
   },
   {
    "duration": 49,
    "start_time": "2021-12-04T15:36:18.301Z"
   },
   {
    "duration": 33,
    "start_time": "2021-12-04T15:39:32.506Z"
   },
   {
    "duration": 61,
    "start_time": "2021-12-04T15:43:14.961Z"
   },
   {
    "duration": 46,
    "start_time": "2021-12-04T15:44:40.370Z"
   },
   {
    "duration": 25,
    "start_time": "2021-12-04T15:49:31.637Z"
   },
   {
    "duration": 29,
    "start_time": "2021-12-04T15:50:25.259Z"
   },
   {
    "duration": 776,
    "start_time": "2021-12-05T11:45:06.764Z"
   },
   {
    "duration": 11,
    "start_time": "2021-12-05T11:45:07.541Z"
   },
   {
    "duration": 21,
    "start_time": "2021-12-05T11:45:07.553Z"
   },
   {
    "duration": 35,
    "start_time": "2021-12-05T11:45:07.588Z"
   },
   {
    "duration": 9,
    "start_time": "2021-12-05T11:59:12.772Z"
   },
   {
    "duration": 7,
    "start_time": "2021-12-05T11:59:50.322Z"
   },
   {
    "duration": 7,
    "start_time": "2021-12-05T12:04:11.439Z"
   },
   {
    "duration": 10,
    "start_time": "2021-12-05T12:05:07.412Z"
   },
   {
    "duration": 83,
    "start_time": "2021-12-05T12:10:05.283Z"
   },
   {
    "duration": 88,
    "start_time": "2021-12-05T12:10:30.807Z"
   },
   {
    "duration": 84,
    "start_time": "2021-12-05T12:11:22.000Z"
   },
   {
    "duration": 297,
    "start_time": "2021-12-05T12:12:46.224Z"
   },
   {
    "duration": 276,
    "start_time": "2021-12-05T12:13:08.883Z"
   },
   {
    "duration": 62,
    "start_time": "2021-12-05T12:13:21.441Z"
   },
   {
    "duration": 9,
    "start_time": "2021-12-05T12:13:21.504Z"
   },
   {
    "duration": 19,
    "start_time": "2021-12-05T12:13:21.515Z"
   },
   {
    "duration": 329,
    "start_time": "2021-12-05T12:13:24.412Z"
   },
   {
    "duration": 235,
    "start_time": "2021-12-05T12:13:41.237Z"
   },
   {
    "duration": 237,
    "start_time": "2021-12-05T12:13:54.686Z"
   },
   {
    "duration": 13,
    "start_time": "2021-12-05T12:14:50.266Z"
   },
   {
    "duration": 82,
    "start_time": "2021-12-05T12:17:43.320Z"
   },
   {
    "duration": 76,
    "start_time": "2021-12-05T12:18:21.837Z"
   },
   {
    "duration": 269,
    "start_time": "2021-12-05T12:19:10.882Z"
   },
   {
    "duration": 242,
    "start_time": "2021-12-05T12:19:48.365Z"
   },
   {
    "duration": 6,
    "start_time": "2021-12-05T12:20:19.975Z"
   },
   {
    "duration": 5791,
    "start_time": "2021-12-05T12:23:12.253Z"
   },
   {
    "duration": 77,
    "start_time": "2021-12-05T13:52:24.483Z"
   },
   {
    "duration": 11,
    "start_time": "2021-12-05T13:52:24.562Z"
   },
   {
    "duration": 28,
    "start_time": "2021-12-05T13:52:24.575Z"
   },
   {
    "duration": 13,
    "start_time": "2021-12-05T13:52:28.626Z"
   },
   {
    "duration": 678,
    "start_time": "2021-12-06T10:55:29.429Z"
   },
   {
    "duration": 12,
    "start_time": "2021-12-06T10:55:30.109Z"
   },
   {
    "duration": 23,
    "start_time": "2021-12-06T10:55:30.123Z"
   },
   {
    "duration": 15,
    "start_time": "2021-12-06T10:56:21.219Z"
   },
   {
    "duration": 17,
    "start_time": "2021-12-06T11:04:57.777Z"
   },
   {
    "duration": 16,
    "start_time": "2021-12-06T11:05:39.710Z"
   },
   {
    "duration": 42,
    "start_time": "2021-12-06T11:07:22.164Z"
   },
   {
    "duration": 58,
    "start_time": "2021-12-06T11:13:51.896Z"
   },
   {
    "duration": 60,
    "start_time": "2021-12-06T11:20:33.236Z"
   },
   {
    "duration": 58,
    "start_time": "2021-12-06T11:24:31.616Z"
   },
   {
    "duration": 60,
    "start_time": "2021-12-06T11:24:58.104Z"
   },
   {
    "duration": 918,
    "start_time": "2021-12-06T15:05:04.971Z"
   },
   {
    "duration": 18,
    "start_time": "2021-12-06T15:05:05.893Z"
   },
   {
    "duration": 60,
    "start_time": "2021-12-06T15:05:05.915Z"
   },
   {
    "duration": 131,
    "start_time": "2021-12-06T15:05:05.977Z"
   },
   {
    "duration": 128,
    "start_time": "2021-12-06T15:05:59.459Z"
   },
   {
    "duration": 109,
    "start_time": "2021-12-06T15:12:10.433Z"
   },
   {
    "duration": 119,
    "start_time": "2021-12-06T15:12:23.787Z"
   },
   {
    "duration": 116,
    "start_time": "2021-12-06T15:20:23.552Z"
   },
   {
    "duration": 105,
    "start_time": "2021-12-06T15:21:20.525Z"
   },
   {
    "duration": 111,
    "start_time": "2021-12-06T15:22:03.124Z"
   },
   {
    "duration": 90,
    "start_time": "2021-12-06T15:25:14.164Z"
   },
   {
    "duration": 93,
    "start_time": "2021-12-06T15:25:37.812Z"
   },
   {
    "duration": 593,
    "start_time": "2021-12-06T15:36:06.960Z"
   },
   {
    "duration": 7367,
    "start_time": "2021-12-06T15:40:26.211Z"
   },
   {
    "duration": 991,
    "start_time": "2021-12-06T16:04:30.157Z"
   },
   {
    "duration": 1383,
    "start_time": "2021-12-06T16:15:44.228Z"
   },
   {
    "duration": 1099,
    "start_time": "2021-12-06T16:16:06.792Z"
   },
   {
    "duration": 1447,
    "start_time": "2021-12-07T08:39:04.522Z"
   },
   {
    "duration": 24,
    "start_time": "2021-12-07T08:39:05.973Z"
   },
   {
    "duration": 37,
    "start_time": "2021-12-07T08:39:06.019Z"
   },
   {
    "duration": 114,
    "start_time": "2021-12-07T08:39:06.059Z"
   },
   {
    "duration": 989,
    "start_time": "2021-12-07T08:39:06.175Z"
   },
   {
    "duration": 28,
    "start_time": "2021-12-07T11:00:03.087Z"
   },
   {
    "duration": 12,
    "start_time": "2021-12-07T11:04:18.756Z"
   },
   {
    "duration": 16,
    "start_time": "2021-12-07T11:07:03.306Z"
   },
   {
    "duration": 18,
    "start_time": "2021-12-07T11:07:57.006Z"
   },
   {
    "duration": 8745,
    "start_time": "2021-12-07T11:09:07.614Z"
   },
   {
    "duration": 2410,
    "start_time": "2021-12-07T11:10:15.956Z"
   },
   {
    "duration": 31,
    "start_time": "2021-12-07T11:10:50.419Z"
   },
   {
    "duration": 329,
    "start_time": "2021-12-07T11:12:09.415Z"
   },
   {
    "duration": 49,
    "start_time": "2021-12-07T11:12:47.169Z"
   },
   {
    "duration": 115,
    "start_time": "2021-12-07T11:13:15.139Z"
   },
   {
    "duration": 93,
    "start_time": "2021-12-07T11:13:50.621Z"
   },
   {
    "duration": 88,
    "start_time": "2021-12-07T11:14:23.279Z"
   },
   {
    "duration": 18,
    "start_time": "2021-12-07T11:16:08.272Z"
   },
   {
    "duration": 13,
    "start_time": "2021-12-07T11:18:41.719Z"
   },
   {
    "duration": 26,
    "start_time": "2021-12-07T11:19:09.153Z"
   },
   {
    "duration": 308,
    "start_time": "2021-12-07T11:20:12.146Z"
   },
   {
    "duration": 322,
    "start_time": "2021-12-07T11:21:01.267Z"
   },
   {
    "duration": 380,
    "start_time": "2021-12-07T11:21:22.875Z"
   },
   {
    "duration": 902,
    "start_time": "2021-12-07T11:22:07.579Z"
   },
   {
    "duration": 16,
    "start_time": "2021-12-07T11:22:08.484Z"
   },
   {
    "duration": 61,
    "start_time": "2021-12-07T11:22:08.503Z"
   },
   {
    "duration": 2490,
    "start_time": "2021-12-07T11:22:08.567Z"
   },
   {
    "duration": -859,
    "start_time": "2021-12-07T11:22:11.919Z"
   },
   {
    "duration": 318,
    "start_time": "2021-12-07T11:22:43.246Z"
   },
   {
    "duration": 42,
    "start_time": "2021-12-07T11:23:01.182Z"
   },
   {
    "duration": 90,
    "start_time": "2021-12-07T11:25:19.998Z"
   },
   {
    "duration": 27,
    "start_time": "2021-12-07T11:25:20.091Z"
   },
   {
    "duration": 44,
    "start_time": "2021-12-07T11:25:20.121Z"
   },
   {
    "duration": 128,
    "start_time": "2021-12-07T11:25:20.168Z"
   },
   {
    "duration": 1001,
    "start_time": "2021-12-07T11:25:20.299Z"
   },
   {
    "duration": 20,
    "start_time": "2021-12-07T11:25:48.734Z"
   },
   {
    "duration": 29,
    "start_time": "2021-12-07T11:36:57.692Z"
   },
   {
    "duration": 16,
    "start_time": "2021-12-07T11:37:28.762Z"
   },
   {
    "duration": 10,
    "start_time": "2021-12-07T11:38:28.313Z"
   },
   {
    "duration": 17,
    "start_time": "2021-12-07T11:38:35.746Z"
   },
   {
    "duration": 16,
    "start_time": "2021-12-07T11:40:19.286Z"
   },
   {
    "duration": 20,
    "start_time": "2021-12-07T11:41:50.780Z"
   },
   {
    "duration": 16,
    "start_time": "2021-12-07T11:42:28.353Z"
   },
   {
    "duration": 18,
    "start_time": "2021-12-07T12:00:51.853Z"
   },
   {
    "duration": 15,
    "start_time": "2021-12-07T12:01:42.000Z"
   },
   {
    "duration": 20,
    "start_time": "2021-12-07T12:01:48.029Z"
   },
   {
    "duration": -812,
    "start_time": "2021-12-07T12:04:03.627Z"
   },
   {
    "duration": 8506,
    "start_time": "2021-12-07T12:04:25.842Z"
   },
   {
    "duration": 88,
    "start_time": "2021-12-07T12:05:45.609Z"
   },
   {
    "duration": 29,
    "start_time": "2021-12-07T12:05:45.700Z"
   },
   {
    "duration": 35,
    "start_time": "2021-12-07T12:05:45.732Z"
   },
   {
    "duration": 114,
    "start_time": "2021-12-07T12:05:45.770Z"
   },
   {
    "duration": 1063,
    "start_time": "2021-12-07T12:05:45.886Z"
   },
   {
    "duration": 7951,
    "start_time": "2021-12-07T12:06:06.986Z"
   },
   {
    "duration": 19,
    "start_time": "2021-12-07T12:06:40.915Z"
   },
   {
    "duration": 19,
    "start_time": "2021-12-07T12:07:11.957Z"
   },
   {
    "duration": 17,
    "start_time": "2021-12-07T12:15:25.112Z"
   },
   {
    "duration": 9120,
    "start_time": "2021-12-07T12:15:59.180Z"
   },
   {
    "duration": 19,
    "start_time": "2021-12-07T12:16:31.806Z"
   },
   {
    "duration": 8374,
    "start_time": "2021-12-07T12:38:30.091Z"
   },
   {
    "duration": 16,
    "start_time": "2021-12-07T12:39:10.072Z"
   },
   {
    "duration": 13,
    "start_time": "2021-12-07T12:39:14.173Z"
   },
   {
    "duration": 22,
    "start_time": "2021-12-07T12:39:39.243Z"
   },
   {
    "duration": 18,
    "start_time": "2021-12-07T12:45:34.285Z"
   },
   {
    "duration": 8535,
    "start_time": "2021-12-07T12:52:06.466Z"
   },
   {
    "duration": 26,
    "start_time": "2021-12-07T12:53:12.522Z"
   },
   {
    "duration": 30,
    "start_time": "2021-12-07T12:53:33.084Z"
   },
   {
    "duration": 29,
    "start_time": "2021-12-07T12:54:25.615Z"
   },
   {
    "duration": 31,
    "start_time": "2021-12-07T12:54:40.368Z"
   },
   {
    "duration": 35,
    "start_time": "2021-12-07T12:55:02.635Z"
   },
   {
    "duration": 8317,
    "start_time": "2021-12-07T12:56:53.630Z"
   },
   {
    "duration": 24,
    "start_time": "2021-12-07T12:57:17.664Z"
   },
   {
    "duration": 28,
    "start_time": "2021-12-07T13:00:34.548Z"
   },
   {
    "duration": 8061,
    "start_time": "2021-12-07T13:01:14.712Z"
   },
   {
    "duration": 37,
    "start_time": "2021-12-07T13:01:46.262Z"
   },
   {
    "duration": 56,
    "start_time": "2021-12-07T13:04:15.613Z"
   },
   {
    "duration": 43,
    "start_time": "2021-12-07T13:04:34.414Z"
   },
   {
    "duration": 42,
    "start_time": "2021-12-07T13:05:13.273Z"
   },
   {
    "duration": 45,
    "start_time": "2021-12-07T13:05:30.123Z"
   },
   {
    "duration": 829,
    "start_time": "2021-12-08T08:20:18.336Z"
   },
   {
    "duration": 15,
    "start_time": "2021-12-08T08:20:19.167Z"
   },
   {
    "duration": 59,
    "start_time": "2021-12-08T08:20:19.185Z"
   },
   {
    "duration": 97,
    "start_time": "2021-12-08T08:20:19.247Z"
   },
   {
    "duration": 910,
    "start_time": "2021-12-08T08:20:19.347Z"
   },
   {
    "duration": 810,
    "start_time": "2021-12-18T15:05:11.415Z"
   },
   {
    "duration": 15,
    "start_time": "2021-12-18T15:05:12.228Z"
   },
   {
    "duration": 30,
    "start_time": "2021-12-18T15:05:12.245Z"
   },
   {
    "duration": 103,
    "start_time": "2021-12-18T15:05:12.277Z"
   },
   {
    "duration": 905,
    "start_time": "2021-12-18T15:05:12.383Z"
   },
   {
    "duration": 865,
    "start_time": "2021-12-20T08:38:41.385Z"
   },
   {
    "duration": 15,
    "start_time": "2021-12-20T08:38:42.253Z"
   },
   {
    "duration": 36,
    "start_time": "2021-12-20T08:38:42.272Z"
   },
   {
    "duration": 125,
    "start_time": "2021-12-20T08:38:42.311Z"
   },
   {
    "duration": 1445,
    "start_time": "2021-12-20T08:38:42.439Z"
   },
   {
    "duration": 99,
    "start_time": "2021-12-20T10:02:10.005Z"
   },
   {
    "duration": 14,
    "start_time": "2021-12-20T10:02:22.565Z"
   },
   {
    "duration": 1448,
    "start_time": "2021-12-20T10:36:49.961Z"
   },
   {
    "duration": 550,
    "start_time": "2021-12-20T10:50:55.832Z"
   },
   {
    "duration": 260,
    "start_time": "2021-12-20T10:51:15.277Z"
   },
   {
    "duration": 308,
    "start_time": "2021-12-20T11:13:10.083Z"
   },
   {
    "duration": 296,
    "start_time": "2021-12-20T11:21:34.893Z"
   },
   {
    "duration": 1082,
    "start_time": "2021-12-20T11:22:19.788Z"
   },
   {
    "duration": 18,
    "start_time": "2021-12-20T11:23:19.683Z"
   },
   {
    "duration": 40,
    "start_time": "2021-12-20T11:23:34.634Z"
   },
   {
    "duration": 8133,
    "start_time": "2021-12-20T11:30:14.251Z"
   },
   {
    "duration": 7629,
    "start_time": "2021-12-20T11:31:48.309Z"
   },
   {
    "duration": 335,
    "start_time": "2021-12-20T11:37:29.310Z"
   },
   {
    "duration": 28,
    "start_time": "2021-12-20T11:38:10.677Z"
   },
   {
    "duration": 32,
    "start_time": "2021-12-20T11:39:43.417Z"
   },
   {
    "duration": 258,
    "start_time": "2021-12-20T11:41:45.536Z"
   },
   {
    "duration": 834,
    "start_time": "2021-12-20T11:43:48.933Z"
   },
   {
    "duration": 37,
    "start_time": "2021-12-20T11:45:13.860Z"
   },
   {
    "duration": 40,
    "start_time": "2021-12-20T11:49:17.701Z"
   },
   {
    "duration": 48,
    "start_time": "2021-12-20T11:50:31.067Z"
   },
   {
    "duration": 41,
    "start_time": "2021-12-20T11:52:40.257Z"
   },
   {
    "duration": 48,
    "start_time": "2021-12-20T11:53:35.923Z"
   },
   {
    "duration": 37,
    "start_time": "2021-12-20T11:54:24.573Z"
   },
   {
    "duration": 44,
    "start_time": "2021-12-20T11:55:17.200Z"
   },
   {
    "duration": 42,
    "start_time": "2021-12-20T11:56:38.574Z"
   },
   {
    "duration": 54,
    "start_time": "2021-12-20T14:17:22.866Z"
   },
   {
    "duration": 40,
    "start_time": "2021-12-20T14:17:49.547Z"
   },
   {
    "duration": 36,
    "start_time": "2021-12-20T14:18:12.045Z"
   },
   {
    "duration": 496,
    "start_time": "2021-12-20T14:18:28.872Z"
   },
   {
    "duration": 45,
    "start_time": "2021-12-20T14:19:12.140Z"
   },
   {
    "duration": 33,
    "start_time": "2021-12-20T14:20:03.550Z"
   },
   {
    "duration": 36,
    "start_time": "2021-12-20T14:20:27.315Z"
   },
   {
    "duration": 8142,
    "start_time": "2021-12-20T14:21:11.650Z"
   },
   {
    "duration": 7376,
    "start_time": "2021-12-20T14:21:34.312Z"
   },
   {
    "duration": 91,
    "start_time": "2021-12-20T14:21:48.301Z"
   },
   {
    "duration": 328,
    "start_time": "2021-12-20T14:21:48.395Z"
   },
   {
    "duration": 348,
    "start_time": "2021-12-20T14:21:48.727Z"
   },
   {
    "duration": 365,
    "start_time": "2021-12-20T14:21:49.077Z"
   },
   {
    "duration": 1278,
    "start_time": "2021-12-20T14:21:49.445Z"
   },
   {
    "duration": 7318,
    "start_time": "2021-12-20T14:21:56.961Z"
   },
   {
    "duration": 49,
    "start_time": "2021-12-20T14:22:07.806Z"
   },
   {
    "duration": 312,
    "start_time": "2021-12-20T14:23:22.265Z"
   },
   {
    "duration": 65,
    "start_time": "2021-12-20T14:23:50.045Z"
   },
   {
    "duration": 56,
    "start_time": "2021-12-20T14:30:07.765Z"
   },
   {
    "duration": 49,
    "start_time": "2021-12-20T14:31:24.662Z"
   },
   {
    "duration": 50,
    "start_time": "2021-12-20T14:31:56.234Z"
   },
   {
    "duration": 309,
    "start_time": "2021-12-20T14:34:26.519Z"
   },
   {
    "duration": 701,
    "start_time": "2021-12-20T14:35:19.420Z"
   },
   {
    "duration": 44,
    "start_time": "2021-12-20T14:39:57.773Z"
   },
   {
    "duration": 87,
    "start_time": "2021-12-20T14:46:45.385Z"
   },
   {
    "duration": 373,
    "start_time": "2021-12-20T14:46:56.636Z"
   },
   {
    "duration": 350,
    "start_time": "2021-12-20T14:47:44.530Z"
   },
   {
    "duration": 34,
    "start_time": "2021-12-20T14:51:06.160Z"
   },
   {
    "duration": 30,
    "start_time": "2021-12-20T14:51:32.770Z"
   },
   {
    "duration": 38,
    "start_time": "2021-12-20T14:52:21.594Z"
   },
   {
    "duration": 57,
    "start_time": "2021-12-20T14:52:40.262Z"
   },
   {
    "duration": 316,
    "start_time": "2021-12-20T14:53:59.820Z"
   },
   {
    "duration": 8196,
    "start_time": "2021-12-20T14:54:25.158Z"
   },
   {
    "duration": 879,
    "start_time": "2021-12-22T11:09:00.559Z"
   },
   {
    "duration": 26,
    "start_time": "2021-12-22T11:09:01.440Z"
   },
   {
    "duration": 33,
    "start_time": "2021-12-22T11:09:01.469Z"
   },
   {
    "duration": 115,
    "start_time": "2021-12-22T11:09:01.505Z"
   },
   {
    "duration": 694,
    "start_time": "2021-12-22T11:09:01.623Z"
   },
   {
    "duration": 8937,
    "start_time": "2021-12-22T11:09:33.342Z"
   },
   {
    "duration": 62,
    "start_time": "2021-12-22T11:14:03.689Z"
   },
   {
    "duration": 21,
    "start_time": "2021-12-22T11:14:58.318Z"
   },
   {
    "duration": 19,
    "start_time": "2021-12-22T11:18:22.184Z"
   },
   {
    "duration": 6409,
    "start_time": "2021-12-22T11:31:21.437Z"
   },
   {
    "duration": 25,
    "start_time": "2021-12-22T11:32:03.058Z"
   },
   {
    "duration": 272,
    "start_time": "2021-12-22T11:34:25.029Z"
   },
   {
    "duration": 311,
    "start_time": "2021-12-22T11:34:39.402Z"
   },
   {
    "duration": 342,
    "start_time": "2021-12-22T11:35:38.662Z"
   },
   {
    "duration": 21,
    "start_time": "2021-12-22T11:35:46.316Z"
   },
   {
    "duration": 218,
    "start_time": "2021-12-22T11:36:05.037Z"
   },
   {
    "duration": 22,
    "start_time": "2021-12-22T11:36:24.551Z"
   },
   {
    "duration": 30,
    "start_time": "2021-12-22T14:00:21.735Z"
   },
   {
    "duration": 338,
    "start_time": "2021-12-22T14:15:02.504Z"
   },
   {
    "duration": 279,
    "start_time": "2021-12-22T14:15:19.652Z"
   },
   {
    "duration": 41,
    "start_time": "2021-12-22T14:15:49.844Z"
   },
   {
    "duration": 29,
    "start_time": "2021-12-22T14:38:28.488Z"
   },
   {
    "duration": 26,
    "start_time": "2021-12-22T14:39:25.019Z"
   },
   {
    "duration": 25,
    "start_time": "2021-12-22T14:41:44.004Z"
   },
   {
    "duration": 28,
    "start_time": "2021-12-22T14:43:46.498Z"
   },
   {
    "duration": 27,
    "start_time": "2021-12-22T14:44:21.065Z"
   },
   {
    "duration": 44,
    "start_time": "2021-12-22T14:49:25.522Z"
   },
   {
    "duration": 30,
    "start_time": "2021-12-22T14:51:30.159Z"
   },
   {
    "duration": 12,
    "start_time": "2021-12-22T14:52:59.326Z"
   },
   {
    "duration": 20,
    "start_time": "2021-12-22T14:53:39.992Z"
   },
   {
    "duration": 11,
    "start_time": "2021-12-22T14:54:09.240Z"
   },
   {
    "duration": 28,
    "start_time": "2021-12-22T14:54:38.889Z"
   },
   {
    "duration": 248,
    "start_time": "2021-12-22T14:58:49.522Z"
   },
   {
    "duration": 12,
    "start_time": "2021-12-22T14:59:43.792Z"
   },
   {
    "duration": 11,
    "start_time": "2021-12-22T15:00:46.766Z"
   },
   {
    "duration": 10,
    "start_time": "2021-12-22T15:01:04.393Z"
   },
   {
    "duration": 11,
    "start_time": "2021-12-22T15:01:38.812Z"
   },
   {
    "duration": 18,
    "start_time": "2021-12-22T15:02:05.391Z"
   },
   {
    "duration": 66,
    "start_time": "2021-12-22T16:06:19.113Z"
   },
   {
    "duration": 10,
    "start_time": "2021-12-22T16:06:19.181Z"
   },
   {
    "duration": 23,
    "start_time": "2021-12-22T16:06:19.193Z"
   },
   {
    "duration": 80,
    "start_time": "2021-12-22T16:06:19.218Z"
   },
   {
    "duration": 693,
    "start_time": "2021-12-22T16:06:19.300Z"
   },
   {
    "duration": 30,
    "start_time": "2021-12-22T16:06:19.995Z"
   },
   {
    "duration": 18,
    "start_time": "2021-12-22T16:06:26.302Z"
   },
   {
    "duration": 267,
    "start_time": "2021-12-22T16:08:05.491Z"
   },
   {
    "duration": 33,
    "start_time": "2021-12-22T16:09:12.244Z"
   },
   {
    "duration": 38,
    "start_time": "2021-12-22T16:09:33.997Z"
   },
   {
    "duration": 12,
    "start_time": "2021-12-22T16:10:28.428Z"
   },
   {
    "duration": 23,
    "start_time": "2021-12-22T16:14:21.937Z"
   },
   {
    "duration": 24,
    "start_time": "2021-12-22T16:15:37.956Z"
   },
   {
    "duration": 52,
    "start_time": "2021-12-22T16:21:17.881Z"
   },
   {
    "duration": 24,
    "start_time": "2021-12-22T16:26:04.751Z"
   },
   {
    "duration": 32,
    "start_time": "2021-12-22T16:27:40.183Z"
   },
   {
    "duration": 37,
    "start_time": "2021-12-22T16:30:10.849Z"
   },
   {
    "duration": 282,
    "start_time": "2021-12-22T16:31:05.668Z"
   },
   {
    "duration": 30,
    "start_time": "2021-12-22T16:31:18.129Z"
   },
   {
    "duration": 143,
    "start_time": "2021-12-22T16:41:23.226Z"
   },
   {
    "duration": 91,
    "start_time": "2021-12-22T16:41:32.885Z"
   },
   {
    "duration": 45,
    "start_time": "2021-12-22T16:41:49.060Z"
   },
   {
    "duration": 20,
    "start_time": "2021-12-22T16:43:58.384Z"
   },
   {
    "duration": 47,
    "start_time": "2021-12-22T17:46:19.505Z"
   },
   {
    "duration": 12,
    "start_time": "2021-12-22T17:46:30.754Z"
   },
   {
    "duration": 83,
    "start_time": "2021-12-22T18:00:39.497Z"
   },
   {
    "duration": 14,
    "start_time": "2021-12-22T18:01:08.654Z"
   },
   {
    "duration": 14,
    "start_time": "2021-12-22T18:02:06.488Z"
   },
   {
    "duration": 293,
    "start_time": "2021-12-22T18:03:36.010Z"
   },
   {
    "duration": 253,
    "start_time": "2021-12-22T18:04:04.443Z"
   },
   {
    "duration": 18,
    "start_time": "2021-12-22T18:10:53.721Z"
   },
   {
    "duration": 18,
    "start_time": "2021-12-22T18:12:03.953Z"
   },
   {
    "duration": 13,
    "start_time": "2021-12-22T18:18:47.082Z"
   },
   {
    "duration": 27,
    "start_time": "2021-12-22T18:52:25.491Z"
   },
   {
    "duration": 14,
    "start_time": "2021-12-22T18:52:46.552Z"
   },
   {
    "duration": 242,
    "start_time": "2021-12-22T18:53:20.918Z"
   },
   {
    "duration": 16,
    "start_time": "2021-12-22T18:53:33.957Z"
   },
   {
    "duration": 687,
    "start_time": "2021-12-23T10:30:51.957Z"
   },
   {
    "duration": 13,
    "start_time": "2021-12-23T10:30:52.646Z"
   },
   {
    "duration": 23,
    "start_time": "2021-12-23T10:30:52.662Z"
   },
   {
    "duration": 106,
    "start_time": "2021-12-23T10:30:52.687Z"
   },
   {
    "duration": -150,
    "start_time": "2021-12-23T10:30:52.945Z"
   },
   {
    "duration": -151,
    "start_time": "2021-12-23T10:30:52.946Z"
   },
   {
    "duration": -151,
    "start_time": "2021-12-23T10:30:52.947Z"
   },
   {
    "duration": -151,
    "start_time": "2021-12-23T10:30:52.948Z"
   },
   {
    "duration": -151,
    "start_time": "2021-12-23T10:30:52.949Z"
   },
   {
    "duration": -152,
    "start_time": "2021-12-23T10:30:52.951Z"
   },
   {
    "duration": 309,
    "start_time": "2021-12-23T10:44:32.122Z"
   },
   {
    "duration": 746,
    "start_time": "2021-12-23T10:47:27.901Z"
   },
   {
    "duration": 24,
    "start_time": "2021-12-23T10:47:48.303Z"
   },
   {
    "duration": 15,
    "start_time": "2021-12-23T10:47:53.108Z"
   },
   {
    "duration": 16,
    "start_time": "2021-12-23T10:47:58.907Z"
   },
   {
    "duration": 16,
    "start_time": "2021-12-23T10:48:07.234Z"
   },
   {
    "duration": 339,
    "start_time": "2021-12-23T11:08:51.012Z"
   },
   {
    "duration": 10,
    "start_time": "2021-12-23T11:10:21.855Z"
   },
   {
    "duration": 12,
    "start_time": "2021-12-23T11:10:32.512Z"
   },
   {
    "duration": 115,
    "start_time": "2021-12-23T11:16:01.042Z"
   },
   {
    "duration": 14,
    "start_time": "2021-12-23T11:16:54.510Z"
   },
   {
    "duration": 96,
    "start_time": "2021-12-23T11:22:23.138Z"
   },
   {
    "duration": 34,
    "start_time": "2021-12-23T11:22:30.868Z"
   },
   {
    "duration": 23,
    "start_time": "2021-12-23T11:22:59.425Z"
   },
   {
    "duration": 36,
    "start_time": "2021-12-23T11:27:45.420Z"
   },
   {
    "duration": 32,
    "start_time": "2021-12-23T11:28:07.957Z"
   },
   {
    "duration": 915,
    "start_time": "2021-12-23T14:37:08.165Z"
   },
   {
    "duration": 39,
    "start_time": "2021-12-23T14:37:09.084Z"
   },
   {
    "duration": 213,
    "start_time": "2021-12-23T14:37:09.126Z"
   },
   {
    "duration": 231,
    "start_time": "2021-12-23T14:37:09.343Z"
   },
   {
    "duration": -283,
    "start_time": "2021-12-23T14:37:09.861Z"
   },
   {
    "duration": -283,
    "start_time": "2021-12-23T14:37:09.864Z"
   },
   {
    "duration": -283,
    "start_time": "2021-12-23T14:37:09.866Z"
   },
   {
    "duration": -281,
    "start_time": "2021-12-23T14:37:09.867Z"
   },
   {
    "duration": -281,
    "start_time": "2021-12-23T14:37:09.869Z"
   },
   {
    "duration": -280,
    "start_time": "2021-12-23T14:37:09.870Z"
   },
   {
    "duration": 67,
    "start_time": "2021-12-23T14:37:19.868Z"
   },
   {
    "duration": 50,
    "start_time": "2021-12-23T14:37:51.469Z"
   },
   {
    "duration": 534,
    "start_time": "2021-12-23T14:38:07.230Z"
   },
   {
    "duration": 556,
    "start_time": "2021-12-23T14:38:43.951Z"
   },
   {
    "duration": 62,
    "start_time": "2021-12-23T14:38:56.528Z"
   },
   {
    "duration": 327,
    "start_time": "2021-12-23T14:39:59.746Z"
   },
   {
    "duration": 44,
    "start_time": "2021-12-23T14:40:15.876Z"
   },
   {
    "duration": 342,
    "start_time": "2021-12-23T14:42:14.423Z"
   },
   {
    "duration": 306,
    "start_time": "2021-12-23T14:42:29.329Z"
   },
   {
    "duration": 41,
    "start_time": "2021-12-23T15:51:12.060Z"
   },
   {
    "duration": 90,
    "start_time": "2021-12-23T16:37:22.688Z"
   },
   {
    "duration": 17,
    "start_time": "2021-12-23T16:37:22.780Z"
   },
   {
    "duration": 46,
    "start_time": "2021-12-23T16:37:22.800Z"
   },
   {
    "duration": 118,
    "start_time": "2021-12-23T16:37:22.850Z"
   },
   {
    "duration": -363,
    "start_time": "2021-12-23T16:37:23.335Z"
   },
   {
    "duration": -364,
    "start_time": "2021-12-23T16:37:23.338Z"
   },
   {
    "duration": -363,
    "start_time": "2021-12-23T16:37:23.339Z"
   },
   {
    "duration": -363,
    "start_time": "2021-12-23T16:37:23.341Z"
   },
   {
    "duration": -362,
    "start_time": "2021-12-23T16:37:23.342Z"
   },
   {
    "duration": -361,
    "start_time": "2021-12-23T16:37:23.343Z"
   },
   {
    "duration": 277,
    "start_time": "2021-12-23T16:37:49.988Z"
   },
   {
    "duration": 872,
    "start_time": "2021-12-23T16:38:43.019Z"
   },
   {
    "duration": 35,
    "start_time": "2021-12-23T16:38:50.850Z"
   },
   {
    "duration": 24,
    "start_time": "2021-12-23T16:38:54.075Z"
   },
   {
    "duration": 22,
    "start_time": "2021-12-23T16:38:57.543Z"
   },
   {
    "duration": 22,
    "start_time": "2021-12-23T16:39:01.220Z"
   },
   {
    "duration": 926,
    "start_time": "2021-12-24T07:47:42.473Z"
   },
   {
    "duration": 21,
    "start_time": "2021-12-24T07:47:43.403Z"
   },
   {
    "duration": 62,
    "start_time": "2021-12-24T07:47:43.428Z"
   },
   {
    "duration": 114,
    "start_time": "2021-12-24T07:47:43.493Z"
   },
   {
    "duration": -1136,
    "start_time": "2021-12-24T07:47:44.746Z"
   },
   {
    "duration": -1136,
    "start_time": "2021-12-24T07:47:44.748Z"
   },
   {
    "duration": -1137,
    "start_time": "2021-12-24T07:47:44.750Z"
   },
   {
    "duration": -1138,
    "start_time": "2021-12-24T07:47:44.752Z"
   },
   {
    "duration": -1137,
    "start_time": "2021-12-24T07:47:44.753Z"
   },
   {
    "duration": -1136,
    "start_time": "2021-12-24T07:47:44.754Z"
   },
   {
    "duration": -1137,
    "start_time": "2021-12-24T07:47:44.756Z"
   },
   {
    "duration": 874,
    "start_time": "2021-12-24T07:52:47.795Z"
   },
   {
    "duration": 18,
    "start_time": "2021-12-24T07:52:48.672Z"
   },
   {
    "duration": 33,
    "start_time": "2021-12-24T07:52:48.693Z"
   },
   {
    "duration": 119,
    "start_time": "2021-12-24T07:52:48.729Z"
   },
   {
    "duration": -1154,
    "start_time": "2021-12-24T07:52:50.005Z"
   },
   {
    "duration": -1154,
    "start_time": "2021-12-24T07:52:50.007Z"
   },
   {
    "duration": -1154,
    "start_time": "2021-12-24T07:52:50.008Z"
   },
   {
    "duration": -1154,
    "start_time": "2021-12-24T07:52:50.009Z"
   },
   {
    "duration": -1154,
    "start_time": "2021-12-24T07:52:50.011Z"
   },
   {
    "duration": -1157,
    "start_time": "2021-12-24T07:52:50.015Z"
   },
   {
    "duration": -1157,
    "start_time": "2021-12-24T07:52:50.016Z"
   },
   {
    "duration": 928,
    "start_time": "2021-12-24T08:17:59.335Z"
   },
   {
    "duration": 23,
    "start_time": "2021-12-24T08:18:00.267Z"
   },
   {
    "duration": 36,
    "start_time": "2021-12-24T08:18:00.292Z"
   },
   {
    "duration": 172,
    "start_time": "2021-12-24T08:18:00.332Z"
   },
   {
    "duration": -1244,
    "start_time": "2021-12-24T08:18:01.750Z"
   },
   {
    "duration": -1247,
    "start_time": "2021-12-24T08:18:01.755Z"
   },
   {
    "duration": -1248,
    "start_time": "2021-12-24T08:18:01.757Z"
   },
   {
    "duration": -1247,
    "start_time": "2021-12-24T08:18:01.758Z"
   },
   {
    "duration": -1246,
    "start_time": "2021-12-24T08:18:01.759Z"
   },
   {
    "duration": -1246,
    "start_time": "2021-12-24T08:18:01.761Z"
   },
   {
    "duration": -1245,
    "start_time": "2021-12-24T08:18:01.762Z"
   },
   {
    "duration": 87,
    "start_time": "2021-12-24T08:37:53.892Z"
   },
   {
    "duration": 850,
    "start_time": "2021-12-24T08:38:03.096Z"
   },
   {
    "duration": 27,
    "start_time": "2021-12-24T08:38:03.949Z"
   },
   {
    "duration": 32,
    "start_time": "2021-12-24T08:38:03.979Z"
   },
   {
    "duration": 115,
    "start_time": "2021-12-24T08:38:04.014Z"
   },
   {
    "duration": 946,
    "start_time": "2021-12-24T08:38:04.132Z"
   },
   {
    "duration": 949,
    "start_time": "2021-12-24T08:38:05.080Z"
   },
   {
    "duration": 61,
    "start_time": "2021-12-24T08:38:06.033Z"
   },
   {
    "duration": 22,
    "start_time": "2021-12-24T08:38:06.096Z"
   },
   {
    "duration": 59,
    "start_time": "2021-12-24T08:38:06.121Z"
   },
   {
    "duration": 23,
    "start_time": "2021-12-24T08:38:06.182Z"
   },
   {
    "duration": 86,
    "start_time": "2021-12-24T08:38:06.208Z"
   },
   {
    "duration": 872,
    "start_time": "2021-12-25T15:12:31.468Z"
   },
   {
    "duration": 332,
    "start_time": "2021-12-26T10:26:19.844Z"
   },
   {
    "duration": 860,
    "start_time": "2021-12-26T10:26:28.544Z"
   },
   {
    "duration": 28,
    "start_time": "2021-12-26T10:26:32.940Z"
   },
   {
    "duration": 12,
    "start_time": "2021-12-26T10:34:05.430Z"
   },
   {
    "duration": 20,
    "start_time": "2021-12-26T10:36:59.774Z"
   },
   {
    "duration": 17,
    "start_time": "2021-12-26T10:37:11.652Z"
   },
   {
    "duration": 18,
    "start_time": "2021-12-26T10:37:44.004Z"
   },
   {
    "duration": 13,
    "start_time": "2021-12-26T10:38:27.731Z"
   },
   {
    "duration": 22,
    "start_time": "2021-12-26T10:41:10.639Z"
   },
   {
    "duration": 25,
    "start_time": "2021-12-26T10:41:37.448Z"
   },
   {
    "duration": 25,
    "start_time": "2021-12-26T10:42:38.961Z"
   },
   {
    "duration": 34,
    "start_time": "2021-12-26T10:43:06.859Z"
   },
   {
    "duration": 32,
    "start_time": "2021-12-26T10:43:22.637Z"
   },
   {
    "duration": 34,
    "start_time": "2021-12-26T10:44:06.923Z"
   },
   {
    "duration": 33,
    "start_time": "2021-12-26T10:45:37.940Z"
   },
   {
    "duration": 30,
    "start_time": "2021-12-26T10:46:00.587Z"
   },
   {
    "duration": 31,
    "start_time": "2021-12-26T10:47:05.877Z"
   },
   {
    "duration": 55,
    "start_time": "2021-12-26T10:47:15.031Z"
   },
   {
    "duration": 57,
    "start_time": "2021-12-26T10:48:32.422Z"
   },
   {
    "duration": 41,
    "start_time": "2021-12-26T10:54:26.421Z"
   },
   {
    "duration": 32,
    "start_time": "2021-12-26T10:54:48.733Z"
   },
   {
    "duration": 31,
    "start_time": "2021-12-26T10:55:09.320Z"
   },
   {
    "duration": 33,
    "start_time": "2021-12-26T10:55:20.188Z"
   },
   {
    "duration": 30,
    "start_time": "2021-12-26T10:55:42.788Z"
   },
   {
    "duration": 73,
    "start_time": "2021-12-26T10:57:40.252Z"
   },
   {
    "duration": 77,
    "start_time": "2021-12-26T10:57:40.328Z"
   },
   {
    "duration": 49,
    "start_time": "2021-12-26T10:57:43.511Z"
   },
   {
    "duration": 33,
    "start_time": "2021-12-26T10:57:57.164Z"
   },
   {
    "duration": 33,
    "start_time": "2021-12-26T10:59:13.090Z"
   },
   {
    "duration": 33,
    "start_time": "2021-12-26T10:59:25.909Z"
   },
   {
    "duration": 73,
    "start_time": "2021-12-26T11:05:08.842Z"
   },
   {
    "duration": 66,
    "start_time": "2021-12-26T11:05:08.917Z"
   },
   {
    "duration": 36,
    "start_time": "2021-12-26T11:05:08.986Z"
   },
   {
    "duration": 110,
    "start_time": "2021-12-26T11:05:09.025Z"
   },
   {
    "duration": 943,
    "start_time": "2021-12-26T11:05:09.138Z"
   },
   {
    "duration": 82,
    "start_time": "2021-12-26T11:08:33.839Z"
   },
   {
    "duration": 66,
    "start_time": "2021-12-26T11:08:33.924Z"
   },
   {
    "duration": 37,
    "start_time": "2021-12-26T11:08:33.993Z"
   },
   {
    "duration": 111,
    "start_time": "2021-12-26T11:08:34.033Z"
   },
   {
    "duration": 1107,
    "start_time": "2021-12-26T11:08:34.146Z"
   },
   {
    "duration": 83,
    "start_time": "2021-12-26T11:08:35.256Z"
   },
   {
    "duration": 29,
    "start_time": "2021-12-26T11:09:26.371Z"
   },
   {
    "duration": 19,
    "start_time": "2021-12-26T11:10:48.921Z"
   },
   {
    "duration": 22,
    "start_time": "2021-12-26T11:12:15.062Z"
   },
   {
    "duration": 394,
    "start_time": "2021-12-26T13:48:24.763Z"
   },
   {
    "duration": 46,
    "start_time": "2021-12-26T13:48:44.181Z"
   },
   {
    "duration": 52,
    "start_time": "2021-12-26T13:49:05.138Z"
   },
   {
    "duration": 51,
    "start_time": "2021-12-26T13:50:17.695Z"
   },
   {
    "duration": 96,
    "start_time": "2021-12-26T13:53:06.316Z"
   },
   {
    "duration": 50,
    "start_time": "2021-12-26T13:54:25.426Z"
   },
   {
    "duration": 48,
    "start_time": "2021-12-26T13:55:37.961Z"
   },
   {
    "duration": 56,
    "start_time": "2021-12-26T13:55:54.221Z"
   },
   {
    "duration": 595,
    "start_time": "2021-12-26T18:33:56.613Z"
   },
   {
    "duration": 39,
    "start_time": "2021-12-26T18:33:57.210Z"
   },
   {
    "duration": 41,
    "start_time": "2021-12-26T18:33:57.251Z"
   },
   {
    "duration": 53,
    "start_time": "2021-12-26T18:33:57.294Z"
   },
   {
    "duration": 703,
    "start_time": "2021-12-26T18:33:57.348Z"
   },
   {
    "duration": 670,
    "start_time": "2021-12-26T18:33:58.052Z"
   },
   {
    "duration": 20,
    "start_time": "2021-12-26T18:33:58.724Z"
   },
   {
    "duration": 46,
    "start_time": "2021-12-26T18:33:58.746Z"
   },
   {
    "duration": 16,
    "start_time": "2021-12-26T18:33:58.794Z"
   },
   {
    "duration": 38,
    "start_time": "2021-12-26T18:33:58.812Z"
   },
   {
    "duration": 53,
    "start_time": "2021-12-26T18:33:58.851Z"
   }
  ],
  "kernelspec": {
   "display_name": "Python 3 (ipykernel)",
   "language": "python",
   "name": "python3"
  },
  "language_info": {
   "codemirror_mode": {
    "name": "ipython",
    "version": 3
   },
   "file_extension": ".py",
   "mimetype": "text/x-python",
   "name": "python",
   "nbconvert_exporter": "python",
   "pygments_lexer": "ipython3",
   "version": "3.9.5"
  },
  "toc": {
   "base_numbering": 1,
   "nav_menu": {},
   "number_sections": true,
   "sideBar": true,
   "skip_h1_title": true,
   "title_cell": "Table of Contents",
   "title_sidebar": "Contents",
   "toc_cell": false,
   "toc_position": {
    "height": "calc(100% - 180px)",
    "left": "10px",
    "top": "150px",
    "width": "165px"
   },
   "toc_section_display": true,
   "toc_window_display": true
  }
 },
 "nbformat": 4,
 "nbformat_minor": 2
}
