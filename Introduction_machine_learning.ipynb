{
 "cells": [
  {
   "cell_type": "markdown",
   "metadata": {},
   "source": [
    "<img src=\"http://s3.amazonaws.com/pix.iemoji.com/images/emoji/apple/ios-12/256/waving-hand.png\" align=left width=44, heigth=44>\n",
    "<div class=\"alert alert-info\">\n",
    "<b> Комментарий ревьюера</b>\n",
    "\n",
    "\n",
    "Привет, Александр! Давай знакомиться! Меня зовут Дмитрий Махортов, и я буду проверять твой проект. Сразу предлагаю общение на \"ты\" 🙂, но если тебе это не комфортно, то дай знать, и мы перейдем на \"вы\". \n",
    "\n",
    "Моя основная цель — не указать на совершенные тобою ошибки, а поделиться своим опытом и помочь тебе погрузиться в увлекательный мир работы с данными и вырасти в крепкого профи. Это отдаленная цель. А ближайшая - сделать твою работу еще лучше )).\n",
    "\n",
    "\n",
    "Вижу, что ты очень старался, делая проект. Все ключевые этапы в работе выполнены, и в целом с проектом ты справился. \n",
    "    \n",
    "Расскажу как обычно проходит проверка:    \n",
    "Бывают моменты, которые требуют пристального внимания. Комментарии по ним выделены <span style='background-color:#F7B3A4'> красным цветом </span> и обозначены значком 🛑. После их доработки проект будет принят.  🙂\n",
    "\n",
    "<span style='background-color:#F9EDA6'>Жёлтым цветом </span> и значком ⚠️ выделено то, что в следующий раз можно сделать по-другому. Можно учесть эти комментарии при выполнении будущих заданий или доработать текущий проект (однако это не обязательно). \n",
    "\n",
    "<span style='background-color:#B7EBA7'> Зеленым цветом </span> и значком ✅ отмечены удачные и элегантные решения, на которые можно опираться в будущих проектах. Или советы \"со звездочкой\", которые помогут в будущем.\n",
    "\n",
    "    \n",
    "Давай работать над проектом в диалоге: **если ты что-то меняешь в проекте по моим рекомендациям — пиши об этом**. Выбери для своих комментариев какой-то заметный цвет, так мне будет легче отследить изменения. Пожалуйста, **не перемещай, не изменяй и не удаляй мои комментарии**. Всё это поможет выполнить повторную проверку твоего проекта оперативнее».\n",
    "</div>"
   ]
  },
  {
   "cell_type": "markdown",
   "metadata": {},
   "source": [
    "# Краткое описание проекта: рекомендация тарифов"
   ]
  },
  {
   "cell_type": "markdown",
   "metadata": {},
   "source": [
    "Мегалайн желаем построить систему, способную проанализировать поведение клиентов и предложить пользователям новый тариф: «Смарт» или «Ультра». В нашем распоряжении данные о поведении клиентов, которые уже перешли на эти тарифы (из проекта курса «Статистический анализ данных»). Нужно построить модель для задачи классификации, которая выберет подходящий тариф. Предобработка данных не требуется.\n",
    "\n",
    "Необходимо построить модель с максимально большим значением *accuracy*. Нужно довести долю правильных ответов по крайней мере до 0.75, а также проверить *accuracy* на тестовой выборке."
   ]
  },
  {
   "cell_type": "markdown",
   "metadata": {},
   "source": [
    "# Описание данных\n",
    " - сalls — количество звонков,\n",
    " - minutes — суммарная длительность звонков в минутах,\n",
    " - messages — количество sms-сообщений,\n",
    " - mb_used — израсходованный интернет-трафик в Мб,\n",
    " - is_ultra — каким тарифом пользовался в течение месяца («Ультра» — 1, «Смарт» — 0)."
   ]
  },
  {
   "cell_type": "markdown",
   "metadata": {},
   "source": [
    "# план работы: \n",
    "1. [Открыть и изучить файл](#1_plan)\n",
    "\n",
    "2. [Разбить данные на выборки](#2_plan)\n",
    "\n",
    "3. [Исследовать модели](#3_plan)\n",
    "\n",
    "4. [проверить лучшую модель на тестовой выборке](#4_plan)\n"
   ]
  },
  {
   "cell_type": "markdown",
   "metadata": {},
   "source": [
    "<a id=\"1_plan\"></a> \n",
    "## Откройте и изучите файл"
   ]
  },
  {
   "cell_type": "markdown",
   "metadata": {},
   "source": [
    "**1.1 импортируем необходимые библиотеки**"
   ]
  },
  {
   "cell_type": "code",
   "execution_count": 1,
   "metadata": {},
   "outputs": [],
   "source": [
    "import pandas as pd\n",
    "import numpy as np\n",
    "from sklearn.tree import DecisionTreeClassifier\n",
    "from sklearn.ensemble import RandomForestClassifier\n",
    "from sklearn.linear_model import LogisticRegression\n",
    "from sklearn.metrics import accuracy_score\n",
    "from sklearn.model_selection import train_test_split"
   ]
  },
  {
   "cell_type": "markdown",
   "metadata": {},
   "source": [
    "<img src=\"https://emojigraph.org/media/apple/check-mark-button_2705.png\" align=left width=33, heigth=33>\n",
    "<div class=\"alert alert-success\">\n",
    "Отлично, все нужные библиотеки импортированы в начале ноутбука.Это хорошая практика.</div>"
   ]
  },
  {
   "cell_type": "code",
   "execution_count": 2,
   "metadata": {
    "scrolled": true
   },
   "outputs": [
    {
     "data": {
      "text/html": [
       "<div>\n",
       "<style scoped>\n",
       "    .dataframe tbody tr th:only-of-type {\n",
       "        vertical-align: middle;\n",
       "    }\n",
       "\n",
       "    .dataframe tbody tr th {\n",
       "        vertical-align: top;\n",
       "    }\n",
       "\n",
       "    .dataframe thead th {\n",
       "        text-align: right;\n",
       "    }\n",
       "</style>\n",
       "<table border=\"1\" class=\"dataframe\">\n",
       "  <thead>\n",
       "    <tr style=\"text-align: right;\">\n",
       "      <th></th>\n",
       "      <th>calls</th>\n",
       "      <th>minutes</th>\n",
       "      <th>messages</th>\n",
       "      <th>mb_used</th>\n",
       "      <th>is_ultra</th>\n",
       "    </tr>\n",
       "  </thead>\n",
       "  <tbody>\n",
       "    <tr>\n",
       "      <th>0</th>\n",
       "      <td>40.0</td>\n",
       "      <td>311.90</td>\n",
       "      <td>83.0</td>\n",
       "      <td>19915.42</td>\n",
       "      <td>0</td>\n",
       "    </tr>\n",
       "    <tr>\n",
       "      <th>1</th>\n",
       "      <td>85.0</td>\n",
       "      <td>516.75</td>\n",
       "      <td>56.0</td>\n",
       "      <td>22696.96</td>\n",
       "      <td>0</td>\n",
       "    </tr>\n",
       "    <tr>\n",
       "      <th>2</th>\n",
       "      <td>77.0</td>\n",
       "      <td>467.66</td>\n",
       "      <td>86.0</td>\n",
       "      <td>21060.45</td>\n",
       "      <td>0</td>\n",
       "    </tr>\n",
       "    <tr>\n",
       "      <th>3</th>\n",
       "      <td>106.0</td>\n",
       "      <td>745.53</td>\n",
       "      <td>81.0</td>\n",
       "      <td>8437.39</td>\n",
       "      <td>1</td>\n",
       "    </tr>\n",
       "    <tr>\n",
       "      <th>4</th>\n",
       "      <td>66.0</td>\n",
       "      <td>418.74</td>\n",
       "      <td>1.0</td>\n",
       "      <td>14502.75</td>\n",
       "      <td>0</td>\n",
       "    </tr>\n",
       "  </tbody>\n",
       "</table>\n",
       "</div>"
      ],
      "text/plain": [
       "   calls  minutes  messages   mb_used  is_ultra\n",
       "0   40.0   311.90      83.0  19915.42         0\n",
       "1   85.0   516.75      56.0  22696.96         0\n",
       "2   77.0   467.66      86.0  21060.45         0\n",
       "3  106.0   745.53      81.0   8437.39         1\n",
       "4   66.0   418.74       1.0  14502.75         0"
      ]
     },
     "execution_count": 2,
     "metadata": {},
     "output_type": "execute_result"
    }
   ],
   "source": [
    "df = pd.read_csv('/datasets/users_behavior.csv')   # читаем df\n",
    "df.head()\n"
   ]
  },
  {
   "cell_type": "code",
   "execution_count": 3,
   "metadata": {
    "scrolled": true
   },
   "outputs": [
    {
     "name": "stdout",
     "output_type": "stream",
     "text": [
      "<class 'pandas.core.frame.DataFrame'>\n",
      "RangeIndex: 3214 entries, 0 to 3213\n",
      "Data columns (total 5 columns):\n",
      " #   Column    Non-Null Count  Dtype  \n",
      "---  ------    --------------  -----  \n",
      " 0   calls     3214 non-null   float64\n",
      " 1   minutes   3214 non-null   float64\n",
      " 2   messages  3214 non-null   float64\n",
      " 3   mb_used   3214 non-null   float64\n",
      " 4   is_ultra  3214 non-null   int64  \n",
      "dtypes: float64(4), int64(1)\n",
      "memory usage: 125.7 KB\n"
     ]
    }
   ],
   "source": [
    "df.info()\n",
    "# определим тип данных и возможные пропуски. Все в порядке, пропусков нет"
   ]
  },
  {
   "cell_type": "code",
   "execution_count": 4,
   "metadata": {},
   "outputs": [
    {
     "data": {
      "text/plain": [
       "0    2229\n",
       "1     985\n",
       "Name: is_ultra, dtype: int64"
      ]
     },
     "execution_count": 4,
     "metadata": {},
     "output_type": "execute_result"
    }
   ],
   "source": [
    "df.is_ultra.value_counts() # необходимо понять сколько абонентов Ультра и Смарт на данный момент\n",
    "# исходя из данных, видно, что абонентов Ультра меньше чем Смарт примерно в 2 раза"
   ]
  },
  {
   "cell_type": "code",
   "execution_count": null,
   "metadata": {},
   "outputs": [],
   "source": []
  },
  {
   "cell_type": "markdown",
   "metadata": {},
   "source": [
    "<img src=\"https://emojigraph.org/media/apple/check-mark-button_2705.png\" align=left width=33, heigth=33>\n",
    "<div class=\"alert alert-success\">\n",
    "Данные загружены и исследованы.</div>"
   ]
  },
  {
   "cell_type": "markdown",
   "metadata": {},
   "source": [
    "<a id=\"2_plan\"></a> \n",
    "## Разбейте данные на выборки"
   ]
  },
  {
   "cell_type": "markdown",
   "metadata": {},
   "source": [
    "# 2.1 извлечем из данных признаки и целевой признак\n",
    " - признаки: calls, minutes, messeges, mb_used\n",
    " - целевой признак: is_ultra"
   ]
  },
  {
   "cell_type": "code",
   "execution_count": 5,
   "metadata": {},
   "outputs": [],
   "source": [
    "features = df.drop('is_ultra', axis=1)\n",
    "target = df['is_ultra']"
   ]
  },
  {
   "cell_type": "markdown",
   "metadata": {},
   "source": [
    "# 2.2 разделим данные на train, test, valid выборки. 60% на обучающую, по 20% на тестовую и валидационную"
   ]
  },
  {
   "cell_type": "code",
   "execution_count": 6,
   "metadata": {},
   "outputs": [],
   "source": [
    "X, X_test, y, y_test = train_test_split(features, target, test_size=0.2, random_state=12345)\n",
    "X_train, X_valid, y_train, y_valid = train_test_split(X, y, test_size=0.25, random_state=12345)"
   ]
  },
  {
   "cell_type": "markdown",
   "metadata": {},
   "source": [
    "<img src=\"https://emojigraph.org/media/apple/check-mark-button_2705.png\" align=left width=33, heigth=33>\n",
    "<div class=\"alert alert-success\">\n",
    "Молодец, корректно разделил данные на три выборки.\n",
    "На будущее, обрати внимание на аргумент stratify функции train_test_split. Стратификация особенно важна, когда у нас мало данных и возможен дисбаланс классов в обучении / валидации / тесте.\n",
    "</div>"
   ]
  },
  {
   "cell_type": "markdown",
   "metadata": {},
   "source": [
    "<img src=\"https://upload.wikimedia.org/wikipedia/commons/b/ba/Warning_sign_4.0.png\" align=left width=44, heigth=33>\n",
    "<div class=\"alert alert-warning\">\n",
    "Лучше явно вывести размеры получившихся выборок (с использованием .shape и print), это поможет быстро оценить корректность разделения на выборки.\n",
    "</div>"
   ]
  },
  {
   "cell_type": "markdown",
   "metadata": {},
   "source": [
    "<a id=\"3_plan\"></a> \n",
    "## Исследуйте модели"
   ]
  },
  {
   "cell_type": "markdown",
   "metadata": {},
   "source": [
    "# Начнем с Решающего дерева"
   ]
  },
  {
   "cell_type": "code",
   "execution_count": 7,
   "metadata": {},
   "outputs": [],
   "source": [
    "best_accuracy = 0.75  # согласно условиям задания\n",
    "best_depth = 0\n",
    "# в best_model будем хранить лучшие параметры, в best_accuracy супер точность, в best_depth максимальную глубину дерева"
   ]
  },
  {
   "cell_type": "code",
   "execution_count": 8,
   "metadata": {},
   "outputs": [],
   "source": [
    "for depth in range(1,6):\n",
    "    model_tree = DecisionTreeClassifier(random_state = 12345, max_depth = depth) # инициализировали модель \n",
    "#DecisionTreeClassifier с параметром random_state=12345 и max_depth=depth\n",
    "    model_tree.fit(X_train, y_train) # обучаем модель на тренировочной выборке\n",
    "    predictions = model_tree.predict(X_valid) # получаем предсказания модели на валидационной выборке\n",
    "    accuracy = accuracy_score(y_valid, predictions) # вычсиляем точность \n",
    "    if accuracy > best_accuracy:\n",
    "                    best_depth = depth\n",
    "                    best_accuracy = accuracy"
   ]
  },
  {
   "cell_type": "markdown",
   "metadata": {},
   "source": [
    "<img src=\"https://emojigraph.org/media/apple/check-mark-button_2705.png\" align=left width=33, heigth=33>\n",
    "<div class=\"alert alert-success\">\n",
    "Решающее дерево исследовано корректно:\n",
    "    \n",
    " - исследовано 5 значений гиперпараметров\n",
    " - модель обучена на обучающем наборе\n",
    " - получена оценка качества на валидационном наборе\n",
    " - перебор гиперпараметров осуществляется в цикле\n",
    "</div>"
   ]
  },
  {
   "cell_type": "markdown",
   "metadata": {},
   "source": [
    "<img src=\"https://upload.wikimedia.org/wikipedia/commons/b/ba/Warning_sign_4.0.png\" align=left width=44, heigth=33>\n",
    "<div class=\"alert alert-warning\">\n",
    "Рекомендую посмотреть как при изменении гиперпараметров меняется точность на обучающем и валидационых наборах. Для этого с помощью print() выводи эти метрики на каждом шагу цикла. Также уместно использовать графики.\n",
    "</div>"
   ]
  },
  {
   "cell_type": "code",
   "execution_count": 9,
   "metadata": {},
   "outputs": [
    {
     "data": {
      "text/plain": [
       "'супер точность:'"
      ]
     },
     "metadata": {},
     "output_type": "display_data"
    },
    {
     "data": {
      "text/plain": [
       "0.7651632970451011"
      ]
     },
     "metadata": {},
     "output_type": "display_data"
    },
    {
     "data": {
      "text/plain": [
       "'Глубина дерева:'"
      ]
     },
     "metadata": {},
     "output_type": "display_data"
    },
    {
     "data": {
      "text/plain": [
       "3"
      ]
     },
     "metadata": {},
     "output_type": "display_data"
    }
   ],
   "source": [
    "display(\"супер точность:\", best_accuracy, \"Глубина дерева:\", best_depth)"
   ]
  },
  {
   "cell_type": "markdown",
   "metadata": {},
   "source": [
    "# вывод по модели Решающее дерево\n",
    "1. Качество модели (Accuracy = 0.76). Модель решающего дерева удовлетворяет условиям задания"
   ]
  },
  {
   "cell_type": "markdown",
   "metadata": {},
   "source": [
    "# 3.2 Следующая модель Случайный лес"
   ]
  },
  {
   "cell_type": "code",
   "execution_count": 10,
   "metadata": {},
   "outputs": [],
   "source": [
    "best_accuracy = 0.75\n",
    "best_est = 0\n",
    "best_depth = 0\n",
    "for est in range(10, 51, 10): # с количеством деревьев: от 10 до 50 с шагом 10\n",
    "    for depth in range (1, 11): # с максимальной глубиной от 1 до 10\n",
    "        model_forest = RandomForestClassifier(random_state=12345, n_estimators=est, max_depth=depth) # инициализировали модель RandomForestRegressor с параметрами random_state=12345, n_estimators и max_depth\n",
    "        model_forest.fit(X_train, y_train) #обучение модели на тренировочной выборке\n",
    "        predictions = model_forest.predict(X_valid) # получаем предсказания модели на валидационной выборке\n",
    "        accuracy = accuracy_score(y_valid, predictions)\n",
    "        if accuracy > best_accuracy:\n",
    "                    best_depth = depth\n",
    "                    best_est = est\n",
    "                    best_accuracy = accuracy"
   ]
  },
  {
   "cell_type": "markdown",
   "metadata": {},
   "source": [
    "<img src=\"https://emojigraph.org/media/apple/check-mark-button_2705.png\" align=left width=33, heigth=33>\n",
    "<div class=\"alert alert-success\">\n",
    "Решающее дерево исследовано корректно:\n",
    "    \n",
    " - исследовано 5х10 значений гиперпараметров\n",
    " - модель обучена на обучающем наборе\n",
    " - получена оценка качества на валидационном наборе\n",
    " - перебор гиперпараметров осуществляется в цикле\n",
    "</div>"
   ]
  },
  {
   "cell_type": "code",
   "execution_count": 11,
   "metadata": {
    "scrolled": true
   },
   "outputs": [
    {
     "data": {
      "text/plain": [
       "'супер точность:'"
      ]
     },
     "metadata": {},
     "output_type": "display_data"
    },
    {
     "data": {
      "text/plain": [
       "0.7978227060653188"
      ]
     },
     "metadata": {},
     "output_type": "display_data"
    },
    {
     "data": {
      "text/plain": [
       "'Количество деревьев:'"
      ]
     },
     "metadata": {},
     "output_type": "display_data"
    },
    {
     "data": {
      "text/plain": [
       "50"
      ]
     },
     "metadata": {},
     "output_type": "display_data"
    },
    {
     "data": {
      "text/plain": [
       "'Максимальная глубина:'"
      ]
     },
     "metadata": {},
     "output_type": "display_data"
    },
    {
     "data": {
      "text/plain": [
       "10"
      ]
     },
     "metadata": {},
     "output_type": "display_data"
    }
   ],
   "source": [
    "display(\"супер точность:\", best_accuracy, \"Количество деревьев:\", best_est, \"Максимальная глубина:\", best_depth)"
   ]
  },
  {
   "cell_type": "markdown",
   "metadata": {},
   "source": [
    "# вывод поисследованию модели Случайный лес\n",
    "1. Точность в модели случайного леса выше более чем на 3% по сравнению с решающим деревом"
   ]
  },
  {
   "cell_type": "markdown",
   "metadata": {},
   "source": [
    "# 3.3 Следующая модель Логистическая регрессия"
   ]
  },
  {
   "cell_type": "code",
   "execution_count": 12,
   "metadata": {},
   "outputs": [],
   "source": [
    "best_accuracy = 0.75"
   ]
  },
  {
   "cell_type": "code",
   "execution_count": 13,
   "metadata": {},
   "outputs": [
    {
     "data": {
      "text/plain": [
       "'Accuracy модели логистической регрессии на валидационной выборке:'"
      ]
     },
     "metadata": {},
     "output_type": "display_data"
    },
    {
     "data": {
      "text/plain": [
       "0.7262830482115086"
      ]
     },
     "metadata": {},
     "output_type": "display_data"
    }
   ],
   "source": [
    "\n",
    "model_log = LogisticRegression(random_state=12345, solver='lbfgs', max_iter=1000) # инициализиировали модель с гиперпараметрами olver='lbfgs', max_iter=1000\n",
    "model_log.fit(X_train, y_train)  # обучаем модель на тренировочной выборке\n",
    "#result = model_log.score(X_valid, y_valid)\n",
    "predictions = model_log.predict(X_valid) # ищем предсказания модели на валидационной выбоке\n",
    "accuracy = accuracy_score(y_valid, predictions)\n",
    "display(\"Accuracy модели логистической регрессии на валидационной выборке:\", accuracy)\n"
   ]
  },
  {
   "cell_type": "markdown",
   "metadata": {},
   "source": [
    "<img src=\"https://emojigraph.org/media/apple/check-mark-button_2705.png\" align=left width=33, heigth=33>\n",
    "<div class=\"alert alert-success\">\n",
    "С логистической регрессией тоже все корректно\n",
    "</div>"
   ]
  },
  {
   "cell_type": "markdown",
   "metadata": {},
   "source": [
    "<img src=\"https://emojigraph.org/media/apple/check-mark-button_2705.png\" align=left width=33, heigth=33>\n",
    "<div class=\"alert alert-success\">\n",
    "Рассмотрены все три изученных алгоритма (решающее дерево, случайный лес, логистическая регрессия)\n",
    "</div>\n"
   ]
  },
  {
   "cell_type": "markdown",
   "metadata": {},
   "source": [
    "# Вывод\n",
    "1. Модель Случайного леса по критерию accuracy показывает наилучшую точность \n",
    "\n",
    "2. Наилучшая точность: 0.79\n",
    "\n",
    "3. гиперпараметры модели: n_estimators = 50, max_depth = 10\n",
    "\n",
    "3. Логистическая регрессия даёт точность 0,72, что ниже на 6%, чем случайный лес\n",
    "\n",
    "4. Решающее дерево дает точноть 0,76, что ниже, чем Случайный лес на 3%"
   ]
  },
  {
   "cell_type": "markdown",
   "metadata": {},
   "source": [
    "<img src=\"https://upload.wikimedia.org/wikipedia/commons/b/ba/Warning_sign_4.0.png\" align=left width=44, heigth=33>\n",
    "<div class=\"alert alert-warning\">\n",
    "Нужно сделать вывод, какая модель лучшая по по результатам валидации. И явно описать не только алгоритм, но и все найденные гиперпараметры.\n",
    "</div>"
   ]
  },
  {
   "cell_type": "markdown",
   "metadata": {},
   "source": [
    "---\n",
    "\n",
    "<div class=\"alert alert-info\">\n",
    "<h2> Комментарий от студента </h2>    \n",
    "вывод дополнил\n",
    "</div>\n",
    "\n",
    "---"
   ]
  },
  {
   "cell_type": "markdown",
   "metadata": {},
   "source": [
    "<a id=\"4_plan\"></a> \n",
    "## Проверьте модель на тестовой выборке"
   ]
  },
  {
   "cell_type": "markdown",
   "metadata": {},
   "source": [
    "4.1 наилучшей точности удалось достичь с моделью Случайного леса, наилучшая точность: 0.7978227060653188, поэтому на тестовой выборке будем проверять именно эту модель"
   ]
  },
  {
   "cell_type": "code",
   "execution_count": 14,
   "metadata": {
    "scrolled": true
   },
   "outputs": [
    {
     "data": {
      "text/plain": [
       "'Точность модели на тестовой выборке:'"
      ]
     },
     "metadata": {},
     "output_type": "display_data"
    },
    {
     "data": {
      "text/plain": [
       "0.7947122861586314"
      ]
     },
     "metadata": {},
     "output_type": "display_data"
    }
   ],
   "source": [
    "model_forest = RandomForestClassifier(random_state=12345, n_estimators=50, max_depth=10)\n",
    "model_forest.fit(X, y)\n",
    "predictions = model_forest.predict(X_test)\n",
    "accuracy = accuracy_score(y_test, predictions)\n",
    "display(\"Точность модели на тестовой выборке:\", accuracy)\n"
   ]
  },
  {
   "cell_type": "markdown",
   "metadata": {},
   "source": [
    "<img src=\"https://upload.wikimedia.org/wikipedia/commons/b/ba/Warning_sign_4.0.png\" align=left width=44, heigth=33>\n",
    "<div class=\"alert alert-warning\">\n",
    "Выводы стоит описывать в markdown ячейках, а не в комментариях. \n",
    "</div>"
   ]
  },
  {
   "cell_type": "markdown",
   "metadata": {},
   "source": [
    "---\n",
    "\n",
    "<div class=\"alert alert-info\">\n",
    "<h2> Комментарий от студента </h2>    \n",
    "поправил\n",
    "</div>\n",
    "\n",
    "---"
   ]
  },
  {
   "cell_type": "markdown",
   "metadata": {},
   "source": [
    "<img src=\"https://emojigraph.org/media/apple/check-mark-button_2705.png\" align=left width=33, heigth=33>\n",
    "<div class=\"alert alert-success\">\n",
    "Молодец: \n",
    "    \n",
    "  - выбрана лучшая модель\n",
    "  - тестирование произведено корректно \n",
    "  - достигнута хорошая точность на тестовой выборке\n",
    "</div>\n"
   ]
  },
  {
   "cell_type": "markdown",
   "metadata": {},
   "source": [
    "<img src=\"https://emojigraph.org/media/apple/check-mark-button_2705.png\" align=left width=33, heigth=33>\n",
    "<div class=\"alert alert-success\">\n",
    "Отлично! Очень хорошо,что ты переобучил модель сумме обучающей и валидационных выборок. \n",
    "</div>\n"
   ]
  },
  {
   "cell_type": "markdown",
   "metadata": {},
   "source": [
    "# Общий вывод сравнение моделей\n",
    "1. проведен анализ трех моделей: Решающее дерево, Случайный лес, Логистическая регрессия\n",
    "\n",
    "2. Каждая модель были использованы различные гиперпараметры: max_depth=max_depth, n_estimators=est, solver='lbfgs', max_iter=1000\n",
    "\n",
    "3. супер точность (accuracy) была достигнута для модели Случайного леса:\n",
    "   Accuracy на валидационной выборке: 0.7978227060653188\n",
    "   Accuracy на тестовой выборке: 0.7947122861586314"
   ]
  },
  {
   "cell_type": "markdown",
   "metadata": {},
   "source": [
    "<img src=\"https://emojigraph.org/media/apple/check-mark-button_2705.png\" align=left width=33, heigth=33>\n",
    "<div class=\"alert alert-success\">\n",
    "👍 </div>"
   ]
  },
  {
   "cell_type": "markdown",
   "metadata": {},
   "source": [
    "## (бонус) Проверьте модели на адекватность"
   ]
  },
  {
   "cell_type": "markdown",
   "metadata": {},
   "source": [
    "<img src=\"https://upload.wikimedia.org/wikipedia/commons/b/ba/Warning_sign_4.0.png\" align=left width=44, heigth=33>\n",
    "<div class=\"alert alert-warning\">\n",
    "В этом задании предполагался достаточно простой подход. Нужно измерить точность для \"наивного\" алгоритма, например предсказывающего случайный ответ или константный. Рекомендую посмотреть, какую  точность дает \"наивный\" алгоритм, всегда предсказывающий самый популярный ответ (у нас это 0). Вычислить это можно вручную или используя DummyClassifier.\n",
    "</div>"
   ]
  },
  {
   "cell_type": "code",
   "execution_count": 15,
   "metadata": {},
   "outputs": [
    {
     "data": {
      "text/plain": [
       "0.6945020746887967"
      ]
     },
     "execution_count": 15,
     "metadata": {},
     "output_type": "execute_result"
    }
   ],
   "source": [
    "from sklearn.dummy import DummyClassifier #импортируем библиотеку DummyClassifier для определения модели на адекватность\n",
    "dummy_model = DummyClassifier(strategy=\"most_frequent\", random_state=0) #  возьмем самый популярный ответ 0\n",
    "dummy_model.fit(X_train, y_train) # обучаем модель на тренировочной выборке\n",
    "dummy_model.score(X_train, y_train) # считаем точность наивного алгорита "
   ]
  },
  {
   "cell_type": "markdown",
   "metadata": {},
   "source": [
    "<img src=\"https://emojigraph.org/media/apple/check-mark-button_2705.png\" align=left width=33, heigth=33>\n",
    "<div class=\"alert alert-success\">\n",
    "<b>v2</b> 👍 </div>"
   ]
  },
  {
   "cell_type": "markdown",
   "metadata": {},
   "source": [
    "# Вывод\n",
    "1. наивный алгоритм (видимо простейгая модель) ошибается в 30,5%\n",
    "2. Случайный лес, попавший в тестовую выборку и считающуюся наиболее удачной показывает точность сильно выше = 0,79% и ошибается она явно меньше = 21%\n",
    "3. Выбранная нами модель Случайный лес лучше, чем наивная модель, и она адекватна."
   ]
  },
  {
   "cell_type": "markdown",
   "metadata": {},
   "source": [
    "## Чек-лист готовности проекта"
   ]
  },
  {
   "cell_type": "markdown",
   "metadata": {},
   "source": [
    "Поставьте 'x' в выполненных пунктах. Далее нажмите Shift+Enter."
   ]
  },
  {
   "cell_type": "markdown",
   "metadata": {},
   "source": [
    "- [x] Jupyter Notebook открыт\n",
    "- [x] Весь код исполняется без ошибок\n",
    "- [x] Ячейки с кодом расположены в порядке исполнения\n",
    "- [x] Выполнено задание 1: данные загружены и изучены\n",
    "- [x] Выполнено задание 2: данные разбиты на три выборки\n",
    "- [x] Выполнено задание 3: проведено исследование моделей\n",
    "    - [x] Рассмотрено больше одной модели\n",
    "    - [x] Рассмотрено хотя бы 3 значения гипепараметров для какой-нибудь модели\n",
    "    - [x] Написаны выводы по результатам исследования\n",
    "- [x] Выполнено задание 3: Проведено тестирование\n",
    "- [x] Удалось достичь accuracy не меньше 0.75\n"
   ]
  },
  {
   "cell_type": "markdown",
   "metadata": {},
   "source": [
    "<img src=\"http://s3.amazonaws.com/pix.iemoji.com/images/emoji/apple/ios-12/256/waving-hand.png\" align=left width=44, heigth=44>\n",
    "<div class=\"alert alert-info\">\n",
    "<b> Заключительный комментарий</b>\n",
    "\n",
    "Все хорошо: твоя работа выполнена верно, без ошибок,  с минимальными помарками.\n",
    "Также работа выглядит аккуратной и хорошо оформленной.\n",
    "Вижу, что тебе дается python, и инструментарий датасайнтиста.\n",
    "\n",
    "К твоей работе нет существенных замечаний, все обязательные этапы ты выполнил. Я готов принять проект. Возвращаю тебе его чтобы ты мог ознакомиться с моими комментариями, возможно у тебя появятся вопросы.\n",
    "\n",
    "Жду работу на финальное ревью ))</div>"
   ]
  },
  {
   "cell_type": "markdown",
   "metadata": {},
   "source": [
    "---\n",
    "\n",
    "<div class=\"alert alert-info\">\n",
    "<h2> Комментарий от студента </h2>    \n",
    "Привет, Дмитрий! Спасибо за твои замечания и подсказки!) Я исправил по ходу проекта некотторые вещи:\n",
    "    1. все выводы и свои мысли переместил в ячейки markdown\n",
    "    2. поправил вывод по Случайному лесу\n",
    "    3. выполнил бонусное задание, при помощи DummyClassifier\n",
    "</div>\n",
    "\n",
    "---"
   ]
  },
  {
   "cell_type": "markdown",
   "metadata": {},
   "source": [
    "<img src=\"http://s3.amazonaws.com/pix.iemoji.com/images/emoji/apple/ios-12/256/waving-hand.png\" align=left width=44, heigth=44>\n",
    "<div class=\"alert alert-info\">\n",
    "<b> Заключительный комментарий v2</b>\n",
    "\n",
    "Привет! Да, вижу что ты сделал допонительную работу по моим комментариям, молодец!\n",
    "\n",
    "Проект принят, поздравляю! И желаю дальнейших успехов!</div>"
   ]
  },
  {
   "cell_type": "code",
   "execution_count": null,
   "metadata": {},
   "outputs": [],
   "source": []
  }
 ],
 "metadata": {
  "ExecuteTimeLog": [
   {
    "duration": 75,
    "start_time": "2022-05-04T08:42:14.769Z"
   },
   {
    "duration": 1499,
    "start_time": "2022-05-04T08:42:24.365Z"
   },
   {
    "duration": 38,
    "start_time": "2022-05-04T08:42:27.627Z"
   },
   {
    "duration": 9,
    "start_time": "2022-05-04T08:44:10.723Z"
   },
   {
    "duration": 31,
    "start_time": "2022-05-04T08:49:03.447Z"
   },
   {
    "duration": 16,
    "start_time": "2022-05-04T08:49:14.398Z"
   },
   {
    "duration": 96,
    "start_time": "2022-05-04T09:01:28.858Z"
   },
   {
    "duration": 5,
    "start_time": "2022-05-04T10:13:01.322Z"
   },
   {
    "duration": 5,
    "start_time": "2022-05-04T10:13:08.769Z"
   },
   {
    "duration": 38,
    "start_time": "2022-05-04T10:13:08.776Z"
   },
   {
    "duration": 28,
    "start_time": "2022-05-04T10:13:08.816Z"
   },
   {
    "duration": 13,
    "start_time": "2022-05-04T10:13:08.846Z"
   },
   {
    "duration": 5,
    "start_time": "2022-05-04T10:13:14.808Z"
   },
   {
    "duration": 9,
    "start_time": "2022-05-04T10:13:17.911Z"
   },
   {
    "duration": 1230,
    "start_time": "2022-05-07T08:45:04.500Z"
   },
   {
    "duration": 147,
    "start_time": "2022-05-07T08:45:05.732Z"
   },
   {
    "duration": 10,
    "start_time": "2022-05-07T08:45:05.881Z"
   },
   {
    "duration": 10,
    "start_time": "2022-05-07T08:45:05.893Z"
   },
   {
    "duration": 7,
    "start_time": "2022-05-07T08:45:05.905Z"
   },
   {
    "duration": 11,
    "start_time": "2022-05-07T08:45:05.914Z"
   },
   {
    "duration": 3,
    "start_time": "2022-05-07T12:16:50.615Z"
   },
   {
    "duration": 149,
    "start_time": "2022-05-07T12:17:06.969Z"
   },
   {
    "duration": 20,
    "start_time": "2022-05-07T12:19:51.541Z"
   },
   {
    "duration": 47,
    "start_time": "2022-05-07T12:20:37.685Z"
   },
   {
    "duration": 9,
    "start_time": "2022-05-07T12:20:43.879Z"
   },
   {
    "duration": 35,
    "start_time": "2022-05-07T12:21:56.849Z"
   },
   {
    "duration": 8,
    "start_time": "2022-05-07T12:22:00.472Z"
   },
   {
    "duration": 35,
    "start_time": "2022-05-07T12:22:20.244Z"
   },
   {
    "duration": 8,
    "start_time": "2022-05-07T12:22:23.338Z"
   },
   {
    "duration": 3,
    "start_time": "2022-05-07T12:22:44.434Z"
   },
   {
    "duration": 37,
    "start_time": "2022-05-07T12:22:46.449Z"
   },
   {
    "duration": 7,
    "start_time": "2022-05-07T12:22:48.840Z"
   },
   {
    "duration": 3353,
    "start_time": "2022-05-07T12:40:00.938Z"
   },
   {
    "duration": 9,
    "start_time": "2022-05-07T12:40:07.401Z"
   },
   {
    "duration": 10,
    "start_time": "2022-05-07T12:40:20.217Z"
   },
   {
    "duration": 1152,
    "start_time": "2022-05-08T13:14:10.369Z"
   },
   {
    "duration": 32,
    "start_time": "2022-05-08T13:14:11.522Z"
   },
   {
    "duration": 10,
    "start_time": "2022-05-08T13:14:11.556Z"
   },
   {
    "duration": 9,
    "start_time": "2022-05-08T13:14:11.568Z"
   },
   {
    "duration": 5,
    "start_time": "2022-05-08T13:14:11.579Z"
   },
   {
    "duration": 10,
    "start_time": "2022-05-08T13:14:11.585Z"
   },
   {
    "duration": 16,
    "start_time": "2022-05-08T13:14:11.596Z"
   },
   {
    "duration": 109,
    "start_time": "2022-05-08T13:14:11.613Z"
   },
   {
    "duration": 0,
    "start_time": "2022-05-08T13:14:11.723Z"
   },
   {
    "duration": 0,
    "start_time": "2022-05-08T13:14:11.724Z"
   },
   {
    "duration": 0,
    "start_time": "2022-05-08T13:14:11.725Z"
   },
   {
    "duration": 9,
    "start_time": "2022-05-08T13:15:11.477Z"
   },
   {
    "duration": 3,
    "start_time": "2022-05-08T13:15:28.253Z"
   },
   {
    "duration": 20,
    "start_time": "2022-05-08T13:15:31.118Z"
   },
   {
    "duration": 11,
    "start_time": "2022-05-08T13:15:33.825Z"
   },
   {
    "duration": 5,
    "start_time": "2022-05-08T13:15:45.357Z"
   },
   {
    "duration": 4,
    "start_time": "2022-05-08T13:15:49.150Z"
   },
   {
    "duration": 7,
    "start_time": "2022-05-08T13:15:56.077Z"
   },
   {
    "duration": 2,
    "start_time": "2022-05-08T13:16:07.421Z"
   },
   {
    "duration": 19,
    "start_time": "2022-05-08T13:16:10.222Z"
   },
   {
    "duration": 4,
    "start_time": "2022-05-08T13:27:42.562Z"
   },
   {
    "duration": 19,
    "start_time": "2022-05-08T13:27:45.403Z"
   },
   {
    "duration": 11,
    "start_time": "2022-05-08T13:27:48.387Z"
   },
   {
    "duration": 6,
    "start_time": "2022-05-08T13:27:52.258Z"
   },
   {
    "duration": 4,
    "start_time": "2022-05-08T13:27:55.435Z"
   },
   {
    "duration": 6,
    "start_time": "2022-05-08T13:27:58.074Z"
   },
   {
    "duration": 3,
    "start_time": "2022-05-08T13:28:02.362Z"
   },
   {
    "duration": 19,
    "start_time": "2022-05-08T13:28:05.322Z"
   },
   {
    "duration": 11,
    "start_time": "2022-05-08T13:29:05.382Z"
   },
   {
    "duration": 18,
    "start_time": "2022-05-08T13:29:25.231Z"
   },
   {
    "duration": 7,
    "start_time": "2022-05-08T13:30:39.890Z"
   },
   {
    "duration": 58,
    "start_time": "2022-05-08T13:31:20.901Z"
   },
   {
    "duration": 51,
    "start_time": "2022-05-08T13:32:08.856Z"
   },
   {
    "duration": 9,
    "start_time": "2022-05-08T13:32:25.125Z"
   },
   {
    "duration": 32,
    "start_time": "2022-05-08T13:43:01.585Z"
   },
   {
    "duration": 8,
    "start_time": "2022-05-08T13:43:05.755Z"
   },
   {
    "duration": 28,
    "start_time": "2022-05-08T13:43:12.715Z"
   },
   {
    "duration": 7,
    "start_time": "2022-05-08T13:43:14.694Z"
   },
   {
    "duration": 3401,
    "start_time": "2022-05-08T13:43:30.879Z"
   },
   {
    "duration": 9,
    "start_time": "2022-05-08T13:43:34.282Z"
   },
   {
    "duration": 3,
    "start_time": "2022-05-08T14:02:51.162Z"
   },
   {
    "duration": 28,
    "start_time": "2022-05-08T14:02:51.166Z"
   },
   {
    "duration": 10,
    "start_time": "2022-05-08T14:02:51.196Z"
   },
   {
    "duration": 18,
    "start_time": "2022-05-08T14:02:51.208Z"
   },
   {
    "duration": 8,
    "start_time": "2022-05-08T14:02:51.228Z"
   },
   {
    "duration": 9,
    "start_time": "2022-05-08T14:02:51.238Z"
   },
   {
    "duration": 4,
    "start_time": "2022-05-08T14:02:51.248Z"
   },
   {
    "duration": 33,
    "start_time": "2022-05-08T14:02:51.253Z"
   },
   {
    "duration": 7,
    "start_time": "2022-05-08T14:02:51.288Z"
   },
   {
    "duration": 3412,
    "start_time": "2022-05-08T14:02:51.297Z"
   },
   {
    "duration": 10,
    "start_time": "2022-05-08T14:02:54.711Z"
   },
   {
    "duration": 3,
    "start_time": "2022-05-08T14:29:24.886Z"
   },
   {
    "duration": 38,
    "start_time": "2022-05-08T14:29:26.681Z"
   },
   {
    "duration": 5,
    "start_time": "2022-05-08T14:29:51.916Z"
   },
   {
    "duration": 4,
    "start_time": "2022-05-08T14:30:07.956Z"
   },
   {
    "duration": 35,
    "start_time": "2022-05-08T14:30:09.923Z"
   },
   {
    "duration": 5,
    "start_time": "2022-05-08T14:30:12.592Z"
   },
   {
    "duration": 3,
    "start_time": "2022-05-08T14:31:39.821Z"
   },
   {
    "duration": 48,
    "start_time": "2022-05-08T14:31:42.421Z"
   },
   {
    "duration": 6,
    "start_time": "2022-05-08T14:31:47.468Z"
   },
   {
    "duration": 5,
    "start_time": "2022-05-08T14:31:58.901Z"
   },
   {
    "duration": 47,
    "start_time": "2022-05-08T14:35:57.589Z"
   },
   {
    "duration": 46,
    "start_time": "2022-05-08T14:36:20.443Z"
   },
   {
    "duration": 36,
    "start_time": "2022-05-08T14:36:42.770Z"
   },
   {
    "duration": 6,
    "start_time": "2022-05-08T14:36:55.243Z"
   },
   {
    "duration": 4,
    "start_time": "2022-05-08T14:37:25.856Z"
   },
   {
    "duration": 49,
    "start_time": "2022-05-08T14:37:27.428Z"
   },
   {
    "duration": 40,
    "start_time": "2022-05-08T14:38:14.824Z"
   },
   {
    "duration": 193,
    "start_time": "2022-05-08T14:46:15.455Z"
   },
   {
    "duration": 2153,
    "start_time": "2022-05-09T12:32:42.785Z"
   },
   {
    "duration": 43,
    "start_time": "2022-05-09T12:32:44.942Z"
   },
   {
    "duration": 17,
    "start_time": "2022-05-09T12:32:44.987Z"
   },
   {
    "duration": 25,
    "start_time": "2022-05-09T12:32:45.008Z"
   },
   {
    "duration": 9,
    "start_time": "2022-05-09T12:32:45.035Z"
   },
   {
    "duration": 14,
    "start_time": "2022-05-09T12:32:45.047Z"
   },
   {
    "duration": 8,
    "start_time": "2022-05-09T12:32:45.063Z"
   },
   {
    "duration": 90,
    "start_time": "2022-05-09T12:32:45.074Z"
   },
   {
    "duration": 12,
    "start_time": "2022-05-09T12:32:45.167Z"
   },
   {
    "duration": 5313,
    "start_time": "2022-05-09T12:32:45.183Z"
   },
   {
    "duration": 30,
    "start_time": "2022-05-09T12:32:50.498Z"
   },
   {
    "duration": 4,
    "start_time": "2022-05-09T12:32:50.531Z"
   },
   {
    "duration": 112,
    "start_time": "2022-05-09T12:32:50.537Z"
   },
   {
    "duration": 426,
    "start_time": "2022-05-09T12:32:50.651Z"
   },
   {
    "duration": 1316,
    "start_time": "2022-05-09T19:18:59.971Z"
   },
   {
    "duration": 26,
    "start_time": "2022-05-09T19:19:01.290Z"
   },
   {
    "duration": 11,
    "start_time": "2022-05-09T19:19:01.317Z"
   },
   {
    "duration": 20,
    "start_time": "2022-05-09T19:19:01.330Z"
   },
   {
    "duration": 4,
    "start_time": "2022-05-09T19:19:01.352Z"
   },
   {
    "duration": 9,
    "start_time": "2022-05-09T19:19:01.357Z"
   },
   {
    "duration": 3,
    "start_time": "2022-05-09T19:19:01.367Z"
   },
   {
    "duration": 41,
    "start_time": "2022-05-09T19:19:01.371Z"
   },
   {
    "duration": 7,
    "start_time": "2022-05-09T19:19:01.413Z"
   },
   {
    "duration": 3325,
    "start_time": "2022-05-09T19:19:01.422Z"
   },
   {
    "duration": 7,
    "start_time": "2022-05-09T19:19:04.749Z"
   },
   {
    "duration": 2,
    "start_time": "2022-05-09T19:19:04.758Z"
   },
   {
    "duration": 39,
    "start_time": "2022-05-09T19:19:04.762Z"
   },
   {
    "duration": 215,
    "start_time": "2022-05-09T19:19:04.803Z"
   },
   {
    "duration": 1658,
    "start_time": "2022-05-11T07:24:30.283Z"
   },
   {
    "duration": 37,
    "start_time": "2022-05-11T07:24:31.944Z"
   },
   {
    "duration": 18,
    "start_time": "2022-05-11T07:24:31.983Z"
   },
   {
    "duration": 87,
    "start_time": "2022-05-11T07:24:32.003Z"
   },
   {
    "duration": 51,
    "start_time": "2022-05-11T07:24:32.093Z"
   },
   {
    "duration": 32,
    "start_time": "2022-05-11T07:24:32.146Z"
   },
   {
    "duration": 9,
    "start_time": "2022-05-11T07:24:32.180Z"
   },
   {
    "duration": 59,
    "start_time": "2022-05-11T07:24:32.191Z"
   },
   {
    "duration": 10,
    "start_time": "2022-05-11T07:24:32.253Z"
   },
   {
    "duration": 5818,
    "start_time": "2022-05-11T07:24:32.266Z"
   },
   {
    "duration": 12,
    "start_time": "2022-05-11T07:24:38.086Z"
   },
   {
    "duration": 27,
    "start_time": "2022-05-11T07:24:38.099Z"
   },
   {
    "duration": 77,
    "start_time": "2022-05-11T07:24:38.129Z"
   },
   {
    "duration": 306,
    "start_time": "2022-05-11T07:24:38.210Z"
   },
   {
    "duration": 8,
    "start_time": "2022-05-11T07:24:45.706Z"
   }
  ],
  "kernelspec": {
   "display_name": "Python 3 (ipykernel)",
   "language": "python",
   "name": "python3"
  },
  "language_info": {
   "codemirror_mode": {
    "name": "ipython",
    "version": 3
   },
   "file_extension": ".py",
   "mimetype": "text/x-python",
   "name": "python",
   "nbconvert_exporter": "python",
   "pygments_lexer": "ipython3",
   "version": "3.9.5"
  },
  "toc": {
   "base_numbering": 1,
   "nav_menu": {},
   "number_sections": true,
   "sideBar": true,
   "skip_h1_title": true,
   "title_cell": "Table of Contents",
   "title_sidebar": "Contents",
   "toc_cell": false,
   "toc_position": {},
   "toc_section_display": true,
   "toc_window_display": false
  }
 },
 "nbformat": 4,
 "nbformat_minor": 2
}
