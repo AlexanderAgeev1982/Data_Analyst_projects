{
 "cells": [
  {
   "cell_type": "markdown",
   "metadata": {},
   "source": [
    "**Александр, привет!**\n",
    "\n",
    "Меня зовут Артемьева Саша, я буду проверять твой проект. Приятно познакомиться, хоть и заочно:)\n",
    "    \n",
    "Предлагаю общаться на «ты» :) Но если это не удобно - дай знать, и мы перейдем на \"вы\". \n",
    "\n",
    "Моя основная цель — не указать на совершенные тобою ошибки, а поделиться своим опытом и помочь тебе стать аналитиком данных. Ты уже проделал большую работу над проектом, но давай сделаем его еще лучше. Ниже ты найдешь мои комментарии - пожалуйста, не перемещай, не изменяй и не удаляй их. Я буду использовать цветовую разметку:\n",
    "\n",
    "<div class=\"alert alert-danger\">\n",
    "<b>❌ Комментарий ревьюера:</b> Так выделены самые важные замечания. Без их отработки проект не будет принят. </div>\n",
    "\n",
    "<div class=\"alert alert-warning\">\n",
    "<b>⚠️ Комментарий ревьюера:</b> Так выделены небольшие замечания. Одно-два таких замечания в проекте допустимы, но если их будет больше - тебе будет необходимо внести исправления. Это как тестовое задание при приеме на работу: очень много мелких ошибок могут стать причиной отказа кандидату. \n",
    "\n",
    "</div>\n",
    "\n",
    "<div class=\"alert alert-success\">\n",
    "<b>✔️ Комментарий ревьюера:</b> Так я выделяю все остальные комментарии.</div>\n",
    "\n",
    "Давай работать над проектом в диалоге: если ты что-то меняешь в проекте или отвечаешь на мои комменатри — пиши об этом. Мне будет легче отследить изменения, если ты выделишь свои комментарии:\n",
    "<div class=\"alert alert-info\"> <b>Комментарий студента:</b> Например, вот так.</div>\n",
    "\n",
    "Всё это поможет выполнить повторную проверку твоего проекта оперативнее. \n"
   ]
  },
  {
   "cell_type": "markdown",
   "metadata": {
    "id": "E0vqbgi9ay0H"
   },
   "source": [
    "# Яндекс.Музыка"
   ]
  },
  {
   "cell_type": "markdown",
   "metadata": {
    "id": "VUC88oWjTJw2"
   },
   "source": [
    "Сравнение Москвы и Петербурга окружено мифами. Например:\n",
    " * Москва — мегаполис, подчинённый жёсткому ритму рабочей недели;\n",
    " * Петербург — культурная столица, со своими вкусами.\n",
    "\n",
    "На данных Яндекс.Музыки вы сравните поведение пользователей двух столиц.\n",
    "\n",
    "**Цель исследования** — проверьте три гипотезы:\n",
    "1. Активность пользователей зависит от дня недели. Причём в Москве и Петербурге это проявляется по-разному.\n",
    "2. В понедельник утром в Москве преобладают одни жанры, а в Петербурге — другие. Так же и вечером пятницы преобладают разные жанры — в зависимости от города. \n",
    "3. Москва и Петербург предпочитают разные жанры музыки. В Москве чаще слушают поп-музыку, в Петербурге — русский рэп.\n",
    "\n",
    "**Ход исследования**\n",
    "\n",
    "Данные о поведении пользователей вы получите из файла `yandex_music_project.csv`. О качестве данных ничего не известно. Поэтому перед проверкой гипотез понадобится обзор данных. \n",
    "\n",
    "Вы проверите данные на ошибки и оцените их влияние на исследование. Затем, на этапе предобработки вы поищете возможность исправить самые критичные ошибки данных.\n",
    " \n",
    "Таким образом, исследование пройдёт в три этапа:\n",
    " 1. Обзор данных.\n",
    " 2. Предобработка данных.\n",
    " 3. Проверка гипотез.\n",
    "\n"
   ]
  },
  {
   "cell_type": "markdown",
   "metadata": {
    "id": "Ml1hmfXC_Zcs"
   },
   "source": [
    "## Обзор данных\n",
    "\n",
    "Составьте первое представление о данных Яндекс.Музыки.\n",
    "\n",
    "\n"
   ]
  },
  {
   "cell_type": "markdown",
   "metadata": {
    "id": "57eAOGIz_Zcs"
   },
   "source": [
    "Основной инструмент аналитика — `pandas`. Импортируйте эту библиотеку."
   ]
  },
  {
   "cell_type": "code",
   "execution_count": 2,
   "metadata": {
    "id": "AXN7PHPN_Zcs",
    "scrolled": true
   },
   "outputs": [],
   "source": [
    "import pandas as pd \n",
    "# импорт библиотеки pandas"
   ]
  },
  {
   "cell_type": "markdown",
   "metadata": {},
   "source": [
    "<div class=\"alert alert-success\">\n",
    "<b>✔️ Комментарий ревьюера:</b>  Очень здорово, что ты используешь сокращение pd для Pandas, это общепринятое сокращение для этой библиотеки для удобной дальнейшей работы. </div>"
   ]
  },
  {
   "cell_type": "markdown",
   "metadata": {
    "id": "SG23P8tt_Zcs"
   },
   "source": [
    "Прочитайте файл `yandex_music_project.csv` из папки `/datasets` и сохраните его в переменной `df`:"
   ]
  },
  {
   "cell_type": "code",
   "execution_count": 4,
   "metadata": {
    "id": "fFVu7vqh_Zct"
   },
   "outputs": [],
   "source": [
    "df = pd.read_csv('/datasets/calls.csv')\n",
    "df.to_csv('calls.csv', index=False)"
   ]
  },
  {
   "cell_type": "markdown",
   "metadata": {},
   "source": [
    "<div class=\"alert alert-success\">\n",
    "<b>✔️ Комментарий ревьюера:</b> Указан правильный путь к файлу: слэш в начале пути очень важен, так как указывает, что нужно искать файл в корневой папке. </div>"
   ]
  },
  {
   "cell_type": "markdown",
   "metadata": {
    "id": "rDoOMd3uTqnZ"
   },
   "source": [
    "Выведите на экран первые десять строк таблицы:"
   ]
  },
  {
   "cell_type": "code",
   "execution_count": 40,
   "metadata": {
    "id": "oWTVX3gW_Zct"
   },
   "outputs": [
    {
     "data": {
      "text/html": [
       "<div>\n",
       "<style scoped>\n",
       "    .dataframe tbody tr th:only-of-type {\n",
       "        vertical-align: middle;\n",
       "    }\n",
       "\n",
       "    .dataframe tbody tr th {\n",
       "        vertical-align: top;\n",
       "    }\n",
       "\n",
       "    .dataframe thead th {\n",
       "        text-align: right;\n",
       "    }\n",
       "</style>\n",
       "<table border=\"1\" class=\"dataframe\">\n",
       "  <thead>\n",
       "    <tr style=\"text-align: right;\">\n",
       "      <th></th>\n",
       "      <th>userID</th>\n",
       "      <th>Track</th>\n",
       "      <th>artist</th>\n",
       "      <th>genre</th>\n",
       "      <th>City</th>\n",
       "      <th>time</th>\n",
       "      <th>Day</th>\n",
       "    </tr>\n",
       "  </thead>\n",
       "  <tbody>\n",
       "    <tr>\n",
       "      <td>0</td>\n",
       "      <td>FFB692EC</td>\n",
       "      <td>Kamigata To Boots</td>\n",
       "      <td>The Mass Missile</td>\n",
       "      <td>rock</td>\n",
       "      <td>Saint-Petersburg</td>\n",
       "      <td>20:28:33</td>\n",
       "      <td>Wednesday</td>\n",
       "    </tr>\n",
       "    <tr>\n",
       "      <td>1</td>\n",
       "      <td>55204538</td>\n",
       "      <td>Delayed Because of Accident</td>\n",
       "      <td>Andreas Rönnberg</td>\n",
       "      <td>rock</td>\n",
       "      <td>Moscow</td>\n",
       "      <td>14:07:09</td>\n",
       "      <td>Friday</td>\n",
       "    </tr>\n",
       "    <tr>\n",
       "      <td>2</td>\n",
       "      <td>20EC38</td>\n",
       "      <td>Funiculì funiculà</td>\n",
       "      <td>Mario Lanza</td>\n",
       "      <td>pop</td>\n",
       "      <td>Saint-Petersburg</td>\n",
       "      <td>20:58:07</td>\n",
       "      <td>Wednesday</td>\n",
       "    </tr>\n",
       "    <tr>\n",
       "      <td>3</td>\n",
       "      <td>A3DD03C9</td>\n",
       "      <td>Dragons in the Sunset</td>\n",
       "      <td>Fire + Ice</td>\n",
       "      <td>folk</td>\n",
       "      <td>Saint-Petersburg</td>\n",
       "      <td>08:37:09</td>\n",
       "      <td>Monday</td>\n",
       "    </tr>\n",
       "    <tr>\n",
       "      <td>4</td>\n",
       "      <td>E2DC1FAE</td>\n",
       "      <td>Soul People</td>\n",
       "      <td>Space Echo</td>\n",
       "      <td>dance</td>\n",
       "      <td>Moscow</td>\n",
       "      <td>08:34:34</td>\n",
       "      <td>Monday</td>\n",
       "    </tr>\n",
       "    <tr>\n",
       "      <td>5</td>\n",
       "      <td>842029A1</td>\n",
       "      <td>Преданная</td>\n",
       "      <td>IMPERVTOR</td>\n",
       "      <td>rusrap</td>\n",
       "      <td>Saint-Petersburg</td>\n",
       "      <td>13:09:41</td>\n",
       "      <td>Friday</td>\n",
       "    </tr>\n",
       "    <tr>\n",
       "      <td>6</td>\n",
       "      <td>4CB90AA5</td>\n",
       "      <td>True</td>\n",
       "      <td>Roman Messer</td>\n",
       "      <td>dance</td>\n",
       "      <td>Moscow</td>\n",
       "      <td>13:00:07</td>\n",
       "      <td>Wednesday</td>\n",
       "    </tr>\n",
       "    <tr>\n",
       "      <td>7</td>\n",
       "      <td>F03E1C1F</td>\n",
       "      <td>Feeling This Way</td>\n",
       "      <td>Polina Griffith</td>\n",
       "      <td>dance</td>\n",
       "      <td>Moscow</td>\n",
       "      <td>20:47:49</td>\n",
       "      <td>Wednesday</td>\n",
       "    </tr>\n",
       "    <tr>\n",
       "      <td>8</td>\n",
       "      <td>8FA1D3BE</td>\n",
       "      <td>И вновь продолжается бой</td>\n",
       "      <td>NaN</td>\n",
       "      <td>ruspop</td>\n",
       "      <td>Moscow</td>\n",
       "      <td>09:17:40</td>\n",
       "      <td>Friday</td>\n",
       "    </tr>\n",
       "    <tr>\n",
       "      <td>9</td>\n",
       "      <td>E772D5C0</td>\n",
       "      <td>Pessimist</td>\n",
       "      <td>NaN</td>\n",
       "      <td>dance</td>\n",
       "      <td>Saint-Petersburg</td>\n",
       "      <td>21:20:49</td>\n",
       "      <td>Wednesday</td>\n",
       "    </tr>\n",
       "  </tbody>\n",
       "</table>\n",
       "</div>"
      ],
      "text/plain": [
       "     userID                        Track            artist   genre  \\\n",
       "0  FFB692EC            Kamigata To Boots  The Mass Missile    rock   \n",
       "1  55204538  Delayed Because of Accident  Andreas Rönnberg    rock   \n",
       "2    20EC38            Funiculì funiculà       Mario Lanza     pop   \n",
       "3  A3DD03C9        Dragons in the Sunset        Fire + Ice    folk   \n",
       "4  E2DC1FAE                  Soul People        Space Echo   dance   \n",
       "5  842029A1                    Преданная         IMPERVTOR  rusrap   \n",
       "6  4CB90AA5                         True      Roman Messer   dance   \n",
       "7  F03E1C1F             Feeling This Way   Polina Griffith   dance   \n",
       "8  8FA1D3BE     И вновь продолжается бой               NaN  ruspop   \n",
       "9  E772D5C0                    Pessimist               NaN   dance   \n",
       "\n",
       "             City        time        Day  \n",
       "0  Saint-Petersburg  20:28:33  Wednesday  \n",
       "1            Moscow  14:07:09     Friday  \n",
       "2  Saint-Petersburg  20:58:07  Wednesday  \n",
       "3  Saint-Petersburg  08:37:09     Monday  \n",
       "4            Moscow  08:34:34     Monday  \n",
       "5  Saint-Petersburg  13:09:41     Friday  \n",
       "6            Moscow  13:00:07  Wednesday  \n",
       "7            Moscow  20:47:49  Wednesday  \n",
       "8            Moscow  09:17:40     Friday  \n",
       "9  Saint-Petersburg  21:20:49  Wednesday  "
      ]
     },
     "metadata": {},
     "output_type": "display_data"
    }
   ],
   "source": [
    "\n",
    "display(df.head(10)) # получение первых 10 строк таблицы df"
   ]
  },
  {
   "cell_type": "markdown",
   "metadata": {},
   "source": [
    "<div class=\"alert alert-success\">\n",
    "<b>✔️ Комментарий ревьюера:</b> Хорошая работа с методом head(). А для вывода последних строк таблицы существует метод tail(). </div>"
   ]
  },
  {
   "cell_type": "markdown",
   "metadata": {
    "id": "EO73Kwic_Zct"
   },
   "source": [
    "Одной командой получить общую информацию о таблице:"
   ]
  },
  {
   "cell_type": "code",
   "execution_count": 41,
   "metadata": {
    "id": "DSf2kIb-_Zct",
    "scrolled": true
   },
   "outputs": [
    {
     "name": "stdout",
     "output_type": "stream",
     "text": [
      "<class 'pandas.core.frame.DataFrame'>\n",
      "RangeIndex: 65079 entries, 0 to 65078\n",
      "Data columns (total 7 columns):\n",
      "  userID    65079 non-null object\n",
      "Track       63848 non-null object\n",
      "artist      57876 non-null object\n",
      "genre       63881 non-null object\n",
      "  City      65079 non-null object\n",
      "time        65079 non-null object\n",
      "Day         65079 non-null object\n",
      "dtypes: object(7)\n",
      "memory usage: 3.5+ MB\n"
     ]
    },
    {
     "data": {
      "text/plain": [
       "None"
      ]
     },
     "metadata": {},
     "output_type": "display_data"
    }
   ],
   "source": [
    "display(df.info())# получение общей информации о данных в таблице df"
   ]
  },
  {
   "cell_type": "markdown",
   "metadata": {},
   "source": [
    "<div class=\"alert alert-success\">\n",
    "<b>✔️ Комментарий ревьюера:</b>  Отличный выбор метода - info действительно показывает много информации о датафрейме. \n",
    "</div>"
   ]
  },
  {
   "cell_type": "markdown",
   "metadata": {
    "id": "TaQ2Iwbr_Zct"
   },
   "source": [
    "Итак, в таблице семь столбцов. Тип данных во всех столбцах — `object`.\n",
    "\n",
    "Согласно документации к данным:\n",
    "* `userID` — идентификатор пользователя;\n",
    "* `Track` — название трека;  \n",
    "* `artist` — имя исполнителя;\n",
    "* `genre` — название жанра;\n",
    "* `City` — город пользователя;\n",
    "* `time` — время начала прослушивания;\n",
    "* `Day` — день недели.\n",
    "\n",
    "В названиях колонок видны три нарушения стиля:\n",
    "1. Строчные буквы сочетаются с прописными.\n",
    "2. Встречаются пробелы.\n",
    "3. Найдите ещё одну проблему в названии колонок и опишите её в этом пункте. Отсутствует \"Змеиный регистр\"\n",
    "\n",
    "\n",
    "\n",
    "Количество значений в столбцах различается. Значит, в данных есть пропущенные значения.\n"
   ]
  },
  {
   "cell_type": "markdown",
   "metadata": {},
   "source": [
    "<div class=\"alert alert-danger\">\n",
    "<b>❌ Комментарий ревьюера:</b> Здесь нужно было найти третье нарушение стиля. </div>\n"
   ]
  },
  {
   "cell_type": "markdown",
   "metadata": {},
   "source": [
    "<div class=\"alert alert-info\"> <b>Комментарий студента:</b> Добавил \"отсутствует змеиный регистр\".</div>\n"
   ]
  },
  {
   "cell_type": "markdown",
   "metadata": {
    "id": "MCB6-dXG_Zct"
   },
   "source": [
    "**Выводы**\n",
    "\n",
    "В каждой строке таблицы — данные о прослушанном треке. Часть колонок описывает саму композицию: название, исполнителя и жанр. Остальные данные рассказывают о пользователе: из какого он города, когда он слушал музыку. \n",
    "\n",
    "Предварительно можно утверждать, что, данных достаточно для проверки гипотез. Но встречаются пропуски в данных, а в названиях колонок — расхождения с хорошим стилем.\n",
    "\n",
    "Чтобы двигаться дальше, нужно устранить проблемы в данных."
   ]
  },
  {
   "cell_type": "markdown",
   "metadata": {
    "id": "SjYF6Ub9_Zct"
   },
   "source": [
    "## Предобработка данных\n",
    "Исправьте стиль в заголовках столбцов, исключите пропуски. Затем проверьте данные на дубликаты."
   ]
  },
  {
   "cell_type": "markdown",
   "metadata": {
    "id": "dIaKXr29_Zct"
   },
   "source": [
    "### Стиль заголовков\n",
    "Выведите на экран названия столбцов:"
   ]
  },
  {
   "cell_type": "code",
   "execution_count": 42,
   "metadata": {
    "id": "oKOTdF_Q_Zct"
   },
   "outputs": [
    {
     "data": {
      "text/plain": [
       "Index(['  userID', 'Track', 'artist', 'genre', '  City  ', 'time', 'Day'], dtype='object')"
      ]
     },
     "execution_count": 42,
     "metadata": {},
     "output_type": "execute_result"
    }
   ],
   "source": [
    "df.columns # перечень названий столбцов таблицы df"
   ]
  },
  {
   "cell_type": "markdown",
   "metadata": {},
   "source": [
    "<div class=\"alert alert-success\">\n",
    "<b>✔️ Комментарий ревьюера:</b> Отлично! Для вывода столбцов на экран здесь не нужно использовать функцию print(): результат и так будет выведен, так как это последняя строчка ячейки.\n",
    "</div>"
   ]
  },
  {
   "cell_type": "markdown",
   "metadata": {
    "id": "zj5534cv_Zct"
   },
   "source": [
    "Приведите названия в соответствие с хорошим стилем:\n",
    "* несколько слов в названии запишите в «змеином_регистре»,\n",
    "* все символы сделайте строчными,\n",
    "* устраните пробелы.\n",
    "\n",
    "Для этого переименуйте колонки так:\n",
    "* `'  userID'` → `'user_id'`;\n",
    "* `'Track'` → `'track'`;\n",
    "* `'  City  '` → `'city'`;\n",
    "* `'Day'` → `'day'`."
   ]
  },
  {
   "cell_type": "code",
   "execution_count": 43,
   "metadata": {
    "id": "ISlFqs5y_Zct"
   },
   "outputs": [],
   "source": [
    "df = df.rename(columns={'  userID': 'user_id', 'Track': 'track', '  City  ': 'city', 'Day': 'day' })# переименование столбцов"
   ]
  },
  {
   "cell_type": "markdown",
   "metadata": {},
   "source": [
    "<div class=\"alert alert-success\">\n",
    "<b>✔️ Комментарий ревьюера:</b>  Хороший выбор метода - rename сработает без ошибок, даже если изменится порядок столбцов. </div>"
   ]
  },
  {
   "cell_type": "markdown",
   "metadata": {
    "id": "1dqbh00J_Zct"
   },
   "source": [
    "Проверьте результат. Для этого ещё раз выведите на экран названия столбцов:"
   ]
  },
  {
   "cell_type": "code",
   "execution_count": 44,
   "metadata": {
    "id": "d4NOAmTW_Zct"
   },
   "outputs": [
    {
     "data": {
      "text/plain": [
       "Index(['user_id', 'track', 'artist', 'genre', 'city', 'time', 'day'], dtype='object')"
      ]
     },
     "execution_count": 44,
     "metadata": {},
     "output_type": "execute_result"
    }
   ],
   "source": [
    "df.columns# проверка результатов - перечень названий столбцов"
   ]
  },
  {
   "cell_type": "markdown",
   "metadata": {
    "id": "5ISfbcfY_Zct"
   },
   "source": [
    "### Пропуски значений\n",
    "Сначала посчитайте, сколько в таблице пропущенных значений. Для этого достаточно двух методов `pandas`:"
   ]
  },
  {
   "cell_type": "code",
   "execution_count": 45,
   "metadata": {
    "id": "RskX29qr_Zct"
   },
   "outputs": [
    {
     "data": {
      "text/plain": [
       "user_id       0\n",
       "track      1231\n",
       "artist     7203\n",
       "genre      1198\n",
       "city          0\n",
       "time          0\n",
       "day           0\n",
       "dtype: int64"
      ]
     },
     "execution_count": 45,
     "metadata": {},
     "output_type": "execute_result"
    }
   ],
   "source": [
    "df.isna().sum()# подсчёт пропусков"
   ]
  },
  {
   "cell_type": "markdown",
   "metadata": {},
   "source": [
    "<div class=\"alert alert-success\">\n",
    "<b>✔️ Комментарий ревьюера:</b>  Выбран метод isna() для нахождения пропущенных значений, это отлично! На самом деле, isnull() и isna() делают одно и то же, но использование isna() предпочтительнее. </div>"
   ]
  },
  {
   "cell_type": "markdown",
   "metadata": {
    "id": "qubhgnlO_Zct"
   },
   "source": [
    "Не все пропущенные значения влияют на исследование. Так в `track` и `artist` пропуски не важны для вашей работы. Достаточно заменить их явными обозначениями.\n",
    "\n",
    "Но пропуски в `genre` могут помешать сравнению музыкальных вкусов в Москве и Санкт-Петербурге. На практике было бы правильно установить причину пропусков и восстановить данные. Такой возможности нет в учебном проекте. Придётся:\n",
    "* заполнить и эти пропуски явными обозначениями,\n",
    "* оценить, насколько они повредят расчётам. "
   ]
  },
  {
   "cell_type": "markdown",
   "metadata": {
    "id": "fSv2laPA_Zct"
   },
   "source": [
    "Замените пропущенные значения в столбцах `track`, `artist` и `genre` на строку `'unknown'`. Для этого создайте список `columns_to_replace`, переберите его элементы циклом `for` и для каждого столбца выполните замену пропущенных значений:"
   ]
  },
  {
   "cell_type": "code",
   "execution_count": 46,
   "metadata": {
    "id": "KplB5qWs_Zct"
   },
   "outputs": [],
   "source": [
    "columns_to_replace = ['track', 'artist', 'genre']\n",
    "for column in columns_to_replace:\n",
    "    df[column] = df[column].fillna('unknown')\n",
    "\n",
    "# перебор названий столбцов в цикле и замена пропущенных значений на 'unknown'"
   ]
  },
  {
   "cell_type": "markdown",
   "metadata": {},
   "source": [
    "<div class=\"alert alert-success\">\n",
    "<b>✔️ Комментарий ревьюера:</b>  Список columns_to_replace сформирован верно, цикл отработал без ошибок. </div>"
   ]
  },
  {
   "cell_type": "markdown",
   "metadata": {
    "id": "Ilsm-MZo_Zct"
   },
   "source": [
    "Убедитесь, что в таблице не осталось пропусков. Для этого ещё раз посчитайте пропущенные значения."
   ]
  },
  {
   "cell_type": "code",
   "execution_count": 47,
   "metadata": {
    "id": "Tq4nYRX4_Zct"
   },
   "outputs": [
    {
     "data": {
      "text/plain": [
       "user_id    0\n",
       "track      0\n",
       "artist     0\n",
       "genre      0\n",
       "city       0\n",
       "time       0\n",
       "day        0\n",
       "dtype: int64"
      ]
     },
     "execution_count": 47,
     "metadata": {},
     "output_type": "execute_result"
    }
   ],
   "source": [
    "df.isna().sum()# подсчёт пропусков"
   ]
  },
  {
   "cell_type": "markdown",
   "metadata": {
    "id": "BWKRtBJ3_Zct"
   },
   "source": [
    "### Дубликаты\n",
    "Посчитайте явные дубликаты в таблице одной командой:"
   ]
  },
  {
   "cell_type": "code",
   "execution_count": 48,
   "metadata": {
    "id": "36eES_S0_Zct"
   },
   "outputs": [
    {
     "data": {
      "text/plain": [
       "3826"
      ]
     },
     "execution_count": 48,
     "metadata": {},
     "output_type": "execute_result"
    }
   ],
   "source": [
    "df.duplicated().sum()# подсчёт явных дубликатов"
   ]
  },
  {
   "cell_type": "markdown",
   "metadata": {},
   "source": [
    "<div class=\"alert alert-success\">\n",
    "<b>✔️ Комментарий ревьюера:</b> Дубликаты верно найдены и посчитаны оптимальными методами.</div>"
   ]
  },
  {
   "cell_type": "markdown",
   "metadata": {
    "id": "Ot25h6XR_Zct"
   },
   "source": [
    "Вызовите специальный метод `pandas`, чтобы удалить явные дубликаты:"
   ]
  },
  {
   "cell_type": "code",
   "execution_count": 49,
   "metadata": {
    "id": "exFHq6tt_Zct"
   },
   "outputs": [],
   "source": [
    "df = df.drop_duplicates().reset_index(drop=True)# удаление явных дубликатов (с удалением старых индексов и формированием новых)"
   ]
  },
  {
   "cell_type": "markdown",
   "metadata": {
    "id": "Im2YwBEG_Zct"
   },
   "source": [
    "Ещё раз посчитайте явные дубликаты в таблице — убедитесь, что полностью от них избавились:"
   ]
  },
  {
   "cell_type": "code",
   "execution_count": 50,
   "metadata": {
    "id": "-8PuNWQ0_Zct"
   },
   "outputs": [
    {
     "data": {
      "text/plain": [
       "0"
      ]
     },
     "execution_count": 50,
     "metadata": {},
     "output_type": "execute_result"
    }
   ],
   "source": [
    "df.duplicated().sum()# проверка на отсутствие дубликатов"
   ]
  },
  {
   "cell_type": "markdown",
   "metadata": {
    "id": "QlFBsxAr_Zct"
   },
   "source": [
    "Теперь избавьтесь от неявных дубликатов в колонке `genre`. Например, название одного и того же жанра может быть записано немного по-разному. Такие ошибки тоже повлияют на результат исследования."
   ]
  },
  {
   "cell_type": "markdown",
   "metadata": {
    "id": "eSjWwsOh_Zct"
   },
   "source": [
    "Выведите на экран список уникальных названий жанров, отсортированный в алфавитном порядке. Для этого:\n",
    "* извлеките нужный столбец датафрейма, \n",
    "* примените к нему метод сортировки,\n",
    "* для отсортированного столбца вызовите метод, который вернёт уникальные значения из столбца."
   ]
  },
  {
   "cell_type": "code",
   "execution_count": 51,
   "metadata": {
    "id": "JIUcqzZN_Zct"
   },
   "outputs": [
    {
     "data": {
      "text/plain": [
       "array(['acid', 'acoustic', 'action', 'adult', 'africa', 'afrikaans',\n",
       "       'alternative', 'alternativepunk', 'ambient', 'americana',\n",
       "       'animated', 'anime', 'arabesk', 'arabic', 'arena',\n",
       "       'argentinetango', 'art', 'audiobook', 'author', 'avantgarde',\n",
       "       'axé', 'baile', 'balkan', 'beats', 'bigroom', 'black', 'bluegrass',\n",
       "       'blues', 'bollywood', 'bossa', 'brazilian', 'breakbeat', 'breaks',\n",
       "       'broadway', 'cantautori', 'cantopop', 'canzone', 'caribbean',\n",
       "       'caucasian', 'celtic', 'chamber', 'chanson', 'children', 'chill',\n",
       "       'chinese', 'choral', 'christian', 'christmas', 'classical',\n",
       "       'classicmetal', 'club', 'colombian', 'comedy', 'conjazz',\n",
       "       'contemporary', 'country', 'cuban', 'dance', 'dancehall',\n",
       "       'dancepop', 'dark', 'death', 'deep', 'deutschrock', 'deutschspr',\n",
       "       'dirty', 'disco', 'dnb', 'documentary', 'downbeat', 'downtempo',\n",
       "       'drum', 'dub', 'dubstep', 'eastern', 'easy', 'electronic',\n",
       "       'electropop', 'emo', 'entehno', 'epicmetal', 'estrada', 'ethnic',\n",
       "       'eurofolk', 'european', 'experimental', 'extrememetal', 'fado',\n",
       "       'fairytail', 'film', 'fitness', 'flamenco', 'folk', 'folklore',\n",
       "       'folkmetal', 'folkrock', 'folktronica', 'forró', 'frankreich',\n",
       "       'französisch', 'french', 'funk', 'future', 'gangsta', 'garage',\n",
       "       'german', 'ghazal', 'gitarre', 'glitch', 'gospel', 'gothic',\n",
       "       'grime', 'grunge', 'gypsy', 'handsup', \"hard'n'heavy\", 'hardcore',\n",
       "       'hardstyle', 'hardtechno', 'hip', 'hip-hop', 'hiphop',\n",
       "       'historisch', 'holiday', 'hop', 'horror', 'house', 'hymn', 'idm',\n",
       "       'independent', 'indian', 'indie', 'indipop', 'industrial',\n",
       "       'inspirational', 'instrumental', 'international', 'irish', 'jam',\n",
       "       'japanese', 'jazz', 'jewish', 'jpop', 'jungle', 'k-pop',\n",
       "       'karadeniz', 'karaoke', 'kayokyoku', 'korean', 'laiko', 'latin',\n",
       "       'latino', 'leftfield', 'local', 'lounge', 'loungeelectronic',\n",
       "       'lovers', 'malaysian', 'mandopop', 'marschmusik', 'meditative',\n",
       "       'mediterranean', 'melodic', 'metal', 'metalcore', 'mexican',\n",
       "       'middle', 'minimal', 'miscellaneous', 'modern', 'mood', 'mpb',\n",
       "       'muslim', 'native', 'neoklassik', 'neue', 'new', 'newage',\n",
       "       'newwave', 'nu', 'nujazz', 'numetal', 'oceania', 'old', 'opera',\n",
       "       'orchestral', 'other', 'piano', 'podcasts', 'pop', 'popdance',\n",
       "       'popelectronic', 'popeurodance', 'poprussian', 'post',\n",
       "       'posthardcore', 'postrock', 'power', 'progmetal', 'progressive',\n",
       "       'psychedelic', 'punjabi', 'punk', 'quebecois', 'ragga', 'ram',\n",
       "       'rancheras', 'rap', 'rave', 'reggae', 'reggaeton', 'regional',\n",
       "       'relax', 'religious', 'retro', 'rhythm', 'rnb', 'rnr', 'rock',\n",
       "       'rockabilly', 'rockalternative', 'rockindie', 'rockother',\n",
       "       'romance', 'roots', 'ruspop', 'rusrap', 'rusrock', 'russian',\n",
       "       'salsa', 'samba', 'scenic', 'schlager', 'self', 'sertanejo',\n",
       "       'shanson', 'shoegazing', 'showtunes', 'singer', 'ska', 'skarock',\n",
       "       'slow', 'smooth', 'soft', 'soul', 'soulful', 'sound', 'soundtrack',\n",
       "       'southern', 'specialty', 'speech', 'spiritual', 'sport',\n",
       "       'stonerrock', 'surf', 'swing', 'synthpop', 'synthrock',\n",
       "       'sängerportrait', 'tango', 'tanzorchester', 'taraftar', 'tatar',\n",
       "       'tech', 'techno', 'teen', 'thrash', 'top', 'traditional',\n",
       "       'tradjazz', 'trance', 'tribal', 'trip', 'triphop', 'tropical',\n",
       "       'türk', 'türkçe', 'ukrrock', 'unknown', 'urban', 'uzbek',\n",
       "       'variété', 'vi', 'videogame', 'vocal', 'western', 'world',\n",
       "       'worldbeat', 'ïîï', 'электроника'], dtype=object)"
      ]
     },
     "execution_count": 51,
     "metadata": {},
     "output_type": "execute_result"
    }
   ],
   "source": [
    "\n",
    "df.sort_values(by='genre')['genre'].unique() # Просмотр уникальных названий жанров"
   ]
  },
  {
   "cell_type": "markdown",
   "metadata": {},
   "source": [
    "<div class=\"alert alert-danger\">\n",
    "<b>❌ Комментарий ревьюера:</b> Список нужно было отсотрировать. </div>\n"
   ]
  },
  {
   "cell_type": "markdown",
   "metadata": {},
   "source": [
    "<div class=\"alert alert-info\"> <b>Комментарий студента:</b> выполнил сначала сортировку, а потом применил метод unique.</div>\n",
    "\n"
   ]
  },
  {
   "cell_type": "markdown",
   "metadata": {
    "id": "qej-Qmuo_Zct"
   },
   "source": [
    "Просмотрите список и найдите неявные дубликаты названия `hiphop`. Это могут быть названия с ошибками или альтернативные названия того же жанра.\n",
    "\n",
    "Вы увидите следующие неявные дубликаты:\n",
    "* *hip*,\n",
    "* *hop*,\n",
    "* *hip-hop*.\n",
    "\n",
    "Чтобы очистить от них таблицу, напишите функцию `replace_wrong_genres()` с двумя параметрами: \n",
    "* `wrong_genres` — список дубликатов,\n",
    "* `correct_genre` — строка с правильным значением.\n",
    "\n",
    "Функция должна исправить колонку `genre` в таблице `df`: заменить каждое значение из списка `wrong_genres` на значение из `correct_genre`."
   ]
  },
  {
   "cell_type": "code",
   "execution_count": 52,
   "metadata": {
    "id": "ErNDkmns_Zct"
   },
   "outputs": [],
   "source": [
    "def replace_wrong_genres(wrong_genres, correct_genre):\n",
    "    for wrong in wrong_genres:\n",
    "        df['genre'] = df['genre'].replace(wrong, correct_genre)# Функция для замены неявных дубликатов"
   ]
  },
  {
   "cell_type": "markdown",
   "metadata": {},
   "source": [
    "<div class=\"alert alert-success\">\n",
    "<b>✔️ Комментарий ревьюера:</b> Функция написана верно!</div>"
   ]
  },
  {
   "cell_type": "markdown",
   "metadata": {
    "id": "aDoBJxbA_Zct"
   },
   "source": [
    "Вызовите `replace_wrong_genres()` и передайте ей такие аргументы, чтобы она устранила неявные дубликаты: вместо `hip`, `hop` и `hip-hop` в таблице должно быть значение `hiphop`:"
   ]
  },
  {
   "cell_type": "code",
   "execution_count": 53,
   "metadata": {
    "id": "YN5i2hpmSo09"
   },
   "outputs": [],
   "source": [
    "wrong_genres = ['hip', 'hop', 'hip-hop']\n",
    "correct_genre = 'hiphop'\n",
    "replace_wrong_genres(wrong_genres, correct_genre)\n"
   ]
  },
  {
   "cell_type": "markdown",
   "metadata": {
    "id": "zQKF16_RG15m"
   },
   "source": [
    "Проверьте, что заменили неправильные названия:\n",
    "\n",
    "*   hip\n",
    "*   hop\n",
    "*   hip-hop\n",
    "\n",
    "Выведите отсортированный список уникальных значений столбца `genre`:"
   ]
  },
  {
   "cell_type": "code",
   "execution_count": 54,
   "metadata": {
    "id": "wvixALnFG15m"
   },
   "outputs": [
    {
     "data": {
      "text/plain": [
       "['acid',\n",
       " 'acoustic',\n",
       " 'action',\n",
       " 'adult',\n",
       " 'africa',\n",
       " 'afrikaans',\n",
       " 'alternative',\n",
       " 'alternativepunk',\n",
       " 'ambient',\n",
       " 'americana',\n",
       " 'animated',\n",
       " 'anime',\n",
       " 'arabesk',\n",
       " 'arabic',\n",
       " 'arena',\n",
       " 'argentinetango',\n",
       " 'art',\n",
       " 'audiobook',\n",
       " 'author',\n",
       " 'avantgarde',\n",
       " 'axé',\n",
       " 'baile',\n",
       " 'balkan',\n",
       " 'beats',\n",
       " 'bigroom',\n",
       " 'black',\n",
       " 'bluegrass',\n",
       " 'blues',\n",
       " 'bollywood',\n",
       " 'bossa',\n",
       " 'brazilian',\n",
       " 'breakbeat',\n",
       " 'breaks',\n",
       " 'broadway',\n",
       " 'cantautori',\n",
       " 'cantopop',\n",
       " 'canzone',\n",
       " 'caribbean',\n",
       " 'caucasian',\n",
       " 'celtic',\n",
       " 'chamber',\n",
       " 'chanson',\n",
       " 'children',\n",
       " 'chill',\n",
       " 'chinese',\n",
       " 'choral',\n",
       " 'christian',\n",
       " 'christmas',\n",
       " 'classical',\n",
       " 'classicmetal',\n",
       " 'club',\n",
       " 'colombian',\n",
       " 'comedy',\n",
       " 'conjazz',\n",
       " 'contemporary',\n",
       " 'country',\n",
       " 'cuban',\n",
       " 'dance',\n",
       " 'dancehall',\n",
       " 'dancepop',\n",
       " 'dark',\n",
       " 'death',\n",
       " 'deep',\n",
       " 'deutschrock',\n",
       " 'deutschspr',\n",
       " 'dirty',\n",
       " 'disco',\n",
       " 'dnb',\n",
       " 'documentary',\n",
       " 'downbeat',\n",
       " 'downtempo',\n",
       " 'drum',\n",
       " 'dub',\n",
       " 'dubstep',\n",
       " 'eastern',\n",
       " 'easy',\n",
       " 'electronic',\n",
       " 'electropop',\n",
       " 'emo',\n",
       " 'entehno',\n",
       " 'epicmetal',\n",
       " 'estrada',\n",
       " 'ethnic',\n",
       " 'eurofolk',\n",
       " 'european',\n",
       " 'experimental',\n",
       " 'extrememetal',\n",
       " 'fado',\n",
       " 'fairytail',\n",
       " 'film',\n",
       " 'fitness',\n",
       " 'flamenco',\n",
       " 'folk',\n",
       " 'folklore',\n",
       " 'folkmetal',\n",
       " 'folkrock',\n",
       " 'folktronica',\n",
       " 'forró',\n",
       " 'frankreich',\n",
       " 'französisch',\n",
       " 'french',\n",
       " 'funk',\n",
       " 'future',\n",
       " 'gangsta',\n",
       " 'garage',\n",
       " 'german',\n",
       " 'ghazal',\n",
       " 'gitarre',\n",
       " 'glitch',\n",
       " 'gospel',\n",
       " 'gothic',\n",
       " 'grime',\n",
       " 'grunge',\n",
       " 'gypsy',\n",
       " 'handsup',\n",
       " \"hard'n'heavy\",\n",
       " 'hardcore',\n",
       " 'hardstyle',\n",
       " 'hardtechno',\n",
       " 'hiphop',\n",
       " 'historisch',\n",
       " 'holiday',\n",
       " 'horror',\n",
       " 'house',\n",
       " 'hymn',\n",
       " 'idm',\n",
       " 'independent',\n",
       " 'indian',\n",
       " 'indie',\n",
       " 'indipop',\n",
       " 'industrial',\n",
       " 'inspirational',\n",
       " 'instrumental',\n",
       " 'international',\n",
       " 'irish',\n",
       " 'jam',\n",
       " 'japanese',\n",
       " 'jazz',\n",
       " 'jewish',\n",
       " 'jpop',\n",
       " 'jungle',\n",
       " 'k-pop',\n",
       " 'karadeniz',\n",
       " 'karaoke',\n",
       " 'kayokyoku',\n",
       " 'korean',\n",
       " 'laiko',\n",
       " 'latin',\n",
       " 'latino',\n",
       " 'leftfield',\n",
       " 'local',\n",
       " 'lounge',\n",
       " 'loungeelectronic',\n",
       " 'lovers',\n",
       " 'malaysian',\n",
       " 'mandopop',\n",
       " 'marschmusik',\n",
       " 'meditative',\n",
       " 'mediterranean',\n",
       " 'melodic',\n",
       " 'metal',\n",
       " 'metalcore',\n",
       " 'mexican',\n",
       " 'middle',\n",
       " 'minimal',\n",
       " 'miscellaneous',\n",
       " 'modern',\n",
       " 'mood',\n",
       " 'mpb',\n",
       " 'muslim',\n",
       " 'native',\n",
       " 'neoklassik',\n",
       " 'neue',\n",
       " 'new',\n",
       " 'newage',\n",
       " 'newwave',\n",
       " 'nu',\n",
       " 'nujazz',\n",
       " 'numetal',\n",
       " 'oceania',\n",
       " 'old',\n",
       " 'opera',\n",
       " 'orchestral',\n",
       " 'other',\n",
       " 'piano',\n",
       " 'podcasts',\n",
       " 'pop',\n",
       " 'popdance',\n",
       " 'popelectronic',\n",
       " 'popeurodance',\n",
       " 'poprussian',\n",
       " 'post',\n",
       " 'posthardcore',\n",
       " 'postrock',\n",
       " 'power',\n",
       " 'progmetal',\n",
       " 'progressive',\n",
       " 'psychedelic',\n",
       " 'punjabi',\n",
       " 'punk',\n",
       " 'quebecois',\n",
       " 'ragga',\n",
       " 'ram',\n",
       " 'rancheras',\n",
       " 'rap',\n",
       " 'rave',\n",
       " 'reggae',\n",
       " 'reggaeton',\n",
       " 'regional',\n",
       " 'relax',\n",
       " 'religious',\n",
       " 'retro',\n",
       " 'rhythm',\n",
       " 'rnb',\n",
       " 'rnr',\n",
       " 'rock',\n",
       " 'rockabilly',\n",
       " 'rockalternative',\n",
       " 'rockindie',\n",
       " 'rockother',\n",
       " 'romance',\n",
       " 'roots',\n",
       " 'ruspop',\n",
       " 'rusrap',\n",
       " 'rusrock',\n",
       " 'russian',\n",
       " 'salsa',\n",
       " 'samba',\n",
       " 'scenic',\n",
       " 'schlager',\n",
       " 'self',\n",
       " 'sertanejo',\n",
       " 'shanson',\n",
       " 'shoegazing',\n",
       " 'showtunes',\n",
       " 'singer',\n",
       " 'ska',\n",
       " 'skarock',\n",
       " 'slow',\n",
       " 'smooth',\n",
       " 'soft',\n",
       " 'soul',\n",
       " 'soulful',\n",
       " 'sound',\n",
       " 'soundtrack',\n",
       " 'southern',\n",
       " 'specialty',\n",
       " 'speech',\n",
       " 'spiritual',\n",
       " 'sport',\n",
       " 'stonerrock',\n",
       " 'surf',\n",
       " 'swing',\n",
       " 'synthpop',\n",
       " 'synthrock',\n",
       " 'sängerportrait',\n",
       " 'tango',\n",
       " 'tanzorchester',\n",
       " 'taraftar',\n",
       " 'tatar',\n",
       " 'tech',\n",
       " 'techno',\n",
       " 'teen',\n",
       " 'thrash',\n",
       " 'top',\n",
       " 'traditional',\n",
       " 'tradjazz',\n",
       " 'trance',\n",
       " 'tribal',\n",
       " 'trip',\n",
       " 'triphop',\n",
       " 'tropical',\n",
       " 'türk',\n",
       " 'türkçe',\n",
       " 'ukrrock',\n",
       " 'unknown',\n",
       " 'urban',\n",
       " 'uzbek',\n",
       " 'variété',\n",
       " 'vi',\n",
       " 'videogame',\n",
       " 'vocal',\n",
       " 'western',\n",
       " 'world',\n",
       " 'worldbeat',\n",
       " 'ïîï',\n",
       " 'электроника']"
      ]
     },
     "metadata": {},
     "output_type": "display_data"
    }
   ],
   "source": [
    "display(sorted(df['genre'].unique()))# Проверка на неявные дубликаты"
   ]
  },
  {
   "cell_type": "markdown",
   "metadata": {
    "id": "jz6a9-7HQUDd"
   },
   "source": [
    "**Выводы**\n",
    "\n",
    "Предобработка обнаружила три проблемы в данных:\n",
    "\n",
    "- нарушения в стиле заголовков,\n",
    "- пропущенные значения,\n",
    "- дубликаты — явные и неявные.\n",
    "\n",
    "Вы исправили заголовки, чтобы упростить работу с таблицей. Без дубликатов исследование станет более точным.\n",
    "\n",
    "Пропущенные значения вы заменили на `'unknown'`. Ещё предстоит увидеть, не повредят ли исследованию пропуски в колонке `genre`.\n",
    "\n",
    "Теперь можно перейти к проверке гипотез. "
   ]
  },
  {
   "cell_type": "markdown",
   "metadata": {
    "id": "WttZHXH0SqKk"
   },
   "source": [
    "## Проверка гипотез"
   ]
  },
  {
   "cell_type": "markdown",
   "metadata": {
    "id": "Im936VVi_Zcu"
   },
   "source": [
    "### Сравнение поведения пользователей двух столиц"
   ]
  },
  {
   "cell_type": "markdown",
   "metadata": {
    "id": "nwt_MuaL_Zcu"
   },
   "source": [
    "Первая гипотеза утверждает, что пользователи по-разному слушают музыку в Москве и Санкт-Петербурге. Проверьте это предположение по данным о трёх днях недели — понедельнике, среде и пятнице. Для этого:\n",
    "\n",
    "* Разделите пользователей Москвы и Санкт-Петербурга\n",
    "* Сравните, сколько треков послушала каждая группа пользователей в понедельник, среду и пятницу.\n"
   ]
  },
  {
   "cell_type": "markdown",
   "metadata": {
    "id": "8Dw_YMmT_Zcu"
   },
   "source": [
    "Для тренировки сначала выполните каждый из расчётов по отдельности. \n",
    "\n",
    "Оцените активность пользователей в каждом городе. Сгруппируйте данные по городу и посчитайте прослушивания в каждой группе.\n",
    "\n"
   ]
  },
  {
   "cell_type": "code",
   "execution_count": 55,
   "metadata": {
    "id": "0_Qs96oh_Zcu"
   },
   "outputs": [
    {
     "data": {
      "text/html": [
       "<div>\n",
       "<style scoped>\n",
       "    .dataframe tbody tr th:only-of-type {\n",
       "        vertical-align: middle;\n",
       "    }\n",
       "\n",
       "    .dataframe tbody tr th {\n",
       "        vertical-align: top;\n",
       "    }\n",
       "\n",
       "    .dataframe thead th {\n",
       "        text-align: right;\n",
       "    }\n",
       "</style>\n",
       "<table border=\"1\" class=\"dataframe\">\n",
       "  <thead>\n",
       "    <tr style=\"text-align: right;\">\n",
       "      <th></th>\n",
       "      <th>user_id</th>\n",
       "      <th>track</th>\n",
       "      <th>artist</th>\n",
       "      <th>genre</th>\n",
       "      <th>time</th>\n",
       "      <th>day</th>\n",
       "    </tr>\n",
       "    <tr>\n",
       "      <th>city</th>\n",
       "      <th></th>\n",
       "      <th></th>\n",
       "      <th></th>\n",
       "      <th></th>\n",
       "      <th></th>\n",
       "      <th></th>\n",
       "    </tr>\n",
       "  </thead>\n",
       "  <tbody>\n",
       "    <tr>\n",
       "      <td>Moscow</td>\n",
       "      <td>42741</td>\n",
       "      <td>42741</td>\n",
       "      <td>42741</td>\n",
       "      <td>42741</td>\n",
       "      <td>42741</td>\n",
       "      <td>42741</td>\n",
       "    </tr>\n",
       "    <tr>\n",
       "      <td>Saint-Petersburg</td>\n",
       "      <td>18512</td>\n",
       "      <td>18512</td>\n",
       "      <td>18512</td>\n",
       "      <td>18512</td>\n",
       "      <td>18512</td>\n",
       "      <td>18512</td>\n",
       "    </tr>\n",
       "  </tbody>\n",
       "</table>\n",
       "</div>"
      ],
      "text/plain": [
       "                  user_id  track  artist  genre   time    day\n",
       "city                                                         \n",
       "Moscow              42741  42741   42741  42741  42741  42741\n",
       "Saint-Petersburg    18512  18512   18512  18512  18512  18512"
      ]
     },
     "execution_count": 55,
     "metadata": {},
     "output_type": "execute_result"
    }
   ],
   "source": [
    "df.groupby('city').count()# Подсчёт прослушиваний в каждом городе"
   ]
  },
  {
   "cell_type": "markdown",
   "metadata": {
    "id": "dzli3w8o_Zcu"
   },
   "source": [
    "В Москве прослушиваний больше, чем в Петербурге. Из этого не следует, что московские пользователи чаще слушают музыку. Просто самих пользователей в Москве больше.\n",
    "\n",
    "Теперь сгруппируйте данные по дню недели и подсчитайте прослушивания в понедельник, среду и пятницу. Учтите, что в данных есть информация только о прослушиваниях только за эти дни.\n"
   ]
  },
  {
   "cell_type": "code",
   "execution_count": 56,
   "metadata": {
    "id": "uZMKjiJz_Zcu"
   },
   "outputs": [
    {
     "data": {
      "text/plain": [
       "day\n",
       "Friday       21840\n",
       "Monday       21354\n",
       "Wednesday    18059\n",
       "Name: user_id, dtype: int64"
      ]
     },
     "execution_count": 56,
     "metadata": {},
     "output_type": "execute_result"
    }
   ],
   "source": [
    "df.groupby('day')['user_id'].count()\n",
    " # Подсчёт прослушиваний в каждый из трёх дней"
   ]
  },
  {
   "cell_type": "markdown",
   "metadata": {},
   "source": [
    "<div class=\"alert alert-success\">\n",
    "<b>✔️ Комментарий ревьюера:</b> Группировка верна! А чтобы не выводить дублирующие значения, можно применить подсчет к одной из колонок.</div>"
   ]
  },
  {
   "cell_type": "markdown",
   "metadata": {},
   "source": [
    "<div class=\"alert alert-info\"> <b>Комментарий студента:</b> применил count() к столбцу user_id, чтобы недублировать посчитанные значения. Верно сделал?.</div>"
   ]
  },
  {
   "cell_type": "markdown",
   "metadata": {
    "id": "cC2tNrlL_Zcu"
   },
   "source": [
    "В среднем пользователи из двух городов менее активны по средам. Но картина может измениться, если рассмотреть каждый город в отдельности."
   ]
  },
  {
   "cell_type": "markdown",
   "metadata": {
    "id": "POzs8bGa_Zcu"
   },
   "source": [
    "Вы видели, как работает группировка по городу и по дням недели. Теперь напишите функцию, которая объединит два эти расчёта.\n",
    "\n",
    "Создайте функцию `number_tracks()`, которая посчитает прослушивания для заданного дня и города. Ей понадобятся два параметра:\n",
    "* день недели,\n",
    "* название города.\n",
    "\n",
    "В функции сохраните в переменную строки исходной таблицы, у которых значение:\n",
    "  * в колонке `day` равно параметру `day`,\n",
    "  * в колонке `city` равно параметру `city`.\n",
    "\n",
    "Для этого примените последовательную фильтрацию с логической индексацией.\n",
    "\n",
    "Затем посчитайте значения в столбце `user_id` получившейся таблицы. Результат сохраните в новую переменную. Верните эту переменную из функции."
   ]
  },
  {
   "cell_type": "code",
   "execution_count": 57,
   "metadata": {
    "id": "Nz3GdQB1_Zcu"
   },
   "outputs": [],
   "source": [
    "def number_tracks(day, city):# <создание функции number_tracks()>\n",
    "    track_list = df[df['day'] == day]# В переменной track_list сохраняются те строки таблицы df, для которых \n",
    "    track_list = track_list[track_list['city'] == city]# значение в столбце 'day' равно параметру day и одновременно значение\n",
    "    track_list_count = track_list['user_id'].count()# в столбце 'city' равно параметру city (используйте последовательную фильтрацию\n",
    "    return track_list_count # с помощью логической индексации).\n",
    "# В переменной track_list_count сохраняется число значений столбца 'user_id',\n",
    "# рассчитанное методом count() для таблицы track_list.\n",
    "# Функция возвращает число - значение track_list_count.\n",
    "\n",
    "# Функция для подсчёта прослушиваний для конкретного города и дня.\n",
    "# С помощью последовательной фильтрации с логической индексацией она \n",
    "# сначала получит из исходной таблицы строки с нужным днём,\n",
    "# затем из результата отфильтрует строки с нужным городом,\n",
    "# методом count() посчитает количество значений в колонке user_id. \n",
    "# Это количество функция вернёт в качестве результата"
   ]
  },
  {
   "cell_type": "markdown",
   "metadata": {},
   "source": [
    "<div class=\"alert alert-success\">\n",
    "<b>✔️ Комментарий ревьюера:</b> Функция написана верно!</div>"
   ]
  },
  {
   "cell_type": "markdown",
   "metadata": {
    "id": "ytf7xFrFJQ2r"
   },
   "source": [
    "Вызовите `number_tracks()` шесть раз, меняя значение параметров — так, чтобы получить данные для каждого города в каждый из трёх дней."
   ]
  },
  {
   "cell_type": "code",
   "execution_count": 58,
   "metadata": {
    "id": "rJcRATNQ_Zcu"
   },
   "outputs": [
    {
     "data": {
      "text/plain": [
       "15740"
      ]
     },
     "execution_count": 58,
     "metadata": {},
     "output_type": "execute_result"
    }
   ],
   "source": [
    "number_tracks('Monday', 'Moscow')# количество прослушиваний в Москве по понедельникам"
   ]
  },
  {
   "cell_type": "code",
   "execution_count": 59,
   "metadata": {
    "id": "hq_ncZ5T_Zcu"
   },
   "outputs": [
    {
     "data": {
      "text/plain": [
       "5614"
      ]
     },
     "execution_count": 59,
     "metadata": {},
     "output_type": "execute_result"
    }
   ],
   "source": [
    "number_tracks('Monday', 'Saint-Petersburg')# количество прослушиваний в Санкт-Петербурге по понедельникам"
   ]
  },
  {
   "cell_type": "code",
   "execution_count": 60,
   "metadata": {
    "id": "_NTy2VPU_Zcu"
   },
   "outputs": [
    {
     "data": {
      "text/plain": [
       "11056"
      ]
     },
     "execution_count": 60,
     "metadata": {},
     "output_type": "execute_result"
    }
   ],
   "source": [
    "number_tracks('Wednesday', 'Moscow')# количество прослушиваний в Москве по средам"
   ]
  },
  {
   "cell_type": "code",
   "execution_count": 61,
   "metadata": {
    "id": "j2y3TAwo_Zcu"
   },
   "outputs": [
    {
     "data": {
      "text/plain": [
       "7003"
      ]
     },
     "execution_count": 61,
     "metadata": {},
     "output_type": "execute_result"
    }
   ],
   "source": [
    "number_tracks('Wednesday', 'Saint-Petersburg')# количество прослушиваний в Санкт-Петербурге по средам"
   ]
  },
  {
   "cell_type": "code",
   "execution_count": 62,
   "metadata": {
    "id": "vYDw5u_K_Zcu"
   },
   "outputs": [
    {
     "data": {
      "text/plain": [
       "15945"
      ]
     },
     "execution_count": 62,
     "metadata": {},
     "output_type": "execute_result"
    }
   ],
   "source": [
    "number_tracks('Friday', 'Moscow')# количество прослушиваний в Москве по пятницам"
   ]
  },
  {
   "cell_type": "code",
   "execution_count": 63,
   "metadata": {
    "id": "8_yzFtW3_Zcu"
   },
   "outputs": [
    {
     "data": {
      "text/plain": [
       "5895"
      ]
     },
     "execution_count": 63,
     "metadata": {},
     "output_type": "execute_result"
    }
   ],
   "source": [
    "number_tracks('Friday', 'Saint-Petersburg')# количество прослушиваний в Санкт-Петербурге по пятницам"
   ]
  },
  {
   "cell_type": "markdown",
   "metadata": {
    "id": "7QXffbO-_Zcu"
   },
   "source": [
    "Создайте c помощью конструктора `pd.DataFrame` таблицу, где\n",
    "* названия колонок — `['city', 'monday', 'wednesday', 'friday']`;\n",
    "* данные — результаты, которые вы получили с помощью `number_tracks`."
   ]
  },
  {
   "cell_type": "code",
   "execution_count": 71,
   "metadata": {
    "id": "APAcLpOr_Zcu"
   },
   "outputs": [
    {
     "data": {
      "text/html": [
       "<div>\n",
       "<style scoped>\n",
       "    .dataframe tbody tr th:only-of-type {\n",
       "        vertical-align: middle;\n",
       "    }\n",
       "\n",
       "    .dataframe tbody tr th {\n",
       "        vertical-align: top;\n",
       "    }\n",
       "\n",
       "    .dataframe thead th {\n",
       "        text-align: right;\n",
       "    }\n",
       "</style>\n",
       "<table border=\"1\" class=\"dataframe\">\n",
       "  <thead>\n",
       "    <tr style=\"text-align: right;\">\n",
       "      <th></th>\n",
       "      <th>city</th>\n",
       "      <th>monday</th>\n",
       "      <th>wednesday</th>\n",
       "      <th>friday</th>\n",
       "    </tr>\n",
       "  </thead>\n",
       "  <tbody>\n",
       "    <tr>\n",
       "      <td>0</td>\n",
       "      <td>Moscow</td>\n",
       "      <td>15740</td>\n",
       "      <td>11056</td>\n",
       "      <td>15945</td>\n",
       "    </tr>\n",
       "    <tr>\n",
       "      <td>1</td>\n",
       "      <td>Saint-Petersburg</td>\n",
       "      <td>5614</td>\n",
       "      <td>7003</td>\n",
       "      <td>5895</td>\n",
       "    </tr>\n",
       "  </tbody>\n",
       "</table>\n",
       "</div>"
      ],
      "text/plain": [
       "               city  monday  wednesday  friday\n",
       "0            Moscow   15740      11056   15945\n",
       "1  Saint-Petersburg    5614       7003    5895"
      ]
     },
     "metadata": {},
     "output_type": "display_data"
    }
   ],
   "source": [
    "data = [['Moscow', 15740, 11056, 15945],\n",
    "        ['Saint-Petersburg', 5614, 7003, 5895]]      \n",
    "        \n",
    "columns = ['city', 'monday', 'wednesday', 'friday']\n",
    "total = pd.DataFrame(data = data, columns = columns)\n",
    "display(total)# Таблица с результатами"
   ]
  },
  {
   "cell_type": "markdown",
   "metadata": {},
   "source": [
    "<div class=\"alert alert-warning\">\n",
    "<b>⚠️ Комментарий ревьюера:</b> Датафрейм создан верно. А чтобы не вбивать результаты руками, в него можно было передать написанные тобою выше результаты функции. \n",
    "\n",
    "</div>"
   ]
  },
  {
   "cell_type": "markdown",
   "metadata": {},
   "source": [
    "<div class=\"alert alert-info\"> <b>Комментарий студента:</b> результатом, который вернулся в функцию стала 'track_list_count'. неужели нужно было вбить 'number_tracks('Monday', 'Moscow')' и т.д. в 'data'? </div>"
   ]
  },
  {
   "cell_type": "markdown",
   "metadata": {},
   "source": [
    "<div class=\"alert alert-info\"> <b>Комментарий ревьюера:</b> Да) Это направляющий комментарий, который можно проработать на досуге. Когда ты будешь работать с большим объемом динамически меняющихся данных, тебе придется автоматизировать заполнение. </div>"
   ]
  },
  {
   "cell_type": "markdown",
   "metadata": {
    "id": "-EgPIHYu_Zcu"
   },
   "source": [
    "**Выводы**\n",
    "\n",
    "Данные показывают разницу поведения пользователей:\n",
    "\n",
    "- В Москве пик прослушиваний приходится на понедельник и пятницу, а в среду заметен спад.\n",
    "- В Петербурге, наоборот, больше слушают музыку по средам. Активность в понедельник и пятницу здесь почти в равной мере уступает среде.\n",
    "\n",
    "Значит, данные говорят в пользу первой гипотезы."
   ]
  },
  {
   "cell_type": "markdown",
   "metadata": {
    "id": "atZAxtq4_Zcu"
   },
   "source": [
    "### Музыка в начале и в конце недели"
   ]
  },
  {
   "cell_type": "markdown",
   "metadata": {
    "id": "eXrQqXFH_Zcu"
   },
   "source": [
    "Согласно второй гипотезе, утром в понедельник в Москве преобладают одни жанры, а в Петербурге — другие. Так же и вечером пятницы преобладают разные жанры — в зависимости от города."
   ]
  },
  {
   "cell_type": "markdown",
   "metadata": {
    "id": "S8UcW6Hw_Zcu"
   },
   "source": [
    "Сохраните таблицы с данными в две переменные:\n",
    "* по Москве — в `moscow_general`;\n",
    "* по Санкт-Петербургу — в `spb_general`."
   ]
  },
  {
   "cell_type": "code",
   "execution_count": 30,
   "metadata": {
    "id": "qeaFfM_P_Zcu"
   },
   "outputs": [],
   "source": [
    "moscow_general = df[df['city'] == 'Moscow']# получение таблицы moscow_general из тех строк таблицы df, \n",
    "# для которых значение в столбце 'city' равно 'Moscow'\n"
   ]
  },
  {
   "cell_type": "code",
   "execution_count": 31,
   "metadata": {
    "id": "ORaVRKto_Zcu"
   },
   "outputs": [],
   "source": [
    "spb_general = df[df['city'] == 'Saint-Petersburg']# получение таблицы spb_general из тех строк таблицы df,\n",
    "# для которых значение в столбце 'city' равно 'Saint-Petersburg'\n"
   ]
  },
  {
   "cell_type": "markdown",
   "metadata": {
    "id": "MEJV-CX2_Zcu"
   },
   "source": [
    "Создайте функцию `genre_weekday()` с четырьмя параметрами:\n",
    "* таблица (датафрейм) с данными,\n",
    "* день недели,\n",
    "* начальная временная метка в формате 'hh:mm', \n",
    "* последняя временная метка в формате 'hh:mm'.\n",
    "\n",
    "Функция должна вернуть информацию о топ-10 жанров тех треков, которые прослушивали в указанный день, в промежутке между двумя отметками времени."
   ]
  },
  {
   "cell_type": "code",
   "execution_count": 32,
   "metadata": {
    "id": "laJT9BYl_Zcu"
   },
   "outputs": [],
   "source": [
    "def genre_weekday(table, day, time1, time2):\n",
    "    genre_df = table[(table['day'] == day) & (table['time'] > time1) & (table['time'] < time2)]\n",
    "    genre_df_count = genre_df.groupby('genre')['day'].count()\n",
    "    genre_df_sorted = genre_df_count.sort_values(ascending=False)\n",
    "    return genre_df_sorted.head(10)  # Объявление функции genre_weekday() с параметрами table, day, time1, time2,\n",
    "# которая возвращает информацию о самых популярных жанрах в указанный день в\n",
    "# заданное время:\n",
    "# 1) в переменную genre_df сохраняются те строки переданного датафрейма table, для\n",
    "#    которых одновременно:\n",
    "#    - значение в столбце day равно значению аргумента day\n",
    "#    - значение в столбце time больше значения аргумента time1\n",
    "#    - значение в столбце time меньше значения аргумента time2\n",
    "#    Используйте последовательную фильтрацию с помощью логической индексации.\n",
    "# 2) сгруппировать датафрейм genre_df по столбцу genre, взять один из его\n",
    "#    столбцов и посчитать методом count() количество записей для каждого из\n",
    "#    присутствующих жанров, получившийся Series записать в переменную\n",
    "#    genre_df_count\n",
    "# 3) отсортировать genre_df_count по убыванию встречаемости и сохранить\n",
    "#    в переменную genre_df_sorted\n",
    "# 4) вернуть Series из 10 первых значений genre_df_sorted, это будут топ-10\n",
    "#    популярных жанров (в указанный день, в заданное время)"
   ]
  },
  {
   "cell_type": "markdown",
   "metadata": {},
   "source": [
    "<div class=\"alert alert-success\">\n",
    "<b>✔️ Комментарий ревьюера:</b> Классно, что делаешь фильтрацию в одну строку. Функция написана верно!</div>"
   ]
  },
  {
   "cell_type": "markdown",
   "metadata": {
    "id": "la2s2_PF_Zcu"
   },
   "source": [
    "Cравните результаты функции `genre_weekday()` для Москвы и Санкт-Петербурга в понедельник утром (с 7:00 до 11:00) и в пятницу вечером (с 17:00 до 23:00):"
   ]
  },
  {
   "cell_type": "code",
   "execution_count": 33,
   "metadata": {
    "id": "yz7itPUQ_Zcu"
   },
   "outputs": [
    {
     "data": {
      "text/plain": [
       "genre\n",
       "pop            781\n",
       "dance          549\n",
       "electronic     480\n",
       "rock           474\n",
       "hiphop         286\n",
       "ruspop         186\n",
       "world          181\n",
       "rusrap         175\n",
       "alternative    164\n",
       "unknown        161\n",
       "Name: day, dtype: int64"
      ]
     },
     "execution_count": 33,
     "metadata": {},
     "output_type": "execute_result"
    }
   ],
   "source": [
    "genre_weekday(moscow_general, 'Monday', '07:00', '11:00')  # вызов функции для утра понедельника в Москве (вместо df — таблица moscow_general)\n",
    "# объекты, хранящие время, являются строками и сравниваются как строки\n",
    "# пример вызова: genre_weekday(moscow_general, 'Monday', '07:00', '11:00')"
   ]
  },
  {
   "cell_type": "code",
   "execution_count": 34,
   "metadata": {
    "id": "kwUcHPdy_Zcu"
   },
   "outputs": [
    {
     "data": {
      "text/plain": [
       "genre\n",
       "pop            218\n",
       "dance          182\n",
       "rock           162\n",
       "electronic     147\n",
       "hiphop          80\n",
       "ruspop          64\n",
       "alternative     58\n",
       "rusrap          55\n",
       "jazz            44\n",
       "classical       40\n",
       "Name: day, dtype: int64"
      ]
     },
     "execution_count": 34,
     "metadata": {},
     "output_type": "execute_result"
    }
   ],
   "source": [
    "genre_weekday(spb_general, 'Monday', '07:00', '11:00')# вызов функции для утра понедельника в Петербурге (вместо df — таблица spb_general)"
   ]
  },
  {
   "cell_type": "code",
   "execution_count": 35,
   "metadata": {
    "id": "EzXVRE1o_Zcu"
   },
   "outputs": [
    {
     "data": {
      "text/plain": [
       "genre\n",
       "pop            713\n",
       "rock           517\n",
       "dance          495\n",
       "electronic     482\n",
       "hiphop         273\n",
       "world          208\n",
       "ruspop         170\n",
       "alternative    163\n",
       "classical      163\n",
       "rusrap         142\n",
       "Name: day, dtype: int64"
      ]
     },
     "execution_count": 35,
     "metadata": {},
     "output_type": "execute_result"
    }
   ],
   "source": [
    "genre_weekday(moscow_general, 'Friday', '17:00', '23:00') # вызов функции для вечера пятницы в Москве"
   ]
  },
  {
   "cell_type": "code",
   "execution_count": 36,
   "metadata": {
    "id": "JZaEKu5v_Zcu"
   },
   "outputs": [
    {
     "data": {
      "text/plain": [
       "genre\n",
       "pop            256\n",
       "rock           216\n",
       "electronic     216\n",
       "dance          210\n",
       "hiphop          97\n",
       "alternative     63\n",
       "jazz            61\n",
       "classical       60\n",
       "rusrap          59\n",
       "world           54\n",
       "Name: day, dtype: int64"
      ]
     },
     "execution_count": 36,
     "metadata": {},
     "output_type": "execute_result"
    }
   ],
   "source": [
    "genre_weekday(spb_general, 'Friday', '17:00', '23:00')# вызов функции для вечера пятницы в Петербурге"
   ]
  },
  {
   "cell_type": "markdown",
   "metadata": {
    "id": "wrCe4MNX_Zcu"
   },
   "source": [
    "**Выводы**\n",
    "\n",
    "Если сравнить топ-10 жанров в понедельник утром, можно сделать такие выводы:\n",
    "\n",
    "1. В Москве и Петербурге слушают похожую музыку. Единственное отличие — в московский рейтинг вошёл жанр “world”, а в петербургский — джаз и классика.\n",
    "\n",
    "2. В Москве пропущенных значений оказалось так много, что значение `'unknown'` заняло десятое место среди самых популярных жанров. Значит, пропущенные значения занимают существенную долю в данных и угрожают достоверности исследования.\n",
    "\n",
    "Вечер пятницы не меняет эту картину. Некоторые жанры поднимаются немного выше, другие спускаются, но в целом топ-10 остаётся тем же самым.\n",
    "\n",
    "Таким образом, вторая гипотеза подтвердилась лишь частично:\n",
    "* Пользователи слушают похожую музыку в начале недели и в конце.\n",
    "* Разница между Москвой и Петербургом не слишком выражена. В Москве чаще слушают русскую популярную музыку, в Петербурге — джаз.\n",
    "\n",
    "Однако пропуски в данных ставят под сомнение этот результат. В Москве их так много, что рейтинг топ-10 мог бы выглядеть иначе, если бы не утерянные  данные о жанрах."
   ]
  },
  {
   "cell_type": "markdown",
   "metadata": {
    "id": "JolODAqr_Zcu"
   },
   "source": [
    "### Жанровые предпочтения в Москве и Петербурге\n",
    "\n",
    "Гипотеза: Петербург — столица рэпа, музыку этого жанра там слушают чаще, чем в Москве.  А Москва — город контрастов, в котором, тем не менее, преобладает поп-музыка."
   ]
  },
  {
   "cell_type": "markdown",
   "metadata": {
    "id": "DlegSvaT_Zcu"
   },
   "source": [
    "Сгруппируйте таблицу `moscow_general` по жанру и посчитайте прослушивания треков каждого жанра методом `count()`. Затем отсортируйте результат в порядке убывания и сохраните его в таблице `moscow_genres`."
   ]
  },
  {
   "cell_type": "code",
   "execution_count": 45,
   "metadata": {
    "id": "r19lIPke_Zcu"
   },
   "outputs": [],
   "source": [
    "\n",
    "i = moscow_general.groupby('genre')['day'].count()# одной строкой: группировка таблицы moscow_general по столбцу 'genre', \n",
    "moscow_genres = i.sort_values(ascending = False)# подсчёт числа значений 'genre' в этой группировке методом count(), \n",
    "# сортировка получившегося Series в порядке убывания и сохранение в moscow_genres"
   ]
  },
  {
   "cell_type": "markdown",
   "metadata": {},
   "source": [
    "<div class=\"alert alert-success\">\n",
    "<b>✔️ Комментарий ревьюера:</b> Группировка верна!</div>"
   ]
  },
  {
   "cell_type": "markdown",
   "metadata": {
    "id": "6kMuomxTiIr8"
   },
   "source": [
    "Выведите на экран первые десять строк `moscow_genres`:"
   ]
  },
  {
   "cell_type": "code",
   "execution_count": 46,
   "metadata": {
    "id": "WhCSooF8_Zcv"
   },
   "outputs": [
    {
     "data": {
      "text/plain": [
       "genre\n",
       "pop            5892\n",
       "dance          4435\n",
       "rock           3965\n",
       "electronic     3786\n",
       "hiphop         2096\n",
       "classical      1616\n",
       "world          1432\n",
       "alternative    1379\n",
       "ruspop         1372\n",
       "rusrap         1161\n",
       "Name: day, dtype: int64"
      ]
     },
     "execution_count": 46,
     "metadata": {},
     "output_type": "execute_result"
    }
   ],
   "source": [
    "moscow_genres.head(10) # просмотр первых 10 строк moscow_genres"
   ]
  },
  {
   "cell_type": "markdown",
   "metadata": {
    "id": "cnPG2vnN_Zcv"
   },
   "source": [
    "Теперь повторите то же и для Петербурга.\n",
    "\n",
    "Сгруппируйте таблицу `spb_general` по жанру. Посчитайте прослушивания треков каждого жанра. Результат отсортируйте в порядке убывания и сохраните в таблице `spb_genres`:\n"
   ]
  },
  {
   "cell_type": "code",
   "execution_count": 47,
   "metadata": {
    "id": "gluLIpE7_Zcv"
   },
   "outputs": [],
   "source": [
    "# одной строкой: группировка таблицы spb_general по столбцу 'genre', \n",
    "i = spb_general.groupby('genre')['day'].count()# подсчёт числа значений 'genre' в этой группировке методом count(), \n",
    "spb_genres = i.sort_values(ascending = False)# сортировка получившегося Series в порядке убывания и сохранение в spb_genres"
   ]
  },
  {
   "cell_type": "markdown",
   "metadata": {
    "id": "5Doha_ODgyQ8"
   },
   "source": [
    "Выведите на экран первые десять строк `spb_genres`:"
   ]
  },
  {
   "cell_type": "code",
   "execution_count": 48,
   "metadata": {
    "id": "uaGJHjVU_Zcv"
   },
   "outputs": [
    {
     "data": {
      "text/plain": [
       "genre\n",
       "pop            2431\n",
       "dance          1932\n",
       "rock           1879\n",
       "electronic     1736\n",
       "hiphop          960\n",
       "alternative     649\n",
       "classical       646\n",
       "rusrap          564\n",
       "ruspop          538\n",
       "world           515\n",
       "Name: day, dtype: int64"
      ]
     },
     "execution_count": 48,
     "metadata": {},
     "output_type": "execute_result"
    }
   ],
   "source": [
    "spb_genres.head(10) # просмотр первых 10 строк spb_genres"
   ]
  },
  {
   "cell_type": "markdown",
   "metadata": {
    "id": "RY51YJYu_Zcv"
   },
   "source": [
    "**Выводы**"
   ]
  },
  {
   "cell_type": "markdown",
   "metadata": {
    "id": "nVhnJEm__Zcv"
   },
   "source": [
    "Гипотеза частично подтвердилась:\n",
    "* Поп-музыка — самый популярный жанр в Москве, как и предполагала гипотеза. Более того, в топ-10 жанров встречается близкий жанр — русская популярная музыка.\n",
    "* Вопреки ожиданиям, рэп одинаково популярен в Москве и Петербурге. \n"
   ]
  },
  {
   "cell_type": "markdown",
   "metadata": {
    "id": "ykKQ0N65_Zcv"
   },
   "source": [
    "## Итоги исследования"
   ]
  },
  {
   "cell_type": "markdown",
   "metadata": {
    "id": "tjUwbHb3_Zcv"
   },
   "source": [
    "Вы проверили три гипотезы и установили:\n",
    "\n",
    "1. День недели по-разному влияет на активность пользователей в Москве и Петербурге. \n",
    "\n",
    "Первая гипотеза полностью подтвердилась.\n",
    "\n",
    "2. Музыкальные предпочтения не сильно меняются в течение недели — будь то Москва или Петербург. Небольшие различия заметны в начале недели, по понедельникам:\n",
    "* в Москве слушают музыку жанра “world”,\n",
    "* в Петербурге — джаз и классику.\n",
    "\n",
    "Таким образом, вторая гипотеза подтвердилась лишь отчасти. Этот результат мог оказаться иным, если бы не пропуски в данных.\n",
    "\n",
    "3. Во вкусах пользователей Москвы и Петербурга больше общего чем различий. Вопреки ожиданиям, предпочтения жанров в Петербурге напоминают московские.\n",
    "\n",
    "Третья гипотеза не подтвердилась. Если различия в предпочтениях и существуют, на основной массе пользователей они незаметны.\n",
    "\n",
    "**На практике исследования содержат проверки статистических гипотез.**\n",
    "Из данных одного сервиса не всегда можно сделать вывод о всех жителях города.\n",
    "Проверки статистических гипотез покажут, насколько они достоверны, исходя из имеющихся данных. \n",
    "С методами проверок гипотез вы ещё познакомитесь в следующих темах."
   ]
  },
  {
   "cell_type": "markdown",
   "metadata": {},
   "source": [
    "<div class=\"alert alert-success\">\n",
    "<b>✔️ Комментарий ревьюера:</b> Спасибо за работу! Видно, что ты хорошо разобрался в теме. Есть несколько недочетов, это нормально, мы учимся. Давай найдем нарушение стиля и отсортируем списки уникальных значений. Оставила несколько направляющих комментариев. Жду твою работу на повторное ревью!</div>"
   ]
  },
  {
   "cell_type": "markdown",
   "metadata": {},
   "source": [
    "<div class=\"alert alert-info\"> <b>Комментарий ревьюера:</b> Теперь все верно. Удачи на следующих этапах!</div>"
   ]
  },
  {
   "cell_type": "code",
   "execution_count": null,
   "metadata": {},
   "outputs": [],
   "source": []
  }
 ],
 "metadata": {
  "ExecuteTimeLog": [
   {
    "duration": 392,
    "start_time": "2021-11-19T07:57:21.376Z"
   },
   {
    "duration": 344,
    "start_time": "2021-11-19T08:05:27.502Z"
   },
   {
    "duration": 338,
    "start_time": "2021-11-19T08:09:11.344Z"
   },
   {
    "duration": 336,
    "start_time": "2021-11-19T08:09:42.763Z"
   },
   {
    "duration": 565,
    "start_time": "2021-11-19T08:17:41.581Z"
   },
   {
    "duration": 383,
    "start_time": "2021-11-19T08:21:36.108Z"
   },
   {
    "duration": 346,
    "start_time": "2021-11-19T08:21:38.806Z"
   },
   {
    "duration": 339,
    "start_time": "2021-11-19T09:17:22.975Z"
   },
   {
    "duration": 126,
    "start_time": "2021-11-19T09:23:26.743Z"
   },
   {
    "duration": 339,
    "start_time": "2021-11-19T09:24:00.495Z"
   },
   {
    "duration": 322,
    "start_time": "2021-11-19T09:24:42.823Z"
   },
   {
    "duration": 382,
    "start_time": "2021-11-19T10:50:54.014Z"
   },
   {
    "duration": 3443,
    "start_time": "2021-11-19T10:52:11.133Z"
   },
   {
    "duration": 2745,
    "start_time": "2021-11-19T10:54:08.046Z"
   },
   {
    "duration": 2478,
    "start_time": "2021-11-19T10:55:42.112Z"
   },
   {
    "duration": 3,
    "start_time": "2021-11-19T10:57:28.776Z"
   },
   {
    "duration": 2732,
    "start_time": "2021-11-19T10:57:35.722Z"
   },
   {
    "duration": 608,
    "start_time": "2021-11-19T10:57:59.718Z"
   },
   {
    "duration": 331,
    "start_time": "2021-11-19T11:01:35.765Z"
   },
   {
    "duration": 339,
    "start_time": "2021-11-19T11:01:39.665Z"
   },
   {
    "duration": 204,
    "start_time": "2021-11-19T11:01:43.629Z"
   },
   {
    "duration": 210,
    "start_time": "2021-11-19T11:01:50.321Z"
   },
   {
    "duration": 25,
    "start_time": "2021-11-19T11:01:54.554Z"
   },
   {
    "duration": 40,
    "start_time": "2021-11-19T11:02:42.090Z"
   },
   {
    "duration": 33,
    "start_time": "2021-11-19T11:03:06.628Z"
   },
   {
    "duration": 36,
    "start_time": "2021-11-19T11:03:11.650Z"
   },
   {
    "duration": 6,
    "start_time": "2021-11-19T11:03:57.990Z"
   },
   {
    "duration": 8,
    "start_time": "2021-11-19T11:04:17.772Z"
   },
   {
    "duration": 28,
    "start_time": "2021-11-19T11:04:32.636Z"
   },
   {
    "duration": 5,
    "start_time": "2021-11-19T11:04:35.846Z"
   },
   {
    "duration": 6,
    "start_time": "2021-11-19T11:27:36.241Z"
   },
   {
    "duration": 24,
    "start_time": "2021-11-19T11:27:48.102Z"
   },
   {
    "duration": 6,
    "start_time": "2021-11-19T11:27:51.156Z"
   },
   {
    "duration": 438,
    "start_time": "2021-11-19T13:21:25.374Z"
   },
   {
    "duration": 335,
    "start_time": "2021-11-19T13:25:22.142Z"
   },
   {
    "duration": 320,
    "start_time": "2021-11-19T13:58:28.399Z"
   },
   {
    "duration": 325,
    "start_time": "2021-11-19T14:06:19.041Z"
   },
   {
    "duration": 992,
    "start_time": "2021-11-19T14:06:23.914Z"
   },
   {
    "duration": 192,
    "start_time": "2021-11-19T14:06:26.603Z"
   },
   {
    "duration": 27,
    "start_time": "2021-11-19T14:06:30.675Z"
   },
   {
    "duration": 35,
    "start_time": "2021-11-19T14:06:33.660Z"
   },
   {
    "duration": 5,
    "start_time": "2021-11-19T14:06:38.273Z"
   },
   {
    "duration": 29,
    "start_time": "2021-11-19T14:06:42.830Z"
   },
   {
    "duration": 6,
    "start_time": "2021-11-19T14:06:48.927Z"
   },
   {
    "duration": 31,
    "start_time": "2021-11-19T14:50:57.068Z"
   },
   {
    "duration": 7608,
    "start_time": "2021-11-19T15:02:30.417Z"
   },
   {
    "duration": 4,
    "start_time": "2021-11-19T15:03:07.536Z"
   },
   {
    "duration": 262,
    "start_time": "2021-11-19T15:03:10.544Z"
   },
   {
    "duration": 16,
    "start_time": "2021-11-19T15:03:13.340Z"
   },
   {
    "duration": 33,
    "start_time": "2021-11-19T15:03:18.195Z"
   },
   {
    "duration": 5,
    "start_time": "2021-11-19T15:03:27.016Z"
   },
   {
    "duration": 40,
    "start_time": "2021-11-19T15:03:30.249Z"
   },
   {
    "duration": 7,
    "start_time": "2021-11-19T15:03:33.933Z"
   },
   {
    "duration": 61,
    "start_time": "2021-11-19T15:03:39.150Z"
   },
   {
    "duration": 7466,
    "start_time": "2021-11-19T15:03:54.756Z"
   },
   {
    "duration": 29,
    "start_time": "2021-11-19T15:04:06.510Z"
   },
   {
    "duration": 343,
    "start_time": "2021-11-19T15:05:25.608Z"
   },
   {
    "duration": 796,
    "start_time": "2021-11-19T15:05:37.137Z"
   },
   {
    "duration": 214,
    "start_time": "2021-11-19T15:05:40.240Z"
   },
   {
    "duration": 33,
    "start_time": "2021-11-19T15:05:43.562Z"
   },
   {
    "duration": 34,
    "start_time": "2021-11-19T15:05:53.121Z"
   },
   {
    "duration": 6,
    "start_time": "2021-11-19T15:05:57.753Z"
   },
   {
    "duration": 28,
    "start_time": "2021-11-19T15:06:01.624Z"
   },
   {
    "duration": 5,
    "start_time": "2021-11-19T15:06:04.261Z"
   },
   {
    "duration": 33,
    "start_time": "2021-11-19T15:06:07.027Z"
   },
   {
    "duration": 7524,
    "start_time": "2021-11-19T15:06:11.876Z"
   },
   {
    "duration": 31,
    "start_time": "2021-11-19T15:06:24.832Z"
   },
   {
    "duration": 54,
    "start_time": "2021-11-19T15:13:28.057Z"
   },
   {
    "duration": 31,
    "start_time": "2021-11-19T15:16:42.169Z"
   },
   {
    "duration": 4,
    "start_time": "2021-11-19T15:17:00.496Z"
   },
   {
    "duration": 224,
    "start_time": "2021-11-19T15:17:00.503Z"
   },
   {
    "duration": 15,
    "start_time": "2021-11-19T15:17:00.730Z"
   },
   {
    "duration": 34,
    "start_time": "2021-11-19T15:17:00.769Z"
   },
   {
    "duration": 7,
    "start_time": "2021-11-19T15:17:00.805Z"
   },
   {
    "duration": 71,
    "start_time": "2021-11-19T15:17:00.814Z"
   },
   {
    "duration": 23,
    "start_time": "2021-11-19T15:17:00.889Z"
   },
   {
    "duration": 60,
    "start_time": "2021-11-19T15:17:00.915Z"
   },
   {
    "duration": 8135,
    "start_time": "2021-11-19T15:17:00.977Z"
   },
   {
    "duration": 13,
    "start_time": "2021-11-19T15:17:09.103Z"
   },
   {
    "duration": 10,
    "start_time": "2021-11-19T15:17:09.108Z"
   },
   {
    "duration": 5,
    "start_time": "2021-11-19T15:17:09.115Z"
   },
   {
    "duration": 1,
    "start_time": "2021-11-19T15:17:09.120Z"
   },
   {
    "duration": -1,
    "start_time": "2021-11-19T15:17:09.124Z"
   },
   {
    "duration": -4,
    "start_time": "2021-11-19T15:17:09.128Z"
   },
   {
    "duration": -9,
    "start_time": "2021-11-19T15:17:09.134Z"
   },
   {
    "duration": -20,
    "start_time": "2021-11-19T15:17:09.147Z"
   },
   {
    "duration": -24,
    "start_time": "2021-11-19T15:17:09.152Z"
   },
   {
    "duration": -26,
    "start_time": "2021-11-19T15:17:09.157Z"
   },
   {
    "duration": -55,
    "start_time": "2021-11-19T15:17:09.187Z"
   },
   {
    "duration": -60,
    "start_time": "2021-11-19T15:17:09.194Z"
   },
   {
    "duration": -81,
    "start_time": "2021-11-19T15:17:09.216Z"
   },
   {
    "duration": -113,
    "start_time": "2021-11-19T15:17:09.250Z"
   },
   {
    "duration": -130,
    "start_time": "2021-11-19T15:17:09.268Z"
   },
   {
    "duration": -135,
    "start_time": "2021-11-19T15:17:09.275Z"
   },
   {
    "duration": -151,
    "start_time": "2021-11-19T15:17:09.292Z"
   },
   {
    "duration": -163,
    "start_time": "2021-11-19T15:17:09.306Z"
   },
   {
    "duration": -171,
    "start_time": "2021-11-19T15:17:09.316Z"
   },
   {
    "duration": -182,
    "start_time": "2021-11-19T15:17:09.329Z"
   },
   {
    "duration": -189,
    "start_time": "2021-11-19T15:17:09.338Z"
   },
   {
    "duration": -193,
    "start_time": "2021-11-19T15:17:09.343Z"
   },
   {
    "duration": -195,
    "start_time": "2021-11-19T15:17:09.348Z"
   },
   {
    "duration": -200,
    "start_time": "2021-11-19T15:17:09.355Z"
   },
   {
    "duration": -194,
    "start_time": "2021-11-19T15:17:09.360Z"
   },
   {
    "duration": -196,
    "start_time": "2021-11-19T15:17:09.364Z"
   },
   {
    "duration": -200,
    "start_time": "2021-11-19T15:17:09.370Z"
   },
   {
    "duration": -202,
    "start_time": "2021-11-19T15:17:09.374Z"
   },
   {
    "duration": -204,
    "start_time": "2021-11-19T15:17:09.379Z"
   },
   {
    "duration": 15,
    "start_time": "2021-11-19T15:22:44.296Z"
   },
   {
    "duration": 6,
    "start_time": "2021-11-19T15:22:53.223Z"
   },
   {
    "duration": 23,
    "start_time": "2021-11-19T15:23:13.468Z"
   },
   {
    "duration": 5,
    "start_time": "2021-11-19T15:23:17.680Z"
   },
   {
    "duration": 18,
    "start_time": "2021-11-19T15:23:56.462Z"
   },
   {
    "duration": 5,
    "start_time": "2021-11-19T15:24:00.317Z"
   },
   {
    "duration": 745,
    "start_time": "2021-11-19T15:24:18.679Z"
   },
   {
    "duration": 195,
    "start_time": "2021-11-19T15:24:19.427Z"
   },
   {
    "duration": 27,
    "start_time": "2021-11-19T15:24:19.625Z"
   },
   {
    "duration": 35,
    "start_time": "2021-11-19T15:24:19.668Z"
   },
   {
    "duration": 6,
    "start_time": "2021-11-19T15:24:19.706Z"
   },
   {
    "duration": 61,
    "start_time": "2021-11-19T15:24:19.714Z"
   },
   {
    "duration": 9,
    "start_time": "2021-11-19T15:24:19.777Z"
   },
   {
    "duration": 37,
    "start_time": "2021-11-19T15:24:19.788Z"
   },
   {
    "duration": 7738,
    "start_time": "2021-11-19T15:24:19.829Z"
   },
   {
    "duration": 17,
    "start_time": "2021-11-19T15:24:27.554Z"
   },
   {
    "duration": 11,
    "start_time": "2021-11-19T15:24:27.561Z"
   },
   {
    "duration": 7,
    "start_time": "2021-11-19T15:24:27.566Z"
   },
   {
    "duration": 4,
    "start_time": "2021-11-19T15:24:27.571Z"
   },
   {
    "duration": -3,
    "start_time": "2021-11-19T15:24:27.579Z"
   },
   {
    "duration": -6,
    "start_time": "2021-11-19T15:24:27.584Z"
   },
   {
    "duration": -12,
    "start_time": "2021-11-19T15:24:27.592Z"
   },
   {
    "duration": -17,
    "start_time": "2021-11-19T15:24:27.598Z"
   },
   {
    "duration": -23,
    "start_time": "2021-11-19T15:24:27.606Z"
   },
   {
    "duration": -27,
    "start_time": "2021-11-19T15:24:27.611Z"
   },
   {
    "duration": -30,
    "start_time": "2021-11-19T15:24:27.616Z"
   },
   {
    "duration": -34,
    "start_time": "2021-11-19T15:24:27.621Z"
   },
   {
    "duration": -36,
    "start_time": "2021-11-19T15:24:27.625Z"
   },
   {
    "duration": -39,
    "start_time": "2021-11-19T15:24:27.629Z"
   },
   {
    "duration": -42,
    "start_time": "2021-11-19T15:24:27.634Z"
   },
   {
    "duration": -45,
    "start_time": "2021-11-19T15:24:27.638Z"
   },
   {
    "duration": -60,
    "start_time": "2021-11-19T15:24:27.654Z"
   },
   {
    "duration": -64,
    "start_time": "2021-11-19T15:24:27.660Z"
   },
   {
    "duration": -67,
    "start_time": "2021-11-19T15:24:27.664Z"
   },
   {
    "duration": -74,
    "start_time": "2021-11-19T15:24:27.672Z"
   },
   {
    "duration": -78,
    "start_time": "2021-11-19T15:24:27.678Z"
   },
   {
    "duration": -81,
    "start_time": "2021-11-19T15:24:27.682Z"
   },
   {
    "duration": -84,
    "start_time": "2021-11-19T15:24:27.687Z"
   },
   {
    "duration": -88,
    "start_time": "2021-11-19T15:24:27.692Z"
   },
   {
    "duration": -91,
    "start_time": "2021-11-19T15:24:27.697Z"
   },
   {
    "duration": -94,
    "start_time": "2021-11-19T15:24:27.701Z"
   },
   {
    "duration": -97,
    "start_time": "2021-11-19T15:24:27.705Z"
   },
   {
    "duration": -100,
    "start_time": "2021-11-19T15:24:27.709Z"
   },
   {
    "duration": -55,
    "start_time": "2021-11-19T15:24:27.721Z"
   },
   {
    "duration": 26,
    "start_time": "2021-11-19T15:25:28.715Z"
   },
   {
    "duration": 6,
    "start_time": "2021-11-19T15:25:33.313Z"
   },
   {
    "duration": 31,
    "start_time": "2021-11-19T15:26:00.564Z"
   },
   {
    "duration": 25,
    "start_time": "2021-11-19T15:31:18.520Z"
   },
   {
    "duration": 5,
    "start_time": "2021-11-19T15:31:21.072Z"
   },
   {
    "duration": 30,
    "start_time": "2021-11-19T15:31:26.013Z"
   },
   {
    "duration": 11840,
    "start_time": "2021-11-19T15:31:30.362Z"
   },
   {
    "duration": 32,
    "start_time": "2021-11-19T15:34:03.514Z"
   },
   {
    "duration": 31,
    "start_time": "2021-11-19T15:34:30.499Z"
   },
   {
    "duration": 577,
    "start_time": "2021-11-21T11:40:19.683Z"
   },
   {
    "duration": 129,
    "start_time": "2021-11-21T11:40:23.237Z"
   },
   {
    "duration": 16,
    "start_time": "2021-11-21T11:40:26.153Z"
   },
   {
    "duration": 24,
    "start_time": "2021-11-21T11:40:29.858Z"
   },
   {
    "duration": 6,
    "start_time": "2021-11-21T11:40:39.129Z"
   },
   {
    "duration": 21,
    "start_time": "2021-11-21T11:40:50.421Z"
   },
   {
    "duration": 4,
    "start_time": "2021-11-21T11:40:53.625Z"
   },
   {
    "duration": 23,
    "start_time": "2021-11-21T11:41:10.715Z"
   },
   {
    "duration": 16,
    "start_time": "2021-11-21T11:46:06.706Z"
   },
   {
    "duration": 23,
    "start_time": "2021-11-21T11:46:24.538Z"
   },
   {
    "duration": 58,
    "start_time": "2021-11-21T11:48:27.255Z"
   },
   {
    "duration": 55,
    "start_time": "2021-11-21T11:51:40.922Z"
   },
   {
    "duration": 48,
    "start_time": "2021-11-21T11:51:54.102Z"
   },
   {
    "duration": 57,
    "start_time": "2021-11-21T12:02:43.280Z"
   },
   {
    "duration": 8,
    "start_time": "2021-11-21T12:02:59.167Z"
   },
   {
    "duration": 2,
    "start_time": "2021-11-21T12:28:09.789Z"
   },
   {
    "duration": 134,
    "start_time": "2021-11-21T12:28:09.793Z"
   },
   {
    "duration": 9,
    "start_time": "2021-11-21T12:28:09.929Z"
   },
   {
    "duration": 28,
    "start_time": "2021-11-21T12:28:09.940Z"
   },
   {
    "duration": 3,
    "start_time": "2021-11-21T12:28:09.970Z"
   },
   {
    "duration": 31,
    "start_time": "2021-11-21T12:28:09.974Z"
   },
   {
    "duration": 4,
    "start_time": "2021-11-21T12:28:10.006Z"
   },
   {
    "duration": 26,
    "start_time": "2021-11-21T12:28:10.013Z"
   },
   {
    "duration": 20,
    "start_time": "2021-11-21T12:28:10.041Z"
   },
   {
    "duration": 44,
    "start_time": "2021-11-21T12:28:10.064Z"
   },
   {
    "duration": 51,
    "start_time": "2021-11-21T12:28:10.110Z"
   },
   {
    "duration": 77,
    "start_time": "2021-11-21T12:28:10.163Z"
   },
   {
    "duration": 55,
    "start_time": "2021-11-21T12:28:10.241Z"
   },
   {
    "duration": 9,
    "start_time": "2021-11-21T12:28:10.298Z"
   },
   {
    "duration": 2,
    "start_time": "2021-11-21T13:17:50.911Z"
   },
   {
    "duration": 128,
    "start_time": "2021-11-21T13:17:50.916Z"
   },
   {
    "duration": 9,
    "start_time": "2021-11-21T13:17:51.046Z"
   },
   {
    "duration": 36,
    "start_time": "2021-11-21T13:17:51.057Z"
   },
   {
    "duration": 4,
    "start_time": "2021-11-21T13:17:51.094Z"
   },
   {
    "duration": 19,
    "start_time": "2021-11-21T13:17:51.099Z"
   },
   {
    "duration": 3,
    "start_time": "2021-11-21T13:17:51.120Z"
   },
   {
    "duration": 27,
    "start_time": "2021-11-21T13:17:51.125Z"
   },
   {
    "duration": 14,
    "start_time": "2021-11-21T13:17:51.154Z"
   },
   {
    "duration": 41,
    "start_time": "2021-11-21T13:17:51.169Z"
   },
   {
    "duration": 50,
    "start_time": "2021-11-21T13:17:51.212Z"
   },
   {
    "duration": 75,
    "start_time": "2021-11-21T13:17:51.264Z"
   },
   {
    "duration": 52,
    "start_time": "2021-11-21T13:17:51.340Z"
   },
   {
    "duration": 7,
    "start_time": "2021-11-21T13:17:51.393Z"
   },
   {
    "duration": 242,
    "start_time": "2021-11-21T13:50:25.728Z"
   },
   {
    "duration": 66,
    "start_time": "2021-11-21T13:58:32.299Z"
   },
   {
    "duration": 62,
    "start_time": "2021-11-21T14:11:20.030Z"
   },
   {
    "duration": 2,
    "start_time": "2021-11-21T14:11:28.636Z"
   },
   {
    "duration": 3,
    "start_time": "2021-11-21T14:11:37.224Z"
   },
   {
    "duration": 177,
    "start_time": "2021-11-21T14:11:37.229Z"
   },
   {
    "duration": 10,
    "start_time": "2021-11-21T14:11:37.409Z"
   },
   {
    "duration": 25,
    "start_time": "2021-11-21T14:11:37.420Z"
   },
   {
    "duration": 3,
    "start_time": "2021-11-21T14:11:37.447Z"
   },
   {
    "duration": 24,
    "start_time": "2021-11-21T14:11:37.451Z"
   },
   {
    "duration": 6,
    "start_time": "2021-11-21T14:11:37.496Z"
   },
   {
    "duration": 23,
    "start_time": "2021-11-21T14:11:37.505Z"
   },
   {
    "duration": 15,
    "start_time": "2021-11-21T14:11:37.530Z"
   },
   {
    "duration": 20,
    "start_time": "2021-11-21T14:11:37.547Z"
   },
   {
    "duration": 77,
    "start_time": "2021-11-21T14:11:37.568Z"
   },
   {
    "duration": 68,
    "start_time": "2021-11-21T14:11:37.647Z"
   },
   {
    "duration": 45,
    "start_time": "2021-11-21T14:11:37.717Z"
   },
   {
    "duration": 6,
    "start_time": "2021-11-21T14:11:37.763Z"
   },
   {
    "duration": 59,
    "start_time": "2021-11-21T14:11:37.770Z"
   },
   {
    "duration": -249,
    "start_time": "2021-11-21T14:11:38.079Z"
   },
   {
    "duration": -252,
    "start_time": "2021-11-21T14:11:38.083Z"
   },
   {
    "duration": 3,
    "start_time": "2021-11-21T14:12:31.977Z"
   },
   {
    "duration": 179,
    "start_time": "2021-11-21T14:12:42.843Z"
   },
   {
    "duration": 12,
    "start_time": "2021-11-21T14:14:19.307Z"
   },
   {
    "duration": 16,
    "start_time": "2021-11-21T14:18:32.393Z"
   },
   {
    "duration": 3,
    "start_time": "2021-11-21T14:32:16.902Z"
   },
   {
    "duration": 11,
    "start_time": "2021-11-21T14:32:21.715Z"
   },
   {
    "duration": 10,
    "start_time": "2021-11-21T14:32:25.813Z"
   },
   {
    "duration": 31,
    "start_time": "2021-11-21T15:32:34.422Z"
   },
   {
    "duration": 287,
    "start_time": "2021-11-21T15:36:59.097Z"
   },
   {
    "duration": 181,
    "start_time": "2021-11-21T15:37:32.642Z"
   },
   {
    "duration": 3,
    "start_time": "2021-11-21T15:54:05.477Z"
   },
   {
    "duration": 130,
    "start_time": "2021-11-21T15:54:05.483Z"
   },
   {
    "duration": 9,
    "start_time": "2021-11-21T15:54:05.615Z"
   },
   {
    "duration": 27,
    "start_time": "2021-11-21T15:54:05.626Z"
   },
   {
    "duration": 3,
    "start_time": "2021-11-21T15:54:05.655Z"
   },
   {
    "duration": 42,
    "start_time": "2021-11-21T15:54:05.660Z"
   },
   {
    "duration": 3,
    "start_time": "2021-11-21T15:54:05.704Z"
   },
   {
    "duration": 23,
    "start_time": "2021-11-21T15:54:05.709Z"
   },
   {
    "duration": 18,
    "start_time": "2021-11-21T15:54:05.734Z"
   },
   {
    "duration": 38,
    "start_time": "2021-11-21T15:54:05.754Z"
   },
   {
    "duration": 51,
    "start_time": "2021-11-21T15:54:05.794Z"
   },
   {
    "duration": 76,
    "start_time": "2021-11-21T15:54:05.846Z"
   },
   {
    "duration": 45,
    "start_time": "2021-11-21T15:54:05.924Z"
   },
   {
    "duration": 20,
    "start_time": "2021-11-21T15:54:05.972Z"
   },
   {
    "duration": 3,
    "start_time": "2021-11-21T15:54:05.993Z"
   },
   {
    "duration": 11,
    "start_time": "2021-11-21T15:54:05.997Z"
   },
   {
    "duration": 14,
    "start_time": "2021-11-21T15:54:06.010Z"
   },
   {
    "duration": 27,
    "start_time": "2021-11-21T15:54:06.026Z"
   },
   {
    "duration": 171,
    "start_time": "2021-11-21T15:55:42.601Z"
   },
   {
    "duration": 177,
    "start_time": "2021-11-21T15:56:38.751Z"
   },
   {
    "duration": 199,
    "start_time": "2021-11-21T15:57:02.950Z"
   },
   {
    "duration": 180,
    "start_time": "2021-11-21T16:02:53.548Z"
   },
   {
    "duration": 217,
    "start_time": "2021-11-21T16:04:29.751Z"
   },
   {
    "duration": 30,
    "start_time": "2021-11-21T16:16:37.162Z"
   },
   {
    "duration": 3,
    "start_time": "2021-11-21T16:28:13.902Z"
   },
   {
    "duration": 348,
    "start_time": "2021-11-21T16:34:41.553Z"
   },
   {
    "duration": 3,
    "start_time": "2021-11-21T16:35:07.966Z"
   },
   {
    "duration": 360,
    "start_time": "2021-11-21T16:40:01.285Z"
   },
   {
    "duration": 359,
    "start_time": "2021-11-21T16:47:42.256Z"
   },
   {
    "duration": 3,
    "start_time": "2021-11-21T16:48:18.204Z"
   },
   {
    "duration": 17,
    "start_time": "2021-11-21T16:48:22.272Z"
   },
   {
    "duration": 14,
    "start_time": "2021-11-21T16:48:28.271Z"
   },
   {
    "duration": 15,
    "start_time": "2021-11-21T16:48:31.821Z"
   },
   {
    "duration": 15,
    "start_time": "2021-11-21T16:48:34.084Z"
   },
   {
    "duration": 18,
    "start_time": "2021-11-21T16:48:36.430Z"
   },
   {
    "duration": 15,
    "start_time": "2021-11-21T16:48:39.180Z"
   },
   {
    "duration": 57,
    "start_time": "2021-11-21T17:00:42.025Z"
   },
   {
    "duration": 64,
    "start_time": "2021-11-21T17:10:29.760Z"
   },
   {
    "duration": 174,
    "start_time": "2021-11-21T17:12:32.946Z"
   },
   {
    "duration": 199,
    "start_time": "2021-11-21T17:19:18.511Z"
   },
   {
    "duration": 677,
    "start_time": "2021-11-23T15:55:30.461Z"
   },
   {
    "duration": 164,
    "start_time": "2021-11-23T15:55:31.140Z"
   },
   {
    "duration": 20,
    "start_time": "2021-11-23T15:55:31.307Z"
   },
   {
    "duration": 53,
    "start_time": "2021-11-23T15:55:31.329Z"
   },
   {
    "duration": 10,
    "start_time": "2021-11-23T15:55:31.384Z"
   },
   {
    "duration": 33,
    "start_time": "2021-11-23T15:55:31.397Z"
   },
   {
    "duration": 19,
    "start_time": "2021-11-23T15:55:31.432Z"
   },
   {
    "duration": 67,
    "start_time": "2021-11-23T15:55:31.454Z"
   },
   {
    "duration": 78,
    "start_time": "2021-11-23T15:55:31.524Z"
   },
   {
    "duration": 66,
    "start_time": "2021-11-23T15:55:31.604Z"
   },
   {
    "duration": 123,
    "start_time": "2021-11-23T15:55:31.672Z"
   },
   {
    "duration": 95,
    "start_time": "2021-11-23T15:55:31.797Z"
   },
   {
    "duration": 60,
    "start_time": "2021-11-23T15:55:31.894Z"
   },
   {
    "duration": 45,
    "start_time": "2021-11-23T15:55:31.956Z"
   },
   {
    "duration": 62,
    "start_time": "2021-11-23T15:55:32.003Z"
   },
   {
    "duration": 24,
    "start_time": "2021-11-23T15:55:32.067Z"
   },
   {
    "duration": 152,
    "start_time": "2021-11-23T15:55:32.093Z"
   },
   {
    "duration": 92,
    "start_time": "2021-11-23T15:55:32.247Z"
   },
   {
    "duration": 78,
    "start_time": "2021-11-23T15:55:32.342Z"
   },
   {
    "duration": 4,
    "start_time": "2021-11-23T15:55:32.422Z"
   },
   {
    "duration": 31,
    "start_time": "2021-11-23T15:55:32.428Z"
   },
   {
    "duration": 17,
    "start_time": "2021-11-23T15:55:32.461Z"
   },
   {
    "duration": 32,
    "start_time": "2021-11-23T15:55:32.481Z"
   },
   {
    "duration": 28,
    "start_time": "2021-11-23T15:55:32.515Z"
   },
   {
    "duration": 23,
    "start_time": "2021-11-23T15:55:32.546Z"
   },
   {
    "duration": 17,
    "start_time": "2021-11-23T15:55:32.571Z"
   },
   {
    "duration": 332,
    "start_time": "2021-11-23T15:55:32.590Z"
   },
   {
    "duration": 302,
    "start_time": "2021-11-23T15:55:42.554Z"
   },
   {
    "duration": 296,
    "start_time": "2021-11-23T15:57:12.870Z"
   },
   {
    "duration": 329,
    "start_time": "2021-11-23T17:03:45.937Z"
   },
   {
    "duration": 319,
    "start_time": "2021-11-23T17:07:54.090Z"
   },
   {
    "duration": 669,
    "start_time": "2021-11-23T17:09:09.411Z"
   },
   {
    "duration": 341,
    "start_time": "2021-11-23T17:13:15.246Z"
   },
   {
    "duration": 286,
    "start_time": "2021-11-23T17:17:59.625Z"
   },
   {
    "duration": 9,
    "start_time": "2021-11-23T17:18:51.306Z"
   },
   {
    "duration": 11,
    "start_time": "2021-11-23T17:39:27.396Z"
   },
   {
    "duration": 9,
    "start_time": "2021-11-23T17:39:36.272Z"
   },
   {
    "duration": 91,
    "start_time": "2021-11-23T17:52:54.962Z"
   },
   {
    "duration": 4,
    "start_time": "2021-11-23T17:53:13.226Z"
   },
   {
    "duration": 607,
    "start_time": "2021-11-24T14:28:01.065Z"
   },
   {
    "duration": 138,
    "start_time": "2021-11-24T14:28:01.674Z"
   },
   {
    "duration": 18,
    "start_time": "2021-11-24T14:28:01.814Z"
   },
   {
    "duration": 47,
    "start_time": "2021-11-24T14:28:01.834Z"
   },
   {
    "duration": 14,
    "start_time": "2021-11-24T14:28:01.883Z"
   },
   {
    "duration": 23,
    "start_time": "2021-11-24T14:28:01.899Z"
   },
   {
    "duration": 24,
    "start_time": "2021-11-24T14:28:01.924Z"
   },
   {
    "duration": 45,
    "start_time": "2021-11-24T14:28:01.952Z"
   },
   {
    "duration": 23,
    "start_time": "2021-11-24T14:28:02.000Z"
   },
   {
    "duration": 37,
    "start_time": "2021-11-24T14:28:02.025Z"
   },
   {
    "duration": 67,
    "start_time": "2021-11-24T14:28:02.064Z"
   },
   {
    "duration": 78,
    "start_time": "2021-11-24T14:28:02.133Z"
   },
   {
    "duration": 51,
    "start_time": "2021-11-24T14:28:02.213Z"
   },
   {
    "duration": 7,
    "start_time": "2021-11-24T14:28:02.266Z"
   },
   {
    "duration": 18,
    "start_time": "2021-11-24T14:28:02.291Z"
   },
   {
    "duration": 35,
    "start_time": "2021-11-24T14:28:02.311Z"
   },
   {
    "duration": 62,
    "start_time": "2021-11-24T14:28:02.347Z"
   },
   {
    "duration": 44,
    "start_time": "2021-11-24T14:28:02.411Z"
   },
   {
    "duration": 37,
    "start_time": "2021-11-24T14:28:02.457Z"
   },
   {
    "duration": 3,
    "start_time": "2021-11-24T14:28:02.496Z"
   },
   {
    "duration": 38,
    "start_time": "2021-11-24T14:28:02.501Z"
   },
   {
    "duration": 25,
    "start_time": "2021-11-24T14:28:02.541Z"
   },
   {
    "duration": 21,
    "start_time": "2021-11-24T14:28:02.570Z"
   },
   {
    "duration": 18,
    "start_time": "2021-11-24T14:28:02.593Z"
   },
   {
    "duration": 27,
    "start_time": "2021-11-24T14:28:02.613Z"
   },
   {
    "duration": 17,
    "start_time": "2021-11-24T14:28:02.642Z"
   },
   {
    "duration": 34,
    "start_time": "2021-11-24T14:28:02.661Z"
   },
   {
    "duration": 21,
    "start_time": "2021-11-24T14:28:02.696Z"
   },
   {
    "duration": 26,
    "start_time": "2021-11-24T14:28:02.718Z"
   },
   {
    "duration": 7,
    "start_time": "2021-11-24T14:28:02.746Z"
   },
   {
    "duration": 4827,
    "start_time": "2021-11-24T14:52:03.469Z"
   },
   {
    "duration": 4817,
    "start_time": "2021-11-24T14:55:39.927Z"
   },
   {
    "duration": 5158,
    "start_time": "2021-11-24T14:57:25.307Z"
   },
   {
    "duration": 4,
    "start_time": "2021-11-24T15:07:02.491Z"
   },
   {
    "duration": 4674,
    "start_time": "2021-11-24T15:07:08.864Z"
   },
   {
    "duration": 5721,
    "start_time": "2021-11-24T15:09:18.906Z"
   },
   {
    "duration": 630,
    "start_time": "2021-11-25T07:54:47.746Z"
   },
   {
    "duration": 177,
    "start_time": "2021-11-25T07:54:48.378Z"
   },
   {
    "duration": 16,
    "start_time": "2021-11-25T07:54:48.557Z"
   },
   {
    "duration": 27,
    "start_time": "2021-11-25T07:54:48.575Z"
   },
   {
    "duration": 4,
    "start_time": "2021-11-25T07:54:48.604Z"
   },
   {
    "duration": 27,
    "start_time": "2021-11-25T07:54:48.610Z"
   },
   {
    "duration": 25,
    "start_time": "2021-11-25T07:54:48.639Z"
   },
   {
    "duration": 24,
    "start_time": "2021-11-25T07:54:48.667Z"
   },
   {
    "duration": 19,
    "start_time": "2021-11-25T07:54:48.694Z"
   },
   {
    "duration": 49,
    "start_time": "2021-11-25T07:54:48.715Z"
   },
   {
    "duration": 66,
    "start_time": "2021-11-25T07:54:48.765Z"
   },
   {
    "duration": 93,
    "start_time": "2021-11-25T07:54:48.833Z"
   },
   {
    "duration": 66,
    "start_time": "2021-11-25T07:54:48.928Z"
   },
   {
    "duration": 7,
    "start_time": "2021-11-25T07:54:48.996Z"
   },
   {
    "duration": 4,
    "start_time": "2021-11-25T07:54:49.004Z"
   },
   {
    "duration": 12,
    "start_time": "2021-11-25T07:54:49.010Z"
   },
   {
    "duration": 14,
    "start_time": "2021-11-25T07:54:49.023Z"
   },
   {
    "duration": 57,
    "start_time": "2021-11-25T07:54:49.039Z"
   },
   {
    "duration": 33,
    "start_time": "2021-11-25T07:54:49.098Z"
   },
   {
    "duration": 4,
    "start_time": "2021-11-25T07:54:49.134Z"
   },
   {
    "duration": 18,
    "start_time": "2021-11-25T07:54:49.164Z"
   },
   {
    "duration": 22,
    "start_time": "2021-11-25T07:54:49.184Z"
   },
   {
    "duration": 16,
    "start_time": "2021-11-25T07:54:49.210Z"
   },
   {
    "duration": 42,
    "start_time": "2021-11-25T07:54:49.229Z"
   },
   {
    "duration": 20,
    "start_time": "2021-11-25T07:54:49.273Z"
   },
   {
    "duration": 24,
    "start_time": "2021-11-25T07:54:49.294Z"
   },
   {
    "duration": 11,
    "start_time": "2021-11-25T07:54:49.321Z"
   },
   {
    "duration": 43,
    "start_time": "2021-11-25T07:54:49.334Z"
   },
   {
    "duration": 14,
    "start_time": "2021-11-25T07:54:49.379Z"
   },
   {
    "duration": 5,
    "start_time": "2021-11-25T07:54:49.395Z"
   },
   {
    "duration": 7208,
    "start_time": "2021-11-25T07:54:57.708Z"
   },
   {
    "duration": 7048,
    "start_time": "2021-11-25T07:59:47.564Z"
   },
   {
    "duration": 7093,
    "start_time": "2021-11-25T10:22:56.251Z"
   },
   {
    "duration": 3,
    "start_time": "2021-11-25T10:24:18.355Z"
   },
   {
    "duration": 166,
    "start_time": "2021-11-25T10:24:18.360Z"
   },
   {
    "duration": 10,
    "start_time": "2021-11-25T10:24:18.528Z"
   },
   {
    "duration": 37,
    "start_time": "2021-11-25T10:24:18.540Z"
   },
   {
    "duration": 10,
    "start_time": "2021-11-25T10:24:18.579Z"
   },
   {
    "duration": 22,
    "start_time": "2021-11-25T10:24:18.590Z"
   },
   {
    "duration": 4,
    "start_time": "2021-11-25T10:24:18.614Z"
   },
   {
    "duration": 46,
    "start_time": "2021-11-25T10:24:18.621Z"
   },
   {
    "duration": 21,
    "start_time": "2021-11-25T10:24:18.669Z"
   },
   {
    "duration": 24,
    "start_time": "2021-11-25T10:24:18.692Z"
   },
   {
    "duration": 75,
    "start_time": "2021-11-25T10:24:18.718Z"
   },
   {
    "duration": 74,
    "start_time": "2021-11-25T10:24:18.795Z"
   },
   {
    "duration": 52,
    "start_time": "2021-11-25T10:24:18.871Z"
   },
   {
    "duration": 7,
    "start_time": "2021-11-25T10:24:18.924Z"
   },
   {
    "duration": 5,
    "start_time": "2021-11-25T10:24:18.933Z"
   },
   {
    "duration": 32,
    "start_time": "2021-11-25T10:24:18.940Z"
   },
   {
    "duration": 19,
    "start_time": "2021-11-25T10:24:18.973Z"
   },
   {
    "duration": 35,
    "start_time": "2021-11-25T10:24:18.994Z"
   },
   {
    "duration": 54,
    "start_time": "2021-11-25T10:24:19.032Z"
   },
   {
    "duration": 4,
    "start_time": "2021-11-25T10:24:19.088Z"
   },
   {
    "duration": 26,
    "start_time": "2021-11-25T10:24:19.094Z"
   },
   {
    "duration": 17,
    "start_time": "2021-11-25T10:24:19.123Z"
   },
   {
    "duration": 37,
    "start_time": "2021-11-25T10:24:19.142Z"
   },
   {
    "duration": 15,
    "start_time": "2021-11-25T10:24:19.181Z"
   },
   {
    "duration": 18,
    "start_time": "2021-11-25T10:24:19.197Z"
   },
   {
    "duration": 16,
    "start_time": "2021-11-25T10:24:19.217Z"
   },
   {
    "duration": 9,
    "start_time": "2021-11-25T10:24:19.263Z"
   },
   {
    "duration": 30,
    "start_time": "2021-11-25T10:24:19.273Z"
   },
   {
    "duration": 21,
    "start_time": "2021-11-25T10:24:19.305Z"
   },
   {
    "duration": 4,
    "start_time": "2021-11-25T10:24:19.328Z"
   },
   {
    "duration": 7353,
    "start_time": "2021-11-25T10:24:23.657Z"
   },
   {
    "duration": 3,
    "start_time": "2021-11-25T10:36:07.487Z"
   },
   {
    "duration": 148,
    "start_time": "2021-11-25T10:36:07.492Z"
   },
   {
    "duration": 11,
    "start_time": "2021-11-25T10:36:07.642Z"
   },
   {
    "duration": 33,
    "start_time": "2021-11-25T10:36:07.655Z"
   },
   {
    "duration": 4,
    "start_time": "2021-11-25T10:36:07.690Z"
   },
   {
    "duration": 23,
    "start_time": "2021-11-25T10:36:07.696Z"
   },
   {
    "duration": 4,
    "start_time": "2021-11-25T10:36:07.722Z"
   },
   {
    "duration": 29,
    "start_time": "2021-11-25T10:36:07.765Z"
   },
   {
    "duration": 18,
    "start_time": "2021-11-25T10:36:07.796Z"
   },
   {
    "duration": 48,
    "start_time": "2021-11-25T10:36:07.816Z"
   },
   {
    "duration": 64,
    "start_time": "2021-11-25T10:36:07.866Z"
   },
   {
    "duration": 86,
    "start_time": "2021-11-25T10:36:07.932Z"
   },
   {
    "duration": 75,
    "start_time": "2021-11-25T10:36:08.020Z"
   },
   {
    "duration": 7,
    "start_time": "2021-11-25T10:36:08.096Z"
   },
   {
    "duration": 3,
    "start_time": "2021-11-25T10:36:08.105Z"
   },
   {
    "duration": 15,
    "start_time": "2021-11-25T10:36:08.109Z"
   },
   {
    "duration": 10,
    "start_time": "2021-11-25T10:36:08.126Z"
   },
   {
    "duration": 57,
    "start_time": "2021-11-25T10:36:08.137Z"
   },
   {
    "duration": 38,
    "start_time": "2021-11-25T10:36:08.196Z"
   },
   {
    "duration": 3,
    "start_time": "2021-11-25T10:36:08.236Z"
   },
   {
    "duration": 34,
    "start_time": "2021-11-25T10:36:08.241Z"
   },
   {
    "duration": 16,
    "start_time": "2021-11-25T10:36:08.277Z"
   },
   {
    "duration": 15,
    "start_time": "2021-11-25T10:36:08.295Z"
   },
   {
    "duration": 16,
    "start_time": "2021-11-25T10:36:08.311Z"
   },
   {
    "duration": 51,
    "start_time": "2021-11-25T10:36:08.328Z"
   },
   {
    "duration": 16,
    "start_time": "2021-11-25T10:36:08.380Z"
   },
   {
    "duration": 10,
    "start_time": "2021-11-25T10:36:08.398Z"
   },
   {
    "duration": 19,
    "start_time": "2021-11-25T10:36:08.410Z"
   },
   {
    "duration": 43,
    "start_time": "2021-11-25T10:36:08.431Z"
   },
   {
    "duration": 5,
    "start_time": "2021-11-25T10:36:08.476Z"
   },
   {
    "duration": 6575,
    "start_time": "2021-11-25T10:36:08.483Z"
   },
   {
    "duration": 6474,
    "start_time": "2021-11-25T10:37:52.447Z"
   },
   {
    "duration": 4,
    "start_time": "2021-11-25T10:40:12.028Z"
   },
   {
    "duration": 537,
    "start_time": "2021-11-25T10:40:15.925Z"
   },
   {
    "duration": 4,
    "start_time": "2021-11-25T10:43:25.755Z"
   },
   {
    "duration": 499,
    "start_time": "2021-11-25T10:43:31.511Z"
   },
   {
    "duration": 5,
    "start_time": "2021-11-25T10:43:58.395Z"
   },
   {
    "duration": 6911,
    "start_time": "2021-11-25T10:44:01.805Z"
   },
   {
    "duration": 3,
    "start_time": "2021-11-25T10:45:03.417Z"
   },
   {
    "duration": 241,
    "start_time": "2021-11-25T10:45:03.422Z"
   },
   {
    "duration": 13,
    "start_time": "2021-11-25T10:45:03.666Z"
   },
   {
    "duration": 37,
    "start_time": "2021-11-25T10:45:03.681Z"
   },
   {
    "duration": 10,
    "start_time": "2021-11-25T10:45:03.720Z"
   },
   {
    "duration": 40,
    "start_time": "2021-11-25T10:45:03.731Z"
   },
   {
    "duration": 4,
    "start_time": "2021-11-25T10:45:03.774Z"
   },
   {
    "duration": 65,
    "start_time": "2021-11-25T10:45:03.781Z"
   },
   {
    "duration": 41,
    "start_time": "2021-11-25T10:45:03.849Z"
   },
   {
    "duration": 35,
    "start_time": "2021-11-25T10:45:03.893Z"
   },
   {
    "duration": 93,
    "start_time": "2021-11-25T10:45:03.931Z"
   },
   {
    "duration": 87,
    "start_time": "2021-11-25T10:45:04.026Z"
   },
   {
    "duration": 75,
    "start_time": "2021-11-25T10:45:04.115Z"
   },
   {
    "duration": 6,
    "start_time": "2021-11-25T10:45:04.192Z"
   },
   {
    "duration": 4,
    "start_time": "2021-11-25T10:45:04.200Z"
   },
   {
    "duration": 13,
    "start_time": "2021-11-25T10:45:04.206Z"
   },
   {
    "duration": 8,
    "start_time": "2021-11-25T10:45:04.221Z"
   },
   {
    "duration": 75,
    "start_time": "2021-11-25T10:45:04.231Z"
   },
   {
    "duration": 62,
    "start_time": "2021-11-25T10:45:04.308Z"
   },
   {
    "duration": 4,
    "start_time": "2021-11-25T10:45:04.373Z"
   },
   {
    "duration": 48,
    "start_time": "2021-11-25T10:45:04.379Z"
   },
   {
    "duration": 20,
    "start_time": "2021-11-25T10:45:04.429Z"
   },
   {
    "duration": 42,
    "start_time": "2021-11-25T10:45:04.450Z"
   },
   {
    "duration": 44,
    "start_time": "2021-11-25T10:45:04.495Z"
   },
   {
    "duration": 19,
    "start_time": "2021-11-25T10:45:04.541Z"
   },
   {
    "duration": 22,
    "start_time": "2021-11-25T10:45:04.562Z"
   },
   {
    "duration": 31,
    "start_time": "2021-11-25T10:45:04.586Z"
   },
   {
    "duration": 36,
    "start_time": "2021-11-25T10:45:04.619Z"
   },
   {
    "duration": 27,
    "start_time": "2021-11-25T10:45:04.656Z"
   },
   {
    "duration": 17,
    "start_time": "2021-11-25T10:45:04.685Z"
   },
   {
    "duration": 514,
    "start_time": "2021-11-25T10:45:11.713Z"
   },
   {
    "duration": 537,
    "start_time": "2021-11-25T10:50:08.984Z"
   },
   {
    "duration": 6,
    "start_time": "2021-11-25T10:50:50.435Z"
   },
   {
    "duration": 498,
    "start_time": "2021-11-25T10:50:53.863Z"
   },
   {
    "duration": 5,
    "start_time": "2021-11-25T10:51:06.959Z"
   },
   {
    "duration": 675,
    "start_time": "2021-11-25T11:30:22.569Z"
   },
   {
    "duration": 4,
    "start_time": "2021-11-25T11:35:02.428Z"
   },
   {
    "duration": 568,
    "start_time": "2021-11-25T11:35:05.358Z"
   },
   {
    "duration": 3,
    "start_time": "2021-11-25T11:38:31.841Z"
   },
   {
    "duration": 176,
    "start_time": "2021-11-25T11:38:31.846Z"
   },
   {
    "duration": 10,
    "start_time": "2021-11-25T11:38:32.024Z"
   },
   {
    "duration": 44,
    "start_time": "2021-11-25T11:38:32.036Z"
   },
   {
    "duration": 18,
    "start_time": "2021-11-25T11:38:32.082Z"
   },
   {
    "duration": 39,
    "start_time": "2021-11-25T11:38:32.101Z"
   },
   {
    "duration": 4,
    "start_time": "2021-11-25T11:38:32.142Z"
   },
   {
    "duration": 39,
    "start_time": "2021-11-25T11:38:32.148Z"
   },
   {
    "duration": 33,
    "start_time": "2021-11-25T11:38:32.188Z"
   },
   {
    "duration": 39,
    "start_time": "2021-11-25T11:38:32.223Z"
   },
   {
    "duration": 85,
    "start_time": "2021-11-25T11:38:32.263Z"
   },
   {
    "duration": 80,
    "start_time": "2021-11-25T11:38:32.349Z"
   },
   {
    "duration": 65,
    "start_time": "2021-11-25T11:38:32.431Z"
   },
   {
    "duration": 7,
    "start_time": "2021-11-25T11:38:32.497Z"
   },
   {
    "duration": 50,
    "start_time": "2021-11-25T11:38:32.506Z"
   },
   {
    "duration": 116,
    "start_time": "2021-11-25T11:38:32.558Z"
   },
   {
    "duration": 38,
    "start_time": "2021-11-25T11:38:32.676Z"
   },
   {
    "duration": 50,
    "start_time": "2021-11-25T11:38:32.716Z"
   },
   {
    "duration": 40,
    "start_time": "2021-11-25T11:38:32.770Z"
   },
   {
    "duration": 3,
    "start_time": "2021-11-25T11:38:32.813Z"
   },
   {
    "duration": 40,
    "start_time": "2021-11-25T11:38:32.818Z"
   },
   {
    "duration": 20,
    "start_time": "2021-11-25T11:38:32.859Z"
   },
   {
    "duration": 24,
    "start_time": "2021-11-25T11:38:32.881Z"
   },
   {
    "duration": 41,
    "start_time": "2021-11-25T11:38:32.907Z"
   },
   {
    "duration": 31,
    "start_time": "2021-11-25T11:38:32.949Z"
   },
   {
    "duration": 18,
    "start_time": "2021-11-25T11:38:32.982Z"
   },
   {
    "duration": 22,
    "start_time": "2021-11-25T11:38:33.002Z"
   },
   {
    "duration": 28,
    "start_time": "2021-11-25T11:38:33.026Z"
   },
   {
    "duration": 15,
    "start_time": "2021-11-25T11:38:33.056Z"
   },
   {
    "duration": 9,
    "start_time": "2021-11-25T11:38:33.073Z"
   },
   {
    "duration": 507,
    "start_time": "2021-11-25T11:38:40.780Z"
   },
   {
    "duration": 5,
    "start_time": "2021-11-25T11:41:39.585Z"
   },
   {
    "duration": 26,
    "start_time": "2021-11-25T11:41:42.875Z"
   },
   {
    "duration": 16,
    "start_time": "2021-11-25T11:41:51.689Z"
   },
   {
    "duration": 20,
    "start_time": "2021-11-25T11:42:04.883Z"
   },
   {
    "duration": 22,
    "start_time": "2021-11-25T11:42:09.167Z"
   },
   {
    "duration": 4,
    "start_time": "2021-11-25T11:45:57.546Z"
   },
   {
    "duration": 541,
    "start_time": "2021-11-25T11:46:00.637Z"
   },
   {
    "duration": 5,
    "start_time": "2021-11-25T12:13:39.077Z"
   },
   {
    "duration": 597,
    "start_time": "2021-11-25T12:13:43.495Z"
   },
   {
    "duration": 4,
    "start_time": "2021-11-25T12:17:53.911Z"
   },
   {
    "duration": 565,
    "start_time": "2021-11-25T12:17:57.160Z"
   },
   {
    "duration": 38,
    "start_time": "2021-11-25T12:18:36.351Z"
   },
   {
    "duration": 556,
    "start_time": "2021-11-25T12:18:39.458Z"
   },
   {
    "duration": 7,
    "start_time": "2021-11-25T12:20:22.446Z"
   },
   {
    "duration": 538,
    "start_time": "2021-11-25T12:20:24.734Z"
   },
   {
    "duration": 6,
    "start_time": "2021-11-25T12:26:01.943Z"
   },
   {
    "duration": 733,
    "start_time": "2021-11-25T12:26:06.966Z"
   },
   {
    "duration": 5,
    "start_time": "2021-11-25T12:28:51.029Z"
   },
   {
    "duration": 25,
    "start_time": "2021-11-25T12:28:57.489Z"
   },
   {
    "duration": 12,
    "start_time": "2021-11-25T12:29:03.619Z"
   },
   {
    "duration": 14,
    "start_time": "2021-11-25T12:29:25.217Z"
   },
   {
    "duration": 28,
    "start_time": "2021-11-25T12:29:34.282Z"
   },
   {
    "duration": 18,
    "start_time": "2021-11-25T12:29:41.847Z"
   },
   {
    "duration": 620,
    "start_time": "2021-11-25T17:21:57.428Z"
   },
   {
    "duration": 145,
    "start_time": "2021-11-25T17:21:58.050Z"
   },
   {
    "duration": 19,
    "start_time": "2021-11-25T17:21:58.197Z"
   },
   {
    "duration": 27,
    "start_time": "2021-11-25T17:21:58.218Z"
   },
   {
    "duration": 13,
    "start_time": "2021-11-25T17:21:58.247Z"
   },
   {
    "duration": 36,
    "start_time": "2021-11-25T17:21:58.262Z"
   },
   {
    "duration": 19,
    "start_time": "2021-11-25T17:21:58.300Z"
   },
   {
    "duration": 28,
    "start_time": "2021-11-25T17:21:58.322Z"
   },
   {
    "duration": 30,
    "start_time": "2021-11-25T17:21:58.352Z"
   },
   {
    "duration": 36,
    "start_time": "2021-11-25T17:21:58.384Z"
   },
   {
    "duration": 75,
    "start_time": "2021-11-25T17:21:58.421Z"
   },
   {
    "duration": 71,
    "start_time": "2021-11-25T17:21:58.498Z"
   },
   {
    "duration": 61,
    "start_time": "2021-11-25T17:21:58.571Z"
   },
   {
    "duration": 7,
    "start_time": "2021-11-25T17:21:58.634Z"
   },
   {
    "duration": 6,
    "start_time": "2021-11-25T17:21:58.643Z"
   },
   {
    "duration": 23,
    "start_time": "2021-11-25T17:21:58.651Z"
   },
   {
    "duration": 12,
    "start_time": "2021-11-25T17:21:58.676Z"
   },
   {
    "duration": 48,
    "start_time": "2021-11-25T17:21:58.690Z"
   },
   {
    "duration": 32,
    "start_time": "2021-11-25T17:21:58.740Z"
   },
   {
    "duration": 4,
    "start_time": "2021-11-25T17:21:58.774Z"
   },
   {
    "duration": 39,
    "start_time": "2021-11-25T17:21:58.780Z"
   },
   {
    "duration": 17,
    "start_time": "2021-11-25T17:21:58.821Z"
   },
   {
    "duration": 33,
    "start_time": "2021-11-25T17:21:58.842Z"
   },
   {
    "duration": 33,
    "start_time": "2021-11-25T17:21:58.877Z"
   },
   {
    "duration": 24,
    "start_time": "2021-11-25T17:21:58.912Z"
   },
   {
    "duration": 16,
    "start_time": "2021-11-25T17:21:58.938Z"
   },
   {
    "duration": 8,
    "start_time": "2021-11-25T17:21:58.957Z"
   },
   {
    "duration": 41,
    "start_time": "2021-11-25T17:21:58.966Z"
   },
   {
    "duration": 32,
    "start_time": "2021-11-25T17:21:59.008Z"
   },
   {
    "duration": 21,
    "start_time": "2021-11-25T17:21:59.042Z"
   },
   {
    "duration": 46,
    "start_time": "2021-11-25T17:21:59.065Z"
   },
   {
    "duration": 37,
    "start_time": "2021-11-25T17:21:59.113Z"
   },
   {
    "duration": 24,
    "start_time": "2021-11-25T17:21:59.152Z"
   },
   {
    "duration": 23,
    "start_time": "2021-11-25T17:21:59.178Z"
   },
   {
    "duration": 463,
    "start_time": "2021-11-25T17:36:15.360Z"
   },
   {
    "duration": 361,
    "start_time": "2021-11-25T17:36:42.618Z"
   },
   {
    "duration": 355,
    "start_time": "2021-11-25T17:37:16.619Z"
   },
   {
    "duration": 51,
    "start_time": "2021-11-25T17:38:03.342Z"
   },
   {
    "duration": 11,
    "start_time": "2021-11-25T17:38:12.922Z"
   },
   {
    "duration": 43,
    "start_time": "2021-11-25T17:40:52.643Z"
   },
   {
    "duration": 12,
    "start_time": "2021-11-25T17:41:14.223Z"
   },
   {
    "duration": 318,
    "start_time": "2021-11-26T08:30:13.365Z"
   },
   {
    "duration": 285,
    "start_time": "2021-11-26T08:32:38.529Z"
   },
   {
    "duration": 749,
    "start_time": "2021-11-26T08:32:50.763Z"
   },
   {
    "duration": 201,
    "start_time": "2021-11-26T08:32:51.515Z"
   },
   {
    "duration": 28,
    "start_time": "2021-11-26T08:32:51.719Z"
   },
   {
    "duration": 42,
    "start_time": "2021-11-26T08:32:51.750Z"
   },
   {
    "duration": 5,
    "start_time": "2021-11-26T08:32:51.794Z"
   },
   {
    "duration": 51,
    "start_time": "2021-11-26T08:32:51.802Z"
   },
   {
    "duration": 11,
    "start_time": "2021-11-26T08:32:51.856Z"
   },
   {
    "duration": 30,
    "start_time": "2021-11-26T08:32:51.871Z"
   },
   {
    "duration": 47,
    "start_time": "2021-11-26T08:32:51.904Z"
   },
   {
    "duration": 30,
    "start_time": "2021-11-26T08:32:51.954Z"
   },
   {
    "duration": 114,
    "start_time": "2021-11-26T08:32:51.986Z"
   },
   {
    "duration": 110,
    "start_time": "2021-11-26T08:32:52.103Z"
   },
   {
    "duration": 78,
    "start_time": "2021-11-26T08:32:52.215Z"
   },
   {
    "duration": 10,
    "start_time": "2021-11-26T08:32:52.295Z"
   },
   {
    "duration": 6,
    "start_time": "2021-11-26T08:32:52.307Z"
   },
   {
    "duration": 14,
    "start_time": "2021-11-26T08:32:52.330Z"
   },
   {
    "duration": 14,
    "start_time": "2021-11-26T08:32:52.346Z"
   },
   {
    "duration": 77,
    "start_time": "2021-11-26T08:32:52.363Z"
   },
   {
    "duration": 43,
    "start_time": "2021-11-26T08:32:52.442Z"
   },
   {
    "duration": 5,
    "start_time": "2021-11-26T08:32:52.488Z"
   },
   {
    "duration": 51,
    "start_time": "2021-11-26T08:32:52.495Z"
   },
   {
    "duration": 22,
    "start_time": "2021-11-26T08:32:52.549Z"
   },
   {
    "duration": 18,
    "start_time": "2021-11-26T08:32:52.576Z"
   },
   {
    "duration": 43,
    "start_time": "2021-11-26T08:32:52.597Z"
   },
   {
    "duration": 28,
    "start_time": "2021-11-26T08:32:52.643Z"
   },
   {
    "duration": 18,
    "start_time": "2021-11-26T08:32:52.674Z"
   },
   {
    "duration": 33,
    "start_time": "2021-11-26T08:32:52.695Z"
   },
   {
    "duration": 15,
    "start_time": "2021-11-26T08:32:52.731Z"
   },
   {
    "duration": 13,
    "start_time": "2021-11-26T08:32:52.748Z"
   },
   {
    "duration": 22,
    "start_time": "2021-11-26T08:32:52.764Z"
   },
   {
    "duration": 41,
    "start_time": "2021-11-26T08:32:52.789Z"
   },
   {
    "duration": 17,
    "start_time": "2021-11-26T08:32:52.833Z"
   },
   {
    "duration": 24,
    "start_time": "2021-11-26T08:32:52.853Z"
   },
   {
    "duration": 17,
    "start_time": "2021-11-26T08:32:52.879Z"
   },
   {
    "duration": 33,
    "start_time": "2021-11-26T08:32:57.976Z"
   },
   {
    "duration": 6480,
    "start_time": "2021-11-26T08:33:03.615Z"
   },
   {
    "duration": 267,
    "start_time": "2021-11-26T08:34:54.072Z"
   },
   {
    "duration": 1859,
    "start_time": "2021-11-26T08:40:03.295Z"
   },
   {
    "duration": 6882,
    "start_time": "2021-11-26T08:42:13.723Z"
   },
   {
    "duration": 12,
    "start_time": "2021-11-26T08:42:48.850Z"
   },
   {
    "duration": 20,
    "start_time": "2021-11-26T08:44:03.073Z"
   },
   {
    "duration": 12,
    "start_time": "2021-11-26T08:44:06.932Z"
   },
   {
    "duration": 12,
    "start_time": "2021-11-26T09:06:52.691Z"
   },
   {
    "duration": 6,
    "start_time": "2021-11-26T09:06:56.089Z"
   },
   {
    "duration": 9,
    "start_time": "2021-11-26T09:07:25.529Z"
   },
   {
    "duration": 7,
    "start_time": "2021-11-26T09:07:28.243Z"
   },
   {
    "duration": 661,
    "start_time": "2021-11-27T08:46:32.587Z"
   },
   {
    "duration": 140,
    "start_time": "2021-11-27T08:46:33.250Z"
   },
   {
    "duration": 19,
    "start_time": "2021-11-27T08:46:33.392Z"
   },
   {
    "duration": 25,
    "start_time": "2021-11-27T08:46:33.413Z"
   },
   {
    "duration": 4,
    "start_time": "2021-11-27T08:46:33.440Z"
   },
   {
    "duration": 24,
    "start_time": "2021-11-27T08:46:33.445Z"
   },
   {
    "duration": 4,
    "start_time": "2021-11-27T08:46:33.471Z"
   },
   {
    "duration": 53,
    "start_time": "2021-11-27T08:46:33.477Z"
   },
   {
    "duration": 18,
    "start_time": "2021-11-27T08:46:33.532Z"
   },
   {
    "duration": 22,
    "start_time": "2021-11-27T08:46:33.552Z"
   },
   {
    "duration": 84,
    "start_time": "2021-11-27T08:46:33.576Z"
   },
   {
    "duration": 82,
    "start_time": "2021-11-27T08:46:33.662Z"
   },
   {
    "duration": 62,
    "start_time": "2021-11-27T08:46:33.745Z"
   },
   {
    "duration": 120,
    "start_time": "2021-11-27T08:46:47.372Z"
   },
   {
    "duration": 54,
    "start_time": "2021-11-27T08:47:56.633Z"
   },
   {
    "duration": 54,
    "start_time": "2021-11-27T08:48:41.229Z"
   },
   {
    "duration": 49,
    "start_time": "2021-11-27T08:55:11.890Z"
   },
   {
    "duration": 2,
    "start_time": "2021-11-27T08:59:12.051Z"
   },
   {
    "duration": 149,
    "start_time": "2021-11-27T08:59:12.057Z"
   },
   {
    "duration": 10,
    "start_time": "2021-11-27T08:59:12.208Z"
   },
   {
    "duration": 25,
    "start_time": "2021-11-27T08:59:12.220Z"
   },
   {
    "duration": 4,
    "start_time": "2021-11-27T08:59:12.247Z"
   },
   {
    "duration": 21,
    "start_time": "2021-11-27T08:59:12.253Z"
   },
   {
    "duration": 4,
    "start_time": "2021-11-27T08:59:12.276Z"
   },
   {
    "duration": 51,
    "start_time": "2021-11-27T08:59:12.282Z"
   },
   {
    "duration": 17,
    "start_time": "2021-11-27T08:59:12.336Z"
   },
   {
    "duration": 27,
    "start_time": "2021-11-27T08:59:12.355Z"
   },
   {
    "duration": 75,
    "start_time": "2021-11-27T08:59:12.384Z"
   },
   {
    "duration": 76,
    "start_time": "2021-11-27T08:59:12.460Z"
   },
   {
    "duration": 54,
    "start_time": "2021-11-27T08:59:12.538Z"
   },
   {
    "duration": 48,
    "start_time": "2021-11-27T08:59:12.607Z"
   },
   {
    "duration": 3,
    "start_time": "2021-11-27T08:59:12.657Z"
   },
   {
    "duration": 23,
    "start_time": "2021-11-27T08:59:12.661Z"
   },
   {
    "duration": 11,
    "start_time": "2021-11-27T08:59:12.686Z"
   },
   {
    "duration": 35,
    "start_time": "2021-11-27T08:59:12.698Z"
   },
   {
    "duration": 129,
    "start_time": "2021-11-27T08:59:17.616Z"
   },
   {
    "duration": 12,
    "start_time": "2021-11-27T08:59:30.528Z"
   },
   {
    "duration": 2,
    "start_time": "2021-11-27T09:05:30.632Z"
   },
   {
    "duration": 146,
    "start_time": "2021-11-27T09:05:30.663Z"
   },
   {
    "duration": 10,
    "start_time": "2021-11-27T09:05:30.811Z"
   },
   {
    "duration": 30,
    "start_time": "2021-11-27T09:05:30.823Z"
   },
   {
    "duration": 8,
    "start_time": "2021-11-27T09:05:30.855Z"
   },
   {
    "duration": 22,
    "start_time": "2021-11-27T09:05:30.865Z"
   },
   {
    "duration": 18,
    "start_time": "2021-11-27T09:05:30.889Z"
   },
   {
    "duration": 27,
    "start_time": "2021-11-27T09:05:30.909Z"
   },
   {
    "duration": 23,
    "start_time": "2021-11-27T09:05:30.938Z"
   },
   {
    "duration": 27,
    "start_time": "2021-11-27T09:05:30.964Z"
   },
   {
    "duration": 72,
    "start_time": "2021-11-27T09:05:30.993Z"
   },
   {
    "duration": 61,
    "start_time": "2021-11-27T09:05:31.067Z"
   },
   {
    "duration": 53,
    "start_time": "2021-11-27T09:05:31.130Z"
   },
   {
    "duration": 79,
    "start_time": "2021-11-27T09:05:31.185Z"
   },
   {
    "duration": 2,
    "start_time": "2021-11-27T09:05:31.266Z"
   },
   {
    "duration": 36,
    "start_time": "2021-11-27T09:05:31.270Z"
   },
   {
    "duration": 18,
    "start_time": "2021-11-27T09:05:31.307Z"
   },
   {
    "duration": 41,
    "start_time": "2021-11-27T09:05:31.327Z"
   },
   {
    "duration": 9,
    "start_time": "2021-11-27T09:05:31.370Z"
   },
   {
    "duration": 24,
    "start_time": "2021-11-27T09:05:31.380Z"
   },
   {
    "duration": 46,
    "start_time": "2021-11-27T09:05:31.405Z"
   },
   {
    "duration": 18,
    "start_time": "2021-11-27T09:05:31.453Z"
   },
   {
    "duration": 38,
    "start_time": "2021-11-27T09:05:31.473Z"
   },
   {
    "duration": 24,
    "start_time": "2021-11-27T09:05:31.513Z"
   },
   {
    "duration": 32,
    "start_time": "2021-11-27T09:05:31.539Z"
   },
   {
    "duration": 21,
    "start_time": "2021-11-27T09:05:31.572Z"
   },
   {
    "duration": 415,
    "start_time": "2021-11-27T09:05:44.574Z"
   },
   {
    "duration": 373,
    "start_time": "2021-11-27T09:06:32.796Z"
   },
   {
    "duration": 352,
    "start_time": "2021-11-27T09:07:26.620Z"
   },
   {
    "duration": 392,
    "start_time": "2021-11-27T09:08:18.787Z"
   },
   {
    "duration": 372,
    "start_time": "2021-11-27T09:08:52.830Z"
   },
   {
    "duration": 813,
    "start_time": "2021-11-27T09:10:00.133Z"
   },
   {
    "duration": 120,
    "start_time": "2021-11-27T09:10:23.791Z"
   },
   {
    "duration": 8,
    "start_time": "2021-11-27T09:10:58.231Z"
   },
   {
    "duration": 302,
    "start_time": "2022-01-30T14:49:12.804Z"
   },
   {
    "duration": 877,
    "start_time": "2022-01-30T14:49:22.536Z"
   },
   {
    "duration": 578,
    "start_time": "2022-01-30T14:49:26.858Z"
   },
   {
    "duration": 1753,
    "start_time": "2022-01-30T14:50:04.267Z"
   }
  ],
  "colab": {
   "collapsed_sections": [
    "E0vqbgi9ay0H",
    "VUC88oWjTJw2"
   ],
   "name": "yandex_music_project_2021.2.ipynb",
   "provenance": []
  },
  "kernelspec": {
   "display_name": "Python 3 (ipykernel)",
   "language": "python",
   "name": "python3"
  },
  "language_info": {
   "codemirror_mode": {
    "name": "ipython",
    "version": 3
   },
   "file_extension": ".py",
   "mimetype": "text/x-python",
   "name": "python",
   "nbconvert_exporter": "python",
   "pygments_lexer": "ipython3",
   "version": "3.9.5"
  },
  "toc": {
   "base_numbering": 1,
   "nav_menu": {},
   "number_sections": true,
   "sideBar": true,
   "skip_h1_title": true,
   "title_cell": "Table of Contents",
   "title_sidebar": "Contents",
   "toc_cell": false,
   "toc_position": {
    "height": "calc(100% - 180px)",
    "left": "10px",
    "top": "150px",
    "width": "165px"
   },
   "toc_section_display": true,
   "toc_window_display": true
  }
 },
 "nbformat": 4,
 "nbformat_minor": 1
}
