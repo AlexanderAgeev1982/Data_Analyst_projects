{
 "cells": [
  {
   "cell_type": "markdown",
   "metadata": {},
   "source": [
    "**Александр, привет!**\n",
    "\n",
    "Меня зовут Артемьева Саша, я буду проверять твой проект. Приятно познакомиться, хоть и заочно:)\n",
    "    \n",
    "Предлагаю общаться на «ты» :) Но если это не удобно - дай знать, и мы перейдем на \"вы\". \n",
    "\n",
    "Моя основная цель — не указать на совершенные тобою ошибки, а поделиться своим опытом и помочь тебе стать аналитиком данных. Ты уже проделал большую работу над проектом, но давай сделаем его еще лучше. Ниже ты найдешь мои комментарии - пожалуйста, не перемещай, не изменяй и не удаляй их. Я буду использовать цветовую разметку:\n",
    "\n",
    "<div class=\"alert alert-danger\">\n",
    "<b>❌ Комментарий ревьюера:</b> Так выделены самые важные замечания. Без их отработки проект не будет принят. </div>\n",
    "\n",
    "<div class=\"alert alert-warning\">\n",
    "<b>⚠️ Комментарий ревьюера:</b> Так выделены небольшие замечания. Одно-два таких замечания в проекте допустимы, но если их будет больше - тебе будет необходимо внести исправления. Это как тестовое задание при приеме на работу: очень много мелких ошибок могут стать причиной отказа кандидату. \n",
    "\n",
    "</div>\n",
    "\n",
    "<div class=\"alert alert-success\">\n",
    "<b>✔️ Комментарий ревьюера:</b> Так я выделяю все остальные комментарии.</div>\n",
    "\n",
    "Давай работать над проектом в диалоге: если ты что-то меняешь в проекте или отвечаешь на мои комменатри — пиши об этом. Мне будет легче отследить изменения, если ты выделишь свои комментарии:\n",
    "<div class=\"alert alert-info\"> <b>Комментарий студента:</b> Например, вот так.</div>\n",
    "\n",
    "Всё это поможет выполнить повторную проверку твоего проекта оперативнее. "
   ]
  },
  {
   "cell_type": "markdown",
   "metadata": {},
   "source": [
    "# Цель проекта: Необходимо сделать предварительный анализ тарифов \"Смарт\" и \"Ультра\" на небольшой выборке клиентов, чтобы скорректировать рекламный бюджет, коммерческий департамент хочет понять, какой тариф приносит больше денег. "
   ]
  },
  {
   "cell_type": "markdown",
   "metadata": {},
   "source": [
    "# Примечания к основным условиям: «Мегалайн» всегда округляет секунды до минут, а мегабайты — до гигабайт. "
   ]
  },
  {
   "cell_type": "code",
   "execution_count": 14,
   "metadata": {},
   "outputs": [],
   "source": [
    "import pandas as pd\n",
    "import numpy as np\n",
    "import matplotlib.pyplot as plt\n",
    "df_calls = pd.read_csv('/datasets/calls.csv')\n",
    "df_internet = pd.read_csv('/datasets/internet.csv')\n",
    "df_messages = pd.read_csv('/datasets/messages.csv')\n",
    "df_tariffs = pd.read_csv('/datasets/tariffs.csv')\n",
    "df_users = pd.read_csv('/datasets/users.csv')\n"
   ]
  },
  {
   "cell_type": "markdown",
   "metadata": {},
   "source": [
    "<div class=\"alert alert-warning\">\n",
    "<b>⚠️ Комментарий ревьюера:</b> В начале работы всегда очень важно писать цель, а также важные пункты, на которые стоит обращать внимание. К примеру, «Мегалайн» всегда округляет секунды до минут, а мегабайты — до гигабайт"
   ]
  },
  {
   "cell_type": "markdown",
   "metadata": {},
   "source": [
    "<div class=\"alert alert-info\"> <b>Комментарий студента:</b> написал цель проекта и важные пункты, требующие внимания.</div>"
   ]
  },
  {
   "cell_type": "markdown",
   "metadata": {},
   "source": [
    "<div class=\"alert alert-success\">\n",
    "<b>✔️ Комментарий ревьюера V2:</b> Отлично! Не забывай про это в будущих работах"
   ]
  },
  {
   "cell_type": "markdown",
   "metadata": {},
   "source": [
    "<div class=\"alert alert-danger\">\n",
    "<b>❌ Комментарий ревьюера:</b> Также в начале работы очень важно изучить каждый датафрейм: проверить его на пропуски, выбросы и дубли, построить распределение данных. Давай сделаем это"
   ]
  },
  {
   "cell_type": "markdown",
   "metadata": {},
   "source": [
    "<div class=\"alert alert-info\"> <b>Комментарий студента:</b> Ниже изучил DF на предмет пропусков, дубликатов и выбросов. Построил распределения.</div>"
   ]
  },
  {
   "cell_type": "markdown",
   "metadata": {},
   "source": [
    "# df-calls на предмет пропусков, дубликатов и выборосов"
   ]
  },
  {
   "cell_type": "code",
   "execution_count": 15,
   "metadata": {},
   "outputs": [
    {
     "data": {
      "text/html": [
       "<div>\n",
       "<style scoped>\n",
       "    .dataframe tbody tr th:only-of-type {\n",
       "        vertical-align: middle;\n",
       "    }\n",
       "\n",
       "    .dataframe tbody tr th {\n",
       "        vertical-align: top;\n",
       "    }\n",
       "\n",
       "    .dataframe thead th {\n",
       "        text-align: right;\n",
       "    }\n",
       "</style>\n",
       "<table border=\"1\" class=\"dataframe\">\n",
       "  <thead>\n",
       "    <tr style=\"text-align: right;\">\n",
       "      <th></th>\n",
       "      <th>id</th>\n",
       "      <th>call_date</th>\n",
       "      <th>duration</th>\n",
       "      <th>user_id</th>\n",
       "    </tr>\n",
       "  </thead>\n",
       "  <tbody>\n",
       "    <tr>\n",
       "      <td>0</td>\n",
       "      <td>1000_0</td>\n",
       "      <td>2018-07-25</td>\n",
       "      <td>0.00</td>\n",
       "      <td>1000</td>\n",
       "    </tr>\n",
       "    <tr>\n",
       "      <td>1</td>\n",
       "      <td>1000_1</td>\n",
       "      <td>2018-08-17</td>\n",
       "      <td>0.00</td>\n",
       "      <td>1000</td>\n",
       "    </tr>\n",
       "    <tr>\n",
       "      <td>2</td>\n",
       "      <td>1000_2</td>\n",
       "      <td>2018-06-11</td>\n",
       "      <td>2.85</td>\n",
       "      <td>1000</td>\n",
       "    </tr>\n",
       "    <tr>\n",
       "      <td>3</td>\n",
       "      <td>1000_3</td>\n",
       "      <td>2018-09-21</td>\n",
       "      <td>13.80</td>\n",
       "      <td>1000</td>\n",
       "    </tr>\n",
       "    <tr>\n",
       "      <td>4</td>\n",
       "      <td>1000_4</td>\n",
       "      <td>2018-12-15</td>\n",
       "      <td>5.18</td>\n",
       "      <td>1000</td>\n",
       "    </tr>\n",
       "    <tr>\n",
       "      <td>5</td>\n",
       "      <td>1000_5</td>\n",
       "      <td>2018-11-02</td>\n",
       "      <td>0.00</td>\n",
       "      <td>1000</td>\n",
       "    </tr>\n",
       "    <tr>\n",
       "      <td>6</td>\n",
       "      <td>1000_6</td>\n",
       "      <td>2018-10-18</td>\n",
       "      <td>0.00</td>\n",
       "      <td>1000</td>\n",
       "    </tr>\n",
       "    <tr>\n",
       "      <td>7</td>\n",
       "      <td>1000_7</td>\n",
       "      <td>2018-08-22</td>\n",
       "      <td>18.31</td>\n",
       "      <td>1000</td>\n",
       "    </tr>\n",
       "    <tr>\n",
       "      <td>8</td>\n",
       "      <td>1000_8</td>\n",
       "      <td>2018-09-15</td>\n",
       "      <td>18.44</td>\n",
       "      <td>1000</td>\n",
       "    </tr>\n",
       "    <tr>\n",
       "      <td>9</td>\n",
       "      <td>1000_9</td>\n",
       "      <td>2018-08-15</td>\n",
       "      <td>0.00</td>\n",
       "      <td>1000</td>\n",
       "    </tr>\n",
       "  </tbody>\n",
       "</table>\n",
       "</div>"
      ],
      "text/plain": [
       "       id   call_date  duration  user_id\n",
       "0  1000_0  2018-07-25      0.00     1000\n",
       "1  1000_1  2018-08-17      0.00     1000\n",
       "2  1000_2  2018-06-11      2.85     1000\n",
       "3  1000_3  2018-09-21     13.80     1000\n",
       "4  1000_4  2018-12-15      5.18     1000\n",
       "5  1000_5  2018-11-02      0.00     1000\n",
       "6  1000_6  2018-10-18      0.00     1000\n",
       "7  1000_7  2018-08-22     18.31     1000\n",
       "8  1000_8  2018-09-15     18.44     1000\n",
       "9  1000_9  2018-08-15      0.00     1000"
      ]
     },
     "execution_count": 15,
     "metadata": {},
     "output_type": "execute_result"
    }
   ],
   "source": [
    "df_calls.head(10)"
   ]
  },
  {
   "cell_type": "code",
   "execution_count": 16,
   "metadata": {},
   "outputs": [
    {
     "name": "stdout",
     "output_type": "stream",
     "text": [
      "<class 'pandas.core.frame.DataFrame'>\n",
      "RangeIndex: 202607 entries, 0 to 202606\n",
      "Data columns (total 4 columns):\n",
      "id           202607 non-null object\n",
      "call_date    202607 non-null object\n",
      "duration     202607 non-null float64\n",
      "user_id      202607 non-null int64\n",
      "dtypes: float64(1), int64(1), object(2)\n",
      "memory usage: 6.2+ MB\n",
      "id           0\n",
      "call_date    0\n",
      "duration     0\n",
      "user_id      0\n",
      "dtype: int64\n"
     ]
    },
    {
     "data": {
      "text/plain": [
       "0"
      ]
     },
     "execution_count": 16,
     "metadata": {},
     "output_type": "execute_result"
    }
   ],
   "source": [
    "df_calls.info()\n",
    "#df_calls.isna().mean()\n",
    "print(df_calls.isna().sum()) # пропусков нет\n",
    "df_calls.duplicated().sum() # дубликатов нет\n",
    "#df_calls = df_calls.drop_duplicates()"
   ]
  },
  {
   "cell_type": "code",
   "execution_count": 17,
   "metadata": {},
   "outputs": [
    {
     "data": {
      "text/plain": [
       "count    202607.000000\n",
       "mean          6.755887\n",
       "std           5.843365\n",
       "min           0.000000\n",
       "25%           1.300000\n",
       "50%           6.000000\n",
       "75%          10.700000\n",
       "max          38.000000\n",
       "Name: duration, dtype: float64"
      ]
     },
     "execution_count": 17,
     "metadata": {},
     "output_type": "execute_result"
    }
   ],
   "source": [
    "df_calls['duration'].describe()"
   ]
  },
  {
   "cell_type": "code",
   "execution_count": 18,
   "metadata": {
    "scrolled": false
   },
   "outputs": [
    {
     "data": {
      "text/plain": [
       "<matplotlib.axes._subplots.AxesSubplot at 0x7f56af45b850>"
      ]
     },
     "execution_count": 18,
     "metadata": {},
     "output_type": "execute_result"
    },
    {
     "data": {
      "image/png": "[encoded data removed]",
      "text/plain": [
       "<Figure size 432x288 with 1 Axes>"
      ]
     },
     "metadata": {
      "needs_background": "light"
     },
     "output_type": "display_data"
    }
   ],
   "source": [
    "df_calls['duration'].hist(bins=50, range = (0, 50)) # распределение показывает длительность звонка 0.0 более 40 000 раз.\n",
    "# по условию проекта - нулями обозначены пропущенные звонки, поэтому их не нужно удалять."
   ]
  },
  {
   "cell_type": "markdown",
   "metadata": {},
   "source": [
    "<div class=\"alert alert-success\">\n",
    "<b>✔️ Комментарий ревьюера V2:</b> Верно"
   ]
  },
  {
   "cell_type": "markdown",
   "metadata": {},
   "source": [
    "# df-internet на предмет пропусков, дубликатов и выборосов"
   ]
  },
  {
   "cell_type": "code",
   "execution_count": 19,
   "metadata": {},
   "outputs": [
    {
     "data": {
      "text/html": [
       "<div>\n",
       "<style scoped>\n",
       "    .dataframe tbody tr th:only-of-type {\n",
       "        vertical-align: middle;\n",
       "    }\n",
       "\n",
       "    .dataframe tbody tr th {\n",
       "        vertical-align: top;\n",
       "    }\n",
       "\n",
       "    .dataframe thead th {\n",
       "        text-align: right;\n",
       "    }\n",
       "</style>\n",
       "<table border=\"1\" class=\"dataframe\">\n",
       "  <thead>\n",
       "    <tr style=\"text-align: right;\">\n",
       "      <th></th>\n",
       "      <th>Unnamed: 0</th>\n",
       "      <th>id</th>\n",
       "      <th>mb_used</th>\n",
       "      <th>session_date</th>\n",
       "      <th>user_id</th>\n",
       "    </tr>\n",
       "  </thead>\n",
       "  <tbody>\n",
       "    <tr>\n",
       "      <td>0</td>\n",
       "      <td>0</td>\n",
       "      <td>1000_0</td>\n",
       "      <td>112.95</td>\n",
       "      <td>2018-11-25</td>\n",
       "      <td>1000</td>\n",
       "    </tr>\n",
       "    <tr>\n",
       "      <td>1</td>\n",
       "      <td>1</td>\n",
       "      <td>1000_1</td>\n",
       "      <td>1052.81</td>\n",
       "      <td>2018-09-07</td>\n",
       "      <td>1000</td>\n",
       "    </tr>\n",
       "    <tr>\n",
       "      <td>2</td>\n",
       "      <td>2</td>\n",
       "      <td>1000_2</td>\n",
       "      <td>1197.26</td>\n",
       "      <td>2018-06-25</td>\n",
       "      <td>1000</td>\n",
       "    </tr>\n",
       "    <tr>\n",
       "      <td>3</td>\n",
       "      <td>3</td>\n",
       "      <td>1000_3</td>\n",
       "      <td>550.27</td>\n",
       "      <td>2018-08-22</td>\n",
       "      <td>1000</td>\n",
       "    </tr>\n",
       "    <tr>\n",
       "      <td>4</td>\n",
       "      <td>4</td>\n",
       "      <td>1000_4</td>\n",
       "      <td>302.56</td>\n",
       "      <td>2018-09-24</td>\n",
       "      <td>1000</td>\n",
       "    </tr>\n",
       "    <tr>\n",
       "      <td>5</td>\n",
       "      <td>5</td>\n",
       "      <td>1000_5</td>\n",
       "      <td>399.97</td>\n",
       "      <td>2018-10-02</td>\n",
       "      <td>1000</td>\n",
       "    </tr>\n",
       "    <tr>\n",
       "      <td>6</td>\n",
       "      <td>6</td>\n",
       "      <td>1000_6</td>\n",
       "      <td>540.08</td>\n",
       "      <td>2018-09-07</td>\n",
       "      <td>1000</td>\n",
       "    </tr>\n",
       "    <tr>\n",
       "      <td>7</td>\n",
       "      <td>7</td>\n",
       "      <td>1000_7</td>\n",
       "      <td>415.70</td>\n",
       "      <td>2018-07-11</td>\n",
       "      <td>1000</td>\n",
       "    </tr>\n",
       "    <tr>\n",
       "      <td>8</td>\n",
       "      <td>8</td>\n",
       "      <td>1000_8</td>\n",
       "      <td>505.40</td>\n",
       "      <td>2018-10-08</td>\n",
       "      <td>1000</td>\n",
       "    </tr>\n",
       "    <tr>\n",
       "      <td>9</td>\n",
       "      <td>9</td>\n",
       "      <td>1000_9</td>\n",
       "      <td>345.54</td>\n",
       "      <td>2018-09-03</td>\n",
       "      <td>1000</td>\n",
       "    </tr>\n",
       "  </tbody>\n",
       "</table>\n",
       "</div>"
      ],
      "text/plain": [
       "   Unnamed: 0      id  mb_used session_date  user_id\n",
       "0           0  1000_0   112.95   2018-11-25     1000\n",
       "1           1  1000_1  1052.81   2018-09-07     1000\n",
       "2           2  1000_2  1197.26   2018-06-25     1000\n",
       "3           3  1000_3   550.27   2018-08-22     1000\n",
       "4           4  1000_4   302.56   2018-09-24     1000\n",
       "5           5  1000_5   399.97   2018-10-02     1000\n",
       "6           6  1000_6   540.08   2018-09-07     1000\n",
       "7           7  1000_7   415.70   2018-07-11     1000\n",
       "8           8  1000_8   505.40   2018-10-08     1000\n",
       "9           9  1000_9   345.54   2018-09-03     1000"
      ]
     },
     "execution_count": 19,
     "metadata": {},
     "output_type": "execute_result"
    }
   ],
   "source": [
    "df_internet.head(10)"
   ]
  },
  {
   "cell_type": "code",
   "execution_count": 20,
   "metadata": {},
   "outputs": [
    {
     "name": "stdout",
     "output_type": "stream",
     "text": [
      "<class 'pandas.core.frame.DataFrame'>\n",
      "RangeIndex: 149396 entries, 0 to 149395\n",
      "Data columns (total 5 columns):\n",
      "Unnamed: 0      149396 non-null int64\n",
      "id              149396 non-null object\n",
      "mb_used         149396 non-null float64\n",
      "session_date    149396 non-null object\n",
      "user_id         149396 non-null int64\n",
      "dtypes: float64(1), int64(2), object(2)\n",
      "memory usage: 5.7+ MB\n",
      "Unnamed: 0      0\n",
      "id              0\n",
      "mb_used         0\n",
      "session_date    0\n",
      "user_id         0\n",
      "dtype: int64\n"
     ]
    },
    {
     "data": {
      "text/plain": [
       "0"
      ]
     },
     "execution_count": 20,
     "metadata": {},
     "output_type": "execute_result"
    }
   ],
   "source": [
    "df_internet.info()\n",
    "#df_internet.isna().mean()\n",
    "print(df_internet.isna().sum()) # пропусков нет\n",
    "df_internet.duplicated().sum() # дубликатов нет\n",
    "#df_internet = df_calls.drop_duplicates()"
   ]
  },
  {
   "cell_type": "code",
   "execution_count": 21,
   "metadata": {},
   "outputs": [
    {
     "data": {
      "text/plain": [
       "count    149396.000000\n",
       "mean        370.192426\n",
       "std         278.300951\n",
       "min           0.000000\n",
       "25%         138.187500\n",
       "50%         348.015000\n",
       "75%         559.552500\n",
       "max        1724.830000\n",
       "Name: mb_used, dtype: float64"
      ]
     },
     "execution_count": 21,
     "metadata": {},
     "output_type": "execute_result"
    }
   ],
   "source": [
    "df_internet['mb_used'].describe()"
   ]
  },
  {
   "cell_type": "code",
   "execution_count": 22,
   "metadata": {
    "scrolled": false
   },
   "outputs": [
    {
     "data": {
      "text/plain": [
       "<matplotlib.axes._subplots.AxesSubplot at 0x7f56b1f43bd0>"
      ]
     },
     "execution_count": 22,
     "metadata": {},
     "output_type": "execute_result"
    },
    {
     "data": {
      "image/png": "[encoded data removed]",
      "text/plain": [
       "<Figure size 432x288 with 1 Axes>"
      ]
     },
     "metadata": {
      "needs_background": "light"
     },
     "output_type": "display_data"
    }
   ],
   "source": [
    "df_internet['mb_used'].hist(bins=50, range = (0, 1800)) # похожее на распределение звонков и показывает длительность сессии 0.0 более 20 000 раз.\n",
    "# как и пропущенные звонки нулевые и-нет сессии мы удалять не будем"
   ]
  },
  {
   "cell_type": "markdown",
   "metadata": {},
   "source": [
    "# df_messages на предмет пропусков, дубликатов и выборосов"
   ]
  },
  {
   "cell_type": "code",
   "execution_count": null,
   "metadata": {},
   "outputs": [],
   "source": []
  },
  {
   "cell_type": "code",
   "execution_count": 23,
   "metadata": {},
   "outputs": [
    {
     "name": "stdout",
     "output_type": "stream",
     "text": [
      "<class 'pandas.core.frame.DataFrame'>\n",
      "RangeIndex: 123036 entries, 0 to 123035\n",
      "Data columns (total 3 columns):\n",
      "id              123036 non-null object\n",
      "message_date    123036 non-null object\n",
      "user_id         123036 non-null int64\n",
      "dtypes: int64(1), object(2)\n",
      "memory usage: 2.8+ MB\n",
      "id              0\n",
      "message_date    0\n",
      "user_id         0\n",
      "dtype: int64\n"
     ]
    },
    {
     "data": {
      "text/plain": [
       "0"
      ]
     },
     "execution_count": 23,
     "metadata": {},
     "output_type": "execute_result"
    }
   ],
   "source": [
    "df_messages.info()\n",
    "#df_messages.isna().mean()\n",
    "print(df_messages.isna().sum()) # пропусков нет\n",
    "df_messages.duplicated().sum() # дубликатов нет\n",
    "#df_messages = df_messages.drop_duplicates()"
   ]
  },
  {
   "cell_type": "code",
   "execution_count": 24,
   "metadata": {},
   "outputs": [
    {
     "data": {
      "text/plain": [
       "count    2717.000000\n",
       "mean       45.283769\n",
       "std        35.051363\n",
       "min         1.000000\n",
       "25%        19.000000\n",
       "50%        38.000000\n",
       "75%        63.000000\n",
       "max       224.000000\n",
       "Name: message_date, dtype: float64"
      ]
     },
     "execution_count": 24,
     "metadata": {},
     "output_type": "execute_result"
    }
   ],
   "source": [
    "df_messages['month'] = pd.DatetimeIndex(df_messages['message_date']).month\n",
    "i_messages = df_messages.groupby(['user_id', 'month']).count()\n",
    "i_messages['message_date'].describe()"
   ]
  },
  {
   "cell_type": "code",
   "execution_count": 25,
   "metadata": {
    "scrolled": true
   },
   "outputs": [
    {
     "data": {
      "text/plain": [
       "<matplotlib.axes._subplots.AxesSubplot at 0x7f56b1405d10>"
      ]
     },
     "execution_count": 25,
     "metadata": {},
     "output_type": "execute_result"
    },
    {
     "data": {
      "image/png": "[encoded data removed]",
      "text/plain": [
       "<Figure size 432x288 with 1 Axes>"
      ]
     },
     "metadata": {
      "needs_background": "light"
     },
     "output_type": "display_data"
    }
   ],
   "source": [
    "i_messages['message_date'].hist(bins=50, range = (0, 250)) # распределение показывает обычное среднестатистическое использование\n",
    "#SMS сервисом от минимум 1 смс до 224 как максимум."
   ]
  },
  {
   "cell_type": "code",
   "execution_count": 26,
   "metadata": {},
   "outputs": [
    {
     "name": "stdout",
     "output_type": "stream",
     "text": [
      "<class 'pandas.core.frame.DataFrame'>\n",
      "RangeIndex: 500 entries, 0 to 499\n",
      "Data columns (total 8 columns):\n",
      "user_id       500 non-null int64\n",
      "age           500 non-null int64\n",
      "churn_date    38 non-null object\n",
      "city          500 non-null object\n",
      "first_name    500 non-null object\n",
      "last_name     500 non-null object\n",
      "reg_date      500 non-null object\n",
      "tariff        500 non-null object\n",
      "dtypes: int64(2), object(6)\n",
      "memory usage: 31.4+ KB\n",
      "user_id       0\n",
      "age           0\n",
      "churn_date    0\n",
      "city          0\n",
      "first_name    0\n",
      "last_name     0\n",
      "reg_date      0\n",
      "tariff        0\n",
      "dtype: int64\n"
     ]
    }
   ],
   "source": [
    "df_users.info()\n",
    "#print(df_users.isna().sum()) # 462 пропуска в столбце 'churn_date'\n",
    "df_users.duplicated().sum() # дубликатов нет\n",
    "df_users['churn_date'] = df_users['churn_date'].fillna(0) # заменили пропуски на 0\n",
    "print(df_users.isna().sum())\n",
    "# делать распределения нет смысла, так как выбросы определятьлучше по видам услуг, а их здесь нет"
   ]
  },
  {
   "cell_type": "markdown",
   "metadata": {},
   "source": [
    "<div class=\"alert alert-warning\">\n",
    "<b>⚠️ Комментарий ревьюера:</b> Очень важно делать небольшие выводы к каждому разделу. Они формируют общий вывод к работе"
   ]
  },
  {
   "cell_type": "markdown",
   "metadata": {},
   "source": [
    "<div class=\"alert alert-success\">\n",
    "<b>✔️ Комментарий ревьюера V2:</b> Все так"
   ]
  },
  {
   "cell_type": "code",
   "execution_count": null,
   "metadata": {},
   "outputs": [],
   "source": []
  },
  {
   "cell_type": "markdown",
   "metadata": {},
   "source": [
    "# Группируем данные data set 'calls'"
   ]
  },
  {
   "cell_type": "code",
   "execution_count": 27,
   "metadata": {
    "scrolled": true
   },
   "outputs": [
    {
     "data": {
      "text/html": [
       "<div>\n",
       "<style scoped>\n",
       "    .dataframe tbody tr th:only-of-type {\n",
       "        vertical-align: middle;\n",
       "    }\n",
       "\n",
       "    .dataframe tbody tr th {\n",
       "        vertical-align: top;\n",
       "    }\n",
       "\n",
       "    .dataframe thead th {\n",
       "        text-align: right;\n",
       "    }\n",
       "</style>\n",
       "<table border=\"1\" class=\"dataframe\">\n",
       "  <thead>\n",
       "    <tr style=\"text-align: right;\">\n",
       "      <th></th>\n",
       "      <th></th>\n",
       "      <th>duration</th>\n",
       "    </tr>\n",
       "    <tr>\n",
       "      <th>user_id</th>\n",
       "      <th>month</th>\n",
       "      <th></th>\n",
       "    </tr>\n",
       "  </thead>\n",
       "  <tbody>\n",
       "    <tr>\n",
       "      <td rowspan=\"5\" valign=\"top\">1000</td>\n",
       "      <td>5</td>\n",
       "      <td>150.06</td>\n",
       "    </tr>\n",
       "    <tr>\n",
       "      <td>6</td>\n",
       "      <td>158.90</td>\n",
       "    </tr>\n",
       "    <tr>\n",
       "      <td>7</td>\n",
       "      <td>318.80</td>\n",
       "    </tr>\n",
       "    <tr>\n",
       "      <td>8</td>\n",
       "      <td>389.87</td>\n",
       "    </tr>\n",
       "    <tr>\n",
       "      <td>9</td>\n",
       "      <td>440.14</td>\n",
       "    </tr>\n",
       "    <tr>\n",
       "      <td>...</td>\n",
       "      <td>...</td>\n",
       "      <td>...</td>\n",
       "    </tr>\n",
       "    <tr>\n",
       "      <td>1498</td>\n",
       "      <td>10</td>\n",
       "      <td>232.63</td>\n",
       "    </tr>\n",
       "    <tr>\n",
       "      <td rowspan=\"4\" valign=\"top\">1499</td>\n",
       "      <td>9</td>\n",
       "      <td>64.65</td>\n",
       "    </tr>\n",
       "    <tr>\n",
       "      <td>10</td>\n",
       "      <td>429.91</td>\n",
       "    </tr>\n",
       "    <tr>\n",
       "      <td>11</td>\n",
       "      <td>576.50</td>\n",
       "    </tr>\n",
       "    <tr>\n",
       "      <td>12</td>\n",
       "      <td>465.16</td>\n",
       "    </tr>\n",
       "  </tbody>\n",
       "</table>\n",
       "<p>3174 rows × 1 columns</p>\n",
       "</div>"
      ],
      "text/plain": [
       "               duration\n",
       "user_id month          \n",
       "1000    5        150.06\n",
       "        6        158.90\n",
       "        7        318.80\n",
       "        8        389.87\n",
       "        9        440.14\n",
       "...                 ...\n",
       "1498    10       232.63\n",
       "1499    9         64.65\n",
       "        10       429.91\n",
       "        11       576.50\n",
       "        12       465.16\n",
       "\n",
       "[3174 rows x 1 columns]"
      ]
     },
     "execution_count": 27,
     "metadata": {},
     "output_type": "execute_result"
    }
   ],
   "source": [
    "#df_calls.info()\n",
    "df_calls['month'] = pd.DatetimeIndex(df_calls['call_date']).month # выбираем из формата \"даты\" отдельно \"месяц\"\n",
    "df_calls.groupby(['user_id', 'month']).sum()\n",
    "\n"
   ]
  },
  {
   "cell_type": "markdown",
   "metadata": {},
   "source": [
    "# Вывод"
   ]
  },
  {
   "cell_type": "markdown",
   "metadata": {},
   "source": [
    "после группировки становится понятно в какой именно месяц какой объем минут тратит конкретный абонент"
   ]
  },
  {
   "cell_type": "markdown",
   "metadata": {},
   "source": [
    "# Группируем данные data set 'internet'"
   ]
  },
  {
   "cell_type": "code",
   "execution_count": 28,
   "metadata": {},
   "outputs": [
    {
     "data": {
      "text/html": [
       "<div>\n",
       "<style scoped>\n",
       "    .dataframe tbody tr th:only-of-type {\n",
       "        vertical-align: middle;\n",
       "    }\n",
       "\n",
       "    .dataframe tbody tr th {\n",
       "        vertical-align: top;\n",
       "    }\n",
       "\n",
       "    .dataframe thead th {\n",
       "        text-align: right;\n",
       "    }\n",
       "</style>\n",
       "<table border=\"1\" class=\"dataframe\">\n",
       "  <thead>\n",
       "    <tr style=\"text-align: right;\">\n",
       "      <th></th>\n",
       "      <th></th>\n",
       "      <th>Unnamed: 0</th>\n",
       "      <th>mb_used</th>\n",
       "    </tr>\n",
       "    <tr>\n",
       "      <th>user_id</th>\n",
       "      <th>month</th>\n",
       "      <th></th>\n",
       "      <th></th>\n",
       "    </tr>\n",
       "  </thead>\n",
       "  <tbody>\n",
       "    <tr>\n",
       "      <td rowspan=\"5\" valign=\"top\">1000</td>\n",
       "      <td>5</td>\n",
       "      <td>443</td>\n",
       "      <td>2253.49</td>\n",
       "    </tr>\n",
       "    <tr>\n",
       "      <td>6</td>\n",
       "      <td>5536</td>\n",
       "      <td>23233.77</td>\n",
       "    </tr>\n",
       "    <tr>\n",
       "      <td>7</td>\n",
       "      <td>3504</td>\n",
       "      <td>14003.64</td>\n",
       "    </tr>\n",
       "    <tr>\n",
       "      <td>8</td>\n",
       "      <td>2977</td>\n",
       "      <td>14055.93</td>\n",
       "    </tr>\n",
       "    <tr>\n",
       "      <td>9</td>\n",
       "      <td>2746</td>\n",
       "      <td>14568.91</td>\n",
       "    </tr>\n",
       "    <tr>\n",
       "      <td>...</td>\n",
       "      <td>...</td>\n",
       "      <td>...</td>\n",
       "      <td>...</td>\n",
       "    </tr>\n",
       "    <tr>\n",
       "      <td>1498</td>\n",
       "      <td>10</td>\n",
       "      <td>8798268</td>\n",
       "      <td>20579.36</td>\n",
       "    </tr>\n",
       "    <tr>\n",
       "      <td rowspan=\"4\" valign=\"top\">1499</td>\n",
       "      <td>9</td>\n",
       "      <td>746608</td>\n",
       "      <td>1845.75</td>\n",
       "    </tr>\n",
       "    <tr>\n",
       "      <td>10</td>\n",
       "      <td>8660473</td>\n",
       "      <td>17788.51</td>\n",
       "    </tr>\n",
       "    <tr>\n",
       "      <td>11</td>\n",
       "      <td>7316606</td>\n",
       "      <td>17963.31</td>\n",
       "    </tr>\n",
       "    <tr>\n",
       "      <td>12</td>\n",
       "      <td>6719082</td>\n",
       "      <td>13055.58</td>\n",
       "    </tr>\n",
       "  </tbody>\n",
       "</table>\n",
       "<p>3203 rows × 2 columns</p>\n",
       "</div>"
      ],
      "text/plain": [
       "               Unnamed: 0   mb_used\n",
       "user_id month                      \n",
       "1000    5             443   2253.49\n",
       "        6            5536  23233.77\n",
       "        7            3504  14003.64\n",
       "        8            2977  14055.93\n",
       "        9            2746  14568.91\n",
       "...                   ...       ...\n",
       "1498    10        8798268  20579.36\n",
       "1499    9          746608   1845.75\n",
       "        10        8660473  17788.51\n",
       "        11        7316606  17963.31\n",
       "        12        6719082  13055.58\n",
       "\n",
       "[3203 rows x 2 columns]"
      ]
     },
     "execution_count": 28,
     "metadata": {},
     "output_type": "execute_result"
    }
   ],
   "source": [
    "#df_internet.info()\n",
    "df_internet['month'] = pd.DatetimeIndex(df_internet['session_date']).month\n",
    "df_internet.groupby(['user_id', 'month']).sum()\n",
    "\n"
   ]
  },
  {
   "cell_type": "markdown",
   "metadata": {},
   "source": [
    "# вывод"
   ]
  },
  {
   "cell_type": "markdown",
   "metadata": {},
   "source": [
    "по той же схеме выясняем подбробности потребления и-нет траффка каждым абонентом. При этом видим не очень нужный столбец \"Unnamed\", который мы исключим при объединении data frames"
   ]
  },
  {
   "cell_type": "markdown",
   "metadata": {},
   "source": [
    "<div class=\"alert alert-warning\">\n",
    "<b>⚠️ Комментарий ревьюера:</b> Unnamed: 0 возникает, когда данные сохраняют с указанием индекса pd.DataFrame().to_csv(..., index=column). Если при чтении указать этот столбец pd.read_csv(..., index_col=0) - данные сразу прочитаются корректно."
   ]
  },
  {
   "cell_type": "code",
   "execution_count": 29,
   "metadata": {},
   "outputs": [
    {
     "data": {
      "text/html": [
       "<div>\n",
       "<style scoped>\n",
       "    .dataframe tbody tr th:only-of-type {\n",
       "        vertical-align: middle;\n",
       "    }\n",
       "\n",
       "    .dataframe tbody tr th {\n",
       "        vertical-align: top;\n",
       "    }\n",
       "\n",
       "    .dataframe thead th {\n",
       "        text-align: right;\n",
       "    }\n",
       "</style>\n",
       "<table border=\"1\" class=\"dataframe\">\n",
       "  <thead>\n",
       "    <tr style=\"text-align: right;\">\n",
       "      <th></th>\n",
       "      <th>user_id</th>\n",
       "      <th>month</th>\n",
       "      <th>duration</th>\n",
       "      <th>mb_used</th>\n",
       "    </tr>\n",
       "  </thead>\n",
       "  <tbody>\n",
       "    <tr>\n",
       "      <td>0</td>\n",
       "      <td>1000</td>\n",
       "      <td>7</td>\n",
       "      <td>0.00</td>\n",
       "      <td>415.70</td>\n",
       "    </tr>\n",
       "    <tr>\n",
       "      <td>1</td>\n",
       "      <td>1000</td>\n",
       "      <td>7</td>\n",
       "      <td>0.00</td>\n",
       "      <td>337.71</td>\n",
       "    </tr>\n",
       "    <tr>\n",
       "      <td>2</td>\n",
       "      <td>1000</td>\n",
       "      <td>7</td>\n",
       "      <td>0.00</td>\n",
       "      <td>723.38</td>\n",
       "    </tr>\n",
       "    <tr>\n",
       "      <td>3</td>\n",
       "      <td>1000</td>\n",
       "      <td>7</td>\n",
       "      <td>0.00</td>\n",
       "      <td>558.38</td>\n",
       "    </tr>\n",
       "    <tr>\n",
       "      <td>4</td>\n",
       "      <td>1000</td>\n",
       "      <td>7</td>\n",
       "      <td>0.00</td>\n",
       "      <td>478.19</td>\n",
       "    </tr>\n",
       "    <tr>\n",
       "      <td>...</td>\n",
       "      <td>...</td>\n",
       "      <td>...</td>\n",
       "      <td>...</td>\n",
       "      <td>...</td>\n",
       "    </tr>\n",
       "    <tr>\n",
       "      <td>9817347</td>\n",
       "      <td>1499</td>\n",
       "      <td>12</td>\n",
       "      <td>19.62</td>\n",
       "      <td>585.26</td>\n",
       "    </tr>\n",
       "    <tr>\n",
       "      <td>9817348</td>\n",
       "      <td>1499</td>\n",
       "      <td>12</td>\n",
       "      <td>19.62</td>\n",
       "      <td>26.11</td>\n",
       "    </tr>\n",
       "    <tr>\n",
       "      <td>9817349</td>\n",
       "      <td>1499</td>\n",
       "      <td>12</td>\n",
       "      <td>19.62</td>\n",
       "      <td>0.00</td>\n",
       "    </tr>\n",
       "    <tr>\n",
       "      <td>9817350</td>\n",
       "      <td>1499</td>\n",
       "      <td>12</td>\n",
       "      <td>19.62</td>\n",
       "      <td>910.19</td>\n",
       "    </tr>\n",
       "    <tr>\n",
       "      <td>9817351</td>\n",
       "      <td>1499</td>\n",
       "      <td>12</td>\n",
       "      <td>19.62</td>\n",
       "      <td>490.13</td>\n",
       "    </tr>\n",
       "  </tbody>\n",
       "</table>\n",
       "<p>9817352 rows × 4 columns</p>\n",
       "</div>"
      ],
      "text/plain": [
       "         user_id  month  duration  mb_used\n",
       "0           1000      7      0.00   415.70\n",
       "1           1000      7      0.00   337.71\n",
       "2           1000      7      0.00   723.38\n",
       "3           1000      7      0.00   558.38\n",
       "4           1000      7      0.00   478.19\n",
       "...          ...    ...       ...      ...\n",
       "9817347     1499     12     19.62   585.26\n",
       "9817348     1499     12     19.62    26.11\n",
       "9817349     1499     12     19.62     0.00\n",
       "9817350     1499     12     19.62   910.19\n",
       "9817351     1499     12     19.62   490.13\n",
       "\n",
       "[9817352 rows x 4 columns]"
      ]
     },
     "execution_count": 29,
     "metadata": {},
     "output_type": "execute_result"
    }
   ],
   "source": [
    "data_1 = df_calls.merge(df_internet, on=['user_id', 'month'], how='left') # объединили первые DF по user_id и month\n",
    "#data_1.head()\n",
    "data_1 = data_1[['user_id', 'month', 'duration', 'mb_used']]\n",
    "data_1"
   ]
  },
  {
   "cell_type": "markdown",
   "metadata": {},
   "source": [
    "# Группируем данные data set 'messages'"
   ]
  },
  {
   "cell_type": "code",
   "execution_count": 30,
   "metadata": {
    "scrolled": true
   },
   "outputs": [
    {
     "name": "stdout",
     "output_type": "stream",
     "text": [
      "<class 'pandas.core.frame.DataFrame'>\n",
      "RangeIndex: 123036 entries, 0 to 123035\n",
      "Data columns (total 4 columns):\n",
      "id              123036 non-null object\n",
      "message_date    123036 non-null object\n",
      "user_id         123036 non-null int64\n",
      "month           123036 non-null int64\n",
      "dtypes: int64(2), object(2)\n",
      "memory usage: 3.8+ MB\n"
     ]
    },
    {
     "data": {
      "text/html": [
       "<div>\n",
       "<style scoped>\n",
       "    .dataframe tbody tr th:only-of-type {\n",
       "        vertical-align: middle;\n",
       "    }\n",
       "\n",
       "    .dataframe tbody tr th {\n",
       "        vertical-align: top;\n",
       "    }\n",
       "\n",
       "    .dataframe thead th {\n",
       "        text-align: right;\n",
       "    }\n",
       "</style>\n",
       "<table border=\"1\" class=\"dataframe\">\n",
       "  <thead>\n",
       "    <tr style=\"text-align: right;\">\n",
       "      <th></th>\n",
       "      <th></th>\n",
       "      <th>id</th>\n",
       "      <th>message_date</th>\n",
       "    </tr>\n",
       "    <tr>\n",
       "      <th>user_id</th>\n",
       "      <th>month</th>\n",
       "      <th></th>\n",
       "      <th></th>\n",
       "    </tr>\n",
       "  </thead>\n",
       "  <tbody>\n",
       "    <tr>\n",
       "      <td rowspan=\"5\" valign=\"top\">1000</td>\n",
       "      <td>5</td>\n",
       "      <td>22</td>\n",
       "      <td>22</td>\n",
       "    </tr>\n",
       "    <tr>\n",
       "      <td>6</td>\n",
       "      <td>60</td>\n",
       "      <td>60</td>\n",
       "    </tr>\n",
       "    <tr>\n",
       "      <td>7</td>\n",
       "      <td>75</td>\n",
       "      <td>75</td>\n",
       "    </tr>\n",
       "    <tr>\n",
       "      <td>8</td>\n",
       "      <td>81</td>\n",
       "      <td>81</td>\n",
       "    </tr>\n",
       "    <tr>\n",
       "      <td>9</td>\n",
       "      <td>57</td>\n",
       "      <td>57</td>\n",
       "    </tr>\n",
       "    <tr>\n",
       "      <td>...</td>\n",
       "      <td>...</td>\n",
       "      <td>...</td>\n",
       "      <td>...</td>\n",
       "    </tr>\n",
       "    <tr>\n",
       "      <td>1498</td>\n",
       "      <td>10</td>\n",
       "      <td>42</td>\n",
       "      <td>42</td>\n",
       "    </tr>\n",
       "    <tr>\n",
       "      <td rowspan=\"4\" valign=\"top\">1499</td>\n",
       "      <td>9</td>\n",
       "      <td>11</td>\n",
       "      <td>11</td>\n",
       "    </tr>\n",
       "    <tr>\n",
       "      <td>10</td>\n",
       "      <td>48</td>\n",
       "      <td>48</td>\n",
       "    </tr>\n",
       "    <tr>\n",
       "      <td>11</td>\n",
       "      <td>59</td>\n",
       "      <td>59</td>\n",
       "    </tr>\n",
       "    <tr>\n",
       "      <td>12</td>\n",
       "      <td>66</td>\n",
       "      <td>66</td>\n",
       "    </tr>\n",
       "  </tbody>\n",
       "</table>\n",
       "<p>2717 rows × 2 columns</p>\n",
       "</div>"
      ],
      "text/plain": [
       "               id  message_date\n",
       "user_id month                  \n",
       "1000    5      22            22\n",
       "        6      60            60\n",
       "        7      75            75\n",
       "        8      81            81\n",
       "        9      57            57\n",
       "...            ..           ...\n",
       "1498    10     42            42\n",
       "1499    9      11            11\n",
       "        10     48            48\n",
       "        11     59            59\n",
       "        12     66            66\n",
       "\n",
       "[2717 rows x 2 columns]"
      ]
     },
     "execution_count": 30,
     "metadata": {},
     "output_type": "execute_result"
    }
   ],
   "source": [
    "df_messages.info()\n",
    "df_messages['month'] = pd.DatetimeIndex(df_messages['message_date']).month\n",
    "df_messages.head()\n",
    "df_messages.groupby(['user_id', 'month']).count()"
   ]
  },
  {
   "cell_type": "code",
   "execution_count": null,
   "metadata": {},
   "outputs": [],
   "source": []
  },
  {
   "cell_type": "markdown",
   "metadata": {},
   "source": [
    "# Предобработка DF tariffs"
   ]
  },
  {
   "cell_type": "code",
   "execution_count": 31,
   "metadata": {
    "scrolled": true
   },
   "outputs": [
    {
     "name": "stdout",
     "output_type": "stream",
     "text": [
      "<class 'pandas.core.frame.DataFrame'>\n",
      "RangeIndex: 2 entries, 0 to 1\n",
      "Data columns (total 8 columns):\n",
      "messages_included        2 non-null int64\n",
      "mb_per_month_included    2 non-null int64\n",
      "minutes_included         2 non-null int64\n",
      "rub_monthly_fee          2 non-null int64\n",
      "rub_per_gb               2 non-null int64\n",
      "rub_per_message          2 non-null int64\n",
      "rub_per_minute           2 non-null int64\n",
      "tariff_name              2 non-null object\n",
      "dtypes: int64(7), object(1)\n",
      "memory usage: 256.0+ bytes\n"
     ]
    },
    {
     "data": {
      "text/html": [
       "<div>\n",
       "<style scoped>\n",
       "    .dataframe tbody tr th:only-of-type {\n",
       "        vertical-align: middle;\n",
       "    }\n",
       "\n",
       "    .dataframe tbody tr th {\n",
       "        vertical-align: top;\n",
       "    }\n",
       "\n",
       "    .dataframe thead th {\n",
       "        text-align: right;\n",
       "    }\n",
       "</style>\n",
       "<table border=\"1\" class=\"dataframe\">\n",
       "  <thead>\n",
       "    <tr style=\"text-align: right;\">\n",
       "      <th></th>\n",
       "      <th>messages_included</th>\n",
       "      <th>mb_per_month_included</th>\n",
       "      <th>minutes_included</th>\n",
       "      <th>rub_monthly_fee</th>\n",
       "      <th>rub_per_gb</th>\n",
       "      <th>rub_per_message</th>\n",
       "      <th>rub_per_minute</th>\n",
       "      <th>tariff</th>\n",
       "    </tr>\n",
       "  </thead>\n",
       "  <tbody>\n",
       "    <tr>\n",
       "      <td>0</td>\n",
       "      <td>50</td>\n",
       "      <td>15360</td>\n",
       "      <td>500</td>\n",
       "      <td>550</td>\n",
       "      <td>200</td>\n",
       "      <td>3</td>\n",
       "      <td>3</td>\n",
       "      <td>smart</td>\n",
       "    </tr>\n",
       "    <tr>\n",
       "      <td>1</td>\n",
       "      <td>1000</td>\n",
       "      <td>30720</td>\n",
       "      <td>3000</td>\n",
       "      <td>1950</td>\n",
       "      <td>150</td>\n",
       "      <td>1</td>\n",
       "      <td>1</td>\n",
       "      <td>ultra</td>\n",
       "    </tr>\n",
       "  </tbody>\n",
       "</table>\n",
       "</div>"
      ],
      "text/plain": [
       "   messages_included  mb_per_month_included  minutes_included  \\\n",
       "0                 50                  15360               500   \n",
       "1               1000                  30720              3000   \n",
       "\n",
       "   rub_monthly_fee  rub_per_gb  rub_per_message  rub_per_minute tariff  \n",
       "0              550         200                3               3  smart  \n",
       "1             1950         150                1               1  ultra  "
      ]
     },
     "execution_count": 31,
     "metadata": {},
     "output_type": "execute_result"
    }
   ],
   "source": [
    "df_tariffs.info()\n",
    "df_tariffs = df_tariffs.rename(columns={('tariff_name'): 'tariff'}) # заменил стоблец на tariff\n",
    "df_tariffs.head()\n"
   ]
  },
  {
   "cell_type": "markdown",
   "metadata": {},
   "source": [
    "# Предобработка DF users"
   ]
  },
  {
   "cell_type": "code",
   "execution_count": 32,
   "metadata": {
    "scrolled": true
   },
   "outputs": [
    {
     "name": "stdout",
     "output_type": "stream",
     "text": [
      "<class 'pandas.core.frame.DataFrame'>\n",
      "RangeIndex: 500 entries, 0 to 499\n",
      "Data columns (total 8 columns):\n",
      "user_id       500 non-null int64\n",
      "age           500 non-null int64\n",
      "churn_date    500 non-null object\n",
      "city          500 non-null object\n",
      "first_name    500 non-null object\n",
      "last_name     500 non-null object\n",
      "reg_date      500 non-null object\n",
      "tariff        500 non-null object\n",
      "dtypes: int64(2), object(6)\n",
      "memory usage: 31.4+ KB\n"
     ]
    },
    {
     "data": {
      "text/html": [
       "<div>\n",
       "<style scoped>\n",
       "    .dataframe tbody tr th:only-of-type {\n",
       "        vertical-align: middle;\n",
       "    }\n",
       "\n",
       "    .dataframe tbody tr th {\n",
       "        vertical-align: top;\n",
       "    }\n",
       "\n",
       "    .dataframe thead th {\n",
       "        text-align: right;\n",
       "    }\n",
       "</style>\n",
       "<table border=\"1\" class=\"dataframe\">\n",
       "  <thead>\n",
       "    <tr style=\"text-align: right;\">\n",
       "      <th></th>\n",
       "      <th>user_id</th>\n",
       "      <th>age</th>\n",
       "      <th>churn_date</th>\n",
       "      <th>city</th>\n",
       "      <th>first_name</th>\n",
       "      <th>last_name</th>\n",
       "      <th>reg_date</th>\n",
       "      <th>tariff</th>\n",
       "      <th>month</th>\n",
       "    </tr>\n",
       "  </thead>\n",
       "  <tbody>\n",
       "    <tr>\n",
       "      <td>0</td>\n",
       "      <td>1000</td>\n",
       "      <td>52</td>\n",
       "      <td>0</td>\n",
       "      <td>Краснодар</td>\n",
       "      <td>Рафаил</td>\n",
       "      <td>Верещагин</td>\n",
       "      <td>2018-05-25</td>\n",
       "      <td>ultra</td>\n",
       "      <td>5</td>\n",
       "    </tr>\n",
       "    <tr>\n",
       "      <td>1</td>\n",
       "      <td>1001</td>\n",
       "      <td>41</td>\n",
       "      <td>0</td>\n",
       "      <td>Москва</td>\n",
       "      <td>Иван</td>\n",
       "      <td>Ежов</td>\n",
       "      <td>2018-11-01</td>\n",
       "      <td>smart</td>\n",
       "      <td>11</td>\n",
       "    </tr>\n",
       "    <tr>\n",
       "      <td>2</td>\n",
       "      <td>1002</td>\n",
       "      <td>59</td>\n",
       "      <td>0</td>\n",
       "      <td>Стерлитамак</td>\n",
       "      <td>Евгений</td>\n",
       "      <td>Абрамович</td>\n",
       "      <td>2018-06-17</td>\n",
       "      <td>smart</td>\n",
       "      <td>6</td>\n",
       "    </tr>\n",
       "    <tr>\n",
       "      <td>3</td>\n",
       "      <td>1003</td>\n",
       "      <td>23</td>\n",
       "      <td>0</td>\n",
       "      <td>Москва</td>\n",
       "      <td>Белла</td>\n",
       "      <td>Белякова</td>\n",
       "      <td>2018-08-17</td>\n",
       "      <td>ultra</td>\n",
       "      <td>8</td>\n",
       "    </tr>\n",
       "    <tr>\n",
       "      <td>4</td>\n",
       "      <td>1004</td>\n",
       "      <td>68</td>\n",
       "      <td>0</td>\n",
       "      <td>Новокузнецк</td>\n",
       "      <td>Татьяна</td>\n",
       "      <td>Авдеенко</td>\n",
       "      <td>2018-05-14</td>\n",
       "      <td>ultra</td>\n",
       "      <td>5</td>\n",
       "    </tr>\n",
       "    <tr>\n",
       "      <td>5</td>\n",
       "      <td>1005</td>\n",
       "      <td>67</td>\n",
       "      <td>0</td>\n",
       "      <td>Набережные Челны</td>\n",
       "      <td>Афанасий</td>\n",
       "      <td>Горлов</td>\n",
       "      <td>2018-01-25</td>\n",
       "      <td>smart</td>\n",
       "      <td>1</td>\n",
       "    </tr>\n",
       "    <tr>\n",
       "      <td>6</td>\n",
       "      <td>1006</td>\n",
       "      <td>21</td>\n",
       "      <td>0</td>\n",
       "      <td>Ульяновск</td>\n",
       "      <td>Леонид</td>\n",
       "      <td>Ермолаев</td>\n",
       "      <td>2018-02-26</td>\n",
       "      <td>smart</td>\n",
       "      <td>2</td>\n",
       "    </tr>\n",
       "    <tr>\n",
       "      <td>7</td>\n",
       "      <td>1007</td>\n",
       "      <td>65</td>\n",
       "      <td>0</td>\n",
       "      <td>Москва</td>\n",
       "      <td>Юна</td>\n",
       "      <td>Березина</td>\n",
       "      <td>2018-04-19</td>\n",
       "      <td>smart</td>\n",
       "      <td>4</td>\n",
       "    </tr>\n",
       "    <tr>\n",
       "      <td>8</td>\n",
       "      <td>1008</td>\n",
       "      <td>63</td>\n",
       "      <td>0</td>\n",
       "      <td>Челябинск</td>\n",
       "      <td>Рустэм</td>\n",
       "      <td>Пономарёв</td>\n",
       "      <td>2018-12-19</td>\n",
       "      <td>smart</td>\n",
       "      <td>12</td>\n",
       "    </tr>\n",
       "    <tr>\n",
       "      <td>9</td>\n",
       "      <td>1009</td>\n",
       "      <td>24</td>\n",
       "      <td>0</td>\n",
       "      <td>Пермь</td>\n",
       "      <td>Василиса</td>\n",
       "      <td>Блинова</td>\n",
       "      <td>2018-03-22</td>\n",
       "      <td>smart</td>\n",
       "      <td>3</td>\n",
       "    </tr>\n",
       "  </tbody>\n",
       "</table>\n",
       "</div>"
      ],
      "text/plain": [
       "   user_id  age churn_date              city first_name  last_name  \\\n",
       "0     1000   52          0         Краснодар     Рафаил  Верещагин   \n",
       "1     1001   41          0            Москва       Иван       Ежов   \n",
       "2     1002   59          0       Стерлитамак    Евгений  Абрамович   \n",
       "3     1003   23          0            Москва      Белла   Белякова   \n",
       "4     1004   68          0       Новокузнецк    Татьяна   Авдеенко   \n",
       "5     1005   67          0  Набережные Челны   Афанасий     Горлов   \n",
       "6     1006   21          0         Ульяновск     Леонид   Ермолаев   \n",
       "7     1007   65          0            Москва        Юна   Березина   \n",
       "8     1008   63          0         Челябинск     Рустэм  Пономарёв   \n",
       "9     1009   24          0             Пермь   Василиса    Блинова   \n",
       "\n",
       "     reg_date tariff  month  \n",
       "0  2018-05-25  ultra      5  \n",
       "1  2018-11-01  smart     11  \n",
       "2  2018-06-17  smart      6  \n",
       "3  2018-08-17  ultra      8  \n",
       "4  2018-05-14  ultra      5  \n",
       "5  2018-01-25  smart      1  \n",
       "6  2018-02-26  smart      2  \n",
       "7  2018-04-19  smart      4  \n",
       "8  2018-12-19  smart     12  \n",
       "9  2018-03-22  smart      3  "
      ]
     },
     "execution_count": 32,
     "metadata": {},
     "output_type": "execute_result"
    }
   ],
   "source": [
    "df_users.info()\n",
    "df_users['month'] = pd.DatetimeIndex(df_users['reg_date']).month\n",
    "#df_users['month'] = df_users['reg_date'].astype('datetime64[M]') # получилось вновь YY-MM-DD. Не до конца понял как этим методом пользоваться \n",
    "df_users.groupby(['user_id', 'month'])[['city', 'age', 'churn_date', 'first_name', 'last_name', 'tariff']].count()\n",
    "\n",
    "df_users.head(10)"
   ]
  },
  {
   "cell_type": "markdown",
   "metadata": {},
   "source": [
    "<div class=\"alert alert-warning\">\n",
    "<b>⚠️ Комментарий ревьюера:</b> Обычно в датафреймах содержатся данные за несколько лет. Важно выбрать корректный метод для вычленения месяца, иначе месяца разных годов могут стать одним месяцем (метод month может привести к ошибке). Обрати внимание на метод astype('datetime64[M]'). Для его использования не нужно обращаться к pd.DatetimeIndex."
   ]
  },
  {
   "cell_type": "markdown",
   "metadata": {},
   "source": [
    "<div class=\"alert alert-success\">\n",
    "<b>✔️ Комментарий ревьюера V2:</b> Ты получил верный формат - первый день месяца нужного года в формате даты. Так мы сразу можем работать с месяцем нужного года, не пережвая, что месяцы схлопнутся в один"
   ]
  },
  {
   "cell_type": "markdown",
   "metadata": {},
   "source": [
    "# Объем интернет траффика по месяцам"
   ]
  },
  {
   "cell_type": "code",
   "execution_count": 33,
   "metadata": {
    "scrolled": true
   },
   "outputs": [
    {
     "data": {
      "text/html": [
       "<div>\n",
       "<style scoped>\n",
       "    .dataframe tbody tr th:only-of-type {\n",
       "        vertical-align: middle;\n",
       "    }\n",
       "\n",
       "    .dataframe tbody tr th {\n",
       "        vertical-align: top;\n",
       "    }\n",
       "\n",
       "    .dataframe thead th {\n",
       "        text-align: right;\n",
       "    }\n",
       "</style>\n",
       "<table border=\"1\" class=\"dataframe\">\n",
       "  <thead>\n",
       "    <tr style=\"text-align: right;\">\n",
       "      <th></th>\n",
       "      <th>user_id</th>\n",
       "      <th>month</th>\n",
       "      <th>mb_used</th>\n",
       "    </tr>\n",
       "  </thead>\n",
       "  <tbody>\n",
       "    <tr>\n",
       "      <td>0</td>\n",
       "      <td>1000</td>\n",
       "      <td>5</td>\n",
       "      <td>2253.49</td>\n",
       "    </tr>\n",
       "    <tr>\n",
       "      <td>1</td>\n",
       "      <td>1000</td>\n",
       "      <td>6</td>\n",
       "      <td>23233.77</td>\n",
       "    </tr>\n",
       "    <tr>\n",
       "      <td>2</td>\n",
       "      <td>1000</td>\n",
       "      <td>7</td>\n",
       "      <td>14003.64</td>\n",
       "    </tr>\n",
       "    <tr>\n",
       "      <td>3</td>\n",
       "      <td>1000</td>\n",
       "      <td>8</td>\n",
       "      <td>14055.93</td>\n",
       "    </tr>\n",
       "    <tr>\n",
       "      <td>4</td>\n",
       "      <td>1000</td>\n",
       "      <td>9</td>\n",
       "      <td>14568.91</td>\n",
       "    </tr>\n",
       "    <tr>\n",
       "      <td>...</td>\n",
       "      <td>...</td>\n",
       "      <td>...</td>\n",
       "      <td>...</td>\n",
       "    </tr>\n",
       "    <tr>\n",
       "      <td>3199</td>\n",
       "      <td>1499</td>\n",
       "      <td>9</td>\n",
       "      <td>1845.75</td>\n",
       "    </tr>\n",
       "    <tr>\n",
       "      <td>3200</td>\n",
       "      <td>1499</td>\n",
       "      <td>10</td>\n",
       "      <td>17788.51</td>\n",
       "    </tr>\n",
       "    <tr>\n",
       "      <td>3201</td>\n",
       "      <td>1499</td>\n",
       "      <td>11</td>\n",
       "      <td>17963.31</td>\n",
       "    </tr>\n",
       "    <tr>\n",
       "      <td>3202</td>\n",
       "      <td>1499</td>\n",
       "      <td>12</td>\n",
       "      <td>13055.58</td>\n",
       "    </tr>\n",
       "    <tr>\n",
       "      <td>3203</td>\n",
       "      <td>All</td>\n",
       "      <td></td>\n",
       "      <td>55305267.73</td>\n",
       "    </tr>\n",
       "  </tbody>\n",
       "</table>\n",
       "<p>3204 rows × 3 columns</p>\n",
       "</div>"
      ],
      "text/plain": [
       "     user_id month      mb_used\n",
       "0       1000     5      2253.49\n",
       "1       1000     6     23233.77\n",
       "2       1000     7     14003.64\n",
       "3       1000     8     14055.93\n",
       "4       1000     9     14568.91\n",
       "...      ...   ...          ...\n",
       "3199    1499     9      1845.75\n",
       "3200    1499    10     17788.51\n",
       "3201    1499    11     17963.31\n",
       "3202    1499    12     13055.58\n",
       "3203     All        55305267.73\n",
       "\n",
       "[3204 rows x 3 columns]"
      ]
     },
     "execution_count": 33,
     "metadata": {},
     "output_type": "execute_result"
    }
   ],
   "source": [
    "internet_month = df_internet.pivot_table(index = ['user_id', 'month'], values = 'mb_used', aggfunc = 'sum', margins = True).reset_index()\n",
    "internet_month\n",
    "# вычислили какой суммарный объем data траффика, сколько сессий и сколько в среднем мб за сессию тратит user в разрезе каждого\n",
    "# месяца\n",
    "#internet_voice_merge = internet_month.merge(df_users, on=['user_id', 'month'], how='right')\n"
   ]
  },
  {
   "cell_type": "markdown",
   "metadata": {},
   "source": [
    "# Объем голосового траффика по месяцам + интернет траффик"
   ]
  },
  {
   "cell_type": "code",
   "execution_count": 34,
   "metadata": {
    "scrolled": true
   },
   "outputs": [],
   "source": [
    "voice_month = df_calls.pivot_table(index = ['user_id', 'month'], values = 'duration', aggfunc = 'sum', margins = True).reset_index()\n",
    "voice_month\n",
    "# вычислили какой суммарный объем голосового траффика, сколько звонков и сколько в среднем мин за сессию тратит user в разрезе каждого\n",
    "# месяца\n",
    "internet_voice_merge = internet_month.merge(voice_month, on=['user_id', 'month'], how='left') #объединили объем голосового\n",
    "# траффика и data траффика в один DF\n"
   ]
  },
  {
   "cell_type": "markdown",
   "metadata": {},
   "source": [
    "# Кол-во отправленных СМС по месяцам + voice + интернет траффик"
   ]
  },
  {
   "cell_type": "code",
   "execution_count": 35,
   "metadata": {},
   "outputs": [],
   "source": [
    "message_month = df_messages.pivot_table(index = ['user_id', 'month'], values = 'message_date', aggfunc = 'count', margins = True).reset_index()\n",
    "message_month\n",
    "# вычислили сколько всего отправил СМС каждый user в разрезе каждого\n",
    "# месяца\n",
    "i_v_m = internet_voice_merge.merge(message_month, on=['user_id', 'month'], how='left') # объединил предыдущий DF с данными по СМС\n"
   ]
  },
  {
   "cell_type": "markdown",
   "metadata": {},
   "source": [
    "# объединение в единый Df для дальнейшего анализа"
   ]
  },
  {
   "cell_type": "code",
   "execution_count": 36,
   "metadata": {
    "scrolled": true
   },
   "outputs": [
    {
     "data": {
      "text/html": [
       "<div>\n",
       "<style scoped>\n",
       "    .dataframe tbody tr th:only-of-type {\n",
       "        vertical-align: middle;\n",
       "    }\n",
       "\n",
       "    .dataframe tbody tr th {\n",
       "        vertical-align: top;\n",
       "    }\n",
       "\n",
       "    .dataframe thead th {\n",
       "        text-align: right;\n",
       "    }\n",
       "</style>\n",
       "<table border=\"1\" class=\"dataframe\">\n",
       "  <thead>\n",
       "    <tr style=\"text-align: right;\">\n",
       "      <th></th>\n",
       "      <th>user_id</th>\n",
       "      <th>month_x</th>\n",
       "      <th>mb_used</th>\n",
       "      <th>duration</th>\n",
       "      <th>message_date</th>\n",
       "      <th>age</th>\n",
       "      <th>churn_date</th>\n",
       "      <th>city</th>\n",
       "      <th>first_name</th>\n",
       "      <th>last_name</th>\n",
       "      <th>reg_date</th>\n",
       "      <th>tariff</th>\n",
       "      <th>month_y</th>\n",
       "      <th>messages_included</th>\n",
       "      <th>mb_per_month_included</th>\n",
       "      <th>minutes_included</th>\n",
       "      <th>rub_monthly_fee</th>\n",
       "      <th>rub_per_gb</th>\n",
       "      <th>rub_per_message</th>\n",
       "      <th>rub_per_minute</th>\n",
       "    </tr>\n",
       "  </thead>\n",
       "  <tbody>\n",
       "    <tr>\n",
       "      <td>0</td>\n",
       "      <td>1000</td>\n",
       "      <td>5</td>\n",
       "      <td>2253.49</td>\n",
       "      <td>150.06</td>\n",
       "      <td>22.0</td>\n",
       "      <td>52.0</td>\n",
       "      <td>0</td>\n",
       "      <td>Краснодар</td>\n",
       "      <td>Рафаил</td>\n",
       "      <td>Верещагин</td>\n",
       "      <td>2018-05-25</td>\n",
       "      <td>ultra</td>\n",
       "      <td>5.0</td>\n",
       "      <td>1000.0</td>\n",
       "      <td>30720.0</td>\n",
       "      <td>3000.0</td>\n",
       "      <td>1950.0</td>\n",
       "      <td>150.0</td>\n",
       "      <td>1.0</td>\n",
       "      <td>1.0</td>\n",
       "    </tr>\n",
       "    <tr>\n",
       "      <td>1</td>\n",
       "      <td>1000</td>\n",
       "      <td>6</td>\n",
       "      <td>23233.77</td>\n",
       "      <td>158.90</td>\n",
       "      <td>60.0</td>\n",
       "      <td>52.0</td>\n",
       "      <td>0</td>\n",
       "      <td>Краснодар</td>\n",
       "      <td>Рафаил</td>\n",
       "      <td>Верещагин</td>\n",
       "      <td>2018-05-25</td>\n",
       "      <td>ultra</td>\n",
       "      <td>5.0</td>\n",
       "      <td>1000.0</td>\n",
       "      <td>30720.0</td>\n",
       "      <td>3000.0</td>\n",
       "      <td>1950.0</td>\n",
       "      <td>150.0</td>\n",
       "      <td>1.0</td>\n",
       "      <td>1.0</td>\n",
       "    </tr>\n",
       "    <tr>\n",
       "      <td>2</td>\n",
       "      <td>1000</td>\n",
       "      <td>7</td>\n",
       "      <td>14003.64</td>\n",
       "      <td>318.80</td>\n",
       "      <td>75.0</td>\n",
       "      <td>52.0</td>\n",
       "      <td>0</td>\n",
       "      <td>Краснодар</td>\n",
       "      <td>Рафаил</td>\n",
       "      <td>Верещагин</td>\n",
       "      <td>2018-05-25</td>\n",
       "      <td>ultra</td>\n",
       "      <td>5.0</td>\n",
       "      <td>1000.0</td>\n",
       "      <td>30720.0</td>\n",
       "      <td>3000.0</td>\n",
       "      <td>1950.0</td>\n",
       "      <td>150.0</td>\n",
       "      <td>1.0</td>\n",
       "      <td>1.0</td>\n",
       "    </tr>\n",
       "    <tr>\n",
       "      <td>3</td>\n",
       "      <td>1000</td>\n",
       "      <td>8</td>\n",
       "      <td>14055.93</td>\n",
       "      <td>389.87</td>\n",
       "      <td>81.0</td>\n",
       "      <td>52.0</td>\n",
       "      <td>0</td>\n",
       "      <td>Краснодар</td>\n",
       "      <td>Рафаил</td>\n",
       "      <td>Верещагин</td>\n",
       "      <td>2018-05-25</td>\n",
       "      <td>ultra</td>\n",
       "      <td>5.0</td>\n",
       "      <td>1000.0</td>\n",
       "      <td>30720.0</td>\n",
       "      <td>3000.0</td>\n",
       "      <td>1950.0</td>\n",
       "      <td>150.0</td>\n",
       "      <td>1.0</td>\n",
       "      <td>1.0</td>\n",
       "    </tr>\n",
       "    <tr>\n",
       "      <td>4</td>\n",
       "      <td>1000</td>\n",
       "      <td>9</td>\n",
       "      <td>14568.91</td>\n",
       "      <td>440.14</td>\n",
       "      <td>57.0</td>\n",
       "      <td>52.0</td>\n",
       "      <td>0</td>\n",
       "      <td>Краснодар</td>\n",
       "      <td>Рафаил</td>\n",
       "      <td>Верещагин</td>\n",
       "      <td>2018-05-25</td>\n",
       "      <td>ultra</td>\n",
       "      <td>5.0</td>\n",
       "      <td>1000.0</td>\n",
       "      <td>30720.0</td>\n",
       "      <td>3000.0</td>\n",
       "      <td>1950.0</td>\n",
       "      <td>150.0</td>\n",
       "      <td>1.0</td>\n",
       "      <td>1.0</td>\n",
       "    </tr>\n",
       "    <tr>\n",
       "      <td>...</td>\n",
       "      <td>...</td>\n",
       "      <td>...</td>\n",
       "      <td>...</td>\n",
       "      <td>...</td>\n",
       "      <td>...</td>\n",
       "      <td>...</td>\n",
       "      <td>...</td>\n",
       "      <td>...</td>\n",
       "      <td>...</td>\n",
       "      <td>...</td>\n",
       "      <td>...</td>\n",
       "      <td>...</td>\n",
       "      <td>...</td>\n",
       "      <td>...</td>\n",
       "      <td>...</td>\n",
       "      <td>...</td>\n",
       "      <td>...</td>\n",
       "      <td>...</td>\n",
       "      <td>...</td>\n",
       "      <td>...</td>\n",
       "    </tr>\n",
       "    <tr>\n",
       "      <td>3199</td>\n",
       "      <td>1499</td>\n",
       "      <td>9</td>\n",
       "      <td>1845.75</td>\n",
       "      <td>64.65</td>\n",
       "      <td>11.0</td>\n",
       "      <td>35.0</td>\n",
       "      <td>0</td>\n",
       "      <td>Пермь</td>\n",
       "      <td>Гектор</td>\n",
       "      <td>Корнилов</td>\n",
       "      <td>2018-09-27</td>\n",
       "      <td>smart</td>\n",
       "      <td>9.0</td>\n",
       "      <td>50.0</td>\n",
       "      <td>15360.0</td>\n",
       "      <td>500.0</td>\n",
       "      <td>550.0</td>\n",
       "      <td>200.0</td>\n",
       "      <td>3.0</td>\n",
       "      <td>3.0</td>\n",
       "    </tr>\n",
       "    <tr>\n",
       "      <td>3200</td>\n",
       "      <td>1499</td>\n",
       "      <td>10</td>\n",
       "      <td>17788.51</td>\n",
       "      <td>429.91</td>\n",
       "      <td>48.0</td>\n",
       "      <td>35.0</td>\n",
       "      <td>0</td>\n",
       "      <td>Пермь</td>\n",
       "      <td>Гектор</td>\n",
       "      <td>Корнилов</td>\n",
       "      <td>2018-09-27</td>\n",
       "      <td>smart</td>\n",
       "      <td>9.0</td>\n",
       "      <td>50.0</td>\n",
       "      <td>15360.0</td>\n",
       "      <td>500.0</td>\n",
       "      <td>550.0</td>\n",
       "      <td>200.0</td>\n",
       "      <td>3.0</td>\n",
       "      <td>3.0</td>\n",
       "    </tr>\n",
       "    <tr>\n",
       "      <td>3201</td>\n",
       "      <td>1499</td>\n",
       "      <td>11</td>\n",
       "      <td>17963.31</td>\n",
       "      <td>576.50</td>\n",
       "      <td>59.0</td>\n",
       "      <td>35.0</td>\n",
       "      <td>0</td>\n",
       "      <td>Пермь</td>\n",
       "      <td>Гектор</td>\n",
       "      <td>Корнилов</td>\n",
       "      <td>2018-09-27</td>\n",
       "      <td>smart</td>\n",
       "      <td>9.0</td>\n",
       "      <td>50.0</td>\n",
       "      <td>15360.0</td>\n",
       "      <td>500.0</td>\n",
       "      <td>550.0</td>\n",
       "      <td>200.0</td>\n",
       "      <td>3.0</td>\n",
       "      <td>3.0</td>\n",
       "    </tr>\n",
       "    <tr>\n",
       "      <td>3202</td>\n",
       "      <td>1499</td>\n",
       "      <td>12</td>\n",
       "      <td>13055.58</td>\n",
       "      <td>465.16</td>\n",
       "      <td>66.0</td>\n",
       "      <td>35.0</td>\n",
       "      <td>0</td>\n",
       "      <td>Пермь</td>\n",
       "      <td>Гектор</td>\n",
       "      <td>Корнилов</td>\n",
       "      <td>2018-09-27</td>\n",
       "      <td>smart</td>\n",
       "      <td>9.0</td>\n",
       "      <td>50.0</td>\n",
       "      <td>15360.0</td>\n",
       "      <td>500.0</td>\n",
       "      <td>550.0</td>\n",
       "      <td>200.0</td>\n",
       "      <td>3.0</td>\n",
       "      <td>3.0</td>\n",
       "    </tr>\n",
       "    <tr>\n",
       "      <td>3203</td>\n",
       "      <td>All</td>\n",
       "      <td></td>\n",
       "      <td>55305267.73</td>\n",
       "      <td>1368790.04</td>\n",
       "      <td>123036.0</td>\n",
       "      <td>NaN</td>\n",
       "      <td>NaN</td>\n",
       "      <td>NaN</td>\n",
       "      <td>NaN</td>\n",
       "      <td>NaN</td>\n",
       "      <td>NaN</td>\n",
       "      <td>NaN</td>\n",
       "      <td>NaN</td>\n",
       "      <td>NaN</td>\n",
       "      <td>NaN</td>\n",
       "      <td>NaN</td>\n",
       "      <td>NaN</td>\n",
       "      <td>NaN</td>\n",
       "      <td>NaN</td>\n",
       "      <td>NaN</td>\n",
       "    </tr>\n",
       "  </tbody>\n",
       "</table>\n",
       "<p>3204 rows × 20 columns</p>\n",
       "</div>"
      ],
      "text/plain": [
       "     user_id month_x      mb_used    duration  message_date   age churn_date  \\\n",
       "0       1000       5      2253.49      150.06          22.0  52.0          0   \n",
       "1       1000       6     23233.77      158.90          60.0  52.0          0   \n",
       "2       1000       7     14003.64      318.80          75.0  52.0          0   \n",
       "3       1000       8     14055.93      389.87          81.0  52.0          0   \n",
       "4       1000       9     14568.91      440.14          57.0  52.0          0   \n",
       "...      ...     ...          ...         ...           ...   ...        ...   \n",
       "3199    1499       9      1845.75       64.65          11.0  35.0          0   \n",
       "3200    1499      10     17788.51      429.91          48.0  35.0          0   \n",
       "3201    1499      11     17963.31      576.50          59.0  35.0          0   \n",
       "3202    1499      12     13055.58      465.16          66.0  35.0          0   \n",
       "3203     All          55305267.73  1368790.04      123036.0   NaN        NaN   \n",
       "\n",
       "           city first_name  last_name    reg_date tariff  month_y  \\\n",
       "0     Краснодар     Рафаил  Верещагин  2018-05-25  ultra      5.0   \n",
       "1     Краснодар     Рафаил  Верещагин  2018-05-25  ultra      5.0   \n",
       "2     Краснодар     Рафаил  Верещагин  2018-05-25  ultra      5.0   \n",
       "3     Краснодар     Рафаил  Верещагин  2018-05-25  ultra      5.0   \n",
       "4     Краснодар     Рафаил  Верещагин  2018-05-25  ultra      5.0   \n",
       "...         ...        ...        ...         ...    ...      ...   \n",
       "3199      Пермь     Гектор   Корнилов  2018-09-27  smart      9.0   \n",
       "3200      Пермь     Гектор   Корнилов  2018-09-27  smart      9.0   \n",
       "3201      Пермь     Гектор   Корнилов  2018-09-27  smart      9.0   \n",
       "3202      Пермь     Гектор   Корнилов  2018-09-27  smart      9.0   \n",
       "3203        NaN        NaN        NaN         NaN    NaN      NaN   \n",
       "\n",
       "      messages_included  mb_per_month_included  minutes_included  \\\n",
       "0                1000.0                30720.0            3000.0   \n",
       "1                1000.0                30720.0            3000.0   \n",
       "2                1000.0                30720.0            3000.0   \n",
       "3                1000.0                30720.0            3000.0   \n",
       "4                1000.0                30720.0            3000.0   \n",
       "...                 ...                    ...               ...   \n",
       "3199               50.0                15360.0             500.0   \n",
       "3200               50.0                15360.0             500.0   \n",
       "3201               50.0                15360.0             500.0   \n",
       "3202               50.0                15360.0             500.0   \n",
       "3203                NaN                    NaN               NaN   \n",
       "\n",
       "      rub_monthly_fee  rub_per_gb  rub_per_message  rub_per_minute  \n",
       "0              1950.0       150.0              1.0             1.0  \n",
       "1              1950.0       150.0              1.0             1.0  \n",
       "2              1950.0       150.0              1.0             1.0  \n",
       "3              1950.0       150.0              1.0             1.0  \n",
       "4              1950.0       150.0              1.0             1.0  \n",
       "...               ...         ...              ...             ...  \n",
       "3199            550.0       200.0              3.0             3.0  \n",
       "3200            550.0       200.0              3.0             3.0  \n",
       "3201            550.0       200.0              3.0             3.0  \n",
       "3202            550.0       200.0              3.0             3.0  \n",
       "3203              NaN         NaN              NaN             NaN  \n",
       "\n",
       "[3204 rows x 20 columns]"
      ]
     },
     "execution_count": 36,
     "metadata": {},
     "output_type": "execute_result"
    }
   ],
   "source": [
    "i_v_m_users = i_v_m.merge(df_users, on='user_id', how='left') # Добавил df_users\n",
    "i_v_m_tariffs = i_v_m_users.merge(df_tariffs, on='tariff', how='left') # и присоединил тарифы\n",
    "i_v_m_tariffs"
   ]
  },
  {
   "cell_type": "code",
   "execution_count": 38,
   "metadata": {},
   "outputs": [],
   "source": [
    "#i_v_m_tariffs.isna().sum()\n",
    "i_v_m_tariffs['duration'] = i_v_m_tariffs['duration'].fillna(0)\n",
    "i_v_m_tariffs['message_date'] = i_v_m_tariffs['message_date'].fillna(0) # заменили все пропуски в двух столбцах на нули\n"
   ]
  },
  {
   "cell_type": "code",
   "execution_count": null,
   "metadata": {},
   "outputs": [],
   "source": []
  },
  {
   "cell_type": "markdown",
   "metadata": {},
   "source": [
    "<div class=\"alert alert-danger\">\n",
    "<b>❌ Комментарий ревьюера:</b> Объединение корректно. Также очень важно заполнить пропуски в новой таблице нулями, это может повлиять на результаты анализа"
   ]
  },
  {
   "cell_type": "markdown",
   "metadata": {},
   "source": [
    "<div class=\"alert alert-info\"> <b>Комментарий студента:</b> заменили все пропуски в двух столбцах на нули.</div>"
   ]
  },
  {
   "cell_type": "markdown",
   "metadata": {},
   "source": [
    "<div class=\"alert alert-success\">\n",
    "<b>✔️ Комментарий ревьюера V2:</b> Отлично!"
   ]
  },
  {
   "cell_type": "code",
   "execution_count": null,
   "metadata": {},
   "outputs": [],
   "source": []
  },
  {
   "cell_type": "markdown",
   "metadata": {},
   "source": [
    "# Подсчет выручки для каждого абонента"
   ]
  },
  {
   "cell_type": "code",
   "execution_count": 39,
   "metadata": {},
   "outputs": [
    {
     "data": {
      "text/html": [
       "<div>\n",
       "<style scoped>\n",
       "    .dataframe tbody tr th:only-of-type {\n",
       "        vertical-align: middle;\n",
       "    }\n",
       "\n",
       "    .dataframe tbody tr th {\n",
       "        vertical-align: top;\n",
       "    }\n",
       "\n",
       "    .dataframe thead th {\n",
       "        text-align: right;\n",
       "    }\n",
       "</style>\n",
       "<table border=\"1\" class=\"dataframe\">\n",
       "  <thead>\n",
       "    <tr style=\"text-align: right;\">\n",
       "      <th></th>\n",
       "      <th>user_id</th>\n",
       "      <th>month_x</th>\n",
       "      <th>mb_used</th>\n",
       "      <th>duration</th>\n",
       "      <th>message_date</th>\n",
       "      <th>age</th>\n",
       "      <th>churn_date</th>\n",
       "      <th>city</th>\n",
       "      <th>first_name</th>\n",
       "      <th>last_name</th>\n",
       "      <th>reg_date</th>\n",
       "      <th>tariff</th>\n",
       "      <th>month_y</th>\n",
       "      <th>messages_included</th>\n",
       "      <th>mb_per_month_included</th>\n",
       "      <th>minutes_included</th>\n",
       "      <th>rub_monthly_fee</th>\n",
       "      <th>rub_per_gb</th>\n",
       "      <th>rub_per_message</th>\n",
       "      <th>rub_per_minute</th>\n",
       "    </tr>\n",
       "  </thead>\n",
       "  <tbody>\n",
       "    <tr>\n",
       "      <td>0</td>\n",
       "      <td>1000</td>\n",
       "      <td>5</td>\n",
       "      <td>2254.0</td>\n",
       "      <td>151.0</td>\n",
       "      <td>22.0</td>\n",
       "      <td>52.0</td>\n",
       "      <td>0</td>\n",
       "      <td>Краснодар</td>\n",
       "      <td>Рафаил</td>\n",
       "      <td>Верещагин</td>\n",
       "      <td>2018-05-25</td>\n",
       "      <td>ultra</td>\n",
       "      <td>5.0</td>\n",
       "      <td>1000.0</td>\n",
       "      <td>30720.0</td>\n",
       "      <td>3000.0</td>\n",
       "      <td>1950.0</td>\n",
       "      <td>150.0</td>\n",
       "      <td>1.0</td>\n",
       "      <td>1.0</td>\n",
       "    </tr>\n",
       "    <tr>\n",
       "      <td>1</td>\n",
       "      <td>1000</td>\n",
       "      <td>6</td>\n",
       "      <td>23234.0</td>\n",
       "      <td>159.0</td>\n",
       "      <td>60.0</td>\n",
       "      <td>52.0</td>\n",
       "      <td>0</td>\n",
       "      <td>Краснодар</td>\n",
       "      <td>Рафаил</td>\n",
       "      <td>Верещагин</td>\n",
       "      <td>2018-05-25</td>\n",
       "      <td>ultra</td>\n",
       "      <td>5.0</td>\n",
       "      <td>1000.0</td>\n",
       "      <td>30720.0</td>\n",
       "      <td>3000.0</td>\n",
       "      <td>1950.0</td>\n",
       "      <td>150.0</td>\n",
       "      <td>1.0</td>\n",
       "      <td>1.0</td>\n",
       "    </tr>\n",
       "    <tr>\n",
       "      <td>2</td>\n",
       "      <td>1000</td>\n",
       "      <td>7</td>\n",
       "      <td>14004.0</td>\n",
       "      <td>319.0</td>\n",
       "      <td>75.0</td>\n",
       "      <td>52.0</td>\n",
       "      <td>0</td>\n",
       "      <td>Краснодар</td>\n",
       "      <td>Рафаил</td>\n",
       "      <td>Верещагин</td>\n",
       "      <td>2018-05-25</td>\n",
       "      <td>ultra</td>\n",
       "      <td>5.0</td>\n",
       "      <td>1000.0</td>\n",
       "      <td>30720.0</td>\n",
       "      <td>3000.0</td>\n",
       "      <td>1950.0</td>\n",
       "      <td>150.0</td>\n",
       "      <td>1.0</td>\n",
       "      <td>1.0</td>\n",
       "    </tr>\n",
       "    <tr>\n",
       "      <td>3</td>\n",
       "      <td>1000</td>\n",
       "      <td>8</td>\n",
       "      <td>14056.0</td>\n",
       "      <td>390.0</td>\n",
       "      <td>81.0</td>\n",
       "      <td>52.0</td>\n",
       "      <td>0</td>\n",
       "      <td>Краснодар</td>\n",
       "      <td>Рафаил</td>\n",
       "      <td>Верещагин</td>\n",
       "      <td>2018-05-25</td>\n",
       "      <td>ultra</td>\n",
       "      <td>5.0</td>\n",
       "      <td>1000.0</td>\n",
       "      <td>30720.0</td>\n",
       "      <td>3000.0</td>\n",
       "      <td>1950.0</td>\n",
       "      <td>150.0</td>\n",
       "      <td>1.0</td>\n",
       "      <td>1.0</td>\n",
       "    </tr>\n",
       "    <tr>\n",
       "      <td>4</td>\n",
       "      <td>1000</td>\n",
       "      <td>9</td>\n",
       "      <td>14569.0</td>\n",
       "      <td>441.0</td>\n",
       "      <td>57.0</td>\n",
       "      <td>52.0</td>\n",
       "      <td>0</td>\n",
       "      <td>Краснодар</td>\n",
       "      <td>Рафаил</td>\n",
       "      <td>Верещагин</td>\n",
       "      <td>2018-05-25</td>\n",
       "      <td>ultra</td>\n",
       "      <td>5.0</td>\n",
       "      <td>1000.0</td>\n",
       "      <td>30720.0</td>\n",
       "      <td>3000.0</td>\n",
       "      <td>1950.0</td>\n",
       "      <td>150.0</td>\n",
       "      <td>1.0</td>\n",
       "      <td>1.0</td>\n",
       "    </tr>\n",
       "    <tr>\n",
       "      <td>5</td>\n",
       "      <td>1000</td>\n",
       "      <td>10</td>\n",
       "      <td>14703.0</td>\n",
       "      <td>329.0</td>\n",
       "      <td>73.0</td>\n",
       "      <td>52.0</td>\n",
       "      <td>0</td>\n",
       "      <td>Краснодар</td>\n",
       "      <td>Рафаил</td>\n",
       "      <td>Верещагин</td>\n",
       "      <td>2018-05-25</td>\n",
       "      <td>ultra</td>\n",
       "      <td>5.0</td>\n",
       "      <td>1000.0</td>\n",
       "      <td>30720.0</td>\n",
       "      <td>3000.0</td>\n",
       "      <td>1950.0</td>\n",
       "      <td>150.0</td>\n",
       "      <td>1.0</td>\n",
       "      <td>1.0</td>\n",
       "    </tr>\n",
       "    <tr>\n",
       "      <td>6</td>\n",
       "      <td>1000</td>\n",
       "      <td>11</td>\n",
       "      <td>14757.0</td>\n",
       "      <td>320.0</td>\n",
       "      <td>58.0</td>\n",
       "      <td>52.0</td>\n",
       "      <td>0</td>\n",
       "      <td>Краснодар</td>\n",
       "      <td>Рафаил</td>\n",
       "      <td>Верещагин</td>\n",
       "      <td>2018-05-25</td>\n",
       "      <td>ultra</td>\n",
       "      <td>5.0</td>\n",
       "      <td>1000.0</td>\n",
       "      <td>30720.0</td>\n",
       "      <td>3000.0</td>\n",
       "      <td>1950.0</td>\n",
       "      <td>150.0</td>\n",
       "      <td>1.0</td>\n",
       "      <td>1.0</td>\n",
       "    </tr>\n",
       "    <tr>\n",
       "      <td>7</td>\n",
       "      <td>1000</td>\n",
       "      <td>12</td>\n",
       "      <td>9818.0</td>\n",
       "      <td>313.0</td>\n",
       "      <td>70.0</td>\n",
       "      <td>52.0</td>\n",
       "      <td>0</td>\n",
       "      <td>Краснодар</td>\n",
       "      <td>Рафаил</td>\n",
       "      <td>Верещагин</td>\n",
       "      <td>2018-05-25</td>\n",
       "      <td>ultra</td>\n",
       "      <td>5.0</td>\n",
       "      <td>1000.0</td>\n",
       "      <td>30720.0</td>\n",
       "      <td>3000.0</td>\n",
       "      <td>1950.0</td>\n",
       "      <td>150.0</td>\n",
       "      <td>1.0</td>\n",
       "      <td>1.0</td>\n",
       "    </tr>\n",
       "    <tr>\n",
       "      <td>8</td>\n",
       "      <td>1001</td>\n",
       "      <td>11</td>\n",
       "      <td>18430.0</td>\n",
       "      <td>409.0</td>\n",
       "      <td>0.0</td>\n",
       "      <td>41.0</td>\n",
       "      <td>0</td>\n",
       "      <td>Москва</td>\n",
       "      <td>Иван</td>\n",
       "      <td>Ежов</td>\n",
       "      <td>2018-11-01</td>\n",
       "      <td>smart</td>\n",
       "      <td>11.0</td>\n",
       "      <td>50.0</td>\n",
       "      <td>15360.0</td>\n",
       "      <td>500.0</td>\n",
       "      <td>550.0</td>\n",
       "      <td>200.0</td>\n",
       "      <td>3.0</td>\n",
       "      <td>3.0</td>\n",
       "    </tr>\n",
       "    <tr>\n",
       "      <td>9</td>\n",
       "      <td>1001</td>\n",
       "      <td>12</td>\n",
       "      <td>14037.0</td>\n",
       "      <td>392.0</td>\n",
       "      <td>0.0</td>\n",
       "      <td>41.0</td>\n",
       "      <td>0</td>\n",
       "      <td>Москва</td>\n",
       "      <td>Иван</td>\n",
       "      <td>Ежов</td>\n",
       "      <td>2018-11-01</td>\n",
       "      <td>smart</td>\n",
       "      <td>11.0</td>\n",
       "      <td>50.0</td>\n",
       "      <td>15360.0</td>\n",
       "      <td>500.0</td>\n",
       "      <td>550.0</td>\n",
       "      <td>200.0</td>\n",
       "      <td>3.0</td>\n",
       "      <td>3.0</td>\n",
       "    </tr>\n",
       "  </tbody>\n",
       "</table>\n",
       "</div>"
      ],
      "text/plain": [
       "  user_id month_x  mb_used  duration  message_date   age churn_date  \\\n",
       "0    1000       5   2254.0     151.0          22.0  52.0          0   \n",
       "1    1000       6  23234.0     159.0          60.0  52.0          0   \n",
       "2    1000       7  14004.0     319.0          75.0  52.0          0   \n",
       "3    1000       8  14056.0     390.0          81.0  52.0          0   \n",
       "4    1000       9  14569.0     441.0          57.0  52.0          0   \n",
       "5    1000      10  14703.0     329.0          73.0  52.0          0   \n",
       "6    1000      11  14757.0     320.0          58.0  52.0          0   \n",
       "7    1000      12   9818.0     313.0          70.0  52.0          0   \n",
       "8    1001      11  18430.0     409.0           0.0  41.0          0   \n",
       "9    1001      12  14037.0     392.0           0.0  41.0          0   \n",
       "\n",
       "        city first_name  last_name    reg_date tariff  month_y  \\\n",
       "0  Краснодар     Рафаил  Верещагин  2018-05-25  ultra      5.0   \n",
       "1  Краснодар     Рафаил  Верещагин  2018-05-25  ultra      5.0   \n",
       "2  Краснодар     Рафаил  Верещагин  2018-05-25  ultra      5.0   \n",
       "3  Краснодар     Рафаил  Верещагин  2018-05-25  ultra      5.0   \n",
       "4  Краснодар     Рафаил  Верещагин  2018-05-25  ultra      5.0   \n",
       "5  Краснодар     Рафаил  Верещагин  2018-05-25  ultra      5.0   \n",
       "6  Краснодар     Рафаил  Верещагин  2018-05-25  ultra      5.0   \n",
       "7  Краснодар     Рафаил  Верещагин  2018-05-25  ultra      5.0   \n",
       "8     Москва       Иван       Ежов  2018-11-01  smart     11.0   \n",
       "9     Москва       Иван       Ежов  2018-11-01  smart     11.0   \n",
       "\n",
       "   messages_included  mb_per_month_included  minutes_included  \\\n",
       "0             1000.0                30720.0            3000.0   \n",
       "1             1000.0                30720.0            3000.0   \n",
       "2             1000.0                30720.0            3000.0   \n",
       "3             1000.0                30720.0            3000.0   \n",
       "4             1000.0                30720.0            3000.0   \n",
       "5             1000.0                30720.0            3000.0   \n",
       "6             1000.0                30720.0            3000.0   \n",
       "7             1000.0                30720.0            3000.0   \n",
       "8               50.0                15360.0             500.0   \n",
       "9               50.0                15360.0             500.0   \n",
       "\n",
       "   rub_monthly_fee  rub_per_gb  rub_per_message  rub_per_minute  \n",
       "0           1950.0       150.0              1.0             1.0  \n",
       "1           1950.0       150.0              1.0             1.0  \n",
       "2           1950.0       150.0              1.0             1.0  \n",
       "3           1950.0       150.0              1.0             1.0  \n",
       "4           1950.0       150.0              1.0             1.0  \n",
       "5           1950.0       150.0              1.0             1.0  \n",
       "6           1950.0       150.0              1.0             1.0  \n",
       "7           1950.0       150.0              1.0             1.0  \n",
       "8            550.0       200.0              3.0             3.0  \n",
       "9            550.0       200.0              3.0             3.0  "
      ]
     },
     "execution_count": 39,
     "metadata": {},
     "output_type": "execute_result"
    }
   ],
   "source": [
    "# округляем звонки и и-нет траффик по целого вбольшую сторону\n",
    "i_v_m_tariffs['duration'] = np.ceil(i_v_m_tariffs['duration'])\n",
    "i_v_m_tariffs['mb_used'] = np.ceil(i_v_m_tariffs['mb_used'])\n",
    "i_v_m_tariffs.head(10)"
   ]
  },
  {
   "cell_type": "code",
   "execution_count": 40,
   "metadata": {},
   "outputs": [
    {
     "data": {
      "text/html": [
       "<div>\n",
       "<style scoped>\n",
       "    .dataframe tbody tr th:only-of-type {\n",
       "        vertical-align: middle;\n",
       "    }\n",
       "\n",
       "    .dataframe tbody tr th {\n",
       "        vertical-align: top;\n",
       "    }\n",
       "\n",
       "    .dataframe thead th {\n",
       "        text-align: right;\n",
       "    }\n",
       "</style>\n",
       "<table border=\"1\" class=\"dataframe\">\n",
       "  <thead>\n",
       "    <tr style=\"text-align: right;\">\n",
       "      <th></th>\n",
       "      <th>user_id</th>\n",
       "      <th>month_x</th>\n",
       "      <th>mb_used</th>\n",
       "      <th>duration</th>\n",
       "      <th>message_date</th>\n",
       "      <th>age</th>\n",
       "      <th>churn_date</th>\n",
       "      <th>city</th>\n",
       "      <th>first_name</th>\n",
       "      <th>last_name</th>\n",
       "      <th>...</th>\n",
       "      <th>tariff</th>\n",
       "      <th>month_y</th>\n",
       "      <th>messages_included</th>\n",
       "      <th>mb_per_month_included</th>\n",
       "      <th>minutes_included</th>\n",
       "      <th>rub_monthly_fee</th>\n",
       "      <th>rub_per_gb</th>\n",
       "      <th>rub_per_message</th>\n",
       "      <th>rub_per_minute</th>\n",
       "      <th>revenue</th>\n",
       "    </tr>\n",
       "  </thead>\n",
       "  <tbody>\n",
       "    <tr>\n",
       "      <td>3184</td>\n",
       "      <td>1496</td>\n",
       "      <td>5</td>\n",
       "      <td>23710.0</td>\n",
       "      <td>460.0</td>\n",
       "      <td>40.0</td>\n",
       "      <td>36.0</td>\n",
       "      <td>0</td>\n",
       "      <td>Вологда</td>\n",
       "      <td>Трифон</td>\n",
       "      <td>Блохин</td>\n",
       "      <td>...</td>\n",
       "      <td>smart</td>\n",
       "      <td>1.0</td>\n",
       "      <td>50.0</td>\n",
       "      <td>15360.0</td>\n",
       "      <td>500.0</td>\n",
       "      <td>550.0</td>\n",
       "      <td>200.0</td>\n",
       "      <td>3.0</td>\n",
       "      <td>3.0</td>\n",
       "      <td>2180.859375</td>\n",
       "    </tr>\n",
       "    <tr>\n",
       "      <td>3185</td>\n",
       "      <td>1496</td>\n",
       "      <td>6</td>\n",
       "      <td>20135.0</td>\n",
       "      <td>530.0</td>\n",
       "      <td>35.0</td>\n",
       "      <td>36.0</td>\n",
       "      <td>0</td>\n",
       "      <td>Вологда</td>\n",
       "      <td>Трифон</td>\n",
       "      <td>Блохин</td>\n",
       "      <td>...</td>\n",
       "      <td>smart</td>\n",
       "      <td>1.0</td>\n",
       "      <td>50.0</td>\n",
       "      <td>15360.0</td>\n",
       "      <td>500.0</td>\n",
       "      <td>550.0</td>\n",
       "      <td>200.0</td>\n",
       "      <td>3.0</td>\n",
       "      <td>3.0</td>\n",
       "      <td>1572.617188</td>\n",
       "    </tr>\n",
       "    <tr>\n",
       "      <td>3186</td>\n",
       "      <td>1496</td>\n",
       "      <td>7</td>\n",
       "      <td>24365.0</td>\n",
       "      <td>551.0</td>\n",
       "      <td>42.0</td>\n",
       "      <td>36.0</td>\n",
       "      <td>0</td>\n",
       "      <td>Вологда</td>\n",
       "      <td>Трифон</td>\n",
       "      <td>Блохин</td>\n",
       "      <td>...</td>\n",
       "      <td>smart</td>\n",
       "      <td>1.0</td>\n",
       "      <td>50.0</td>\n",
       "      <td>15360.0</td>\n",
       "      <td>500.0</td>\n",
       "      <td>550.0</td>\n",
       "      <td>200.0</td>\n",
       "      <td>3.0</td>\n",
       "      <td>3.0</td>\n",
       "      <td>2461.789062</td>\n",
       "    </tr>\n",
       "    <tr>\n",
       "      <td>3187</td>\n",
       "      <td>1496</td>\n",
       "      <td>8</td>\n",
       "      <td>23531.0</td>\n",
       "      <td>498.0</td>\n",
       "      <td>41.0</td>\n",
       "      <td>36.0</td>\n",
       "      <td>0</td>\n",
       "      <td>Вологда</td>\n",
       "      <td>Трифон</td>\n",
       "      <td>Блохин</td>\n",
       "      <td>...</td>\n",
       "      <td>smart</td>\n",
       "      <td>1.0</td>\n",
       "      <td>50.0</td>\n",
       "      <td>15360.0</td>\n",
       "      <td>500.0</td>\n",
       "      <td>550.0</td>\n",
       "      <td>200.0</td>\n",
       "      <td>3.0</td>\n",
       "      <td>3.0</td>\n",
       "      <td>2145.898438</td>\n",
       "    </tr>\n",
       "    <tr>\n",
       "      <td>3188</td>\n",
       "      <td>1496</td>\n",
       "      <td>9</td>\n",
       "      <td>26935.0</td>\n",
       "      <td>458.0</td>\n",
       "      <td>29.0</td>\n",
       "      <td>36.0</td>\n",
       "      <td>0</td>\n",
       "      <td>Вологда</td>\n",
       "      <td>Трифон</td>\n",
       "      <td>Блохин</td>\n",
       "      <td>...</td>\n",
       "      <td>smart</td>\n",
       "      <td>1.0</td>\n",
       "      <td>50.0</td>\n",
       "      <td>15360.0</td>\n",
       "      <td>500.0</td>\n",
       "      <td>550.0</td>\n",
       "      <td>200.0</td>\n",
       "      <td>3.0</td>\n",
       "      <td>3.0</td>\n",
       "      <td>2810.742188</td>\n",
       "    </tr>\n",
       "    <tr>\n",
       "      <td>3189</td>\n",
       "      <td>1496</td>\n",
       "      <td>10</td>\n",
       "      <td>28184.0</td>\n",
       "      <td>427.0</td>\n",
       "      <td>35.0</td>\n",
       "      <td>36.0</td>\n",
       "      <td>0</td>\n",
       "      <td>Вологда</td>\n",
       "      <td>Трифон</td>\n",
       "      <td>Блохин</td>\n",
       "      <td>...</td>\n",
       "      <td>smart</td>\n",
       "      <td>1.0</td>\n",
       "      <td>50.0</td>\n",
       "      <td>15360.0</td>\n",
       "      <td>500.0</td>\n",
       "      <td>550.0</td>\n",
       "      <td>200.0</td>\n",
       "      <td>3.0</td>\n",
       "      <td>3.0</td>\n",
       "      <td>3054.687500</td>\n",
       "    </tr>\n",
       "    <tr>\n",
       "      <td>3190</td>\n",
       "      <td>1496</td>\n",
       "      <td>11</td>\n",
       "      <td>25064.0</td>\n",
       "      <td>634.0</td>\n",
       "      <td>46.0</td>\n",
       "      <td>36.0</td>\n",
       "      <td>0</td>\n",
       "      <td>Вологда</td>\n",
       "      <td>Трифон</td>\n",
       "      <td>Блохин</td>\n",
       "      <td>...</td>\n",
       "      <td>smart</td>\n",
       "      <td>1.0</td>\n",
       "      <td>50.0</td>\n",
       "      <td>15360.0</td>\n",
       "      <td>500.0</td>\n",
       "      <td>550.0</td>\n",
       "      <td>200.0</td>\n",
       "      <td>3.0</td>\n",
       "      <td>3.0</td>\n",
       "      <td>2847.312500</td>\n",
       "    </tr>\n",
       "    <tr>\n",
       "      <td>3191</td>\n",
       "      <td>1496</td>\n",
       "      <td>12</td>\n",
       "      <td>20737.0</td>\n",
       "      <td>484.0</td>\n",
       "      <td>51.0</td>\n",
       "      <td>36.0</td>\n",
       "      <td>0</td>\n",
       "      <td>Вологда</td>\n",
       "      <td>Трифон</td>\n",
       "      <td>Блохин</td>\n",
       "      <td>...</td>\n",
       "      <td>smart</td>\n",
       "      <td>1.0</td>\n",
       "      <td>50.0</td>\n",
       "      <td>15360.0</td>\n",
       "      <td>500.0</td>\n",
       "      <td>550.0</td>\n",
       "      <td>200.0</td>\n",
       "      <td>3.0</td>\n",
       "      <td>3.0</td>\n",
       "      <td>1600.195312</td>\n",
       "    </tr>\n",
       "    <tr>\n",
       "      <td>3192</td>\n",
       "      <td>1497</td>\n",
       "      <td>10</td>\n",
       "      <td>11501.0</td>\n",
       "      <td>464.0</td>\n",
       "      <td>20.0</td>\n",
       "      <td>32.0</td>\n",
       "      <td>0</td>\n",
       "      <td>Челябинск</td>\n",
       "      <td>Каролина</td>\n",
       "      <td>Агеева</td>\n",
       "      <td>...</td>\n",
       "      <td>smart</td>\n",
       "      <td>10.0</td>\n",
       "      <td>50.0</td>\n",
       "      <td>15360.0</td>\n",
       "      <td>500.0</td>\n",
       "      <td>550.0</td>\n",
       "      <td>200.0</td>\n",
       "      <td>3.0</td>\n",
       "      <td>3.0</td>\n",
       "      <td>550.000000</td>\n",
       "    </tr>\n",
       "    <tr>\n",
       "      <td>3193</td>\n",
       "      <td>1497</td>\n",
       "      <td>11</td>\n",
       "      <td>14157.0</td>\n",
       "      <td>347.0</td>\n",
       "      <td>14.0</td>\n",
       "      <td>32.0</td>\n",
       "      <td>0</td>\n",
       "      <td>Челябинск</td>\n",
       "      <td>Каролина</td>\n",
       "      <td>Агеева</td>\n",
       "      <td>...</td>\n",
       "      <td>smart</td>\n",
       "      <td>10.0</td>\n",
       "      <td>50.0</td>\n",
       "      <td>15360.0</td>\n",
       "      <td>500.0</td>\n",
       "      <td>550.0</td>\n",
       "      <td>200.0</td>\n",
       "      <td>3.0</td>\n",
       "      <td>3.0</td>\n",
       "      <td>550.000000</td>\n",
       "    </tr>\n",
       "    <tr>\n",
       "      <td>3194</td>\n",
       "      <td>1497</td>\n",
       "      <td>12</td>\n",
       "      <td>19919.0</td>\n",
       "      <td>516.0</td>\n",
       "      <td>17.0</td>\n",
       "      <td>32.0</td>\n",
       "      <td>0</td>\n",
       "      <td>Челябинск</td>\n",
       "      <td>Каролина</td>\n",
       "      <td>Агеева</td>\n",
       "      <td>...</td>\n",
       "      <td>smart</td>\n",
       "      <td>10.0</td>\n",
       "      <td>50.0</td>\n",
       "      <td>15360.0</td>\n",
       "      <td>500.0</td>\n",
       "      <td>550.0</td>\n",
       "      <td>200.0</td>\n",
       "      <td>3.0</td>\n",
       "      <td>3.0</td>\n",
       "      <td>1488.429688</td>\n",
       "    </tr>\n",
       "    <tr>\n",
       "      <td>3195</td>\n",
       "      <td>1498</td>\n",
       "      <td>7</td>\n",
       "      <td>7477.0</td>\n",
       "      <td>167.0</td>\n",
       "      <td>20.0</td>\n",
       "      <td>68.0</td>\n",
       "      <td>2018-10-25</td>\n",
       "      <td>Владикавказ</td>\n",
       "      <td>Всеволод</td>\n",
       "      <td>Акимчин</td>\n",
       "      <td>...</td>\n",
       "      <td>smart</td>\n",
       "      <td>7.0</td>\n",
       "      <td>50.0</td>\n",
       "      <td>15360.0</td>\n",
       "      <td>500.0</td>\n",
       "      <td>550.0</td>\n",
       "      <td>200.0</td>\n",
       "      <td>3.0</td>\n",
       "      <td>3.0</td>\n",
       "      <td>550.000000</td>\n",
       "    </tr>\n",
       "    <tr>\n",
       "      <td>3196</td>\n",
       "      <td>1498</td>\n",
       "      <td>8</td>\n",
       "      <td>24236.0</td>\n",
       "      <td>377.0</td>\n",
       "      <td>62.0</td>\n",
       "      <td>68.0</td>\n",
       "      <td>2018-10-25</td>\n",
       "      <td>Владикавказ</td>\n",
       "      <td>Всеволод</td>\n",
       "      <td>Акимчин</td>\n",
       "      <td>...</td>\n",
       "      <td>smart</td>\n",
       "      <td>7.0</td>\n",
       "      <td>50.0</td>\n",
       "      <td>15360.0</td>\n",
       "      <td>500.0</td>\n",
       "      <td>550.0</td>\n",
       "      <td>200.0</td>\n",
       "      <td>3.0</td>\n",
       "      <td>3.0</td>\n",
       "      <td>2283.593750</td>\n",
       "    </tr>\n",
       "    <tr>\n",
       "      <td>3197</td>\n",
       "      <td>1498</td>\n",
       "      <td>9</td>\n",
       "      <td>22135.0</td>\n",
       "      <td>447.0</td>\n",
       "      <td>44.0</td>\n",
       "      <td>68.0</td>\n",
       "      <td>2018-10-25</td>\n",
       "      <td>Владикавказ</td>\n",
       "      <td>Всеволод</td>\n",
       "      <td>Акимчин</td>\n",
       "      <td>...</td>\n",
       "      <td>smart</td>\n",
       "      <td>7.0</td>\n",
       "      <td>50.0</td>\n",
       "      <td>15360.0</td>\n",
       "      <td>500.0</td>\n",
       "      <td>550.0</td>\n",
       "      <td>200.0</td>\n",
       "      <td>3.0</td>\n",
       "      <td>3.0</td>\n",
       "      <td>1873.242188</td>\n",
       "    </tr>\n",
       "    <tr>\n",
       "      <td>3198</td>\n",
       "      <td>1498</td>\n",
       "      <td>10</td>\n",
       "      <td>20580.0</td>\n",
       "      <td>233.0</td>\n",
       "      <td>42.0</td>\n",
       "      <td>68.0</td>\n",
       "      <td>2018-10-25</td>\n",
       "      <td>Владикавказ</td>\n",
       "      <td>Всеволод</td>\n",
       "      <td>Акимчин</td>\n",
       "      <td>...</td>\n",
       "      <td>smart</td>\n",
       "      <td>7.0</td>\n",
       "      <td>50.0</td>\n",
       "      <td>15360.0</td>\n",
       "      <td>500.0</td>\n",
       "      <td>550.0</td>\n",
       "      <td>200.0</td>\n",
       "      <td>3.0</td>\n",
       "      <td>3.0</td>\n",
       "      <td>1569.531250</td>\n",
       "    </tr>\n",
       "    <tr>\n",
       "      <td>3199</td>\n",
       "      <td>1499</td>\n",
       "      <td>9</td>\n",
       "      <td>1846.0</td>\n",
       "      <td>65.0</td>\n",
       "      <td>11.0</td>\n",
       "      <td>35.0</td>\n",
       "      <td>0</td>\n",
       "      <td>Пермь</td>\n",
       "      <td>Гектор</td>\n",
       "      <td>Корнилов</td>\n",
       "      <td>...</td>\n",
       "      <td>smart</td>\n",
       "      <td>9.0</td>\n",
       "      <td>50.0</td>\n",
       "      <td>15360.0</td>\n",
       "      <td>500.0</td>\n",
       "      <td>550.0</td>\n",
       "      <td>200.0</td>\n",
       "      <td>3.0</td>\n",
       "      <td>3.0</td>\n",
       "      <td>550.000000</td>\n",
       "    </tr>\n",
       "    <tr>\n",
       "      <td>3200</td>\n",
       "      <td>1499</td>\n",
       "      <td>10</td>\n",
       "      <td>17789.0</td>\n",
       "      <td>430.0</td>\n",
       "      <td>48.0</td>\n",
       "      <td>35.0</td>\n",
       "      <td>0</td>\n",
       "      <td>Пермь</td>\n",
       "      <td>Гектор</td>\n",
       "      <td>Корнилов</td>\n",
       "      <td>...</td>\n",
       "      <td>smart</td>\n",
       "      <td>9.0</td>\n",
       "      <td>50.0</td>\n",
       "      <td>15360.0</td>\n",
       "      <td>500.0</td>\n",
       "      <td>550.0</td>\n",
       "      <td>200.0</td>\n",
       "      <td>3.0</td>\n",
       "      <td>3.0</td>\n",
       "      <td>1024.414062</td>\n",
       "    </tr>\n",
       "    <tr>\n",
       "      <td>3201</td>\n",
       "      <td>1499</td>\n",
       "      <td>11</td>\n",
       "      <td>17964.0</td>\n",
       "      <td>577.0</td>\n",
       "      <td>59.0</td>\n",
       "      <td>35.0</td>\n",
       "      <td>0</td>\n",
       "      <td>Пермь</td>\n",
       "      <td>Гектор</td>\n",
       "      <td>Корнилов</td>\n",
       "      <td>...</td>\n",
       "      <td>smart</td>\n",
       "      <td>9.0</td>\n",
       "      <td>50.0</td>\n",
       "      <td>15360.0</td>\n",
       "      <td>500.0</td>\n",
       "      <td>550.0</td>\n",
       "      <td>200.0</td>\n",
       "      <td>3.0</td>\n",
       "      <td>3.0</td>\n",
       "      <td>766.593750</td>\n",
       "    </tr>\n",
       "    <tr>\n",
       "      <td>3202</td>\n",
       "      <td>1499</td>\n",
       "      <td>12</td>\n",
       "      <td>13056.0</td>\n",
       "      <td>466.0</td>\n",
       "      <td>66.0</td>\n",
       "      <td>35.0</td>\n",
       "      <td>0</td>\n",
       "      <td>Пермь</td>\n",
       "      <td>Гектор</td>\n",
       "      <td>Корнилов</td>\n",
       "      <td>...</td>\n",
       "      <td>smart</td>\n",
       "      <td>9.0</td>\n",
       "      <td>50.0</td>\n",
       "      <td>15360.0</td>\n",
       "      <td>500.0</td>\n",
       "      <td>550.0</td>\n",
       "      <td>200.0</td>\n",
       "      <td>3.0</td>\n",
       "      <td>3.0</td>\n",
       "      <td>550.000000</td>\n",
       "    </tr>\n",
       "    <tr>\n",
       "      <td>3203</td>\n",
       "      <td>All</td>\n",
       "      <td></td>\n",
       "      <td>55305268.0</td>\n",
       "      <td>1368791.0</td>\n",
       "      <td>123036.0</td>\n",
       "      <td>NaN</td>\n",
       "      <td>NaN</td>\n",
       "      <td>NaN</td>\n",
       "      <td>NaN</td>\n",
       "      <td>NaN</td>\n",
       "      <td>...</td>\n",
       "      <td>NaN</td>\n",
       "      <td>NaN</td>\n",
       "      <td>NaN</td>\n",
       "      <td>NaN</td>\n",
       "      <td>NaN</td>\n",
       "      <td>NaN</td>\n",
       "      <td>NaN</td>\n",
       "      <td>NaN</td>\n",
       "      <td>NaN</td>\n",
       "      <td>0.000000</td>\n",
       "    </tr>\n",
       "  </tbody>\n",
       "</table>\n",
       "<p>20 rows × 21 columns</p>\n",
       "</div>"
      ],
      "text/plain": [
       "     user_id month_x     mb_used   duration  message_date   age  churn_date  \\\n",
       "3184    1496       5     23710.0      460.0          40.0  36.0           0   \n",
       "3185    1496       6     20135.0      530.0          35.0  36.0           0   \n",
       "3186    1496       7     24365.0      551.0          42.0  36.0           0   \n",
       "3187    1496       8     23531.0      498.0          41.0  36.0           0   \n",
       "3188    1496       9     26935.0      458.0          29.0  36.0           0   \n",
       "3189    1496      10     28184.0      427.0          35.0  36.0           0   \n",
       "3190    1496      11     25064.0      634.0          46.0  36.0           0   \n",
       "3191    1496      12     20737.0      484.0          51.0  36.0           0   \n",
       "3192    1497      10     11501.0      464.0          20.0  32.0           0   \n",
       "3193    1497      11     14157.0      347.0          14.0  32.0           0   \n",
       "3194    1497      12     19919.0      516.0          17.0  32.0           0   \n",
       "3195    1498       7      7477.0      167.0          20.0  68.0  2018-10-25   \n",
       "3196    1498       8     24236.0      377.0          62.0  68.0  2018-10-25   \n",
       "3197    1498       9     22135.0      447.0          44.0  68.0  2018-10-25   \n",
       "3198    1498      10     20580.0      233.0          42.0  68.0  2018-10-25   \n",
       "3199    1499       9      1846.0       65.0          11.0  35.0           0   \n",
       "3200    1499      10     17789.0      430.0          48.0  35.0           0   \n",
       "3201    1499      11     17964.0      577.0          59.0  35.0           0   \n",
       "3202    1499      12     13056.0      466.0          66.0  35.0           0   \n",
       "3203     All          55305268.0  1368791.0      123036.0   NaN         NaN   \n",
       "\n",
       "             city first_name last_name  ... tariff month_y  messages_included  \\\n",
       "3184      Вологда     Трифон    Блохин  ...  smart     1.0               50.0   \n",
       "3185      Вологда     Трифон    Блохин  ...  smart     1.0               50.0   \n",
       "3186      Вологда     Трифон    Блохин  ...  smart     1.0               50.0   \n",
       "3187      Вологда     Трифон    Блохин  ...  smart     1.0               50.0   \n",
       "3188      Вологда     Трифон    Блохин  ...  smart     1.0               50.0   \n",
       "3189      Вологда     Трифон    Блохин  ...  smart     1.0               50.0   \n",
       "3190      Вологда     Трифон    Блохин  ...  smart     1.0               50.0   \n",
       "3191      Вологда     Трифон    Блохин  ...  smart     1.0               50.0   \n",
       "3192    Челябинск   Каролина    Агеева  ...  smart    10.0               50.0   \n",
       "3193    Челябинск   Каролина    Агеева  ...  smart    10.0               50.0   \n",
       "3194    Челябинск   Каролина    Агеева  ...  smart    10.0               50.0   \n",
       "3195  Владикавказ   Всеволод   Акимчин  ...  smart     7.0               50.0   \n",
       "3196  Владикавказ   Всеволод   Акимчин  ...  smart     7.0               50.0   \n",
       "3197  Владикавказ   Всеволод   Акимчин  ...  smart     7.0               50.0   \n",
       "3198  Владикавказ   Всеволод   Акимчин  ...  smart     7.0               50.0   \n",
       "3199        Пермь     Гектор  Корнилов  ...  smart     9.0               50.0   \n",
       "3200        Пермь     Гектор  Корнилов  ...  smart     9.0               50.0   \n",
       "3201        Пермь     Гектор  Корнилов  ...  smart     9.0               50.0   \n",
       "3202        Пермь     Гектор  Корнилов  ...  smart     9.0               50.0   \n",
       "3203          NaN        NaN       NaN  ...    NaN     NaN                NaN   \n",
       "\n",
       "      mb_per_month_included  minutes_included  rub_monthly_fee  rub_per_gb  \\\n",
       "3184                15360.0             500.0            550.0       200.0   \n",
       "3185                15360.0             500.0            550.0       200.0   \n",
       "3186                15360.0             500.0            550.0       200.0   \n",
       "3187                15360.0             500.0            550.0       200.0   \n",
       "3188                15360.0             500.0            550.0       200.0   \n",
       "3189                15360.0             500.0            550.0       200.0   \n",
       "3190                15360.0             500.0            550.0       200.0   \n",
       "3191                15360.0             500.0            550.0       200.0   \n",
       "3192                15360.0             500.0            550.0       200.0   \n",
       "3193                15360.0             500.0            550.0       200.0   \n",
       "3194                15360.0             500.0            550.0       200.0   \n",
       "3195                15360.0             500.0            550.0       200.0   \n",
       "3196                15360.0             500.0            550.0       200.0   \n",
       "3197                15360.0             500.0            550.0       200.0   \n",
       "3198                15360.0             500.0            550.0       200.0   \n",
       "3199                15360.0             500.0            550.0       200.0   \n",
       "3200                15360.0             500.0            550.0       200.0   \n",
       "3201                15360.0             500.0            550.0       200.0   \n",
       "3202                15360.0             500.0            550.0       200.0   \n",
       "3203                    NaN               NaN              NaN         NaN   \n",
       "\n",
       "      rub_per_message  rub_per_minute      revenue  \n",
       "3184              3.0             3.0  2180.859375  \n",
       "3185              3.0             3.0  1572.617188  \n",
       "3186              3.0             3.0  2461.789062  \n",
       "3187              3.0             3.0  2145.898438  \n",
       "3188              3.0             3.0  2810.742188  \n",
       "3189              3.0             3.0  3054.687500  \n",
       "3190              3.0             3.0  2847.312500  \n",
       "3191              3.0             3.0  1600.195312  \n",
       "3192              3.0             3.0   550.000000  \n",
       "3193              3.0             3.0   550.000000  \n",
       "3194              3.0             3.0  1488.429688  \n",
       "3195              3.0             3.0   550.000000  \n",
       "3196              3.0             3.0  2283.593750  \n",
       "3197              3.0             3.0  1873.242188  \n",
       "3198              3.0             3.0  1569.531250  \n",
       "3199              3.0             3.0   550.000000  \n",
       "3200              3.0             3.0  1024.414062  \n",
       "3201              3.0             3.0   766.593750  \n",
       "3202              3.0             3.0   550.000000  \n",
       "3203              NaN             NaN     0.000000  \n",
       "\n",
       "[20 rows x 21 columns]"
      ]
     },
     "execution_count": 40,
     "metadata": {},
     "output_type": "execute_result"
    }
   ],
   "source": [
    "def revenue (row): # создаем функцию для подсчета общей выручки каждого абонента\n",
    "    sms = (row['message_date'] - row['messages_included']) * row['rub_per_message']\n",
    "    calls = (row['duration'] - row['minutes_included']) * row['rub_per_minute']\n",
    "    data = (row['mb_used'] - row['mb_per_month_included'])/1024 * row['rub_per_gb']\n",
    "    total = 0\n",
    "    for i in [sms, calls, data]:\n",
    "        if i > 0:\n",
    "            #total = sms + calls + data + row['rub_monthly_fee']\n",
    "            total += i\n",
    "        if i < 0:\n",
    "            total = row['rub_monthly_fee']\n",
    "        if i == 0:\n",
    "            total = row['rub_monthly_fee']\n",
    "    return total\n",
    "i_v_m_tariffs['revenue'] = i_v_m_tariffs.apply(revenue, axis = 1)\n",
    "i_v_m_tariffs.tail(20)\n",
    "            "
   ]
  },
  {
   "cell_type": "markdown",
   "metadata": {},
   "source": [
    "<div class=\"alert alert-danger\">\n",
    "<b>❌ Комментарий ревьюера:</b> Кажется, мы забыли округлить данные, как это требуют в задании. Давай сделаем это"
   ]
  },
  {
   "cell_type": "markdown",
   "metadata": {},
   "source": [
    "<div class=\"alert alert-info\"> <b>Комментарий студента:</b> округлил звонки и и-нет траффик по целого вбольшую сторону.</div>"
   ]
  },
  {
   "cell_type": "markdown",
   "metadata": {},
   "source": [
    "<div class=\"alert alert-success\">\n",
    "<b>✔️ Комментарий ревьюера V2:</b> Выбран корректный метод округления данных!"
   ]
  },
  {
   "cell_type": "code",
   "execution_count": 41,
   "metadata": {},
   "outputs": [
    {
     "data": {
      "text/plain": [
       "0"
      ]
     },
     "execution_count": 41,
     "metadata": {},
     "output_type": "execute_result"
    }
   ],
   "source": [
    "i_v_m_tariffs.tariff.value_counts() # проверим общее кол-во смартов и ультра\n",
    "i_v_m_tariffs.revenue.isna().sum() # проверим столбец выручка на наличие пропусков"
   ]
  },
  {
   "cell_type": "code",
   "execution_count": 42,
   "metadata": {},
   "outputs": [
    {
     "name": "stdout",
     "output_type": "stream",
     "text": [
      "<class 'pandas.core.frame.DataFrame'>\n",
      "Int64Index: 3204 entries, 0 to 3203\n",
      "Data columns (total 21 columns):\n",
      "user_id                  3204 non-null object\n",
      "month_x                  3204 non-null object\n",
      "mb_used                  3204 non-null float64\n",
      "duration                 3204 non-null float64\n",
      "message_date             3204 non-null float64\n",
      "age                      3203 non-null float64\n",
      "churn_date               3203 non-null object\n",
      "city                     3203 non-null object\n",
      "first_name               3203 non-null object\n",
      "last_name                3203 non-null object\n",
      "reg_date                 3203 non-null object\n",
      "tariff                   3203 non-null object\n",
      "month_y                  3203 non-null float64\n",
      "messages_included        3203 non-null float64\n",
      "mb_per_month_included    3203 non-null float64\n",
      "minutes_included         3203 non-null float64\n",
      "rub_monthly_fee          3203 non-null float64\n",
      "rub_per_gb               3203 non-null float64\n",
      "rub_per_message          3203 non-null float64\n",
      "rub_per_minute           3203 non-null float64\n",
      "revenue                  3204 non-null int64\n",
      "dtypes: float64(12), int64(1), object(8)\n",
      "memory usage: 550.7+ KB\n"
     ]
    }
   ],
   "source": [
    "#i_v_m_tariffs['month_x'] = pd.to_numeric(i_v_m_tariffs['month_x'])\n",
    "i_v_m_tariffs['revenue'] = i_v_m_tariffs['revenue'].astype('int') #заменил тип данных по столбцу revenue на 'int'\n",
    "i_v_m_tariffs.info()"
   ]
  },
  {
   "cell_type": "markdown",
   "metadata": {},
   "source": [
    "# Разделение услуг по тарифам и подсчет по каждому месяцу"
   ]
  },
  {
   "cell_type": "code",
   "execution_count": 43,
   "metadata": {},
   "outputs": [],
   "source": [
    "data_tariff = i_v_m_tariffs.pivot_table(index = ['month_x', 'tariff'],\n",
    "                                 values = ['revenue', 'duration', 'message_date', 'mb_used'],\n",
    "                                 aggfunc = ['sum', 'mean'], margins = True)\n",
    "#display(data_tariff.sort_values(('count', 'revenue'), ascending = False).head(25))"
   ]
  },
  {
   "cell_type": "code",
   "execution_count": 44,
   "metadata": {
    "scrolled": true
   },
   "outputs": [
    {
     "data": {
      "text/html": [
       "<div>\n",
       "<style scoped>\n",
       "    .dataframe tbody tr th:only-of-type {\n",
       "        vertical-align: middle;\n",
       "    }\n",
       "\n",
       "    .dataframe tbody tr th {\n",
       "        vertical-align: top;\n",
       "    }\n",
       "\n",
       "    .dataframe thead tr th {\n",
       "        text-align: left;\n",
       "    }\n",
       "\n",
       "    .dataframe thead tr:last-of-type th {\n",
       "        text-align: right;\n",
       "    }\n",
       "</style>\n",
       "<table border=\"1\" class=\"dataframe\">\n",
       "  <thead>\n",
       "    <tr>\n",
       "      <th></th>\n",
       "      <th></th>\n",
       "      <th colspan=\"4\" halign=\"left\">sum</th>\n",
       "      <th colspan=\"4\" halign=\"left\">mean</th>\n",
       "    </tr>\n",
       "    <tr>\n",
       "      <th></th>\n",
       "      <th></th>\n",
       "      <th>duration</th>\n",
       "      <th>mb_used</th>\n",
       "      <th>message_date</th>\n",
       "      <th>revenue</th>\n",
       "      <th>duration</th>\n",
       "      <th>mb_used</th>\n",
       "      <th>message_date</th>\n",
       "      <th>revenue</th>\n",
       "    </tr>\n",
       "    <tr>\n",
       "      <th>month_x</th>\n",
       "      <th>tariff</th>\n",
       "      <th></th>\n",
       "      <th></th>\n",
       "      <th></th>\n",
       "      <th></th>\n",
       "      <th></th>\n",
       "      <th></th>\n",
       "      <th></th>\n",
       "      <th></th>\n",
       "    </tr>\n",
       "  </thead>\n",
       "  <tbody>\n",
       "    <tr>\n",
       "      <td>1</td>\n",
       "      <td>smart</td>\n",
       "      <td>6579.0</td>\n",
       "      <td>289482.0</td>\n",
       "      <td>620.0</td>\n",
       "      <td>23713</td>\n",
       "      <td>193.500000</td>\n",
       "      <td>8514.176471</td>\n",
       "      <td>18.235294</td>\n",
       "      <td>697.441176</td>\n",
       "    </tr>\n",
       "    <tr>\n",
       "      <td>2</td>\n",
       "      <td>smart</td>\n",
       "      <td>16438.0</td>\n",
       "      <td>672656.0</td>\n",
       "      <td>1397.0</td>\n",
       "      <td>44220</td>\n",
       "      <td>283.413793</td>\n",
       "      <td>11597.517241</td>\n",
       "      <td>24.086207</td>\n",
       "      <td>762.413793</td>\n",
       "    </tr>\n",
       "    <tr>\n",
       "      <td>3</td>\n",
       "      <td>smart</td>\n",
       "      <td>28362.0</td>\n",
       "      <td>1163058.0</td>\n",
       "      <td>2453.0</td>\n",
       "      <td>79832</td>\n",
       "      <td>368.337662</td>\n",
       "      <td>15104.649351</td>\n",
       "      <td>31.857143</td>\n",
       "      <td>1036.779221</td>\n",
       "    </tr>\n",
       "    <tr>\n",
       "      <td>4</td>\n",
       "      <td>smart</td>\n",
       "      <td>38838.0</td>\n",
       "      <td>1507817.0</td>\n",
       "      <td>3443.0</td>\n",
       "      <td>94128</td>\n",
       "      <td>346.767857</td>\n",
       "      <td>13462.651786</td>\n",
       "      <td>30.741071</td>\n",
       "      <td>840.428571</td>\n",
       "    </tr>\n",
       "    <tr>\n",
       "      <td>5</td>\n",
       "      <td>smart</td>\n",
       "      <td>51565.0</td>\n",
       "      <td>2228598.0</td>\n",
       "      <td>4762.0</td>\n",
       "      <td>149544</td>\n",
       "      <td>365.709220</td>\n",
       "      <td>15805.659574</td>\n",
       "      <td>33.773050</td>\n",
       "      <td>1060.595745</td>\n",
       "    </tr>\n",
       "    <tr>\n",
       "      <td>6</td>\n",
       "      <td>smart</td>\n",
       "      <td>61283.0</td>\n",
       "      <td>2590405.0</td>\n",
       "      <td>5478.0</td>\n",
       "      <td>173151</td>\n",
       "      <td>373.676829</td>\n",
       "      <td>15795.152439</td>\n",
       "      <td>33.402439</td>\n",
       "      <td>1055.798780</td>\n",
       "    </tr>\n",
       "    <tr>\n",
       "      <td>7</td>\n",
       "      <td>smart</td>\n",
       "      <td>77587.0</td>\n",
       "      <td>3164469.0</td>\n",
       "      <td>6784.0</td>\n",
       "      <td>213903</td>\n",
       "      <td>386.004975</td>\n",
       "      <td>15743.626866</td>\n",
       "      <td>33.751244</td>\n",
       "      <td>1064.194030</td>\n",
       "    </tr>\n",
       "    <tr>\n",
       "      <td>8</td>\n",
       "      <td>smart</td>\n",
       "      <td>93569.0</td>\n",
       "      <td>3903634.0</td>\n",
       "      <td>7904.0</td>\n",
       "      <td>269938</td>\n",
       "      <td>399.867521</td>\n",
       "      <td>16682.196581</td>\n",
       "      <td>33.777778</td>\n",
       "      <td>1153.581197</td>\n",
       "    </tr>\n",
       "    <tr>\n",
       "      <td>9</td>\n",
       "      <td>smart</td>\n",
       "      <td>105303.0</td>\n",
       "      <td>4239065.0</td>\n",
       "      <td>8746.0</td>\n",
       "      <td>280881</td>\n",
       "      <td>405.011538</td>\n",
       "      <td>16304.096154</td>\n",
       "      <td>33.638462</td>\n",
       "      <td>1080.311538</td>\n",
       "    </tr>\n",
       "    <tr>\n",
       "      <td>10</td>\n",
       "      <td>smart</td>\n",
       "      <td>118412.0</td>\n",
       "      <td>4926730.0</td>\n",
       "      <td>9927.0</td>\n",
       "      <td>351390</td>\n",
       "      <td>402.761905</td>\n",
       "      <td>16757.585034</td>\n",
       "      <td>33.765306</td>\n",
       "      <td>1195.204082</td>\n",
       "    </tr>\n",
       "    <tr>\n",
       "      <td>11</td>\n",
       "      <td>smart</td>\n",
       "      <td>129908.0</td>\n",
       "      <td>5339197.0</td>\n",
       "      <td>10768.0</td>\n",
       "      <td>369973</td>\n",
       "      <td>411.101266</td>\n",
       "      <td>16896.193038</td>\n",
       "      <td>34.075949</td>\n",
       "      <td>1170.800633</td>\n",
       "    </tr>\n",
       "    <tr>\n",
       "      <td>12</td>\n",
       "      <td>smart</td>\n",
       "      <td>152391.0</td>\n",
       "      <td>6104468.0</td>\n",
       "      <td>12130.0</td>\n",
       "      <td>455646</td>\n",
       "      <td>452.198813</td>\n",
       "      <td>18114.148368</td>\n",
       "      <td>35.994065</td>\n",
       "      <td>1352.065282</td>\n",
       "    </tr>\n",
       "  </tbody>\n",
       "</table>\n",
       "</div>"
      ],
      "text/plain": [
       "                     sum                                        mean  \\\n",
       "                duration    mb_used message_date revenue    duration   \n",
       "month_x tariff                                                         \n",
       "1       smart     6579.0   289482.0        620.0   23713  193.500000   \n",
       "2       smart    16438.0   672656.0       1397.0   44220  283.413793   \n",
       "3       smart    28362.0  1163058.0       2453.0   79832  368.337662   \n",
       "4       smart    38838.0  1507817.0       3443.0   94128  346.767857   \n",
       "5       smart    51565.0  2228598.0       4762.0  149544  365.709220   \n",
       "6       smart    61283.0  2590405.0       5478.0  173151  373.676829   \n",
       "7       smart    77587.0  3164469.0       6784.0  213903  386.004975   \n",
       "8       smart    93569.0  3903634.0       7904.0  269938  399.867521   \n",
       "9       smart   105303.0  4239065.0       8746.0  280881  405.011538   \n",
       "10      smart   118412.0  4926730.0       9927.0  351390  402.761905   \n",
       "11      smart   129908.0  5339197.0      10768.0  369973  411.101266   \n",
       "12      smart   152391.0  6104468.0      12130.0  455646  452.198813   \n",
       "\n",
       "                                                        \n",
       "                     mb_used message_date      revenue  \n",
       "month_x tariff                                          \n",
       "1       smart    8514.176471    18.235294   697.441176  \n",
       "2       smart   11597.517241    24.086207   762.413793  \n",
       "3       smart   15104.649351    31.857143  1036.779221  \n",
       "4       smart   13462.651786    30.741071   840.428571  \n",
       "5       smart   15805.659574    33.773050  1060.595745  \n",
       "6       smart   15795.152439    33.402439  1055.798780  \n",
       "7       smart   15743.626866    33.751244  1064.194030  \n",
       "8       smart   16682.196581    33.777778  1153.581197  \n",
       "9       smart   16304.096154    33.638462  1080.311538  \n",
       "10      smart   16757.585034    33.765306  1195.204082  \n",
       "11      smart   16896.193038    34.075949  1170.800633  \n",
       "12      smart   18114.148368    35.994065  1352.065282  "
      ]
     },
     "execution_count": 44,
     "metadata": {},
     "output_type": "execute_result"
    }
   ],
   "source": [
    "data_tariff.query('(tariff == \"smart\")').sort_values(by='month_x') # фильтр по smart"
   ]
  },
  {
   "cell_type": "code",
   "execution_count": 45,
   "metadata": {
    "scrolled": false
   },
   "outputs": [
    {
     "data": {
      "text/html": [
       "<div>\n",
       "<style scoped>\n",
       "    .dataframe tbody tr th:only-of-type {\n",
       "        vertical-align: middle;\n",
       "    }\n",
       "\n",
       "    .dataframe tbody tr th {\n",
       "        vertical-align: top;\n",
       "    }\n",
       "\n",
       "    .dataframe thead tr th {\n",
       "        text-align: left;\n",
       "    }\n",
       "\n",
       "    .dataframe thead tr:last-of-type th {\n",
       "        text-align: right;\n",
       "    }\n",
       "</style>\n",
       "<table border=\"1\" class=\"dataframe\">\n",
       "  <thead>\n",
       "    <tr>\n",
       "      <th></th>\n",
       "      <th></th>\n",
       "      <th colspan=\"4\" halign=\"left\">sum</th>\n",
       "      <th colspan=\"4\" halign=\"left\">mean</th>\n",
       "    </tr>\n",
       "    <tr>\n",
       "      <th></th>\n",
       "      <th></th>\n",
       "      <th>duration</th>\n",
       "      <th>mb_used</th>\n",
       "      <th>message_date</th>\n",
       "      <th>revenue</th>\n",
       "      <th>duration</th>\n",
       "      <th>mb_used</th>\n",
       "      <th>message_date</th>\n",
       "      <th>revenue</th>\n",
       "    </tr>\n",
       "    <tr>\n",
       "      <th>month_x</th>\n",
       "      <th>tariff</th>\n",
       "      <th></th>\n",
       "      <th></th>\n",
       "      <th></th>\n",
       "      <th></th>\n",
       "      <th></th>\n",
       "      <th></th>\n",
       "      <th></th>\n",
       "      <th></th>\n",
       "    </tr>\n",
       "  </thead>\n",
       "  <tbody>\n",
       "    <tr>\n",
       "      <td>1</td>\n",
       "      <td>ultra</td>\n",
       "      <td>3648.0</td>\n",
       "      <td>118272.0</td>\n",
       "      <td>304.0</td>\n",
       "      <td>17550</td>\n",
       "      <td>405.333333</td>\n",
       "      <td>13141.333333</td>\n",
       "      <td>33.777778</td>\n",
       "      <td>1950.000000</td>\n",
       "    </tr>\n",
       "    <tr>\n",
       "      <td>2</td>\n",
       "      <td>ultra</td>\n",
       "      <td>6566.0</td>\n",
       "      <td>282632.0</td>\n",
       "      <td>522.0</td>\n",
       "      <td>43443</td>\n",
       "      <td>298.454545</td>\n",
       "      <td>12846.909091</td>\n",
       "      <td>23.727273</td>\n",
       "      <td>1974.681818</td>\n",
       "    </tr>\n",
       "    <tr>\n",
       "      <td>3</td>\n",
       "      <td>ultra</td>\n",
       "      <td>17130.0</td>\n",
       "      <td>648835.0</td>\n",
       "      <td>1195.0</td>\n",
       "      <td>74129</td>\n",
       "      <td>462.972973</td>\n",
       "      <td>17536.081081</td>\n",
       "      <td>32.297297</td>\n",
       "      <td>2003.486486</td>\n",
       "    </tr>\n",
       "    <tr>\n",
       "      <td>4</td>\n",
       "      <td>ultra</td>\n",
       "      <td>23780.0</td>\n",
       "      <td>925574.0</td>\n",
       "      <td>1736.0</td>\n",
       "      <td>109724</td>\n",
       "      <td>432.363636</td>\n",
       "      <td>16828.618182</td>\n",
       "      <td>31.563636</td>\n",
       "      <td>1994.981818</td>\n",
       "    </tr>\n",
       "    <tr>\n",
       "      <td>5</td>\n",
       "      <td>ultra</td>\n",
       "      <td>32099.0</td>\n",
       "      <td>1297366.0</td>\n",
       "      <td>2515.0</td>\n",
       "      <td>135697</td>\n",
       "      <td>486.348485</td>\n",
       "      <td>19657.060606</td>\n",
       "      <td>38.106061</td>\n",
       "      <td>2056.015152</td>\n",
       "    </tr>\n",
       "    <tr>\n",
       "      <td>6</td>\n",
       "      <td>ultra</td>\n",
       "      <td>37874.0</td>\n",
       "      <td>1589735.0</td>\n",
       "      <td>3467.0</td>\n",
       "      <td>168696</td>\n",
       "      <td>456.313253</td>\n",
       "      <td>19153.433735</td>\n",
       "      <td>41.771084</td>\n",
       "      <td>2032.481928</td>\n",
       "    </tr>\n",
       "    <tr>\n",
       "      <td>7</td>\n",
       "      <td>ultra</td>\n",
       "      <td>46691.0</td>\n",
       "      <td>1865150.0</td>\n",
       "      <td>4499.0</td>\n",
       "      <td>189849</td>\n",
       "      <td>518.788889</td>\n",
       "      <td>20723.888889</td>\n",
       "      <td>49.988889</td>\n",
       "      <td>2109.433333</td>\n",
       "    </tr>\n",
       "    <tr>\n",
       "      <td>8</td>\n",
       "      <td>ultra</td>\n",
       "      <td>51387.0</td>\n",
       "      <td>2094693.0</td>\n",
       "      <td>5142.0</td>\n",
       "      <td>219573</td>\n",
       "      <td>484.783019</td>\n",
       "      <td>19761.254717</td>\n",
       "      <td>48.509434</td>\n",
       "      <td>2071.443396</td>\n",
       "    </tr>\n",
       "    <tr>\n",
       "      <td>9</td>\n",
       "      <td>ultra</td>\n",
       "      <td>58393.0</td>\n",
       "      <td>2208549.0</td>\n",
       "      <td>5981.0</td>\n",
       "      <td>229558</td>\n",
       "      <td>512.219298</td>\n",
       "      <td>19373.236842</td>\n",
       "      <td>52.464912</td>\n",
       "      <td>2013.666667</td>\n",
       "    </tr>\n",
       "    <tr>\n",
       "      <td>10</td>\n",
       "      <td>ultra</td>\n",
       "      <td>64563.0</td>\n",
       "      <td>2465640.0</td>\n",
       "      <td>7152.0</td>\n",
       "      <td>250965</td>\n",
       "      <td>529.204918</td>\n",
       "      <td>20210.163934</td>\n",
       "      <td>58.622951</td>\n",
       "      <td>2057.090164</td>\n",
       "    </tr>\n",
       "    <tr>\n",
       "      <td>11</td>\n",
       "      <td>ultra</td>\n",
       "      <td>68265.0</td>\n",
       "      <td>2651500.0</td>\n",
       "      <td>7447.0</td>\n",
       "      <td>276763</td>\n",
       "      <td>513.270677</td>\n",
       "      <td>19936.090226</td>\n",
       "      <td>55.992481</td>\n",
       "      <td>2080.924812</td>\n",
       "    </tr>\n",
       "    <tr>\n",
       "      <td>12</td>\n",
       "      <td>ultra</td>\n",
       "      <td>77609.0</td>\n",
       "      <td>3029323.0</td>\n",
       "      <td>8386.0</td>\n",
       "      <td>293466</td>\n",
       "      <td>562.384058</td>\n",
       "      <td>21951.615942</td>\n",
       "      <td>60.768116</td>\n",
       "      <td>2126.565217</td>\n",
       "    </tr>\n",
       "  </tbody>\n",
       "</table>\n",
       "</div>"
      ],
      "text/plain": [
       "                    sum                                        mean  \\\n",
       "               duration    mb_used message_date revenue    duration   \n",
       "month_x tariff                                                        \n",
       "1       ultra    3648.0   118272.0        304.0   17550  405.333333   \n",
       "2       ultra    6566.0   282632.0        522.0   43443  298.454545   \n",
       "3       ultra   17130.0   648835.0       1195.0   74129  462.972973   \n",
       "4       ultra   23780.0   925574.0       1736.0  109724  432.363636   \n",
       "5       ultra   32099.0  1297366.0       2515.0  135697  486.348485   \n",
       "6       ultra   37874.0  1589735.0       3467.0  168696  456.313253   \n",
       "7       ultra   46691.0  1865150.0       4499.0  189849  518.788889   \n",
       "8       ultra   51387.0  2094693.0       5142.0  219573  484.783019   \n",
       "9       ultra   58393.0  2208549.0       5981.0  229558  512.219298   \n",
       "10      ultra   64563.0  2465640.0       7152.0  250965  529.204918   \n",
       "11      ultra   68265.0  2651500.0       7447.0  276763  513.270677   \n",
       "12      ultra   77609.0  3029323.0       8386.0  293466  562.384058   \n",
       "\n",
       "                                                        \n",
       "                     mb_used message_date      revenue  \n",
       "month_x tariff                                          \n",
       "1       ultra   13141.333333    33.777778  1950.000000  \n",
       "2       ultra   12846.909091    23.727273  1974.681818  \n",
       "3       ultra   17536.081081    32.297297  2003.486486  \n",
       "4       ultra   16828.618182    31.563636  1994.981818  \n",
       "5       ultra   19657.060606    38.106061  2056.015152  \n",
       "6       ultra   19153.433735    41.771084  2032.481928  \n",
       "7       ultra   20723.888889    49.988889  2109.433333  \n",
       "8       ultra   19761.254717    48.509434  2071.443396  \n",
       "9       ultra   19373.236842    52.464912  2013.666667  \n",
       "10      ultra   20210.163934    58.622951  2057.090164  \n",
       "11      ultra   19936.090226    55.992481  2080.924812  \n",
       "12      ultra   21951.615942    60.768116  2126.565217  "
      ]
     },
     "execution_count": 45,
     "metadata": {},
     "output_type": "execute_result"
    }
   ],
   "source": [
    "data_tariff.query('(tariff == \"ultra\")').sort_values(by='month_x') # фильтр по 'ultra'"
   ]
  },
  {
   "cell_type": "markdown",
   "metadata": {},
   "source": [
    "# Вычисление среднего, дисперсии и стандартного отклонения по звонкам, и-нет траффику, СМС"
   ]
  },
  {
   "cell_type": "markdown",
   "metadata": {},
   "source": [
    "# Среднее, дисперсия и стандартное отколнениев разрезе тарифов"
   ]
  },
  {
   "cell_type": "code",
   "execution_count": 46,
   "metadata": {
    "scrolled": true
   },
   "outputs": [
    {
     "data": {
      "text/html": [
       "<div>\n",
       "<style scoped>\n",
       "    .dataframe tbody tr th:only-of-type {\n",
       "        vertical-align: middle;\n",
       "    }\n",
       "\n",
       "    .dataframe tbody tr th {\n",
       "        vertical-align: top;\n",
       "    }\n",
       "\n",
       "    .dataframe thead tr th {\n",
       "        text-align: left;\n",
       "    }\n",
       "\n",
       "    .dataframe thead tr:last-of-type th {\n",
       "        text-align: right;\n",
       "    }\n",
       "</style>\n",
       "<table border=\"1\" class=\"dataframe\">\n",
       "  <thead>\n",
       "    <tr>\n",
       "      <th></th>\n",
       "      <th colspan=\"3\" halign=\"left\">mean</th>\n",
       "      <th colspan=\"3\" halign=\"left\">var</th>\n",
       "      <th colspan=\"3\" halign=\"left\">std</th>\n",
       "    </tr>\n",
       "    <tr>\n",
       "      <th></th>\n",
       "      <th>duration</th>\n",
       "      <th>mb_used</th>\n",
       "      <th>message_date</th>\n",
       "      <th>duration</th>\n",
       "      <th>mb_used</th>\n",
       "      <th>message_date</th>\n",
       "      <th>duration</th>\n",
       "      <th>mb_used</th>\n",
       "      <th>message_date</th>\n",
       "    </tr>\n",
       "    <tr>\n",
       "      <th>tariff</th>\n",
       "      <th></th>\n",
       "      <th></th>\n",
       "      <th></th>\n",
       "      <th></th>\n",
       "      <th></th>\n",
       "      <th></th>\n",
       "      <th></th>\n",
       "      <th></th>\n",
       "      <th></th>\n",
       "    </tr>\n",
       "  </thead>\n",
       "  <tbody>\n",
       "    <tr>\n",
       "      <td>smart</td>\n",
       "      <td>395.078546</td>\n",
       "      <td>16216.148564</td>\n",
       "      <td>33.398564</td>\n",
       "      <td>32353.071062</td>\n",
       "      <td>3.436001e+07</td>\n",
       "      <td>796.69963</td>\n",
       "      <td>179.869595</td>\n",
       "      <td>5861.741292</td>\n",
       "      <td>28.225868</td>\n",
       "    </tr>\n",
       "    <tr>\n",
       "      <td>ultra</td>\n",
       "      <td>500.517949</td>\n",
       "      <td>19668.993846</td>\n",
       "      <td>49.585641</td>\n",
       "      <td>89957.083610</td>\n",
       "      <td>9.886460e+07</td>\n",
       "      <td>2301.92464</td>\n",
       "      <td>299.928464</td>\n",
       "      <td>9943.067706</td>\n",
       "      <td>47.978377</td>\n",
       "    </tr>\n",
       "  </tbody>\n",
       "</table>\n",
       "</div>"
      ],
      "text/plain": [
       "              mean                                      var                \\\n",
       "          duration       mb_used message_date      duration       mb_used   \n",
       "tariff                                                                      \n",
       "smart   395.078546  16216.148564    33.398564  32353.071062  3.436001e+07   \n",
       "ultra   500.517949  19668.993846    49.585641  89957.083610  9.886460e+07   \n",
       "\n",
       "                            std                            \n",
       "       message_date    duration      mb_used message_date  \n",
       "tariff                                                     \n",
       "smart     796.69963  179.869595  5861.741292    28.225868  \n",
       "ultra    2301.92464  299.928464  9943.067706    47.978377  "
      ]
     },
     "execution_count": 46,
     "metadata": {},
     "output_type": "execute_result"
    }
   ],
   "source": [
    "i_v_m_tariffs.pivot_table(index= 'tariff', values= ['duration', 'mb_used', 'message_date'], aggfunc= ['mean', 'var','std'])\n"
   ]
  },
  {
   "cell_type": "markdown",
   "metadata": {},
   "source": [
    "\n",
    "<div class=\"alert alert-success\">\n",
    "<b>✔️ Комментарий ревьюера:</b>  Верно"
   ]
  },
  {
   "cell_type": "markdown",
   "metadata": {},
   "source": [
    "# распределение используемых минут в месяц в разрезе тарифов"
   ]
  },
  {
   "cell_type": "code",
   "execution_count": 47,
   "metadata": {
    "scrolled": true
   },
   "outputs": [
    {
     "data": {
      "image/png": "[encoded data removed]",
      "text/plain": [
       "<Figure size 432x288 with 1 Axes>"
      ]
     },
     "metadata": {
      "needs_background": "light"
     },
     "output_type": "display_data"
    }
   ],
   "source": [
    "\n",
    "plt.hist(i_v_m_tariffs[i_v_m_tariffs['tariff'] == 'ultra']['duration'], bins=10, alpha=0.5, label='ultra')\n",
    "plt.hist(i_v_m_tariffs[i_v_m_tariffs['tariff'] == 'smart']['duration'], bins=10, alpha=0.5, label='smart')\n",
    "plt.legend(loc='upper right')\n",
    "plt.title('кол-во минут в мес')\n",
    "plt.show()\n",
    "# исходя из таблиц data_tariff и гистограмм можно сделать следующие выводы:\n",
    "# 1) абонент на тарифе смарт значительно чаще \"выговаривается\" пакет минут, а следовательно и генерирует дополнительную voice revenue сверх пакета\n",
    "# 2) абонент на тарифе ультра никогда не выговаривает месяный пакет. Чаще всего он выговаривает от 400 - 700 минут,что немного \n",
    "# делает их по потреблению \"голоса\" схожими с абонентами смарта\n"
   ]
  },
  {
   "cell_type": "markdown",
   "metadata": {},
   "source": [
    "# распределение используемого и-нет траффика в месяц в разрезе тарифов"
   ]
  },
  {
   "cell_type": "code",
   "execution_count": 48,
   "metadata": {
    "scrolled": true
   },
   "outputs": [
    {
     "data": {
      "image/png": "[encoded data removed]",
      "text/plain": [
       "<Figure size 432x288 with 1 Axes>"
      ]
     },
     "metadata": {
      "needs_background": "light"
     },
     "output_type": "display_data"
    }
   ],
   "source": [
    "plt.hist(i_v_m_tariffs[i_v_m_tariffs['tariff'] == 'ultra']['mb_used'], bins=10, alpha=0.5, label='ultra')\n",
    "plt.hist(i_v_m_tariffs[i_v_m_tariffs['tariff'] == 'smart']['mb_used'], bins=10, alpha=0.5, label='smart')\n",
    "plt.legend(loc='upper right')\n",
    "plt.title('кол-во mb в мес')\n",
    "plt.show()\n",
    "# исходя из таблиц data_tariff и гистограмм можно сделать следующие выводы:\n",
    "# 1) абонент на тарифе смарт значительно чаще выходит за рамки лимита. Чаще всего абонент использует от 10 до 25 Гб, а следовательно и генерирует дополнительную data revenue сверх пакета.\n",
    "# И если учесть стоимость 1 дополнительного Гб, доп выручка становится более значительна, чем от \"голоса\", что делает тариф смарт более маржинальным.\n",
    "# 2) абонент на тарифе ультра в большинстве случаев использует свои 30 гб пакета. Чаще всего он использует от 15 до 30 Гб в мес, минут,в то же время видно\n",
    "# что значаительная часть абонентов использует 40 Гб, что наводит на мысль об увеличении пакета Гб и уменьшении кол-ва минут, а также повышении \n",
    "# о повышении абонентской платы на тарифе ультра."
   ]
  },
  {
   "cell_type": "markdown",
   "metadata": {},
   "source": [
    "# распределение используемых смс в месяц в разрезе тарифов"
   ]
  },
  {
   "cell_type": "code",
   "execution_count": 49,
   "metadata": {
    "scrolled": false
   },
   "outputs": [
    {
     "data": {
      "image/png": "[encoded data removed]",
      "text/plain": [
       "<Figure size 432x288 with 1 Axes>"
      ]
     },
     "metadata": {
      "needs_background": "light"
     },
     "output_type": "display_data"
    }
   ],
   "source": [
    "plt.hist(i_v_m_tariffs[i_v_m_tariffs['tariff'] == 'ultra']['message_date'], bins=10, alpha=0.5, label='ultra')\n",
    "plt.hist(i_v_m_tariffs[i_v_m_tariffs['tariff'] == 'smart']['message_date'], bins=10, alpha=0.5, label='smart')\n",
    "plt.legend(loc='upper right')\n",
    "plt.title('кол-во SMS в мес')\n",
    "plt.show()\n",
    "# исходя из таблиц data_tariff и гистограмм можно сделать следующие выводы:\n",
    "# 1) практически все абоненты смарта стараются полностью использовать пакет СМС, однако остается значительная часть абонентов,\n",
    "# кто превышает пакет и генерирует доп выручку на сообщениях.Но все заканчивается менее чем на 150 СМС в мес.\n",
    "# 2) абонент на тарифе ультра никогда не использует месяный пакет СМС. Видно, что он не видит необходимости пользоваться этой услугой,\n",
    "# предпочитая ей мессенджеры мобильного интернета.\n"
   ]
  },
  {
   "cell_type": "markdown",
   "metadata": {},
   "source": [
    "# Вывод\n",
    "1)группировка тарифов по месяца внутри года и по потреблению услуг как в абсолютном так и в относительном выражении говорит о том, что рост потребления, а как следствие и выручки у ТП смарт прослеживается от января к декабрю прямо по нарастающей и в ядром роста является и-нет траффик.\n",
    "\n",
    "2) потребление минут на ТП Ультра показывает, что в среднем ни в дном месяце абонент не вышел за рамки пакета. Выручка сверх абонетнской платы складывается в основоном за счет тех абонентов, кто перелимичивают свой пакет Гб. \n",
    "\n",
    "3) при рассмотрении этих двух ТП в рамках всех регионов в относительном выражении можно сделать вывод о том, что абонент Ультра приносит больше выручки, чем абонент ТП Смарт. но это поверхностный вывод, так как платежеспособность регионов разная и абсолютное кол-во ТП смарт \"побеждают\" в борьбе за выручку высоко маржинальный,но дорогой ТП Ультра. "
   ]
  },
  {
   "cell_type": "markdown",
   "metadata": {},
   "source": [
    "# группируем оба тарифа по сумме выручки и средней выручке"
   ]
  },
  {
   "cell_type": "code",
   "execution_count": 50,
   "metadata": {},
   "outputs": [
    {
     "data": {
      "text/html": [
       "<div>\n",
       "<style scoped>\n",
       "    .dataframe tbody tr th:only-of-type {\n",
       "        vertical-align: middle;\n",
       "    }\n",
       "\n",
       "    .dataframe tbody tr th {\n",
       "        vertical-align: top;\n",
       "    }\n",
       "\n",
       "    .dataframe thead tr th {\n",
       "        text-align: left;\n",
       "    }\n",
       "\n",
       "    .dataframe thead tr:last-of-type th {\n",
       "        text-align: right;\n",
       "    }\n",
       "</style>\n",
       "<table border=\"1\" class=\"dataframe\">\n",
       "  <thead>\n",
       "    <tr>\n",
       "      <th></th>\n",
       "      <th>count</th>\n",
       "      <th>var</th>\n",
       "    </tr>\n",
       "    <tr>\n",
       "      <th></th>\n",
       "      <th>revenue</th>\n",
       "      <th>revenue</th>\n",
       "    </tr>\n",
       "    <tr>\n",
       "      <th>tariff</th>\n",
       "      <th></th>\n",
       "      <th></th>\n",
       "    </tr>\n",
       "  </thead>\n",
       "  <tbody>\n",
       "    <tr>\n",
       "      <td>smart</td>\n",
       "      <td>2228</td>\n",
       "      <td>576527.221507</td>\n",
       "    </tr>\n",
       "    <tr>\n",
       "      <td>ultra</td>\n",
       "      <td>975</td>\n",
       "      <td>127031.232092</td>\n",
       "    </tr>\n",
       "  </tbody>\n",
       "</table>\n",
       "</div>"
      ],
      "text/plain": [
       "         count            var\n",
       "       revenue        revenue\n",
       "tariff                       \n",
       "smart     2228  576527.221507\n",
       "ultra      975  127031.232092"
      ]
     },
     "execution_count": 50,
     "metadata": {},
     "output_type": "execute_result"
    }
   ],
   "source": [
    "i_v_m_tariffs.groupby('tariff').agg({'revenue': ['sum', 'mean']}).round(1)\n",
    "# сумма выручки говорит о том, что ТП смарт приносит больше доходов, чем ультра. Однако средняя выручка расставляет \n",
    "# все на свои места. Один абонент ТП ультра приносит приблизительно в 2 раза выручки, чем абонент ТП смарт. \n",
    "# в то же время однозначные выводы делать пока рано\n",
    "i_v_m_tariffs.pivot_table(index= 'tariff', values= 'revenue', aggfunc= ['count', 'var']) # дисперсия выборок значительно отличается\n",
    "# выборки также значительно различаются \n",
    "# поэтому в работе с гипотезами применим параметр 'equal_var=False'"
   ]
  },
  {
   "cell_type": "code",
   "execution_count": 51,
   "metadata": {
    "scrolled": true
   },
   "outputs": [],
   "source": [
    "i_v_m_tariffs.dropna(subset = ['city', 'revenue'], \n",
    "inplace = True) # убираем по 1 пропуску в столбцах city и revenue"
   ]
  },
  {
   "cell_type": "markdown",
   "metadata": {},
   "source": [
    "# проверка нулевой гипотезы о равенстве средней выручки обоих тарифов"
   ]
  },
  {
   "cell_type": "code",
   "execution_count": 52,
   "metadata": {},
   "outputs": [
    {
     "data": {
      "text/plain": [
       "'p-значение: '"
      ]
     },
     "metadata": {},
     "output_type": "display_data"
    },
    {
     "data": {
      "text/plain": [
       "4.352571892664458e-247"
      ]
     },
     "metadata": {},
     "output_type": "display_data"
    },
    {
     "data": {
      "text/plain": [
       "'Отвергаем нулевую гипотезу'"
      ]
     },
     "metadata": {},
     "output_type": "display_data"
    }
   ],
   "source": [
    "# H0: средняя выручка пользователей тарифов «Ультра» и «Смарт» равны\n",
    "# H1: средняя выручка пользователей тарифов \"Ультра\" и \"Смарт\" не равны\n",
    "\n",
    "from scipy import stats as st\n",
    "\n",
    "smart = i_v_m_tariffs[i_v_m_tariffs['tariff'] == 'smart']['revenue']\n",
    "ultra = i_v_m_tariffs[i_v_m_tariffs['tariff'] == 'ultra']['revenue']\n",
    "\n",
    "alpha = 0.05 # задаем пороговой значение\n",
    " \n",
    "results = st.ttest_ind(\n",
    "   smart, \n",
    "   ultra)\n",
    " \n",
    "display('p-значение: ', results.pvalue)\n",
    " \n",
    "if results.pvalue < alpha:\n",
    "    display(\"Отвергаем нулевую гипотезу\")\n",
    "else:\n",
    "    display(\"Не получилось отвергнуть нулевую гипотезу\") \n",
    "    # интересно, что результат получился при параметре equal_var = True по умолчанию."
   ]
  },
  {
   "cell_type": "markdown",
   "metadata": {},
   "source": [
    "\n",
    "<div class=\"alert alert-success\">\n",
    "<b>✔️ Комментарий ревьюера:</b>  Проверка верна"
   ]
  },
  {
   "cell_type": "markdown",
   "metadata": {},
   "source": [
    "# проверка нулевой гипотезы средняя выручка пользователей из Москвы равна выручке пользователей из других регионов."
   ]
  },
  {
   "cell_type": "code",
   "execution_count": 53,
   "metadata": {},
   "outputs": [
    {
     "data": {
      "text/plain": [
       "'p-значение: '"
      ]
     },
     "metadata": {},
     "output_type": "display_data"
    },
    {
     "data": {
      "text/plain": [
       "0.22712279710068592"
      ]
     },
     "metadata": {},
     "output_type": "display_data"
    },
    {
     "data": {
      "text/plain": [
       "'Не получилось отвергнуть нулевую гипотезу'"
      ]
     },
     "metadata": {},
     "output_type": "display_data"
    }
   ],
   "source": [
    "# H0: средняя выручка пользователей из Москвы и других регионов равны\n",
    "# H1: средняя выручка пользователей  из Москвы и других регионов не равны\n",
    "moscow_users = i_v_m_tariffs[i_v_m_tariffs['city'] == 'Москва']['revenue']\n",
    "region_users = i_v_m_tariffs[i_v_m_tariffs['city'] != 'Москва']['revenue']\n",
    "alpha = 0.05 # задаем пороговой значение\n",
    " \n",
    "results = st.ttest_ind(\n",
    "   moscow_users, \n",
    "   region_users)\n",
    " \n",
    "display('p-значение: ', results.pvalue)\n",
    " \n",
    "if results.pvalue < alpha:\n",
    "    display(\"Отвергаем нулевую гипотезу\")\n",
    "else:\n",
    "    display(\"Не получилось отвергнуть нулевую гипотезу\") "
   ]
  },
  {
   "cell_type": "markdown",
   "metadata": {},
   "source": [
    "\n",
    "<div class=\"alert alert-success\">\n",
    "<b>✔️ Комментарий ревьюера:</b>  Корректно!"
   ]
  },
  {
   "cell_type": "markdown",
   "metadata": {},
   "source": [
    "# Общий вывод\n",
    "1.сумма выручки говорит о том, что ТП смарт приносит больше доходов, чем ультра. Однако средняя выручка расставляет \n",
    " все на свои места. Один абонент ТП ультра приносит приблизительно в 2 раза выручки, чем абонент ТП смарт. \n",
    "\n",
    "2.заметно, что дорогой тариф необходим практически только одной Москве, так как, в отличие от СМарта, даже второй по населению город страны СПБ спустился вниз и не доходит даже до 10 000 абонентов. Регионы, в том числе города миллионники не способны переварить затраты на ТП Ультра в таком же процентном соотношении как жители Москвы.(анализ чуть ниже)\n",
    "\n",
    "Основной вывод заключается в следующем:\n",
    "1. нулевая гипотеза о равенстве средней выручки обоих тарифов опровергнута. Они очевидно разнятся. ТП Ультра приносит большую выручку чем ТП СМарт удельно, однако вал подключений на ТП смарт, особенно в Регионах показал его эффективность и конкурентоспособность\n",
    "\n",
    "2. нулевая гипотеза о равенстве средней выручки между Москвой и регонами не была отвергнута, т.к. P-значение оказалось больше alpha. При этом стоит отметить тот факт, что равенство средней вырчки между регионами далеко не единственный показатель эффективности ТП и анализ пользователей по регионам говорит об эффективности в абсолюте ТП Смарт не только в двух городах, а ТП Ультра только в Москве, о чем покажет анализ пользователей, возрастных групп в разрезе тарифов и городов ниже. Продвижение обоих тарифов стоит настроить конечно исходя из популярности в регионах."
   ]
  },
  {
   "cell_type": "markdown",
   "metadata": {},
   "source": [
    "# Дополнительно определим кто наши абоненты\n"
   ]
  },
  {
   "cell_type": "code",
   "execution_count": 54,
   "metadata": {},
   "outputs": [],
   "source": [
    "#i_v_m_tariffs.pivot_table(index= 'city', values= 'tariff', aggfunc= ['count', 'sum'])\n",
    "i_v_m_tariffs.age.value_counts()\n",
    "def age_groups(age): #создаем функцию для категоризации по возрасту\n",
    "    if (age >= 18) and (age < 30):\n",
    "        return 'молодежь'\n",
    "    if (age > 30) and (age < 50):\n",
    "        return 'средний возраст'\n",
    "    if (age > 50):\n",
    "        return 'умудренные опытом'\n",
    "    return 'почтненный возраст'\n",
    "        \n",
    "i_v_m_tariffs['age_groups'] =i_v_m_tariffs['age'].apply(age_groups) # создаем новый столбец с категориями по уровню дохода\n"
   ]
  },
  {
   "cell_type": "markdown",
   "metadata": {},
   "source": [
    "# Возрастные группы \n"
   ]
  },
  {
   "cell_type": "code",
   "execution_count": 55,
   "metadata": {
    "scrolled": false
   },
   "outputs": [
    {
     "data": {
      "image/png": "[encoded data removed]",
      "text/plain": [
       "<Figure size 432x288 with 1 Axes>"
      ]
     },
     "metadata": {},
     "output_type": "display_data"
    }
   ],
   "source": [
    "age_all_tariffs = i_v_m_tariffs.age_groups.value_counts().plot(kind='pie') # в общей выборке абонентов преобладает группа > 50 лет. На втором месте с открывом в 30%\n",
    "# группа старше 30 лет"
   ]
  },
  {
   "cell_type": "markdown",
   "metadata": {},
   "source": [
    "# Вывод\n",
    "в общей выборке абонентов преобладает группа > 50 лет. На втором месте с открывом в 30% группа старше 30 лет\n",
    "наименьшая группа \"почтенный возраст\"\n"
   ]
  },
  {
   "cell_type": "markdown",
   "metadata": {},
   "source": [
    "\n",
    "<div class=\"alert alert-success\">\n",
    "<b>✔️ Комментарий ревьюера:</b>  Отлично!"
   ]
  },
  {
   "cell_type": "markdown",
   "metadata": {},
   "source": [
    "# Возрастные группы в Smart\n"
   ]
  },
  {
   "cell_type": "code",
   "execution_count": 56,
   "metadata": {
    "scrolled": true
   },
   "outputs": [
    {
     "data": {
      "image/png": "[encoded data removed]",
      "text/plain": [
       "<Figure size 432x288 with 1 Axes>"
      ]
     },
     "metadata": {},
     "output_type": "display_data"
    }
   ],
   "source": [
    "age_smart = i_v_m_tariffs.query('tariff == \"smart\"')['age_groups'].value_counts().plot(kind='pie')\n"
   ]
  },
  {
   "cell_type": "markdown",
   "metadata": {},
   "source": [
    "# Вывод\n",
    "очень похожее распределение в предыдущей диаграмме\n"
   ]
  },
  {
   "cell_type": "markdown",
   "metadata": {},
   "source": [
    "# Возрастные группы в Ultra\n"
   ]
  },
  {
   "cell_type": "code",
   "execution_count": 57,
   "metadata": {
    "scrolled": true
   },
   "outputs": [
    {
     "data": {
      "image/png": "[encoded data removed]",
      "text/plain": [
       "<Figure size 432x288 with 1 Axes>"
      ]
     },
     "metadata": {},
     "output_type": "display_data"
    }
   ],
   "source": [
    "age_ultra = i_v_m_tariffs.query('tariff == \"ultra\"')['age_groups'].value_counts().plot(kind='pie')"
   ]
  },
  {
   "cell_type": "markdown",
   "metadata": {},
   "source": [
    "# Вывод\n",
    "группа \"Молодежь начинает \"съедать\" места группы среднего возраста. Это главное отличие абонентаот абонента Smart\n",
    "Так же заметно приросла группа \"Почтенного возраста\"\n"
   ]
  },
  {
   "cell_type": "markdown",
   "metadata": {},
   "source": [
    "# А теперь разделим страну на Москву и регионы\n",
    "# в разрезе каждого тарифа\n"
   ]
  },
  {
   "cell_type": "code",
   "execution_count": 58,
   "metadata": {},
   "outputs": [
    {
     "data": {
      "image/png": "[encoded data removed]",
      "text/plain": [
       "<Figure size 360x360 with 1 Axes>"
      ]
     },
     "metadata": {
      "needs_background": "light"
     },
     "output_type": "display_data"
    }
   ],
   "source": [
    "age_smart_moscow = i_v_m_tariffs.query('tariff == \"smart\" and city == \"Москва\"')['age_groups'].value_counts().plot(title='пользователи smart в Москве', kind='bar', figsize=(5,5))\n",
    "# Самая весомая группа абонентов ТП Смарт в Москве - пользователи за 50 лет. От них с большим отрывом идут Молодежь и средний возраст\n",
    "# замыкает группа в почтенном возрасте."
   ]
  },
  {
   "cell_type": "code",
   "execution_count": 59,
   "metadata": {},
   "outputs": [
    {
     "data": {
      "image/png": "[encoded data removed]",
      "text/plain": [
       "<Figure size 360x360 with 1 Axes>"
      ]
     },
     "metadata": {
      "needs_background": "light"
     },
     "output_type": "display_data"
    }
   ],
   "source": [
    "age_ultra_moscow = i_v_m_tariffs.query('tariff == \"ultra\" and city == \"Москва\"')['age_groups'].value_counts().plot(title='пользователи ultra в Москве', kind='bar', figsize=(5,5))\n",
    "# определим какое кол-во пользователей ТП Ультра в столице по вощрастным группам. Лидер вновь возраст от 50лет. Однако, в отличе \n",
    "# от ТП Смарт в этом же городе, к этой возрастной группе вплотную приближается \"срежний возраст\" и \"молодежь\" "
   ]
  },
  {
   "cell_type": "code",
   "execution_count": 60,
   "metadata": {},
   "outputs": [
    {
     "data": {
      "text/plain": [
       "<matplotlib.axes._subplots.AxesSubplot at 0x7f56b0dccf10>"
      ]
     },
     "execution_count": 60,
     "metadata": {},
     "output_type": "execute_result"
    },
    {
     "data": {
      "image/png": "[encoded data removed]",
      "text/plain": [
       "<Figure size 1440x360 with 1 Axes>"
      ]
     },
     "metadata": {
      "needs_background": "light"
     },
     "output_type": "display_data"
    }
   ],
   "source": [
    "i_v_m_tariffs.query('tariff == \"smart\"').groupby('city')['user_id'].sum().plot(kind='bar', figsize=(20,5))\n",
    "# Разбивка на регионы отражает платежеспособность населения. Лидеры конечноМосква и СПБ, остальные можно считать в одной весовой категории.\n",
    "# немного выделяется Казань и Ульяновск, однако они слишком далеки отлидеров."
   ]
  },
  {
   "cell_type": "code",
   "execution_count": 61,
   "metadata": {},
   "outputs": [
    {
     "data": {
      "text/plain": [
       "<matplotlib.axes._subplots.AxesSubplot at 0x7f5671719710>"
      ]
     },
     "execution_count": 61,
     "metadata": {},
     "output_type": "execute_result"
    },
    {
     "data": {
      "image/png": "[encoded data removed]",
      "text/plain": [
       "<Figure size 1440x360 with 1 Axes>"
      ]
     },
     "metadata": {
      "needs_background": "light"
     },
     "output_type": "display_data"
    }
   ],
   "source": [
    "i_v_m_tariffs.query('tariff == \"ultra\"').groupby('city')['user_id'].sum().plot(title='Абоненты Ultra регионы', kind='bar', figsize=(20,5))\n",
    "# заметно, что дорогой тариф необходим практически только одной Москве, так как, в отличие от СМарта, даже второй по населению город \n",
    "# страны СПБ спустился вниз и не доходит даже до 10 000 абонентов. Регионы, в том числе города миллионники не способны переварить \n",
    "# затраты на ТП Ультра в таком же процентном соотношении как жители Москвы.\n"
   ]
  },
  {
   "cell_type": "markdown",
   "metadata": {},
   "source": [
    "<div class=\"alert alert-success\">\n",
    "<b>✔️ Комментарий ревьюера:</b> Спасибо за проект! Видно, что ты старался и он получился очень сильным. Ты аккуратно работаешь с данными и выносишь качественные предположения - как настоящий аналитик. Давай сделаем его еще лучше: \n",
    "    \n",
    "    \n",
    "- рассмотрим датафреймы в начале работы\n",
    "- выполним округление данных\n",
    "- заполним пропуски в новой таблице нулями. \n",
    "    \n",
    "Оставила направляющие комментарии. Возвращаю тебе работу, чтобы ты смог задать вопросы. Буду ждать твою работу на финальное ревью!\n",
    "</div>"
   ]
  },
  {
   "cell_type": "markdown",
   "metadata": {},
   "source": [
    "<div class=\"alert alert-success\">\n",
    "<b>✔️ Комментарий ревьюера V2:</b> Спасибо за проработку комментариев! Теперь все отлично. Если у тебя возникнут вопросы, смело задавай мне их через куратора. Удачи на следующих этапах!"
   ]
  },
  {
   "cell_type": "code",
   "execution_count": null,
   "metadata": {},
   "outputs": [],
   "source": []
  }
 ],
 "metadata": {
  "ExecuteTimeLog": [
   {
    "duration": 223,
    "start_time": "2022-01-31T11:23:41.030Z"
   },
   {
    "duration": 59,
    "start_time": "2022-01-31T11:24:39.173Z"
   },
   {
    "duration": 988,
    "start_time": "2022-01-31T11:24:49.964Z"
   },
   {
    "duration": 436,
    "start_time": "2022-01-31T11:25:12.185Z"
   },
   {
    "duration": 15,
    "start_time": "2022-01-31T11:25:14.905Z"
   },
   {
    "duration": 9,
    "start_time": "2022-01-31T11:25:46.122Z"
   },
   {
    "duration": 22,
    "start_time": "2022-01-31T11:26:23.698Z"
   },
   {
    "duration": 19,
    "start_time": "2022-01-31T11:27:01.081Z"
   },
   {
    "duration": 27,
    "start_time": "2022-01-31T11:28:16.876Z"
   },
   {
    "duration": 22,
    "start_time": "2022-01-31T11:28:34.813Z"
   },
   {
    "duration": 18,
    "start_time": "2022-01-31T11:28:59.536Z"
   },
   {
    "duration": 12,
    "start_time": "2022-01-31T11:29:40.284Z"
   },
   {
    "duration": 15,
    "start_time": "2022-01-31T11:30:49.821Z"
   },
   {
    "duration": 1316,
    "start_time": "2022-02-01T09:52:15.096Z"
   },
   {
    "duration": 105,
    "start_time": "2022-02-01T09:52:17.409Z"
   },
   {
    "duration": 27,
    "start_time": "2022-02-01T09:53:07.720Z"
   },
   {
    "duration": 41,
    "start_time": "2022-02-01T09:53:32.471Z"
   },
   {
    "duration": 50,
    "start_time": "2022-02-01T09:54:31.425Z"
   },
   {
    "duration": 44,
    "start_time": "2022-02-01T09:54:47.940Z"
   },
   {
    "duration": 46,
    "start_time": "2022-02-01T09:55:58.952Z"
   },
   {
    "duration": 21,
    "start_time": "2022-02-01T09:56:05.540Z"
   },
   {
    "duration": 36,
    "start_time": "2022-02-01T09:56:14.443Z"
   },
   {
    "duration": 23,
    "start_time": "2022-02-01T09:58:07.146Z"
   },
   {
    "duration": 22,
    "start_time": "2022-02-01T09:58:11.599Z"
   },
   {
    "duration": 25,
    "start_time": "2022-02-01T09:58:48.857Z"
   },
   {
    "duration": 25,
    "start_time": "2022-02-01T09:58:51.456Z"
   },
   {
    "duration": 39,
    "start_time": "2022-02-01T10:01:06.135Z"
   },
   {
    "duration": 37,
    "start_time": "2022-02-01T10:01:24.855Z"
   },
   {
    "duration": 32,
    "start_time": "2022-02-01T10:01:58.766Z"
   },
   {
    "duration": 867,
    "start_time": "2022-02-01T10:20:10.921Z"
   },
   {
    "duration": 2638,
    "start_time": "2022-02-01T10:20:46.143Z"
   },
   {
    "duration": 5789,
    "start_time": "2022-02-01T10:21:26.248Z"
   },
   {
    "duration": 3102,
    "start_time": "2022-02-01T10:22:01.198Z"
   },
   {
    "duration": 3068,
    "start_time": "2022-02-01T10:23:26.193Z"
   },
   {
    "duration": 402,
    "start_time": "2022-02-01T10:45:13.894Z"
   },
   {
    "duration": 63,
    "start_time": "2022-02-01T10:45:38.053Z"
   },
   {
    "duration": 452,
    "start_time": "2022-02-01T10:46:53.707Z"
   },
   {
    "duration": 127,
    "start_time": "2022-02-01T10:51:14.490Z"
   },
   {
    "duration": 61,
    "start_time": "2022-02-01T10:51:20.546Z"
   },
   {
    "duration": 626,
    "start_time": "2022-02-01T10:54:25.719Z"
   },
   {
    "duration": 529,
    "start_time": "2022-02-01T10:55:30.032Z"
   },
   {
    "duration": 533,
    "start_time": "2022-02-01T10:56:25.293Z"
   },
   {
    "duration": 73,
    "start_time": "2022-02-01T10:57:43.873Z"
   },
   {
    "duration": 73,
    "start_time": "2022-02-01T10:58:49.564Z"
   },
   {
    "duration": 81,
    "start_time": "2022-02-01T10:59:06.322Z"
   },
   {
    "duration": 10847,
    "start_time": "2022-02-01T11:03:34.804Z"
   },
   {
    "duration": 499,
    "start_time": "2022-02-01T11:08:00.071Z"
   },
   {
    "duration": 443,
    "start_time": "2022-02-01T11:08:50.660Z"
   },
   {
    "duration": 424,
    "start_time": "2022-02-01T11:09:29.222Z"
   },
   {
    "duration": 159,
    "start_time": "2022-02-01T11:09:44.724Z"
   },
   {
    "duration": 411,
    "start_time": "2022-02-01T11:09:50.318Z"
   },
   {
    "duration": 300,
    "start_time": "2022-02-01T11:14:18.775Z"
   },
   {
    "duration": 259,
    "start_time": "2022-02-01T11:15:48.932Z"
   },
   {
    "duration": 269,
    "start_time": "2022-02-01T11:17:14.765Z"
   },
   {
    "duration": 231,
    "start_time": "2022-02-01T11:18:06.772Z"
   },
   {
    "duration": 41,
    "start_time": "2022-02-01T11:26:06.539Z"
   },
   {
    "duration": 44,
    "start_time": "2022-02-01T11:27:38.180Z"
   },
   {
    "duration": 105,
    "start_time": "2022-02-01T11:29:13.789Z"
   },
   {
    "duration": 156,
    "start_time": "2022-02-01T11:30:21.678Z"
   },
   {
    "duration": 58,
    "start_time": "2022-02-01T11:31:46.785Z"
   },
   {
    "duration": 43,
    "start_time": "2022-02-01T11:32:39.067Z"
   },
   {
    "duration": 1494,
    "start_time": "2022-02-01T15:03:18.745Z"
   },
   {
    "duration": 541,
    "start_time": "2022-02-01T15:03:20.242Z"
   },
   {
    "duration": 362,
    "start_time": "2022-02-01T15:03:20.787Z"
   },
   {
    "duration": 395,
    "start_time": "2022-02-01T15:03:21.152Z"
   },
   {
    "duration": 23,
    "start_time": "2022-02-01T15:03:21.550Z"
   },
   {
    "duration": 98,
    "start_time": "2022-02-01T15:03:21.576Z"
   },
   {
    "duration": 426,
    "start_time": "2022-02-01T15:06:01.355Z"
   },
   {
    "duration": 921,
    "start_time": "2022-02-01T15:09:31.291Z"
   },
   {
    "duration": 439,
    "start_time": "2022-02-01T15:15:36.824Z"
   },
   {
    "duration": 1592,
    "start_time": "2022-02-01T15:15:58.387Z"
   },
   {
    "duration": 556,
    "start_time": "2022-02-01T15:15:59.981Z"
   },
   {
    "duration": 342,
    "start_time": "2022-02-01T15:16:00.540Z"
   },
   {
    "duration": 1011,
    "start_time": "2022-02-01T15:16:00.885Z"
   },
   {
    "duration": 307,
    "start_time": "2022-02-01T15:16:01.899Z"
   },
   {
    "duration": 18,
    "start_time": "2022-02-01T15:16:02.209Z"
   },
   {
    "duration": 69,
    "start_time": "2022-02-01T15:16:02.229Z"
   },
   {
    "duration": 1559,
    "start_time": "2022-02-01T15:17:01.858Z"
   },
   {
    "duration": 507,
    "start_time": "2022-02-01T15:17:03.419Z"
   },
   {
    "duration": 319,
    "start_time": "2022-02-01T15:17:03.930Z"
   },
   {
    "duration": 950,
    "start_time": "2022-02-01T15:17:04.251Z"
   },
   {
    "duration": 303,
    "start_time": "2022-02-01T15:17:05.204Z"
   },
   {
    "duration": 18,
    "start_time": "2022-02-01T15:17:05.509Z"
   },
   {
    "duration": 86,
    "start_time": "2022-02-01T15:17:05.531Z"
   },
   {
    "duration": 1537,
    "start_time": "2022-02-01T15:31:37.645Z"
   },
   {
    "duration": 555,
    "start_time": "2022-02-01T15:31:39.185Z"
   },
   {
    "duration": 348,
    "start_time": "2022-02-01T15:31:39.743Z"
   },
   {
    "duration": 975,
    "start_time": "2022-02-01T15:31:40.096Z"
   },
   {
    "duration": 313,
    "start_time": "2022-02-01T15:31:41.073Z"
   },
   {
    "duration": 20,
    "start_time": "2022-02-01T15:31:41.388Z"
   },
   {
    "duration": 83,
    "start_time": "2022-02-01T15:31:41.412Z"
   },
   {
    "duration": 627,
    "start_time": "2022-02-01T15:31:50.029Z"
   },
   {
    "duration": 2038,
    "start_time": "2022-02-01T15:35:57.237Z"
   },
   {
    "duration": 946,
    "start_time": "2022-02-01T15:36:35.655Z"
   },
   {
    "duration": 1480,
    "start_time": "2022-02-02T10:44:18.261Z"
   },
   {
    "duration": 415,
    "start_time": "2022-02-02T10:44:21.772Z"
   },
   {
    "duration": 146,
    "start_time": "2022-02-02T10:44:51.154Z"
   },
   {
    "duration": 65,
    "start_time": "2022-02-02T10:45:16.627Z"
   },
   {
    "duration": 89,
    "start_time": "2022-02-02T10:45:28.350Z"
   },
   {
    "duration": 92,
    "start_time": "2022-02-02T10:46:06.633Z"
   },
   {
    "duration": 110,
    "start_time": "2022-02-02T10:56:57.483Z"
   },
   {
    "duration": 94,
    "start_time": "2022-02-02T11:02:09.572Z"
   },
   {
    "duration": 328,
    "start_time": "2022-02-02T14:48:34.207Z"
   },
   {
    "duration": 1335,
    "start_time": "2022-02-02T14:48:51.431Z"
   },
   {
    "duration": 11083,
    "start_time": "2022-02-02T14:48:53.577Z"
   },
   {
    "duration": 138,
    "start_time": "2022-02-02T14:49:49.499Z"
   },
   {
    "duration": 185,
    "start_time": "2022-02-02T14:51:27.063Z"
   },
   {
    "duration": 95,
    "start_time": "2022-02-02T14:52:10.262Z"
   },
   {
    "duration": 99,
    "start_time": "2022-02-02T14:52:51.962Z"
   },
   {
    "duration": 83,
    "start_time": "2022-02-02T14:55:49.310Z"
   },
   {
    "duration": 77,
    "start_time": "2022-02-02T14:55:57.873Z"
   },
   {
    "duration": 17,
    "start_time": "2022-02-02T14:58:19.165Z"
   },
   {
    "duration": 30,
    "start_time": "2022-02-02T14:58:47.814Z"
   },
   {
    "duration": 32,
    "start_time": "2022-02-02T15:00:24.333Z"
   },
   {
    "duration": 62,
    "start_time": "2022-02-02T15:00:49.440Z"
   },
   {
    "duration": 31,
    "start_time": "2022-02-02T15:01:39.256Z"
   },
   {
    "duration": 24,
    "start_time": "2022-02-02T15:04:18.912Z"
   },
   {
    "duration": 143,
    "start_time": "2022-02-02T15:05:46.858Z"
   },
   {
    "duration": 287,
    "start_time": "2022-02-02T15:30:22.369Z"
   },
   {
    "duration": 36,
    "start_time": "2022-02-02T15:31:30.110Z"
   },
   {
    "duration": 31,
    "start_time": "2022-02-02T15:32:19.020Z"
   },
   {
    "duration": 40,
    "start_time": "2022-02-02T15:33:00.054Z"
   },
   {
    "duration": 2503,
    "start_time": "2022-02-02T15:37:31.392Z"
   },
   {
    "duration": 2594,
    "start_time": "2022-02-02T15:38:25.153Z"
   },
   {
    "duration": 2667,
    "start_time": "2022-02-02T15:39:55.291Z"
   },
   {
    "duration": 1250,
    "start_time": "2022-02-02T15:51:26.419Z"
   },
   {
    "duration": 125,
    "start_time": "2022-02-02T15:51:27.672Z"
   },
   {
    "duration": 92,
    "start_time": "2022-02-02T15:51:27.799Z"
   },
   {
    "duration": 2413,
    "start_time": "2022-02-02T15:51:27.895Z"
   },
   {
    "duration": 80,
    "start_time": "2022-02-02T15:51:30.311Z"
   },
   {
    "duration": 17,
    "start_time": "2022-02-02T15:51:30.394Z"
   },
   {
    "duration": 60,
    "start_time": "2022-02-02T15:51:30.414Z"
   },
   {
    "duration": 3197,
    "start_time": "2022-02-02T15:52:12.299Z"
   },
   {
    "duration": 307,
    "start_time": "2022-02-02T16:01:25.537Z"
   },
   {
    "duration": 3425,
    "start_time": "2022-02-02T16:01:34.885Z"
   },
   {
    "duration": 115,
    "start_time": "2022-02-02T16:01:38.313Z"
   },
   {
    "duration": 88,
    "start_time": "2022-02-02T16:01:38.432Z"
   },
   {
    "duration": 2437,
    "start_time": "2022-02-02T16:01:38.523Z"
   },
   {
    "duration": 64,
    "start_time": "2022-02-02T16:01:40.969Z"
   },
   {
    "duration": 36,
    "start_time": "2022-02-02T16:01:41.035Z"
   },
   {
    "duration": 42,
    "start_time": "2022-02-02T16:01:41.073Z"
   },
   {
    "duration": 1718,
    "start_time": "2022-02-02T16:02:24.514Z"
   },
   {
    "duration": 183,
    "start_time": "2022-02-02T16:02:26.235Z"
   },
   {
    "duration": 133,
    "start_time": "2022-02-02T16:02:26.422Z"
   },
   {
    "duration": 3153,
    "start_time": "2022-02-02T16:02:26.569Z"
   },
   {
    "duration": 121,
    "start_time": "2022-02-02T16:02:29.725Z"
   },
   {
    "duration": 25,
    "start_time": "2022-02-02T16:02:29.848Z"
   },
   {
    "duration": 46,
    "start_time": "2022-02-02T16:02:29.875Z"
   },
   {
    "duration": 1682,
    "start_time": "2022-02-02T16:03:33.897Z"
   },
   {
    "duration": 115,
    "start_time": "2022-02-02T16:03:35.582Z"
   },
   {
    "duration": 91,
    "start_time": "2022-02-02T16:03:35.700Z"
   },
   {
    "duration": 2467,
    "start_time": "2022-02-02T16:03:35.794Z"
   },
   {
    "duration": 66,
    "start_time": "2022-02-02T16:03:38.264Z"
   },
   {
    "duration": 38,
    "start_time": "2022-02-02T16:03:38.333Z"
   },
   {
    "duration": 47,
    "start_time": "2022-02-02T16:03:38.373Z"
   },
   {
    "duration": 3939,
    "start_time": "2022-02-02T16:03:41.288Z"
   },
   {
    "duration": 1625,
    "start_time": "2022-02-02T16:04:36.364Z"
   },
   {
    "duration": 288,
    "start_time": "2022-02-02T16:10:05.983Z"
   },
   {
    "duration": 273,
    "start_time": "2022-02-02T16:10:34.100Z"
   },
   {
    "duration": 1608,
    "start_time": "2022-02-02T16:11:11.073Z"
   },
   {
    "duration": 111,
    "start_time": "2022-02-02T16:11:12.684Z"
   },
   {
    "duration": 90,
    "start_time": "2022-02-02T16:11:12.800Z"
   },
   {
    "duration": 2429,
    "start_time": "2022-02-02T16:11:12.892Z"
   },
   {
    "duration": 74,
    "start_time": "2022-02-02T16:11:15.324Z"
   },
   {
    "duration": 18,
    "start_time": "2022-02-02T16:11:15.400Z"
   },
   {
    "duration": 58,
    "start_time": "2022-02-02T16:11:15.421Z"
   },
   {
    "duration": 3299,
    "start_time": "2022-02-02T16:11:15.482Z"
   },
   {
    "duration": 1584,
    "start_time": "2022-02-02T16:12:38.620Z"
   },
   {
    "duration": 111,
    "start_time": "2022-02-02T16:12:40.207Z"
   },
   {
    "duration": 82,
    "start_time": "2022-02-02T16:12:40.321Z"
   },
   {
    "duration": 2404,
    "start_time": "2022-02-02T16:12:40.406Z"
   },
   {
    "duration": 75,
    "start_time": "2022-02-02T16:12:42.813Z"
   },
   {
    "duration": 16,
    "start_time": "2022-02-02T16:12:42.890Z"
   },
   {
    "duration": 31,
    "start_time": "2022-02-02T16:12:42.909Z"
   },
   {
    "duration": 6323,
    "start_time": "2022-02-02T16:12:45.790Z"
   },
   {
    "duration": 300,
    "start_time": "2022-02-02T16:14:34.409Z"
   },
   {
    "duration": 1669,
    "start_time": "2022-02-02T16:14:46.339Z"
   },
   {
    "duration": 115,
    "start_time": "2022-02-02T16:14:48.010Z"
   },
   {
    "duration": 90,
    "start_time": "2022-02-02T16:14:48.127Z"
   },
   {
    "duration": 2426,
    "start_time": "2022-02-02T16:14:48.220Z"
   },
   {
    "duration": 69,
    "start_time": "2022-02-02T16:14:50.648Z"
   },
   {
    "duration": 18,
    "start_time": "2022-02-02T16:14:50.719Z"
   },
   {
    "duration": 56,
    "start_time": "2022-02-02T16:14:50.739Z"
   },
   {
    "duration": 3897,
    "start_time": "2022-02-02T16:15:10.460Z"
   },
   {
    "duration": 141,
    "start_time": "2022-02-02T16:15:14.360Z"
   },
   {
    "duration": 111,
    "start_time": "2022-02-02T16:15:14.506Z"
   },
   {
    "duration": 2458,
    "start_time": "2022-02-02T16:15:14.620Z"
   },
   {
    "duration": 62,
    "start_time": "2022-02-02T16:15:17.082Z"
   },
   {
    "duration": 43,
    "start_time": "2022-02-02T16:15:17.146Z"
   },
   {
    "duration": 33,
    "start_time": "2022-02-02T16:15:17.193Z"
   },
   {
    "duration": 3537,
    "start_time": "2022-02-02T16:15:50.711Z"
   },
   {
    "duration": 137,
    "start_time": "2022-02-02T16:15:54.251Z"
   },
   {
    "duration": 89,
    "start_time": "2022-02-02T16:15:54.392Z"
   },
   {
    "duration": 2486,
    "start_time": "2022-02-02T16:15:54.484Z"
   },
   {
    "duration": 62,
    "start_time": "2022-02-02T16:15:56.973Z"
   },
   {
    "duration": 39,
    "start_time": "2022-02-02T16:15:57.038Z"
   },
   {
    "duration": 38,
    "start_time": "2022-02-02T16:15:57.080Z"
   },
   {
    "duration": 5860,
    "start_time": "2022-02-02T16:16:24.661Z"
   },
   {
    "duration": 153,
    "start_time": "2022-02-02T16:16:30.525Z"
   },
   {
    "duration": 94,
    "start_time": "2022-02-02T16:16:30.682Z"
   },
   {
    "duration": 2576,
    "start_time": "2022-02-02T16:16:30.779Z"
   },
   {
    "duration": 71,
    "start_time": "2022-02-02T16:16:33.358Z"
   },
   {
    "duration": 41,
    "start_time": "2022-02-02T16:16:33.432Z"
   },
   {
    "duration": 37,
    "start_time": "2022-02-02T16:16:33.477Z"
   },
   {
    "duration": 1773,
    "start_time": "2022-02-02T16:18:27.208Z"
   },
   {
    "duration": 109,
    "start_time": "2022-02-02T16:18:28.984Z"
   },
   {
    "duration": 92,
    "start_time": "2022-02-02T16:18:29.096Z"
   },
   {
    "duration": 2432,
    "start_time": "2022-02-02T16:18:29.191Z"
   },
   {
    "duration": 75,
    "start_time": "2022-02-02T16:18:31.626Z"
   },
   {
    "duration": 17,
    "start_time": "2022-02-02T16:18:31.703Z"
   },
   {
    "duration": 58,
    "start_time": "2022-02-02T16:18:31.723Z"
   },
   {
    "duration": 316,
    "start_time": "2022-02-02T16:19:17.853Z"
   },
   {
    "duration": 1664,
    "start_time": "2022-02-02T16:19:27.618Z"
   },
   {
    "duration": 135,
    "start_time": "2022-02-02T16:19:32.512Z"
   },
   {
    "duration": 100,
    "start_time": "2022-02-02T16:19:49.147Z"
   },
   {
    "duration": 2354,
    "start_time": "2022-02-02T16:20:02.527Z"
   },
   {
    "duration": 3047,
    "start_time": "2022-02-02T16:21:54.329Z"
   },
   {
    "duration": 3005,
    "start_time": "2022-02-02T16:22:14.093Z"
   },
   {
    "duration": 2819,
    "start_time": "2022-02-02T16:22:27.768Z"
   },
   {
    "duration": 2519,
    "start_time": "2022-02-02T16:22:43.689Z"
   },
   {
    "duration": 2351,
    "start_time": "2022-02-02T16:23:19.544Z"
   },
   {
    "duration": 9173,
    "start_time": "2022-02-02T16:23:46.745Z"
   },
   {
    "duration": 2494,
    "start_time": "2022-02-02T16:24:13.387Z"
   },
   {
    "duration": 4415,
    "start_time": "2022-02-02T16:25:34.885Z"
   },
   {
    "duration": 4783,
    "start_time": "2022-02-02T16:26:12.904Z"
   },
   {
    "duration": 526,
    "start_time": "2022-02-02T16:27:21.425Z"
   },
   {
    "duration": 115,
    "start_time": "2022-02-02T16:27:21.954Z"
   },
   {
    "duration": 100,
    "start_time": "2022-02-02T16:27:22.072Z"
   },
   {
    "duration": 4270,
    "start_time": "2022-02-02T16:27:22.175Z"
   },
   {
    "duration": 69,
    "start_time": "2022-02-02T16:27:26.448Z"
   },
   {
    "duration": 18,
    "start_time": "2022-02-02T16:27:26.519Z"
   },
   {
    "duration": 55,
    "start_time": "2022-02-02T16:27:26.539Z"
   },
   {
    "duration": 334,
    "start_time": "2022-02-02T16:28:07.569Z"
   },
   {
    "duration": 4444,
    "start_time": "2022-02-02T16:28:20.518Z"
   },
   {
    "duration": 215,
    "start_time": "2022-02-02T16:28:24.966Z"
   },
   {
    "duration": 113,
    "start_time": "2022-02-02T16:28:25.188Z"
   },
   {
    "duration": 4390,
    "start_time": "2022-02-02T16:28:25.304Z"
   },
   {
    "duration": 76,
    "start_time": "2022-02-02T16:28:29.697Z"
   },
   {
    "duration": 18,
    "start_time": "2022-02-02T16:28:29.776Z"
   },
   {
    "duration": 38,
    "start_time": "2022-02-02T16:28:29.796Z"
   },
   {
    "duration": 14590,
    "start_time": "2022-02-02T16:28:32.984Z"
   },
   {
    "duration": 14370,
    "start_time": "2022-02-02T16:33:02.002Z"
   },
   {
    "duration": 1109,
    "start_time": "2022-02-02T16:35:36.042Z"
   },
   {
    "duration": 332,
    "start_time": "2022-02-02T16:36:02.567Z"
   },
   {
    "duration": 666,
    "start_time": "2022-02-02T16:37:53.018Z"
   },
   {
    "duration": 412,
    "start_time": "2022-02-02T16:38:00.611Z"
   },
   {
    "duration": 860,
    "start_time": "2022-02-02T16:38:11.795Z"
   },
   {
    "duration": 284,
    "start_time": "2022-02-02T16:41:28.566Z"
   },
   {
    "duration": 511,
    "start_time": "2022-02-02T16:41:39.010Z"
   },
   {
    "duration": 112,
    "start_time": "2022-02-02T16:41:39.523Z"
   },
   {
    "duration": 191,
    "start_time": "2022-02-02T16:41:39.639Z"
   },
   {
    "duration": 4224,
    "start_time": "2022-02-02T16:41:39.832Z"
   },
   {
    "duration": 73,
    "start_time": "2022-02-02T16:41:44.058Z"
   },
   {
    "duration": 18,
    "start_time": "2022-02-02T16:41:44.134Z"
   },
   {
    "duration": 268,
    "start_time": "2022-02-02T16:41:54.449Z"
   },
   {
    "duration": 34,
    "start_time": "2022-02-02T16:44:02.956Z"
   },
   {
    "duration": 357,
    "start_time": "2022-02-02T16:45:38.133Z"
   },
   {
    "duration": 4310,
    "start_time": "2022-02-02T16:45:46.608Z"
   },
   {
    "duration": 136,
    "start_time": "2022-02-02T16:45:50.920Z"
   },
   {
    "duration": 129,
    "start_time": "2022-02-02T16:45:51.059Z"
   },
   {
    "duration": 4705,
    "start_time": "2022-02-02T16:45:51.191Z"
   },
   {
    "duration": 80,
    "start_time": "2022-02-02T16:45:55.899Z"
   },
   {
    "duration": 24,
    "start_time": "2022-02-02T16:45:55.984Z"
   },
   {
    "duration": 79,
    "start_time": "2022-02-02T16:45:56.012Z"
   },
   {
    "duration": 16022,
    "start_time": "2022-02-02T16:46:04.392Z"
   },
   {
    "duration": 8430,
    "start_time": "2022-02-02T16:48:50.037Z"
   },
   {
    "duration": 6840,
    "start_time": "2022-02-02T16:49:28.885Z"
   },
   {
    "duration": 6434,
    "start_time": "2022-02-02T16:49:47.442Z"
   },
   {
    "duration": 536,
    "start_time": "2022-02-02T16:50:27.300Z"
   },
   {
    "duration": 120,
    "start_time": "2022-02-02T16:50:27.839Z"
   },
   {
    "duration": 105,
    "start_time": "2022-02-02T16:50:27.969Z"
   },
   {
    "duration": 4280,
    "start_time": "2022-02-02T16:50:28.080Z"
   },
   {
    "duration": 72,
    "start_time": "2022-02-02T16:50:32.363Z"
   },
   {
    "duration": 37,
    "start_time": "2022-02-02T16:50:32.438Z"
   },
   {
    "duration": 40,
    "start_time": "2022-02-02T16:50:32.478Z"
   },
   {
    "duration": 2027,
    "start_time": "2022-02-02T16:51:06.446Z"
   },
   {
    "duration": 144,
    "start_time": "2022-02-02T16:51:08.475Z"
   },
   {
    "duration": 111,
    "start_time": "2022-02-02T16:51:08.622Z"
   },
   {
    "duration": 4262,
    "start_time": "2022-02-02T16:51:08.736Z"
   },
   {
    "duration": 76,
    "start_time": "2022-02-02T16:51:13.001Z"
   },
   {
    "duration": 19,
    "start_time": "2022-02-02T16:51:13.080Z"
   },
   {
    "duration": 31,
    "start_time": "2022-02-02T16:51:13.102Z"
   },
   {
    "duration": 15699,
    "start_time": "2022-02-02T16:51:16.911Z"
   },
   {
    "duration": 80,
    "start_time": "2022-02-02T17:01:08.689Z"
   },
   {
    "duration": 21,
    "start_time": "2022-02-02T17:07:46.752Z"
   },
   {
    "duration": 20,
    "start_time": "2022-02-02T17:08:36.098Z"
   },
   {
    "duration": 18,
    "start_time": "2022-02-02T17:08:48.928Z"
   },
   {
    "duration": 546,
    "start_time": "2022-02-02T17:09:18.617Z"
   },
   {
    "duration": 124,
    "start_time": "2022-02-02T17:09:19.166Z"
   },
   {
    "duration": 114,
    "start_time": "2022-02-02T17:09:19.293Z"
   },
   {
    "duration": 4388,
    "start_time": "2022-02-02T17:09:19.410Z"
   },
   {
    "duration": 80,
    "start_time": "2022-02-02T17:09:23.801Z"
   },
   {
    "duration": 20,
    "start_time": "2022-02-02T17:09:30.741Z"
   },
   {
    "duration": 1136,
    "start_time": "2022-02-02T17:13:20.728Z"
   },
   {
    "duration": 2409,
    "start_time": "2022-02-02T17:13:50.691Z"
   },
   {
    "duration": 119,
    "start_time": "2022-02-02T17:13:53.103Z"
   },
   {
    "duration": 155,
    "start_time": "2022-02-02T17:13:53.226Z"
   },
   {
    "duration": 4899,
    "start_time": "2022-02-02T17:13:53.384Z"
   },
   {
    "duration": 61,
    "start_time": "2022-02-02T17:13:58.291Z"
   },
   {
    "duration": 26,
    "start_time": "2022-02-02T17:13:58.370Z"
   },
   {
    "duration": 31,
    "start_time": "2022-02-02T17:13:58.399Z"
   },
   {
    "duration": 3868,
    "start_time": "2022-02-02T17:14:42.360Z"
   },
   {
    "duration": 150,
    "start_time": "2022-02-02T17:14:46.231Z"
   },
   {
    "duration": 116,
    "start_time": "2022-02-02T17:14:46.385Z"
   },
   {
    "duration": 4395,
    "start_time": "2022-02-02T17:14:46.505Z"
   },
   {
    "duration": 86,
    "start_time": "2022-02-02T17:14:50.902Z"
   },
   {
    "duration": 21,
    "start_time": "2022-02-02T17:14:50.991Z"
   },
   {
    "duration": 70,
    "start_time": "2022-02-02T17:14:51.015Z"
   },
   {
    "duration": 24984,
    "start_time": "2022-02-02T17:14:55.542Z"
   },
   {
    "duration": 6535,
    "start_time": "2022-02-02T17:17:03.695Z"
   },
   {
    "duration": 7354,
    "start_time": "2022-02-02T17:19:09.582Z"
   },
   {
    "duration": 1831,
    "start_time": "2022-02-02T17:20:08.191Z"
   },
   {
    "duration": 144,
    "start_time": "2022-02-02T17:20:10.025Z"
   },
   {
    "duration": 118,
    "start_time": "2022-02-02T17:20:10.174Z"
   },
   {
    "duration": 4362,
    "start_time": "2022-02-02T17:20:10.296Z"
   },
   {
    "duration": 72,
    "start_time": "2022-02-02T17:20:14.661Z"
   },
   {
    "duration": 43,
    "start_time": "2022-02-02T17:20:14.737Z"
   },
   {
    "duration": 33,
    "start_time": "2022-02-02T17:20:14.783Z"
   },
   {
    "duration": 30761,
    "start_time": "2022-02-02T17:20:14.820Z"
   },
   {
    "duration": -644,
    "start_time": "2022-02-02T17:20:46.228Z"
   },
   {
    "duration": 1682,
    "start_time": "2022-02-02T17:21:24.139Z"
   },
   {
    "duration": 137,
    "start_time": "2022-02-02T17:21:25.824Z"
   },
   {
    "duration": 143,
    "start_time": "2022-02-02T17:21:25.970Z"
   },
   {
    "duration": 4479,
    "start_time": "2022-02-02T17:21:26.116Z"
   },
   {
    "duration": 89,
    "start_time": "2022-02-02T17:21:30.597Z"
   },
   {
    "duration": 19,
    "start_time": "2022-02-02T17:21:30.689Z"
   },
   {
    "duration": 37,
    "start_time": "2022-02-02T17:21:30.710Z"
   },
   {
    "duration": 24247,
    "start_time": "2022-02-02T17:21:38.757Z"
   },
   {
    "duration": 3598,
    "start_time": "2022-02-02T17:23:22.616Z"
   },
   {
    "duration": 139,
    "start_time": "2022-02-02T17:23:26.217Z"
   },
   {
    "duration": 120,
    "start_time": "2022-02-02T17:23:26.359Z"
   },
   {
    "duration": 4274,
    "start_time": "2022-02-02T17:23:26.482Z"
   },
   {
    "duration": 73,
    "start_time": "2022-02-02T17:23:30.758Z"
   },
   {
    "duration": 42,
    "start_time": "2022-02-02T17:23:30.834Z"
   },
   {
    "duration": 38,
    "start_time": "2022-02-02T17:23:30.879Z"
   },
   {
    "duration": -613,
    "start_time": "2022-02-02T17:23:47.666Z"
   },
   {
    "duration": 569,
    "start_time": "2022-02-02T17:24:16.425Z"
   },
   {
    "duration": 113,
    "start_time": "2022-02-02T17:24:16.997Z"
   },
   {
    "duration": 109,
    "start_time": "2022-02-02T17:24:17.115Z"
   },
   {
    "duration": 4430,
    "start_time": "2022-02-02T17:24:17.227Z"
   },
   {
    "duration": 69,
    "start_time": "2022-02-02T17:24:21.659Z"
   },
   {
    "duration": 46,
    "start_time": "2022-02-02T17:24:21.731Z"
   },
   {
    "duration": 32,
    "start_time": "2022-02-02T17:24:21.782Z"
   },
   {
    "duration": 372,
    "start_time": "2022-02-02T17:29:10.050Z"
   },
   {
    "duration": 1813,
    "start_time": "2022-02-02T17:29:21.484Z"
   },
   {
    "duration": 132,
    "start_time": "2022-02-02T17:29:23.300Z"
   },
   {
    "duration": 112,
    "start_time": "2022-02-02T17:29:23.437Z"
   },
   {
    "duration": 4443,
    "start_time": "2022-02-02T17:29:23.553Z"
   },
   {
    "duration": 78,
    "start_time": "2022-02-02T17:29:27.999Z"
   },
   {
    "duration": 20,
    "start_time": "2022-02-02T17:29:28.082Z"
   },
   {
    "duration": 30,
    "start_time": "2022-02-02T17:29:28.105Z"
   },
   {
    "duration": 38,
    "start_time": "2022-02-02T17:29:36.067Z"
   },
   {
    "duration": 16392,
    "start_time": "2022-02-02T17:30:23.816Z"
   },
   {
    "duration": 1260,
    "start_time": "2022-02-03T06:23:25.691Z"
   },
   {
    "duration": 138,
    "start_time": "2022-02-03T06:23:26.954Z"
   },
   {
    "duration": 103,
    "start_time": "2022-02-03T06:23:27.095Z"
   },
   {
    "duration": 4161,
    "start_time": "2022-02-03T06:23:27.201Z"
   },
   {
    "duration": 60,
    "start_time": "2022-02-03T06:23:31.364Z"
   },
   {
    "duration": 39,
    "start_time": "2022-02-03T06:23:31.426Z"
   },
   {
    "duration": 30,
    "start_time": "2022-02-03T06:23:31.468Z"
   },
   {
    "duration": 59,
    "start_time": "2022-02-03T06:23:31.500Z"
   },
   {
    "duration": 15302,
    "start_time": "2022-02-03T06:23:31.562Z"
   },
   {
    "duration": 35,
    "start_time": "2022-02-03T06:30:28.591Z"
   },
   {
    "duration": 1332,
    "start_time": "2022-02-03T06:31:17.937Z"
   },
   {
    "duration": 135,
    "start_time": "2022-02-03T06:31:19.272Z"
   },
   {
    "duration": 110,
    "start_time": "2022-02-03T06:31:19.410Z"
   },
   {
    "duration": 4239,
    "start_time": "2022-02-03T06:31:19.523Z"
   },
   {
    "duration": 60,
    "start_time": "2022-02-03T06:31:23.764Z"
   },
   {
    "duration": 37,
    "start_time": "2022-02-03T06:31:23.826Z"
   },
   {
    "duration": 30,
    "start_time": "2022-02-03T06:31:23.865Z"
   },
   {
    "duration": 68,
    "start_time": "2022-02-03T06:31:23.898Z"
   },
   {
    "duration": 16172,
    "start_time": "2022-02-03T06:31:48.548Z"
   },
   {
    "duration": 575,
    "start_time": "2022-02-03T06:32:56.066Z"
   },
   {
    "duration": 600,
    "start_time": "2022-02-03T06:33:13.537Z"
   },
   {
    "duration": 624,
    "start_time": "2022-02-03T06:33:37.513Z"
   },
   {
    "duration": 91,
    "start_time": "2022-02-03T06:34:07.459Z"
   },
   {
    "duration": 191,
    "start_time": "2022-02-03T06:34:35.482Z"
   },
   {
    "duration": 367,
    "start_time": "2022-02-03T06:35:21.116Z"
   },
   {
    "duration": 16031,
    "start_time": "2022-02-03T06:35:52.749Z"
   },
   {
    "duration": 65,
    "start_time": "2022-02-03T10:32:19.082Z"
   },
   {
    "duration": 94,
    "start_time": "2022-02-03T10:34:07.698Z"
   },
   {
    "duration": 1261,
    "start_time": "2022-02-03T10:42:28.161Z"
   },
   {
    "duration": 141,
    "start_time": "2022-02-03T10:42:29.425Z"
   },
   {
    "duration": 123,
    "start_time": "2022-02-03T10:42:29.571Z"
   },
   {
    "duration": 4237,
    "start_time": "2022-02-03T10:42:29.698Z"
   },
   {
    "duration": 591,
    "start_time": "2022-02-03T10:43:02.470Z"
   },
   {
    "duration": 1329,
    "start_time": "2022-02-03T10:43:30.318Z"
   },
   {
    "duration": 143,
    "start_time": "2022-02-03T10:43:31.649Z"
   },
   {
    "duration": 112,
    "start_time": "2022-02-03T10:43:31.796Z"
   },
   {
    "duration": 4250,
    "start_time": "2022-02-03T10:43:31.911Z"
   },
   {
    "duration": 439,
    "start_time": "2022-02-03T10:44:04.080Z"
   },
   {
    "duration": 497,
    "start_time": "2022-02-03T10:44:41.095Z"
   },
   {
    "duration": 1300,
    "start_time": "2022-02-03T10:45:31.748Z"
   },
   {
    "duration": 138,
    "start_time": "2022-02-03T10:45:33.051Z"
   },
   {
    "duration": 110,
    "start_time": "2022-02-03T10:45:33.192Z"
   },
   {
    "duration": 4111,
    "start_time": "2022-02-03T10:45:33.305Z"
   },
   {
    "duration": 409,
    "start_time": "2022-02-03T10:46:06.371Z"
   },
   {
    "duration": 1319,
    "start_time": "2022-02-03T10:46:11.101Z"
   },
   {
    "duration": 124,
    "start_time": "2022-02-03T10:46:12.423Z"
   },
   {
    "duration": 104,
    "start_time": "2022-02-03T10:46:12.558Z"
   },
   {
    "duration": 4220,
    "start_time": "2022-02-03T10:46:12.665Z"
   },
   {
    "duration": 95,
    "start_time": "2022-02-03T10:46:22.600Z"
   },
   {
    "duration": 403,
    "start_time": "2022-02-03T10:49:04.518Z"
   },
   {
    "duration": 1254,
    "start_time": "2022-02-03T10:49:23.069Z"
   },
   {
    "duration": 134,
    "start_time": "2022-02-03T10:49:24.325Z"
   },
   {
    "duration": 103,
    "start_time": "2022-02-03T10:49:24.462Z"
   },
   {
    "duration": 4082,
    "start_time": "2022-02-03T10:49:24.568Z"
   },
   {
    "duration": 107,
    "start_time": "2022-02-03T10:49:28.653Z"
   },
   {
    "duration": 1267,
    "start_time": "2022-02-03T10:51:36.674Z"
   },
   {
    "duration": 143,
    "start_time": "2022-02-03T10:51:37.943Z"
   },
   {
    "duration": 108,
    "start_time": "2022-02-03T10:51:38.089Z"
   },
   {
    "duration": 4549,
    "start_time": "2022-02-03T10:51:38.200Z"
   },
   {
    "duration": 122,
    "start_time": "2022-02-03T10:51:42.751Z"
   },
   {
    "duration": 431,
    "start_time": "2022-02-03T10:52:04.766Z"
   },
   {
    "duration": 1237,
    "start_time": "2022-02-03T10:52:08.757Z"
   },
   {
    "duration": 125,
    "start_time": "2022-02-03T10:52:09.997Z"
   },
   {
    "duration": 99,
    "start_time": "2022-02-03T10:52:10.124Z"
   },
   {
    "duration": 4242,
    "start_time": "2022-02-03T10:52:10.225Z"
   },
   {
    "duration": 134,
    "start_time": "2022-02-03T10:52:14.470Z"
   },
   {
    "duration": 430,
    "start_time": "2022-02-03T11:05:20.659Z"
   },
   {
    "duration": 1241,
    "start_time": "2022-02-03T11:05:34.066Z"
   },
   {
    "duration": 413,
    "start_time": "2022-02-03T11:05:41.085Z"
   },
   {
    "duration": 468,
    "start_time": "2022-02-03T11:06:57.998Z"
   },
   {
    "duration": 541,
    "start_time": "2022-02-03T11:07:18.585Z"
   },
   {
    "duration": 131,
    "start_time": "2022-02-03T11:07:19.129Z"
   },
   {
    "duration": 120,
    "start_time": "2022-02-03T11:07:19.264Z"
   },
   {
    "duration": 4385,
    "start_time": "2022-02-03T11:07:19.388Z"
   },
   {
    "duration": 113,
    "start_time": "2022-02-03T11:07:23.775Z"
   },
   {
    "duration": 424,
    "start_time": "2022-02-03T11:08:07.910Z"
   },
   {
    "duration": 1251,
    "start_time": "2022-02-03T11:08:28.387Z"
   },
   {
    "duration": 139,
    "start_time": "2022-02-03T11:08:29.641Z"
   },
   {
    "duration": 110,
    "start_time": "2022-02-03T11:08:29.783Z"
   },
   {
    "duration": 4086,
    "start_time": "2022-02-03T11:08:29.896Z"
   },
   {
    "duration": 110,
    "start_time": "2022-02-03T11:08:33.984Z"
   },
   {
    "duration": 19,
    "start_time": "2022-02-03T11:08:51.495Z"
   },
   {
    "duration": 31,
    "start_time": "2022-02-03T11:08:54.975Z"
   },
   {
    "duration": 33,
    "start_time": "2022-02-03T11:08:59.903Z"
   },
   {
    "duration": 15944,
    "start_time": "2022-02-03T11:09:03.947Z"
   },
   {
    "duration": 32,
    "start_time": "2022-02-03T11:09:24.926Z"
   },
   {
    "duration": 130,
    "start_time": "2022-02-03T11:15:12.527Z"
   },
   {
    "duration": 885,
    "start_time": "2022-02-03T13:28:49.065Z"
   },
   {
    "duration": 93,
    "start_time": "2022-02-03T13:28:49.952Z"
   },
   {
    "duration": 75,
    "start_time": "2022-02-03T13:28:50.047Z"
   },
   {
    "duration": 2889,
    "start_time": "2022-02-03T13:28:50.124Z"
   },
   {
    "duration": 73,
    "start_time": "2022-02-03T13:28:53.014Z"
   },
   {
    "duration": 2,
    "start_time": "2022-02-03T13:28:53.088Z"
   },
   {
    "duration": 32,
    "start_time": "2022-02-03T13:28:53.092Z"
   },
   {
    "duration": 20,
    "start_time": "2022-02-03T13:28:53.126Z"
   },
   {
    "duration": 18,
    "start_time": "2022-02-03T13:28:53.148Z"
   },
   {
    "duration": 11426,
    "start_time": "2022-02-03T13:28:53.168Z"
   },
   {
    "duration": 95,
    "start_time": "2022-02-03T13:29:04.595Z"
   },
   {
    "duration": 366,
    "start_time": "2022-02-03T14:26:09.414Z"
   },
   {
    "duration": 77,
    "start_time": "2022-02-03T14:26:09.782Z"
   },
   {
    "duration": 71,
    "start_time": "2022-02-03T14:26:09.861Z"
   },
   {
    "duration": 3083,
    "start_time": "2022-02-03T14:26:09.934Z"
   },
   {
    "duration": 73,
    "start_time": "2022-02-03T14:26:13.019Z"
   },
   {
    "duration": 19,
    "start_time": "2022-02-03T14:26:13.093Z"
   },
   {
    "duration": 13,
    "start_time": "2022-02-03T14:26:13.114Z"
   },
   {
    "duration": 19,
    "start_time": "2022-02-03T14:26:13.129Z"
   },
   {
    "duration": 21,
    "start_time": "2022-02-03T14:26:13.150Z"
   },
   {
    "duration": 990,
    "start_time": "2022-02-03T14:26:36.609Z"
   },
   {
    "duration": 101,
    "start_time": "2022-02-03T14:26:37.601Z"
   },
   {
    "duration": 79,
    "start_time": "2022-02-03T14:26:37.704Z"
   },
   {
    "duration": 3055,
    "start_time": "2022-02-03T14:26:37.785Z"
   },
   {
    "duration": 79,
    "start_time": "2022-02-03T14:26:40.841Z"
   },
   {
    "duration": 2,
    "start_time": "2022-02-03T14:26:40.921Z"
   },
   {
    "duration": 15,
    "start_time": "2022-02-03T14:26:40.925Z"
   },
   {
    "duration": 21,
    "start_time": "2022-02-03T14:26:40.942Z"
   },
   {
    "duration": 56,
    "start_time": "2022-02-03T14:26:40.965Z"
   },
   {
    "duration": 12218,
    "start_time": "2022-02-03T14:26:41.022Z"
   },
   {
    "duration": 103,
    "start_time": "2022-02-03T14:26:53.241Z"
   },
   {
    "duration": 109,
    "start_time": "2022-02-03T14:26:59.070Z"
   },
   {
    "duration": 104,
    "start_time": "2022-02-03T14:28:06.882Z"
   },
   {
    "duration": 98,
    "start_time": "2022-02-03T14:28:50.746Z"
   },
   {
    "duration": 129,
    "start_time": "2022-02-03T14:29:26.605Z"
   },
   {
    "duration": 1422,
    "start_time": "2022-02-03T16:19:23.953Z"
   },
   {
    "duration": 145,
    "start_time": "2022-02-03T16:19:25.378Z"
   },
   {
    "duration": 112,
    "start_time": "2022-02-03T16:19:25.526Z"
   },
   {
    "duration": 4715,
    "start_time": "2022-02-03T16:19:25.641Z"
   },
   {
    "duration": 123,
    "start_time": "2022-02-03T16:19:30.359Z"
   },
   {
    "duration": 4,
    "start_time": "2022-02-03T16:19:30.487Z"
   },
   {
    "duration": 22,
    "start_time": "2022-02-03T16:19:30.493Z"
   },
   {
    "duration": 76,
    "start_time": "2022-02-03T16:19:30.518Z"
   },
   {
    "duration": 33,
    "start_time": "2022-02-03T16:19:30.597Z"
   },
   {
    "duration": 17224,
    "start_time": "2022-02-03T16:19:30.633Z"
   },
   {
    "duration": 166,
    "start_time": "2022-02-03T16:19:47.860Z"
   },
   {
    "duration": 181,
    "start_time": "2022-02-03T16:19:48.028Z"
   },
   {
    "duration": 8405,
    "start_time": "2022-02-03T16:22:46.006Z"
   },
   {
    "duration": 8159,
    "start_time": "2022-02-03T16:26:49.640Z"
   },
   {
    "duration": 115,
    "start_time": "2022-02-03T16:30:01.723Z"
   },
   {
    "duration": 940,
    "start_time": "2022-02-16T14:03:43.986Z"
   },
   {
    "duration": 92,
    "start_time": "2022-02-16T14:03:44.927Z"
   },
   {
    "duration": 83,
    "start_time": "2022-02-16T14:03:45.021Z"
   },
   {
    "duration": 2677,
    "start_time": "2022-02-16T14:03:45.106Z"
   },
   {
    "duration": 86,
    "start_time": "2022-02-16T14:03:47.785Z"
   },
   {
    "duration": 3,
    "start_time": "2022-02-16T14:03:47.872Z"
   },
   {
    "duration": 13,
    "start_time": "2022-02-16T14:03:47.876Z"
   },
   {
    "duration": 18,
    "start_time": "2022-02-16T14:03:47.890Z"
   },
   {
    "duration": 49,
    "start_time": "2022-02-16T14:03:47.910Z"
   },
   {
    "duration": 11350,
    "start_time": "2022-02-16T14:03:47.961Z"
   },
   {
    "duration": 91,
    "start_time": "2022-02-16T14:03:59.313Z"
   },
   {
    "duration": 107,
    "start_time": "2022-02-16T14:03:59.406Z"
   },
   {
    "duration": 77,
    "start_time": "2022-02-16T14:03:59.514Z"
   },
   {
    "duration": 154,
    "start_time": "2022-02-16T14:13:10.854Z"
   },
   {
    "duration": 115,
    "start_time": "2022-02-16T14:14:40.860Z"
   },
   {
    "duration": 109,
    "start_time": "2022-02-16T14:17:00.912Z"
   },
   {
    "duration": 138,
    "start_time": "2022-02-16T14:20:42.961Z"
   },
   {
    "duration": 107,
    "start_time": "2022-02-16T14:20:58.164Z"
   },
   {
    "duration": 110,
    "start_time": "2022-02-16T14:22:04.647Z"
   },
   {
    "duration": 74,
    "start_time": "2022-02-16T14:26:13.889Z"
   },
   {
    "duration": 88,
    "start_time": "2022-02-16T14:26:35.386Z"
   },
   {
    "duration": 68,
    "start_time": "2022-02-16T14:26:53.462Z"
   },
   {
    "duration": 82,
    "start_time": "2022-02-16T14:27:15.295Z"
   },
   {
    "duration": 42,
    "start_time": "2022-02-16T14:27:52.724Z"
   },
   {
    "duration": 56,
    "start_time": "2022-02-16T14:28:05.601Z"
   },
   {
    "duration": 42,
    "start_time": "2022-02-16T14:29:55.560Z"
   },
   {
    "duration": 63,
    "start_time": "2022-02-16T14:30:06.026Z"
   },
   {
    "duration": 7825,
    "start_time": "2022-02-16T14:32:38.078Z"
   },
   {
    "duration": 16,
    "start_time": "2022-02-16T14:34:36.910Z"
   },
   {
    "duration": 22,
    "start_time": "2022-02-16T14:39:07.192Z"
   },
   {
    "duration": 306,
    "start_time": "2022-02-16T14:43:22.535Z"
   },
   {
    "duration": 26,
    "start_time": "2022-02-16T14:43:34.681Z"
   },
   {
    "duration": 390,
    "start_time": "2022-02-16T16:31:53.145Z"
   },
   {
    "duration": 85,
    "start_time": "2022-02-16T16:31:53.537Z"
   },
   {
    "duration": 78,
    "start_time": "2022-02-16T16:31:53.632Z"
   },
   {
    "duration": 2706,
    "start_time": "2022-02-16T16:31:53.712Z"
   },
   {
    "duration": 72,
    "start_time": "2022-02-16T16:31:56.420Z"
   },
   {
    "duration": 2,
    "start_time": "2022-02-16T16:31:56.494Z"
   },
   {
    "duration": 14,
    "start_time": "2022-02-16T16:31:56.498Z"
   },
   {
    "duration": 366,
    "start_time": "2022-02-16T16:31:56.532Z"
   },
   {
    "duration": -3,
    "start_time": "2022-02-16T16:31:56.904Z"
   },
   {
    "duration": -4,
    "start_time": "2022-02-16T16:31:56.906Z"
   },
   {
    "duration": -4,
    "start_time": "2022-02-16T16:31:56.907Z"
   },
   {
    "duration": -4,
    "start_time": "2022-02-16T16:31:56.908Z"
   },
   {
    "duration": -6,
    "start_time": "2022-02-16T16:31:56.910Z"
   },
   {
    "duration": -6,
    "start_time": "2022-02-16T16:31:56.911Z"
   },
   {
    "duration": -5,
    "start_time": "2022-02-16T16:31:56.911Z"
   },
   {
    "duration": 18,
    "start_time": "2022-02-16T16:34:09.275Z"
   },
   {
    "duration": 21,
    "start_time": "2022-02-16T16:34:26.852Z"
   },
   {
    "duration": 470,
    "start_time": "2022-02-16T16:37:45.520Z"
   },
   {
    "duration": 113,
    "start_time": "2022-02-16T16:37:45.993Z"
   },
   {
    "duration": 99,
    "start_time": "2022-02-16T16:37:46.108Z"
   },
   {
    "duration": 3155,
    "start_time": "2022-02-16T16:37:46.210Z"
   },
   {
    "duration": 74,
    "start_time": "2022-02-16T16:37:49.367Z"
   },
   {
    "duration": 2,
    "start_time": "2022-02-16T16:37:49.443Z"
   },
   {
    "duration": 15,
    "start_time": "2022-02-16T16:37:49.446Z"
   },
   {
    "duration": 18,
    "start_time": "2022-02-16T16:37:49.463Z"
   },
   {
    "duration": 49,
    "start_time": "2022-02-16T16:37:49.483Z"
   },
   {
    "duration": 930,
    "start_time": "2022-02-16T16:38:51.268Z"
   },
   {
    "duration": 84,
    "start_time": "2022-02-16T16:38:52.200Z"
   },
   {
    "duration": 72,
    "start_time": "2022-02-16T16:38:52.286Z"
   },
   {
    "duration": 2539,
    "start_time": "2022-02-16T16:38:52.360Z"
   },
   {
    "duration": 74,
    "start_time": "2022-02-16T16:38:54.901Z"
   },
   {
    "duration": 2,
    "start_time": "2022-02-16T16:38:54.977Z"
   },
   {
    "duration": 13,
    "start_time": "2022-02-16T16:38:54.981Z"
   },
   {
    "duration": 37,
    "start_time": "2022-02-16T16:38:54.996Z"
   },
   {
    "duration": 20,
    "start_time": "2022-02-16T16:38:55.034Z"
   },
   {
    "duration": 38,
    "start_time": "2022-02-16T16:39:09.747Z"
   },
   {
    "duration": 47,
    "start_time": "2022-02-16T16:39:20.175Z"
   },
   {
    "duration": 51,
    "start_time": "2022-02-16T16:39:23.776Z"
   },
   {
    "duration": 22,
    "start_time": "2022-02-16T16:39:28.807Z"
   },
   {
    "duration": 27,
    "start_time": "2022-02-16T16:39:38.127Z"
   },
   {
    "duration": 104,
    "start_time": "2022-02-16T17:05:52.434Z"
   },
   {
    "duration": 111,
    "start_time": "2022-02-16T17:08:54.880Z"
   },
   {
    "duration": 24,
    "start_time": "2022-02-16T17:19:40.818Z"
   },
   {
    "duration": 28,
    "start_time": "2022-02-16T17:19:54.351Z"
   },
   {
    "duration": 34,
    "start_time": "2022-02-16T17:26:23.333Z"
   },
   {
    "duration": 1353,
    "start_time": "2022-02-17T13:46:46.999Z"
   },
   {
    "duration": 155,
    "start_time": "2022-02-17T13:46:48.355Z"
   },
   {
    "duration": 115,
    "start_time": "2022-02-17T13:46:48.513Z"
   },
   {
    "duration": 4961,
    "start_time": "2022-02-17T13:46:48.631Z"
   },
   {
    "duration": 112,
    "start_time": "2022-02-17T13:46:53.595Z"
   },
   {
    "duration": 3,
    "start_time": "2022-02-17T13:46:53.710Z"
   },
   {
    "duration": 18,
    "start_time": "2022-02-17T13:46:53.727Z"
   },
   {
    "duration": 32,
    "start_time": "2022-02-17T13:46:53.749Z"
   },
   {
    "duration": 71,
    "start_time": "2022-02-17T13:46:53.784Z"
   },
   {
    "duration": 79,
    "start_time": "2022-02-17T13:46:53.858Z"
   },
   {
    "duration": 61,
    "start_time": "2022-02-17T13:46:53.940Z"
   },
   {
    "duration": 87,
    "start_time": "2022-02-17T13:46:54.004Z"
   },
   {
    "duration": 66,
    "start_time": "2022-02-17T13:46:54.094Z"
   },
   {
    "duration": 3,
    "start_time": "2022-02-17T13:47:32.080Z"
   },
   {
    "duration": 55,
    "start_time": "2022-02-17T13:47:44.421Z"
   },
   {
    "duration": 364,
    "start_time": "2022-02-17T14:04:27.612Z"
   },
   {
    "duration": 425,
    "start_time": "2022-02-17T14:05:54.342Z"
   },
   {
    "duration": 299,
    "start_time": "2022-02-17T14:06:26.385Z"
   },
   {
    "duration": 285,
    "start_time": "2022-02-17T14:06:53.226Z"
   },
   {
    "duration": 322,
    "start_time": "2022-02-17T14:09:55.364Z"
   },
   {
    "duration": 373,
    "start_time": "2022-02-17T14:10:03.584Z"
   },
   {
    "duration": 614,
    "start_time": "2022-02-17T14:12:59.050Z"
   },
   {
    "duration": 386,
    "start_time": "2022-02-17T14:17:02.287Z"
   },
   {
    "duration": 405,
    "start_time": "2022-02-17T14:28:43.306Z"
   },
   {
    "duration": 377,
    "start_time": "2022-02-17T14:30:59.522Z"
   },
   {
    "duration": 542,
    "start_time": "2022-02-17T15:43:22.715Z"
   },
   {
    "duration": 146,
    "start_time": "2022-02-17T15:43:23.259Z"
   },
   {
    "duration": 127,
    "start_time": "2022-02-17T15:43:23.409Z"
   },
   {
    "duration": 5520,
    "start_time": "2022-02-17T15:43:23.540Z"
   },
   {
    "duration": 122,
    "start_time": "2022-02-17T15:43:29.063Z"
   },
   {
    "duration": 4,
    "start_time": "2022-02-17T15:43:29.188Z"
   },
   {
    "duration": 42,
    "start_time": "2022-02-17T15:43:29.195Z"
   },
   {
    "duration": 33,
    "start_time": "2022-02-17T15:43:29.240Z"
   },
   {
    "duration": 4,
    "start_time": "2022-02-17T15:43:29.278Z"
   },
   {
    "duration": 97,
    "start_time": "2022-02-17T15:43:29.284Z"
   },
   {
    "duration": 75,
    "start_time": "2022-02-17T15:43:29.383Z"
   },
   {
    "duration": 82,
    "start_time": "2022-02-17T15:43:29.460Z"
   },
   {
    "duration": 51,
    "start_time": "2022-02-17T15:43:29.544Z"
   },
   {
    "duration": 8305,
    "start_time": "2022-02-17T15:43:34.341Z"
   },
   {
    "duration": 461,
    "start_time": "2022-02-17T15:43:50.960Z"
   },
   {
    "duration": 461,
    "start_time": "2022-02-17T15:44:44.293Z"
   },
   {
    "duration": 422,
    "start_time": "2022-02-17T15:58:15.942Z"
   },
   {
    "duration": 424,
    "start_time": "2022-02-17T15:59:05.656Z"
   },
   {
    "duration": 1318,
    "start_time": "2022-02-17T16:13:22.003Z"
   },
   {
    "duration": 213,
    "start_time": "2022-02-17T16:13:23.325Z"
   },
   {
    "duration": 103,
    "start_time": "2022-02-17T16:13:23.541Z"
   },
   {
    "duration": 4303,
    "start_time": "2022-02-17T16:13:23.647Z"
   },
   {
    "duration": 104,
    "start_time": "2022-02-17T16:13:27.952Z"
   },
   {
    "duration": 3,
    "start_time": "2022-02-17T16:13:28.058Z"
   },
   {
    "duration": 41,
    "start_time": "2022-02-17T16:13:28.063Z"
   },
   {
    "duration": 30,
    "start_time": "2022-02-17T16:13:28.106Z"
   },
   {
    "duration": 3,
    "start_time": "2022-02-17T16:13:28.139Z"
   },
   {
    "duration": 85,
    "start_time": "2022-02-17T16:13:28.144Z"
   },
   {
    "duration": 71,
    "start_time": "2022-02-17T16:13:28.232Z"
   },
   {
    "duration": 65,
    "start_time": "2022-02-17T16:13:28.306Z"
   },
   {
    "duration": 70,
    "start_time": "2022-02-17T16:13:28.373Z"
   },
   {
    "duration": 431,
    "start_time": "2022-02-17T16:13:28.445Z"
   },
   {
    "duration": 11,
    "start_time": "2022-02-17T16:13:31.659Z"
   },
   {
    "duration": 525,
    "start_time": "2022-02-17T16:17:01.972Z"
   },
   {
    "duration": 96,
    "start_time": "2022-02-17T16:17:35.803Z"
   },
   {
    "duration": 88,
    "start_time": "2022-02-17T16:18:44.360Z"
   },
   {
    "duration": 109,
    "start_time": "2022-02-17T16:18:55.704Z"
   },
   {
    "duration": 87,
    "start_time": "2022-02-17T16:19:21.742Z"
   },
   {
    "duration": 80,
    "start_time": "2022-02-17T16:19:58.299Z"
   },
   {
    "duration": 103,
    "start_time": "2022-02-17T16:20:03.422Z"
   },
   {
    "duration": 102,
    "start_time": "2022-02-17T16:21:04.193Z"
   },
   {
    "duration": 351,
    "start_time": "2022-02-17T16:22:01.714Z"
   },
   {
    "duration": 332,
    "start_time": "2022-02-17T16:23:03.136Z"
   },
   {
    "duration": 338,
    "start_time": "2022-02-17T16:23:36.290Z"
   },
   {
    "duration": 108,
    "start_time": "2022-02-17T16:24:59.326Z"
   },
   {
    "duration": 12,
    "start_time": "2022-02-17T16:27:10.427Z"
   },
   {
    "duration": 978,
    "start_time": "2022-02-17T16:29:36.538Z"
   },
   {
    "duration": 1126,
    "start_time": "2022-02-17T16:33:13.628Z"
   },
   {
    "duration": 14,
    "start_time": "2022-02-17T16:38:02.457Z"
   },
   {
    "duration": 237,
    "start_time": "2022-02-17T16:38:47.514Z"
   },
   {
    "duration": 13,
    "start_time": "2022-02-17T16:39:12.632Z"
   },
   {
    "duration": 332,
    "start_time": "2022-02-17T16:40:06.864Z"
   },
   {
    "duration": 161,
    "start_time": "2022-02-17T16:40:52.149Z"
   },
   {
    "duration": 386,
    "start_time": "2022-02-17T16:41:22.108Z"
   },
   {
    "duration": 336,
    "start_time": "2022-02-17T16:42:05.352Z"
   },
   {
    "duration": 104,
    "start_time": "2022-02-17T16:42:59.476Z"
   },
   {
    "duration": 14,
    "start_time": "2022-02-17T16:43:44.002Z"
   },
   {
    "duration": 105,
    "start_time": "2022-02-17T16:43:47.427Z"
   },
   {
    "duration": 10,
    "start_time": "2022-02-17T16:44:09.208Z"
   },
   {
    "duration": 126,
    "start_time": "2022-02-17T16:45:39.219Z"
   },
   {
    "duration": 27,
    "start_time": "2022-02-17T16:50:23.666Z"
   },
   {
    "duration": 22,
    "start_time": "2022-02-17T16:52:27.082Z"
   },
   {
    "duration": 1278,
    "start_time": "2022-02-18T13:59:40.955Z"
   },
   {
    "duration": 138,
    "start_time": "2022-02-18T13:59:42.236Z"
   },
   {
    "duration": 104,
    "start_time": "2022-02-18T13:59:42.378Z"
   },
   {
    "duration": 4331,
    "start_time": "2022-02-18T13:59:42.485Z"
   },
   {
    "duration": 114,
    "start_time": "2022-02-18T13:59:46.819Z"
   },
   {
    "duration": 2,
    "start_time": "2022-02-18T13:59:46.935Z"
   },
   {
    "duration": 21,
    "start_time": "2022-02-18T13:59:46.939Z"
   },
   {
    "duration": 60,
    "start_time": "2022-02-18T13:59:46.962Z"
   },
   {
    "duration": 3,
    "start_time": "2022-02-18T13:59:47.025Z"
   },
   {
    "duration": 56,
    "start_time": "2022-02-18T13:59:47.030Z"
   },
   {
    "duration": 62,
    "start_time": "2022-02-18T13:59:47.111Z"
   },
   {
    "duration": 88,
    "start_time": "2022-02-18T13:59:47.175Z"
   },
   {
    "duration": 62,
    "start_time": "2022-02-18T13:59:47.266Z"
   },
   {
    "duration": 434,
    "start_time": "2022-02-18T13:59:47.331Z"
   },
   {
    "duration": 9,
    "start_time": "2022-02-18T13:59:47.767Z"
   },
   {
    "duration": 14,
    "start_time": "2022-02-18T13:59:57.226Z"
   },
   {
    "duration": 169,
    "start_time": "2022-02-18T14:00:12.936Z"
   },
   {
    "duration": 27,
    "start_time": "2022-02-18T14:00:34.233Z"
   },
   {
    "duration": 21,
    "start_time": "2022-02-18T14:00:37.459Z"
   },
   {
    "duration": 115,
    "start_time": "2022-02-18T14:02:39.456Z"
   },
   {
    "duration": 68,
    "start_time": "2022-02-18T14:02:55.030Z"
   },
   {
    "duration": 95,
    "start_time": "2022-02-18T14:10:36.652Z"
   },
   {
    "duration": 13,
    "start_time": "2022-02-18T14:13:53.388Z"
   },
   {
    "duration": 95,
    "start_time": "2022-02-18T14:14:10.144Z"
   },
   {
    "duration": 173,
    "start_time": "2022-02-18T14:16:18.184Z"
   },
   {
    "duration": 31,
    "start_time": "2022-02-18T14:20:15.395Z"
   },
   {
    "duration": 31,
    "start_time": "2022-02-18T14:20:45.482Z"
   },
   {
    "duration": 64,
    "start_time": "2022-02-18T14:21:01.563Z"
   },
   {
    "duration": 35,
    "start_time": "2022-02-18T14:21:06.482Z"
   },
   {
    "duration": 66,
    "start_time": "2022-02-18T14:21:25.322Z"
   },
   {
    "duration": 29,
    "start_time": "2022-02-18T14:21:29.018Z"
   },
   {
    "duration": 468,
    "start_time": "2022-02-18T14:23:26.967Z"
   },
   {
    "duration": 13,
    "start_time": "2022-02-18T14:23:53.694Z"
   },
   {
    "duration": 30,
    "start_time": "2022-02-18T14:25:17.061Z"
   },
   {
    "duration": 41,
    "start_time": "2022-02-18T15:00:08.857Z"
   },
   {
    "duration": 811,
    "start_time": "2022-02-18T15:04:31.302Z"
   },
   {
    "duration": 45,
    "start_time": "2022-02-18T15:04:50.199Z"
   },
   {
    "duration": 31,
    "start_time": "2022-02-18T15:09:38.530Z"
   },
   {
    "duration": 40,
    "start_time": "2022-02-18T15:09:54.136Z"
   },
   {
    "duration": 3,
    "start_time": "2022-02-18T15:10:02.648Z"
   },
   {
    "duration": 394,
    "start_time": "2022-02-18T15:15:20.820Z"
   },
   {
    "duration": 482,
    "start_time": "2022-02-18T15:16:55.128Z"
   },
   {
    "duration": 600,
    "start_time": "2022-02-18T15:17:27.925Z"
   },
   {
    "duration": 709,
    "start_time": "2022-02-18T15:19:45.516Z"
   },
   {
    "duration": 42,
    "start_time": "2022-02-18T15:19:51.117Z"
   },
   {
    "duration": 504,
    "start_time": "2022-02-18T15:19:55.023Z"
   },
   {
    "duration": 515,
    "start_time": "2022-02-18T15:32:49.484Z"
   },
   {
    "duration": 701,
    "start_time": "2022-02-18T15:32:55.032Z"
   },
   {
    "duration": 409,
    "start_time": "2022-02-18T15:33:20.762Z"
   },
   {
    "duration": 466,
    "start_time": "2022-02-18T15:35:12.181Z"
   },
   {
    "duration": 461,
    "start_time": "2022-02-18T15:35:57.609Z"
   },
   {
    "duration": 49,
    "start_time": "2022-02-18T15:36:57.498Z"
   },
   {
    "duration": 428,
    "start_time": "2022-02-18T15:59:33.465Z"
   },
   {
    "duration": 1006,
    "start_time": "2022-02-19T08:57:50.061Z"
   },
   {
    "duration": 86,
    "start_time": "2022-02-19T08:57:51.069Z"
   },
   {
    "duration": 74,
    "start_time": "2022-02-19T08:57:51.157Z"
   },
   {
    "duration": 2819,
    "start_time": "2022-02-19T08:57:51.233Z"
   },
   {
    "duration": 85,
    "start_time": "2022-02-19T08:57:54.054Z"
   },
   {
    "duration": 1,
    "start_time": "2022-02-19T08:57:54.141Z"
   },
   {
    "duration": 14,
    "start_time": "2022-02-19T08:57:54.144Z"
   },
   {
    "duration": 18,
    "start_time": "2022-02-19T08:57:54.159Z"
   },
   {
    "duration": 2,
    "start_time": "2022-02-19T08:57:54.179Z"
   },
   {
    "duration": 67,
    "start_time": "2022-02-19T08:57:54.183Z"
   },
   {
    "duration": 39,
    "start_time": "2022-02-19T08:57:54.252Z"
   },
   {
    "duration": 55,
    "start_time": "2022-02-19T08:57:54.293Z"
   },
   {
    "duration": 31,
    "start_time": "2022-02-19T08:57:54.350Z"
   },
   {
    "duration": 258,
    "start_time": "2022-02-19T08:57:54.383Z"
   },
   {
    "duration": 7,
    "start_time": "2022-02-19T08:57:54.643Z"
   },
   {
    "duration": 15,
    "start_time": "2022-02-19T08:57:54.651Z"
   },
   {
    "duration": 36,
    "start_time": "2022-02-19T08:57:54.667Z"
   },
   {
    "duration": 34,
    "start_time": "2022-02-19T08:57:54.705Z"
   },
   {
    "duration": 16,
    "start_time": "2022-02-19T08:57:54.740Z"
   },
   {
    "duration": 26,
    "start_time": "2022-02-19T08:57:54.757Z"
   },
   {
    "duration": 228,
    "start_time": "2022-02-19T08:57:54.785Z"
   },
   {
    "duration": 209,
    "start_time": "2022-02-19T08:57:55.015Z"
   },
   {
    "duration": 238,
    "start_time": "2022-02-19T08:57:55.230Z"
   },
   {
    "duration": 15,
    "start_time": "2022-02-19T10:03:15.087Z"
   },
   {
    "duration": 5133,
    "start_time": "2022-02-19T10:11:04.043Z"
   },
   {
    "duration": 4671,
    "start_time": "2022-02-19T10:12:23.573Z"
   },
   {
    "duration": 6,
    "start_time": "2022-02-19T10:14:33.225Z"
   },
   {
    "duration": 9,
    "start_time": "2022-02-19T10:14:58.112Z"
   },
   {
    "duration": 370,
    "start_time": "2022-02-19T10:18:07.699Z"
   },
   {
    "duration": 8,
    "start_time": "2022-02-19T10:19:02.443Z"
   },
   {
    "duration": 13,
    "start_time": "2022-02-19T10:25:06.130Z"
   },
   {
    "duration": 296,
    "start_time": "2022-02-19T10:32:12.011Z"
   },
   {
    "duration": 199,
    "start_time": "2022-02-19T10:32:48.219Z"
   },
   {
    "duration": 10,
    "start_time": "2022-02-19T10:33:52.950Z"
   },
   {
    "duration": 13,
    "start_time": "2022-02-19T10:35:15.371Z"
   },
   {
    "duration": 14,
    "start_time": "2022-02-19T10:35:51.851Z"
   },
   {
    "duration": 15,
    "start_time": "2022-02-19T10:38:58.096Z"
   },
   {
    "duration": 15,
    "start_time": "2022-02-19T10:40:00.571Z"
   },
   {
    "duration": 30,
    "start_time": "2022-02-19T10:45:12.848Z"
   },
   {
    "duration": 13,
    "start_time": "2022-02-19T10:56:29.838Z"
   },
   {
    "duration": 206,
    "start_time": "2022-02-19T10:59:22.015Z"
   },
   {
    "duration": 34,
    "start_time": "2022-02-19T11:14:24.599Z"
   },
   {
    "duration": 33,
    "start_time": "2022-02-19T11:17:59.059Z"
   },
   {
    "duration": 28,
    "start_time": "2022-02-19T11:18:45.953Z"
   },
   {
    "duration": 11,
    "start_time": "2022-02-19T11:21:56.649Z"
   },
   {
    "duration": 66,
    "start_time": "2022-02-19T11:26:04.271Z"
   },
   {
    "duration": 13,
    "start_time": "2022-02-19T11:27:27.189Z"
   },
   {
    "duration": 10,
    "start_time": "2022-02-19T11:27:55.880Z"
   },
   {
    "duration": 7,
    "start_time": "2022-02-19T11:50:05.699Z"
   },
   {
    "duration": 271,
    "start_time": "2022-02-19T11:50:17.488Z"
   },
   {
    "duration": 7,
    "start_time": "2022-02-19T11:50:23.792Z"
   },
   {
    "duration": 250,
    "start_time": "2022-02-19T11:51:36.247Z"
   },
   {
    "duration": 8,
    "start_time": "2022-02-19T11:51:41.952Z"
   },
   {
    "duration": 13,
    "start_time": "2022-02-19T11:51:55.714Z"
   },
   {
    "duration": 12,
    "start_time": "2022-02-19T11:52:05.443Z"
   },
   {
    "duration": 12,
    "start_time": "2022-02-19T12:07:33.315Z"
   },
   {
    "duration": 31,
    "start_time": "2022-02-19T12:17:38.305Z"
   },
   {
    "duration": 15,
    "start_time": "2022-02-19T12:19:08.124Z"
   },
   {
    "duration": 7,
    "start_time": "2022-02-19T12:22:09.836Z"
   },
   {
    "duration": 5,
    "start_time": "2022-02-19T12:22:57.231Z"
   },
   {
    "duration": 6,
    "start_time": "2022-02-19T12:23:55.216Z"
   },
   {
    "duration": 5,
    "start_time": "2022-02-19T12:25:56.255Z"
   },
   {
    "duration": 7,
    "start_time": "2022-02-19T12:26:07.941Z"
   },
   {
    "duration": 4,
    "start_time": "2022-02-19T12:27:11.355Z"
   },
   {
    "duration": 249,
    "start_time": "2022-02-19T12:28:48.682Z"
   },
   {
    "duration": 7,
    "start_time": "2022-02-19T12:29:18.226Z"
   },
   {
    "duration": 6,
    "start_time": "2022-02-19T12:29:42.906Z"
   },
   {
    "duration": 7,
    "start_time": "2022-02-19T12:30:14.732Z"
   },
   {
    "duration": 15,
    "start_time": "2022-02-19T12:30:38.879Z"
   },
   {
    "duration": 9,
    "start_time": "2022-02-19T12:31:06.799Z"
   },
   {
    "duration": 14,
    "start_time": "2022-02-19T12:31:27.294Z"
   },
   {
    "duration": 27,
    "start_time": "2022-02-19T12:32:23.085Z"
   },
   {
    "duration": 8,
    "start_time": "2022-02-19T12:32:31.713Z"
   },
   {
    "duration": 12,
    "start_time": "2022-02-19T12:33:14.014Z"
   },
   {
    "duration": 11,
    "start_time": "2022-02-19T12:33:17.550Z"
   },
   {
    "duration": 1103,
    "start_time": "2022-02-20T12:21:47.638Z"
   },
   {
    "duration": 95,
    "start_time": "2022-02-20T12:21:48.743Z"
   },
   {
    "duration": 84,
    "start_time": "2022-02-20T12:21:48.840Z"
   },
   {
    "duration": 2812,
    "start_time": "2022-02-20T12:21:48.926Z"
   },
   {
    "duration": 95,
    "start_time": "2022-02-20T12:21:51.740Z"
   },
   {
    "duration": 15,
    "start_time": "2022-02-20T12:21:51.837Z"
   },
   {
    "duration": 21,
    "start_time": "2022-02-20T12:21:51.855Z"
   },
   {
    "duration": 30,
    "start_time": "2022-02-20T12:21:51.878Z"
   },
   {
    "duration": 53,
    "start_time": "2022-02-20T12:21:51.911Z"
   },
   {
    "duration": 59,
    "start_time": "2022-02-20T12:21:51.966Z"
   },
   {
    "duration": 54,
    "start_time": "2022-02-20T12:21:52.027Z"
   },
   {
    "duration": 54,
    "start_time": "2022-02-20T12:21:52.083Z"
   },
   {
    "duration": 285,
    "start_time": "2022-02-20T12:21:52.139Z"
   },
   {
    "duration": 8,
    "start_time": "2022-02-20T12:21:52.426Z"
   },
   {
    "duration": 11,
    "start_time": "2022-02-20T12:21:52.436Z"
   },
   {
    "duration": 90,
    "start_time": "2022-02-20T12:21:52.449Z"
   },
   {
    "duration": 34,
    "start_time": "2022-02-20T12:21:52.541Z"
   },
   {
    "duration": 42,
    "start_time": "2022-02-20T12:21:52.577Z"
   },
   {
    "duration": 36,
    "start_time": "2022-02-20T12:21:52.622Z"
   },
   {
    "duration": 275,
    "start_time": "2022-02-20T12:21:52.660Z"
   },
   {
    "duration": 243,
    "start_time": "2022-02-20T12:21:52.936Z"
   },
   {
    "duration": 285,
    "start_time": "2022-02-20T12:21:53.181Z"
   },
   {
    "duration": 41,
    "start_time": "2022-02-20T12:21:53.468Z"
   },
   {
    "duration": 7,
    "start_time": "2022-02-20T12:21:53.511Z"
   },
   {
    "duration": 398,
    "start_time": "2022-02-20T12:21:53.519Z"
   },
   {
    "duration": 11,
    "start_time": "2022-02-20T12:21:53.919Z"
   },
   {
    "duration": 27,
    "start_time": "2022-02-20T12:45:13.477Z"
   },
   {
    "duration": 38,
    "start_time": "2022-02-20T12:45:47.159Z"
   },
   {
    "duration": 17,
    "start_time": "2022-02-20T12:46:49.314Z"
   },
   {
    "duration": 19,
    "start_time": "2022-02-20T12:47:20.205Z"
   },
   {
    "duration": 19,
    "start_time": "2022-02-20T12:47:52.755Z"
   },
   {
    "duration": 483,
    "start_time": "2022-02-20T12:49:13.770Z"
   },
   {
    "duration": 292,
    "start_time": "2022-02-20T12:49:25.179Z"
   },
   {
    "duration": 19,
    "start_time": "2022-02-20T12:51:11.173Z"
   },
   {
    "duration": 368,
    "start_time": "2022-02-20T12:51:44.502Z"
   },
   {
    "duration": 279,
    "start_time": "2022-02-20T12:51:52.019Z"
   },
   {
    "duration": 20,
    "start_time": "2022-02-20T12:51:58.644Z"
   },
   {
    "duration": 25,
    "start_time": "2022-02-20T12:52:35.975Z"
   },
   {
    "duration": 7,
    "start_time": "2022-02-20T12:54:44.815Z"
   },
   {
    "duration": 6,
    "start_time": "2022-02-20T12:55:35.867Z"
   },
   {
    "duration": 8,
    "start_time": "2022-02-20T12:56:15.354Z"
   },
   {
    "duration": 262,
    "start_time": "2022-02-20T12:56:49.522Z"
   },
   {
    "duration": 7,
    "start_time": "2022-02-20T12:57:50.498Z"
   },
   {
    "duration": 32,
    "start_time": "2022-02-20T13:30:00.649Z"
   },
   {
    "duration": 7,
    "start_time": "2022-02-20T13:31:13.036Z"
   },
   {
    "duration": 9,
    "start_time": "2022-02-20T13:35:25.189Z"
   },
   {
    "duration": 7,
    "start_time": "2022-02-20T13:36:04.251Z"
   },
   {
    "duration": 285,
    "start_time": "2022-02-20T13:37:32.903Z"
   },
   {
    "duration": 98,
    "start_time": "2022-02-20T13:37:41.878Z"
   },
   {
    "duration": 361,
    "start_time": "2022-02-20T13:40:11.986Z"
   },
   {
    "duration": 399,
    "start_time": "2022-02-20T13:40:49.367Z"
   },
   {
    "duration": 404,
    "start_time": "2022-02-20T13:41:30.398Z"
   },
   {
    "duration": 95,
    "start_time": "2022-02-20T13:41:44.550Z"
   },
   {
    "duration": 167,
    "start_time": "2022-02-20T13:42:09.590Z"
   },
   {
    "duration": 95,
    "start_time": "2022-02-20T13:43:09.807Z"
   },
   {
    "duration": 150,
    "start_time": "2022-02-20T13:43:57.783Z"
   },
   {
    "duration": 87,
    "start_time": "2022-02-20T13:44:39.300Z"
   },
   {
    "duration": 90,
    "start_time": "2022-02-20T13:45:21.764Z"
   },
   {
    "duration": 96,
    "start_time": "2022-02-20T13:45:43.402Z"
   },
   {
    "duration": 8,
    "start_time": "2022-02-20T13:46:29.073Z"
   },
   {
    "duration": 111,
    "start_time": "2022-02-20T13:49:44.478Z"
   },
   {
    "duration": 126,
    "start_time": "2022-02-20T13:49:56.395Z"
   },
   {
    "duration": 388,
    "start_time": "2022-02-20T15:40:59.778Z"
   },
   {
    "duration": 86,
    "start_time": "2022-02-20T15:41:00.169Z"
   },
   {
    "duration": 77,
    "start_time": "2022-02-20T15:41:00.257Z"
   },
   {
    "duration": 2851,
    "start_time": "2022-02-20T15:41:00.336Z"
   },
   {
    "duration": 85,
    "start_time": "2022-02-20T15:41:03.189Z"
   },
   {
    "duration": 15,
    "start_time": "2022-02-20T15:41:03.276Z"
   },
   {
    "duration": 24,
    "start_time": "2022-02-20T15:41:03.308Z"
   },
   {
    "duration": 44,
    "start_time": "2022-02-20T15:41:03.334Z"
   },
   {
    "duration": 72,
    "start_time": "2022-02-20T15:41:03.381Z"
   },
   {
    "duration": 71,
    "start_time": "2022-02-20T15:41:03.456Z"
   },
   {
    "duration": 39,
    "start_time": "2022-02-20T15:41:03.529Z"
   },
   {
    "duration": 294,
    "start_time": "2022-02-20T15:41:03.570Z"
   },
   {
    "duration": 8,
    "start_time": "2022-02-20T15:41:03.866Z"
   },
   {
    "duration": 16,
    "start_time": "2022-02-20T15:41:03.875Z"
   },
   {
    "duration": 51,
    "start_time": "2022-02-20T15:41:03.907Z"
   },
   {
    "duration": 23,
    "start_time": "2022-02-20T15:41:03.960Z"
   },
   {
    "duration": 24,
    "start_time": "2022-02-20T15:41:04.008Z"
   },
   {
    "duration": 40,
    "start_time": "2022-02-20T15:41:04.033Z"
   },
   {
    "duration": 4293,
    "start_time": "2022-02-20T15:41:04.074Z"
   },
   {
    "duration": 254,
    "start_time": "2022-02-20T15:41:08.370Z"
   },
   {
    "duration": 255,
    "start_time": "2022-02-20T15:41:08.625Z"
   },
   {
    "duration": 57,
    "start_time": "2022-02-20T15:41:08.882Z"
   },
   {
    "duration": 7,
    "start_time": "2022-02-20T15:41:08.941Z"
   },
   {
    "duration": 20,
    "start_time": "2022-02-20T15:41:08.950Z"
   },
   {
    "duration": 11,
    "start_time": "2022-02-20T15:41:08.972Z"
   },
   {
    "duration": 8,
    "start_time": "2022-02-20T15:41:09.008Z"
   },
   {
    "duration": 99,
    "start_time": "2022-02-20T15:41:09.020Z"
   },
   {
    "duration": 110,
    "start_time": "2022-02-20T15:41:09.121Z"
   },
   {
    "duration": 107,
    "start_time": "2022-02-20T15:41:09.233Z"
   },
   {
    "duration": 70479,
    "start_time": "2022-02-20T15:41:29.045Z"
   },
   {
    "duration": 169,
    "start_time": "2022-02-20T15:46:56.239Z"
   },
   {
    "duration": 171,
    "start_time": "2022-02-20T15:47:46.964Z"
   },
   {
    "duration": 166,
    "start_time": "2022-02-20T15:48:27.189Z"
   },
   {
    "duration": 203,
    "start_time": "2022-02-20T15:48:36.004Z"
   },
   {
    "duration": 172,
    "start_time": "2022-02-20T15:48:43.220Z"
   },
   {
    "duration": 213,
    "start_time": "2022-02-20T15:48:52.508Z"
   },
   {
    "duration": 246,
    "start_time": "2022-02-20T15:50:25.676Z"
   },
   {
    "duration": 205,
    "start_time": "2022-02-20T15:50:39.817Z"
   },
   {
    "duration": 149,
    "start_time": "2022-02-20T15:50:48.607Z"
   },
   {
    "duration": 4113,
    "start_time": "2022-02-20T15:50:58.448Z"
   },
   {
    "duration": 257,
    "start_time": "2022-02-20T15:53:18.596Z"
   },
   {
    "duration": 224,
    "start_time": "2022-02-20T15:54:26.990Z"
   },
   {
    "duration": 242,
    "start_time": "2022-02-20T15:56:09.215Z"
   },
   {
    "duration": 267,
    "start_time": "2022-02-20T15:58:00.604Z"
   },
   {
    "duration": 199,
    "start_time": "2022-02-20T15:58:15.243Z"
   },
   {
    "duration": 681,
    "start_time": "2022-02-20T16:06:59.878Z"
   },
   {
    "duration": 273,
    "start_time": "2022-02-20T16:07:42.614Z"
   },
   {
    "duration": 252,
    "start_time": "2022-02-20T16:17:34.258Z"
   },
   {
    "duration": 262,
    "start_time": "2022-02-20T16:19:59.321Z"
   },
   {
    "duration": 85281,
    "start_time": "2022-02-20T16:21:02.105Z"
   },
   {
    "duration": 215,
    "start_time": "2022-02-20T16:22:51.883Z"
   },
   {
    "duration": 214,
    "start_time": "2022-02-20T16:24:04.211Z"
   },
   {
    "duration": 202,
    "start_time": "2022-02-20T16:24:17.667Z"
   },
   {
    "duration": 220,
    "start_time": "2022-02-20T16:24:35.455Z"
   },
   {
    "duration": 195,
    "start_time": "2022-02-20T16:24:54.659Z"
   },
   {
    "duration": 205,
    "start_time": "2022-02-20T16:26:02.912Z"
   },
   {
    "duration": 194,
    "start_time": "2022-02-20T16:26:53.588Z"
   },
   {
    "duration": 178,
    "start_time": "2022-02-20T16:26:59.682Z"
   },
   {
    "duration": 185,
    "start_time": "2022-02-20T16:27:05.896Z"
   },
   {
    "duration": 308,
    "start_time": "2022-02-20T16:44:29.973Z"
   },
   {
    "duration": 5,
    "start_time": "2022-02-20T16:45:23.078Z"
   },
   {
    "duration": 11,
    "start_time": "2022-02-20T16:45:32.561Z"
   },
   {
    "duration": 8,
    "start_time": "2022-02-20T16:46:08.848Z"
   },
   {
    "duration": 7,
    "start_time": "2022-02-20T16:46:21.298Z"
   },
   {
    "duration": 257,
    "start_time": "2022-02-20T16:48:07.040Z"
   },
   {
    "duration": 264,
    "start_time": "2022-02-20T16:48:32.280Z"
   },
   {
    "duration": 295,
    "start_time": "2022-02-20T16:49:34.103Z"
   },
   {
    "duration": 276,
    "start_time": "2022-02-20T16:58:11.373Z"
   },
   {
    "duration": 408,
    "start_time": "2022-02-20T16:59:02.380Z"
   },
   {
    "duration": 83,
    "start_time": "2022-02-20T16:59:02.791Z"
   },
   {
    "duration": 80,
    "start_time": "2022-02-20T16:59:02.876Z"
   },
   {
    "duration": 2931,
    "start_time": "2022-02-20T16:59:02.959Z"
   },
   {
    "duration": 88,
    "start_time": "2022-02-20T16:59:05.892Z"
   },
   {
    "duration": 31,
    "start_time": "2022-02-20T16:59:05.982Z"
   },
   {
    "duration": 149,
    "start_time": "2022-02-20T16:59:06.016Z"
   },
   {
    "duration": 42,
    "start_time": "2022-02-20T16:59:06.168Z"
   },
   {
    "duration": 46,
    "start_time": "2022-02-20T16:59:06.212Z"
   },
   {
    "duration": 66,
    "start_time": "2022-02-20T16:59:06.260Z"
   },
   {
    "duration": 58,
    "start_time": "2022-02-20T16:59:06.328Z"
   },
   {
    "duration": 283,
    "start_time": "2022-02-20T16:59:06.388Z"
   },
   {
    "duration": 7,
    "start_time": "2022-02-20T16:59:06.673Z"
   },
   {
    "duration": 30,
    "start_time": "2022-02-20T16:59:06.683Z"
   },
   {
    "duration": 46,
    "start_time": "2022-02-20T16:59:06.715Z"
   },
   {
    "duration": 23,
    "start_time": "2022-02-20T16:59:06.763Z"
   },
   {
    "duration": 21,
    "start_time": "2022-02-20T16:59:06.809Z"
   },
   {
    "duration": 37,
    "start_time": "2022-02-20T16:59:06.832Z"
   },
   {
    "duration": 5442,
    "start_time": "2022-02-20T16:59:06.871Z"
   },
   {
    "duration": 238,
    "start_time": "2022-02-20T16:59:12.315Z"
   },
   {
    "duration": 238,
    "start_time": "2022-02-20T16:59:12.555Z"
   },
   {
    "duration": 40,
    "start_time": "2022-02-20T16:59:12.795Z"
   },
   {
    "duration": 7,
    "start_time": "2022-02-20T16:59:12.840Z"
   },
   {
    "duration": 13,
    "start_time": "2022-02-20T16:59:12.850Z"
   },
   {
    "duration": 44,
    "start_time": "2022-02-20T16:59:12.865Z"
   },
   {
    "duration": 8,
    "start_time": "2022-02-20T16:59:12.911Z"
   },
   {
    "duration": 104,
    "start_time": "2022-02-20T16:59:12.921Z"
   },
   {
    "duration": 92,
    "start_time": "2022-02-20T16:59:13.027Z"
   },
   {
    "duration": 99,
    "start_time": "2022-02-20T16:59:13.121Z"
   },
   {
    "duration": 185,
    "start_time": "2022-02-20T16:59:37.171Z"
   },
   {
    "duration": 188,
    "start_time": "2022-02-20T16:59:42.795Z"
   },
   {
    "duration": 303,
    "start_time": "2022-02-20T17:00:26.007Z"
   },
   {
    "duration": 151,
    "start_time": "2022-02-20T17:01:06.832Z"
   },
   {
    "duration": 1235,
    "start_time": "2022-02-20T17:01:51.779Z"
   },
   {
    "duration": 1282,
    "start_time": "2022-02-20T17:02:10.667Z"
   },
   {
    "duration": 1284,
    "start_time": "2022-02-20T17:02:20.871Z"
   },
   {
    "duration": 1219,
    "start_time": "2022-02-20T17:03:10.174Z"
   },
   {
    "duration": 263,
    "start_time": "2022-02-20T17:06:29.979Z"
   },
   {
    "duration": 250,
    "start_time": "2022-02-20T17:12:20.037Z"
   },
   {
    "duration": 1188,
    "start_time": "2022-02-20T17:12:24.846Z"
   },
   {
    "duration": 403,
    "start_time": "2022-02-20T17:13:11.392Z"
   },
   {
    "duration": 84,
    "start_time": "2022-02-20T17:13:11.797Z"
   },
   {
    "duration": 77,
    "start_time": "2022-02-20T17:13:11.884Z"
   },
   {
    "duration": 2877,
    "start_time": "2022-02-20T17:13:11.963Z"
   },
   {
    "duration": 95,
    "start_time": "2022-02-20T17:13:14.842Z"
   },
   {
    "duration": 16,
    "start_time": "2022-02-20T17:13:14.939Z"
   },
   {
    "duration": 37,
    "start_time": "2022-02-20T17:13:14.957Z"
   },
   {
    "duration": 49,
    "start_time": "2022-02-20T17:13:15.008Z"
   },
   {
    "duration": 64,
    "start_time": "2022-02-20T17:13:15.061Z"
   },
   {
    "duration": 57,
    "start_time": "2022-02-20T17:13:15.128Z"
   },
   {
    "duration": 51,
    "start_time": "2022-02-20T17:13:15.186Z"
   },
   {
    "duration": 277,
    "start_time": "2022-02-20T17:13:15.239Z"
   },
   {
    "duration": 8,
    "start_time": "2022-02-20T17:13:15.517Z"
   },
   {
    "duration": 31,
    "start_time": "2022-02-20T17:13:15.526Z"
   },
   {
    "duration": 51,
    "start_time": "2022-02-20T17:13:15.558Z"
   },
   {
    "duration": 22,
    "start_time": "2022-02-20T17:13:15.611Z"
   },
   {
    "duration": 36,
    "start_time": "2022-02-20T17:13:15.635Z"
   },
   {
    "duration": 49,
    "start_time": "2022-02-20T17:13:15.673Z"
   },
   {
    "duration": 245,
    "start_time": "2022-02-20T17:13:15.724Z"
   },
   {
    "duration": 342,
    "start_time": "2022-02-20T17:13:15.971Z"
   },
   {
    "duration": 245,
    "start_time": "2022-02-20T17:13:16.315Z"
   },
   {
    "duration": 46,
    "start_time": "2022-02-20T17:13:16.562Z"
   },
   {
    "duration": 9,
    "start_time": "2022-02-20T17:13:16.610Z"
   },
   {
    "duration": 12,
    "start_time": "2022-02-20T17:13:16.621Z"
   },
   {
    "duration": 16,
    "start_time": "2022-02-20T17:13:16.635Z"
   },
   {
    "duration": 8,
    "start_time": "2022-02-20T17:13:16.653Z"
   },
   {
    "duration": 124,
    "start_time": "2022-02-20T17:13:16.665Z"
   },
   {
    "duration": 95,
    "start_time": "2022-02-20T17:13:16.791Z"
   },
   {
    "duration": 100,
    "start_time": "2022-02-20T17:13:16.889Z"
   },
   {
    "duration": 193,
    "start_time": "2022-02-20T17:13:16.991Z"
   },
   {
    "duration": 187,
    "start_time": "2022-02-20T17:13:17.186Z"
   },
   {
    "duration": 1205,
    "start_time": "2022-02-20T17:13:17.378Z"
   },
   {
    "duration": 367,
    "start_time": "2022-02-20T17:13:25.084Z"
   },
   {
    "duration": 1065,
    "start_time": "2022-02-20T17:16:04.483Z"
   },
   {
    "duration": 1174,
    "start_time": "2022-02-20T17:28:23.806Z"
   },
   {
    "duration": 1335,
    "start_time": "2022-03-02T14:29:05.244Z"
   },
   {
    "duration": 19,
    "start_time": "2022-03-02T14:29:09.155Z"
   },
   {
    "duration": 29,
    "start_time": "2022-03-02T15:29:06.310Z"
   },
   {
    "duration": 73,
    "start_time": "2022-03-02T15:29:43.754Z"
   },
   {
    "duration": 177,
    "start_time": "2022-03-02T15:33:30.684Z"
   },
   {
    "duration": 181,
    "start_time": "2022-03-02T15:34:23.780Z"
   },
   {
    "duration": 198,
    "start_time": "2022-03-02T15:37:47.279Z"
   },
   {
    "duration": 201,
    "start_time": "2022-03-02T15:38:09.295Z"
   },
   {
    "duration": 162,
    "start_time": "2022-03-02T15:41:15.747Z"
   },
   {
    "duration": 535,
    "start_time": "2022-03-02T15:41:18.899Z"
   },
   {
    "duration": 536,
    "start_time": "2022-03-02T15:42:38.325Z"
   },
   {
    "duration": 14,
    "start_time": "2022-03-02T15:43:31.574Z"
   },
   {
    "duration": 22,
    "start_time": "2022-03-02T15:44:09.095Z"
   },
   {
    "duration": 14,
    "start_time": "2022-03-02T15:53:24.868Z"
   },
   {
    "duration": 139,
    "start_time": "2022-03-02T15:54:45.474Z"
   },
   {
    "duration": 19,
    "start_time": "2022-03-02T15:55:47.993Z"
   },
   {
    "duration": 601,
    "start_time": "2022-03-02T15:56:39.125Z"
   },
   {
    "duration": 552,
    "start_time": "2022-03-02T15:57:00.644Z"
   },
   {
    "duration": 480,
    "start_time": "2022-03-02T16:02:21.065Z"
   },
   {
    "duration": 15,
    "start_time": "2022-03-02T16:02:21.548Z"
   },
   {
    "duration": 174,
    "start_time": "2022-03-02T16:02:21.566Z"
   },
   {
    "duration": 19,
    "start_time": "2022-03-02T16:02:21.743Z"
   },
   {
    "duration": 546,
    "start_time": "2022-03-02T16:02:21.765Z"
   },
   {
    "duration": 13,
    "start_time": "2022-03-02T16:02:22.314Z"
   },
   {
    "duration": 147,
    "start_time": "2022-03-02T16:02:22.330Z"
   },
   {
    "duration": 19,
    "start_time": "2022-03-02T16:02:22.479Z"
   },
   {
    "duration": 547,
    "start_time": "2022-03-02T16:02:22.505Z"
   },
   {
    "duration": 115,
    "start_time": "2022-03-02T16:02:23.056Z"
   },
   {
    "duration": 86,
    "start_time": "2022-03-02T16:02:23.182Z"
   },
   {
    "duration": 4039,
    "start_time": "2022-03-02T16:02:23.283Z"
   },
   {
    "duration": 108,
    "start_time": "2022-03-02T16:02:27.325Z"
   },
   {
    "duration": 19,
    "start_time": "2022-03-02T16:02:27.436Z"
   },
   {
    "duration": 51,
    "start_time": "2022-03-02T16:02:27.458Z"
   },
   {
    "duration": 75,
    "start_time": "2022-03-02T16:02:27.511Z"
   },
   {
    "duration": 55,
    "start_time": "2022-03-02T16:02:27.588Z"
   },
   {
    "duration": 87,
    "start_time": "2022-03-02T16:02:27.646Z"
   },
   {
    "duration": 60,
    "start_time": "2022-03-02T16:02:27.735Z"
   },
   {
    "duration": 430,
    "start_time": "2022-03-02T16:02:27.797Z"
   },
   {
    "duration": 8,
    "start_time": "2022-03-02T16:02:43.136Z"
   },
   {
    "duration": 16,
    "start_time": "2022-03-02T16:08:08.447Z"
   },
   {
    "duration": 85,
    "start_time": "2022-03-02T16:10:32.445Z"
   },
   {
    "duration": 26,
    "start_time": "2022-03-02T16:11:13.474Z"
   },
   {
    "duration": 70,
    "start_time": "2022-03-02T16:14:17.814Z"
   },
   {
    "duration": 533,
    "start_time": "2022-03-02T16:17:51.169Z"
   },
   {
    "duration": 483,
    "start_time": "2022-03-02T16:18:23.812Z"
   },
   {
    "duration": 405,
    "start_time": "2022-03-02T16:19:18.390Z"
   },
   {
    "duration": 34,
    "start_time": "2022-03-02T16:23:18.664Z"
   },
   {
    "duration": 30,
    "start_time": "2022-03-02T16:23:48.086Z"
   },
   {
    "duration": 9,
    "start_time": "2022-03-02T16:25:44.363Z"
   },
   {
    "duration": 16,
    "start_time": "2022-03-02T16:26:29.277Z"
   },
   {
    "duration": 17,
    "start_time": "2022-03-02T16:29:03.764Z"
   },
   {
    "duration": 16,
    "start_time": "2022-03-02T16:29:34.680Z"
   },
   {
    "duration": 381,
    "start_time": "2022-03-02T16:33:40.020Z"
   },
   {
    "duration": 385,
    "start_time": "2022-03-02T16:33:53.756Z"
   },
   {
    "duration": 1085,
    "start_time": "2022-03-03T10:18:49.430Z"
   },
   {
    "duration": 13,
    "start_time": "2022-03-03T10:18:50.516Z"
   },
   {
    "duration": 130,
    "start_time": "2022-03-03T10:18:50.532Z"
   },
   {
    "duration": 17,
    "start_time": "2022-03-03T10:18:50.664Z"
   },
   {
    "duration": 246,
    "start_time": "2022-03-03T10:18:50.683Z"
   },
   {
    "duration": 8,
    "start_time": "2022-03-03T10:18:50.930Z"
   },
   {
    "duration": 106,
    "start_time": "2022-03-03T10:18:50.940Z"
   },
   {
    "duration": 22,
    "start_time": "2022-03-03T10:18:51.049Z"
   },
   {
    "duration": 244,
    "start_time": "2022-03-03T10:18:51.074Z"
   },
   {
    "duration": 72,
    "start_time": "2022-03-03T10:18:51.320Z"
   },
   {
    "duration": 70,
    "start_time": "2022-03-03T10:18:51.394Z"
   },
   {
    "duration": 240,
    "start_time": "2022-03-03T10:18:51.465Z"
   },
   {
    "duration": 12,
    "start_time": "2022-03-03T10:18:51.707Z"
   },
   {
    "duration": 96,
    "start_time": "2022-03-03T10:18:51.720Z"
   },
   {
    "duration": 76,
    "start_time": "2022-03-03T10:18:51.817Z"
   },
   {
    "duration": 2851,
    "start_time": "2022-03-03T10:18:51.895Z"
   },
   {
    "duration": 306,
    "start_time": "2022-03-03T10:18:54.747Z"
   },
   {
    "duration": -219,
    "start_time": "2022-03-03T10:18:55.275Z"
   },
   {
    "duration": -222,
    "start_time": "2022-03-03T10:18:55.279Z"
   },
   {
    "duration": -225,
    "start_time": "2022-03-03T10:18:55.283Z"
   },
   {
    "duration": -228,
    "start_time": "2022-03-03T10:18:55.286Z"
   },
   {
    "duration": -231,
    "start_time": "2022-03-03T10:18:55.290Z"
   },
   {
    "duration": -233,
    "start_time": "2022-03-03T10:18:55.293Z"
   },
   {
    "duration": -235,
    "start_time": "2022-03-03T10:18:55.296Z"
   },
   {
    "duration": -238,
    "start_time": "2022-03-03T10:18:55.300Z"
   },
   {
    "duration": -242,
    "start_time": "2022-03-03T10:18:55.305Z"
   },
   {
    "duration": -245,
    "start_time": "2022-03-03T10:18:55.308Z"
   },
   {
    "duration": -254,
    "start_time": "2022-03-03T10:18:55.318Z"
   },
   {
    "duration": -256,
    "start_time": "2022-03-03T10:18:55.321Z"
   },
   {
    "duration": -259,
    "start_time": "2022-03-03T10:18:55.325Z"
   },
   {
    "duration": -262,
    "start_time": "2022-03-03T10:18:55.329Z"
   },
   {
    "duration": -265,
    "start_time": "2022-03-03T10:18:55.333Z"
   },
   {
    "duration": -267,
    "start_time": "2022-03-03T10:18:55.336Z"
   },
   {
    "duration": -270,
    "start_time": "2022-03-03T10:18:55.340Z"
   },
   {
    "duration": -273,
    "start_time": "2022-03-03T10:18:55.344Z"
   },
   {
    "duration": -275,
    "start_time": "2022-03-03T10:18:55.347Z"
   },
   {
    "duration": -278,
    "start_time": "2022-03-03T10:18:55.350Z"
   },
   {
    "duration": -280,
    "start_time": "2022-03-03T10:18:55.353Z"
   },
   {
    "duration": -282,
    "start_time": "2022-03-03T10:18:55.356Z"
   },
   {
    "duration": -285,
    "start_time": "2022-03-03T10:18:55.360Z"
   },
   {
    "duration": -288,
    "start_time": "2022-03-03T10:18:55.364Z"
   },
   {
    "duration": -290,
    "start_time": "2022-03-03T10:18:55.367Z"
   },
   {
    "duration": -292,
    "start_time": "2022-03-03T10:18:55.370Z"
   },
   {
    "duration": -295,
    "start_time": "2022-03-03T10:18:55.374Z"
   },
   {
    "duration": -297,
    "start_time": "2022-03-03T10:18:55.377Z"
   },
   {
    "duration": 334,
    "start_time": "2022-03-03T10:21:25.569Z"
   },
   {
    "duration": 8,
    "start_time": "2022-03-03T10:21:25.905Z"
   },
   {
    "duration": 129,
    "start_time": "2022-03-03T10:21:25.915Z"
   },
   {
    "duration": 17,
    "start_time": "2022-03-03T10:21:26.046Z"
   },
   {
    "duration": 237,
    "start_time": "2022-03-03T10:21:26.065Z"
   },
   {
    "duration": 9,
    "start_time": "2022-03-03T10:21:26.304Z"
   },
   {
    "duration": 91,
    "start_time": "2022-03-03T10:21:26.315Z"
   },
   {
    "duration": 12,
    "start_time": "2022-03-03T10:21:26.408Z"
   },
   {
    "duration": 241,
    "start_time": "2022-03-03T10:21:26.422Z"
   },
   {
    "duration": 61,
    "start_time": "2022-03-03T10:21:26.664Z"
   },
   {
    "duration": 69,
    "start_time": "2022-03-03T10:21:26.727Z"
   },
   {
    "duration": 234,
    "start_time": "2022-03-03T10:21:26.797Z"
   },
   {
    "duration": 11,
    "start_time": "2022-03-03T10:21:27.032Z"
   },
   {
    "duration": 91,
    "start_time": "2022-03-03T10:21:27.045Z"
   },
   {
    "duration": 63,
    "start_time": "2022-03-03T10:21:27.138Z"
   },
   {
    "duration": 2692,
    "start_time": "2022-03-03T10:21:27.203Z"
   },
   {
    "duration": 2,
    "start_time": "2022-03-03T10:21:33.925Z"
   },
   {
    "duration": 15,
    "start_time": "2022-03-03T10:21:38.129Z"
   },
   {
    "duration": 19,
    "start_time": "2022-03-03T10:21:38.146Z"
   },
   {
    "duration": 37,
    "start_time": "2022-03-03T10:21:38.167Z"
   },
   {
    "duration": 59,
    "start_time": "2022-03-03T10:21:38.206Z"
   },
   {
    "duration": 22,
    "start_time": "2022-03-03T10:21:38.267Z"
   },
   {
    "duration": 32,
    "start_time": "2022-03-03T10:21:38.290Z"
   },
   {
    "duration": 385,
    "start_time": "2022-03-03T10:21:38.324Z"
   },
   {
    "duration": 7,
    "start_time": "2022-03-03T10:21:38.712Z"
   },
   {
    "duration": 10,
    "start_time": "2022-03-03T10:21:38.720Z"
   },
   {
    "duration": 57,
    "start_time": "2022-03-03T10:21:38.732Z"
   },
   {
    "duration": 21,
    "start_time": "2022-03-03T10:21:38.791Z"
   },
   {
    "duration": 15,
    "start_time": "2022-03-03T10:21:38.814Z"
   },
   {
    "duration": 46,
    "start_time": "2022-03-03T10:21:38.830Z"
   },
   {
    "duration": 212,
    "start_time": "2022-03-03T10:21:38.877Z"
   },
   {
    "duration": 192,
    "start_time": "2022-03-03T10:21:39.090Z"
   },
   {
    "duration": 199,
    "start_time": "2022-03-03T10:21:39.283Z"
   },
   {
    "duration": 25,
    "start_time": "2022-03-03T10:21:39.484Z"
   },
   {
    "duration": 5,
    "start_time": "2022-03-03T10:21:39.511Z"
   },
   {
    "duration": 456,
    "start_time": "2022-03-03T10:21:39.518Z"
   },
   {
    "duration": 9,
    "start_time": "2022-03-03T10:21:39.976Z"
   },
   {
    "duration": 6,
    "start_time": "2022-03-03T10:21:39.987Z"
   },
   {
    "duration": 98,
    "start_time": "2022-03-03T10:21:39.995Z"
   },
   {
    "duration": 93,
    "start_time": "2022-03-03T10:21:40.097Z"
   },
   {
    "duration": 85,
    "start_time": "2022-03-03T10:21:40.192Z"
   },
   {
    "duration": 157,
    "start_time": "2022-03-03T10:21:40.279Z"
   },
   {
    "duration": 155,
    "start_time": "2022-03-03T10:21:40.438Z"
   },
   {
    "duration": 1225,
    "start_time": "2022-03-03T10:21:40.595Z"
   },
   {
    "duration": 872,
    "start_time": "2022-03-03T10:21:41.821Z"
   },
   {
    "duration": 9,
    "start_time": "2022-03-03T10:55:35.128Z"
   },
   {
    "duration": 7,
    "start_time": "2022-03-03T10:58:44.580Z"
   },
   {
    "duration": 9,
    "start_time": "2022-03-03T10:59:02.933Z"
   },
   {
    "duration": 248,
    "start_time": "2022-03-03T10:59:58.855Z"
   },
   {
    "duration": 1102,
    "start_time": "2022-03-03T14:01:23.905Z"
   },
   {
    "duration": 14,
    "start_time": "2022-03-03T14:01:25.009Z"
   },
   {
    "duration": 135,
    "start_time": "2022-03-03T14:01:25.025Z"
   },
   {
    "duration": 22,
    "start_time": "2022-03-03T14:01:25.162Z"
   },
   {
    "duration": 293,
    "start_time": "2022-03-03T14:01:25.186Z"
   },
   {
    "duration": 9,
    "start_time": "2022-03-03T14:01:25.481Z"
   },
   {
    "duration": 109,
    "start_time": "2022-03-03T14:01:25.492Z"
   },
   {
    "duration": 13,
    "start_time": "2022-03-03T14:01:25.603Z"
   },
   {
    "duration": 314,
    "start_time": "2022-03-03T14:01:25.619Z"
   },
   {
    "duration": 71,
    "start_time": "2022-03-03T14:01:25.936Z"
   },
   {
    "duration": 84,
    "start_time": "2022-03-03T14:01:26.008Z"
   },
   {
    "duration": 341,
    "start_time": "2022-03-03T14:01:26.094Z"
   },
   {
    "duration": 13,
    "start_time": "2022-03-03T14:01:26.437Z"
   },
   {
    "duration": 105,
    "start_time": "2022-03-03T14:01:26.452Z"
   },
   {
    "duration": 80,
    "start_time": "2022-03-03T14:01:26.559Z"
   },
   {
    "duration": 2902,
    "start_time": "2022-03-03T14:01:26.641Z"
   },
   {
    "duration": 2,
    "start_time": "2022-03-03T14:01:29.545Z"
   },
   {
    "duration": 30,
    "start_time": "2022-03-03T14:01:29.549Z"
   },
   {
    "duration": 20,
    "start_time": "2022-03-03T14:01:29.581Z"
   },
   {
    "duration": 39,
    "start_time": "2022-03-03T14:01:29.602Z"
   },
   {
    "duration": 64,
    "start_time": "2022-03-03T14:01:29.643Z"
   },
   {
    "duration": 23,
    "start_time": "2022-03-03T14:01:29.709Z"
   },
   {
    "duration": 48,
    "start_time": "2022-03-03T14:01:29.734Z"
   },
   {
    "duration": 10,
    "start_time": "2022-03-03T14:01:29.784Z"
   },
   {
    "duration": 24,
    "start_time": "2022-03-03T14:02:24.891Z"
   },
   {
    "duration": 268,
    "start_time": "2022-03-03T14:03:08.061Z"
   },
   {
    "duration": 27,
    "start_time": "2022-03-03T14:05:48.389Z"
   },
   {
    "duration": 281,
    "start_time": "2022-03-03T14:06:05.506Z"
   },
   {
    "duration": 23,
    "start_time": "2022-03-03T14:19:53.492Z"
   },
   {
    "duration": 418,
    "start_time": "2022-03-03T14:25:37.021Z"
   },
   {
    "duration": 9,
    "start_time": "2022-03-03T14:25:37.441Z"
   },
   {
    "duration": 128,
    "start_time": "2022-03-03T14:25:37.452Z"
   },
   {
    "duration": 18,
    "start_time": "2022-03-03T14:25:37.582Z"
   },
   {
    "duration": 306,
    "start_time": "2022-03-03T14:25:37.602Z"
   },
   {
    "duration": 9,
    "start_time": "2022-03-03T14:25:37.910Z"
   },
   {
    "duration": 100,
    "start_time": "2022-03-03T14:25:37.921Z"
   },
   {
    "duration": 14,
    "start_time": "2022-03-03T14:25:38.022Z"
   },
   {
    "duration": 323,
    "start_time": "2022-03-03T14:25:38.039Z"
   },
   {
    "duration": 73,
    "start_time": "2022-03-03T14:25:38.363Z"
   },
   {
    "duration": 77,
    "start_time": "2022-03-03T14:25:38.438Z"
   },
   {
    "duration": 304,
    "start_time": "2022-03-03T14:25:38.517Z"
   },
   {
    "duration": 12,
    "start_time": "2022-03-03T14:25:38.822Z"
   },
   {
    "duration": 103,
    "start_time": "2022-03-03T14:25:38.836Z"
   },
   {
    "duration": 82,
    "start_time": "2022-03-03T14:25:38.941Z"
   },
   {
    "duration": 3149,
    "start_time": "2022-03-03T14:25:39.025Z"
   },
   {
    "duration": 16,
    "start_time": "2022-03-03T14:25:42.177Z"
   },
   {
    "duration": 37,
    "start_time": "2022-03-03T14:25:42.195Z"
   },
   {
    "duration": 26,
    "start_time": "2022-03-03T14:25:42.234Z"
   },
   {
    "duration": 64,
    "start_time": "2022-03-03T14:25:42.262Z"
   },
   {
    "duration": 40,
    "start_time": "2022-03-03T14:25:42.327Z"
   },
   {
    "duration": 29,
    "start_time": "2022-03-03T14:25:42.369Z"
   },
   {
    "duration": 48,
    "start_time": "2022-03-03T14:25:42.400Z"
   },
   {
    "duration": 9,
    "start_time": "2022-03-03T14:25:42.450Z"
   },
   {
    "duration": 374,
    "start_time": "2022-03-03T14:27:15.426Z"
   },
   {
    "duration": 13,
    "start_time": "2022-03-03T14:27:33.437Z"
   },
   {
    "duration": 422,
    "start_time": "2022-03-03T14:27:52.317Z"
   },
   {
    "duration": 9,
    "start_time": "2022-03-03T14:27:52.741Z"
   },
   {
    "duration": 127,
    "start_time": "2022-03-03T14:27:52.752Z"
   },
   {
    "duration": 20,
    "start_time": "2022-03-03T14:27:52.881Z"
   },
   {
    "duration": 327,
    "start_time": "2022-03-03T14:27:52.902Z"
   },
   {
    "duration": 9,
    "start_time": "2022-03-03T14:27:53.231Z"
   },
   {
    "duration": 96,
    "start_time": "2022-03-03T14:27:53.242Z"
   },
   {
    "duration": 14,
    "start_time": "2022-03-03T14:27:53.340Z"
   },
   {
    "duration": 314,
    "start_time": "2022-03-03T14:27:53.357Z"
   },
   {
    "duration": 73,
    "start_time": "2022-03-03T14:27:53.673Z"
   },
   {
    "duration": 81,
    "start_time": "2022-03-03T14:27:53.748Z"
   },
   {
    "duration": 309,
    "start_time": "2022-03-03T14:27:53.830Z"
   },
   {
    "duration": 13,
    "start_time": "2022-03-03T14:27:54.140Z"
   },
   {
    "duration": 94,
    "start_time": "2022-03-03T14:27:54.154Z"
   },
   {
    "duration": 70,
    "start_time": "2022-03-03T14:27:54.250Z"
   },
   {
    "duration": 3018,
    "start_time": "2022-03-03T14:27:54.322Z"
   },
   {
    "duration": 14,
    "start_time": "2022-03-03T14:27:57.342Z"
   },
   {
    "duration": 28,
    "start_time": "2022-03-03T14:27:57.357Z"
   },
   {
    "duration": 21,
    "start_time": "2022-03-03T14:27:57.386Z"
   },
   {
    "duration": 40,
    "start_time": "2022-03-03T14:27:57.409Z"
   },
   {
    "duration": 41,
    "start_time": "2022-03-03T14:27:57.478Z"
   },
   {
    "duration": 286,
    "start_time": "2022-03-03T14:27:57.520Z"
   },
   {
    "duration": -265,
    "start_time": "2022-03-03T14:27:58.074Z"
   },
   {
    "duration": -267,
    "start_time": "2022-03-03T14:27:58.077Z"
   },
   {
    "duration": -268,
    "start_time": "2022-03-03T14:27:58.079Z"
   },
   {
    "duration": -269,
    "start_time": "2022-03-03T14:27:58.081Z"
   },
   {
    "duration": -271,
    "start_time": "2022-03-03T14:27:58.084Z"
   },
   {
    "duration": -274,
    "start_time": "2022-03-03T14:27:58.088Z"
   },
   {
    "duration": -276,
    "start_time": "2022-03-03T14:27:58.091Z"
   },
   {
    "duration": -276,
    "start_time": "2022-03-03T14:27:58.092Z"
   },
   {
    "duration": -278,
    "start_time": "2022-03-03T14:27:58.094Z"
   },
   {
    "duration": -279,
    "start_time": "2022-03-03T14:27:58.096Z"
   },
   {
    "duration": -279,
    "start_time": "2022-03-03T14:27:58.097Z"
   },
   {
    "duration": -280,
    "start_time": "2022-03-03T14:27:58.099Z"
   },
   {
    "duration": -382,
    "start_time": "2022-03-03T14:27:58.202Z"
   },
   {
    "duration": -404,
    "start_time": "2022-03-03T14:27:58.225Z"
   },
   {
    "duration": -405,
    "start_time": "2022-03-03T14:27:58.227Z"
   },
   {
    "duration": -405,
    "start_time": "2022-03-03T14:27:58.228Z"
   },
   {
    "duration": -407,
    "start_time": "2022-03-03T14:27:58.231Z"
   },
   {
    "duration": -409,
    "start_time": "2022-03-03T14:27:58.234Z"
   },
   {
    "duration": -410,
    "start_time": "2022-03-03T14:27:58.236Z"
   },
   {
    "duration": -411,
    "start_time": "2022-03-03T14:27:58.237Z"
   },
   {
    "duration": -412,
    "start_time": "2022-03-03T14:27:58.239Z"
   },
   {
    "duration": -412,
    "start_time": "2022-03-03T14:27:58.240Z"
   },
   {
    "duration": -413,
    "start_time": "2022-03-03T14:27:58.242Z"
   },
   {
    "duration": -413,
    "start_time": "2022-03-03T14:27:58.243Z"
   },
   {
    "duration": -583,
    "start_time": "2022-03-03T14:27:58.414Z"
   },
   {
    "duration": 416,
    "start_time": "2022-03-03T14:29:55.413Z"
   },
   {
    "duration": 8,
    "start_time": "2022-03-03T14:29:55.831Z"
   },
   {
    "duration": 120,
    "start_time": "2022-03-03T14:29:55.841Z"
   },
   {
    "duration": 19,
    "start_time": "2022-03-03T14:29:55.962Z"
   },
   {
    "duration": 321,
    "start_time": "2022-03-03T14:29:55.984Z"
   },
   {
    "duration": 9,
    "start_time": "2022-03-03T14:29:56.307Z"
   },
   {
    "duration": 94,
    "start_time": "2022-03-03T14:29:56.318Z"
   },
   {
    "duration": 15,
    "start_time": "2022-03-03T14:29:56.414Z"
   },
   {
    "duration": 400,
    "start_time": "2022-03-03T14:29:56.431Z"
   },
   {
    "duration": 78,
    "start_time": "2022-03-03T14:29:56.833Z"
   },
   {
    "duration": 51,
    "start_time": "2022-03-03T14:29:56.913Z"
   },
   {
    "duration": 1162,
    "start_time": "2022-03-03T14:34:50.267Z"
   },
   {
    "duration": 12,
    "start_time": "2022-03-03T14:34:51.431Z"
   },
   {
    "duration": 137,
    "start_time": "2022-03-03T14:34:51.445Z"
   },
   {
    "duration": 19,
    "start_time": "2022-03-03T14:34:51.584Z"
   },
   {
    "duration": 308,
    "start_time": "2022-03-03T14:34:51.605Z"
   },
   {
    "duration": 10,
    "start_time": "2022-03-03T14:34:51.915Z"
   },
   {
    "duration": 110,
    "start_time": "2022-03-03T14:34:51.926Z"
   },
   {
    "duration": 16,
    "start_time": "2022-03-03T14:34:52.039Z"
   },
   {
    "duration": 316,
    "start_time": "2022-03-03T14:34:52.057Z"
   },
   {
    "duration": 69,
    "start_time": "2022-03-03T14:34:52.375Z"
   },
   {
    "duration": 79,
    "start_time": "2022-03-03T14:34:52.446Z"
   },
   {
    "duration": 312,
    "start_time": "2022-03-03T14:34:52.527Z"
   },
   {
    "duration": 13,
    "start_time": "2022-03-03T14:34:52.840Z"
   },
   {
    "duration": 399,
    "start_time": "2022-03-03T14:35:35.090Z"
   },
   {
    "duration": 9,
    "start_time": "2022-03-03T14:35:35.491Z"
   },
   {
    "duration": 135,
    "start_time": "2022-03-03T14:35:35.502Z"
   },
   {
    "duration": 17,
    "start_time": "2022-03-03T14:35:35.639Z"
   },
   {
    "duration": 355,
    "start_time": "2022-03-03T14:35:35.658Z"
   },
   {
    "duration": 10,
    "start_time": "2022-03-03T14:35:36.015Z"
   },
   {
    "duration": 107,
    "start_time": "2022-03-03T14:35:36.028Z"
   },
   {
    "duration": 15,
    "start_time": "2022-03-03T14:35:36.138Z"
   },
   {
    "duration": 317,
    "start_time": "2022-03-03T14:35:36.155Z"
   },
   {
    "duration": 66,
    "start_time": "2022-03-03T14:35:36.477Z"
   },
   {
    "duration": 76,
    "start_time": "2022-03-03T14:35:36.545Z"
   },
   {
    "duration": 302,
    "start_time": "2022-03-03T14:35:36.623Z"
   },
   {
    "duration": 13,
    "start_time": "2022-03-03T14:35:36.927Z"
   },
   {
    "duration": 96,
    "start_time": "2022-03-03T14:35:36.941Z"
   },
   {
    "duration": 82,
    "start_time": "2022-03-03T14:35:37.039Z"
   },
   {
    "duration": 2926,
    "start_time": "2022-03-03T14:35:37.122Z"
   },
   {
    "duration": 494,
    "start_time": "2022-03-03T14:35:40.050Z"
   },
   {
    "duration": 633,
    "start_time": "2022-03-03T14:36:15.542Z"
   },
   {
    "duration": 14,
    "start_time": "2022-03-03T14:37:00.568Z"
   },
   {
    "duration": 395,
    "start_time": "2022-03-03T14:37:53.273Z"
   },
   {
    "duration": 8,
    "start_time": "2022-03-03T14:37:53.670Z"
   },
   {
    "duration": 118,
    "start_time": "2022-03-03T14:37:53.680Z"
   },
   {
    "duration": 16,
    "start_time": "2022-03-03T14:37:53.800Z"
   },
   {
    "duration": 310,
    "start_time": "2022-03-03T14:37:53.818Z"
   },
   {
    "duration": 10,
    "start_time": "2022-03-03T14:37:54.130Z"
   },
   {
    "duration": 98,
    "start_time": "2022-03-03T14:37:54.142Z"
   },
   {
    "duration": 14,
    "start_time": "2022-03-03T14:37:54.243Z"
   },
   {
    "duration": 293,
    "start_time": "2022-03-03T14:37:54.277Z"
   },
   {
    "duration": 64,
    "start_time": "2022-03-03T14:37:54.572Z"
   },
   {
    "duration": 74,
    "start_time": "2022-03-03T14:37:54.638Z"
   },
   {
    "duration": 294,
    "start_time": "2022-03-03T14:37:54.714Z"
   },
   {
    "duration": 13,
    "start_time": "2022-03-03T14:37:55.010Z"
   },
   {
    "duration": 99,
    "start_time": "2022-03-03T14:37:55.025Z"
   },
   {
    "duration": 76,
    "start_time": "2022-03-03T14:37:55.126Z"
   },
   {
    "duration": 2898,
    "start_time": "2022-03-03T14:37:55.204Z"
   },
   {
    "duration": 15,
    "start_time": "2022-03-03T14:37:58.104Z"
   },
   {
    "duration": 13,
    "start_time": "2022-03-03T14:37:58.121Z"
   },
   {
    "duration": 47,
    "start_time": "2022-03-03T14:37:58.136Z"
   },
   {
    "duration": 39,
    "start_time": "2022-03-03T14:37:58.185Z"
   },
   {
    "duration": 57,
    "start_time": "2022-03-03T14:37:58.226Z"
   },
   {
    "duration": 40,
    "start_time": "2022-03-03T14:38:23.579Z"
   },
   {
    "duration": 263,
    "start_time": "2022-03-03T14:38:37.661Z"
   },
   {
    "duration": 14,
    "start_time": "2022-03-03T14:39:47.157Z"
   },
   {
    "duration": 399,
    "start_time": "2022-03-03T14:40:04.733Z"
   },
   {
    "duration": 9,
    "start_time": "2022-03-03T14:40:05.135Z"
   },
   {
    "duration": 118,
    "start_time": "2022-03-03T14:40:05.146Z"
   },
   {
    "duration": 22,
    "start_time": "2022-03-03T14:40:05.266Z"
   },
   {
    "duration": 290,
    "start_time": "2022-03-03T14:40:05.289Z"
   },
   {
    "duration": 10,
    "start_time": "2022-03-03T14:40:05.581Z"
   },
   {
    "duration": 92,
    "start_time": "2022-03-03T14:40:05.592Z"
   },
   {
    "duration": 14,
    "start_time": "2022-03-03T14:40:05.687Z"
   },
   {
    "duration": 318,
    "start_time": "2022-03-03T14:40:05.703Z"
   },
   {
    "duration": 72,
    "start_time": "2022-03-03T14:40:06.023Z"
   },
   {
    "duration": 59,
    "start_time": "2022-03-03T14:40:06.097Z"
   },
   {
    "duration": 311,
    "start_time": "2022-03-03T14:40:06.158Z"
   },
   {
    "duration": 16,
    "start_time": "2022-03-03T14:40:06.471Z"
   },
   {
    "duration": 95,
    "start_time": "2022-03-03T14:40:06.489Z"
   },
   {
    "duration": 66,
    "start_time": "2022-03-03T14:40:06.586Z"
   },
   {
    "duration": 2904,
    "start_time": "2022-03-03T14:40:06.654Z"
   },
   {
    "duration": 18,
    "start_time": "2022-03-03T14:40:09.560Z"
   },
   {
    "duration": 77,
    "start_time": "2022-03-03T14:40:09.579Z"
   },
   {
    "duration": 36,
    "start_time": "2022-03-03T14:40:09.657Z"
   },
   {
    "duration": 38,
    "start_time": "2022-03-03T14:40:09.695Z"
   },
   {
    "duration": 60,
    "start_time": "2022-03-03T14:40:09.735Z"
   },
   {
    "duration": 39,
    "start_time": "2022-03-03T14:40:15.497Z"
   },
   {
    "duration": 529,
    "start_time": "2022-03-03T14:40:31.474Z"
   },
   {
    "duration": 3,
    "start_time": "2022-03-03T14:41:32.057Z"
   },
   {
    "duration": 398,
    "start_time": "2022-03-03T14:41:47.247Z"
   },
   {
    "duration": 8,
    "start_time": "2022-03-03T14:41:47.647Z"
   },
   {
    "duration": 118,
    "start_time": "2022-03-03T14:41:47.657Z"
   },
   {
    "duration": 16,
    "start_time": "2022-03-03T14:41:47.777Z"
   },
   {
    "duration": 298,
    "start_time": "2022-03-03T14:41:47.795Z"
   },
   {
    "duration": 9,
    "start_time": "2022-03-03T14:41:48.095Z"
   },
   {
    "duration": 90,
    "start_time": "2022-03-03T14:41:48.105Z"
   },
   {
    "duration": 15,
    "start_time": "2022-03-03T14:41:48.197Z"
   },
   {
    "duration": 306,
    "start_time": "2022-03-03T14:41:48.215Z"
   },
   {
    "duration": 69,
    "start_time": "2022-03-03T14:41:48.523Z"
   },
   {
    "duration": 60,
    "start_time": "2022-03-03T14:41:48.594Z"
   },
   {
    "duration": 304,
    "start_time": "2022-03-03T14:41:48.656Z"
   },
   {
    "duration": 16,
    "start_time": "2022-03-03T14:41:48.962Z"
   },
   {
    "duration": 80,
    "start_time": "2022-03-03T14:41:48.980Z"
   },
   {
    "duration": 68,
    "start_time": "2022-03-03T14:41:49.077Z"
   },
   {
    "duration": 2928,
    "start_time": "2022-03-03T14:41:49.147Z"
   },
   {
    "duration": 2,
    "start_time": "2022-03-03T14:41:52.077Z"
   },
   {
    "duration": 18,
    "start_time": "2022-03-03T14:41:52.081Z"
   },
   {
    "duration": 21,
    "start_time": "2022-03-03T14:41:52.101Z"
   },
   {
    "duration": 58,
    "start_time": "2022-03-03T14:41:52.124Z"
   },
   {
    "duration": 38,
    "start_time": "2022-03-03T14:41:52.184Z"
   },
   {
    "duration": 26,
    "start_time": "2022-03-03T14:41:57.272Z"
   },
   {
    "duration": 43,
    "start_time": "2022-03-03T14:42:18.753Z"
   },
   {
    "duration": 16,
    "start_time": "2022-03-03T14:42:21.977Z"
   },
   {
    "duration": 29,
    "start_time": "2022-03-03T14:42:34.978Z"
   },
   {
    "duration": 292,
    "start_time": "2022-03-03T14:42:43.300Z"
   },
   {
    "duration": 6,
    "start_time": "2022-03-03T14:42:56.116Z"
   },
   {
    "duration": 12,
    "start_time": "2022-03-03T14:43:01.920Z"
   },
   {
    "duration": 433,
    "start_time": "2022-03-03T14:43:19.913Z"
   },
   {
    "duration": 8,
    "start_time": "2022-03-03T14:43:20.348Z"
   },
   {
    "duration": 130,
    "start_time": "2022-03-03T14:43:20.359Z"
   },
   {
    "duration": 19,
    "start_time": "2022-03-03T14:43:20.492Z"
   },
   {
    "duration": 326,
    "start_time": "2022-03-03T14:43:20.513Z"
   },
   {
    "duration": 10,
    "start_time": "2022-03-03T14:43:20.841Z"
   },
   {
    "duration": 102,
    "start_time": "2022-03-03T14:43:20.853Z"
   },
   {
    "duration": 26,
    "start_time": "2022-03-03T14:43:20.957Z"
   },
   {
    "duration": 335,
    "start_time": "2022-03-03T14:43:20.988Z"
   },
   {
    "duration": 76,
    "start_time": "2022-03-03T14:43:21.325Z"
   },
   {
    "duration": 58,
    "start_time": "2022-03-03T14:43:21.403Z"
   },
   {
    "duration": 334,
    "start_time": "2022-03-03T14:43:21.463Z"
   },
   {
    "duration": 11,
    "start_time": "2022-03-03T14:43:21.799Z"
   },
   {
    "duration": 101,
    "start_time": "2022-03-03T14:43:21.812Z"
   },
   {
    "duration": 80,
    "start_time": "2022-03-03T14:43:21.914Z"
   },
   {
    "duration": 3118,
    "start_time": "2022-03-03T14:43:21.996Z"
   },
   {
    "duration": 2,
    "start_time": "2022-03-03T14:43:25.116Z"
   },
   {
    "duration": 16,
    "start_time": "2022-03-03T14:43:25.120Z"
   },
   {
    "duration": 41,
    "start_time": "2022-03-03T14:43:25.138Z"
   },
   {
    "duration": 42,
    "start_time": "2022-03-03T14:43:25.182Z"
   },
   {
    "duration": 75,
    "start_time": "2022-03-03T14:43:25.226Z"
   },
   {
    "duration": 24,
    "start_time": "2022-03-03T14:43:25.304Z"
   },
   {
    "duration": 50,
    "start_time": "2022-03-03T14:43:25.330Z"
   },
   {
    "duration": 21,
    "start_time": "2022-03-03T14:43:25.383Z"
   },
   {
    "duration": 26,
    "start_time": "2022-03-03T14:43:25.405Z"
   },
   {
    "duration": 308,
    "start_time": "2022-03-03T14:43:25.433Z"
   },
   {
    "duration": 6,
    "start_time": "2022-03-03T14:43:25.744Z"
   },
   {
    "duration": 26,
    "start_time": "2022-03-03T14:43:25.752Z"
   },
   {
    "duration": 49,
    "start_time": "2022-03-03T14:43:25.781Z"
   },
   {
    "duration": 20,
    "start_time": "2022-03-03T14:43:25.832Z"
   },
   {
    "duration": 41,
    "start_time": "2022-03-03T14:43:25.853Z"
   },
   {
    "duration": 32,
    "start_time": "2022-03-03T14:43:25.895Z"
   },
   {
    "duration": 267,
    "start_time": "2022-03-03T14:43:36.068Z"
   },
   {
    "duration": 246,
    "start_time": "2022-03-03T14:43:40.428Z"
   },
   {
    "duration": 343,
    "start_time": "2022-03-03T14:43:44.292Z"
   },
   {
    "duration": 34,
    "start_time": "2022-03-03T14:44:03.002Z"
   },
   {
    "duration": 8,
    "start_time": "2022-03-03T14:44:06.571Z"
   },
   {
    "duration": 372,
    "start_time": "2022-03-03T14:44:15.817Z"
   },
   {
    "duration": 14,
    "start_time": "2022-03-03T14:44:37.068Z"
   },
   {
    "duration": 8,
    "start_time": "2022-03-03T14:44:46.203Z"
   },
   {
    "duration": 92,
    "start_time": "2022-03-03T14:44:57.974Z"
   },
   {
    "duration": 98,
    "start_time": "2022-03-03T14:45:04.699Z"
   },
   {
    "duration": 87,
    "start_time": "2022-03-03T14:45:09.589Z"
   },
   {
    "duration": 224,
    "start_time": "2022-03-03T14:45:15.371Z"
   },
   {
    "duration": 186,
    "start_time": "2022-03-03T14:45:19.268Z"
   },
   {
    "duration": 1377,
    "start_time": "2022-03-03T14:45:22.844Z"
   },
   {
    "duration": 1229,
    "start_time": "2022-03-03T14:45:27.700Z"
   },
   {
    "duration": 325,
    "start_time": "2022-03-03T14:57:21.344Z"
   },
   {
    "duration": 258,
    "start_time": "2022-03-03T14:57:39.455Z"
   },
   {
    "duration": 419,
    "start_time": "2022-03-03T14:58:29.363Z"
   },
   {
    "duration": 8,
    "start_time": "2022-03-03T14:58:29.784Z"
   },
   {
    "duration": 128,
    "start_time": "2022-03-03T14:58:29.794Z"
   },
   {
    "duration": 15,
    "start_time": "2022-03-03T14:58:29.924Z"
   },
   {
    "duration": 304,
    "start_time": "2022-03-03T14:58:29.941Z"
   },
   {
    "duration": 9,
    "start_time": "2022-03-03T14:58:30.246Z"
   },
   {
    "duration": 94,
    "start_time": "2022-03-03T14:58:30.257Z"
   },
   {
    "duration": 25,
    "start_time": "2022-03-03T14:58:30.353Z"
   },
   {
    "duration": 299,
    "start_time": "2022-03-03T14:58:30.380Z"
   },
   {
    "duration": 65,
    "start_time": "2022-03-03T14:58:30.681Z"
   },
   {
    "duration": 65,
    "start_time": "2022-03-03T14:59:06.267Z"
   },
   {
    "duration": 258,
    "start_time": "2022-03-03T14:59:22.059Z"
   },
   {
    "duration": 274,
    "start_time": "2022-03-03T14:59:38.683Z"
   },
   {
    "duration": 406,
    "start_time": "2022-03-03T14:59:42.448Z"
   },
   {
    "duration": 8,
    "start_time": "2022-03-03T14:59:42.856Z"
   },
   {
    "duration": 121,
    "start_time": "2022-03-03T14:59:42.866Z"
   },
   {
    "duration": 15,
    "start_time": "2022-03-03T14:59:42.989Z"
   },
   {
    "duration": 302,
    "start_time": "2022-03-03T14:59:43.006Z"
   },
   {
    "duration": 9,
    "start_time": "2022-03-03T14:59:43.310Z"
   },
   {
    "duration": 92,
    "start_time": "2022-03-03T14:59:43.321Z"
   },
   {
    "duration": 14,
    "start_time": "2022-03-03T14:59:43.415Z"
   },
   {
    "duration": 302,
    "start_time": "2022-03-03T14:59:43.431Z"
   },
   {
    "duration": 76,
    "start_time": "2022-03-03T14:59:43.735Z"
   },
   {
    "duration": 60,
    "start_time": "2022-03-03T14:59:47.185Z"
   },
   {
    "duration": 280,
    "start_time": "2022-03-03T15:00:21.680Z"
   },
   {
    "duration": 414,
    "start_time": "2022-03-03T15:00:30.441Z"
   },
   {
    "duration": 10,
    "start_time": "2022-03-03T15:00:30.857Z"
   },
   {
    "duration": 141,
    "start_time": "2022-03-03T15:00:30.870Z"
   },
   {
    "duration": 18,
    "start_time": "2022-03-03T15:00:31.013Z"
   },
   {
    "duration": 305,
    "start_time": "2022-03-03T15:00:31.033Z"
   },
   {
    "duration": 9,
    "start_time": "2022-03-03T15:00:31.340Z"
   },
   {
    "duration": 92,
    "start_time": "2022-03-03T15:00:31.350Z"
   },
   {
    "duration": 13,
    "start_time": "2022-03-03T15:00:31.444Z"
   },
   {
    "duration": 309,
    "start_time": "2022-03-03T15:00:31.460Z"
   },
   {
    "duration": 65,
    "start_time": "2022-03-03T15:00:31.771Z"
   },
   {
    "duration": 74,
    "start_time": "2022-03-03T15:00:34.251Z"
   },
   {
    "duration": 417,
    "start_time": "2022-03-03T15:00:55.759Z"
   },
   {
    "duration": 8,
    "start_time": "2022-03-03T15:00:56.178Z"
   },
   {
    "duration": 122,
    "start_time": "2022-03-03T15:00:56.188Z"
   },
   {
    "duration": 17,
    "start_time": "2022-03-03T15:00:56.312Z"
   },
   {
    "duration": 301,
    "start_time": "2022-03-03T15:00:56.330Z"
   },
   {
    "duration": 9,
    "start_time": "2022-03-03T15:00:56.632Z"
   },
   {
    "duration": 91,
    "start_time": "2022-03-03T15:00:56.643Z"
   },
   {
    "duration": 14,
    "start_time": "2022-03-03T15:00:56.736Z"
   },
   {
    "duration": 319,
    "start_time": "2022-03-03T15:00:56.752Z"
   },
   {
    "duration": 60,
    "start_time": "2022-03-03T15:00:57.077Z"
   },
   {
    "duration": 84,
    "start_time": "2022-03-03T15:00:57.139Z"
   },
   {
    "duration": 1120,
    "start_time": "2022-03-03T15:03:45.197Z"
   },
   {
    "duration": 12,
    "start_time": "2022-03-03T15:03:46.318Z"
   },
   {
    "duration": 133,
    "start_time": "2022-03-03T15:03:46.332Z"
   },
   {
    "duration": 22,
    "start_time": "2022-03-03T15:03:46.467Z"
   },
   {
    "duration": 290,
    "start_time": "2022-03-03T15:03:46.490Z"
   },
   {
    "duration": 9,
    "start_time": "2022-03-03T15:03:46.781Z"
   },
   {
    "duration": 110,
    "start_time": "2022-03-03T15:03:46.792Z"
   },
   {
    "duration": 14,
    "start_time": "2022-03-03T15:03:46.904Z"
   },
   {
    "duration": 296,
    "start_time": "2022-03-03T15:03:46.920Z"
   },
   {
    "duration": 78,
    "start_time": "2022-03-03T15:03:47.217Z"
   },
   {
    "duration": 56,
    "start_time": "2022-03-03T15:03:54.048Z"
   },
   {
    "duration": 414,
    "start_time": "2022-03-03T15:05:31.978Z"
   },
   {
    "duration": 9,
    "start_time": "2022-03-03T15:05:32.393Z"
   },
   {
    "duration": 122,
    "start_time": "2022-03-03T15:05:32.404Z"
   },
   {
    "duration": 16,
    "start_time": "2022-03-03T15:05:32.528Z"
   },
   {
    "duration": 296,
    "start_time": "2022-03-03T15:05:32.546Z"
   },
   {
    "duration": 9,
    "start_time": "2022-03-03T15:05:32.844Z"
   },
   {
    "duration": 97,
    "start_time": "2022-03-03T15:05:32.855Z"
   },
   {
    "duration": 24,
    "start_time": "2022-03-03T15:05:32.954Z"
   },
   {
    "duration": 341,
    "start_time": "2022-03-03T15:05:32.980Z"
   },
   {
    "duration": 68,
    "start_time": "2022-03-03T15:05:33.323Z"
   },
   {
    "duration": 59,
    "start_time": "2022-03-03T15:05:33.393Z"
   },
   {
    "duration": 1093,
    "start_time": "2022-03-03T15:08:53.597Z"
   },
   {
    "duration": 12,
    "start_time": "2022-03-03T15:08:54.692Z"
   },
   {
    "duration": 142,
    "start_time": "2022-03-03T15:08:54.706Z"
   },
   {
    "duration": 18,
    "start_time": "2022-03-03T15:08:54.850Z"
   },
   {
    "duration": 303,
    "start_time": "2022-03-03T15:08:54.877Z"
   },
   {
    "duration": 11,
    "start_time": "2022-03-03T15:08:55.182Z"
   },
   {
    "duration": 117,
    "start_time": "2022-03-03T15:08:55.195Z"
   },
   {
    "duration": 17,
    "start_time": "2022-03-03T15:08:55.314Z"
   },
   {
    "duration": 322,
    "start_time": "2022-03-03T15:08:55.334Z"
   },
   {
    "duration": 80,
    "start_time": "2022-03-03T15:08:55.659Z"
   },
   {
    "duration": 73,
    "start_time": "2022-03-03T15:08:55.741Z"
   },
   {
    "duration": 316,
    "start_time": "2022-03-03T15:08:55.816Z"
   },
   {
    "duration": 13,
    "start_time": "2022-03-03T15:08:56.133Z"
   },
   {
    "duration": 415,
    "start_time": "2022-03-03T15:09:21.487Z"
   },
   {
    "duration": 9,
    "start_time": "2022-03-03T15:09:21.903Z"
   },
   {
    "duration": 127,
    "start_time": "2022-03-03T15:09:21.914Z"
   },
   {
    "duration": 16,
    "start_time": "2022-03-03T15:09:22.043Z"
   },
   {
    "duration": 336,
    "start_time": "2022-03-03T15:09:22.060Z"
   },
   {
    "duration": 8,
    "start_time": "2022-03-03T15:09:22.398Z"
   },
   {
    "duration": 98,
    "start_time": "2022-03-03T15:09:22.408Z"
   },
   {
    "duration": 16,
    "start_time": "2022-03-03T15:09:22.509Z"
   },
   {
    "duration": 309,
    "start_time": "2022-03-03T15:09:22.527Z"
   },
   {
    "duration": 75,
    "start_time": "2022-03-03T15:09:22.838Z"
   },
   {
    "duration": 68,
    "start_time": "2022-03-03T15:09:22.914Z"
   },
   {
    "duration": 300,
    "start_time": "2022-03-03T15:09:22.984Z"
   },
   {
    "duration": 11,
    "start_time": "2022-03-03T15:09:23.286Z"
   },
   {
    "duration": 102,
    "start_time": "2022-03-03T15:09:23.299Z"
   },
   {
    "duration": 82,
    "start_time": "2022-03-03T15:09:23.402Z"
   },
   {
    "duration": 2943,
    "start_time": "2022-03-03T15:09:23.486Z"
   },
   {
    "duration": 81,
    "start_time": "2022-03-03T15:09:26.431Z"
   },
   {
    "duration": 14,
    "start_time": "2022-03-03T15:09:57.562Z"
   },
   {
    "duration": 22,
    "start_time": "2022-03-03T15:10:01.601Z"
   },
   {
    "duration": 43,
    "start_time": "2022-03-03T15:10:11.018Z"
   },
   {
    "duration": 42,
    "start_time": "2022-03-03T15:10:14.238Z"
   },
   {
    "duration": 49,
    "start_time": "2022-03-03T15:10:18.133Z"
   },
   {
    "duration": 37,
    "start_time": "2022-03-03T15:10:20.871Z"
   },
   {
    "duration": 9,
    "start_time": "2022-03-03T15:10:25.739Z"
   },
   {
    "duration": 5,
    "start_time": "2022-03-03T15:10:59.731Z"
   },
   {
    "duration": 26,
    "start_time": "2022-03-03T15:11:53.462Z"
   },
   {
    "duration": 264,
    "start_time": "2022-03-03T15:11:59.614Z"
   },
   {
    "duration": 6,
    "start_time": "2022-03-03T15:12:38.998Z"
   },
   {
    "duration": 11,
    "start_time": "2022-03-03T15:12:43.378Z"
   },
   {
    "duration": 42,
    "start_time": "2022-03-03T15:12:47.462Z"
   },
   {
    "duration": 21,
    "start_time": "2022-03-03T15:12:51.839Z"
   },
   {
    "duration": 20,
    "start_time": "2022-03-03T15:12:55.695Z"
   },
   {
    "duration": 34,
    "start_time": "2022-03-03T15:13:00.350Z"
   },
   {
    "duration": 253,
    "start_time": "2022-03-03T15:13:03.815Z"
   },
   {
    "duration": 238,
    "start_time": "2022-03-03T15:13:07.278Z"
   },
   {
    "duration": 231,
    "start_time": "2022-03-03T15:13:10.550Z"
   },
   {
    "duration": 28,
    "start_time": "2022-03-03T15:13:18.278Z"
   },
   {
    "duration": 7,
    "start_time": "2022-03-03T15:13:22.534Z"
   },
   {
    "duration": 391,
    "start_time": "2022-03-03T15:13:27.107Z"
   },
   {
    "duration": 11,
    "start_time": "2022-03-03T15:13:45.503Z"
   },
   {
    "duration": 7,
    "start_time": "2022-03-03T15:14:06.977Z"
   },
   {
    "duration": 92,
    "start_time": "2022-03-03T15:14:10.482Z"
   },
   {
    "duration": 89,
    "start_time": "2022-03-03T15:14:14.222Z"
   },
   {
    "duration": 85,
    "start_time": "2022-03-03T15:14:17.221Z"
   },
   {
    "duration": 180,
    "start_time": "2022-03-03T15:14:22.354Z"
   },
   {
    "duration": 177,
    "start_time": "2022-03-03T15:14:25.822Z"
   },
   {
    "duration": 1251,
    "start_time": "2022-03-03T15:14:28.973Z"
   },
   {
    "duration": 1058,
    "start_time": "2022-03-03T15:14:34.190Z"
   },
   {
    "duration": 106,
    "start_time": "2022-03-04T08:09:03.964Z"
   }
  ],
  "kernelspec": {
   "display_name": "Python 3 (ipykernel)",
   "language": "python",
   "name": "python3"
  },
  "language_info": {
   "codemirror_mode": {
    "name": "ipython",
    "version": 3
   },
   "file_extension": ".py",
   "mimetype": "text/x-python",
   "name": "python",
   "nbconvert_exporter": "python",
   "pygments_lexer": "ipython3",
   "version": "3.9.5"
  },
  "toc": {
   "base_numbering": 1,
   "nav_menu": {},
   "number_sections": true,
   "sideBar": true,
   "skip_h1_title": true,
   "title_cell": "Table of Contents",
   "title_sidebar": "Contents",
   "toc_cell": false,
   "toc_position": {},
   "toc_section_display": true,
   "toc_window_display": false
  }
 },
 "nbformat": 4,
 "nbformat_minor": 2
}
