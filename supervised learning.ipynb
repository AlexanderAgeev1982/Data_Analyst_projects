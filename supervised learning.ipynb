{
 "cells": [
  {
   "cell_type": "markdown",
   "metadata": {},
   "source": [
    "Привет, Александр!) Меня зовут Дуолан 👋. Сегодня я буду проверять твой проект. Давай вместе доведем его до идеала😉\n",
    "<br> Дальнейшее общение будет происходить на «ты», если это не вызывает никаких проблем.\n",
    "<br> Желательно реагировать на каждый мой комментарий («исправил», «не понятно как исправить ошибку», ...)\n",
    "<br> Пожалуйста, не удаляй мои комментарии, они будут необходимы для повторного ревью.\n",
    "\n",
    "Комментарии будут в <font color='green'>зеленой</font>, <font color='blue'>синей</font> или <font color='red'>красной</font> рамках:\n",
    "\n",
    "<div class=\"alert alert-block alert-success\">\n",
    "<b>Успех:</b> Если все сделано отлично\n",
    "</div>\n",
    "\n",
    "<div class=\"alert alert-block alert-warning\">\n",
    "<b>Совет:</b> Если можно немного улучшить\n",
    "</div>\n",
    "\n",
    "<div class=\"alert alert-block alert-danger\">\n",
    "<b>Замечание:</b> Если требуются исправления\n",
    "</div>\n",
    "\n",
    "Работа не может быть принята с красными комментариями.\n",
    "\n",
    "-------------------\n",
    "\n",
    "Будет очень хорошо, если ты будешь помечать свои действия следующим образом:\n",
    "<div class=\"alert alert-block alert-info\">\n",
    "<b>Комментарий студента:</b> ...\n",
    "</div>\n",
    "\n",
    "<div class=\"alert alert-block alert-info\">\n",
    "<b>Изменения:</b> Были внесены следующие изменения ...\n",
    "</div>"
   ]
  },
  {
   "cell_type": "markdown",
   "metadata": {},
   "source": [
    "# <font color='orange'>Общее впечатление</font>\n",
    "* Этот проект выполнен очень хорошо\n",
    "* Видно, что приложено много усилий\n",
    "* Молодец, что структурируешь ноутбук, приятно проверять такие работы\n",
    "* У тебя чистый и лаконичный код\n",
    "* Мне было интересно читать твои промежуточные выводы\n",
    "* Твой уровень подачи материала находится на высоком уровне\n",
    "* Интересная статья про метрику AUC-ROC: <a href=\"https://dyakonov.org/2017/07/28/auc-roc-площадь-под-кривой-ошибок/\">ссылка</a>\n",
    "* Исправь, пожалуйста, мои замечания. Затем отправляй на повторную проверку\n",
    "* Также я оставил несколько советов. Исправь их если останется время\n",
    "* Жду новую версию проекта 👋"
   ]
  },
  {
   "cell_type": "markdown",
   "metadata": {},
   "source": [
    "# <font color='orange'>Общее впечатление 2</font>\n",
    "* Спасибо, что быстрое внесение правок\n",
    "* Теперь проект выглядит лучше )\n",
    "* Критических замечаний нет\n",
    "* Молодец, отличная работа!\n",
    "* Надеюсь, ревью было полезным\n",
    "* Удачи в дальнейшем обучении 👋"
   ]
  },
  {
   "cell_type": "markdown",
   "metadata": {
    "toc": true
   },
   "source": [
    "<h1>Содержание<span class=\"tocSkip\"></span></h1>\n",
    "<div class=\"toc\"><ul class=\"toc-item\"><li><span><a href=\"#Подготовка-данных\" data-toc-modified-id=\"Подготовка-данных-1\"><span class=\"toc-item-num\">1&nbsp;&nbsp;</span>Подготовка данных</a></span></li><li><span><a href=\"#Исследование-задачи\" data-toc-modified-id=\"Исследование-задачи-2\"><span class=\"toc-item-num\">2&nbsp;&nbsp;</span>Исследование задачи</a></span></li><li><span><a href=\"#Борьба-с-дисбалансом\" data-toc-modified-id=\"Борьба-с-дисбалансом-3\"><span class=\"toc-item-num\">3&nbsp;&nbsp;</span>Борьба с дисбалансом</a></span></li><li><span><a href=\"#Тестирование-модели\" data-toc-modified-id=\"Тестирование-модели-4\"><span class=\"toc-item-num\">4&nbsp;&nbsp;</span>Тестирование модели</a></span></li><li><span><a href=\"#произведена-подготовка-данных\" data-toc-modified-id=\"произведена-подготовка-данных-5\"><span class=\"toc-item-num\">5&nbsp;&nbsp;</span>произведена подготовка данных</a></span></li><li><span><a href=\"#Проанализировали-модели-без-учёта-дисбаланса-классов.\" data-toc-modified-id=\"Проанализировали-модели-без-учёта-дисбаланса-классов.-6\"><span class=\"toc-item-num\">6&nbsp;&nbsp;</span>Проанализировали модели без учёта дисбаланса классов.</a></span></li><li><span><a href=\"#Проанализировали-дисбаланс-классов\" data-toc-modified-id=\"Проанализировали-дисбаланс-классов-7\"><span class=\"toc-item-num\">7&nbsp;&nbsp;</span>Проанализировали дисбаланс классов</a></span></li><li><span><a href=\"#протестировали-модель-Случайный-лес-на-тестовой-выборке\" data-toc-modified-id=\"протестировали-модель-Случайный-лес-на-тестовой-выборке-8\"><span class=\"toc-item-num\">8&nbsp;&nbsp;</span>протестировали модель Случайный лес на тестовой выборке</a></span></li><li><span><a href=\"#итог:-На-тестовой-выборке-достигнуто-необходимое-значение-метрики-f1,-а-метрика-roc_auc-максимально-приблизилась-к-единице\" data-toc-modified-id=\"итог:-На-тестовой-выборке-достигнуто-необходимое-значение-метрики-f1,-а-метрика-roc_auc-максимально-приблизилась-к-единице-9\"><span class=\"toc-item-num\">9&nbsp;&nbsp;</span>итог: На тестовой выборке достигнуто необходимое значение метрики f1, а метрика roc_auc максимально приблизилась к единице</a></span></li></ul></div>"
   ]
  },
  {
   "cell_type": "markdown",
   "metadata": {},
   "source": [
    "# Отток клиентов"
   ]
  },
  {
   "cell_type": "markdown",
   "metadata": {},
   "source": [
    "Из «Бета-Банка» стали уходить клиенты. Каждый месяц. Немного, но заметно. Банковские маркетологи посчитали: сохранять текущих клиентов дешевле, чем привлекать новых.\n",
    "\n",
    "Нужно спрогнозировать, уйдёт клиент из банка в ближайшее время или нет. Вам предоставлены исторические данные о поведении клиентов и расторжении договоров с банком. \n",
    "\n",
    "Постройте модель с предельно большим значением *F1*-меры. Чтобы сдать проект успешно, нужно довести метрику до 0.59. Проверьте *F1*-меру на тестовой выборке самостоятельно.\n",
    "\n",
    "Дополнительно измеряйте *AUC-ROC*, сравнивайте её значение с *F1*-мерой.\n",
    "\n",
    "Источник данных: [https://www.kaggle.com/barelydedicated/bank-customer-churn-modeling](https://www.kaggle.com/barelydedicated/bank-customer-churn-modeling)"
   ]
  },
  {
   "cell_type": "markdown",
   "metadata": {},
   "source": [
    "## Подготовка данных"
   ]
  },
  {
   "cell_type": "markdown",
   "metadata": {},
   "source": [
    "1.1 импортируем все необходимы библиотеки"
   ]
  },
  {
   "cell_type": "code",
   "execution_count": 1,
   "metadata": {},
   "outputs": [],
   "source": [
    "import numpy as np\n",
    "import pandas as pd\n",
    "from sklearn.preprocessing import StandardScaler\n",
    "from sklearn.tree import DecisionTreeClassifier\n",
    "from sklearn.linear_model import LinearRegression\n",
    "from sklearn.linear_model import LogisticRegression\n",
    "from sklearn.ensemble import RandomForestClassifier\n",
    "from sklearn.model_selection import StratifiedKFold \n",
    "from sklearn.model_selection import train_test_split\n",
    "from sklearn.metrics import confusion_matrix\n",
    "from sklearn.utils import shuffle\n",
    "from sklearn.metrics import roc_auc_score\n",
    "from sklearn.metrics import f1_score\n",
    "from sklearn.metrics import r2_score\n",
    "from sklearn.metrics import accuracy_score\n",
    "from sklearn.metrics import recall_score\n",
    "from sklearn.metrics import precision_score\n",
    "from sklearn.metrics import precision_recall_curve\n",
    "import matplotlib.pyplot as plt\n"
   ]
  },
  {
   "cell_type": "markdown",
   "metadata": {},
   "source": [
    "<div class=\"alert alert-block alert-success\">\n",
    "<b>Успех:</b> Правильное решение — выделять отдельную ячейку в начале проекта под подключение библиотек и настройки. Tак код легче поддерживать 👌\n",
    "</div>"
   ]
  },
  {
   "cell_type": "markdown",
   "metadata": {},
   "source": [
    "1.2 с помощью метода info определим тип данныхи, количество строк, столбцов, возможные пропуски"
   ]
  },
  {
   "cell_type": "code",
   "execution_count": 2,
   "metadata": {
    "scrolled": false
   },
   "outputs": [
    {
     "name": "stdout",
     "output_type": "stream",
     "text": [
      "<class 'pandas.core.frame.DataFrame'>\n",
      "RangeIndex: 10000 entries, 0 to 9999\n",
      "Data columns (total 14 columns):\n",
      " #   Column           Non-Null Count  Dtype  \n",
      "---  ------           --------------  -----  \n",
      " 0   RowNumber        10000 non-null  int64  \n",
      " 1   CustomerId       10000 non-null  int64  \n",
      " 2   Surname          10000 non-null  object \n",
      " 3   CreditScore      10000 non-null  int64  \n",
      " 4   Geography        10000 non-null  object \n",
      " 5   Gender           10000 non-null  object \n",
      " 6   Age              10000 non-null  int64  \n",
      " 7   Tenure           9091 non-null   float64\n",
      " 8   Balance          10000 non-null  float64\n",
      " 9   NumOfProducts    10000 non-null  int64  \n",
      " 10  HasCrCard        10000 non-null  int64  \n",
      " 11  IsActiveMember   10000 non-null  int64  \n",
      " 12  EstimatedSalary  10000 non-null  float64\n",
      " 13  Exited           10000 non-null  int64  \n",
      "dtypes: float64(3), int64(8), object(3)\n",
      "memory usage: 1.1+ MB\n"
     ]
    }
   ],
   "source": [
    "data = pd.read_csv('/datasets/Churn.csv')\n",
    "data.info()"
   ]
  },
  {
   "cell_type": "markdown",
   "metadata": {},
   "source": [
    "1.3 используем метод describe для и изучим минимальные, макисмальные, медианные значения и стандартное отклонение"
   ]
  },
  {
   "cell_type": "code",
   "execution_count": 3,
   "metadata": {},
   "outputs": [
    {
     "data": {
      "text/html": [
       "<div>\n",
       "<style scoped>\n",
       "    .dataframe tbody tr th:only-of-type {\n",
       "        vertical-align: middle;\n",
       "    }\n",
       "\n",
       "    .dataframe tbody tr th {\n",
       "        vertical-align: top;\n",
       "    }\n",
       "\n",
       "    .dataframe thead th {\n",
       "        text-align: right;\n",
       "    }\n",
       "</style>\n",
       "<table border=\"1\" class=\"dataframe\">\n",
       "  <thead>\n",
       "    <tr style=\"text-align: right;\">\n",
       "      <th></th>\n",
       "      <th>RowNumber</th>\n",
       "      <th>CustomerId</th>\n",
       "      <th>CreditScore</th>\n",
       "      <th>Age</th>\n",
       "      <th>Tenure</th>\n",
       "      <th>Balance</th>\n",
       "      <th>NumOfProducts</th>\n",
       "      <th>HasCrCard</th>\n",
       "      <th>IsActiveMember</th>\n",
       "      <th>EstimatedSalary</th>\n",
       "      <th>Exited</th>\n",
       "    </tr>\n",
       "  </thead>\n",
       "  <tbody>\n",
       "    <tr>\n",
       "      <th>count</th>\n",
       "      <td>10000.00000</td>\n",
       "      <td>1.000000e+04</td>\n",
       "      <td>10000.000000</td>\n",
       "      <td>10000.000000</td>\n",
       "      <td>9091.000000</td>\n",
       "      <td>10000.000000</td>\n",
       "      <td>10000.000000</td>\n",
       "      <td>10000.00000</td>\n",
       "      <td>10000.000000</td>\n",
       "      <td>10000.000000</td>\n",
       "      <td>10000.000000</td>\n",
       "    </tr>\n",
       "    <tr>\n",
       "      <th>mean</th>\n",
       "      <td>5000.50000</td>\n",
       "      <td>1.569094e+07</td>\n",
       "      <td>650.528800</td>\n",
       "      <td>38.921800</td>\n",
       "      <td>4.997690</td>\n",
       "      <td>76485.889288</td>\n",
       "      <td>1.530200</td>\n",
       "      <td>0.70550</td>\n",
       "      <td>0.515100</td>\n",
       "      <td>100090.239881</td>\n",
       "      <td>0.203700</td>\n",
       "    </tr>\n",
       "    <tr>\n",
       "      <th>std</th>\n",
       "      <td>2886.89568</td>\n",
       "      <td>7.193619e+04</td>\n",
       "      <td>96.653299</td>\n",
       "      <td>10.487806</td>\n",
       "      <td>2.894723</td>\n",
       "      <td>62397.405202</td>\n",
       "      <td>0.581654</td>\n",
       "      <td>0.45584</td>\n",
       "      <td>0.499797</td>\n",
       "      <td>57510.492818</td>\n",
       "      <td>0.402769</td>\n",
       "    </tr>\n",
       "    <tr>\n",
       "      <th>min</th>\n",
       "      <td>1.00000</td>\n",
       "      <td>1.556570e+07</td>\n",
       "      <td>350.000000</td>\n",
       "      <td>18.000000</td>\n",
       "      <td>0.000000</td>\n",
       "      <td>0.000000</td>\n",
       "      <td>1.000000</td>\n",
       "      <td>0.00000</td>\n",
       "      <td>0.000000</td>\n",
       "      <td>11.580000</td>\n",
       "      <td>0.000000</td>\n",
       "    </tr>\n",
       "    <tr>\n",
       "      <th>25%</th>\n",
       "      <td>2500.75000</td>\n",
       "      <td>1.562853e+07</td>\n",
       "      <td>584.000000</td>\n",
       "      <td>32.000000</td>\n",
       "      <td>2.000000</td>\n",
       "      <td>0.000000</td>\n",
       "      <td>1.000000</td>\n",
       "      <td>0.00000</td>\n",
       "      <td>0.000000</td>\n",
       "      <td>51002.110000</td>\n",
       "      <td>0.000000</td>\n",
       "    </tr>\n",
       "    <tr>\n",
       "      <th>50%</th>\n",
       "      <td>5000.50000</td>\n",
       "      <td>1.569074e+07</td>\n",
       "      <td>652.000000</td>\n",
       "      <td>37.000000</td>\n",
       "      <td>5.000000</td>\n",
       "      <td>97198.540000</td>\n",
       "      <td>1.000000</td>\n",
       "      <td>1.00000</td>\n",
       "      <td>1.000000</td>\n",
       "      <td>100193.915000</td>\n",
       "      <td>0.000000</td>\n",
       "    </tr>\n",
       "    <tr>\n",
       "      <th>75%</th>\n",
       "      <td>7500.25000</td>\n",
       "      <td>1.575323e+07</td>\n",
       "      <td>718.000000</td>\n",
       "      <td>44.000000</td>\n",
       "      <td>7.000000</td>\n",
       "      <td>127644.240000</td>\n",
       "      <td>2.000000</td>\n",
       "      <td>1.00000</td>\n",
       "      <td>1.000000</td>\n",
       "      <td>149388.247500</td>\n",
       "      <td>0.000000</td>\n",
       "    </tr>\n",
       "    <tr>\n",
       "      <th>max</th>\n",
       "      <td>10000.00000</td>\n",
       "      <td>1.581569e+07</td>\n",
       "      <td>850.000000</td>\n",
       "      <td>92.000000</td>\n",
       "      <td>10.000000</td>\n",
       "      <td>250898.090000</td>\n",
       "      <td>4.000000</td>\n",
       "      <td>1.00000</td>\n",
       "      <td>1.000000</td>\n",
       "      <td>199992.480000</td>\n",
       "      <td>1.000000</td>\n",
       "    </tr>\n",
       "  </tbody>\n",
       "</table>\n",
       "</div>"
      ],
      "text/plain": [
       "         RowNumber    CustomerId   CreditScore           Age       Tenure  \\\n",
       "count  10000.00000  1.000000e+04  10000.000000  10000.000000  9091.000000   \n",
       "mean    5000.50000  1.569094e+07    650.528800     38.921800     4.997690   \n",
       "std     2886.89568  7.193619e+04     96.653299     10.487806     2.894723   \n",
       "min        1.00000  1.556570e+07    350.000000     18.000000     0.000000   \n",
       "25%     2500.75000  1.562853e+07    584.000000     32.000000     2.000000   \n",
       "50%     5000.50000  1.569074e+07    652.000000     37.000000     5.000000   \n",
       "75%     7500.25000  1.575323e+07    718.000000     44.000000     7.000000   \n",
       "max    10000.00000  1.581569e+07    850.000000     92.000000    10.000000   \n",
       "\n",
       "             Balance  NumOfProducts    HasCrCard  IsActiveMember  \\\n",
       "count   10000.000000   10000.000000  10000.00000    10000.000000   \n",
       "mean    76485.889288       1.530200      0.70550        0.515100   \n",
       "std     62397.405202       0.581654      0.45584        0.499797   \n",
       "min         0.000000       1.000000      0.00000        0.000000   \n",
       "25%         0.000000       1.000000      0.00000        0.000000   \n",
       "50%     97198.540000       1.000000      1.00000        1.000000   \n",
       "75%    127644.240000       2.000000      1.00000        1.000000   \n",
       "max    250898.090000       4.000000      1.00000        1.000000   \n",
       "\n",
       "       EstimatedSalary        Exited  \n",
       "count     10000.000000  10000.000000  \n",
       "mean     100090.239881      0.203700  \n",
       "std       57510.492818      0.402769  \n",
       "min          11.580000      0.000000  \n",
       "25%       51002.110000      0.000000  \n",
       "50%      100193.915000      0.000000  \n",
       "75%      149388.247500      0.000000  \n",
       "max      199992.480000      1.000000  "
      ]
     },
     "execution_count": 3,
     "metadata": {},
     "output_type": "execute_result"
    }
   ],
   "source": [
    "data.describe()"
   ]
  },
  {
   "cell_type": "markdown",
   "metadata": {},
   "source": [
    "# вывод:\n",
    " - столбец RowNumber не представляет никакой ценности. Можно от него избавиться\n",
    " - столбец Surname демонстрирует только фамилии клиентов, не не является уникальным ID. Считаю тоже можно удалить"
   ]
  },
  {
   "cell_type": "markdown",
   "metadata": {},
   "source": [
    "<div class=\"alert alert-block alert-success\">\n",
    "<b>Успех:</b> Ты хорошо владеешь методами первичного изучения данных 👍 Спасибо за информативный вывод\n",
    "</div>"
   ]
  },
  {
   "cell_type": "code",
   "execution_count": 4,
   "metadata": {},
   "outputs": [
    {
     "data": {
      "text/html": [
       "<div>\n",
       "<style scoped>\n",
       "    .dataframe tbody tr th:only-of-type {\n",
       "        vertical-align: middle;\n",
       "    }\n",
       "\n",
       "    .dataframe tbody tr th {\n",
       "        vertical-align: top;\n",
       "    }\n",
       "\n",
       "    .dataframe thead th {\n",
       "        text-align: right;\n",
       "    }\n",
       "</style>\n",
       "<table border=\"1\" class=\"dataframe\">\n",
       "  <thead>\n",
       "    <tr style=\"text-align: right;\">\n",
       "      <th></th>\n",
       "      <th>CreditScore</th>\n",
       "      <th>Geography</th>\n",
       "      <th>Gender</th>\n",
       "      <th>Age</th>\n",
       "      <th>Tenure</th>\n",
       "      <th>Balance</th>\n",
       "      <th>NumOfProducts</th>\n",
       "      <th>HasCrCard</th>\n",
       "      <th>IsActiveMember</th>\n",
       "      <th>EstimatedSalary</th>\n",
       "      <th>Exited</th>\n",
       "    </tr>\n",
       "  </thead>\n",
       "  <tbody>\n",
       "    <tr>\n",
       "      <th>0</th>\n",
       "      <td>619</td>\n",
       "      <td>France</td>\n",
       "      <td>Female</td>\n",
       "      <td>42</td>\n",
       "      <td>2.0</td>\n",
       "      <td>0.00</td>\n",
       "      <td>1</td>\n",
       "      <td>1</td>\n",
       "      <td>1</td>\n",
       "      <td>101348.88</td>\n",
       "      <td>1</td>\n",
       "    </tr>\n",
       "    <tr>\n",
       "      <th>1</th>\n",
       "      <td>608</td>\n",
       "      <td>Spain</td>\n",
       "      <td>Female</td>\n",
       "      <td>41</td>\n",
       "      <td>1.0</td>\n",
       "      <td>83807.86</td>\n",
       "      <td>1</td>\n",
       "      <td>0</td>\n",
       "      <td>1</td>\n",
       "      <td>112542.58</td>\n",
       "      <td>0</td>\n",
       "    </tr>\n",
       "    <tr>\n",
       "      <th>2</th>\n",
       "      <td>502</td>\n",
       "      <td>France</td>\n",
       "      <td>Female</td>\n",
       "      <td>42</td>\n",
       "      <td>8.0</td>\n",
       "      <td>159660.80</td>\n",
       "      <td>3</td>\n",
       "      <td>1</td>\n",
       "      <td>0</td>\n",
       "      <td>113931.57</td>\n",
       "      <td>1</td>\n",
       "    </tr>\n",
       "    <tr>\n",
       "      <th>3</th>\n",
       "      <td>699</td>\n",
       "      <td>France</td>\n",
       "      <td>Female</td>\n",
       "      <td>39</td>\n",
       "      <td>1.0</td>\n",
       "      <td>0.00</td>\n",
       "      <td>2</td>\n",
       "      <td>0</td>\n",
       "      <td>0</td>\n",
       "      <td>93826.63</td>\n",
       "      <td>0</td>\n",
       "    </tr>\n",
       "    <tr>\n",
       "      <th>4</th>\n",
       "      <td>850</td>\n",
       "      <td>Spain</td>\n",
       "      <td>Female</td>\n",
       "      <td>43</td>\n",
       "      <td>2.0</td>\n",
       "      <td>125510.82</td>\n",
       "      <td>1</td>\n",
       "      <td>1</td>\n",
       "      <td>1</td>\n",
       "      <td>79084.10</td>\n",
       "      <td>0</td>\n",
       "    </tr>\n",
       "    <tr>\n",
       "      <th>5</th>\n",
       "      <td>645</td>\n",
       "      <td>Spain</td>\n",
       "      <td>Male</td>\n",
       "      <td>44</td>\n",
       "      <td>8.0</td>\n",
       "      <td>113755.78</td>\n",
       "      <td>2</td>\n",
       "      <td>1</td>\n",
       "      <td>0</td>\n",
       "      <td>149756.71</td>\n",
       "      <td>1</td>\n",
       "    </tr>\n",
       "    <tr>\n",
       "      <th>6</th>\n",
       "      <td>822</td>\n",
       "      <td>France</td>\n",
       "      <td>Male</td>\n",
       "      <td>50</td>\n",
       "      <td>7.0</td>\n",
       "      <td>0.00</td>\n",
       "      <td>2</td>\n",
       "      <td>1</td>\n",
       "      <td>1</td>\n",
       "      <td>10062.80</td>\n",
       "      <td>0</td>\n",
       "    </tr>\n",
       "    <tr>\n",
       "      <th>7</th>\n",
       "      <td>376</td>\n",
       "      <td>Germany</td>\n",
       "      <td>Female</td>\n",
       "      <td>29</td>\n",
       "      <td>4.0</td>\n",
       "      <td>115046.74</td>\n",
       "      <td>4</td>\n",
       "      <td>1</td>\n",
       "      <td>0</td>\n",
       "      <td>119346.88</td>\n",
       "      <td>1</td>\n",
       "    </tr>\n",
       "    <tr>\n",
       "      <th>8</th>\n",
       "      <td>501</td>\n",
       "      <td>France</td>\n",
       "      <td>Male</td>\n",
       "      <td>44</td>\n",
       "      <td>4.0</td>\n",
       "      <td>142051.07</td>\n",
       "      <td>2</td>\n",
       "      <td>0</td>\n",
       "      <td>1</td>\n",
       "      <td>74940.50</td>\n",
       "      <td>0</td>\n",
       "    </tr>\n",
       "    <tr>\n",
       "      <th>9</th>\n",
       "      <td>684</td>\n",
       "      <td>France</td>\n",
       "      <td>Male</td>\n",
       "      <td>27</td>\n",
       "      <td>2.0</td>\n",
       "      <td>134603.88</td>\n",
       "      <td>1</td>\n",
       "      <td>1</td>\n",
       "      <td>1</td>\n",
       "      <td>71725.73</td>\n",
       "      <td>0</td>\n",
       "    </tr>\n",
       "  </tbody>\n",
       "</table>\n",
       "</div>"
      ],
      "text/plain": [
       "   CreditScore Geography  Gender  Age  Tenure    Balance  NumOfProducts  \\\n",
       "0          619    France  Female   42     2.0       0.00              1   \n",
       "1          608     Spain  Female   41     1.0   83807.86              1   \n",
       "2          502    France  Female   42     8.0  159660.80              3   \n",
       "3          699    France  Female   39     1.0       0.00              2   \n",
       "4          850     Spain  Female   43     2.0  125510.82              1   \n",
       "5          645     Spain    Male   44     8.0  113755.78              2   \n",
       "6          822    France    Male   50     7.0       0.00              2   \n",
       "7          376   Germany  Female   29     4.0  115046.74              4   \n",
       "8          501    France    Male   44     4.0  142051.07              2   \n",
       "9          684    France    Male   27     2.0  134603.88              1   \n",
       "\n",
       "   HasCrCard  IsActiveMember  EstimatedSalary  Exited  \n",
       "0          1               1        101348.88       1  \n",
       "1          0               1        112542.58       0  \n",
       "2          1               0        113931.57       1  \n",
       "3          0               0         93826.63       0  \n",
       "4          1               1         79084.10       0  \n",
       "5          1               0        149756.71       1  \n",
       "6          1               1         10062.80       0  \n",
       "7          1               0        119346.88       1  \n",
       "8          0               1         74940.50       0  \n",
       "9          1               1         71725.73       0  "
      ]
     },
     "execution_count": 4,
     "metadata": {},
     "output_type": "execute_result"
    }
   ],
   "source": [
    "data = data.drop(['RowNumber', 'Surname', 'CustomerId'], axis=1)\n",
    "data.head(10)"
   ]
  },
  {
   "cell_type": "markdown",
   "metadata": {},
   "source": [
    "<div class=\"alert alert-block alert-danger\">\n",
    "<b>Замечание:</b> Да, верно - эти признаки нам не понадобятся для обучения моделей. Ты забыл также исключить признак CustomerId. Можешь на этом шаге и его удалить?)\n",
    "</div>"
   ]
  },
  {
   "cell_type": "markdown",
   "metadata": {},
   "source": [
    "<div class=\"alert alert-block alert-info\">\n",
    "<b>Комментарий студента:</b> Удалил признак 'CustomerId', спасибо за подсказку)\n",
    "</div>"
   ]
  },
  {
   "cell_type": "markdown",
   "metadata": {},
   "source": [
    "<div class=\"alert alert-block alert-danger\">\n",
    "<b>Замечание:</b>\n",
    "    \n",
    "Масштабирование должно выполняться после разбиения данных.\n",
    "\n",
    "Так делают, потому что обычно в практике нам не доступна тестовая выборка.\n",
    "\n",
    "Scaler обучают на тренировочной выборке, затем применяют стандартизацию ко всем выборкам по очереди.\n",
    "</div>"
   ]
  },
  {
   "cell_type": "markdown",
   "metadata": {},
   "source": [
    "<div class=\"alert alert-block alert-info\">\n",
    "<b>Комментарий студента:</b> Масштабирование перенес. Ниже можно увидеть, я его произвел после разбивки.\n",
    "</div>"
   ]
  },
  {
   "cell_type": "code",
   "execution_count": 5,
   "metadata": {},
   "outputs": [],
   "source": [
    "# Количество категорий в признаках Geography, Gender небольшое. Преобразуем их методом One-Hot Encoding.\n",
    "# для преобразования воспользуемся методом pd.get_dummies\n",
    "# параметр drop_first=True для удаления избыточного столбца данных\n",
    "data = pd.get_dummies(data, drop_first=True)\n"
   ]
  },
  {
   "cell_type": "markdown",
   "metadata": {},
   "source": [
    "<div class=\"alert alert-block alert-success\">\n",
    "<b>Успех:</b> В данном случае это наиболее подходящий способ закодировать категориальные колонки 👍\n",
    "</div>"
   ]
  },
  {
   "cell_type": "markdown",
   "metadata": {},
   "source": [
    "1.5 в столбце 'Tenure' есть пропуски. Данные могли быть утеряны из-за сбоев в системе либо по причине человеческого фактора. Считаю целесообразным заполнить их медианой, так как среднее из-за выбросов может дать искажение."
   ]
  },
  {
   "cell_type": "code",
   "execution_count": 6,
   "metadata": {},
   "outputs": [
    {
     "data": {
      "text/plain": [
       "0"
      ]
     },
     "execution_count": 6,
     "metadata": {},
     "output_type": "execute_result"
    }
   ],
   "source": [
    "data.loc[data['Tenure'].isna(), 'Tenure'] = data['Tenure'].median()\n",
    "data.isna().sum().sum()"
   ]
  },
  {
   "cell_type": "markdown",
   "metadata": {},
   "source": [
    "<div class=\"alert alert-block alert-warning\">\n",
    "<b>Совет:</b>\n",
    "\n",
    "Посмотри еще на такие варианты работы с пропусками:\n",
    "\n",
    "1. Распределение по годам использования банка практически ровное, если сейчас заменить 909 пропусков медианой, то мы увеличим в 2 раза значение для 5 лет. Это кажется некорректным. Можно сделать заполнение пропусков случайными числами, тогда мы снизим влияние на наше распределение.\n",
    "\n",
    "2. Посмотри еще на такой вариант: так как значений в этом признаке ограниченное количество, можно сделать его категориальным признаком. Пропуски можно считать как за отдельную категорию (заполнить значением -1). Затем заменить тип данных Tenure на object и применить технику OHE\n",
    "</div>"
   ]
  },
  {
   "cell_type": "markdown",
   "metadata": {},
   "source": [
    "1.6 проверим разбивку уникальных клиентов по кол-ву лет"
   ]
  },
  {
   "cell_type": "code",
   "execution_count": 7,
   "metadata": {
    "scrolled": true
   },
   "outputs": [
    {
     "data": {
      "text/plain": [
       "5.0     1836\n",
       "1.0      952\n",
       "2.0      950\n",
       "8.0      933\n",
       "3.0      928\n",
       "7.0      925\n",
       "4.0      885\n",
       "9.0      882\n",
       "6.0      881\n",
       "10.0     446\n",
       "0.0      382\n",
       "Name: Tenure, dtype: int64"
      ]
     },
     "execution_count": 7,
     "metadata": {},
     "output_type": "execute_result"
    }
   ],
   "source": [
    "data['Tenure'].value_counts()\n"
   ]
  },
  {
   "cell_type": "markdown",
   "metadata": {},
   "source": [
    "# вывод\n",
    " - DataFrame загружен, дубликатов нет, типы данных в специальном преобразовании не нужнаются\n",
    " - Удалили столбцы RowNumber и Surname, так как не представляют никакой ценности.\n",
    " - Категориальные признаки преобразованы методом One-Hot Encoder.\n",
    " - В признаке Tenure обнаружено 909 пропусков. Заменены на медиану\n",
    " - Максимальное кол-во клиентов сидит в банке 5 лет\n",
    " - минимальное - до года и 10 лет\n",
    " - от года до 9 лет (за исключением 5-леток) в среднем одинаковое кол-во клиентов около 1000\n",
    " Видно что сильно оттекают клиенты на периоде от 5 до 10 лет"
   ]
  },
  {
   "cell_type": "markdown",
   "metadata": {},
   "source": [
    "## Исследование задачи"
   ]
  },
  {
   "cell_type": "markdown",
   "metadata": {},
   "source": [
    "2.1 Разделим данные на признаки features и целевой признак target"
   ]
  },
  {
   "cell_type": "code",
   "execution_count": 8,
   "metadata": {},
   "outputs": [],
   "source": [
    "features = data.drop('Exited', axis=1)\n",
    "target = data['Exited']"
   ]
  },
  {
   "cell_type": "markdown",
   "metadata": {},
   "source": [
    "2.2 Разделим данные на обучающую, валидационную и тестовую выборки: 60% на обучающию и по 20% данных на валидационную и тестовую выборки."
   ]
  },
  {
   "cell_type": "code",
   "execution_count": 9,
   "metadata": {},
   "outputs": [
    {
     "name": "stdout",
     "output_type": "stream",
     "text": [
      "Размеры выборок: \n",
      "features_train:  (6000, 11)\n",
      "features_valid:  (2000, 11)\n",
      "features_test:   (2000, 11)\n"
     ]
    }
   ],
   "source": [
    "features, features_test, target, target_test = train_test_split(features, target, test_size=0.2, random_state=123)\n",
    "features_train, features_valid, target_train, target_valid = train_test_split(features, target, test_size=0.25, random_state=123)\n",
    "# выведем размеры получившихся выборок\n",
    "print('Размеры выборок: ')\n",
    "print('features_train: ', features_train.shape)\n",
    "print('features_valid: ', features_valid.shape)\n",
    "print('features_test:  ', features_test.shape)"
   ]
  },
  {
   "cell_type": "markdown",
   "metadata": {},
   "source": [
    "<div class=\"alert alert-block alert-success\">\n",
    "<b>Успех:</b> Данные поделены в адекватных пропорциях 👌 Молодец, что смотришь на размеры выборок после разбиения )\n",
    "</div>"
   ]
  },
  {
   "cell_type": "markdown",
   "metadata": {},
   "source": [
    "2.2.1 к признакам CreditScore, Age, Balance, EstimatedSalary применим масштабирование с помощью StandardScaler"
   ]
  },
  {
   "cell_type": "code",
   "execution_count": 10,
   "metadata": {},
   "outputs": [],
   "source": [
    "numerics = ['CreditScore', 'Age', 'Balance', 'EstimatedSalary']\n",
    "scaler = StandardScaler()\n",
    "data[numerics] = scaler.fit_transform(data[numerics])"
   ]
  },
  {
   "cell_type": "markdown",
   "metadata": {},
   "source": [
    "2.2 Сначала обучим модель Решающее дерево\n",
    " - Инициируем модель решающего дерева DecisionTreeClassifier\n",
    " - Критерием проверки качества модели будет точность, полнота, f1 и roc_auc"
   ]
  },
  {
   "cell_type": "code",
   "execution_count": 11,
   "metadata": {},
   "outputs": [
    {
     "name": "stdout",
     "output_type": "stream",
     "text": [
      "Наилучшее f1: 0.5145348837209303\n",
      "Наилучшее roc_auc: 0.6819168173598553\n",
      "Матрица ошибок: [[1489   91]\n",
      " [ 243  177]]\n",
      "Полнота: 0.42142857142857143\n",
      "Точность: 0.6604477611940298\n"
     ]
    }
   ],
   "source": [
    "for depth in range(2,10):\n",
    "    model_tree = DecisionTreeClassifier(random_state = 12345, max_depth = depth) # инициализировали модель \n",
    "#DecisionTreeClassifier с параметром random_state=12345 и max_depth=depth\n",
    "    model_tree.fit(features_train, target_train) # обучаем модель на тренировочной выборке\n",
    "    predictions_tree = model_tree.predict(features_valid) # получаем предсказания модели на валидационной выборке\n",
    "    \n",
    "    # вычисление метрик модели (f1, roc_auc, матрицы ошибок, точности и полноты)\n",
    "    f1 = f1_score(target_valid, predictions_tree)  # вычисление f1 модели\n",
    "    roc_auc = roc_auc_score(target_valid, predictions_tree)\n",
    "    confusion = confusion_matrix(target_valid, predictions_tree)\n",
    "    recall = recall_score(target_valid, predictions_tree)\n",
    "    precision = precision_score(target_valid, predictions_tree)\n",
    "                    \n",
    "print(\"Наилучшее f1:\", f1)\n",
    "print(\"Наилучшее roc_auc:\", roc_auc)\n",
    "print(\"Матрица ошибок:\", confusion)\n",
    "print(\"Полнота:\", recall)\n",
    "print(\"Точность:\", precision)"
   ]
  },
  {
   "cell_type": "markdown",
   "metadata": {},
   "source": [
    "# вывод:\n",
    " - Наилучшая f1 равняется 0.53, что не дотягивает до заданного в условии проекта значения (0,59)\n",
    " - Наилучший roc_auc 0,69, что выше 0,5, но не дотягивает хотя бы до 0,9\n",
    " - матрица ошибок говорит о пессимистичности модели\n",
    " - полнота низкая = 0,44\n",
    " - точность хорошая = 0,67\n",
    " - однозначно стоит искать улучшение результата на других моделях"
   ]
  },
  {
   "cell_type": "markdown",
   "metadata": {},
   "source": [
    "2.3 Рассмотрим модель \"Случайный лес\"\n",
    " - Инициируем модель решающего дерева RandomForestClassifier\n",
    " - Критерием проверки качества модели будет точность, полнота, f1 и roc_auc"
   ]
  },
  {
   "cell_type": "code",
   "execution_count": 12,
   "metadata": {},
   "outputs": [
    {
     "name": "stdout",
     "output_type": "stream",
     "text": [
      "Наилучшее f1: 0.5579268292682927\n",
      "Наилучшее roc_auc: 0.7010849909584087\n",
      "Матрица ошибок: [[1527   53]\n",
      " [ 237  183]]\n",
      "Полнота: 0.4357142857142857\n",
      "Точность: 0.7754237288135594\n"
     ]
    }
   ],
   "source": [
    "for est in range(30, 40): # с количеством деревьев: от 10 до 50 с шагом 10\n",
    "    for depth in range (10,17,2): # с максимальной глубиной от 1 до 17\n",
    "        model_forest = RandomForestClassifier(random_state=12345, n_estimators=est, max_depth=depth) # инициализировали модель RandomForestRegressor с параметрами random_state=12345, n_estimators и max_depth\n",
    "        model_forest.fit(features_train, target_train) #обучение модели на тренировочной выборке\n",
    "        predictions_forest = model_forest.predict(features_valid) # получаем предсказания модели на валидационной выборке\n",
    "        \n",
    "        # вычисление метрик модели (f1, roc_auc, матрицы ошибок, точности и полноты)\n",
    "        f1_forest = f1_score(target_valid, predictions_forest)  # вычисление f1 модели\n",
    "        roc_auc_forest = roc_auc_score(target_valid, predictions_forest)\n",
    "        confusion_forest = confusion_matrix(target_valid, predictions_forest)\n",
    "        recall_forest = recall_score(target_valid, predictions_forest)\n",
    "        precision_forest = precision_score(target_valid, predictions_forest)\n",
    "                    \n",
    "print(\"Наилучшее f1:\", f1_forest)\n",
    "print(\"Наилучшее roc_auc:\", roc_auc_forest)\n",
    "print(\"Матрица ошибок:\", confusion_forest)\n",
    "print(\"Полнота:\", recall_forest)\n",
    "print(\"Точность:\", precision_forest)"
   ]
  },
  {
   "cell_type": "markdown",
   "metadata": {},
   "source": [
    "# вывод:\n",
    " - Наилучшая f1 равняется 0.55, что не дотягивает до заданного в условии проекта значения (0,59)\n",
    " - Наилучший roc_auc 0,70, что выше 0,5, но не дотягивает хотя бы до 0,9\n",
    " - матрица ошибок показывает вновь пессимистичную модель\n",
    " - полнота ниже предыдущей модели = 0,42\n",
    " - точность выше= 0,77\n",
    " - вновь обращаемся к другой классификационной модели"
   ]
  },
  {
   "cell_type": "markdown",
   "metadata": {},
   "source": [
    "2.4 Логистическая регрессия\n",
    " - Инициируем модель логистической регрессии LogisticRegression\n",
    " - Критерием проверки качества модели будет полнота, точность, f1 и roc_auc\n",
    " - попробуем подобрать пороговое значение\n",
    " - нарисуем PR-кривую"
   ]
  },
  {
   "cell_type": "code",
   "execution_count": 13,
   "metadata": {},
   "outputs": [
    {
     "name": "stdout",
     "output_type": "stream",
     "text": [
      "Порог = 0.00 | Точность = 0.210, Полнота = 1.000, F1 = 0.347, roc_auc = 0.500\n",
      "Порог = 0.02 | Точность = 0.210, Полнота = 1.000, F1 = 0.347, roc_auc = 0.500\n",
      "Порог = 0.04 | Точность = 0.210, Полнота = 1.000, F1 = 0.347, roc_auc = 0.500\n",
      "Порог = 0.06 | Точность = 0.211, Полнота = 0.998, F1 = 0.348, roc_auc = 0.502\n",
      "Порог = 0.08 | Точность = 0.213, Полнота = 0.988, F1 = 0.351, roc_auc = 0.510\n",
      "Порог = 0.10 | Точность = 0.219, Полнота = 0.969, F1 = 0.357, roc_auc = 0.525\n",
      "Порог = 0.12 | Точность = 0.233, Полнота = 0.948, F1 = 0.374, roc_auc = 0.558\n",
      "Порог = 0.14 | Точность = 0.242, Полнота = 0.881, F1 = 0.379, roc_auc = 0.573\n",
      "Порог = 0.16 | Точность = 0.254, Полнота = 0.812, F1 = 0.387, roc_auc = 0.589\n",
      "Порог = 0.18 | Точность = 0.264, Полнота = 0.731, F1 = 0.388, roc_auc = 0.595\n",
      "Порог = 0.20 | Точность = 0.291, Полнота = 0.671, F1 = 0.406, roc_auc = 0.619\n",
      "Порог = 0.22 | Точность = 0.294, Полнота = 0.550, F1 = 0.383, roc_auc = 0.599\n",
      "Порог = 0.24 | Точность = 0.306, Полнота = 0.462, F1 = 0.368, roc_auc = 0.592\n",
      "Порог = 0.26 | Точность = 0.326, Полнота = 0.402, F1 = 0.360, roc_auc = 0.590\n",
      "Порог = 0.28 | Точность = 0.340, Полнота = 0.350, F1 = 0.345, roc_auc = 0.585\n"
     ]
    },
    {
     "data": {
      "image/png": "[encoded data removed]",
      "text/plain": [
       "<Figure size 432x432 with 1 Axes>"
      ]
     },
     "metadata": {
      "needs_background": "light"
     },
     "output_type": "display_data"
    }
   ],
   "source": [
    "model_log = LogisticRegression(random_state=123, solver='liblinear', max_iter=1000) # инициализиировали модель с гиперпараметрами solver='lbfgs', max_iter=1000\n",
    "model_log.fit(features_train, target_train)  # обучаем модель на тренировочной выборке\n",
    "predictions_log = model_log.predict(features_valid) # ищем предсказания модели на валидационной выбоке\n",
    "\n",
    "probabilities_valid = model_log.predict_proba(features_valid) # Изменим значение порога и посмотрим, какими станут метрик\n",
    "probabilities_one_valid = probabilities_valid[:, 1]\n",
    "\n",
    "for threshold in np.arange(0, 0.3, 0.02): # Чтобы создать цикл с нужным диапазоном, мы применили функцию arange() библиотеки numpy\n",
    "    predictions_log = probabilities_one_valid > threshold\n",
    "    precision = precision_score(target_valid, predictions_log)\n",
    "    recall = recall_score(target_valid, predictions_log)\n",
    "    f1 = f1_score(target_valid, predictions_log)\n",
    "    roc_auc = roc_auc_score(target_valid, predictions_log)\n",
    "    print(\"Порог = {:.2f} | Точность = {:.3f}, Полнота = {:.3f}, F1 = {:.3f}, roc_auc = {:.3f}\".format(\n",
    "        threshold, precision, recall, f1, roc_auc))\n",
    "    \n",
    "probabilities_valid = model_log.predict_proba(features_valid) # ищем вероятность классов для валидационной выборки\n",
    "precision, recall, thresholds = precision_recall_curve(target_valid, probabilities_valid[:, 1]) # используем метод precision_recall_curve\n",
    "# чтобы построить PR-кривую\n",
    "plt.figure(figsize=(6, 6)) # посмотрим на графике, как выглядят значения метрик при изменении порога\n",
    "plt.step(recall, precision, where='post')\n",
    "plt.xlabel('Recall')\n",
    "plt.ylabel('Precision')\n",
    "plt.ylim([0.0, 1.05])\n",
    "plt.xlim([0.0, 1.0])\n",
    "plt.title('Кривая Precision-Recall')\n",
    "plt.show() \n",
    "\n"
   ]
  },
  {
   "cell_type": "markdown",
   "metadata": {},
   "source": [
    "# вывод по исследованию моделей:\n",
    " - Разделили данные на признаки features и целевой признак target.\n",
    " - Разделили данные на обучающую, валидационную и тестовую выборки: 60% на обучающию и по 20% данных на валидационную и тестовую выборки.\n",
    " - Обучили модель Решающее дерево. f1: 0.53, roc_auc: 0.69, Полнота: 0.44, Точность: 0.67\n",
    " - обучили модель случайный лес, где f1: 0.55 и выше, чем в Решающем дереве; roc_auc: 0.69, как и на модели Решающее дерево; Полнота: 0.43, что ниже чем на Решающем дереве; Точность: 0.78, что выше, чем у решающего дерева\n",
    " - Обучили модель Логистическая Регрессия. f1 модели логистической регрессии: 0.0; roc_auc логистической регрессии: 0.5; полнота порога сначала равна 1, но падает по мере увеличения значения порога; точность итак имеет невысокие значения и пом мере получения положительных ответов падает до нуля. Тот же вывод по f1, однако roc_auc практически не изменно.\n",
    " - необходимо улучшить результат путем решения вопроса дисбаланса классов."
   ]
  },
  {
   "cell_type": "markdown",
   "metadata": {},
   "source": [
    "<div class=\"alert alert-block alert-success\">\n",
    "<b>Успех:</b> Модели обучены корректно 👍 Молодец, что сопровождаешь каждый этап промежуточным выводом\n",
    "</div>"
   ]
  },
  {
   "cell_type": "markdown",
   "metadata": {},
   "source": [
    "## Борьба с дисбалансом"
   ]
  },
  {
   "cell_type": "markdown",
   "metadata": {},
   "source": [
    "3.1 взвешивание классов\n",
    " - используем несколько моделей вместе с параметром class_weight='balanced'"
   ]
  },
  {
   "cell_type": "code",
   "execution_count": 14,
   "metadata": {},
   "outputs": [
    {
     "name": "stdout",
     "output_type": "stream",
     "text": [
      "F1 forest: 0.5568862275449101\n"
     ]
    }
   ],
   "source": [
    "for est in range(30, 40): \n",
    "    for depth in range (10,17,2): \n",
    "        model_forest = RandomForestClassifier(random_state=12345, n_estimators=est, max_depth=depth, class_weight='balanced') \n",
    "        model_forest.fit(features_train, target_train) \n",
    "        predictions_forest = model_forest.predict(features_valid) \n",
    "        \n",
    "       \n",
    "        f1_forest = f1_score(target_valid, predictions_forest)  # вычисление f1 модели\n",
    "print(\"F1 forest:\", f1_forest)"
   ]
  },
  {
   "cell_type": "code",
   "execution_count": 17,
   "metadata": {},
   "outputs": [
    {
     "name": "stdout",
     "output_type": "stream",
     "text": [
      "F1 tree: 0.5145348837209303\n"
     ]
    }
   ],
   "source": [
    "for depth in range(2,10):\n",
    "    model_tree = DecisionTreeClassifier(random_state = 12345, max_depth = depth) \n",
    "\n",
    "    model_tree.fit(features_train, target_train) \n",
    "    predictions_tree = model_tree.predict(features_valid) \n",
    "    \n",
    "    f1 = f1_score(target_valid, predictions_tree)  # вычисление f1 модели\n",
    "print(\"F1 tree:\", f1)"
   ]
  },
  {
   "cell_type": "code",
   "execution_count": 16,
   "metadata": {},
   "outputs": [
    {
     "name": "stdout",
     "output_type": "stream",
     "text": [
      "F1 LogisticRegression: 0.4532488114104596\n"
     ]
    }
   ],
   "source": [
    "model_log = LogisticRegression(random_state=12345, solver='liblinear', class_weight='balanced')\n",
    "model_log.fit(features_train, target_train)\n",
    "predictions_log = model_log.predict(features_valid)\n",
    "print(\"F1 LogisticRegression:\", f1_score(target_valid, predictions_log))"
   ]
  },
  {
   "cell_type": "markdown",
   "metadata": {},
   "source": [
    "# вывод:\n",
    " - Взвешивание классов дало небольшой прирост в метрике f1 на решающем дереве.\n",
    " - прироста на Логистической регрессии вообще нет никакого\n",
    " - Случайный лес показывает максимальное приближение к f1=0,56\n",
    " - стоит дальше работать с моделью Случайный лес"
   ]
  },
  {
   "cell_type": "markdown",
   "metadata": {},
   "source": [
    "<div class=\"alert alert-block alert-danger\">\n",
    "<b>Замечание:</b> Гиперпараметры лучшей модели могут отличаться, если обучаться на сбалансированной выборке. Можешь добавить оптимизацию моделей (подбор гиперпараметров) в обучении моделей в борьбе с дисбалансом?)\n",
    "</div>"
   ]
  },
  {
   "cell_type": "markdown",
   "metadata": {},
   "source": [
    "<div class=\"alert alert-block alert-info\">\n",
    "<b>Комментарий студента:</b> перебрал гиперпараметры в цикле\n",
    "</div>"
   ]
  },
  {
   "cell_type": "markdown",
   "metadata": {},
   "source": [
    "3.2 теперь нужно попробовать upsampling и downsampling\n",
    " - попробуем на модели Случайный лес\n"
   ]
  },
  {
   "cell_type": "code",
   "execution_count": 19,
   "metadata": {},
   "outputs": [
    {
     "name": "stdout",
     "output_type": "stream",
     "text": [
      "F1: 0.5884907709011943\n"
     ]
    }
   ],
   "source": [
    "def upsample(features, target, repeat):\n",
    "    features_zeros = features[target == 0]\n",
    "    features_ones = features[target == 1]\n",
    "    target_zeros = target[target == 0]\n",
    "    target_ones = target[target == 1]\n",
    "    \n",
    "    features_upsampled = pd.concat([features_zeros] + [features_ones] * repeat)\n",
    "    target_upsampled = pd.concat([target_zeros] + [target_ones] * repeat)\n",
    "    \n",
    "    features_upsampled, target_upsampled = shuffle(\n",
    "        features_upsampled, target_upsampled, random_state=12345)\n",
    "    return features_upsampled, target_upsampled\n",
    "\n",
    "features_upsampled, target_upsampled = upsample(features_train, target_train, 10)\n",
    "\n",
    "model_forest = RandomForestClassifier(n_estimators=20, max_depth=10, random_state=12345, class_weight='balanced')\n",
    "model_forest.fit(features_upsampled, target_upsampled)\n",
    "predictions_forest = model_forest.predict(features_valid)\n",
    "\n",
    "print(\"F1:\", f1_score(target_valid, predictions_forest))\n"
   ]
  },
  {
   "cell_type": "markdown",
   "metadata": {},
   "source": [
    "<div class=\"alert alert-block alert-success\">\n",
    "<b>Успех:</b> Функция увеличения выборки написана правильно 👍\n",
    "</div>"
   ]
  },
  {
   "cell_type": "markdown",
   "metadata": {},
   "source": [
    "<div class=\"alert alert-block alert-warning\">\n",
    "<b>Совет:</b> Значение параметра repeat стоит подобрать таким образом, чтобы классы сбалансировались. А у нас отрицательный класс в 4 раза больше\n",
    "</div>"
   ]
  },
  {
   "cell_type": "code",
   "execution_count": 16,
   "metadata": {},
   "outputs": [
    {
     "name": "stdout",
     "output_type": "stream",
     "text": [
      "F1: 0.4851826326671261\n"
     ]
    }
   ],
   "source": [
    "def downsample(features, target, fraction):\n",
    "    features_zeros = features[target == 0]\n",
    "    features_ones = features[target == 1]\n",
    "    target_zeros = target[target == 0]\n",
    "    target_ones = target[target == 1]\n",
    "\n",
    "    features_downsampled = pd.concat(\n",
    "        [features_zeros.sample(frac=fraction, random_state=12345)] + [features_ones])\n",
    "    target_downsampled = pd.concat(\n",
    "        [target_zeros.sample(frac=fraction, random_state=12345)] + [target_ones])\n",
    "    \n",
    "    features_downsampled, target_downsampled = shuffle(\n",
    "        features_downsampled, target_downsampled, random_state=12345)\n",
    "    \n",
    "    return features_downsampled, target_downsampled\n",
    "\n",
    "features_downsampled, target_downsampled = downsample(features_train, target_train, 0.1)\n",
    "\n",
    "model_forest = RandomForestClassifier(n_estimators=20, max_depth=10, random_state=12345, class_weight='balanced')\n",
    "model_forest.fit(features_downsampled, target_downsampled)\n",
    "predictions_forest = model_forest.predict(features_valid)\n",
    "print(\"F1:\", f1_score(target_valid, predictions_forest))"
   ]
  },
  {
   "cell_type": "markdown",
   "metadata": {},
   "source": [
    "<div class=\"alert alert-block alert-success\">\n",
    "<b>Успех:</b> Функция уменьшения выборки написана правильно 👍\n",
    "</div>"
   ]
  },
  {
   "cell_type": "markdown",
   "metadata": {},
   "source": [
    "<div class=\"alert alert-block alert-warning\">\n",
    "<b>Совет:</b> Здесь тоже нужно правильно подобрать значение параметра fraction\n",
    "</div>"
   ]
  },
  {
   "cell_type": "markdown",
   "metadata": {},
   "source": [
    "# вывод по борьбе с дисбалансом классов:\n",
    " - Взвешивание классов с помощью параметра class_weight не дало значительного увеличения метрики f1.\n",
    " - после взвешивания классов f1: \n",
    " - F1 tree: 0.5473098330241186\n",
    " - F1 LogisticRegression: 0.0\n",
    " - F1 forest: 0.5843520782396088\n",
    " - становится понятно, что Случайный лес пять показывает лучший результат. Рассматривать Решающее Дерево и Логистическую регрессию дальше смысла нет. \n",
    " - Upsampling положительного класса на модели Случайный Лес дало необходимый прирост точности моделей.\n",
    " - Необходимое качество (согласно заданному условия) на валидационной выборке мы получили.\n",
    " - Случайный лес:\n",
    " - f1 = 0.59\n",
    " \n"
   ]
  },
  {
   "cell_type": "markdown",
   "metadata": {},
   "source": [
    "## Тестирование модели"
   ]
  },
  {
   "cell_type": "markdown",
   "metadata": {},
   "source": [
    "4.1 Проведём обучение модели Случайный Лес на обучающей и валидационной выборке.\n",
    "Вычислим метрикиn точность, полнота, f1 и roc_auc на тестовой выборке.\n"
   ]
  },
  {
   "cell_type": "code",
   "execution_count": 21,
   "metadata": {},
   "outputs": [
    {
     "name": "stdout",
     "output_type": "stream",
     "text": [
      "f1 test: 0.6428571428571429\n",
      "roc_auc test: 0.772026975163112\n",
      "полнота test: 0.6304347826086957\n",
      "точность test: 0.6557788944723618\n"
     ]
    }
   ],
   "source": [
    "features_upsampled, target_upsampled = upsample(features, target, 2)\n",
    "features_balanced, target_balanced = downsample(features_upsampled, target_upsampled, 0.75)\n",
    "model_forest_test = RandomForestClassifier(random_state=12345,\n",
    "                                         n_estimators=20,\n",
    "                                         max_depth=12,\n",
    "                                         )\n",
    "model_forest_test.fit(features_balanced, target_balanced)\n",
    "predictions_forest_test = model_forest_test.predict(features_test)\n",
    "print(\"f1 test:\", f1_score(target_test, predictions_forest_test))\n",
    "print(\"roc_auc test:\", roc_auc_score(target_test, predictions_forest_test))\n",
    "print(\"полнота test:\", recall_score(target_test, predictions_forest_test))\n",
    "print(\"точность test:\", precision_score(target_test, predictions_forest_test))\n"
   ]
  },
  {
   "cell_type": "markdown",
   "metadata": {},
   "source": [
    "# вывод по тестированию модели Случайный лес:\n",
    " - качество модели на тестовой выборке значительно улучшилась\n",
    " - метрика f1 =0.64, что удовлетворяет условию и > 0.59\n",
    " - метрика roc_auc = 0.77, что выше, чем результат на учебной и валидационной выборке  \n",
    " - полнота = 0,63 и также улучшилась на 0.2\n",
    " - а вот точность снизилась на 0,12"
   ]
  },
  {
   "cell_type": "markdown",
   "metadata": {},
   "source": [
    "<div class=\"alert alert-block alert-success\">\n",
    "<b>Молодец:</b> Отличный результат!)\n",
    "</div>"
   ]
  },
  {
   "cell_type": "markdown",
   "metadata": {},
   "source": [
    "# Общий вывод по проекту:\n",
    "## произведена подготовка данных\n",
    "Удалены столбцы RowNumber и Surname, так как не представляют никакой ценности.\n",
    "Категориальные признаки преобразованы методом One-Hot Encoder.\n",
    "В признаке Tenure обнаружено 909 пропусков. Заменены на медиану\n",
    "Максимальное кол-во клиентов сидит в банке 5 лет\n",
    "минимальное - до года и 10 лет\n",
    "от года до 9 лет (за исключением 5-леток) в среднем одинаковое кол-во клиентов около 1000 Видно что сильно оттекают клиенты на периоде от 5 до 10 лет\n",
    "## Проанализировали модели без учёта дисбаланса классов. \n",
    " Разделили данные на признаки features и целевой признак target.\n",
    "Разделили данные на обучающую, валидационную и тестовую выборки: 60% на обучающию и по 20% данных на валидационную и тестовую выборки.\n",
    "Обучили модель Решающее дерево. f1: 0.53, roc_auc: 0.69, Полнота: 0.44, Точность: 0.67\n",
    "обучили модель случайный лес, где f1: 0.55 и выше, чем в Решающем дереве; roc_auc: 0.69, как и на модели Решающее дерево; Полнота: 0.43, что ниже чем на Решающем дереве; Точность: 0.78, что выше, чем у решающего дерева\n",
    "Обучили модель Логистическая Регрессия. f1 модели логистической регрессии: 0.0; roc_auc логистической регрессии: 0.5; полнота порога сначала равна 1, но падает по мере увеличения значения порога; точность итак имеет невысокие значения и пом мере получения положительных ответов падает до нуля. Тот же вывод по f1, однако roc_auc практически не изменно.\n",
    "необходимо улучшить результат путем решения вопроса дисбаланса классов.\n",
    "## Проанализировали дисбаланс классов\n",
    " Взвешивание классов с помощью параметра class_weight не дало значительного увеличения метрики f1.\n",
    " - после взвешивания классов f1: \n",
    " - F1 tree: 0.55\n",
    " - F1 LogisticRegression: 0.0\n",
    " - F1 forest: 0.58\n",
    " - становится понятно, что Случайный лес пять показывает лучший результат. Рассматривать Решающее Дерево и Логистическую регрессию дальше смысла нет. \n",
    " - Upsampling положительного класса на модели Случайный Лес дало необходимый прирост точности моделей.\n",
    " - Необходимое качество (согласно заданному условия) на валидационной выборке мы получили.\n",
    " - Случайный лес:\n",
    " - f1 = 0.59\n",
    " \n",
    "## протестировали модель Случайный лес на тестовой выборке\n",
    "качество модели на тестовой выборке значительно улучшилась\n",
    "метрика f1 =0.64, что удовлетворяет условию и > 0.59\n",
    "метрика roc_auc = 0.77, что выше, чем результат на учебной и валидационной выборке\n",
    "полнота = 0,63 и также улучшилась на 0.2\n",
    "а вот точность снизилась на 0,12\n",
    "\n",
    "## итог: На тестовой выборке достигнуто необходимое значение метрики f1, а метрика roc_auc максимально приблизилась к единице\n",
    " \n"
   ]
  }
 ],
 "metadata": {
  "ExecuteTimeLog": [
   {
    "duration": 1357,
    "start_time": "2022-05-22T11:08:31.376Z"
   },
   {
    "duration": 240,
    "start_time": "2022-05-22T11:08:41.178Z"
   },
   {
    "duration": 56,
    "start_time": "2022-05-22T11:08:57.330Z"
   },
   {
    "duration": 39,
    "start_time": "2022-05-22T11:09:54.476Z"
   },
   {
    "duration": 7,
    "start_time": "2022-05-22T11:19:40.602Z"
   },
   {
    "duration": 111,
    "start_time": "2022-05-22T11:19:59.509Z"
   },
   {
    "duration": 4,
    "start_time": "2022-05-22T11:20:29.313Z"
   },
   {
    "duration": 4,
    "start_time": "2022-05-22T11:26:49.222Z"
   },
   {
    "duration": 14,
    "start_time": "2022-05-22T11:29:35.562Z"
   },
   {
    "duration": 14,
    "start_time": "2022-05-22T11:30:08.002Z"
   },
   {
    "duration": 13,
    "start_time": "2022-05-22T11:30:39.588Z"
   },
   {
    "duration": 4,
    "start_time": "2022-05-22T11:32:41.278Z"
   },
   {
    "duration": 73,
    "start_time": "2022-05-22T11:32:41.284Z"
   },
   {
    "duration": 36,
    "start_time": "2022-05-22T11:32:41.358Z"
   },
   {
    "duration": 4,
    "start_time": "2022-05-22T11:32:50.989Z"
   },
   {
    "duration": 9,
    "start_time": "2022-05-22T11:54:54.052Z"
   },
   {
    "duration": 15,
    "start_time": "2022-05-22T11:56:14.061Z"
   },
   {
    "duration": 9,
    "start_time": "2022-05-22T11:57:05.078Z"
   },
   {
    "duration": 4,
    "start_time": "2022-05-23T06:27:15.707Z"
   },
   {
    "duration": 63,
    "start_time": "2022-05-23T06:27:15.714Z"
   },
   {
    "duration": 42,
    "start_time": "2022-05-23T06:27:15.779Z"
   },
   {
    "duration": 4,
    "start_time": "2022-05-23T06:27:15.824Z"
   },
   {
    "duration": 39,
    "start_time": "2022-05-23T06:27:15.830Z"
   },
   {
    "duration": 134,
    "start_time": "2022-05-23T06:52:26.622Z"
   },
   {
    "duration": 18,
    "start_time": "2022-05-23T06:52:35.057Z"
   },
   {
    "duration": 10,
    "start_time": "2022-05-23T06:54:07.503Z"
   },
   {
    "duration": 9,
    "start_time": "2022-05-23T06:59:11.291Z"
   },
   {
    "duration": 39,
    "start_time": "2022-05-23T07:00:24.209Z"
   },
   {
    "duration": 16,
    "start_time": "2022-05-23T07:00:28.389Z"
   },
   {
    "duration": 25,
    "start_time": "2022-05-23T07:00:35.311Z"
   },
   {
    "duration": 15,
    "start_time": "2022-05-23T07:00:46.111Z"
   },
   {
    "duration": 10,
    "start_time": "2022-05-23T07:02:39.161Z"
   },
   {
    "duration": 70,
    "start_time": "2022-05-23T07:02:39.175Z"
   },
   {
    "duration": 48,
    "start_time": "2022-05-23T07:02:39.247Z"
   },
   {
    "duration": 14,
    "start_time": "2022-05-23T07:02:39.297Z"
   },
   {
    "duration": 33,
    "start_time": "2022-05-23T07:02:39.313Z"
   },
   {
    "duration": 10,
    "start_time": "2022-05-23T07:02:39.348Z"
   },
   {
    "duration": 40,
    "start_time": "2022-05-23T07:02:39.360Z"
   },
   {
    "duration": 8,
    "start_time": "2022-05-23T07:02:39.402Z"
   },
   {
    "duration": 7,
    "start_time": "2022-05-23T07:20:50.988Z"
   },
   {
    "duration": 9,
    "start_time": "2022-05-23T07:22:55.628Z"
   },
   {
    "duration": 23,
    "start_time": "2022-05-23T07:23:12.375Z"
   },
   {
    "duration": 24,
    "start_time": "2022-05-23T07:25:11.960Z"
   },
   {
    "duration": 10,
    "start_time": "2022-05-23T07:25:45.913Z"
   },
   {
    "duration": 15,
    "start_time": "2022-05-23T07:26:29.354Z"
   },
   {
    "duration": 70,
    "start_time": "2022-05-23T07:28:33.048Z"
   },
   {
    "duration": 20,
    "start_time": "2022-05-23T07:28:45.687Z"
   },
   {
    "duration": 16,
    "start_time": "2022-05-23T07:28:52.059Z"
   },
   {
    "duration": 79,
    "start_time": "2022-05-23T08:09:40.594Z"
   },
   {
    "duration": 23,
    "start_time": "2022-05-23T08:10:19.749Z"
   },
   {
    "duration": 1536,
    "start_time": "2022-05-24T13:17:40.373Z"
   },
   {
    "duration": 342,
    "start_time": "2022-05-24T13:17:41.912Z"
   },
   {
    "duration": 55,
    "start_time": "2022-05-24T13:17:42.255Z"
   },
   {
    "duration": 16,
    "start_time": "2022-05-24T13:17:42.314Z"
   },
   {
    "duration": 20,
    "start_time": "2022-05-24T13:17:42.331Z"
   },
   {
    "duration": 14,
    "start_time": "2022-05-24T13:17:42.353Z"
   },
   {
    "duration": 27,
    "start_time": "2022-05-24T13:17:42.369Z"
   },
   {
    "duration": 7,
    "start_time": "2022-05-24T13:17:42.398Z"
   },
   {
    "duration": 14,
    "start_time": "2022-05-24T13:17:42.406Z"
   },
   {
    "duration": 26,
    "start_time": "2022-05-24T13:17:42.422Z"
   },
   {
    "duration": 173,
    "start_time": "2022-05-24T13:24:04.830Z"
   },
   {
    "duration": 193,
    "start_time": "2022-05-24T13:24:16.463Z"
   },
   {
    "duration": 41,
    "start_time": "2022-05-24T14:16:03.048Z"
   },
   {
    "duration": 87,
    "start_time": "2022-05-24T14:17:45.363Z"
   },
   {
    "duration": 6996,
    "start_time": "2022-05-24T14:18:40.618Z"
   },
   {
    "duration": 9831,
    "start_time": "2022-05-24T14:25:04.782Z"
   },
   {
    "duration": 277,
    "start_time": "2022-05-24T14:34:22.234Z"
   },
   {
    "duration": 287,
    "start_time": "2022-05-24T14:34:34.928Z"
   },
   {
    "duration": 418,
    "start_time": "2022-05-24T14:36:47.180Z"
   },
   {
    "duration": 6,
    "start_time": "2022-05-27T07:19:54.553Z"
   },
   {
    "duration": 80,
    "start_time": "2022-05-27T07:19:54.561Z"
   },
   {
    "duration": 61,
    "start_time": "2022-05-27T07:19:54.644Z"
   },
   {
    "duration": 24,
    "start_time": "2022-05-27T07:19:54.711Z"
   },
   {
    "duration": 81,
    "start_time": "2022-05-27T07:19:54.737Z"
   },
   {
    "duration": 23,
    "start_time": "2022-05-27T07:19:54.820Z"
   },
   {
    "duration": 26,
    "start_time": "2022-05-27T07:19:54.845Z"
   },
   {
    "duration": 28,
    "start_time": "2022-05-27T07:19:54.873Z"
   },
   {
    "duration": 33,
    "start_time": "2022-05-27T07:19:54.904Z"
   },
   {
    "duration": 34,
    "start_time": "2022-05-27T07:19:54.939Z"
   },
   {
    "duration": 253,
    "start_time": "2022-05-27T07:19:54.975Z"
   },
   {
    "duration": 12912,
    "start_time": "2022-05-27T07:19:55.238Z"
   },
   {
    "duration": 772,
    "start_time": "2022-05-27T07:20:08.152Z"
   },
   {
    "duration": 286,
    "start_time": "2022-05-27T07:27:11.525Z"
   },
   {
    "duration": 89,
    "start_time": "2022-05-27T07:28:36.698Z"
   },
   {
    "duration": 25,
    "start_time": "2022-05-27T07:29:16.915Z"
   },
   {
    "duration": 25,
    "start_time": "2022-05-27T07:49:52.659Z"
   },
   {
    "duration": 43,
    "start_time": "2022-05-27T07:50:10.743Z"
   },
   {
    "duration": 150,
    "start_time": "2022-05-27T07:51:01.143Z"
   },
   {
    "duration": 23,
    "start_time": "2022-05-27T07:51:08.359Z"
   },
   {
    "duration": 42,
    "start_time": "2022-05-27T07:51:20.045Z"
   },
   {
    "duration": 689,
    "start_time": "2022-05-27T07:51:40.201Z"
   },
   {
    "duration": 33,
    "start_time": "2022-05-27T07:51:52.284Z"
   },
   {
    "duration": 143,
    "start_time": "2022-05-27T07:53:07.074Z"
   },
   {
    "duration": 48,
    "start_time": "2022-05-27T07:56:46.271Z"
   },
   {
    "duration": 58,
    "start_time": "2022-05-27T07:57:16.989Z"
   },
   {
    "duration": 55,
    "start_time": "2022-05-27T08:03:39.776Z"
   },
   {
    "duration": 6,
    "start_time": "2022-05-27T10:52:17.911Z"
   },
   {
    "duration": 90,
    "start_time": "2022-05-27T10:52:17.920Z"
   },
   {
    "duration": 62,
    "start_time": "2022-05-27T10:52:18.012Z"
   },
   {
    "duration": 21,
    "start_time": "2022-05-27T10:52:18.085Z"
   },
   {
    "duration": 28,
    "start_time": "2022-05-27T10:52:18.108Z"
   },
   {
    "duration": 13,
    "start_time": "2022-05-27T10:52:18.140Z"
   },
   {
    "duration": 31,
    "start_time": "2022-05-27T10:52:18.154Z"
   },
   {
    "duration": 8,
    "start_time": "2022-05-27T10:52:18.187Z"
   },
   {
    "duration": 15,
    "start_time": "2022-05-27T10:52:18.198Z"
   },
   {
    "duration": 33,
    "start_time": "2022-05-27T10:52:18.217Z"
   },
   {
    "duration": 217,
    "start_time": "2022-05-27T10:52:18.255Z"
   },
   {
    "duration": 10812,
    "start_time": "2022-05-27T10:52:18.485Z"
   },
   {
    "duration": 501,
    "start_time": "2022-05-27T10:52:29.298Z"
   },
   {
    "duration": 46,
    "start_time": "2022-05-27T10:52:29.883Z"
   },
   {
    "duration": 4,
    "start_time": "2022-05-27T11:09:02.443Z"
   },
   {
    "duration": 52,
    "start_time": "2022-05-27T11:09:02.448Z"
   },
   {
    "duration": 37,
    "start_time": "2022-05-27T11:09:02.501Z"
   },
   {
    "duration": 12,
    "start_time": "2022-05-27T11:09:02.539Z"
   },
   {
    "duration": 16,
    "start_time": "2022-05-27T11:09:02.553Z"
   },
   {
    "duration": 10,
    "start_time": "2022-05-27T11:09:02.583Z"
   },
   {
    "duration": 9,
    "start_time": "2022-05-27T11:09:02.594Z"
   },
   {
    "duration": 6,
    "start_time": "2022-05-27T11:09:02.604Z"
   },
   {
    "duration": 7,
    "start_time": "2022-05-27T11:09:02.611Z"
   },
   {
    "duration": 18,
    "start_time": "2022-05-27T11:09:02.619Z"
   },
   {
    "duration": 199,
    "start_time": "2022-05-27T11:09:02.639Z"
   },
   {
    "duration": 10465,
    "start_time": "2022-05-27T11:09:02.839Z"
   },
   {
    "duration": 196,
    "start_time": "2022-05-27T11:09:13.306Z"
   },
   {
    "duration": 52,
    "start_time": "2022-05-27T11:09:25.116Z"
   },
   {
    "duration": 41,
    "start_time": "2022-05-27T11:09:33.302Z"
   },
   {
    "duration": 45,
    "start_time": "2022-05-27T11:10:18.223Z"
   },
   {
    "duration": 24,
    "start_time": "2022-05-27T11:11:37.656Z"
   },
   {
    "duration": 21,
    "start_time": "2022-05-27T11:14:33.675Z"
   },
   {
    "duration": 5,
    "start_time": "2022-05-28T08:30:51.462Z"
   },
   {
    "duration": 67,
    "start_time": "2022-05-28T08:30:51.470Z"
   },
   {
    "duration": 42,
    "start_time": "2022-05-28T08:30:51.538Z"
   },
   {
    "duration": 14,
    "start_time": "2022-05-28T08:30:51.583Z"
   },
   {
    "duration": 16,
    "start_time": "2022-05-28T08:30:51.599Z"
   },
   {
    "duration": 9,
    "start_time": "2022-05-28T08:30:51.617Z"
   },
   {
    "duration": 32,
    "start_time": "2022-05-28T08:30:51.628Z"
   },
   {
    "duration": 7,
    "start_time": "2022-05-28T08:30:51.661Z"
   },
   {
    "duration": 5,
    "start_time": "2022-05-28T08:30:51.671Z"
   },
   {
    "duration": 20,
    "start_time": "2022-05-28T08:30:51.678Z"
   },
   {
    "duration": 217,
    "start_time": "2022-05-28T08:30:51.700Z"
   },
   {
    "duration": 10848,
    "start_time": "2022-05-28T08:30:51.919Z"
   },
   {
    "duration": 2292,
    "start_time": "2022-05-28T08:31:02.769Z"
   },
   {
    "duration": 50,
    "start_time": "2022-05-28T08:31:05.063Z"
   },
   {
    "duration": 74,
    "start_time": "2022-05-28T08:31:05.115Z"
   },
   {
    "duration": 114,
    "start_time": "2022-05-28T08:31:05.261Z"
   },
   {
    "duration": 108,
    "start_time": "2022-05-28T08:34:35.568Z"
   },
   {
    "duration": 8,
    "start_time": "2022-05-28T08:35:08.396Z"
   },
   {
    "duration": 9,
    "start_time": "2022-05-28T08:37:31.136Z"
   },
   {
    "duration": 9,
    "start_time": "2022-05-28T08:39:49.942Z"
   },
   {
    "duration": 51,
    "start_time": "2022-05-28T08:42:27.512Z"
   },
   {
    "duration": 82,
    "start_time": "2022-05-28T08:42:50.977Z"
   },
   {
    "duration": 4,
    "start_time": "2022-05-28T08:42:59.231Z"
   },
   {
    "duration": 102,
    "start_time": "2022-05-28T08:43:51.057Z"
   },
   {
    "duration": 6,
    "start_time": "2022-05-28T08:43:54.472Z"
   },
   {
    "duration": 20,
    "start_time": "2022-05-28T08:44:14.773Z"
   },
   {
    "duration": 53,
    "start_time": "2022-05-28T08:44:45.805Z"
   },
   {
    "duration": 52,
    "start_time": "2022-05-28T09:57:32.168Z"
   },
   {
    "duration": 248,
    "start_time": "2022-05-28T10:10:22.915Z"
   },
   {
    "duration": 282,
    "start_time": "2022-05-28T10:51:57.185Z"
   },
   {
    "duration": 24,
    "start_time": "2022-05-28T11:12:35.356Z"
   },
   {
    "duration": 23,
    "start_time": "2022-05-28T11:12:59.850Z"
   },
   {
    "duration": 23,
    "start_time": "2022-05-28T11:13:53.379Z"
   },
   {
    "duration": 13,
    "start_time": "2022-05-28T11:14:52.783Z"
   },
   {
    "duration": 34,
    "start_time": "2022-05-28T11:16:12.162Z"
   },
   {
    "duration": 6,
    "start_time": "2022-05-28T11:17:15.741Z"
   },
   {
    "duration": 57,
    "start_time": "2022-05-28T11:17:15.748Z"
   },
   {
    "duration": 38,
    "start_time": "2022-05-28T11:17:15.806Z"
   },
   {
    "duration": 14,
    "start_time": "2022-05-28T11:17:15.846Z"
   },
   {
    "duration": 41,
    "start_time": "2022-05-28T11:17:15.861Z"
   },
   {
    "duration": 42,
    "start_time": "2022-05-28T11:17:15.904Z"
   },
   {
    "duration": 21,
    "start_time": "2022-05-28T11:17:15.947Z"
   },
   {
    "duration": 33,
    "start_time": "2022-05-28T11:17:15.970Z"
   },
   {
    "duration": 21,
    "start_time": "2022-05-28T11:17:16.005Z"
   },
   {
    "duration": 26,
    "start_time": "2022-05-28T11:17:16.029Z"
   },
   {
    "duration": 5,
    "start_time": "2022-05-28T11:17:21.295Z"
   },
   {
    "duration": 23,
    "start_time": "2022-05-28T11:17:28.418Z"
   },
   {
    "duration": 4,
    "start_time": "2022-05-28T11:19:17.503Z"
   },
   {
    "duration": 26,
    "start_time": "2022-05-28T11:19:25.684Z"
   },
   {
    "duration": 5,
    "start_time": "2022-05-28T11:20:27.989Z"
   },
   {
    "duration": 211,
    "start_time": "2022-05-28T11:20:36.162Z"
   },
   {
    "duration": 10107,
    "start_time": "2022-05-28T11:28:05.468Z"
   },
   {
    "duration": 131,
    "start_time": "2022-05-28T11:30:42.929Z"
   },
   {
    "duration": 175,
    "start_time": "2022-05-28T11:31:13.892Z"
   },
   {
    "duration": 5,
    "start_time": "2022-05-28T11:36:45.194Z"
   },
   {
    "duration": 72,
    "start_time": "2022-05-28T11:36:45.201Z"
   },
   {
    "duration": 39,
    "start_time": "2022-05-28T11:36:45.275Z"
   },
   {
    "duration": 12,
    "start_time": "2022-05-28T11:36:45.316Z"
   },
   {
    "duration": 34,
    "start_time": "2022-05-28T11:36:45.329Z"
   },
   {
    "duration": 9,
    "start_time": "2022-05-28T11:36:45.365Z"
   },
   {
    "duration": 9,
    "start_time": "2022-05-28T11:36:45.376Z"
   },
   {
    "duration": 5,
    "start_time": "2022-05-28T11:36:45.387Z"
   },
   {
    "duration": 16,
    "start_time": "2022-05-28T11:36:45.394Z"
   },
   {
    "duration": 11,
    "start_time": "2022-05-28T11:36:45.412Z"
   },
   {
    "duration": 217,
    "start_time": "2022-05-28T11:36:45.425Z"
   },
   {
    "duration": 9976,
    "start_time": "2022-05-28T11:36:45.643Z"
   },
   {
    "duration": 241,
    "start_time": "2022-05-28T11:36:55.620Z"
   },
   {
    "duration": 314,
    "start_time": "2022-05-28T11:38:49.474Z"
   },
   {
    "duration": 26,
    "start_time": "2022-05-28T11:42:58.895Z"
   },
   {
    "duration": 5,
    "start_time": "2022-05-28T11:43:29.176Z"
   },
   {
    "duration": 51,
    "start_time": "2022-05-28T11:43:29.183Z"
   },
   {
    "duration": 41,
    "start_time": "2022-05-28T11:43:29.236Z"
   },
   {
    "duration": 15,
    "start_time": "2022-05-28T11:43:29.279Z"
   },
   {
    "duration": 28,
    "start_time": "2022-05-28T11:43:29.295Z"
   },
   {
    "duration": 11,
    "start_time": "2022-05-28T11:43:29.325Z"
   },
   {
    "duration": 12,
    "start_time": "2022-05-28T11:43:29.338Z"
   },
   {
    "duration": 6,
    "start_time": "2022-05-28T11:43:29.359Z"
   },
   {
    "duration": 12,
    "start_time": "2022-05-28T11:43:29.366Z"
   },
   {
    "duration": 17,
    "start_time": "2022-05-28T11:43:29.380Z"
   },
   {
    "duration": 218,
    "start_time": "2022-05-28T11:43:29.399Z"
   },
   {
    "duration": 10134,
    "start_time": "2022-05-28T11:43:29.619Z"
   },
   {
    "duration": 200,
    "start_time": "2022-05-28T11:43:39.759Z"
   },
   {
    "duration": 27,
    "start_time": "2022-05-28T11:44:21.327Z"
   },
   {
    "duration": 350,
    "start_time": "2022-05-28T11:45:05.482Z"
   },
   {
    "duration": 147,
    "start_time": "2022-05-28T11:57:36.668Z"
   },
   {
    "duration": 252,
    "start_time": "2022-05-28T11:59:38.492Z"
   },
   {
    "duration": 78,
    "start_time": "2022-05-28T12:01:00.831Z"
   },
   {
    "duration": 1487,
    "start_time": "2022-05-29T11:32:01.494Z"
   },
   {
    "duration": 209,
    "start_time": "2022-05-29T11:32:02.983Z"
   },
   {
    "duration": 73,
    "start_time": "2022-05-29T11:32:03.194Z"
   },
   {
    "duration": 15,
    "start_time": "2022-05-29T11:32:03.270Z"
   },
   {
    "duration": 37,
    "start_time": "2022-05-29T11:32:03.287Z"
   },
   {
    "duration": 36,
    "start_time": "2022-05-29T11:32:03.326Z"
   },
   {
    "duration": 21,
    "start_time": "2022-05-29T11:32:03.364Z"
   },
   {
    "duration": 13,
    "start_time": "2022-05-29T11:32:03.389Z"
   },
   {
    "duration": 35,
    "start_time": "2022-05-29T11:32:03.404Z"
   },
   {
    "duration": 29,
    "start_time": "2022-05-29T11:32:03.441Z"
   },
   {
    "duration": 274,
    "start_time": "2022-05-29T11:32:03.472Z"
   },
   {
    "duration": 10419,
    "start_time": "2022-05-29T11:32:03.747Z"
   },
   {
    "duration": 379,
    "start_time": "2022-05-29T11:32:14.167Z"
   },
   {
    "duration": 416,
    "start_time": "2022-05-29T11:32:14.547Z"
   },
   {
    "duration": 289,
    "start_time": "2022-05-29T11:32:14.965Z"
   },
   {
    "duration": 84,
    "start_time": "2022-05-29T11:32:15.256Z"
   },
   {
    "duration": 315,
    "start_time": "2022-05-29T11:52:48.960Z"
   },
   {
    "duration": 297,
    "start_time": "2022-05-29T11:55:44.312Z"
   },
   {
    "duration": 311,
    "start_time": "2022-05-29T11:56:06.415Z"
   },
   {
    "duration": 203,
    "start_time": "2022-05-29T12:32:01.257Z"
   },
   {
    "duration": 215,
    "start_time": "2022-05-29T12:33:44.077Z"
   },
   {
    "duration": 4,
    "start_time": "2022-05-29T13:04:21.192Z"
   },
   {
    "duration": 633,
    "start_time": "2022-05-29T13:06:52.871Z"
   },
   {
    "duration": 31,
    "start_time": "2022-05-29T13:08:12.641Z"
   },
   {
    "duration": 892,
    "start_time": "2022-05-29T13:08:26.457Z"
   },
   {
    "duration": 594,
    "start_time": "2022-05-29T13:08:48.422Z"
   },
   {
    "duration": 430,
    "start_time": "2022-05-29T13:17:35.110Z"
   },
   {
    "duration": 434,
    "start_time": "2022-05-29T13:17:52.440Z"
   },
   {
    "duration": 261,
    "start_time": "2022-05-29T13:28:19.758Z"
   },
   {
    "duration": 486,
    "start_time": "2022-05-29T13:28:55.347Z"
   },
   {
    "duration": 697,
    "start_time": "2022-05-29T13:36:11.729Z"
   },
   {
    "duration": 638,
    "start_time": "2022-05-29T13:37:33.362Z"
   },
   {
    "duration": 6,
    "start_time": "2022-05-30T06:51:34.404Z"
   },
   {
    "duration": 75,
    "start_time": "2022-05-30T06:51:34.412Z"
   },
   {
    "duration": 55,
    "start_time": "2022-05-30T06:51:34.489Z"
   },
   {
    "duration": 19,
    "start_time": "2022-05-30T06:51:57.759Z"
   },
   {
    "duration": 23,
    "start_time": "2022-05-30T06:56:06.890Z"
   },
   {
    "duration": 21,
    "start_time": "2022-05-30T06:57:27.623Z"
   },
   {
    "duration": 1725,
    "start_time": "2022-05-31T09:36:32.845Z"
   },
   {
    "duration": 169,
    "start_time": "2022-05-31T09:36:34.572Z"
   },
   {
    "duration": 42,
    "start_time": "2022-05-31T09:36:34.743Z"
   },
   {
    "duration": 13,
    "start_time": "2022-05-31T09:36:34.787Z"
   },
   {
    "duration": 11,
    "start_time": "2022-05-31T09:36:34.802Z"
   },
   {
    "duration": 8,
    "start_time": "2022-05-31T09:36:34.828Z"
   },
   {
    "duration": 10,
    "start_time": "2022-05-31T09:36:34.838Z"
   },
   {
    "duration": 11,
    "start_time": "2022-05-31T09:36:34.850Z"
   },
   {
    "duration": 9,
    "start_time": "2022-05-31T09:36:34.862Z"
   },
   {
    "duration": 16,
    "start_time": "2022-05-31T09:36:34.873Z"
   },
   {
    "duration": 202,
    "start_time": "2022-05-31T09:36:34.891Z"
   },
   {
    "duration": 9156,
    "start_time": "2022-05-31T09:36:35.094Z"
   },
   {
    "duration": 603,
    "start_time": "2022-05-31T09:36:44.252Z"
   },
   {
    "duration": 2,
    "start_time": "2022-05-31T09:36:47.379Z"
   },
   {
    "duration": 1179731,
    "start_time": "2022-05-31T09:39:05.269Z"
   },
   {
    "duration": 1638,
    "start_time": "2022-05-31T16:10:20.108Z"
   },
   {
    "duration": 175,
    "start_time": "2022-05-31T16:10:21.748Z"
   },
   {
    "duration": 55,
    "start_time": "2022-05-31T16:10:21.925Z"
   },
   {
    "duration": 16,
    "start_time": "2022-05-31T16:10:21.982Z"
   },
   {
    "duration": 14,
    "start_time": "2022-05-31T16:10:22.000Z"
   },
   {
    "duration": 11,
    "start_time": "2022-05-31T16:10:22.037Z"
   },
   {
    "duration": 5,
    "start_time": "2022-05-31T16:10:22.050Z"
   },
   {
    "duration": 7,
    "start_time": "2022-05-31T16:10:22.057Z"
   },
   {
    "duration": 10,
    "start_time": "2022-05-31T16:10:22.066Z"
   },
   {
    "duration": 18,
    "start_time": "2022-05-31T16:10:22.078Z"
   },
   {
    "duration": 209,
    "start_time": "2022-05-31T16:10:22.098Z"
   },
   {
    "duration": 9038,
    "start_time": "2022-05-31T16:10:22.309Z"
   },
   {
    "duration": 603,
    "start_time": "2022-05-31T16:10:31.349Z"
   },
   {
    "duration": 8891,
    "start_time": "2022-05-31T16:11:33.178Z"
   },
   {
    "duration": 136,
    "start_time": "2022-05-31T16:15:28.476Z"
   },
   {
    "duration": 60,
    "start_time": "2022-05-31T16:16:46.072Z"
   },
   {
    "duration": 136,
    "start_time": "2022-05-31T16:17:33.176Z"
   }
  ],
  "kernelspec": {
   "display_name": "Python 3 (ipykernel)",
   "language": "python",
   "name": "python3"
  },
  "language_info": {
   "codemirror_mode": {
    "name": "ipython",
    "version": 3
   },
   "file_extension": ".py",
   "mimetype": "text/x-python",
   "name": "python",
   "nbconvert_exporter": "python",
   "pygments_lexer": "ipython3",
   "version": "3.9.5"
  },
  "toc": {
   "base_numbering": 1,
   "nav_menu": {},
   "number_sections": true,
   "sideBar": true,
   "skip_h1_title": true,
   "title_cell": "Содержание",
   "title_sidebar": "Contents",
   "toc_cell": true,
   "toc_position": {
    "height": "calc(100% - 180px)",
    "left": "10px",
    "top": "150px",
    "width": "165px"
   },
   "toc_section_display": true,
   "toc_window_display": true
  }
 },
 "nbformat": 4,
 "nbformat_minor": 2
}
