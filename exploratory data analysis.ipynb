{
 "cells": [
  {
   "cell_type": "markdown",
   "metadata": {},
   "source": [
    "<div style=\"border:solid green 3px; padding: 20px\">\n",
    "\n",
    "<b>Привет, Александр! :)</b>\n",
    "\n",
    "Меня зовут Сороколетов Илья и я буду проверять твой проект. \n",
    "\n",
    "Предлагаю общаться на «**ты**», но если тебе будет комфортнее общаться на «**вы**», то сообщи об этом в комментариях)\n",
    "\n",
    "\n",
    "Для твоего удобства, я буду выделять свои комментарии следующим образом:\n",
    "\n",
    "<div class=\"alert alert-danger\">\n",
    "<b>❌ Комментарий ревьюера:</b> Самые важные замечания. Они указывают на ключевые моменты, которые влияют на конечный результат проекта. </div>\n",
    "\n",
    "<div class=\"alert alert-warning\">\n",
    "<b>⚠️ Комментарий ревьюера:</b> Советы или замечания, которые помогут сделать твою работу лучше, но необязательны к выполнению.\n",
    "\n",
    "</div>\n",
    "\n",
    "<div class=\"alert alert-success\">\n",
    "<b>✔️ Комментарий ревьюера:</b> Так я выделяю все остальные комментарии.</div>\n",
    "\n",
    "Давай работать над проектом в диалоге: если ты что-то меняешь в проекте по моим рекомендациям — пиши об этом. Выбери для своих комментариев какой-то заметный цвет, так мне будет легче отследить изменения, например вот так:\n",
    "<div class=\"alert alert-info\">\n",
    "<b>Комментарий студента:</b>\n",
    "<br>\n",
    "</div>\n",
    "\n",
    "Пожалуйста, не перемещай, не изменяй и не удаляй мои комментарии. Всё это поможет выполнить повторную проверку твоего проекта оперативнее. \n",
    "\n",
    "Обязательно задавай вопросы если они возникнут, а я перехожу к проверке)"
   ]
  },
  {
   "cell_type": "markdown",
   "metadata": {
    "toc": true
   },
   "source": [
    "<h1>Содержание<span class=\"tocSkip\"></span></h1>\n",
    "<div class=\"toc\"><ul class=\"toc-item\"><li><span><a href=\"#Изучение-данных-из-файла\" data-toc-modified-id=\"Изучение-данных-из-файла-1\"><span class=\"toc-item-num\">1&nbsp;&nbsp;</span>Изучение данных из файла</a></span><ul class=\"toc-item\"><li><span><a href=\"#Вывод\" data-toc-modified-id=\"Вывод-1.1\"><span class=\"toc-item-num\">1.1&nbsp;&nbsp;</span>Вывод</a></span></li></ul></li><li><span><a href=\"#Предобработка-данных\" data-toc-modified-id=\"Предобработка-данных-2\"><span class=\"toc-item-num\">2&nbsp;&nbsp;</span>Предобработка данных</a></span></li><li><span><a href=\"#Расчёты-и-добавление-результатов-в-таблицу\" data-toc-modified-id=\"Расчёты-и-добавление-результатов-в-таблицу-3\"><span class=\"toc-item-num\">3&nbsp;&nbsp;</span>Расчёты и добавление результатов в таблицу</a></span></li><li><span><a href=\"#Исследовательский-анализ-данных\" data-toc-modified-id=\"Исследовательский-анализ-данных-4\"><span class=\"toc-item-num\">4&nbsp;&nbsp;</span>Исследовательский анализ данных</a></span></li><li><span><a href=\"#Общий-вывод\" data-toc-modified-id=\"Общий-вывод-5\"><span class=\"toc-item-num\">5&nbsp;&nbsp;</span>Общий вывод</a></span></li><li><span><a href=\"#Чек-лист-готовности-проекта\" data-toc-modified-id=\"Чек-лист-готовности-проекта-6\"><span class=\"toc-item-num\">6&nbsp;&nbsp;</span>Чек-лист готовности проекта</a></span></li></ul></div>"
   ]
  },
  {
   "cell_type": "markdown",
   "metadata": {},
   "source": [
    "# Исследование объявлений о продаже квартир\n",
    "\n",
    "В вашем распоряжении данные сервиса Яндекс.Недвижимость — архив объявлений о продаже квартир в Санкт-Петербурге и соседних населённых пунктах за несколько лет. Нужно научиться определять рыночную стоимость объектов недвижимости. Ваша задача — установить параметры. Это позволит построить автоматизированную систему: она отследит аномалии и мошенническую деятельность. \n",
    "\n",
    "По каждой квартире на продажу доступны два вида данных. Первые вписаны пользователем, вторые получены автоматически на основе картографических данных. Например, расстояние до центра, аэропорта, ближайшего парка и водоёма. "
   ]
  },
  {
   "cell_type": "markdown",
   "metadata": {},
   "source": [
    "<div class=\"alert alert-danger\">\n",
    "<b>❌ Комментарий ревьюера:</b> \n",
    "<br>Разбей, пожалуйста, код на несколько ячеек, чтобы у тебя после стены кода не шла стена выводов. Желательно, чтобы для каждого вывода на экран у тебя была бы отдельная ячейка. Так будет более наглядно и мне будет проще комментировать твой код\n",
    "</div>"
   ]
  },
  {
   "cell_type": "markdown",
   "metadata": {},
   "source": [
    "<div class=\"alert alert-success\">\n",
    "<b>✔️ Комментарий ревьюера:</b> \n",
    "<br>Спасибо, стало лучше\n",
    "</div>"
   ]
  },
  {
   "cell_type": "markdown",
   "metadata": {},
   "source": [
    "## Изучение данных из файла"
   ]
  },
  {
   "cell_type": "code",
   "execution_count": 1,
   "metadata": {},
   "outputs": [
    {
     "data": {
      "text/html": [
       "<div>\n",
       "<style scoped>\n",
       "    .dataframe tbody tr th:only-of-type {\n",
       "        vertical-align: middle;\n",
       "    }\n",
       "\n",
       "    .dataframe tbody tr th {\n",
       "        vertical-align: top;\n",
       "    }\n",
       "\n",
       "    .dataframe thead th {\n",
       "        text-align: right;\n",
       "    }\n",
       "</style>\n",
       "<table border=\"1\" class=\"dataframe\">\n",
       "  <thead>\n",
       "    <tr style=\"text-align: right;\">\n",
       "      <th></th>\n",
       "      <th>total_images</th>\n",
       "      <th>last_price</th>\n",
       "      <th>total_area</th>\n",
       "      <th>first_day_exposition</th>\n",
       "      <th>rooms</th>\n",
       "      <th>ceiling_height</th>\n",
       "      <th>floors_total</th>\n",
       "      <th>living_area</th>\n",
       "      <th>floor</th>\n",
       "      <th>is_apartment</th>\n",
       "      <th>...</th>\n",
       "      <th>kitchen_area</th>\n",
       "      <th>balcony</th>\n",
       "      <th>locality_name</th>\n",
       "      <th>airports_nearest</th>\n",
       "      <th>cityCenters_nearest</th>\n",
       "      <th>parks_around3000</th>\n",
       "      <th>parks_nearest</th>\n",
       "      <th>ponds_around3000</th>\n",
       "      <th>ponds_nearest</th>\n",
       "      <th>days_exposition</th>\n",
       "    </tr>\n",
       "  </thead>\n",
       "  <tbody>\n",
       "    <tr>\n",
       "      <td>0</td>\n",
       "      <td>20</td>\n",
       "      <td>13000000.0</td>\n",
       "      <td>108.00</td>\n",
       "      <td>2019-03-07T00:00:00</td>\n",
       "      <td>3</td>\n",
       "      <td>2.70</td>\n",
       "      <td>16.0</td>\n",
       "      <td>51.00</td>\n",
       "      <td>8</td>\n",
       "      <td>NaN</td>\n",
       "      <td>...</td>\n",
       "      <td>25.00</td>\n",
       "      <td>NaN</td>\n",
       "      <td>Санкт-Петербург</td>\n",
       "      <td>18863.0</td>\n",
       "      <td>16028.0</td>\n",
       "      <td>1.0</td>\n",
       "      <td>482.0</td>\n",
       "      <td>2.0</td>\n",
       "      <td>755.0</td>\n",
       "      <td>NaN</td>\n",
       "    </tr>\n",
       "    <tr>\n",
       "      <td>1</td>\n",
       "      <td>7</td>\n",
       "      <td>3350000.0</td>\n",
       "      <td>40.40</td>\n",
       "      <td>2018-12-04T00:00:00</td>\n",
       "      <td>1</td>\n",
       "      <td>NaN</td>\n",
       "      <td>11.0</td>\n",
       "      <td>18.60</td>\n",
       "      <td>1</td>\n",
       "      <td>NaN</td>\n",
       "      <td>...</td>\n",
       "      <td>11.00</td>\n",
       "      <td>2.0</td>\n",
       "      <td>посёлок Шушары</td>\n",
       "      <td>12817.0</td>\n",
       "      <td>18603.0</td>\n",
       "      <td>0.0</td>\n",
       "      <td>NaN</td>\n",
       "      <td>0.0</td>\n",
       "      <td>NaN</td>\n",
       "      <td>81.0</td>\n",
       "    </tr>\n",
       "    <tr>\n",
       "      <td>2</td>\n",
       "      <td>10</td>\n",
       "      <td>5196000.0</td>\n",
       "      <td>56.00</td>\n",
       "      <td>2015-08-20T00:00:00</td>\n",
       "      <td>2</td>\n",
       "      <td>NaN</td>\n",
       "      <td>5.0</td>\n",
       "      <td>34.30</td>\n",
       "      <td>4</td>\n",
       "      <td>NaN</td>\n",
       "      <td>...</td>\n",
       "      <td>8.30</td>\n",
       "      <td>0.0</td>\n",
       "      <td>Санкт-Петербург</td>\n",
       "      <td>21741.0</td>\n",
       "      <td>13933.0</td>\n",
       "      <td>1.0</td>\n",
       "      <td>90.0</td>\n",
       "      <td>2.0</td>\n",
       "      <td>574.0</td>\n",
       "      <td>558.0</td>\n",
       "    </tr>\n",
       "    <tr>\n",
       "      <td>3</td>\n",
       "      <td>0</td>\n",
       "      <td>64900000.0</td>\n",
       "      <td>159.00</td>\n",
       "      <td>2015-07-24T00:00:00</td>\n",
       "      <td>3</td>\n",
       "      <td>NaN</td>\n",
       "      <td>14.0</td>\n",
       "      <td>NaN</td>\n",
       "      <td>9</td>\n",
       "      <td>NaN</td>\n",
       "      <td>...</td>\n",
       "      <td>NaN</td>\n",
       "      <td>0.0</td>\n",
       "      <td>Санкт-Петербург</td>\n",
       "      <td>28098.0</td>\n",
       "      <td>6800.0</td>\n",
       "      <td>2.0</td>\n",
       "      <td>84.0</td>\n",
       "      <td>3.0</td>\n",
       "      <td>234.0</td>\n",
       "      <td>424.0</td>\n",
       "    </tr>\n",
       "    <tr>\n",
       "      <td>4</td>\n",
       "      <td>2</td>\n",
       "      <td>10000000.0</td>\n",
       "      <td>100.00</td>\n",
       "      <td>2018-06-19T00:00:00</td>\n",
       "      <td>2</td>\n",
       "      <td>3.03</td>\n",
       "      <td>14.0</td>\n",
       "      <td>32.00</td>\n",
       "      <td>13</td>\n",
       "      <td>NaN</td>\n",
       "      <td>...</td>\n",
       "      <td>41.00</td>\n",
       "      <td>NaN</td>\n",
       "      <td>Санкт-Петербург</td>\n",
       "      <td>31856.0</td>\n",
       "      <td>8098.0</td>\n",
       "      <td>2.0</td>\n",
       "      <td>112.0</td>\n",
       "      <td>1.0</td>\n",
       "      <td>48.0</td>\n",
       "      <td>121.0</td>\n",
       "    </tr>\n",
       "    <tr>\n",
       "      <td>5</td>\n",
       "      <td>10</td>\n",
       "      <td>2890000.0</td>\n",
       "      <td>30.40</td>\n",
       "      <td>2018-09-10T00:00:00</td>\n",
       "      <td>1</td>\n",
       "      <td>NaN</td>\n",
       "      <td>12.0</td>\n",
       "      <td>14.40</td>\n",
       "      <td>5</td>\n",
       "      <td>NaN</td>\n",
       "      <td>...</td>\n",
       "      <td>9.10</td>\n",
       "      <td>NaN</td>\n",
       "      <td>городской посёлок Янино-1</td>\n",
       "      <td>NaN</td>\n",
       "      <td>NaN</td>\n",
       "      <td>NaN</td>\n",
       "      <td>NaN</td>\n",
       "      <td>NaN</td>\n",
       "      <td>NaN</td>\n",
       "      <td>55.0</td>\n",
       "    </tr>\n",
       "    <tr>\n",
       "      <td>6</td>\n",
       "      <td>6</td>\n",
       "      <td>3700000.0</td>\n",
       "      <td>37.30</td>\n",
       "      <td>2017-11-02T00:00:00</td>\n",
       "      <td>1</td>\n",
       "      <td>NaN</td>\n",
       "      <td>26.0</td>\n",
       "      <td>10.60</td>\n",
       "      <td>6</td>\n",
       "      <td>NaN</td>\n",
       "      <td>...</td>\n",
       "      <td>14.40</td>\n",
       "      <td>1.0</td>\n",
       "      <td>посёлок Парголово</td>\n",
       "      <td>52996.0</td>\n",
       "      <td>19143.0</td>\n",
       "      <td>0.0</td>\n",
       "      <td>NaN</td>\n",
       "      <td>0.0</td>\n",
       "      <td>NaN</td>\n",
       "      <td>155.0</td>\n",
       "    </tr>\n",
       "    <tr>\n",
       "      <td>7</td>\n",
       "      <td>5</td>\n",
       "      <td>7915000.0</td>\n",
       "      <td>71.60</td>\n",
       "      <td>2019-04-18T00:00:00</td>\n",
       "      <td>2</td>\n",
       "      <td>NaN</td>\n",
       "      <td>24.0</td>\n",
       "      <td>NaN</td>\n",
       "      <td>22</td>\n",
       "      <td>NaN</td>\n",
       "      <td>...</td>\n",
       "      <td>18.90</td>\n",
       "      <td>2.0</td>\n",
       "      <td>Санкт-Петербург</td>\n",
       "      <td>23982.0</td>\n",
       "      <td>11634.0</td>\n",
       "      <td>0.0</td>\n",
       "      <td>NaN</td>\n",
       "      <td>0.0</td>\n",
       "      <td>NaN</td>\n",
       "      <td>NaN</td>\n",
       "    </tr>\n",
       "    <tr>\n",
       "      <td>8</td>\n",
       "      <td>20</td>\n",
       "      <td>2900000.0</td>\n",
       "      <td>33.16</td>\n",
       "      <td>2018-05-23T00:00:00</td>\n",
       "      <td>1</td>\n",
       "      <td>NaN</td>\n",
       "      <td>27.0</td>\n",
       "      <td>15.43</td>\n",
       "      <td>26</td>\n",
       "      <td>NaN</td>\n",
       "      <td>...</td>\n",
       "      <td>8.81</td>\n",
       "      <td>NaN</td>\n",
       "      <td>посёлок Мурино</td>\n",
       "      <td>NaN</td>\n",
       "      <td>NaN</td>\n",
       "      <td>NaN</td>\n",
       "      <td>NaN</td>\n",
       "      <td>NaN</td>\n",
       "      <td>NaN</td>\n",
       "      <td>189.0</td>\n",
       "    </tr>\n",
       "    <tr>\n",
       "      <td>9</td>\n",
       "      <td>18</td>\n",
       "      <td>5400000.0</td>\n",
       "      <td>61.00</td>\n",
       "      <td>2017-02-26T00:00:00</td>\n",
       "      <td>3</td>\n",
       "      <td>2.50</td>\n",
       "      <td>9.0</td>\n",
       "      <td>43.60</td>\n",
       "      <td>7</td>\n",
       "      <td>NaN</td>\n",
       "      <td>...</td>\n",
       "      <td>6.50</td>\n",
       "      <td>2.0</td>\n",
       "      <td>Санкт-Петербург</td>\n",
       "      <td>50898.0</td>\n",
       "      <td>15008.0</td>\n",
       "      <td>0.0</td>\n",
       "      <td>NaN</td>\n",
       "      <td>0.0</td>\n",
       "      <td>NaN</td>\n",
       "      <td>289.0</td>\n",
       "    </tr>\n",
       "  </tbody>\n",
       "</table>\n",
       "<p>10 rows × 22 columns</p>\n",
       "</div>"
      ],
      "text/plain": [
       "   total_images  last_price  total_area first_day_exposition  rooms  \\\n",
       "0            20  13000000.0      108.00  2019-03-07T00:00:00      3   \n",
       "1             7   3350000.0       40.40  2018-12-04T00:00:00      1   \n",
       "2            10   5196000.0       56.00  2015-08-20T00:00:00      2   \n",
       "3             0  64900000.0      159.00  2015-07-24T00:00:00      3   \n",
       "4             2  10000000.0      100.00  2018-06-19T00:00:00      2   \n",
       "5            10   2890000.0       30.40  2018-09-10T00:00:00      1   \n",
       "6             6   3700000.0       37.30  2017-11-02T00:00:00      1   \n",
       "7             5   7915000.0       71.60  2019-04-18T00:00:00      2   \n",
       "8            20   2900000.0       33.16  2018-05-23T00:00:00      1   \n",
       "9            18   5400000.0       61.00  2017-02-26T00:00:00      3   \n",
       "\n",
       "   ceiling_height  floors_total  living_area  floor is_apartment  ...  \\\n",
       "0            2.70          16.0        51.00      8          NaN  ...   \n",
       "1             NaN          11.0        18.60      1          NaN  ...   \n",
       "2             NaN           5.0        34.30      4          NaN  ...   \n",
       "3             NaN          14.0          NaN      9          NaN  ...   \n",
       "4            3.03          14.0        32.00     13          NaN  ...   \n",
       "5             NaN          12.0        14.40      5          NaN  ...   \n",
       "6             NaN          26.0        10.60      6          NaN  ...   \n",
       "7             NaN          24.0          NaN     22          NaN  ...   \n",
       "8             NaN          27.0        15.43     26          NaN  ...   \n",
       "9            2.50           9.0        43.60      7          NaN  ...   \n",
       "\n",
       "   kitchen_area  balcony              locality_name  airports_nearest  \\\n",
       "0         25.00      NaN            Санкт-Петербург           18863.0   \n",
       "1         11.00      2.0             посёлок Шушары           12817.0   \n",
       "2          8.30      0.0            Санкт-Петербург           21741.0   \n",
       "3           NaN      0.0            Санкт-Петербург           28098.0   \n",
       "4         41.00      NaN            Санкт-Петербург           31856.0   \n",
       "5          9.10      NaN  городской посёлок Янино-1               NaN   \n",
       "6         14.40      1.0          посёлок Парголово           52996.0   \n",
       "7         18.90      2.0            Санкт-Петербург           23982.0   \n",
       "8          8.81      NaN             посёлок Мурино               NaN   \n",
       "9          6.50      2.0            Санкт-Петербург           50898.0   \n",
       "\n",
       "  cityCenters_nearest  parks_around3000  parks_nearest  ponds_around3000  \\\n",
       "0             16028.0               1.0          482.0               2.0   \n",
       "1             18603.0               0.0            NaN               0.0   \n",
       "2             13933.0               1.0           90.0               2.0   \n",
       "3              6800.0               2.0           84.0               3.0   \n",
       "4              8098.0               2.0          112.0               1.0   \n",
       "5                 NaN               NaN            NaN               NaN   \n",
       "6             19143.0               0.0            NaN               0.0   \n",
       "7             11634.0               0.0            NaN               0.0   \n",
       "8                 NaN               NaN            NaN               NaN   \n",
       "9             15008.0               0.0            NaN               0.0   \n",
       "\n",
       "   ponds_nearest  days_exposition  \n",
       "0          755.0              NaN  \n",
       "1            NaN             81.0  \n",
       "2          574.0            558.0  \n",
       "3          234.0            424.0  \n",
       "4           48.0            121.0  \n",
       "5            NaN             55.0  \n",
       "6            NaN            155.0  \n",
       "7            NaN              NaN  \n",
       "8            NaN            189.0  \n",
       "9            NaN            289.0  \n",
       "\n",
       "[10 rows x 22 columns]"
      ]
     },
     "metadata": {},
     "output_type": "display_data"
    },
    {
     "name": "stdout",
     "output_type": "stream",
     "text": [
      "<class 'pandas.core.frame.DataFrame'>\n",
      "RangeIndex: 23699 entries, 0 to 23698\n",
      "Data columns (total 22 columns):\n",
      "total_images            23699 non-null int64\n",
      "last_price              23699 non-null float64\n",
      "total_area              23699 non-null float64\n",
      "first_day_exposition    23699 non-null object\n",
      "rooms                   23699 non-null int64\n",
      "ceiling_height          14504 non-null float64\n",
      "floors_total            23613 non-null float64\n",
      "living_area             21796 non-null float64\n",
      "floor                   23699 non-null int64\n",
      "is_apartment            2775 non-null object\n",
      "studio                  23699 non-null bool\n",
      "open_plan               23699 non-null bool\n",
      "kitchen_area            21421 non-null float64\n",
      "balcony                 12180 non-null float64\n",
      "locality_name           23650 non-null object\n",
      "airports_nearest        18157 non-null float64\n",
      "cityCenters_nearest     18180 non-null float64\n",
      "parks_around3000        18181 non-null float64\n",
      "parks_nearest           8079 non-null float64\n",
      "ponds_around3000        18181 non-null float64\n",
      "ponds_nearest           9110 non-null float64\n",
      "days_exposition         20518 non-null float64\n",
      "dtypes: bool(2), float64(14), int64(3), object(3)\n",
      "memory usage: 3.7+ MB\n"
     ]
    }
   ],
   "source": [
    "import pandas as pd\n",
    "data = pd.read_csv('/datasets/real_estate_data.csv', sep='\\t') #разделил стоблцы\n",
    "display(data.head(10))\n",
    "data.info()"
   ]
  },
  {
   "cell_type": "markdown",
   "metadata": {},
   "source": [
    "### Вывод\n",
    "1. Сразу заметны пропуски в столбцах 'ceiling_height', 'floors_total', 'living_area', 'is_apartment', \n",
    "'kitchen_area', и всех последующих. В столбце 'rooms' минимальное кол-во комнат= 0.00, что вызывает вопросы, в столбце 'ceiling_height' минимальная высота потолка 1 м., а максимальная = 100м. Минимальная жилая площадь = 2 кв м,  Таких квартир не бывает. Дальность до Аэропорта, до центра, доближайшего парка нужно перевести в км"
   ]
  },
  {
   "cell_type": "markdown",
   "metadata": {},
   "source": [
    "<div class=\"alert alert-success\">\n",
    "<b>✔️ Комментарий ревьюера:</b> \n",
    "<br>Целью первичного анализа данных является выявление проблем с данными, с которыми нужно будет поработать. Чем больше всего мы найдём в этом шаге, тем лучше сможем построить дальнейший план работы и понять с чем нам стоит работать, а на что можно закрыть глаза.\n",
    "</div>\n",
    "\n",
    "<div class=\"alert alert-warning\">\n",
    "<b>⚠️ Комментарий ревьюера:</b> \n",
    "<b>Что можно сделать ещё:</b> \n",
    "<br>- Применить метод describe(). Он покажет разброс значений, среднюю стоимость и медиану  \n",
    "<br>- Указать столбцы, в которых стоит заменить тип данных\n",
    "<br>- Проверить наличие дубликатов    \n",
    "<br>- Посмотреть долю пропущенных значений среди всех данных\n",
    "    \n",
    "\tdf.isna().mean()\n",
    "</div>"
   ]
  },
  {
   "cell_type": "markdown",
   "metadata": {},
   "source": [
    "## Предобработка данных"
   ]
  },
  {
   "cell_type": "code",
   "execution_count": 2,
   "metadata": {},
   "outputs": [
    {
     "data": {
      "text/plain": [
       "total_images             0\n",
       "last_price               0\n",
       "total_area               0\n",
       "first_day_exposition     0\n",
       "rooms                    0\n",
       "ceiling_height           0\n",
       "floors_total             0\n",
       "living_area              0\n",
       "floor                    0\n",
       "is_apartment             0\n",
       "studio                   0\n",
       "open_plan                0\n",
       "kitchen_area             0\n",
       "balcony                  0\n",
       "locality_name           49\n",
       "airports_nearest         0\n",
       "city_centers_nearest     0\n",
       "parks_around3000         0\n",
       "parks_nearest            0\n",
       "ponds_around3000         0\n",
       "ponds_nearest            0\n",
       "days_exposition          0\n",
       "dtype: int64"
      ]
     },
     "metadata": {},
     "output_type": "display_data"
    },
    {
     "data": {
      "text/plain": [
       "0"
      ]
     },
     "execution_count": 2,
     "metadata": {},
     "output_type": "execute_result"
    }
   ],
   "source": [
    "data.columns\n",
    "data.isna().sum() # определяем кол-во пропусков в каждом столбце\n",
    "data = data.rename(columns={'cityCenters_nearest': 'city_centers_nearest'}) # привел название столбца к змеиному регистру\n",
    "data['ceiling_height'] = data['ceiling_height'].fillna(data['ceiling_height'].mean())\n",
    "data['floors_total'] = data['floors_total'].fillna(data['floors_total'].median()) # медиана, так как могут быть высокоэтажные строения и это может исказить общую картину\n",
    "data['living_area'] = data['living_area'].fillna(data['living_area'].median()) # та же причина\n",
    "data['kitchen_area'] = data['kitchen_area'].fillna(data['kitchen_area'].median())\n",
    "data['balcony'] = data['balcony'].fillna(0)\n",
    "data['city_centers_nearest'] = data['city_centers_nearest'].fillna(data['city_centers_nearest'].mean())# до центра выборка релевантно большая как в минимальных так и в максимальных значениях\n",
    "data['airports_nearest'] = data['airports_nearest'].fillna(0) # их может не быть вовсе\n",
    "data['parks_around3000'] = data['parks_around3000'].fillna(0) # тоже самое\n",
    "data['parks_nearest'] = data['parks_nearest'].fillna(data['parks_nearest'].mean()) # расстояние релевантно усреднить\n",
    "data['ponds_around3000'] = data['ponds_around3000'].fillna(0) # пруда может не оказаться\n",
    "data['ponds_nearest'] = data['ponds_nearest'].fillna(data['ponds_nearest'].mean())\n",
    "data['days_exposition'] = data['days_exposition'].fillna(data['days_exposition'].median())\n",
    "data['is_apartment'] = data['is_apartment'].fillna(0)\n",
    "display(data.isna().sum())\n",
    "data.duplicated().sum() #проверил наличие дубликатов\n"
   ]
  },
  {
   "cell_type": "markdown",
   "metadata": {},
   "source": [
    "# Вывод 2.1\n",
    "1. 'cityCenters_nearest' приводим в змеиный регистр\n",
    "2. в столбцах 'is_apartment' и 'locality_name' не нужно убирать пропуски, так как заменить их не на что. Тип партаментов - булево значение, а значит, мы не можем его усреднить или проставить на свое усмотрение, так как это сильно исказит отчет заказчика. Название населенного пункта также придумывать нельзя и заменить все пропуски на Ленинградскую область тоже не корректно, так как объект может оказаться на территории Санкт-Петербурга.\n",
    "\n"
   ]
  },
  {
   "cell_type": "markdown",
   "metadata": {},
   "source": [
    "<div class=\"alert alert-success\">\n",
    "<b>✔️ Комментарий ревьюера:</b> \n",
    "<br><i>привел название столбца к змеиному регистру</i> - Молодец! Так датафрейм будет более аккуратным\n",
    "</div>"
   ]
  },
  {
   "cell_type": "markdown",
   "metadata": {},
   "source": [
    "<div class=\"alert alert-warning\">\n",
    "<b>⚠️ Комментарий ревьюера:</b> \n",
    "    <br><i>ceiling_height</i> - Среднее более чувствительно к выбросам чем медиана, но оптимальным решением здесь будет использовать моду - значение высоты потолков, которое встречается чаще всего.\n",
    "</div>"
   ]
  },
  {
   "cell_type": "markdown",
   "metadata": {},
   "source": [
    "<div class=\"alert alert-success\">\n",
    "<b>✔️ Комментарий ревьюера:</b> \n",
    "<br><i>floors_total</i> - Верно! Как вариант, пропуски можно заменить на этаж, на котором расположена квартира\n",
    "</div>"
   ]
  },
  {
   "cell_type": "markdown",
   "metadata": {},
   "source": [
    "<div class=\"alert alert-warning\">\n",
    "<b>⚠️ Комментарий ревьюера:</b> \n",
    "    <br><i>living_area</i> - В таком случае, нужно проверить чтобы жилая площадь не была больше общей\n",
    "</div>"
   ]
  },
  {
   "cell_type": "markdown",
   "metadata": {},
   "source": [
    "<div class=\"alert alert-success\">\n",
    "<b>✔️ Комментарий ревьюера:</b> \n",
    "<br>По остальным столбцам всё ок.\n",
    "</div>"
   ]
  },
  {
   "cell_type": "markdown",
   "metadata": {},
   "source": [
    "<div class=\"alert alert-danger\">\n",
    "<b>❌ Комментарий ревьюера:</b> \n",
    "<br>Нужно ещё заменить пропуски is_apartment\n",
    "</div>"
   ]
  },
  {
   "cell_type": "markdown",
   "metadata": {},
   "source": [
    "<div class=\"alert alert-info\">\n",
    "<b>Комментарий студента:</b>\n",
    "<br>заменил пропуски столбца 'is_apartent' на ноль, так как мы не можем предполагать какой вид объекта в каждом пропущеном случае\n"
   ]
  },
  {
   "cell_type": "markdown",
   "metadata": {},
   "source": [
    "<div class=\"alert alert-success\">\n",
    "<b>✔️ Комментарий ревьюера v2:</b>\n",
    "<br>👍\n",
    "</div>"
   ]
  },
  {
   "cell_type": "markdown",
   "metadata": {},
   "source": [
    "# Замена типа данных и приведение больших значений в маленькие"
   ]
  },
  {
   "cell_type": "code",
   "execution_count": 3,
   "metadata": {},
   "outputs": [
    {
     "name": "stdout",
     "output_type": "stream",
     "text": [
      "<class 'pandas.core.frame.DataFrame'>\n",
      "RangeIndex: 23699 entries, 0 to 23698\n",
      "Data columns (total 22 columns):\n",
      "total_images            23699 non-null int64\n",
      "last_price              23699 non-null float64\n",
      "total_area              23699 non-null float64\n",
      "first_day_exposition    23699 non-null object\n",
      "rooms                   23699 non-null int64\n",
      "ceiling_height          23699 non-null float64\n",
      "floors_total            23699 non-null int64\n",
      "living_area             23699 non-null float64\n",
      "floor                   23699 non-null int64\n",
      "is_apartment            23699 non-null object\n",
      "studio                  23699 non-null bool\n",
      "open_plan               23699 non-null bool\n",
      "kitchen_area            23699 non-null float64\n",
      "balcony                 23699 non-null int64\n",
      "locality_name           23650 non-null object\n",
      "airports_nearest        23699 non-null int64\n",
      "city_centers_nearest    23699 non-null int64\n",
      "parks_around3000        23699 non-null int64\n",
      "parks_nearest           23699 non-null int64\n",
      "ponds_around3000        23699 non-null int64\n",
      "ponds_nearest           23699 non-null int64\n",
      "days_exposition         23699 non-null int64\n",
      "dtypes: bool(2), float64(5), int64(12), object(3)\n",
      "memory usage: 3.7+ MB\n"
     ]
    }
   ],
   "source": [
    "data['last_price'] = (data['last_price'] / 1000000)# миллионы приводим в дробные вещественные значения для дальнейшего удобства \n",
    "data['floors_total'] = data['floors_total'].astype('int') # меняем на целые значения\n",
    "data['balcony'] = data['balcony'].astype('int')\n",
    "data['airports_nearest'] = (data['airports_nearest'] / 1000).astype('int') #переводим метры в км\n",
    "data['city_centers_nearest'] = (data['city_centers_nearest'] / 1000).astype('int')\n",
    "data['ponds_around3000'] = data['ponds_around3000'].astype('int')\n",
    "data['parks_around3000'] = data['parks_around3000'].astype('int')\n",
    "data['parks_nearest'] = (data['parks_nearest'] / 1000).astype('int')\n",
    "data['ponds_nearest'] = (data['ponds_nearest'] / 1000).astype('int')\n",
    "data['days_exposition'] = data['days_exposition'].astype('int')\n",
    "data.info() "
   ]
  },
  {
   "cell_type": "markdown",
   "metadata": {},
   "source": [
    "<div class=\"alert alert-warning\">\n",
    "<b>⚠️ Комментарий ревьюера:</b> \n",
    "<br>Если нам нужно провести замену типов данных в нескольких столбцах, то можно применить цикл for для автоматизации процесса\n",
    "</div>\n",
    "\n",
    "<div class=\"alert alert-warning\">\n",
    "<b>⚠️ Комментарий ревьюера:</b> \n",
    "<br>А ещё тут можно сменить тип данных в столбце last_price\n",
    "</div>"
   ]
  },
  {
   "cell_type": "markdown",
   "metadata": {},
   "source": [
    "# Вывод 2.2\n",
    "Для удобства работы перевели большинство float в int, при этом цену, общую площадь жилья, жилую площадь, площадь кухни и высоту потолков оставил в вещественном типе, так как в этих столбцах важнее смотреть дроби, ибо они могут оказаться ключевыми для выбора жилья\n"
   ]
  },
  {
   "cell_type": "markdown",
   "metadata": {},
   "source": [
    "## Расчёты и добавление результатов в таблицу"
   ]
  },
  {
   "cell_type": "code",
   "execution_count": 4,
   "metadata": {},
   "outputs": [
    {
     "data": {
      "text/html": [
       "<div>\n",
       "<style scoped>\n",
       "    .dataframe tbody tr th:only-of-type {\n",
       "        vertical-align: middle;\n",
       "    }\n",
       "\n",
       "    .dataframe tbody tr th {\n",
       "        vertical-align: top;\n",
       "    }\n",
       "\n",
       "    .dataframe thead th {\n",
       "        text-align: right;\n",
       "    }\n",
       "</style>\n",
       "<table border=\"1\" class=\"dataframe\">\n",
       "  <thead>\n",
       "    <tr style=\"text-align: right;\">\n",
       "      <th></th>\n",
       "      <th>total_images</th>\n",
       "      <th>last_price</th>\n",
       "      <th>total_area</th>\n",
       "      <th>first_day_exposition</th>\n",
       "      <th>rooms</th>\n",
       "      <th>ceiling_height</th>\n",
       "      <th>floors_total</th>\n",
       "      <th>living_area</th>\n",
       "      <th>floor</th>\n",
       "      <th>is_apartment</th>\n",
       "      <th>...</th>\n",
       "      <th>locality_name</th>\n",
       "      <th>airports_nearest</th>\n",
       "      <th>city_centers_nearest</th>\n",
       "      <th>parks_around3000</th>\n",
       "      <th>parks_nearest</th>\n",
       "      <th>ponds_around3000</th>\n",
       "      <th>ponds_nearest</th>\n",
       "      <th>days_exposition</th>\n",
       "      <th>meter_price</th>\n",
       "      <th>floor_groups</th>\n",
       "    </tr>\n",
       "  </thead>\n",
       "  <tbody>\n",
       "    <tr>\n",
       "      <td>0</td>\n",
       "      <td>20</td>\n",
       "      <td>13.000</td>\n",
       "      <td>108.0</td>\n",
       "      <td>2019-03-07</td>\n",
       "      <td>3</td>\n",
       "      <td>2.700000</td>\n",
       "      <td>16</td>\n",
       "      <td>51.0</td>\n",
       "      <td>8</td>\n",
       "      <td>0</td>\n",
       "      <td>...</td>\n",
       "      <td>Санкт-Петербург</td>\n",
       "      <td>18</td>\n",
       "      <td>16</td>\n",
       "      <td>1</td>\n",
       "      <td>0</td>\n",
       "      <td>2</td>\n",
       "      <td>0</td>\n",
       "      <td>95</td>\n",
       "      <td>0.120370</td>\n",
       "      <td>другой</td>\n",
       "    </tr>\n",
       "    <tr>\n",
       "      <td>1</td>\n",
       "      <td>7</td>\n",
       "      <td>3.350</td>\n",
       "      <td>40.4</td>\n",
       "      <td>2018-12-04</td>\n",
       "      <td>1</td>\n",
       "      <td>2.771499</td>\n",
       "      <td>11</td>\n",
       "      <td>18.6</td>\n",
       "      <td>1</td>\n",
       "      <td>0</td>\n",
       "      <td>...</td>\n",
       "      <td>посёлок Шушары</td>\n",
       "      <td>12</td>\n",
       "      <td>18</td>\n",
       "      <td>0</td>\n",
       "      <td>0</td>\n",
       "      <td>0</td>\n",
       "      <td>0</td>\n",
       "      <td>81</td>\n",
       "      <td>0.082921</td>\n",
       "      <td>первый</td>\n",
       "    </tr>\n",
       "    <tr>\n",
       "      <td>2</td>\n",
       "      <td>10</td>\n",
       "      <td>5.196</td>\n",
       "      <td>56.0</td>\n",
       "      <td>2015-08-20</td>\n",
       "      <td>2</td>\n",
       "      <td>2.771499</td>\n",
       "      <td>5</td>\n",
       "      <td>34.3</td>\n",
       "      <td>4</td>\n",
       "      <td>0</td>\n",
       "      <td>...</td>\n",
       "      <td>Санкт-Петербург</td>\n",
       "      <td>21</td>\n",
       "      <td>13</td>\n",
       "      <td>1</td>\n",
       "      <td>0</td>\n",
       "      <td>2</td>\n",
       "      <td>0</td>\n",
       "      <td>558</td>\n",
       "      <td>0.092786</td>\n",
       "      <td>другой</td>\n",
       "    </tr>\n",
       "    <tr>\n",
       "      <td>3</td>\n",
       "      <td>0</td>\n",
       "      <td>64.900</td>\n",
       "      <td>159.0</td>\n",
       "      <td>2015-07-24</td>\n",
       "      <td>3</td>\n",
       "      <td>2.771499</td>\n",
       "      <td>14</td>\n",
       "      <td>30.0</td>\n",
       "      <td>9</td>\n",
       "      <td>0</td>\n",
       "      <td>...</td>\n",
       "      <td>Санкт-Петербург</td>\n",
       "      <td>28</td>\n",
       "      <td>6</td>\n",
       "      <td>2</td>\n",
       "      <td>0</td>\n",
       "      <td>3</td>\n",
       "      <td>0</td>\n",
       "      <td>424</td>\n",
       "      <td>0.408176</td>\n",
       "      <td>другой</td>\n",
       "    </tr>\n",
       "    <tr>\n",
       "      <td>4</td>\n",
       "      <td>2</td>\n",
       "      <td>10.000</td>\n",
       "      <td>100.0</td>\n",
       "      <td>2018-06-19</td>\n",
       "      <td>2</td>\n",
       "      <td>3.030000</td>\n",
       "      <td>14</td>\n",
       "      <td>32.0</td>\n",
       "      <td>13</td>\n",
       "      <td>0</td>\n",
       "      <td>...</td>\n",
       "      <td>Санкт-Петербург</td>\n",
       "      <td>31</td>\n",
       "      <td>8</td>\n",
       "      <td>2</td>\n",
       "      <td>0</td>\n",
       "      <td>1</td>\n",
       "      <td>0</td>\n",
       "      <td>121</td>\n",
       "      <td>0.100000</td>\n",
       "      <td>другой</td>\n",
       "    </tr>\n",
       "  </tbody>\n",
       "</table>\n",
       "<p>5 rows × 24 columns</p>\n",
       "</div>"
      ],
      "text/plain": [
       "   total_images  last_price  total_area first_day_exposition  rooms  \\\n",
       "0            20      13.000       108.0           2019-03-07      3   \n",
       "1             7       3.350        40.4           2018-12-04      1   \n",
       "2            10       5.196        56.0           2015-08-20      2   \n",
       "3             0      64.900       159.0           2015-07-24      3   \n",
       "4             2      10.000       100.0           2018-06-19      2   \n",
       "\n",
       "   ceiling_height  floors_total  living_area  floor is_apartment  ...  \\\n",
       "0        2.700000            16         51.0      8            0  ...   \n",
       "1        2.771499            11         18.6      1            0  ...   \n",
       "2        2.771499             5         34.3      4            0  ...   \n",
       "3        2.771499            14         30.0      9            0  ...   \n",
       "4        3.030000            14         32.0     13            0  ...   \n",
       "\n",
       "     locality_name  airports_nearest  city_centers_nearest  parks_around3000  \\\n",
       "0  Санкт-Петербург                18                    16                 1   \n",
       "1   посёлок Шушары                12                    18                 0   \n",
       "2  Санкт-Петербург                21                    13                 1   \n",
       "3  Санкт-Петербург                28                     6                 2   \n",
       "4  Санкт-Петербург                31                     8                 2   \n",
       "\n",
       "  parks_nearest  ponds_around3000  ponds_nearest  days_exposition  \\\n",
       "0             0                 2              0               95   \n",
       "1             0                 0              0               81   \n",
       "2             0                 2              0              558   \n",
       "3             0                 3              0              424   \n",
       "4             0                 1              0              121   \n",
       "\n",
       "   meter_price  floor_groups  \n",
       "0     0.120370        другой  \n",
       "1     0.082921        первый  \n",
       "2     0.092786        другой  \n",
       "3     0.408176        другой  \n",
       "4     0.100000        другой  \n",
       "\n",
       "[5 rows x 24 columns]"
      ]
     },
     "metadata": {},
     "output_type": "display_data"
    }
   ],
   "source": [
    "#data.head()\n",
    "data['meter_price'] = data['last_price'] / data['total_area'] #добавил столбец с ценой за метр квадратный\n",
    "data['first_day_exposition'] = pd.to_datetime(data['first_day_exposition'],\n",
    "format='%Y.%m.%d %H:%M:%S')# перевел строчные значения в дату\n",
    "\n",
    "def floor_groups(i): #создаем функцию для категоризации по этажности\n",
    "    if i['floor'] == 1:\n",
    "        return 'первый'\n",
    "    if i['floor'] == i['floors_total']:\n",
    "        return 'последний'   \n",
    "    return 'другой'        \n",
    "data['floor_groups'] = data.apply(floor_groups, axis=1) # создаем новый столбец с категориями по 'этажности'\n",
    "#pd.to_numeric(data['floor_groups'], errors='ignore')\n",
    "#data['floor_groups'] = data['floor_groups'].astype('int')\n",
    "display(data.head())\n",
    "\n"
   ]
  },
  {
   "cell_type": "markdown",
   "metadata": {},
   "source": [
    "<div class=\"alert alert-danger\">\n",
    "<b>❌ Комментарий ревьюера:</b> \n",
    "<br>По заданию нужна другая категоризация для этажности: первый, последний, другой. Поправь, пожалуйста\n",
    "</div>"
   ]
  },
  {
   "cell_type": "markdown",
   "metadata": {},
   "source": [
    "<div class=\"alert alert-info\">\n",
    "<b>Комментарий студента:</b>\n",
    "<br>заменил категоризацию согласно заданию\n"
   ]
  },
  {
   "cell_type": "markdown",
   "metadata": {},
   "source": [
    "<div class=\"alert alert-success\">\n",
    "<b>✔️ Комментарий ревьюера v2:</b>\n",
    "<br>👍\n",
    "</div>"
   ]
  },
  {
   "cell_type": "code",
   "execution_count": 5,
   "metadata": {},
   "outputs": [
    {
     "data": {
      "text/html": [
       "<div>\n",
       "<style scoped>\n",
       "    .dataframe tbody tr th:only-of-type {\n",
       "        vertical-align: middle;\n",
       "    }\n",
       "\n",
       "    .dataframe tbody tr th {\n",
       "        vertical-align: top;\n",
       "    }\n",
       "\n",
       "    .dataframe thead th {\n",
       "        text-align: right;\n",
       "    }\n",
       "</style>\n",
       "<table border=\"1\" class=\"dataframe\">\n",
       "  <thead>\n",
       "    <tr style=\"text-align: right;\">\n",
       "      <th></th>\n",
       "      <th>total_images</th>\n",
       "      <th>last_price</th>\n",
       "      <th>total_area</th>\n",
       "      <th>first_day_exposition</th>\n",
       "      <th>rooms</th>\n",
       "      <th>ceiling_height</th>\n",
       "      <th>floors_total</th>\n",
       "      <th>living_area</th>\n",
       "      <th>floor</th>\n",
       "      <th>is_apartment</th>\n",
       "      <th>...</th>\n",
       "      <th>city_centers_nearest</th>\n",
       "      <th>parks_around3000</th>\n",
       "      <th>parks_nearest</th>\n",
       "      <th>ponds_around3000</th>\n",
       "      <th>ponds_nearest</th>\n",
       "      <th>days_exposition</th>\n",
       "      <th>meter_price</th>\n",
       "      <th>floor_groups</th>\n",
       "      <th>living_percent</th>\n",
       "      <th>kitchen_percent</th>\n",
       "    </tr>\n",
       "  </thead>\n",
       "  <tbody>\n",
       "    <tr>\n",
       "      <td>0</td>\n",
       "      <td>20</td>\n",
       "      <td>13.000</td>\n",
       "      <td>108.0</td>\n",
       "      <td>2019-03-07</td>\n",
       "      <td>3</td>\n",
       "      <td>2.700000</td>\n",
       "      <td>16</td>\n",
       "      <td>51.0</td>\n",
       "      <td>8</td>\n",
       "      <td>0</td>\n",
       "      <td>...</td>\n",
       "      <td>16</td>\n",
       "      <td>1</td>\n",
       "      <td>0</td>\n",
       "      <td>2</td>\n",
       "      <td>0</td>\n",
       "      <td>95</td>\n",
       "      <td>0.120370</td>\n",
       "      <td>другой</td>\n",
       "      <td>0.472222</td>\n",
       "      <td>0.231481</td>\n",
       "    </tr>\n",
       "    <tr>\n",
       "      <td>1</td>\n",
       "      <td>7</td>\n",
       "      <td>3.350</td>\n",
       "      <td>40.4</td>\n",
       "      <td>2018-12-04</td>\n",
       "      <td>1</td>\n",
       "      <td>2.771499</td>\n",
       "      <td>11</td>\n",
       "      <td>18.6</td>\n",
       "      <td>1</td>\n",
       "      <td>0</td>\n",
       "      <td>...</td>\n",
       "      <td>18</td>\n",
       "      <td>0</td>\n",
       "      <td>0</td>\n",
       "      <td>0</td>\n",
       "      <td>0</td>\n",
       "      <td>81</td>\n",
       "      <td>0.082921</td>\n",
       "      <td>первый</td>\n",
       "      <td>0.460396</td>\n",
       "      <td>0.272277</td>\n",
       "    </tr>\n",
       "    <tr>\n",
       "      <td>2</td>\n",
       "      <td>10</td>\n",
       "      <td>5.196</td>\n",
       "      <td>56.0</td>\n",
       "      <td>2015-08-20</td>\n",
       "      <td>2</td>\n",
       "      <td>2.771499</td>\n",
       "      <td>5</td>\n",
       "      <td>34.3</td>\n",
       "      <td>4</td>\n",
       "      <td>0</td>\n",
       "      <td>...</td>\n",
       "      <td>13</td>\n",
       "      <td>1</td>\n",
       "      <td>0</td>\n",
       "      <td>2</td>\n",
       "      <td>0</td>\n",
       "      <td>558</td>\n",
       "      <td>0.092786</td>\n",
       "      <td>другой</td>\n",
       "      <td>0.612500</td>\n",
       "      <td>0.148214</td>\n",
       "    </tr>\n",
       "    <tr>\n",
       "      <td>3</td>\n",
       "      <td>0</td>\n",
       "      <td>64.900</td>\n",
       "      <td>159.0</td>\n",
       "      <td>2015-07-24</td>\n",
       "      <td>3</td>\n",
       "      <td>2.771499</td>\n",
       "      <td>14</td>\n",
       "      <td>30.0</td>\n",
       "      <td>9</td>\n",
       "      <td>0</td>\n",
       "      <td>...</td>\n",
       "      <td>6</td>\n",
       "      <td>2</td>\n",
       "      <td>0</td>\n",
       "      <td>3</td>\n",
       "      <td>0</td>\n",
       "      <td>424</td>\n",
       "      <td>0.408176</td>\n",
       "      <td>другой</td>\n",
       "      <td>0.188679</td>\n",
       "      <td>0.057233</td>\n",
       "    </tr>\n",
       "    <tr>\n",
       "      <td>4</td>\n",
       "      <td>2</td>\n",
       "      <td>10.000</td>\n",
       "      <td>100.0</td>\n",
       "      <td>2018-06-19</td>\n",
       "      <td>2</td>\n",
       "      <td>3.030000</td>\n",
       "      <td>14</td>\n",
       "      <td>32.0</td>\n",
       "      <td>13</td>\n",
       "      <td>0</td>\n",
       "      <td>...</td>\n",
       "      <td>8</td>\n",
       "      <td>2</td>\n",
       "      <td>0</td>\n",
       "      <td>1</td>\n",
       "      <td>0</td>\n",
       "      <td>121</td>\n",
       "      <td>0.100000</td>\n",
       "      <td>другой</td>\n",
       "      <td>0.320000</td>\n",
       "      <td>0.410000</td>\n",
       "    </tr>\n",
       "  </tbody>\n",
       "</table>\n",
       "<p>5 rows × 26 columns</p>\n",
       "</div>"
      ],
      "text/plain": [
       "   total_images  last_price  total_area first_day_exposition  rooms  \\\n",
       "0            20      13.000       108.0           2019-03-07      3   \n",
       "1             7       3.350        40.4           2018-12-04      1   \n",
       "2            10       5.196        56.0           2015-08-20      2   \n",
       "3             0      64.900       159.0           2015-07-24      3   \n",
       "4             2      10.000       100.0           2018-06-19      2   \n",
       "\n",
       "   ceiling_height  floors_total  living_area  floor is_apartment  ...  \\\n",
       "0        2.700000            16         51.0      8            0  ...   \n",
       "1        2.771499            11         18.6      1            0  ...   \n",
       "2        2.771499             5         34.3      4            0  ...   \n",
       "3        2.771499            14         30.0      9            0  ...   \n",
       "4        3.030000            14         32.0     13            0  ...   \n",
       "\n",
       "   city_centers_nearest  parks_around3000  parks_nearest  ponds_around3000  \\\n",
       "0                    16                 1              0                 2   \n",
       "1                    18                 0              0                 0   \n",
       "2                    13                 1              0                 2   \n",
       "3                     6                 2              0                 3   \n",
       "4                     8                 2              0                 1   \n",
       "\n",
       "  ponds_nearest  days_exposition  meter_price  floor_groups  living_percent  \\\n",
       "0             0               95     0.120370        другой        0.472222   \n",
       "1             0               81     0.082921        первый        0.460396   \n",
       "2             0              558     0.092786        другой        0.612500   \n",
       "3             0              424     0.408176        другой        0.188679   \n",
       "4             0              121     0.100000        другой        0.320000   \n",
       "\n",
       "   kitchen_percent  \n",
       "0         0.231481  \n",
       "1         0.272277  \n",
       "2         0.148214  \n",
       "3         0.057233  \n",
       "4         0.410000  \n",
       "\n",
       "[5 rows x 26 columns]"
      ]
     },
     "metadata": {},
     "output_type": "display_data"
    }
   ],
   "source": [
    "data['living_percent'] = data['living_area'] / data['total_area'] # создаем столбец с долей жилой площади от общей\n",
    "data['kitchen_percent'] = data['kitchen_area'] / data['total_area'] # создаем столбец с долей площади кухни от общей\n",
    "display(data.head())"
   ]
  },
  {
   "cell_type": "markdown",
   "metadata": {},
   "source": [
    "# Вывод \n",
    "1. для корректного исследовательского анализа необходимо добавить несколько столбцов с расчетными данными, а также перевести значения с датой и временем в нужный режим \n",
    "2. добавили цену за кв м, перевели значения стобца 'first_day_exposition' в режим date\n",
    "3. добавили стоблцы с долей жилой и кухонной площади\n",
    "4. через функцию сгруппировали данные по этажам: можно посмотреть стоимость квартир первых этажей и последних. Остальные под категорией 'другое'"
   ]
  },
  {
   "cell_type": "markdown",
   "metadata": {},
   "source": [
    "<div class=\"alert alert-success\">\n",
    "<b>✔️ Комментарий ревьюера:</b> \n",
    "<br>Супер! Тут почти всё верно)\n",
    "</div>"
   ]
  },
  {
   "cell_type": "markdown",
   "metadata": {},
   "source": [
    "## Исследовательский анализ данных"
   ]
  },
  {
   "cell_type": "code",
   "execution_count": 6,
   "metadata": {},
   "outputs": [
    {
     "data": {
      "text/plain": [
       "count    23699.000000\n",
       "mean         6.541549\n",
       "std         10.887013\n",
       "min          0.012190\n",
       "25%          3.400000\n",
       "50%          4.650000\n",
       "75%          6.800000\n",
       "max        763.000000\n",
       "Name: last_price, dtype: float64"
      ]
     },
     "execution_count": 6,
     "metadata": {},
     "output_type": "execute_result"
    },
    {
     "data": {
      "image/png": "[encoded data removed]",
      "text/plain": [
       "<Figure size 432x288 with 1 Axes>"
      ]
     },
     "metadata": {
      "needs_background": "light"
     },
     "output_type": "display_data"
    }
   ],
   "source": [
    "data['last_price'].describe()\n",
    "data['last_price'].hist(bins=100, range = (0, 70)) # больше всего квартир от 4.5 до 7 млн рублей\n",
    "# медиана 4.7 млн, при этом максимальная цена 763 млн, что можетбыть выбросом, как и минимальная цена 0.12 млн р\n",
    "data['last_price'].describe()"
   ]
  },
  {
   "cell_type": "code",
   "execution_count": 7,
   "metadata": {},
   "outputs": [
    {
     "data": {
      "text/plain": [
       "count    23699.000000\n",
       "mean        60.348651\n",
       "std         35.654083\n",
       "min         12.000000\n",
       "25%         40.000000\n",
       "50%         52.000000\n",
       "75%         69.900000\n",
       "max        900.000000\n",
       "Name: total_area, dtype: float64"
      ]
     },
     "execution_count": 7,
     "metadata": {},
     "output_type": "execute_result"
    },
    {
     "data": {
      "image/png": "[encoded data removed]",
      "text/plain": [
       "<Figure size 432x288 with 1 Axes>"
      ]
     },
     "metadata": {
      "needs_background": "light"
     },
     "output_type": "display_data"
    }
   ],
   "source": [
    "data['total_area']. hist(bins=100, range = (0,1000)) # максимальное кол-во прежложений 40-60 кв м. \n",
    "# можно увидеть максимум 900кв м и минимум 12 кв м, что так же можно посчитать выбросами\n",
    "data['total_area'].describe()"
   ]
  },
  {
   "cell_type": "markdown",
   "metadata": {},
   "source": [
    "<div class=\"alert alert-warning\">\n",
    "<b>⚠️ Комментарий ревьюера:</b> \n",
    "<br>12 кв м может быть комнатой\n",
    "</div>"
   ]
  },
  {
   "cell_type": "code",
   "execution_count": 8,
   "metadata": {},
   "outputs": [
    {
     "data": {
      "text/plain": [
       "count    23699.000000\n",
       "mean         2.070636\n",
       "std          1.078405\n",
       "min          0.000000\n",
       "25%          1.000000\n",
       "50%          2.000000\n",
       "75%          3.000000\n",
       "max         19.000000\n",
       "Name: rooms, dtype: float64"
      ]
     },
     "execution_count": 8,
     "metadata": {},
     "output_type": "execute_result"
    },
    {
     "data": {
      "image/png": "[encoded data removed]",
      "text/plain": [
       "<Figure size 432x288 with 1 Axes>"
      ]
     },
     "metadata": {
      "needs_background": "light"
     },
     "output_type": "display_data"
    }
   ],
   "source": [
    "data['rooms'].hist(bins = data['rooms'].max()) # анализ показал, что максимальное кол-во раз предлагали 2-4х комнатные квартиры. \n",
    "# На втором месте по предложению однокомнатные квартиры и полуторки (студии). Выбросы =19 комнатное предложение\n",
    "# и почему-то квартира с нулевым количеством комнат\n",
    "data['rooms'].describe()"
   ]
  },
  {
   "cell_type": "markdown",
   "metadata": {},
   "source": [
    "<div class=\"alert alert-warning\">\n",
    "<b>⚠️ Комментарий ревьюера:</b> \n",
    "<br>Для данного графика можно применить небольшую хитрость: количество корзин = максимальному числу комнат\n",
    "\n",
    "\tdata['rooms'].hist(bins = data['rooms'].max())\n",
    "</div>"
   ]
  },
  {
   "cell_type": "markdown",
   "metadata": {},
   "source": [
    "<div class=\"alert alert-info\">\n",
    "<b>Комментарий студента:</b>\n",
    "<br>заменил на 'max' и стало более информативно. Спасибо!\n",
    "    \n"
   ]
  },
  {
   "cell_type": "markdown",
   "metadata": {},
   "source": [
    "<div class=\"alert alert-warning\">\n",
    "<b>⚠️ Комментарий ревьюера:</b> \n",
    "<br>0 комнат - возможно это студии\n",
    "</div>"
   ]
  },
  {
   "cell_type": "code",
   "execution_count": 9,
   "metadata": {},
   "outputs": [
    {
     "data": {
      "text/plain": [
       "count    23699.000000\n",
       "mean         2.771499\n",
       "std          0.986523\n",
       "min          1.000000\n",
       "25%          2.600000\n",
       "50%          2.771499\n",
       "75%          2.771499\n",
       "max        100.000000\n",
       "Name: ceiling_height, dtype: float64"
      ]
     },
     "execution_count": 9,
     "metadata": {},
     "output_type": "execute_result"
    },
    {
     "data": {
      "image/png": "[encoded data removed]",
      "text/plain": [
       "<Figure size 432x288 with 1 Axes>"
      ]
     },
     "metadata": {
      "needs_background": "light"
     },
     "output_type": "display_data"
    }
   ],
   "source": [
    "data['ceiling_height']. hist(bins=20, range = (0,20)) # в основном все предложения сконцентрированы вокруг\n",
    "# стандартных потолков 2.5 - 2.77 м. При этом есть явные выброс в минимуме 1 м потолок и 100 м потолок. Таких квартир не бывает\n",
    "data['ceiling_height'].describe()"
   ]
  },
  {
   "cell_type": "markdown",
   "metadata": {},
   "source": [
    "<div class=\"alert alert-success\">\n",
    "<b>✔️ Комментарий ревьюера:</b> \n",
    "<br>Да, здесь нужно отбросить значения не только по верхней границе, но и убрать аномально низкие потолки\n",
    "</div>"
   ]
  },
  {
   "cell_type": "markdown",
   "metadata": {},
   "source": [
    "# Вывод 4.1 \n",
    "1. больше всего квартир от 4.5 до 7 млн рублей, медиана 4.7 млн, при этом максимальная цена 763 млн, что можетбыть выбросом, как и минимальная цена 0.12 млн р\n",
    "2. максимальное кол-во прежложений 40-60 кв м. Можно увидеть максимум 900кв м и минимум 12 кв м, что так же можно посчитать выбросами\n",
    "3. анализ показал, что максимальное кол-во раз предлагали 2-4х комнатные квартиры. На втором месте по предложению однокомнатные квартиры и полуторки (студии). Выбросы =19 комнатное предложение и почему-то квартира с нулевым количеством комнат\n",
    "4. в основном все предложения сконцентрированы вокруг стандартных потолков 2.5 - 2.77 м. При этом есть явные выброс в минимуме 1 м потолок и 100 м потолок. Таких квартир не бывает"
   ]
  },
  {
   "cell_type": "markdown",
   "metadata": {},
   "source": [
    "# Исследование длительности продажи, что будет нормальным и не нормальным сроком продажи\n"
   ]
  },
  {
   "cell_type": "code",
   "execution_count": 10,
   "metadata": {},
   "outputs": [
    {
     "data": {
      "text/plain": [
       "count    23699.000000\n",
       "mean       169.360226\n",
       "std        206.535633\n",
       "min          1.000000\n",
       "25%         45.000000\n",
       "50%         95.000000\n",
       "75%        199.000000\n",
       "max       1580.000000\n",
       "Name: days_exposition, dtype: float64"
      ]
     },
     "metadata": {},
     "output_type": "display_data"
    }
   ],
   "source": [
    "display(data['days_exposition'].describe()) # будем считать информативным сроком продажи квартиры\n",
    "# медиану = 95-100 дней, так как среднее дает искаженную картину из-за выбросов. Все что выше 3-х\n",
    "# месяцев - уже долгая продажа"
   ]
  },
  {
   "cell_type": "code",
   "execution_count": 11,
   "metadata": {},
   "outputs": [
    {
     "data": {
      "text/plain": [
       "<matplotlib.axes._subplots.AxesSubplot at 0x7f82227a7d10>"
      ]
     },
     "execution_count": 11,
     "metadata": {},
     "output_type": "execute_result"
    },
    {
     "data": {
      "image/png": "[encoded data removed]",
      "text/plain": [
       "<Figure size 432x288 with 1 Axes>"
      ]
     },
     "metadata": {
      "needs_background": "light"
     },
     "output_type": "display_data"
    }
   ],
   "source": [
    "data['days_exposition'].hist(bins=100, range = (0, 1600))"
   ]
  },
  {
   "cell_type": "code",
   "execution_count": 12,
   "metadata": {
    "scrolled": true
   },
   "outputs": [],
   "source": [
    "#data.query('(days_exposition > 400)').sort_values(by='last_price', ascending=False) #сделали срез по долгим продажам\n",
    "# и отсортировали по цене. Взяли продажу больше года как показатель очень долгой продажи.\n",
    "# удивительно, что долго продаются не только квартиры с высоким ценником за квадрат и большой площадью,\n",
    "# но и квартиры с крайне низкой ценой и площадью в среднем 30-40 кв м.\n",
    "#для корректной работы необходимо избавиться от выбросов 'days_exposition' и очистить data frame от максимальной цены продажи\n",
    "# = 763 млн р\n",
    "data = data.query('(days_exposition < 400) and (last_price < 200)').sort_values(by='last_price', ascending=False)\n",
    "data = data.query('(1 < ceiling_height <= 3) and (total_area < 900) and (rooms < 19)').sort_values(by='total_area', ascending=False)\n",
    "#display(data['total_area'].min(), data['total_area'].max(), data['last_price'].min(), data['last_price'].max(),\n",
    "      # data['rooms'].min(), data['rooms'].max(), data['ceiling_height'].min(), data['ceiling_height'].max())"
   ]
  },
  {
   "cell_type": "markdown",
   "metadata": {},
   "source": [
    "# Вывод 4.2 \n",
    "1. будем считать информативным сроком продажи квартиры медиану = 95-100 дней, так как среднее дает искаженную картину из-за выбросов. Все что выше 3-х месяцев - уже долгая продажа\n",
    "2. сделали срез по долгим продажам и отсортировали по цене. Взяли продажу больше года как показатель очень долгой продажи. Удивительно, что долго продаются не только квартиры с высоким ценником за квадрат и большой площадью, но и квартиры с крайне низкой ценой и площадью в среднем 30-40 кв м. Для корректной работы необходимо избавиться от выбросов 'days_exposition' и очистить data frame от максимальной цены продажи = 763 млн р"
   ]
  },
  {
   "cell_type": "markdown",
   "metadata": {},
   "source": [
    "<div class=\"alert alert-danger\">\n",
    "<b>❌ Комментарий ревьюера:</b> \n",
    "<br>Всё супер, только теперь нужно обновить наш датафрейм, отбросив аномальные значения по каждому из параметров и уже дальше работать с ним.\n",
    "</div>"
   ]
  },
  {
   "cell_type": "markdown",
   "metadata": {},
   "source": [
    "<div class=\"alert alert-info\">\n",
    "<b>Комментарий студента:</b>\n",
    "<br>обновил data при помощи метода 'query', \"срезал\" все выбросы\n",
    "    \n"
   ]
  },
  {
   "cell_type": "markdown",
   "metadata": {},
   "source": [
    "<div class=\"alert alert-success\">\n",
    "<b>✔️ Комментарий ревьюера v2:</b>\n",
    "<br>👍\n",
    "</div>"
   ]
  },
  {
   "cell_type": "markdown",
   "metadata": {},
   "source": [
    "# Исследование зависимости цены от площади, кол-ва комнат, этажности и удаленности от центра\n"
   ]
  },
  {
   "cell_type": "code",
   "execution_count": 13,
   "metadata": {},
   "outputs": [
    {
     "data": {
      "text/plain": [
       "<matplotlib.axes._subplots.AxesSubplot at 0x7f822278b890>"
      ]
     },
     "execution_count": 13,
     "metadata": {},
     "output_type": "execute_result"
    },
    {
     "data": {
      "image/png": "[encoded data removed]",
      "text/plain": [
       "<Figure size 720x360 with 1 Axes>"
      ]
     },
     "metadata": {
      "needs_background": "light"
     },
     "output_type": "display_data"
    }
   ],
   "source": [
    "(data.plot(title='зависимость от площади', x='total_area', y='last_price',\n",
    "          xlim=(0, 700), ylim=(0, 250), style='o', grid=True, figsize=(10, 5))\n",
    ") # прослеживается прямая зависимость цены от площади по большинству предложений, однако не по всем.\n",
    "# Уже начиная от значений площади 100 - 200 кв м прослеживается сильное повышение цены и эта разница растет \n",
    "# с предложениями где площадь растет более чем на 100 кв м. При этом очевидно, что квартиры с большой площадью не всегда \n",
    "# имеют пропорционально высокую цену."
   ]
  },
  {
   "cell_type": "code",
   "execution_count": 14,
   "metadata": {},
   "outputs": [
    {
     "data": {
      "text/plain": [
       "<matplotlib.axes._subplots.AxesSubplot at 0x7f822257f690>"
      ]
     },
     "execution_count": 14,
     "metadata": {},
     "output_type": "execute_result"
    },
    {
     "data": {
      "image/png": "[encoded data removed]",
      "text/plain": [
       "<Figure size 720x360 with 1 Axes>"
      ]
     },
     "metadata": {
      "needs_background": "light"
     },
     "output_type": "display_data"
    }
   ],
   "source": [
    "(data.plot(title='зависимость от кол-ва комнат', x='rooms', y='last_price',\n",
    "         xlim=(0,18), ylim=(0, 250), style='o', grid=True, figsize=(10, 5))\n",
    ")\n",
    "# положительная корреляция между кол-вом комнат и ценой наблюдается от 1 команты до 6-ти. \n",
    "# Максимальное кол-во предложений по 4,5,6 комнатным квартирам одновременно самая высокая цена (свыше 150 млн) \n",
    "# также за 5,6 комант. Далее кол-во комнат уже не показывают положительную корреляцию к цене."
   ]
  },
  {
   "cell_type": "code",
   "execution_count": 15,
   "metadata": {},
   "outputs": [
    {
     "data": {
      "text/plain": [
       "<matplotlib.axes._subplots.AxesSubplot at 0x7f82224bd2d0>"
      ]
     },
     "execution_count": 15,
     "metadata": {},
     "output_type": "execute_result"
    },
    {
     "data": {
      "image/png": "[encoded data removed]",
      "text/plain": [
       "<Figure size 360x360 with 1 Axes>"
      ]
     },
     "metadata": {
      "needs_background": "light"
     },
     "output_type": "display_data"
    }
   ],
   "source": [
    "#data.plot(title='зависимость от этажности total', x='last_price', y='floor_groups', kind='scatter',figsize=(20, 4))\n",
    "floor_groups_median = data.groupby('floor_groups')['last_price'].median()\n",
    "floor_groups_median.plot(kind='bar', figsize=(5, 5))\n",
    "# зависимость цены от этажей показывает: 1-е этажи сосредоточены на участке цен от нуля до 25 млн. Отдельные дорогие предложения\n",
    "# есть (свыше 40 млн 2, от 60-90 млн 2 предложения), но их менее 10-ти.\n",
    "# предложений последних этажей больше и по кол-ву и их медиана по цене выше (4.05)\n",
    "# предложений по другим этажам составляет большинство и зависимость цены от них выражена на графике еще выше. Медиана также растет (4.65)\n"
   ]
  },
  {
   "cell_type": "markdown",
   "metadata": {},
   "source": [
    "<div class=\"alert alert-danger\">\n",
    "<b>❌ Комментарий ревьюера:</b> \n",
    "<br>Нужно поправить категоризацию и переписать вывод\n",
    "</div>"
   ]
  },
  {
   "cell_type": "markdown",
   "metadata": {},
   "source": [
    "<div class=\"alert alert-info\">\n",
    "<b>Комментарий студента:</b>\n",
    "<br>категоризацию поправил в предыдущем коде. Сократил код.\n",
    "    \n"
   ]
  },
  {
   "cell_type": "markdown",
   "metadata": {},
   "source": [
    "<div class=\"alert alert-danger\">\n",
    "<b>❌ Комментарий ревьюера v2:</b> \n",
    "<br>\"Изучите зависимость цены от того, на каком этаже расположена квартира: первом, последнем или другом\" - сделай, пожалуйста, так как просятся в задании. Можно найти среднее или медиану для каждой категории и построить график\n",
    "</div>"
   ]
  },
  {
   "cell_type": "markdown",
   "metadata": {},
   "source": [
    "<div class=\"alert alert-info\">\n",
    "<b>Комментарий студента:</b>\n",
    "<br>пришлось изменить категории \"первый этаж\"\\\"последний этаж\"\\\"другое\" на 1\\2\\3 соотвественно. Причина: тетрать отказывается работать с не 'numeric' и выдает ошибку. Я перевел значения столбца 'floor_groups' из str в int и график почти получился. Не понимаю почему не показывает цену последнего этажа ( в моем варианте это \"2\").\n",
    "    \n"
   ]
  },
  {
   "cell_type": "markdown",
   "metadata": {},
   "source": [
    "<div class=\"alert alert-danger\">\n",
    "<b>❌ Комментарий ревьюера v3:</b> \n",
    "<br>У тебя во вторую категорию никто и не попал, ошибка в категоризации. Указывай, пожалуйста, в следующий раз текст ошибки, чтобы я смог подсказать. Вот такой код отрабатывает без проблем. Только не забудь применить функцию к столбцу через apply\n",
    "    \n",
    "    def floor_category(row):\n",
    "        if row['floor'] == 1: return 'первый'\n",
    "        if row['floor'] == row['floors_total']: return 'последний'\n",
    "        return 'другой'\n",
    "</div>"
   ]
  },
  {
   "cell_type": "markdown",
   "metadata": {},
   "source": [
    "<div class=\"alert alert-info\">\n",
    "<b>Комментарий студента:</b>\n",
    "<br>я код по твоему примеру изменил. DF отработал отлично. Но при построении графика выдал ошибку выше. Я проверил вариант при замене \"первый\"\\\"последний\"\\\"другой\" на \"1\"\\\"2\"\\\"3\" и график построился отлично. Можно его и такой же график по Центральной части посмтреть ниже (\"Исследование зависимости цены от этажности внутри центральной области города\"). \n",
    "    \n"
   ]
  },
  {
   "cell_type": "markdown",
   "metadata": {},
   "source": [
    "<div class=\"alert alert-danger\">\n",
    "<b>❌ Комментарий ревьюера v4:</b> \n",
    "<br>В данном случае тебе сначала нужно рассчитать медиану или среднее и после этого уже построить график. Лучше всего тут подойдёт barplot\n",
    "</div>\n",
    "\n"
   ]
  },
  {
   "cell_type": "markdown",
   "metadata": {},
   "source": [
    "<div class=\"alert alert-info\">\n",
    "<b>Комментарий студента:</b>\n",
    "<br>поменял местами код с медианой и построением barplot. Теперь все встало на свои места. Спасибо!\n",
    "    выводы 4.3,  поправил в соответтвии с обновленными расчетами\n",
    "    \n"
   ]
  },
  {
   "cell_type": "markdown",
   "metadata": {},
   "source": [
    "<div class=\"alert alert-success\">\n",
    "<b>✔️ Комментарий ревьюера v5:</b> \n",
    "<br>Молодец! Теперь всё правильно)\n",
    "</div>"
   ]
  },
  {
   "cell_type": "code",
   "execution_count": 16,
   "metadata": {},
   "outputs": [
    {
     "data": {
      "text/plain": [
       "<matplotlib.axes._subplots.AxesSubplot at 0x7f8222429510>"
      ]
     },
     "execution_count": 16,
     "metadata": {},
     "output_type": "execute_result"
    },
    {
     "data": {
      "image/png": "[encoded data removed]",
      "text/plain": [
       "<Figure size 432x288 with 1 Axes>"
      ]
     },
     "metadata": {
      "needs_background": "light"
     },
     "output_type": "display_data"
    }
   ],
   "source": [
    "#код ревьюера\n",
    "floor_groups_median = data.groupby('floor_groups')['last_price'].median()\n",
    "floor_groups_median.plot(kind='bar')"
   ]
  },
  {
   "cell_type": "code",
   "execution_count": 17,
   "metadata": {},
   "outputs": [
    {
     "data": {
      "text/plain": [
       "другой       14737\n",
       "последний     2661\n",
       "первый        2401\n",
       "Name: floor_groups, dtype: int64"
      ]
     },
     "execution_count": 17,
     "metadata": {},
     "output_type": "execute_result"
    }
   ],
   "source": [
    "#код ревьюера\n",
    "data.floor_groups.value_counts()"
   ]
  },
  {
   "cell_type": "code",
   "execution_count": 18,
   "metadata": {},
   "outputs": [
    {
     "data": {
      "text/plain": [
       "<matplotlib.axes._subplots.AxesSubplot at 0x7f8222783390>"
      ]
     },
     "execution_count": 18,
     "metadata": {},
     "output_type": "execute_result"
    },
    {
     "data": {
      "image/png": "[encoded data removed]",
      "text/plain": [
       "<Figure size 720x360 with 1 Axes>"
      ]
     },
     "metadata": {
      "needs_background": "light"
     },
     "output_type": "display_data"
    }
   ],
   "source": [
    "(data.plot(title='удаленность от центра', x='city_centers_nearest', y='last_price',\n",
    "         xlim=(0,75), ylim=(0, 250), style='o', grid=True, figsize=(10, 5))\n",
    ")"
   ]
  },
  {
   "cell_type": "markdown",
   "metadata": {},
   "source": [
    "# Вывод 4.3 \n",
    "1. прослеживается прямая зависимость цены от площади по большинству предложений, однако не по всем. Уже начиная от значений площади 100 - 200 кв м прослеживается сильное повышение цены и эта разница растет с предложениями где площадь растет более чем на 100 кв м. При этом очевидно, что квартиры с большой площадью не всегда имеют пропорционально высокую цену.\n",
    "2. положительная корреляция между кол-вом комнат и ценой наблюдается от 1 команты до 6-ти. Максимальное кол-во предложений по 4,5,6 комнатным квартирам одновременно самая высокая цена (свыше 150 млн) также за 5,6 комант. Далее кол-во комнат уже не показывают положительную корреляцию к цене.\n",
    "**3. зависимость цены и этажности показаласледующую картину: медианное предложение первого и последнего этажа находится рядом, тогда как у категории \"другие\" сильно растет, что говорит и низкой приоритетности первых и последних этажей в общей массе предложений, цена растет из-за покупательского спроса на \"серединные\" этажи в каждом конкретном доме.**\n",
    "\n",
    "4. похожа на этажнотсь и зависимость от удаленности от центра города. Наиболее дорогие предложение (= 150 млн) на участке от нуля до 8 км. Здесь же наибольшее кол-во предложений до 50 млн, наименьшая цена у предложений свыше 60км от центра города"
   ]
  },
  {
   "cell_type": "raw",
   "metadata": {},
   "source": [
    "# Исследование зависимость от даты размещения\n"
   ]
  },
  {
   "cell_type": "code",
   "execution_count": 19,
   "metadata": {},
   "outputs": [
    {
     "data": {
      "text/plain": [
       "<matplotlib.axes._subplots.AxesSubplot at 0x7f822b044d50>"
      ]
     },
     "execution_count": 19,
     "metadata": {},
     "output_type": "execute_result"
    },
    {
     "data": {
      "image/png": "[encoded data removed]",
      "text/plain": [
       "<Figure size 864x360 with 1 Axes>"
      ]
     },
     "metadata": {
      "needs_background": "light"
     },
     "output_type": "display_data"
    }
   ],
   "source": [
    "(data.pivot_table(index='first_day_exposition', values='last_price', aggfunc='count')\n",
    " .plot(grid=True, figsize=(12, 5)) # период с 2015 - 2019гнаивысша цена была в конце 2017г и начале 2018\n",
    " # Наименьша цена в первой полоивне 2015г\n",
    ") "
   ]
  },
  {
   "cell_type": "code",
   "execution_count": 20,
   "metadata": {},
   "outputs": [
    {
     "data": {
      "text/plain": [
       "<matplotlib.axes._subplots.AxesSubplot at 0x7f822b43d5d0>"
      ]
     },
     "execution_count": 20,
     "metadata": {},
     "output_type": "execute_result"
    },
    {
     "data": {
      "image/png": "[encoded data removed]",
      "text/plain": [
       "<Figure size 864x360 with 1 Axes>"
      ]
     },
     "metadata": {
      "needs_background": "light"
     },
     "output_type": "display_data"
    }
   ],
   "source": [
    "(data.query('(2018 < first_day_exposition < 2019)')\n",
    " .pivot_table(index='first_day_exposition', values='last_price', aggfunc='count')\n",
    " .plot(grid=True, figsize=(12, 5)) # среди месяцев сильно выделяется февраль 2018г\n",
    ") "
   ]
  },
  {
   "cell_type": "code",
   "execution_count": 21,
   "metadata": {
    "scrolled": true
   },
   "outputs": [
    {
     "data": {
      "text/plain": [
       "<matplotlib.axes._subplots.AxesSubplot at 0x7f822286b910>"
      ]
     },
     "execution_count": 21,
     "metadata": {},
     "output_type": "execute_result"
    },
    {
     "data": {
      "image/png": "[encoded data removed]",
      "text/plain": [
       "<Figure size 864x360 with 1 Axes>"
      ]
     },
     "metadata": {
      "needs_background": "light"
     },
     "output_type": "display_data"
    }
   ],
   "source": [
    "(data.query('(20180201 < first_day_exposition < 20180228)')\n",
    " .pivot_table(index='first_day_exposition', values='last_price', aggfunc='count')\n",
    " .plot(grid=True, figsize=(12, 5)) # среди дней недели 8 и 20 февраля дают максимальную цену\n",
    ") "
   ]
  },
  {
   "cell_type": "markdown",
   "metadata": {},
   "source": [
    "# Вывод 4.4 \n",
    "1. проанализировав годичную гистограмму за период с 2015 - 2019г можно смело выделить наивысшую цену, которая была в конце 2017г и начале 2018. Напротив, наименьша цена в первой полоивне 2015г.\n",
    "2. Среди месяцев внутри одного года (2018 для примера) сильно выделяется февраль 2018г. Были так же 2 небольших пика в апреле и в начале августа. Отрезок между 05.2018 и первой половиной 07.2018 охарактеризован провалом на рынке недвижимости, это легко отследить из-за дараматического падения цены.\n",
    "3. внутри одногомесяца (февраль для примера) 8 и 20 февраля дают максимальную цену, а нижние точки с наименьшей ценой 4,18,24 февраля. В целом по месяцу - это нормальная синусоида колебания цены. "
   ]
  },
  {
   "cell_type": "markdown",
   "metadata": {},
   "source": [
    "<div class=\"alert alert-success\">\n",
    "<b>✔️ Комментарий ревьюера:</b> \n",
    "<br>Зависимость цены продажи от дня недели скорее случайность, а не закономерность) В остальном всё верно!\n",
    "</div>"
   ]
  },
  {
   "cell_type": "markdown",
   "metadata": {},
   "source": [
    "# Исследование населенных пунктов\n"
   ]
  },
  {
   "cell_type": "code",
   "execution_count": 22,
   "metadata": {
    "scrolled": true
   },
   "outputs": [
    {
     "data": {
      "text/html": [
       "<div>\n",
       "<style scoped>\n",
       "    .dataframe tbody tr th:only-of-type {\n",
       "        vertical-align: middle;\n",
       "    }\n",
       "\n",
       "    .dataframe tbody tr th {\n",
       "        vertical-align: top;\n",
       "    }\n",
       "\n",
       "    .dataframe thead tr th {\n",
       "        text-align: left;\n",
       "    }\n",
       "\n",
       "    .dataframe thead tr:last-of-type th {\n",
       "        text-align: right;\n",
       "    }\n",
       "</style>\n",
       "<table border=\"1\" class=\"dataframe\">\n",
       "  <thead>\n",
       "    <tr>\n",
       "      <th></th>\n",
       "      <th>count</th>\n",
       "      <th>mean</th>\n",
       "      <th>max</th>\n",
       "      <th>min</th>\n",
       "    </tr>\n",
       "    <tr>\n",
       "      <th></th>\n",
       "      <th>last_price</th>\n",
       "      <th>last_price</th>\n",
       "      <th>last_price</th>\n",
       "      <th>last_price</th>\n",
       "    </tr>\n",
       "    <tr>\n",
       "      <th>locality_name</th>\n",
       "      <th></th>\n",
       "      <th></th>\n",
       "      <th></th>\n",
       "      <th></th>\n",
       "    </tr>\n",
       "  </thead>\n",
       "  <tbody>\n",
       "    <tr>\n",
       "      <td>All</td>\n",
       "      <td>19764</td>\n",
       "      <td>5.705057</td>\n",
       "      <td>160.0000</td>\n",
       "      <td>0.01219</td>\n",
       "    </tr>\n",
       "    <tr>\n",
       "      <td>Санкт-Петербург</td>\n",
       "      <td>12772</td>\n",
       "      <td>6.928227</td>\n",
       "      <td>160.0000</td>\n",
       "      <td>0.01219</td>\n",
       "    </tr>\n",
       "    <tr>\n",
       "      <td>посёлок Мурино</td>\n",
       "      <td>476</td>\n",
       "      <td>3.629412</td>\n",
       "      <td>7.9400</td>\n",
       "      <td>1.73000</td>\n",
       "    </tr>\n",
       "    <tr>\n",
       "      <td>посёлок Шушары</td>\n",
       "      <td>400</td>\n",
       "      <td>4.103672</td>\n",
       "      <td>10.9900</td>\n",
       "      <td>1.50000</td>\n",
       "    </tr>\n",
       "    <tr>\n",
       "      <td>Всеволожск</td>\n",
       "      <td>345</td>\n",
       "      <td>3.821040</td>\n",
       "      <td>24.4129</td>\n",
       "      <td>0.96578</td>\n",
       "    </tr>\n",
       "    <tr>\n",
       "      <td>Пушкин</td>\n",
       "      <td>313</td>\n",
       "      <td>6.152589</td>\n",
       "      <td>42.0000</td>\n",
       "      <td>1.99000</td>\n",
       "    </tr>\n",
       "    <tr>\n",
       "      <td>Колпино</td>\n",
       "      <td>302</td>\n",
       "      <td>3.919974</td>\n",
       "      <td>36.9000</td>\n",
       "      <td>2.10000</td>\n",
       "    </tr>\n",
       "    <tr>\n",
       "      <td>посёлок Парголово</td>\n",
       "      <td>296</td>\n",
       "      <td>4.508653</td>\n",
       "      <td>9.1400</td>\n",
       "      <td>1.40000</td>\n",
       "    </tr>\n",
       "    <tr>\n",
       "      <td>Гатчина</td>\n",
       "      <td>265</td>\n",
       "      <td>3.445941</td>\n",
       "      <td>13.9000</td>\n",
       "      <td>0.85000</td>\n",
       "    </tr>\n",
       "    <tr>\n",
       "      <td>деревня Кудрово</td>\n",
       "      <td>261</td>\n",
       "      <td>4.276125</td>\n",
       "      <td>13.0000</td>\n",
       "      <td>1.80000</td>\n",
       "    </tr>\n",
       "    <tr>\n",
       "      <td>Выборг</td>\n",
       "      <td>201</td>\n",
       "      <td>3.161562</td>\n",
       "      <td>19.9900</td>\n",
       "      <td>0.60000</td>\n",
       "    </tr>\n",
       "  </tbody>\n",
       "</table>\n",
       "</div>"
      ],
      "text/plain": [
       "                       count       mean        max        min\n",
       "                  last_price last_price last_price last_price\n",
       "locality_name                                                \n",
       "All                    19764   5.705057   160.0000    0.01219\n",
       "Санкт-Петербург        12772   6.928227   160.0000    0.01219\n",
       "посёлок Мурино           476   3.629412     7.9400    1.73000\n",
       "посёлок Шушары           400   4.103672    10.9900    1.50000\n",
       "Всеволожск               345   3.821040    24.4129    0.96578\n",
       "Пушкин                   313   6.152589    42.0000    1.99000\n",
       "Колпино                  302   3.919974    36.9000    2.10000\n",
       "посёлок Парголово        296   4.508653     9.1400    1.40000\n",
       "Гатчина                  265   3.445941    13.9000    0.85000\n",
       "деревня Кудрово          261   4.276125    13.0000    1.80000\n",
       "Выборг                   201   3.161562    19.9900    0.60000"
      ]
     },
     "metadata": {},
     "output_type": "display_data"
    }
   ],
   "source": [
    "data_location = data.pivot_table(index = 'locality_name',\n",
    "                                 values = 'last_price',\n",
    "                                 aggfunc = ['count', 'mean', 'max', 'min'], margins = True)\n",
    "display(data_location.sort_values(('count', 'last_price'), ascending = False).head(11))\n",
    "\n",
    "\n",
    "\n"
   ]
  },
  {
   "cell_type": "code",
   "execution_count": 23,
   "metadata": {},
   "outputs": [],
   "source": [
    "data['km_price'] = data['last_price'] / data['city_centers_nearest'] # посчитали среднюю цену км"
   ]
  },
  {
   "cell_type": "markdown",
   "metadata": {},
   "source": [
    "# Вывод 4.5 \n",
    "1. нашли топ 10 населенных пунктов по средней стоимости за кв м.\n",
    "2. Возглавляет рейтинг Санкт-Петербург и по кол-ву объявлений и по максимальной стоимости как в абсолюте так и по среднему ценнику за квадрат. \n",
    "3. анализ минимальной цены показал что минимум тоже оказался в СПБ, по-видимому, предложение комнаты. \n",
    "4. Интересно посмотреть на максимальную цену в Парголово и Мурино. Они самые низкие среди ТОП-10, однако, хоть это и административно является областю, фактически - это часть Санкт-Петербурга. Именно по этому квартиры в этих нас пунктах пользуются большим спросом и застраиваются активнее."
   ]
  },
  {
   "cell_type": "markdown",
   "metadata": {},
   "source": [
    "<div class=\"alert alert-danger\">\n",
    "<b>❌ Комментарий ревьюера:</b> \n",
    "<br>В самом начале ты выводишь топ10 населённых пунктов по количеству объявлений (и делаешь это правильно). Вот для этих населённых пунктов тебе и нужно посмотреть самую высокую и самую низкую цену \n",
    "</div>"
   ]
  },
  {
   "cell_type": "markdown",
   "metadata": {},
   "source": [
    "<div class=\"alert alert-info\">\n",
    "<b>Комментарий студента:</b>\n",
    "<br>сводную таблицу переделал, отразил все нужные показатели исключительно по нужным заданным нас пунткам ТОП-10. Выводы также исправил (Вывод 4.5)\n",
    "    \n"
   ]
  },
  {
   "cell_type": "markdown",
   "metadata": {},
   "source": [
    "<div class=\"alert alert-success\">\n",
    "<b>✔️ Комментарий ревьюера v2:</b> \n",
    "<br>Отлично, теперь всё верно! Как вариант, тут вместо таблицы можно построить гистограмму, так будет более наглядно)\n",
    "</div>"
   ]
  },
  {
   "cell_type": "markdown",
   "metadata": {},
   "source": [
    "# Исследование зависимости цены от факторов внутри центральной области города\n"
   ]
  },
  {
   "cell_type": "code",
   "execution_count": 24,
   "metadata": {},
   "outputs": [
    {
     "data": {
      "text/plain": [
       "<matplotlib.axes._subplots.AxesSubplot at 0x7f822de172d0>"
      ]
     },
     "execution_count": 24,
     "metadata": {},
     "output_type": "execute_result"
    },
    {
     "data": {
      "image/png": "[encoded data removed]",
      "text/plain": [
       "<Figure size 864x432 with 1 Axes>"
      ]
     },
     "metadata": {
      "needs_background": "light"
     },
     "output_type": "display_data"
    }
   ],
   "source": [
    "data_city_centers_price = data[['locality_name', 'city_centers_nearest', 'last_price', 'km_price']] # создаем отдельный data frame\n",
    "#для определения центра города\n",
    "(data_city_centers_price.query('(locality_name == \"Санкт-Петербург\") and (city_centers_nearest)')\n",
    ".sort_values(by='city_centers_nearest', ascending=False)\n",
    ".pivot_table(index='city_centers_nearest', values='km_price')\n",
    " .plot(xlim=(0, 35), ylim=(0, 25), grid=True, figsize=(12, 6))\n",
    ") # график показал, что область \"центра города\", это радиус от 1-5 км с самой высокой ценой"
   ]
  },
  {
   "cell_type": "markdown",
   "metadata": {},
   "source": [
    "<div class=\"alert alert-success\">\n",
    "<b>✔️ Комментарий ревьюера:</b>\n",
    "<br>Согласен. Центр определён верно!\n",
    "</div>"
   ]
  },
  {
   "cell_type": "code",
   "execution_count": 25,
   "metadata": {},
   "outputs": [],
   "source": [
    "data_city_center = data[['locality_name', 'rooms', 'total_area', \n",
    "'city_centers_nearest', 'last_price', 'first_day_exposition', 'ceiling_height',\n",
    "                         'floor', 'floor_groups']] # добавляем в data frame новые столбцы для анализа зависимостей в центре города"
   ]
  },
  {
   "cell_type": "code",
   "execution_count": 26,
   "metadata": {},
   "outputs": [
    {
     "data": {
      "text/plain": [
       "'коэффициент корреляции цены и площади:'"
      ]
     },
     "metadata": {},
     "output_type": "display_data"
    },
    {
     "data": {
      "text/plain": [
       "0.7314103774102483"
      ]
     },
     "metadata": {},
     "output_type": "display_data"
    },
    {
     "data": {
      "image/png": "[encoded data removed]",
      "text/plain": [
       "<Figure size 432x288 with 1 Axes>"
      ]
     },
     "metadata": {
      "needs_background": "light"
     },
     "output_type": "display_data"
    }
   ],
   "source": [
    "(data_city_center\n",
    " .query('(locality_name == \"Санкт-Петербург\") and (city_centers_nearest <= 5)')\n",
    " .sort_values(by='last_price', ascending=False)\n",
    " .plot(title='зависимость от площади в центре', x='last_price', y='total_area', kind='scatter', alpha=0.3, grid=True)\n",
    ")# видны также отдельные предложения (выделил прозрачным), которые не так сильно коррелируют, однако их меньшинство\n",
    "\n",
    "display('коэффициент корреляции цены и площади:', data_city_center['last_price'].corr(data_city_center['total_area']))\n",
    "# график показывает положительную корреляцию во взаимозависимости цены от площади квартиры."
   ]
  },
  {
   "cell_type": "code",
   "execution_count": 27,
   "metadata": {},
   "outputs": [
    {
     "data": {
      "text/plain": [
       "<matplotlib.axes._subplots.AxesSubplot at 0x7f8222637110>"
      ]
     },
     "execution_count": 27,
     "metadata": {},
     "output_type": "execute_result"
    },
    {
     "data": {
      "image/png": "[encoded data removed]",
      "text/plain": [
       "<Figure size 432x288 with 1 Axes>"
      ]
     },
     "metadata": {
      "needs_background": "light"
     },
     "output_type": "display_data"
    }
   ],
   "source": [
    "(data_city_center\n",
    ".query('(locality_name == \"Санкт-Петербург\") and (city_centers_nearest <= 5)')\n",
    ".sort_values(by='last_price', ascending=False)\n",
    ".plot(title='кол-во комнат в центре', x='last_price', y='rooms', kind='scatter', alpha=0.5, grid=True)\n",
    ")\n",
    "# также видна положительная коррекляция во взаимозависимости между кол-вом комнат и ценой"
   ]
  },
  {
   "cell_type": "code",
   "execution_count": 28,
   "metadata": {
    "scrolled": true
   },
   "outputs": [
    {
     "data": {
      "text/plain": [
       "'коэффициент корреляции цены и высоты потолков:'"
      ]
     },
     "metadata": {},
     "output_type": "display_data"
    },
    {
     "data": {
      "text/plain": [
       "0.23266133999826366"
      ]
     },
     "metadata": {},
     "output_type": "display_data"
    },
    {
     "data": {
      "image/png": "[encoded data removed]",
      "text/plain": [
       "<Figure size 432x288 with 1 Axes>"
      ]
     },
     "metadata": {
      "needs_background": "light"
     },
     "output_type": "display_data"
    }
   ],
   "source": [
    "(data_city_center\n",
    ".query('(locality_name == \"Санкт-Петербург\") and (city_centers_nearest <= 5)')\n",
    ".sort_values(by='last_price', ascending=False)\n",
    ".plot(title='высота потолков в центре', x='last_price', y='ceiling_height', kind='scatter', alpha=0.5, grid=True)\n",
    ")\n",
    "display('коэффициент корреляции цены и высоты потолков:', data_city_center['last_price'].corr(data_city_center['ceiling_height']))"
   ]
  },
  {
   "cell_type": "markdown",
   "metadata": {},
   "source": [
    "# Исследование зависимости цены от этажности внутри центральной области города\n"
   ]
  },
  {
   "cell_type": "code",
   "execution_count": 29,
   "metadata": {
    "scrolled": true
   },
   "outputs": [
    {
     "data": {
      "text/plain": [
       "floor_groups\n",
       "другой       9.00\n",
       "первый       6.44\n",
       "последний    9.00\n",
       "Name: last_price, dtype: float64"
      ]
     },
     "metadata": {},
     "output_type": "display_data"
    },
    {
     "data": {
      "image/png": "[encoded data removed]",
      "text/plain": [
       "<Figure size 360x360 with 1 Axes>"
      ]
     },
     "metadata": {
      "needs_background": "light"
     },
     "output_type": "display_data"
    }
   ],
   "source": [
    "\n",
    "#(data_city_center.query('(locality_name == \"Санкт-Петербург\") and (city_centers_nearest <= 5)')\n",
    "#.sort_values(by='last_price', ascending=False)\n",
    "#.pivot_table(index='floor', values='last_price')\n",
    "# .plot(xlim=(0, 35), ylim=(0, 40), grid=True, figsize=(12, 6))\n",
    "#) \n",
    "floor_centre_median = data_city_center.query('(locality_name == \"Санкт-Петербург\") and (city_centers_nearest <= 5)').groupby('floor_groups')['last_price'].median()\n",
    "floor_centre_median.plot(kind='bar', figsize=(5, 5))\n",
    "display(floor_centre_median)\n",
    "# график показал, что в области \"центра города\" зависимость цены от кол-ва этажей отличается от общих предложений \n",
    "# Медиана предложений первого этажа чуть выше 6, а \"последнего\" и \"других\" ровно по 9, что означает следующее: первый этажнаименее\n",
    "# приоритетен в выборе покупателей Цетра, затовсе остальные, включая последний этаж остаются в покупательской преференции."
   ]
  },
  {
   "cell_type": "markdown",
   "metadata": {},
   "source": [
    "# Исследование зависимости цены от удаленности от центра внутри центральной области города\n"
   ]
  },
  {
   "cell_type": "code",
   "execution_count": 30,
   "metadata": {},
   "outputs": [
    {
     "data": {
      "text/plain": [
       "<matplotlib.axes._subplots.AxesSubplot at 0x7f82223b0b90>"
      ]
     },
     "execution_count": 30,
     "metadata": {},
     "output_type": "execute_result"
    },
    {
     "data": {
      "image/png": "[encoded data removed]",
      "text/plain": [
       "<Figure size 720x360 with 1 Axes>"
      ]
     },
     "metadata": {
      "needs_background": "light"
     },
     "output_type": "display_data"
    }
   ],
   "source": [
    "(data_city_center.query('(locality_name == \"Санкт-Петербург\") and (city_centers_nearest <= 5)')\n",
    ".sort_values(by='last_price', ascending=False)\n",
    ".pivot_table(index='city_centers_nearest', values='last_price')\n",
    " .plot(xlim=(0, 10), ylim=(0, 30), grid=True, figsize=(10, 5))\n",
    ") \n",
    "#график показал, что в области \"центра города\" зависимость цены от удаленности от центра города прямая и она очень похожа  \n",
    "# зависимость этого же показателя в общей массе предложений. Принцип формирования цены идентичен в Центре и за его пределами."
   ]
  },
  {
   "cell_type": "markdown",
   "metadata": {},
   "source": [
    "# Исследование зависимости цены от даты размещения объявления внутри центральной области города\n"
   ]
  },
  {
   "cell_type": "code",
   "execution_count": 31,
   "metadata": {},
   "outputs": [
    {
     "data": {
      "text/plain": [
       "<matplotlib.axes._subplots.AxesSubplot at 0x7f8222340090>"
      ]
     },
     "execution_count": 31,
     "metadata": {},
     "output_type": "execute_result"
    },
    {
     "data": {
      "image/png": "[encoded data removed]",
      "text/plain": [
       "<Figure size 864x360 with 1 Axes>"
      ]
     },
     "metadata": {
      "needs_background": "light"
     },
     "output_type": "display_data"
    }
   ],
   "source": [
    "(data_city_center.query('(2018 < first_day_exposition < 2019)')\n",
    " .pivot_table(index='first_day_exposition', values='last_price', aggfunc='count')\n",
    " .plot(grid=True, figsize=(12, 5)) # за период исследования взял весь 2018г с наибольшей ценовой волатильностью\n",
    " # в общем пуле предложений. График показывает такую же волатиильность и в Центральной области города. Вызвано это скорее всего\n",
    " # тем, что именно здесь сосредоточно максимальное кол-во самых дорогих предложений и именно они формировали волатильность\n",
    " # в общем списке предложений основного DF\n",
    ") "
   ]
  },
  {
   "cell_type": "markdown",
   "metadata": {},
   "source": [
    "<div class=\"alert alert-danger\">\n",
    "<b>❌ Комментарий ревьюера:</b> \n",
    "<br>В целом тут все отлично, но нужно учесть пару моментов:\n",
    "<br>- Для этажности нельзя рассчитывать корреляцию, потому что она работает только с линейной зависимостью, а у нас она не линейная (перед этим нужно поправить категоризацию этажей). Тут лучше построить гистрограмму и вывести все 3 категории\n",
    "<br>- Нужно добавить в итоговый вывод, есть ли отличие между квартирами в центре и в остальной части. Если есть, то по каким параметрам    \n",
    "</div>"
   ]
  },
  {
   "cell_type": "markdown",
   "metadata": {},
   "source": [
    "<div class=\"alert alert-info\">\n",
    "<b>Комментарий студента:</b>\n",
    "<br>убрал матрицу и не стал выводить корреляцию. Заменил на отдельные гистограммы, определили различия в зависимостях Центральной области и общих предложений, вывод дополнил.\n",
    "    \n"
   ]
  },
  {
   "cell_type": "markdown",
   "metadata": {},
   "source": [
    "<div class=\"alert alert-danger\">\n",
    "<b>❌ Комментарий ревьюера v2:</b> \n",
    "<br>Тут тоже нужно изучить именно категорию эжажности, а не смотреть все этажи, а вот расчет корреляции удалять не стоит, это можно сделать очень компактно только дня подходящих параметров\n",
    "    \n",
    "    df[['last_price', 'total_area', 'rooms', 'cityCenters_nearest']].corr()\n",
    "</div>"
   ]
  },
  {
   "cell_type": "markdown",
   "metadata": {},
   "source": [
    "<div class=\"alert alert-danger\">\n",
    "<b>❌ Комментарий ревьюера v3:</b> \n",
    "<br>Ты пропустил замечание выше. Чтобы найти все комментарии ищи по версии проверки проекта: v2 v3 v4 и т.д.\n",
    "</div>"
   ]
  },
  {
   "cell_type": "markdown",
   "metadata": {},
   "source": [
    "<div class=\"alert alert-success\">\n",
    "<b>✔️ Комментарий ревьюера v5:</b> \n",
    "<br>Тут тоже всё верно)\n",
    "</div>"
   ]
  },
  {
   "cell_type": "markdown",
   "metadata": {},
   "source": [
    "# Вывод 4.6\n",
    "\n",
    "1. Судя по графику, \"сильный слом\" кривой происходит чуть дальше 4 км. Примем округленной значение что область \"центра города\", это радиус от 1-5 км с самой высокой ценой.\n",
    "2. Внутри области Центра график показывает положительную корреляцию во взаимозависимости цены от площади квартиры. Видны также отдельные предложения (выделил прозрачным), которые не так сильно коррелируют, однако их меньшинство.\n",
    "\n",
    "3. Также видна положительная коррекляция во взаимозависимости между кол-вом комнат и ценой\n",
    "\n",
    "4. график показал, что в области \"центра города\" зависимость цены от кол-ва этажей отличается от общих предложений Медиана предложений первого этажа чуть выше 6, а \"последнего\" и \"других\" ровно по 9, что означает следующее: первый этаж наименее приоритетен в выборе покупателей Цетра, затовсе остальные, включая последний этаж остаются в покупательской преференции.\n",
    "\n",
    "5. график показал, что в области \"центра города\" зависимость цены от удаленности от центра города прямая и она очень похожа на зависимость этого же показателя в общей массе предложений. Принцип формирования цены идентичен в Центре и за его пределами.\n",
    "\n",
    "6. при исследовании даты размещения объявлений в Центре за период исследования взял весь 2018г с наибольшей ценовой волатильностью в общем пуле предложений. График показывает такую же волатиильность и в Центральной области города. Вызвано это скорее всего тем, что именно здесь сосредоточно максимальное кол-во самых дорогих предложений и именно они формировали волатильность в общем списке предложений основного DF\n",
    "\n"
   ]
  },
  {
   "cell_type": "markdown",
   "metadata": {},
   "source": [
    "<div class=\"alert alert-danger\">\n",
    "<b>❌ Итоговый комментарий ревьюера:</b> \n",
    "<br>Ты хорошо потрудился, большая часть работы сделана, но остаётся внести следующие правки:\n",
    "<br>- заменить пропуски в столбце is_apartment\n",
    "<br>- правильно категоризировать этажность\n",
    "<br>- убрать аномальные значений\n",
    "<br>- корректно исследовать топ10 населённых пунктов по количеству заявлений\n",
    "<br>- дополнить итоговый вывод    \n",
    "</div>"
   ]
  },
  {
   "cell_type": "markdown",
   "metadata": {},
   "source": [
    "<div class=\"alert alert-danger\">\n",
    "<b>❌ Итоговый комментарий ревьюера v2:</b> \n",
    "<br>Остались две правки:\n",
    "<br>- корректно исследовать зависимость категории этажи и стоимости квартиры\n",
    "<br>- поправить выводы там, где это необходимо   \n",
    "</div>"
   ]
  },
  {
   "cell_type": "markdown",
   "metadata": {},
   "source": [
    "<div class=\"alert alert-danger\">\n",
    "<b>❌ Итоговый комментарий ревьюера v3:</b> \n",
    "<br>Остались две правки:\n",
    "<br>- корректно исследовать зависимость категории этажи и стоимости квартиры\n",
    "<br>- поправить выводы там, где это необходимо   \n",
    "</div>"
   ]
  },
  {
   "cell_type": "markdown",
   "metadata": {},
   "source": [
    "<div class=\"alert alert-danger\">\n",
    "<b>❌ Итоговый комментарий ревьюера v4:</b> \n",
    "<br>Остались две правки:\n",
    "<br>- корректно исследовать зависимость категории этажи и стоимости квартиры\n",
    "<br>- поправить выводы там, где это необходимо   \n",
    "</div>"
   ]
  },
  {
   "cell_type": "markdown",
   "metadata": {},
   "source": [
    "<div class=\"alert alert-info\">\n",
    "<b>Комментарий студента:</b>\n",
    "<br>для центральной части также расчитал медиану и построил barplot.\n",
    "    Общий вывод,  поправил в соответтвии с обновленными расчетами и отличиями в общем пуле предложений и предложений в Центре\n",
    "    \n"
   ]
  },
  {
   "cell_type": "markdown",
   "metadata": {},
   "source": [
    "<div class=\"alert alert-success\">\n",
    "<b>✔️ Итоговый комментарий ревьюера v5:</b>\n",
    "<br>Все правки выполнены. Молодец!\n",
    "<br>Ты проделал огромную работу! У тебя очень подробные, понятные и логичные выводы, которые ты подкрепляешь фактами. Ты использовал разные графики и способы, чтобы как можно более тщательно изучать данные и у тебя это получилось! \n",
    "<br>Я рад был поработать над проверкой твоей работы)\n",
    "<br>Поздравляю со сдачей проекта и желаю удачи в дальнейшем обучении! 😉    \n",
    "</div>"
   ]
  },
  {
   "cell_type": "markdown",
   "metadata": {},
   "source": [
    "## Общий вывод"
   ]
  },
  {
   "cell_type": "markdown",
   "metadata": {},
   "source": [
    "основные параметры для определения рыночной стоимости объектов я разделил на следующие группы с разным весом:\n",
    "\n",
    "*большой вес* 1) населенный пункт и его средняя цена за квадратный метр, 2) нахождение\\отсуствие в области \"центр города\", где средняя цена за кв м значительно выше предложений на окраинах, 3) дата публикации, в следствии которой можно определить высокую и низкую сезонность продаж в течение года (зимние месяцы), 4) площадь квартиры, которая напрямую коррелирует с ценой, отталкиваясь от цены квадратного метра (но при этом пришлось избавиться от явных выбросов в данных, чтобы не искажать эту зависимость);\n",
    "\n",
    "*средний вес* 1) этажность, которая показывает ценовые предпочтения, но не так сильно влияет на цену, если только это не первый этаж, 2) кол-во комнат, где рост цены заметен только до 5-ти комнат, а разницы между 3 и 4 комнатными квартирами практически незаметна; \n",
    "\n",
    "*низкий вес* имеют все остальные столбцы, начиная от наличия пруда и заканчивая расстоянием до аэропорта, так как они не являются основополагающими для принятия решения со стороны потенциального покупателя\n",
    "\n",
    "**примечательно, что Цетральная часть города имеет свои несколько отличающиеся законы ценообразования, например последние этажи настолько же значимы в цене как и \"другие\", чего нет в общие пуле предложений, и нужно учитывать это \"государство в государстве\" при опредлении рыночной стоимости объектов.**"
   ]
  },
  {
   "cell_type": "markdown",
   "metadata": {},
   "source": [
    "## Чек-лист готовности проекта\n",
    "\n",
    "Поставьте 'x' в выполненных пунктах. Далее нажмите Shift+Enter."
   ]
  },
  {
   "cell_type": "markdown",
   "metadata": {},
   "source": [
    "- [x]  открыт файл\n",
    "- [x]  файлы изучены (выведены первые строки, метод info())\n",
    "- [x]  определены пропущенные значения\n",
    "- [x]  заполнены пропущенные значения\n",
    "- [x]  есть пояснение, какие пропущенные значения обнаружены\n",
    "- [x]  изменены типы данных\n",
    "- [x]  есть пояснение, в каких столбцах изменены типы и почему\n",
    "- [x]  посчитано и добавлено в таблицу: цена квадратного метра\n",
    "- [x]  посчитано и добавлено в таблицу: день недели, месяц и год публикации объявления\n",
    "- [x]  посчитано и добавлено в таблицу: этаж квартиры; варианты — первый, последний, другой\n",
    "- [x]  посчитано и добавлено в таблицу: соотношение жилой и общей площади, а также отношение площади кухни к общей\n",
    "- [x]  изучены следующие параметры: площадь, цена, число комнат, высота потолков\n",
    "- [x]  построены гистограммы для каждого параметра\n",
    "- [x]  выполнено задание: \"Изучите время продажи квартиры. Постройте гистограмму. Посчитайте среднее и медиану. Опишите, сколько обычно занимает продажа. Когда можно считать, что продажи прошли очень быстро, а когда необычно долго?\"\n",
    "- [x]  выполнено задание: \"Уберите редкие и выбивающиеся значения. Опишите, какие особенности обнаружили.\"\n",
    "- [x]  выполнено задание: \"Какие факторы больше всего влияют на стоимость квартиры? Изучите, зависит ли цена от квадратного метра, числа комнат, этажа (первого или последнего), удалённости от центра. Также изучите зависимость от даты размещения: дня недели, месяца и года. \"Выберите 10 населённых пунктов с наибольшим числом объявлений. Посчитайте среднюю цену квадратного метра в этих населённых пунктах. Выделите населённые пункты с самой высокой и низкой стоимостью жилья. Эти данные можно найти по имени в столбце '*locality_name'*. \"\n",
    "- [x]  выполнено задание: \"Изучите предложения квартир: для каждой квартиры есть информация о расстоянии до центра. Выделите квартиры в Санкт-Петербурге (*'locality_name'*). Ваша задача — выяснить, какая область входит в центр. Создайте столбец с расстоянием до центра в километрах: округлите до целых значений. После этого посчитайте среднюю цену для каждого километра. Постройте график: он должен показывать, как цена зависит от удалённости от центра. Определите границу, где график сильно меняется — это и будет центральная зона. \"\n",
    "- [x]  выполнено задание: \"Выделите сегмент квартир в центре. Проанализируйте эту территорию и изучите следующие параметры: площадь, цена, число комнат, высота потолков. Также выделите факторы, которые влияют на стоимость квартиры (число комнат, этаж, удалённость от центра, дата размещения объявления). Сделайте выводы. Отличаются ли они от общих выводов по всему городу?\"\n",
    "- [x]  в каждом этапе есть выводы\n",
    "- [x]  есть общий вывод"
   ]
  }
 ],
 "metadata": {
  "ExecuteTimeLog": [
   {
    "duration": 92,
    "start_time": "2021-12-27T10:37:35.491Z"
   },
   {
    "duration": 876,
    "start_time": "2021-12-27T10:39:10.532Z"
   },
   {
    "duration": 97,
    "start_time": "2021-12-27T10:40:16.350Z"
   },
   {
    "duration": 86,
    "start_time": "2021-12-27T10:46:09.541Z"
   },
   {
    "duration": 91,
    "start_time": "2021-12-27T10:46:17.317Z"
   },
   {
    "duration": 124,
    "start_time": "2021-12-27T10:49:03.685Z"
   },
   {
    "duration": 130,
    "start_time": "2021-12-27T10:51:25.357Z"
   },
   {
    "duration": 191,
    "start_time": "2021-12-27T11:20:46.331Z"
   },
   {
    "duration": 220,
    "start_time": "2021-12-27T11:27:20.792Z"
   },
   {
    "duration": 712,
    "start_time": "2021-12-27T13:43:31.050Z"
   },
   {
    "duration": 4,
    "start_time": "2021-12-27T13:43:34.440Z"
   },
   {
    "duration": 10,
    "start_time": "2021-12-27T13:45:36.067Z"
   },
   {
    "duration": 15,
    "start_time": "2021-12-27T14:37:05.241Z"
   },
   {
    "duration": 13,
    "start_time": "2021-12-27T14:37:40.891Z"
   },
   {
    "duration": 14,
    "start_time": "2021-12-27T14:38:06.595Z"
   },
   {
    "duration": 16,
    "start_time": "2021-12-27T14:38:44.257Z"
   },
   {
    "duration": 1209,
    "start_time": "2021-12-27T14:42:03.357Z"
   },
   {
    "duration": 66,
    "start_time": "2021-12-27T14:42:56.399Z"
   },
   {
    "duration": 12,
    "start_time": "2021-12-27T14:43:03.120Z"
   },
   {
    "duration": 247,
    "start_time": "2021-12-27T14:43:32.628Z"
   },
   {
    "duration": 15,
    "start_time": "2021-12-27T14:44:28.938Z"
   },
   {
    "duration": 16,
    "start_time": "2021-12-27T14:44:46.569Z"
   },
   {
    "duration": 69,
    "start_time": "2021-12-27T14:50:34.454Z"
   },
   {
    "duration": 4457,
    "start_time": "2021-12-27T14:50:56.315Z"
   },
   {
    "duration": 4475,
    "start_time": "2021-12-27T14:51:43.232Z"
   },
   {
    "duration": 23,
    "start_time": "2021-12-27T14:52:01.175Z"
   },
   {
    "duration": 118,
    "start_time": "2021-12-27T14:58:09.684Z"
   },
   {
    "duration": 118,
    "start_time": "2021-12-27T14:58:26.467Z"
   },
   {
    "duration": 122,
    "start_time": "2021-12-27T14:58:53.240Z"
   },
   {
    "duration": 137,
    "start_time": "2021-12-27T14:59:46.446Z"
   },
   {
    "duration": 137,
    "start_time": "2021-12-27T15:00:31.558Z"
   },
   {
    "duration": 148,
    "start_time": "2021-12-27T15:00:51.215Z"
   },
   {
    "duration": 140,
    "start_time": "2021-12-27T15:25:02.763Z"
   },
   {
    "duration": 197,
    "start_time": "2021-12-27T15:41:38.549Z"
   },
   {
    "duration": 95,
    "start_time": "2021-12-27T15:43:56.548Z"
   },
   {
    "duration": 62,
    "start_time": "2021-12-27T15:46:48.307Z"
   },
   {
    "duration": 30,
    "start_time": "2021-12-27T15:47:13.640Z"
   },
   {
    "duration": 5063,
    "start_time": "2021-12-27T15:52:17.058Z"
   },
   {
    "duration": 199,
    "start_time": "2021-12-27T15:54:42.507Z"
   },
   {
    "duration": 199,
    "start_time": "2021-12-27T15:55:23.247Z"
   },
   {
    "duration": 36,
    "start_time": "2021-12-27T15:55:42.550Z"
   },
   {
    "duration": 34,
    "start_time": "2021-12-27T15:56:12.367Z"
   },
   {
    "duration": 36,
    "start_time": "2021-12-27T15:57:30.560Z"
   },
   {
    "duration": 37,
    "start_time": "2021-12-27T15:58:17.586Z"
   },
   {
    "duration": 697,
    "start_time": "2021-12-28T09:26:53.109Z"
   },
   {
    "duration": 298,
    "start_time": "2021-12-28T09:26:57.165Z"
   },
   {
    "duration": 212,
    "start_time": "2021-12-28T09:27:17.679Z"
   },
   {
    "duration": 52,
    "start_time": "2021-12-28T09:27:35.055Z"
   },
   {
    "duration": 52,
    "start_time": "2021-12-28T09:28:11.440Z"
   },
   {
    "duration": 23,
    "start_time": "2021-12-28T09:30:16.411Z"
   },
   {
    "duration": 21,
    "start_time": "2021-12-28T09:32:11.381Z"
   },
   {
    "duration": 700,
    "start_time": "2021-12-28T10:07:02.031Z"
   },
   {
    "duration": 22,
    "start_time": "2021-12-28T10:09:52.942Z"
   },
   {
    "duration": 13,
    "start_time": "2021-12-28T10:11:20.161Z"
   },
   {
    "duration": 5,
    "start_time": "2021-12-28T10:11:46.492Z"
   },
   {
    "duration": 24,
    "start_time": "2021-12-28T10:33:04.601Z"
   },
   {
    "duration": 184,
    "start_time": "2021-12-28T10:43:17.287Z"
   },
   {
    "duration": 3016,
    "start_time": "2021-12-28T10:43:29.253Z"
   },
   {
    "duration": 1241,
    "start_time": "2021-12-28T10:46:42.596Z"
   },
   {
    "duration": 1192,
    "start_time": "2021-12-28T10:47:32.400Z"
   },
   {
    "duration": 1255,
    "start_time": "2021-12-28T10:52:51.492Z"
   },
   {
    "duration": 4444,
    "start_time": "2021-12-28T10:54:04.632Z"
   },
   {
    "duration": 1204,
    "start_time": "2021-12-28T11:01:33.261Z"
   },
   {
    "duration": 185,
    "start_time": "2021-12-28T11:02:07.150Z"
   },
   {
    "duration": 330,
    "start_time": "2021-12-28T11:02:10.708Z"
   },
   {
    "duration": 24,
    "start_time": "2021-12-28T11:02:24.366Z"
   },
   {
    "duration": 24,
    "start_time": "2021-12-28T11:02:50.805Z"
   },
   {
    "duration": 57,
    "start_time": "2021-12-28T11:07:08.348Z"
   },
   {
    "duration": 26,
    "start_time": "2021-12-28T11:07:25.111Z"
   },
   {
    "duration": 23,
    "start_time": "2021-12-28T11:07:49.183Z"
   },
   {
    "duration": 27,
    "start_time": "2021-12-28T11:13:49.949Z"
   },
   {
    "duration": 31,
    "start_time": "2021-12-28T11:19:25.331Z"
   },
   {
    "duration": 30,
    "start_time": "2021-12-28T11:19:50.293Z"
   },
   {
    "duration": 32,
    "start_time": "2021-12-28T11:20:17.555Z"
   },
   {
    "duration": 33,
    "start_time": "2021-12-28T11:23:20.043Z"
   },
   {
    "duration": 681,
    "start_time": "2021-12-28T13:37:02.971Z"
   },
   {
    "duration": 73,
    "start_time": "2021-12-28T13:37:03.654Z"
   },
   {
    "duration": 34,
    "start_time": "2021-12-28T13:37:03.729Z"
   },
   {
    "duration": 1174,
    "start_time": "2021-12-28T15:11:54.051Z"
   },
   {
    "duration": 130,
    "start_time": "2021-12-28T15:11:55.228Z"
   },
   {
    "duration": 58,
    "start_time": "2021-12-28T15:11:55.360Z"
   },
   {
    "duration": 696,
    "start_time": "2021-12-28T15:30:02.074Z"
   },
   {
    "duration": 644,
    "start_time": "2021-12-28T15:30:11.322Z"
   },
   {
    "duration": 12,
    "start_time": "2021-12-28T15:42:35.531Z"
   },
   {
    "duration": 118,
    "start_time": "2021-12-28T16:27:10.065Z"
   },
   {
    "duration": 51,
    "start_time": "2021-12-28T16:27:21.160Z"
   },
   {
    "duration": 14,
    "start_time": "2021-12-28T16:27:30.918Z"
   },
   {
    "duration": 723,
    "start_time": "2021-12-28T16:28:00.072Z"
   },
   {
    "duration": 3087,
    "start_time": "2021-12-28T16:28:50.788Z"
   },
   {
    "duration": 1833,
    "start_time": "2021-12-28T16:29:09.883Z"
   },
   {
    "duration": 403,
    "start_time": "2021-12-28T16:29:39.300Z"
   },
   {
    "duration": 419,
    "start_time": "2021-12-28T16:29:51.861Z"
   },
   {
    "duration": 668,
    "start_time": "2021-12-28T16:30:19.155Z"
   },
   {
    "duration": 672,
    "start_time": "2021-12-28T16:30:59.282Z"
   },
   {
    "duration": 563,
    "start_time": "2021-12-28T16:31:24.872Z"
   },
   {
    "duration": 596,
    "start_time": "2021-12-28T16:31:50.664Z"
   },
   {
    "duration": 488,
    "start_time": "2021-12-28T16:32:20.679Z"
   },
   {
    "duration": 557,
    "start_time": "2021-12-28T16:32:45.839Z"
   },
   {
    "duration": 970,
    "start_time": "2021-12-28T16:32:58.432Z"
   },
   {
    "duration": 721,
    "start_time": "2021-12-28T16:33:23.679Z"
   },
   {
    "duration": 1038,
    "start_time": "2021-12-29T11:40:55.397Z"
   },
   {
    "duration": 105,
    "start_time": "2021-12-29T11:40:56.439Z"
   },
   {
    "duration": 53,
    "start_time": "2021-12-29T11:40:56.547Z"
   },
   {
    "duration": 626,
    "start_time": "2021-12-29T12:46:15.007Z"
   },
   {
    "duration": 553,
    "start_time": "2021-12-29T12:46:36.954Z"
   },
   {
    "duration": 380,
    "start_time": "2021-12-29T12:46:53.535Z"
   },
   {
    "duration": 515,
    "start_time": "2021-12-29T12:47:05.974Z"
   },
   {
    "duration": 538,
    "start_time": "2021-12-29T12:47:24.492Z"
   },
   {
    "duration": 285,
    "start_time": "2021-12-29T12:47:48.836Z"
   },
   {
    "duration": 318,
    "start_time": "2021-12-29T12:48:18.509Z"
   },
   {
    "duration": 268,
    "start_time": "2021-12-29T12:48:39.076Z"
   },
   {
    "duration": 365,
    "start_time": "2021-12-29T12:49:05.437Z"
   },
   {
    "duration": 296,
    "start_time": "2021-12-29T12:49:31.611Z"
   },
   {
    "duration": 349,
    "start_time": "2021-12-29T12:49:49.996Z"
   },
   {
    "duration": 402,
    "start_time": "2021-12-29T12:50:00.824Z"
   },
   {
    "duration": 283,
    "start_time": "2021-12-29T12:50:14.093Z"
   },
   {
    "duration": 520,
    "start_time": "2021-12-29T12:50:25.456Z"
   },
   {
    "duration": 538,
    "start_time": "2021-12-29T12:52:41.922Z"
   },
   {
    "duration": 279,
    "start_time": "2021-12-29T12:53:03.610Z"
   },
   {
    "duration": 316,
    "start_time": "2021-12-29T12:53:17.696Z"
   },
   {
    "duration": 271,
    "start_time": "2021-12-29T13:02:41.283Z"
   },
   {
    "duration": 598,
    "start_time": "2021-12-29T13:03:10.227Z"
   },
   {
    "duration": 354,
    "start_time": "2021-12-29T13:03:22.022Z"
   },
   {
    "duration": 299,
    "start_time": "2021-12-29T13:04:18.147Z"
   },
   {
    "duration": 297,
    "start_time": "2021-12-29T13:04:31.714Z"
   },
   {
    "duration": 349,
    "start_time": "2021-12-29T13:04:40.258Z"
   },
   {
    "duration": 509,
    "start_time": "2021-12-29T13:09:10.297Z"
   },
   {
    "duration": 410,
    "start_time": "2021-12-29T13:09:31.637Z"
   },
   {
    "duration": 408,
    "start_time": "2021-12-29T13:09:53.926Z"
   },
   {
    "duration": 1029,
    "start_time": "2021-12-29T13:12:24.423Z"
   },
   {
    "duration": 992,
    "start_time": "2021-12-29T17:19:04.514Z"
   },
   {
    "duration": 118,
    "start_time": "2021-12-29T17:19:05.509Z"
   },
   {
    "duration": 56,
    "start_time": "2021-12-29T17:19:05.630Z"
   },
   {
    "duration": 1048,
    "start_time": "2021-12-29T17:19:05.689Z"
   },
   {
    "duration": 958,
    "start_time": "2021-12-29T17:31:03.748Z"
   },
   {
    "duration": 12,
    "start_time": "2021-12-29T17:31:30.842Z"
   },
   {
    "duration": 392,
    "start_time": "2021-12-29T17:32:41.054Z"
   },
   {
    "duration": 291,
    "start_time": "2021-12-29T17:36:31.107Z"
   },
   {
    "duration": 1257,
    "start_time": "2021-12-29T17:36:47.585Z"
   },
   {
    "duration": 1551,
    "start_time": "2021-12-29T17:37:20.347Z"
   },
   {
    "duration": 1413,
    "start_time": "2021-12-29T17:37:29.354Z"
   },
   {
    "duration": 1189,
    "start_time": "2021-12-29T17:37:42.090Z"
   },
   {
    "duration": 1265,
    "start_time": "2021-12-29T17:37:58.785Z"
   },
   {
    "duration": 1268,
    "start_time": "2021-12-29T17:38:06.091Z"
   },
   {
    "duration": 1491,
    "start_time": "2021-12-29T17:38:13.186Z"
   },
   {
    "duration": 1270,
    "start_time": "2021-12-29T17:38:51.721Z"
   },
   {
    "duration": 1234,
    "start_time": "2021-12-29T17:39:04.683Z"
   },
   {
    "duration": 1903,
    "start_time": "2021-12-29T17:39:37.737Z"
   },
   {
    "duration": 1666,
    "start_time": "2021-12-29T17:39:53.744Z"
   },
   {
    "duration": 1487,
    "start_time": "2021-12-29T17:40:11.101Z"
   },
   {
    "duration": 1256,
    "start_time": "2021-12-29T17:40:26.416Z"
   },
   {
    "duration": 325,
    "start_time": "2021-12-29T18:19:15.421Z"
   },
   {
    "duration": 318,
    "start_time": "2021-12-29T18:20:17.265Z"
   },
   {
    "duration": 393,
    "start_time": "2021-12-29T18:20:28.421Z"
   },
   {
    "duration": 291,
    "start_time": "2021-12-29T18:21:27.741Z"
   },
   {
    "duration": 308,
    "start_time": "2021-12-29T18:22:01.780Z"
   },
   {
    "duration": 529,
    "start_time": "2021-12-29T18:22:30.485Z"
   },
   {
    "duration": 120,
    "start_time": "2021-12-30T14:15:19.868Z"
   },
   {
    "duration": 55,
    "start_time": "2021-12-30T14:15:19.990Z"
   },
   {
    "duration": 30,
    "start_time": "2021-12-30T14:15:20.048Z"
   },
   {
    "duration": 624,
    "start_time": "2021-12-30T14:15:58.777Z"
   },
   {
    "duration": 278,
    "start_time": "2021-12-30T14:16:14.155Z"
   },
   {
    "duration": 275,
    "start_time": "2021-12-30T14:16:57.246Z"
   },
   {
    "duration": 12,
    "start_time": "2021-12-30T14:17:39.582Z"
   },
   {
    "duration": 319,
    "start_time": "2021-12-30T14:27:52.473Z"
   },
   {
    "duration": 116,
    "start_time": "2021-12-30T14:28:04.387Z"
   },
   {
    "duration": 349,
    "start_time": "2021-12-30T14:30:12.832Z"
   },
   {
    "duration": 19,
    "start_time": "2021-12-30T14:32:38.964Z"
   },
   {
    "duration": 32,
    "start_time": "2021-12-30T14:32:55.394Z"
   },
   {
    "duration": 23,
    "start_time": "2021-12-30T14:33:24.403Z"
   },
   {
    "duration": 24,
    "start_time": "2021-12-30T14:35:35.283Z"
   },
   {
    "duration": 22,
    "start_time": "2021-12-30T14:59:54.892Z"
   },
   {
    "duration": 36,
    "start_time": "2021-12-30T15:00:54.595Z"
   },
   {
    "duration": 33,
    "start_time": "2021-12-30T15:03:20.118Z"
   },
   {
    "duration": 26,
    "start_time": "2021-12-30T15:04:34.630Z"
   },
   {
    "duration": 28,
    "start_time": "2021-12-30T15:05:20.229Z"
   },
   {
    "duration": 29,
    "start_time": "2021-12-30T15:06:08.654Z"
   },
   {
    "duration": 37,
    "start_time": "2021-12-30T15:06:34.088Z"
   },
   {
    "duration": 211,
    "start_time": "2021-12-30T15:12:48.669Z"
   },
   {
    "duration": 186,
    "start_time": "2021-12-30T15:13:14.342Z"
   },
   {
    "duration": 34,
    "start_time": "2021-12-30T15:16:43.586Z"
   },
   {
    "duration": 209,
    "start_time": "2021-12-30T15:34:44.502Z"
   },
   {
    "duration": 672,
    "start_time": "2021-12-30T15:42:09.385Z"
   },
   {
    "duration": 53,
    "start_time": "2021-12-30T15:42:10.059Z"
   },
   {
    "duration": 37,
    "start_time": "2021-12-30T15:42:10.114Z"
   },
   {
    "duration": 46,
    "start_time": "2021-12-30T15:42:22.388Z"
   },
   {
    "duration": 57,
    "start_time": "2021-12-30T15:44:45.812Z"
   },
   {
    "duration": 55,
    "start_time": "2021-12-30T15:45:50.170Z"
   },
   {
    "duration": 58,
    "start_time": "2021-12-30T15:46:04.856Z"
   },
   {
    "duration": 53,
    "start_time": "2021-12-30T15:47:33.997Z"
   },
   {
    "duration": 51,
    "start_time": "2021-12-30T15:48:22.508Z"
   },
   {
    "duration": 990,
    "start_time": "2022-01-02T15:25:01.375Z"
   },
   {
    "duration": 107,
    "start_time": "2022-01-02T15:25:02.368Z"
   },
   {
    "duration": 56,
    "start_time": "2022-01-02T15:25:02.478Z"
   },
   {
    "duration": 88,
    "start_time": "2022-01-02T15:25:06.205Z"
   },
   {
    "duration": 703,
    "start_time": "2022-01-02T15:26:24.176Z"
   },
   {
    "duration": 339,
    "start_time": "2022-01-02T15:31:13.813Z"
   },
   {
    "duration": 464,
    "start_time": "2022-01-02T15:32:46.200Z"
   },
   {
    "duration": 318,
    "start_time": "2022-01-02T15:33:08.757Z"
   },
   {
    "duration": 330,
    "start_time": "2022-01-02T15:33:18.655Z"
   },
   {
    "duration": 323,
    "start_time": "2022-01-02T15:33:32.180Z"
   },
   {
    "duration": 360,
    "start_time": "2022-01-02T15:33:48.262Z"
   },
   {
    "duration": 339,
    "start_time": "2022-01-02T15:40:07.301Z"
   },
   {
    "duration": 401,
    "start_time": "2022-01-02T16:20:27.253Z"
   },
   {
    "duration": 837,
    "start_time": "2022-01-02T16:20:46.419Z"
   },
   {
    "duration": 1099,
    "start_time": "2022-01-02T16:30:49.824Z"
   },
   {
    "duration": 1144,
    "start_time": "2022-01-02T16:31:37.338Z"
   },
   {
    "duration": 1247,
    "start_time": "2022-01-02T16:32:20.359Z"
   },
   {
    "duration": 786,
    "start_time": "2022-01-02T16:35:35.724Z"
   },
   {
    "duration": 4820,
    "start_time": "2022-01-02T16:36:04.669Z"
   },
   {
    "duration": 1482,
    "start_time": "2022-01-02T16:36:42.659Z"
   },
   {
    "duration": 758,
    "start_time": "2022-01-02T16:37:06.311Z"
   },
   {
    "duration": 859,
    "start_time": "2022-01-02T16:37:22.547Z"
   },
   {
    "duration": 199,
    "start_time": "2022-01-02T16:37:43.102Z"
   },
   {
    "duration": 111,
    "start_time": "2022-01-02T16:37:43.304Z"
   },
   {
    "duration": 77,
    "start_time": "2022-01-02T16:37:43.418Z"
   },
   {
    "duration": 797,
    "start_time": "2022-01-02T16:37:46.859Z"
   },
   {
    "duration": 793,
    "start_time": "2022-01-02T16:38:21.771Z"
   },
   {
    "duration": 1012,
    "start_time": "2022-01-03T09:10:23.402Z"
   },
   {
    "duration": 125,
    "start_time": "2022-01-03T09:10:24.418Z"
   },
   {
    "duration": 74,
    "start_time": "2022-01-03T09:10:24.546Z"
   },
   {
    "duration": 547,
    "start_time": "2022-01-03T09:10:31.014Z"
   },
   {
    "duration": 904,
    "start_time": "2022-01-03T09:10:57.557Z"
   },
   {
    "duration": 19,
    "start_time": "2022-01-03T09:11:31.674Z"
   },
   {
    "duration": 19,
    "start_time": "2022-01-03T09:12:19.078Z"
   },
   {
    "duration": 106,
    "start_time": "2022-01-03T09:13:35.279Z"
   },
   {
    "duration": 117,
    "start_time": "2022-01-03T09:16:20.869Z"
   },
   {
    "duration": 328,
    "start_time": "2022-01-03T09:17:59.635Z"
   },
   {
    "duration": 807,
    "start_time": "2022-01-03T09:19:01.295Z"
   },
   {
    "duration": 781,
    "start_time": "2022-01-03T09:45:28.740Z"
   },
   {
    "duration": 825,
    "start_time": "2022-01-03T09:46:04.002Z"
   },
   {
    "duration": 486,
    "start_time": "2022-01-03T09:47:01.415Z"
   },
   {
    "duration": 89,
    "start_time": "2022-01-03T09:48:45.738Z"
   },
   {
    "duration": 500,
    "start_time": "2022-01-03T09:49:49.793Z"
   },
   {
    "duration": 501,
    "start_time": "2022-01-03T09:50:03.305Z"
   },
   {
    "duration": 510,
    "start_time": "2022-01-03T09:50:11.625Z"
   },
   {
    "duration": 590,
    "start_time": "2022-01-03T09:56:01.402Z"
   },
   {
    "duration": 387,
    "start_time": "2022-01-03T17:20:53.625Z"
   },
   {
    "duration": 972,
    "start_time": "2022-01-03T17:21:00.790Z"
   },
   {
    "duration": 114,
    "start_time": "2022-01-03T17:21:01.767Z"
   },
   {
    "duration": 85,
    "start_time": "2022-01-03T17:21:01.885Z"
   },
   {
    "duration": 1110,
    "start_time": "2022-01-03T17:21:04.921Z"
   },
   {
    "duration": 1351,
    "start_time": "2022-01-03T17:26:23.425Z"
   },
   {
    "duration": 1484,
    "start_time": "2022-01-03T17:26:40.856Z"
   },
   {
    "duration": 1003,
    "start_time": "2022-01-03T17:26:50.244Z"
   },
   {
    "duration": 1001,
    "start_time": "2022-01-03T17:27:06.353Z"
   },
   {
    "duration": 1007,
    "start_time": "2022-01-03T17:27:30.689Z"
   },
   {
    "duration": 884,
    "start_time": "2022-01-03T17:33:16.250Z"
   },
   {
    "duration": 907,
    "start_time": "2022-01-03T17:34:09.689Z"
   },
   {
    "duration": 862,
    "start_time": "2022-01-03T17:34:19.513Z"
   },
   {
    "duration": 932,
    "start_time": "2022-01-03T17:34:33.837Z"
   },
   {
    "duration": 841,
    "start_time": "2022-01-03T17:34:48.857Z"
   },
   {
    "duration": 965,
    "start_time": "2022-01-03T17:37:14.212Z"
   },
   {
    "duration": 1260,
    "start_time": "2022-01-03T17:44:04.324Z"
   },
   {
    "duration": 1485,
    "start_time": "2022-01-03T17:44:32.584Z"
   },
   {
    "duration": 1524,
    "start_time": "2022-01-03T17:51:54.179Z"
   },
   {
    "duration": 1491,
    "start_time": "2022-01-03T17:53:05.882Z"
   },
   {
    "duration": 1867,
    "start_time": "2022-01-03T17:59:00.518Z"
   },
   {
    "duration": 1835,
    "start_time": "2022-01-03T17:59:25.670Z"
   },
   {
    "duration": 2656,
    "start_time": "2022-01-03T18:05:51.125Z"
   },
   {
    "duration": 2291,
    "start_time": "2022-01-03T18:07:15.924Z"
   },
   {
    "duration": 2279,
    "start_time": "2022-01-03T18:11:53.728Z"
   },
   {
    "duration": 2329,
    "start_time": "2022-01-03T18:12:43.419Z"
   },
   {
    "duration": 2692,
    "start_time": "2022-01-03T18:15:33.592Z"
   },
   {
    "duration": 1966,
    "start_time": "2022-01-03T18:18:07.044Z"
   },
   {
    "duration": 2347,
    "start_time": "2022-01-03T18:18:46.059Z"
   },
   {
    "duration": 2487,
    "start_time": "2022-01-03T18:30:04.315Z"
   },
   {
    "duration": 2526,
    "start_time": "2022-01-03T18:30:49.556Z"
   },
   {
    "duration": 2406,
    "start_time": "2022-01-03T18:31:01.919Z"
   },
   {
    "duration": 2910,
    "start_time": "2022-01-03T18:32:20.334Z"
   },
   {
    "duration": 94,
    "start_time": "2022-01-03T18:36:54.821Z"
   },
   {
    "duration": 3429,
    "start_time": "2022-01-03T18:37:03.516Z"
   },
   {
    "duration": 738,
    "start_time": "2022-01-04T14:10:45.262Z"
   },
   {
    "duration": 72,
    "start_time": "2022-01-04T14:10:46.002Z"
   },
   {
    "duration": 61,
    "start_time": "2022-01-04T14:10:46.077Z"
   },
   {
    "duration": 2701,
    "start_time": "2022-01-04T14:10:46.140Z"
   },
   {
    "duration": 117,
    "start_time": "2022-01-04T14:18:06.546Z"
   },
   {
    "duration": 123,
    "start_time": "2022-01-04T14:18:24.773Z"
   },
   {
    "duration": 2129,
    "start_time": "2022-01-04T14:19:10.908Z"
   },
   {
    "duration": 2083,
    "start_time": "2022-01-04T14:19:53.654Z"
   },
   {
    "duration": 2307,
    "start_time": "2022-01-04T14:21:58.904Z"
   },
   {
    "duration": 1842,
    "start_time": "2022-01-04T14:22:11.695Z"
   },
   {
    "duration": 1958,
    "start_time": "2022-01-04T14:23:09.044Z"
   },
   {
    "duration": 1905,
    "start_time": "2022-01-04T14:23:54.654Z"
   },
   {
    "duration": 2491,
    "start_time": "2022-01-04T15:28:40.455Z"
   },
   {
    "duration": 1768,
    "start_time": "2022-01-04T15:29:10.237Z"
   },
   {
    "duration": 1916,
    "start_time": "2022-01-04T15:29:44.481Z"
   },
   {
    "duration": 1703,
    "start_time": "2022-01-04T15:30:10.630Z"
   },
   {
    "duration": 2131,
    "start_time": "2022-01-04T15:30:27.605Z"
   },
   {
    "duration": 1708,
    "start_time": "2022-01-04T15:30:39.221Z"
   },
   {
    "duration": 1715,
    "start_time": "2022-01-04T15:34:13.904Z"
   },
   {
    "duration": 1894,
    "start_time": "2022-01-04T15:40:11.745Z"
   },
   {
    "duration": 2353,
    "start_time": "2022-01-04T15:41:24.719Z"
   },
   {
    "duration": 1781,
    "start_time": "2022-01-04T15:41:53.424Z"
   },
   {
    "duration": 1736,
    "start_time": "2022-01-04T15:42:44.877Z"
   },
   {
    "duration": 2032,
    "start_time": "2022-01-04T15:43:12.359Z"
   },
   {
    "duration": 1794,
    "start_time": "2022-01-04T15:44:06.590Z"
   },
   {
    "duration": 1712,
    "start_time": "2022-01-04T15:45:21.975Z"
   },
   {
    "duration": 1723,
    "start_time": "2022-01-04T15:46:17.266Z"
   },
   {
    "duration": 1787,
    "start_time": "2022-01-04T15:46:56.427Z"
   },
   {
    "duration": 1757,
    "start_time": "2022-01-04T15:49:06.602Z"
   },
   {
    "duration": 1765,
    "start_time": "2022-01-04T15:49:57.388Z"
   },
   {
    "duration": 1830,
    "start_time": "2022-01-04T15:52:56.560Z"
   },
   {
    "duration": 2108,
    "start_time": "2022-01-04T15:54:01.261Z"
   },
   {
    "duration": 1811,
    "start_time": "2022-01-04T15:54:15.521Z"
   },
   {
    "duration": 706,
    "start_time": "2022-01-05T11:19:42.587Z"
   },
   {
    "duration": 67,
    "start_time": "2022-01-05T11:19:43.295Z"
   },
   {
    "duration": 35,
    "start_time": "2022-01-05T11:19:43.364Z"
   },
   {
    "duration": 2107,
    "start_time": "2022-01-05T11:19:47.505Z"
   },
   {
    "duration": 1847,
    "start_time": "2022-01-05T11:22:27.157Z"
   },
   {
    "duration": 96,
    "start_time": "2022-01-05T11:40:36.460Z"
   },
   {
    "duration": 1844,
    "start_time": "2022-01-05T11:40:54.082Z"
   },
   {
    "duration": 1925,
    "start_time": "2022-01-05T11:42:07.778Z"
   },
   {
    "duration": 2197,
    "start_time": "2022-01-05T11:49:10.977Z"
   },
   {
    "duration": 2232,
    "start_time": "2022-01-05T11:50:16.131Z"
   },
   {
    "duration": 2449,
    "start_time": "2022-01-05T11:51:37.150Z"
   },
   {
    "duration": 2194,
    "start_time": "2022-01-05T11:53:02.930Z"
   },
   {
    "duration": 2195,
    "start_time": "2022-01-05T11:53:55.885Z"
   },
   {
    "duration": 2226,
    "start_time": "2022-01-05T11:55:17.577Z"
   },
   {
    "duration": 2315,
    "start_time": "2022-01-05T11:56:01.332Z"
   },
   {
    "duration": 2357,
    "start_time": "2022-01-05T11:56:22.112Z"
   },
   {
    "duration": 2321,
    "start_time": "2022-01-05T11:57:15.490Z"
   },
   {
    "duration": 2180,
    "start_time": "2022-01-05T11:58:29.289Z"
   },
   {
    "duration": 2388,
    "start_time": "2022-01-05T11:59:49.162Z"
   },
   {
    "duration": 2313,
    "start_time": "2022-01-05T12:00:34.289Z"
   },
   {
    "duration": 2543,
    "start_time": "2022-01-05T12:27:49.210Z"
   },
   {
    "duration": 2377,
    "start_time": "2022-01-05T12:36:57.531Z"
   },
   {
    "duration": 2524,
    "start_time": "2022-01-05T12:37:47.552Z"
   },
   {
    "duration": 2682,
    "start_time": "2022-01-05T12:38:58.490Z"
   },
   {
    "duration": 90,
    "start_time": "2022-01-05T12:52:47.091Z"
   },
   {
    "duration": 2180,
    "start_time": "2022-01-05T12:53:07.464Z"
   },
   {
    "duration": 2197,
    "start_time": "2022-01-05T12:53:29.800Z"
   },
   {
    "duration": 2015,
    "start_time": "2022-01-05T12:55:08.501Z"
   },
   {
    "duration": 2372,
    "start_time": "2022-01-05T12:55:58.002Z"
   },
   {
    "duration": 114,
    "start_time": "2022-01-05T12:56:46.403Z"
   },
   {
    "duration": 103,
    "start_time": "2022-01-05T12:57:43.369Z"
   },
   {
    "duration": 707,
    "start_time": "2022-01-05T12:58:25.974Z"
   },
   {
    "duration": 71,
    "start_time": "2022-01-05T12:58:26.683Z"
   },
   {
    "duration": 32,
    "start_time": "2022-01-05T12:58:26.756Z"
   },
   {
    "duration": 102,
    "start_time": "2022-01-05T12:58:29.737Z"
   },
   {
    "duration": 86,
    "start_time": "2022-01-05T13:00:22.642Z"
   },
   {
    "duration": 2581,
    "start_time": "2022-01-05T13:00:42.126Z"
   },
   {
    "duration": 280,
    "start_time": "2022-01-05T13:08:22.473Z"
   },
   {
    "duration": 107,
    "start_time": "2022-01-05T13:08:41.846Z"
   },
   {
    "duration": 7950,
    "start_time": "2022-01-05T13:08:49.051Z"
   },
   {
    "duration": 2547,
    "start_time": "2022-01-05T13:09:33.602Z"
   },
   {
    "duration": 2319,
    "start_time": "2022-01-05T13:13:05.968Z"
   },
   {
    "duration": 88,
    "start_time": "2022-01-05T13:14:46.249Z"
   },
   {
    "duration": 80,
    "start_time": "2022-01-05T13:14:55.956Z"
   },
   {
    "duration": 90,
    "start_time": "2022-01-05T13:15:43.389Z"
   },
   {
    "duration": 966,
    "start_time": "2022-01-05T13:15:57.975Z"
   },
   {
    "duration": 2561,
    "start_time": "2022-01-05T13:16:19.129Z"
   },
   {
    "duration": 2295,
    "start_time": "2022-01-05T13:19:10.986Z"
   },
   {
    "duration": 2753,
    "start_time": "2022-01-05T13:27:40.469Z"
   },
   {
    "duration": 2582,
    "start_time": "2022-01-05T13:28:55.402Z"
   },
   {
    "duration": 2907,
    "start_time": "2022-01-05T13:29:45.871Z"
   },
   {
    "duration": 2798,
    "start_time": "2022-01-05T13:30:27.587Z"
   },
   {
    "duration": 2705,
    "start_time": "2022-01-05T13:32:40.429Z"
   },
   {
    "duration": 2814,
    "start_time": "2022-01-05T13:33:14.357Z"
   },
   {
    "duration": 2669,
    "start_time": "2022-01-05T13:35:28.668Z"
   },
   {
    "duration": 2994,
    "start_time": "2022-01-05T15:37:39.848Z"
   },
   {
    "duration": 3140,
    "start_time": "2022-01-05T15:41:34.615Z"
   },
   {
    "duration": 2953,
    "start_time": "2022-01-05T15:44:37.561Z"
   },
   {
    "duration": 84,
    "start_time": "2022-01-05T16:01:53.998Z"
   },
   {
    "duration": 130,
    "start_time": "2022-01-05T16:03:38.705Z"
   },
   {
    "duration": 63,
    "start_time": "2022-01-05T16:03:38.836Z"
   },
   {
    "duration": 45,
    "start_time": "2022-01-05T16:03:38.901Z"
   },
   {
    "duration": 106,
    "start_time": "2022-01-05T16:03:43.412Z"
   },
   {
    "duration": 89,
    "start_time": "2022-01-05T16:04:00.486Z"
   },
   {
    "duration": 89,
    "start_time": "2022-01-05T16:04:09.162Z"
   },
   {
    "duration": 99,
    "start_time": "2022-01-05T16:04:43.961Z"
   },
   {
    "duration": 4502,
    "start_time": "2022-01-05T16:05:01.214Z"
   },
   {
    "duration": 955,
    "start_time": "2022-01-06T11:11:01.907Z"
   },
   {
    "duration": 100,
    "start_time": "2022-01-06T11:11:02.865Z"
   },
   {
    "duration": 60,
    "start_time": "2022-01-06T11:11:02.968Z"
   },
   {
    "duration": 121,
    "start_time": "2022-01-06T11:11:09.287Z"
   },
   {
    "duration": 116,
    "start_time": "2022-01-06T11:11:32.788Z"
   },
   {
    "duration": 9645,
    "start_time": "2022-01-06T11:11:40.774Z"
   },
   {
    "duration": 7535,
    "start_time": "2022-01-06T11:16:11.800Z"
   },
   {
    "duration": 7165,
    "start_time": "2022-01-06T11:19:00.288Z"
   },
   {
    "duration": 8997,
    "start_time": "2022-01-06T11:20:32.957Z"
   },
   {
    "duration": 9507,
    "start_time": "2022-01-06T11:22:45.803Z"
   },
   {
    "duration": 1349,
    "start_time": "2022-01-08T18:44:51.526Z"
   },
   {
    "duration": 96,
    "start_time": "2022-01-08T18:47:20.408Z"
   },
   {
    "duration": 37,
    "start_time": "2022-01-08T18:51:17.021Z"
   },
   {
    "duration": 88,
    "start_time": "2022-01-08T18:51:24.006Z"
   },
   {
    "duration": 73,
    "start_time": "2022-01-08T18:51:44.762Z"
   },
   {
    "duration": 58,
    "start_time": "2022-01-08T18:52:22.182Z"
   },
   {
    "duration": 61,
    "start_time": "2022-01-08T18:52:35.936Z"
   },
   {
    "duration": 59,
    "start_time": "2022-01-08T18:53:25.877Z"
   },
   {
    "duration": 86,
    "start_time": "2022-01-08T18:57:08.645Z"
   },
   {
    "duration": 960,
    "start_time": "2022-01-09T10:39:22.267Z"
   },
   {
    "duration": 95,
    "start_time": "2022-01-09T10:39:23.230Z"
   },
   {
    "duration": 46,
    "start_time": "2022-01-09T10:39:23.328Z"
   },
   {
    "duration": 57,
    "start_time": "2022-01-09T10:39:23.377Z"
   },
   {
    "duration": 1096,
    "start_time": "2022-01-09T10:39:23.437Z"
   },
   {
    "duration": 1199,
    "start_time": "2022-01-09T10:40:05.286Z"
   },
   {
    "duration": 567,
    "start_time": "2022-01-09T10:41:50.147Z"
   },
   {
    "duration": 670,
    "start_time": "2022-01-09T10:43:41.231Z"
   },
   {
    "duration": 207,
    "start_time": "2022-01-09T10:53:22.069Z"
   },
   {
    "duration": 1323,
    "start_time": "2022-01-09T11:14:28.264Z"
   },
   {
    "duration": 674,
    "start_time": "2022-01-09T11:16:14.041Z"
   },
   {
    "duration": 554,
    "start_time": "2022-01-09T11:16:32.681Z"
   },
   {
    "duration": 338,
    "start_time": "2022-01-09T11:16:38.419Z"
   },
   {
    "duration": 370,
    "start_time": "2022-01-09T11:16:45.346Z"
   },
   {
    "duration": 11,
    "start_time": "2022-01-09T11:18:30.686Z"
   },
   {
    "duration": 746,
    "start_time": "2022-01-09T11:18:35.458Z"
   },
   {
    "duration": 97,
    "start_time": "2022-01-09T11:18:44.288Z"
   },
   {
    "duration": 670,
    "start_time": "2022-01-09T11:20:09.453Z"
   },
   {
    "duration": 582,
    "start_time": "2022-01-09T11:20:16.165Z"
   },
   {
    "duration": 443,
    "start_time": "2022-01-09T11:20:21.654Z"
   },
   {
    "duration": 107,
    "start_time": "2022-01-09T11:20:27.326Z"
   },
   {
    "duration": 494,
    "start_time": "2022-01-09T11:22:03.618Z"
   },
   {
    "duration": 556,
    "start_time": "2022-01-09T11:24:40.424Z"
   },
   {
    "duration": 706,
    "start_time": "2022-01-09T11:24:47.008Z"
   },
   {
    "duration": 516,
    "start_time": "2022-01-09T11:24:51.629Z"
   },
   {
    "duration": 24,
    "start_time": "2022-01-09T11:37:58.409Z"
   },
   {
    "duration": 24,
    "start_time": "2022-01-09T11:38:19.315Z"
   },
   {
    "duration": 33,
    "start_time": "2022-01-09T11:38:37.870Z"
   },
   {
    "duration": 6,
    "start_time": "2022-01-09T11:38:53.676Z"
   },
   {
    "duration": 395,
    "start_time": "2022-01-09T11:42:41.728Z"
   },
   {
    "duration": 6,
    "start_time": "2022-01-09T11:42:55.278Z"
   },
   {
    "duration": 7,
    "start_time": "2022-01-09T11:46:39.894Z"
   },
   {
    "duration": 492,
    "start_time": "2022-01-09T11:46:42.924Z"
   },
   {
    "duration": 8,
    "start_time": "2022-01-09T11:46:51.477Z"
   },
   {
    "duration": 556,
    "start_time": "2022-01-09T11:47:11.504Z"
   },
   {
    "duration": 502,
    "start_time": "2022-01-09T11:47:21.214Z"
   },
   {
    "duration": 498,
    "start_time": "2022-01-09T11:48:28.585Z"
   },
   {
    "duration": 2414,
    "start_time": "2022-01-09T11:48:38.093Z"
   },
   {
    "duration": 100,
    "start_time": "2022-01-09T11:55:12.028Z"
   },
   {
    "duration": 142,
    "start_time": "2022-01-09T11:55:22.450Z"
   },
   {
    "duration": 169,
    "start_time": "2022-01-09T11:55:42.209Z"
   },
   {
    "duration": 162,
    "start_time": "2022-01-09T11:56:14.580Z"
   },
   {
    "duration": 658,
    "start_time": "2022-01-10T10:32:42.524Z"
   },
   {
    "duration": 53,
    "start_time": "2022-01-10T10:32:43.184Z"
   },
   {
    "duration": 21,
    "start_time": "2022-01-10T10:32:43.239Z"
   },
   {
    "duration": 14,
    "start_time": "2022-01-10T10:32:43.261Z"
   },
   {
    "duration": 20,
    "start_time": "2022-01-10T10:32:43.277Z"
   },
   {
    "duration": 379,
    "start_time": "2022-01-10T10:32:43.299Z"
   },
   {
    "duration": 461,
    "start_time": "2022-01-10T10:32:43.680Z"
   },
   {
    "duration": 263,
    "start_time": "2022-01-10T10:32:44.145Z"
   },
   {
    "duration": 193,
    "start_time": "2022-01-10T10:32:44.410Z"
   },
   {
    "duration": 7,
    "start_time": "2022-01-10T10:32:44.605Z"
   },
   {
    "duration": 301,
    "start_time": "2022-01-10T10:32:44.613Z"
   },
   {
    "duration": 43,
    "start_time": "2022-01-10T10:32:44.916Z"
   },
   {
    "duration": 285,
    "start_time": "2022-01-10T10:32:44.961Z"
   },
   {
    "duration": 281,
    "start_time": "2022-01-10T10:32:45.248Z"
   },
   {
    "duration": 264,
    "start_time": "2022-01-10T10:32:45.530Z"
   },
   {
    "duration": 277,
    "start_time": "2022-01-10T10:32:45.796Z"
   },
   {
    "duration": 294,
    "start_time": "2022-01-10T10:32:46.075Z"
   },
   {
    "duration": 270,
    "start_time": "2022-01-10T10:32:46.371Z"
   },
   {
    "duration": 351,
    "start_time": "2022-01-10T10:32:46.643Z"
   },
   {
    "duration": 14,
    "start_time": "2022-01-10T10:32:46.995Z"
   },
   {
    "duration": 28,
    "start_time": "2022-01-10T10:32:47.011Z"
   },
   {
    "duration": 14,
    "start_time": "2022-01-10T10:32:47.041Z"
   },
   {
    "duration": 4,
    "start_time": "2022-01-10T10:32:47.058Z"
   },
   {
    "duration": 242,
    "start_time": "2022-01-10T10:32:47.063Z"
   },
   {
    "duration": 4,
    "start_time": "2022-01-10T10:32:47.307Z"
   },
   {
    "duration": 326,
    "start_time": "2022-01-10T10:32:47.313Z"
   },
   {
    "duration": 301,
    "start_time": "2022-01-10T10:32:47.642Z"
   },
   {
    "duration": 309,
    "start_time": "2022-01-10T10:32:47.945Z"
   },
   {
    "duration": 1373,
    "start_time": "2022-01-10T10:32:48.255Z"
   },
   {
    "duration": 144,
    "start_time": "2022-01-10T10:37:35.119Z"
   },
   {
    "duration": 939,
    "start_time": "2022-01-10T11:08:07.739Z"
   },
   {
    "duration": 101,
    "start_time": "2022-01-10T11:08:12.610Z"
   },
   {
    "duration": 938,
    "start_time": "2022-01-10T15:54:38.255Z"
   },
   {
    "duration": 107,
    "start_time": "2022-01-10T15:54:39.197Z"
   },
   {
    "duration": 37,
    "start_time": "2022-01-10T15:54:39.307Z"
   },
   {
    "duration": 1756,
    "start_time": "2022-01-10T15:54:43.489Z"
   },
   {
    "duration": 70,
    "start_time": "2022-01-10T15:56:59.022Z"
   },
   {
    "duration": 622,
    "start_time": "2022-01-10T16:00:32.229Z"
   },
   {
    "duration": 384,
    "start_time": "2022-01-10T16:25:07.690Z"
   },
   {
    "duration": 678,
    "start_time": "2022-01-10T16:27:17.238Z"
   },
   {
    "duration": 37,
    "start_time": "2022-01-10T16:27:35.765Z"
   },
   {
    "duration": 86,
    "start_time": "2022-01-10T16:28:35.431Z"
   },
   {
    "duration": 46,
    "start_time": "2022-01-10T16:31:27.133Z"
   },
   {
    "duration": 42,
    "start_time": "2022-01-10T16:32:11.025Z"
   },
   {
    "duration": 44,
    "start_time": "2022-01-10T16:33:10.952Z"
   },
   {
    "duration": 74,
    "start_time": "2022-01-10T16:33:47.466Z"
   },
   {
    "duration": 678,
    "start_time": "2022-01-10T16:38:02.874Z"
   },
   {
    "duration": 462,
    "start_time": "2022-01-10T16:38:23.118Z"
   },
   {
    "duration": 478,
    "start_time": "2022-01-10T16:38:45.158Z"
   },
   {
    "duration": 449,
    "start_time": "2022-01-10T16:40:30.202Z"
   },
   {
    "duration": 446,
    "start_time": "2022-01-10T16:41:14.067Z"
   },
   {
    "duration": 680,
    "start_time": "2022-01-10T16:41:56.789Z"
   },
   {
    "duration": 519,
    "start_time": "2022-01-10T16:42:17.209Z"
   },
   {
    "duration": 22,
    "start_time": "2022-01-10T16:43:37.230Z"
   },
   {
    "duration": 23,
    "start_time": "2022-01-10T16:43:44.081Z"
   },
   {
    "duration": 24,
    "start_time": "2022-01-10T16:43:50.712Z"
   },
   {
    "duration": 37,
    "start_time": "2022-01-10T16:57:12.147Z"
   },
   {
    "duration": 29,
    "start_time": "2022-01-10T17:00:17.796Z"
   },
   {
    "duration": 120,
    "start_time": "2022-01-10T17:04:31.666Z"
   },
   {
    "duration": 32,
    "start_time": "2022-01-10T17:04:45.034Z"
   },
   {
    "duration": 27,
    "start_time": "2022-01-10T17:05:20.785Z"
   },
   {
    "duration": 23,
    "start_time": "2022-01-10T17:05:43.465Z"
   },
   {
    "duration": 27,
    "start_time": "2022-01-10T17:06:04.066Z"
   },
   {
    "duration": 23,
    "start_time": "2022-01-10T17:06:20.027Z"
   },
   {
    "duration": 6,
    "start_time": "2022-01-10T17:07:47.522Z"
   },
   {
    "duration": 7,
    "start_time": "2022-01-10T17:08:19.383Z"
   },
   {
    "duration": 31,
    "start_time": "2022-01-10T17:08:39.893Z"
   },
   {
    "duration": 31,
    "start_time": "2022-01-10T17:09:24.084Z"
   },
   {
    "duration": 18,
    "start_time": "2022-01-10T17:11:48.780Z"
   },
   {
    "duration": 21,
    "start_time": "2022-01-10T17:13:12.032Z"
   },
   {
    "duration": 26,
    "start_time": "2022-01-10T17:14:13.391Z"
   },
   {
    "duration": 9,
    "start_time": "2022-01-10T17:19:05.885Z"
   },
   {
    "duration": 14,
    "start_time": "2022-01-10T17:19:11.936Z"
   },
   {
    "duration": 15,
    "start_time": "2022-01-10T17:20:33.636Z"
   },
   {
    "duration": 25,
    "start_time": "2022-01-10T17:20:57.658Z"
   },
   {
    "duration": 17,
    "start_time": "2022-01-10T17:21:44.719Z"
   },
   {
    "duration": 398,
    "start_time": "2022-01-10T17:22:39.050Z"
   },
   {
    "duration": 47,
    "start_time": "2022-01-10T17:23:01.976Z"
   },
   {
    "duration": 28,
    "start_time": "2022-01-10T17:23:11.027Z"
   },
   {
    "duration": 18,
    "start_time": "2022-01-10T17:23:15.796Z"
   },
   {
    "duration": 41,
    "start_time": "2022-01-10T17:28:18.254Z"
   },
   {
    "duration": 35,
    "start_time": "2022-01-10T17:29:26.113Z"
   },
   {
    "duration": 19,
    "start_time": "2022-01-10T17:29:54.695Z"
   },
   {
    "duration": 21,
    "start_time": "2022-01-10T17:31:04.063Z"
   },
   {
    "duration": 21,
    "start_time": "2022-01-10T17:31:54.942Z"
   },
   {
    "duration": 423,
    "start_time": "2022-01-10T17:34:24.276Z"
   },
   {
    "duration": 24,
    "start_time": "2022-01-10T17:34:49.648Z"
   },
   {
    "duration": 437,
    "start_time": "2022-01-10T17:38:14.860Z"
   },
   {
    "duration": 23,
    "start_time": "2022-01-10T17:39:25.008Z"
   },
   {
    "duration": 409,
    "start_time": "2022-01-10T17:39:46.650Z"
   },
   {
    "duration": 27,
    "start_time": "2022-01-10T17:41:19.282Z"
   },
   {
    "duration": 802,
    "start_time": "2022-01-26T10:46:16.029Z"
   },
   {
    "duration": 93,
    "start_time": "2022-01-26T10:46:16.834Z"
   },
   {
    "duration": 34,
    "start_time": "2022-01-26T10:46:16.930Z"
   },
   {
    "duration": 64,
    "start_time": "2022-01-26T10:46:16.967Z"
   },
   {
    "duration": 33,
    "start_time": "2022-01-26T10:46:17.033Z"
   },
   {
    "duration": 613,
    "start_time": "2022-01-26T10:46:17.069Z"
   },
   {
    "duration": 533,
    "start_time": "2022-01-26T10:46:17.684Z"
   },
   {
    "duration": 321,
    "start_time": "2022-01-26T10:46:18.224Z"
   },
   {
    "duration": 318,
    "start_time": "2022-01-26T10:46:18.549Z"
   },
   {
    "duration": 10,
    "start_time": "2022-01-26T10:46:18.869Z"
   },
   {
    "duration": 522,
    "start_time": "2022-01-26T10:46:18.882Z"
   },
   {
    "duration": 49,
    "start_time": "2022-01-26T10:46:19.407Z"
   },
   {
    "duration": 391,
    "start_time": "2022-01-26T10:46:19.458Z"
   },
   {
    "duration": 407,
    "start_time": "2022-01-26T10:46:19.851Z"
   },
   {
    "duration": 386,
    "start_time": "2022-01-26T10:46:20.261Z"
   },
   {
    "duration": 433,
    "start_time": "2022-01-26T10:46:20.649Z"
   },
   {
    "duration": 446,
    "start_time": "2022-01-26T10:46:21.085Z"
   },
   {
    "duration": 405,
    "start_time": "2022-01-26T10:46:21.533Z"
   },
   {
    "duration": 547,
    "start_time": "2022-01-26T10:46:21.941Z"
   },
   {
    "duration": 478,
    "start_time": "2022-01-26T14:10:28.321Z"
   },
   {
    "duration": 1305,
    "start_time": "2022-01-26T14:11:20.481Z"
   },
   {
    "duration": 19,
    "start_time": "2022-01-26T14:14:47.063Z"
   },
   {
    "duration": 19,
    "start_time": "2022-01-26T14:17:39.392Z"
   },
   {
    "duration": 27,
    "start_time": "2022-01-26T14:18:05.271Z"
   },
   {
    "duration": 23,
    "start_time": "2022-01-26T14:18:23.044Z"
   },
   {
    "duration": 18,
    "start_time": "2022-01-26T14:35:56.484Z"
   },
   {
    "duration": 21,
    "start_time": "2022-01-26T14:48:55.452Z"
   },
   {
    "duration": 134,
    "start_time": "2022-01-26T14:51:32.226Z"
   },
   {
    "duration": 99,
    "start_time": "2022-01-26T14:51:32.363Z"
   },
   {
    "duration": 32,
    "start_time": "2022-01-26T14:51:32.465Z"
   },
   {
    "duration": 48,
    "start_time": "2022-01-26T14:51:32.524Z"
   },
   {
    "duration": 57,
    "start_time": "2022-01-26T14:51:32.574Z"
   },
   {
    "duration": 548,
    "start_time": "2022-01-26T14:51:32.633Z"
   },
   {
    "duration": 805,
    "start_time": "2022-01-26T14:51:33.184Z"
   },
   {
    "duration": 316,
    "start_time": "2022-01-26T14:51:33.993Z"
   },
   {
    "duration": 354,
    "start_time": "2022-01-26T14:51:34.312Z"
   },
   {
    "duration": 14,
    "start_time": "2022-01-26T14:51:34.670Z"
   },
   {
    "duration": 560,
    "start_time": "2022-01-26T14:51:34.687Z"
   },
   {
    "duration": 40,
    "start_time": "2022-01-26T14:51:35.250Z"
   },
   {
    "duration": 423,
    "start_time": "2022-01-26T14:51:35.292Z"
   },
   {
    "duration": 478,
    "start_time": "2022-01-26T14:51:35.717Z"
   },
   {
    "duration": 614,
    "start_time": "2022-01-26T14:51:36.198Z"
   },
   {
    "duration": 445,
    "start_time": "2022-01-26T14:51:36.814Z"
   },
   {
    "duration": 447,
    "start_time": "2022-01-26T14:51:37.262Z"
   },
   {
    "duration": 396,
    "start_time": "2022-01-26T14:51:37.712Z"
   },
   {
    "duration": 471,
    "start_time": "2022-01-26T14:51:38.110Z"
   },
   {
    "duration": 6931,
    "start_time": "2022-01-26T14:51:52.141Z"
   },
   {
    "duration": 3447,
    "start_time": "2022-01-26T15:01:13.791Z"
   },
   {
    "duration": 7,
    "start_time": "2022-01-26T15:01:29.955Z"
   },
   {
    "duration": 8050,
    "start_time": "2022-01-26T15:04:04.029Z"
   },
   {
    "duration": 176,
    "start_time": "2022-01-26T15:11:36.658Z"
   },
   {
    "duration": 24,
    "start_time": "2022-01-26T15:13:26.143Z"
   },
   {
    "duration": 22,
    "start_time": "2022-01-26T15:14:20.972Z"
   },
   {
    "duration": 24,
    "start_time": "2022-01-26T15:18:15.652Z"
   },
   {
    "duration": 22,
    "start_time": "2022-01-26T15:19:03.995Z"
   },
   {
    "duration": 27,
    "start_time": "2022-01-26T15:19:30.291Z"
   },
   {
    "duration": 322,
    "start_time": "2022-01-26T15:26:56.112Z"
   },
   {
    "duration": 394,
    "start_time": "2022-01-26T15:27:10.174Z"
   },
   {
    "duration": 39,
    "start_time": "2022-01-26T15:28:05.986Z"
   },
   {
    "duration": 22,
    "start_time": "2022-01-26T15:29:40.457Z"
   },
   {
    "duration": 292,
    "start_time": "2022-01-26T15:30:39.670Z"
   },
   {
    "duration": 466,
    "start_time": "2022-01-26T15:30:54.341Z"
   },
   {
    "duration": 58,
    "start_time": "2022-01-26T15:31:14.661Z"
   },
   {
    "duration": 286,
    "start_time": "2022-01-26T15:31:53.749Z"
   },
   {
    "duration": 300,
    "start_time": "2022-01-26T15:32:20.420Z"
   },
   {
    "duration": 22,
    "start_time": "2022-01-26T15:32:33.119Z"
   },
   {
    "duration": 1023,
    "start_time": "2022-01-27T09:14:20.359Z"
   },
   {
    "duration": 123,
    "start_time": "2022-01-27T09:14:21.385Z"
   },
   {
    "duration": 52,
    "start_time": "2022-01-27T09:14:21.511Z"
   },
   {
    "duration": 70,
    "start_time": "2022-01-27T09:14:21.566Z"
   },
   {
    "duration": 53,
    "start_time": "2022-01-27T09:14:21.639Z"
   },
   {
    "duration": 813,
    "start_time": "2022-01-27T09:14:21.694Z"
   },
   {
    "duration": 726,
    "start_time": "2022-01-27T09:14:22.509Z"
   },
   {
    "duration": 433,
    "start_time": "2022-01-27T09:14:23.239Z"
   },
   {
    "duration": 401,
    "start_time": "2022-01-27T09:14:23.676Z"
   },
   {
    "duration": 12,
    "start_time": "2022-01-27T09:14:24.080Z"
   },
   {
    "duration": 858,
    "start_time": "2022-01-27T09:14:24.094Z"
   },
   {
    "duration": 80,
    "start_time": "2022-01-27T09:14:24.955Z"
   },
   {
    "duration": 651,
    "start_time": "2022-01-27T09:14:25.045Z"
   },
   {
    "duration": 577,
    "start_time": "2022-01-27T09:14:25.698Z"
   },
   {
    "duration": 525,
    "start_time": "2022-01-27T09:14:26.278Z"
   },
   {
    "duration": 579,
    "start_time": "2022-01-27T09:14:26.806Z"
   },
   {
    "duration": 512,
    "start_time": "2022-01-27T09:14:27.387Z"
   },
   {
    "duration": 490,
    "start_time": "2022-01-27T09:14:27.901Z"
   },
   {
    "duration": 698,
    "start_time": "2022-01-27T09:14:28.394Z"
   },
   {
    "duration": 39,
    "start_time": "2022-01-27T09:14:59.310Z"
   },
   {
    "duration": 40,
    "start_time": "2022-01-27T09:21:00.959Z"
   },
   {
    "duration": 39,
    "start_time": "2022-01-27T09:21:37.877Z"
   },
   {
    "duration": 32,
    "start_time": "2022-01-27T09:25:16.368Z"
   },
   {
    "duration": 417,
    "start_time": "2022-01-27T09:27:05.543Z"
   },
   {
    "duration": 32,
    "start_time": "2022-01-27T09:27:16.908Z"
   },
   {
    "duration": 349,
    "start_time": "2022-01-27T09:28:42.032Z"
   },
   {
    "duration": 31,
    "start_time": "2022-01-27T09:28:55.978Z"
   },
   {
    "duration": 29,
    "start_time": "2022-01-27T09:32:44.067Z"
   },
   {
    "duration": 38,
    "start_time": "2022-01-27T09:34:07.587Z"
   },
   {
    "duration": 32,
    "start_time": "2022-01-27T09:34:19.464Z"
   },
   {
    "duration": 113,
    "start_time": "2022-01-27T10:56:42.674Z"
   },
   {
    "duration": 326,
    "start_time": "2022-01-27T10:57:03.373Z"
   },
   {
    "duration": 180,
    "start_time": "2022-01-27T10:57:42.949Z"
   },
   {
    "duration": 152,
    "start_time": "2022-01-27T10:57:43.131Z"
   },
   {
    "duration": 64,
    "start_time": "2022-01-27T10:57:43.287Z"
   },
   {
    "duration": 67,
    "start_time": "2022-01-27T10:57:43.354Z"
   },
   {
    "duration": 51,
    "start_time": "2022-01-27T10:57:43.423Z"
   },
   {
    "duration": 849,
    "start_time": "2022-01-27T10:57:43.477Z"
   },
   {
    "duration": 857,
    "start_time": "2022-01-27T10:57:44.332Z"
   },
   {
    "duration": 405,
    "start_time": "2022-01-27T10:57:45.195Z"
   },
   {
    "duration": 411,
    "start_time": "2022-01-27T10:57:45.605Z"
   },
   {
    "duration": 33,
    "start_time": "2022-01-27T10:57:46.019Z"
   },
   {
    "duration": 814,
    "start_time": "2022-01-27T10:57:46.055Z"
   },
   {
    "duration": 52,
    "start_time": "2022-01-27T10:57:46.874Z"
   },
   {
    "duration": 532,
    "start_time": "2022-01-27T10:57:46.928Z"
   },
   {
    "duration": 521,
    "start_time": "2022-01-27T10:57:47.462Z"
   },
   {
    "duration": 574,
    "start_time": "2022-01-27T10:57:47.990Z"
   },
   {
    "duration": 502,
    "start_time": "2022-01-27T10:57:48.572Z"
   },
   {
    "duration": 522,
    "start_time": "2022-01-27T10:57:49.076Z"
   },
   {
    "duration": 484,
    "start_time": "2022-01-27T10:57:49.601Z"
   },
   {
    "duration": 589,
    "start_time": "2022-01-27T10:57:50.088Z"
   },
   {
    "duration": 25,
    "start_time": "2022-01-27T10:57:50.680Z"
   },
   {
    "duration": 37,
    "start_time": "2022-01-27T10:57:50.707Z"
   },
   {
    "duration": 60,
    "start_time": "2022-01-27T10:57:50.746Z"
   },
   {
    "duration": 5,
    "start_time": "2022-01-27T10:57:50.811Z"
   },
   {
    "duration": 442,
    "start_time": "2022-01-27T10:57:50.818Z"
   },
   {
    "duration": 11,
    "start_time": "2022-01-27T10:57:51.266Z"
   },
   {
    "duration": 532,
    "start_time": "2022-01-27T10:57:51.279Z"
   },
   {
    "duration": 511,
    "start_time": "2022-01-27T10:57:51.813Z"
   },
   {
    "duration": 481,
    "start_time": "2022-01-27T10:57:52.326Z"
   },
   {
    "duration": 477,
    "start_time": "2022-01-27T10:58:24.244Z"
   },
   {
    "duration": 471,
    "start_time": "2022-01-27T10:59:10.446Z"
   },
   {
    "duration": 462,
    "start_time": "2022-01-27T10:59:57.859Z"
   },
   {
    "duration": 588,
    "start_time": "2022-01-27T11:00:18.116Z"
   },
   {
    "duration": 461,
    "start_time": "2022-01-27T11:09:05.728Z"
   },
   {
    "duration": 487,
    "start_time": "2022-01-27T11:09:54.309Z"
   },
   {
    "duration": 429,
    "start_time": "2022-01-27T11:10:19.871Z"
   },
   {
    "duration": 388,
    "start_time": "2022-01-27T11:10:36.820Z"
   },
   {
    "duration": 356,
    "start_time": "2022-01-27T11:10:50.500Z"
   },
   {
    "duration": 436,
    "start_time": "2022-01-27T11:15:45.254Z"
   },
   {
    "duration": 958,
    "start_time": "2022-01-27T14:08:47.826Z"
   },
   {
    "duration": 108,
    "start_time": "2022-01-27T14:08:48.787Z"
   },
   {
    "duration": 53,
    "start_time": "2022-01-27T14:08:48.898Z"
   },
   {
    "duration": 61,
    "start_time": "2022-01-27T14:08:48.954Z"
   },
   {
    "duration": 60,
    "start_time": "2022-01-27T14:08:49.019Z"
   },
   {
    "duration": 686,
    "start_time": "2022-01-27T14:08:49.081Z"
   },
   {
    "duration": 617,
    "start_time": "2022-01-27T14:08:49.769Z"
   },
   {
    "duration": 364,
    "start_time": "2022-01-27T14:08:50.389Z"
   },
   {
    "duration": 363,
    "start_time": "2022-01-27T14:08:50.757Z"
   },
   {
    "duration": 27,
    "start_time": "2022-01-27T14:08:51.123Z"
   },
   {
    "duration": 574,
    "start_time": "2022-01-27T14:08:51.154Z"
   },
   {
    "duration": 52,
    "start_time": "2022-01-27T14:08:51.731Z"
   },
   {
    "duration": 539,
    "start_time": "2022-01-27T14:08:51.786Z"
   },
   {
    "duration": 480,
    "start_time": "2022-01-27T14:08:52.328Z"
   },
   {
    "duration": 427,
    "start_time": "2022-01-27T14:08:52.811Z"
   },
   {
    "duration": 501,
    "start_time": "2022-01-27T14:08:53.240Z"
   },
   {
    "duration": 457,
    "start_time": "2022-01-27T14:08:53.744Z"
   },
   {
    "duration": 436,
    "start_time": "2022-01-27T14:08:54.205Z"
   },
   {
    "duration": 675,
    "start_time": "2022-01-27T14:08:54.644Z"
   },
   {
    "duration": 3821,
    "start_time": "2022-01-27T14:09:05.022Z"
   },
   {
    "duration": 4063,
    "start_time": "2022-01-27T14:09:25.792Z"
   },
   {
    "duration": 493,
    "start_time": "2022-01-27T14:10:30.212Z"
   },
   {
    "duration": 377,
    "start_time": "2022-01-27T14:10:46.175Z"
   },
   {
    "duration": 370,
    "start_time": "2022-01-27T14:11:46.028Z"
   },
   {
    "duration": 369,
    "start_time": "2022-01-27T14:12:12.255Z"
   },
   {
    "duration": 407,
    "start_time": "2022-01-27T14:13:02.360Z"
   },
   {
    "duration": 95,
    "start_time": "2022-01-27T14:14:27.587Z"
   },
   {
    "duration": 108,
    "start_time": "2022-01-27T14:14:48.790Z"
   },
   {
    "duration": 144,
    "start_time": "2022-01-27T14:15:54.229Z"
   },
   {
    "duration": 109,
    "start_time": "2022-01-27T14:15:54.376Z"
   },
   {
    "duration": 28,
    "start_time": "2022-01-27T14:15:54.488Z"
   },
   {
    "duration": 69,
    "start_time": "2022-01-27T14:15:54.519Z"
   },
   {
    "duration": 57,
    "start_time": "2022-01-27T14:15:54.591Z"
   },
   {
    "duration": 583,
    "start_time": "2022-01-27T14:15:54.651Z"
   },
   {
    "duration": 541,
    "start_time": "2022-01-27T14:15:55.237Z"
   },
   {
    "duration": 344,
    "start_time": "2022-01-27T14:15:55.782Z"
   },
   {
    "duration": 369,
    "start_time": "2022-01-27T14:15:56.129Z"
   },
   {
    "duration": 11,
    "start_time": "2022-01-27T14:15:56.501Z"
   },
   {
    "duration": 578,
    "start_time": "2022-01-27T14:15:56.514Z"
   },
   {
    "duration": 57,
    "start_time": "2022-01-27T14:15:57.095Z"
   },
   {
    "duration": 438,
    "start_time": "2022-01-27T14:15:57.154Z"
   },
   {
    "duration": 520,
    "start_time": "2022-01-27T14:15:57.594Z"
   },
   {
    "duration": 422,
    "start_time": "2022-01-27T14:15:58.116Z"
   },
   {
    "duration": 437,
    "start_time": "2022-01-27T14:15:58.540Z"
   },
   {
    "duration": 447,
    "start_time": "2022-01-27T14:15:58.979Z"
   },
   {
    "duration": 426,
    "start_time": "2022-01-27T14:15:59.428Z"
   },
   {
    "duration": 517,
    "start_time": "2022-01-27T14:15:59.856Z"
   },
   {
    "duration": 111,
    "start_time": "2022-01-27T14:16:00.376Z"
   },
   {
    "duration": 901,
    "start_time": "2022-01-28T05:39:07.022Z"
   },
   {
    "duration": 104,
    "start_time": "2022-01-28T05:39:07.926Z"
   },
   {
    "duration": 40,
    "start_time": "2022-01-28T05:39:08.039Z"
   },
   {
    "duration": 82,
    "start_time": "2022-01-28T05:39:08.082Z"
   },
   {
    "duration": 65,
    "start_time": "2022-01-28T05:39:08.167Z"
   },
   {
    "duration": 781,
    "start_time": "2022-01-28T05:39:08.235Z"
   },
   {
    "duration": 564,
    "start_time": "2022-01-28T05:39:09.020Z"
   },
   {
    "duration": 347,
    "start_time": "2022-01-28T05:39:09.587Z"
   },
   {
    "duration": 365,
    "start_time": "2022-01-28T05:39:09.936Z"
   },
   {
    "duration": 23,
    "start_time": "2022-01-28T05:39:10.303Z"
   },
   {
    "duration": 531,
    "start_time": "2022-01-28T05:39:10.328Z"
   },
   {
    "duration": 41,
    "start_time": "2022-01-28T05:39:10.862Z"
   },
   {
    "duration": 456,
    "start_time": "2022-01-28T05:39:10.905Z"
   },
   {
    "duration": 460,
    "start_time": "2022-01-28T05:39:11.363Z"
   },
   {
    "duration": 420,
    "start_time": "2022-01-28T05:39:11.826Z"
   },
   {
    "duration": 438,
    "start_time": "2022-01-28T05:39:12.249Z"
   },
   {
    "duration": 442,
    "start_time": "2022-01-28T05:39:12.690Z"
   },
   {
    "duration": 429,
    "start_time": "2022-01-28T05:39:13.135Z"
   },
   {
    "duration": 798,
    "start_time": "2022-01-28T05:39:13.567Z"
   },
   {
    "duration": 157,
    "start_time": "2022-01-28T05:39:14.368Z"
   },
   {
    "duration": 7,
    "start_time": "2022-01-28T05:39:14.528Z"
   },
   {
    "duration": 543,
    "start_time": "2022-01-28T05:39:14.542Z"
   },
   {
    "duration": 8,
    "start_time": "2022-01-28T05:39:15.089Z"
   },
   {
    "duration": 471,
    "start_time": "2022-01-28T05:39:15.100Z"
   },
   {
    "duration": 472,
    "start_time": "2022-01-28T05:39:15.573Z"
   },
   {
    "duration": 437,
    "start_time": "2022-01-28T05:39:16.047Z"
   },
   {
    "duration": 413,
    "start_time": "2022-01-28T05:39:16.487Z"
   },
   {
    "duration": 339,
    "start_time": "2022-01-28T05:39:16.903Z"
   },
   {
    "duration": 438,
    "start_time": "2022-01-28T05:39:17.245Z"
   },
   {
    "duration": 115,
    "start_time": "2022-01-28T05:41:38.443Z"
   },
   {
    "duration": 928,
    "start_time": "2022-01-28T14:26:30.182Z"
   },
   {
    "duration": 107,
    "start_time": "2022-01-28T14:26:31.113Z"
   },
   {
    "duration": 51,
    "start_time": "2022-01-28T14:26:31.223Z"
   },
   {
    "duration": 65,
    "start_time": "2022-01-28T14:26:31.277Z"
   },
   {
    "duration": 37,
    "start_time": "2022-01-28T14:26:31.360Z"
   },
   {
    "duration": 699,
    "start_time": "2022-01-28T14:26:31.400Z"
   },
   {
    "duration": 587,
    "start_time": "2022-01-28T14:26:32.102Z"
   },
   {
    "duration": 345,
    "start_time": "2022-01-28T14:26:32.691Z"
   },
   {
    "duration": 384,
    "start_time": "2022-01-28T14:26:33.039Z"
   },
   {
    "duration": 11,
    "start_time": "2022-01-28T14:26:33.425Z"
   },
   {
    "duration": 561,
    "start_time": "2022-01-28T14:26:33.438Z"
   },
   {
    "duration": 41,
    "start_time": "2022-01-28T14:26:34.001Z"
   },
   {
    "duration": 452,
    "start_time": "2022-01-28T14:26:34.044Z"
   },
   {
    "duration": 453,
    "start_time": "2022-01-28T14:26:34.499Z"
   },
   {
    "duration": 124,
    "start_time": "2022-01-28T14:27:16.715Z"
   },
   {
    "duration": 536,
    "start_time": "2022-01-28T14:27:31.894Z"
   },
   {
    "duration": 579,
    "start_time": "2022-01-28T14:28:51.476Z"
   },
   {
    "duration": 443,
    "start_time": "2022-01-28T14:29:30.605Z"
   },
   {
    "duration": 142,
    "start_time": "2022-01-28T14:30:33.117Z"
   },
   {
    "duration": 313,
    "start_time": "2022-01-28T14:33:03.268Z"
   },
   {
    "duration": 319,
    "start_time": "2022-01-28T14:33:25.160Z"
   },
   {
    "duration": 328,
    "start_time": "2022-01-28T14:36:48.063Z"
   },
   {
    "duration": 381,
    "start_time": "2022-01-28T14:37:07.869Z"
   },
   {
    "duration": 314,
    "start_time": "2022-01-28T14:37:27.975Z"
   },
   {
    "duration": 319,
    "start_time": "2022-01-28T14:37:37.084Z"
   },
   {
    "duration": 312,
    "start_time": "2022-01-28T14:37:42.093Z"
   },
   {
    "duration": 310,
    "start_time": "2022-01-28T14:37:49.482Z"
   },
   {
    "duration": 315,
    "start_time": "2022-01-28T14:38:03.267Z"
   },
   {
    "duration": 335,
    "start_time": "2022-01-28T14:38:27.106Z"
   },
   {
    "duration": 315,
    "start_time": "2022-01-28T14:38:34.064Z"
   },
   {
    "duration": 312,
    "start_time": "2022-01-28T14:38:56.226Z"
   },
   {
    "duration": 9788,
    "start_time": "2022-01-28T14:40:29.234Z"
   },
   {
    "duration": 1836,
    "start_time": "2022-01-28T14:41:21.429Z"
   },
   {
    "duration": 871,
    "start_time": "2022-01-28T14:49:11.695Z"
   },
   {
    "duration": 105,
    "start_time": "2022-01-28T14:49:12.568Z"
   },
   {
    "duration": 36,
    "start_time": "2022-01-28T14:49:12.676Z"
   },
   {
    "duration": 74,
    "start_time": "2022-01-28T14:49:12.715Z"
   },
   {
    "duration": 45,
    "start_time": "2022-01-28T14:49:12.791Z"
   },
   {
    "duration": 711,
    "start_time": "2022-01-28T14:49:12.838Z"
   },
   {
    "duration": 572,
    "start_time": "2022-01-28T14:49:13.551Z"
   },
   {
    "duration": 368,
    "start_time": "2022-01-28T14:49:14.126Z"
   },
   {
    "duration": 369,
    "start_time": "2022-01-28T14:49:14.496Z"
   },
   {
    "duration": 11,
    "start_time": "2022-01-28T14:49:14.868Z"
   },
   {
    "duration": 555,
    "start_time": "2022-01-28T14:49:14.881Z"
   },
   {
    "duration": 50,
    "start_time": "2022-01-28T14:49:15.439Z"
   },
   {
    "duration": 442,
    "start_time": "2022-01-28T14:49:15.491Z"
   },
   {
    "duration": 460,
    "start_time": "2022-01-28T14:49:15.936Z"
   },
   {
    "duration": 332,
    "start_time": "2022-01-28T14:49:22.507Z"
   },
   {
    "duration": 310,
    "start_time": "2022-01-28T14:50:12.100Z"
   },
   {
    "duration": 763,
    "start_time": "2022-01-28T15:00:14.719Z"
   },
   {
    "duration": 540,
    "start_time": "2022-01-28T15:01:07.145Z"
   },
   {
    "duration": 144,
    "start_time": "2022-01-28T15:02:51.041Z"
   },
   {
    "duration": 112,
    "start_time": "2022-01-28T15:02:51.188Z"
   },
   {
    "duration": 30,
    "start_time": "2022-01-28T15:02:51.303Z"
   },
   {
    "duration": 68,
    "start_time": "2022-01-28T15:02:51.336Z"
   },
   {
    "duration": 55,
    "start_time": "2022-01-28T15:02:51.407Z"
   },
   {
    "duration": 628,
    "start_time": "2022-01-28T15:02:51.464Z"
   },
   {
    "duration": 544,
    "start_time": "2022-01-28T15:02:52.095Z"
   },
   {
    "duration": 361,
    "start_time": "2022-01-28T15:02:52.642Z"
   },
   {
    "duration": 366,
    "start_time": "2022-01-28T15:02:53.007Z"
   },
   {
    "duration": 11,
    "start_time": "2022-01-28T15:02:53.375Z"
   },
   {
    "duration": 560,
    "start_time": "2022-01-28T15:02:53.389Z"
   },
   {
    "duration": 39,
    "start_time": "2022-01-28T15:02:53.959Z"
   },
   {
    "duration": 450,
    "start_time": "2022-01-28T15:02:54.000Z"
   },
   {
    "duration": 455,
    "start_time": "2022-01-28T15:02:54.452Z"
   },
   {
    "duration": 602,
    "start_time": "2022-01-28T15:03:01.948Z"
   },
   {
    "duration": 403,
    "start_time": "2022-01-28T15:03:22.330Z"
   },
   {
    "duration": 504,
    "start_time": "2022-01-28T15:04:14.677Z"
   },
   {
    "duration": 116,
    "start_time": "2022-01-28T15:04:58.033Z"
   },
   {
    "duration": 391,
    "start_time": "2022-01-28T15:05:14.638Z"
   },
   {
    "duration": 379,
    "start_time": "2022-01-28T15:05:31.631Z"
   },
   {
    "duration": 411,
    "start_time": "2022-01-28T15:36:31.802Z"
   },
   {
    "duration": 327,
    "start_time": "2022-01-28T15:37:30.939Z"
   },
   {
    "duration": 400,
    "start_time": "2022-01-28T15:37:59.114Z"
   },
   {
    "duration": 375,
    "start_time": "2022-01-28T15:38:44.913Z"
   },
   {
    "duration": 300,
    "start_time": "2022-01-28T15:39:08.318Z"
   },
   {
    "duration": 401,
    "start_time": "2022-01-28T15:39:21.934Z"
   },
   {
    "duration": 391,
    "start_time": "2022-01-28T16:05:32.054Z"
   },
   {
    "duration": 473,
    "start_time": "2022-01-28T16:06:16.698Z"
   },
   {
    "duration": 375,
    "start_time": "2022-01-28T16:14:07.491Z"
   },
   {
    "duration": 602,
    "start_time": "2022-01-28T16:14:49.880Z"
   },
   {
    "duration": 47,
    "start_time": "2022-01-28T16:16:39.312Z"
   },
   {
    "duration": 382,
    "start_time": "2022-01-28T16:17:41.838Z"
   },
   {
    "duration": 45,
    "start_time": "2022-01-28T16:18:41.433Z"
   },
   {
    "duration": 49,
    "start_time": "2022-01-28T16:25:27.349Z"
   },
   {
    "duration": 137,
    "start_time": "2022-01-28T16:25:39.942Z"
   },
   {
    "duration": 108,
    "start_time": "2022-01-28T16:25:40.081Z"
   },
   {
    "duration": 34,
    "start_time": "2022-01-28T16:25:40.193Z"
   },
   {
    "duration": 70,
    "start_time": "2022-01-28T16:25:40.230Z"
   },
   {
    "duration": 35,
    "start_time": "2022-01-28T16:25:40.302Z"
   },
   {
    "duration": 567,
    "start_time": "2022-01-28T16:25:40.360Z"
   },
   {
    "duration": 665,
    "start_time": "2022-01-28T16:25:40.929Z"
   },
   {
    "duration": 365,
    "start_time": "2022-01-28T16:25:41.597Z"
   },
   {
    "duration": 374,
    "start_time": "2022-01-28T16:25:41.964Z"
   },
   {
    "duration": 20,
    "start_time": "2022-01-28T16:25:42.341Z"
   },
   {
    "duration": 605,
    "start_time": "2022-01-28T16:25:42.364Z"
   },
   {
    "duration": 39,
    "start_time": "2022-01-28T16:25:42.971Z"
   },
   {
    "duration": 557,
    "start_time": "2022-01-28T16:25:43.012Z"
   },
   {
    "duration": 543,
    "start_time": "2022-01-28T16:25:43.572Z"
   },
   {
    "duration": 508,
    "start_time": "2022-01-28T16:25:55.108Z"
   },
   {
    "duration": 999,
    "start_time": "2022-01-28T16:27:51.089Z"
   },
   {
    "duration": 353,
    "start_time": "2022-01-28T16:28:29.428Z"
   },
   {
    "duration": 44,
    "start_time": "2022-01-28T16:31:11.736Z"
   },
   {
    "duration": 80,
    "start_time": "2022-01-28T16:35:46.284Z"
   },
   {
    "duration": 366,
    "start_time": "2022-01-28T16:36:08.610Z"
   },
   {
    "duration": 129,
    "start_time": "2022-01-28T16:36:22.342Z"
   },
   {
    "duration": 104,
    "start_time": "2022-01-28T16:36:22.474Z"
   },
   {
    "duration": 34,
    "start_time": "2022-01-28T16:36:22.581Z"
   },
   {
    "duration": 91,
    "start_time": "2022-01-28T16:36:22.618Z"
   },
   {
    "duration": 49,
    "start_time": "2022-01-28T16:36:22.712Z"
   },
   {
    "duration": 596,
    "start_time": "2022-01-28T16:36:22.763Z"
   },
   {
    "duration": 569,
    "start_time": "2022-01-28T16:36:23.361Z"
   },
   {
    "duration": 367,
    "start_time": "2022-01-28T16:36:23.933Z"
   },
   {
    "duration": 371,
    "start_time": "2022-01-28T16:36:24.304Z"
   },
   {
    "duration": 13,
    "start_time": "2022-01-28T16:36:24.679Z"
   },
   {
    "duration": 595,
    "start_time": "2022-01-28T16:36:24.695Z"
   },
   {
    "duration": 42,
    "start_time": "2022-01-28T16:36:25.293Z"
   },
   {
    "duration": 446,
    "start_time": "2022-01-28T16:36:25.337Z"
   },
   {
    "duration": 466,
    "start_time": "2022-01-28T16:36:25.786Z"
   },
   {
    "duration": 447,
    "start_time": "2022-01-28T16:36:44.991Z"
   },
   {
    "duration": 250,
    "start_time": "2022-01-28T16:37:50.943Z"
   },
   {
    "duration": 102,
    "start_time": "2022-01-28T16:37:51.196Z"
   },
   {
    "duration": 31,
    "start_time": "2022-01-28T16:37:51.301Z"
   },
   {
    "duration": 84,
    "start_time": "2022-01-28T16:37:51.335Z"
   },
   {
    "duration": 52,
    "start_time": "2022-01-28T16:37:51.422Z"
   },
   {
    "duration": 574,
    "start_time": "2022-01-28T16:37:51.477Z"
   },
   {
    "duration": 554,
    "start_time": "2022-01-28T16:37:52.053Z"
   },
   {
    "duration": 359,
    "start_time": "2022-01-28T16:37:52.610Z"
   },
   {
    "duration": 360,
    "start_time": "2022-01-28T16:37:52.972Z"
   },
   {
    "duration": 26,
    "start_time": "2022-01-28T16:37:53.335Z"
   },
   {
    "duration": 578,
    "start_time": "2022-01-28T16:37:53.363Z"
   },
   {
    "duration": 50,
    "start_time": "2022-01-28T16:37:53.943Z"
   },
   {
    "duration": 453,
    "start_time": "2022-01-28T16:37:53.995Z"
   },
   {
    "duration": 458,
    "start_time": "2022-01-28T16:37:54.451Z"
   },
   {
    "duration": 368,
    "start_time": "2022-01-28T16:38:09.940Z"
   },
   {
    "duration": 423,
    "start_time": "2022-01-28T16:39:05.856Z"
   },
   {
    "duration": 3930,
    "start_time": "2022-01-28T16:40:30.357Z"
   },
   {
    "duration": 61,
    "start_time": "2022-01-28T16:44:41.778Z"
   },
   {
    "duration": 325,
    "start_time": "2022-01-28T16:44:56.907Z"
   },
   {
    "duration": 1206,
    "start_time": "2022-01-28T16:45:11.900Z"
   },
   {
    "duration": 664,
    "start_time": "2022-01-28T16:45:49.310Z"
   },
   {
    "duration": 368,
    "start_time": "2022-01-28T16:46:06.514Z"
   },
   {
    "duration": 347,
    "start_time": "2022-01-28T16:46:18.673Z"
   },
   {
    "duration": 356,
    "start_time": "2022-01-28T16:46:50.873Z"
   },
   {
    "duration": 422,
    "start_time": "2022-01-28T16:47:20.898Z"
   },
   {
    "duration": 342,
    "start_time": "2022-01-28T16:47:41.291Z"
   },
   {
    "duration": 2043,
    "start_time": "2022-01-28T16:49:13.871Z"
   },
   {
    "duration": 1627,
    "start_time": "2022-01-28T16:49:39.880Z"
   },
   {
    "duration": 62,
    "start_time": "2022-01-28T16:49:54.430Z"
   },
   {
    "duration": 759,
    "start_time": "2022-01-28T16:50:15.820Z"
   },
   {
    "duration": 455,
    "start_time": "2022-01-28T16:51:11.458Z"
   },
   {
    "duration": 60,
    "start_time": "2022-01-28T16:51:29.289Z"
   },
   {
    "duration": 382,
    "start_time": "2022-01-28T16:51:40.528Z"
   },
   {
    "duration": 679,
    "start_time": "2022-01-28T16:52:27.823Z"
   },
   {
    "duration": 677,
    "start_time": "2022-01-28T16:52:36.677Z"
   },
   {
    "duration": 721,
    "start_time": "2022-01-28T16:52:44.252Z"
   },
   {
    "duration": 909,
    "start_time": "2022-01-28T16:52:49.121Z"
   },
   {
    "duration": 768,
    "start_time": "2022-01-28T16:52:55.720Z"
   },
   {
    "duration": 701,
    "start_time": "2022-01-29T09:22:47.153Z"
   },
   {
    "duration": 75,
    "start_time": "2022-01-29T09:22:47.856Z"
   },
   {
    "duration": 25,
    "start_time": "2022-01-29T09:22:47.934Z"
   },
   {
    "duration": 67,
    "start_time": "2022-01-29T09:22:47.962Z"
   },
   {
    "duration": 24,
    "start_time": "2022-01-29T09:22:48.031Z"
   },
   {
    "duration": 493,
    "start_time": "2022-01-29T09:22:48.056Z"
   },
   {
    "duration": 437,
    "start_time": "2022-01-29T09:22:48.550Z"
   },
   {
    "duration": 265,
    "start_time": "2022-01-29T09:22:48.991Z"
   },
   {
    "duration": 272,
    "start_time": "2022-01-29T09:22:49.258Z"
   },
   {
    "duration": 8,
    "start_time": "2022-01-29T09:22:49.532Z"
   },
   {
    "duration": 412,
    "start_time": "2022-01-29T09:22:49.542Z"
   },
   {
    "duration": 43,
    "start_time": "2022-01-29T09:22:49.955Z"
   },
   {
    "duration": 330,
    "start_time": "2022-01-29T09:22:50.000Z"
   },
   {
    "duration": 335,
    "start_time": "2022-01-29T09:22:50.332Z"
   },
   {
    "duration": 599,
    "start_time": "2022-01-29T09:22:50.669Z"
   },
   {
    "duration": 328,
    "start_time": "2022-01-29T09:22:51.271Z"
   },
   {
    "duration": 318,
    "start_time": "2022-01-29T09:22:51.601Z"
   },
   {
    "duration": 303,
    "start_time": "2022-01-29T09:22:51.921Z"
   },
   {
    "duration": 413,
    "start_time": "2022-01-29T09:22:52.226Z"
   },
   {
    "duration": 74,
    "start_time": "2022-01-29T09:22:52.641Z"
   },
   {
    "duration": 4,
    "start_time": "2022-01-29T09:22:52.716Z"
   },
   {
    "duration": 290,
    "start_time": "2022-01-29T09:22:52.722Z"
   },
   {
    "duration": 5,
    "start_time": "2022-01-29T09:22:53.016Z"
   },
   {
    "duration": 366,
    "start_time": "2022-01-29T09:22:53.023Z"
   },
   {
    "duration": 373,
    "start_time": "2022-01-29T09:22:53.391Z"
   },
   {
    "duration": 377,
    "start_time": "2022-01-29T09:22:53.766Z"
   },
   {
    "duration": 285,
    "start_time": "2022-01-29T09:22:54.145Z"
   },
   {
    "duration": 267,
    "start_time": "2022-01-29T09:22:54.431Z"
   },
   {
    "duration": 330,
    "start_time": "2022-01-29T09:22:54.700Z"
   },
   {
    "duration": 6,
    "start_time": "2022-01-29T09:23:51.560Z"
   },
   {
    "duration": 6,
    "start_time": "2022-01-29T09:23:59.185Z"
   },
   {
    "duration": 42,
    "start_time": "2022-01-29T09:25:36.633Z"
   },
   {
    "duration": 518,
    "start_time": "2022-01-29T09:44:37.905Z"
   },
   {
    "duration": 8,
    "start_time": "2022-01-29T09:45:04.326Z"
   },
   {
    "duration": 646,
    "start_time": "2022-01-29T15:15:57.087Z"
   },
   {
    "duration": 56,
    "start_time": "2022-01-29T15:15:57.734Z"
   },
   {
    "duration": 39,
    "start_time": "2022-01-29T15:15:57.792Z"
   },
   {
    "duration": 944,
    "start_time": "2022-01-29T15:16:02.031Z"
   },
   {
    "duration": 883,
    "start_time": "2022-01-29T15:17:12.224Z"
   },
   {
    "duration": 866,
    "start_time": "2022-01-29T15:18:44.533Z"
   },
   {
    "duration": 4809,
    "start_time": "2022-01-29T15:22:10.215Z"
   },
   {
    "duration": 858,
    "start_time": "2022-01-29T15:23:20.128Z"
   },
   {
    "duration": 543,
    "start_time": "2022-01-29T15:43:29.222Z"
   },
   {
    "duration": 231,
    "start_time": "2022-01-29T15:44:19.279Z"
   },
   {
    "duration": 91,
    "start_time": "2022-01-29T15:44:26.757Z"
   },
   {
    "duration": 107,
    "start_time": "2022-01-29T15:44:26.850Z"
   },
   {
    "duration": 21,
    "start_time": "2022-01-29T15:44:26.959Z"
   },
   {
    "duration": 553,
    "start_time": "2022-01-29T15:44:26.982Z"
   },
   {
    "duration": 20,
    "start_time": "2022-01-29T15:44:27.537Z"
   },
   {
    "duration": 361,
    "start_time": "2022-01-29T15:44:27.559Z"
   },
   {
    "duration": 335,
    "start_time": "2022-01-29T15:44:27.922Z"
   },
   {
    "duration": 221,
    "start_time": "2022-01-29T15:44:28.259Z"
   },
   {
    "duration": 232,
    "start_time": "2022-01-29T15:44:28.484Z"
   },
   {
    "duration": 9,
    "start_time": "2022-01-29T15:44:28.718Z"
   },
   {
    "duration": 355,
    "start_time": "2022-01-29T15:44:28.729Z"
   },
   {
    "duration": 90,
    "start_time": "2022-01-29T15:44:29.086Z"
   },
   {
    "duration": 270,
    "start_time": "2022-01-29T15:44:29.178Z"
   },
   {
    "duration": 283,
    "start_time": "2022-01-29T15:44:29.450Z"
   },
   {
    "duration": 197,
    "start_time": "2022-01-29T15:44:33.036Z"
   },
   {
    "duration": 197,
    "start_time": "2022-01-29T15:45:15.769Z"
   },
   {
    "duration": 187,
    "start_time": "2022-01-29T15:45:25.173Z"
   },
   {
    "duration": 455,
    "start_time": "2022-01-29T15:46:25.279Z"
   },
   {
    "duration": 289,
    "start_time": "2022-01-29T15:47:34.700Z"
   },
   {
    "duration": 216,
    "start_time": "2022-01-29T15:49:03.983Z"
   },
   {
    "duration": 7,
    "start_time": "2022-01-29T15:51:17.302Z"
   },
   {
    "duration": 494,
    "start_time": "2022-01-29T15:52:10.984Z"
   },
   {
    "duration": 537,
    "start_time": "2022-01-29T15:52:24.469Z"
   },
   {
    "duration": 5,
    "start_time": "2022-01-29T15:54:53.709Z"
   },
   {
    "duration": 373,
    "start_time": "2022-01-29T15:57:06.282Z"
   },
   {
    "duration": 858,
    "start_time": "2022-01-29T15:59:35.264Z"
   },
   {
    "duration": 59,
    "start_time": "2022-01-29T16:02:09.957Z"
   },
   {
    "duration": 877,
    "start_time": "2022-01-29T16:02:50.166Z"
   },
   {
    "duration": 819,
    "start_time": "2022-01-29T16:04:09.016Z"
   },
   {
    "duration": 517,
    "start_time": "2022-01-29T16:12:52.183Z"
   },
   {
    "duration": 505,
    "start_time": "2022-01-29T16:13:11.522Z"
   },
   {
    "duration": 513,
    "start_time": "2022-01-29T16:13:29.209Z"
   },
   {
    "duration": 554,
    "start_time": "2022-01-29T16:22:12.260Z"
   },
   {
    "duration": 1389,
    "start_time": "2022-01-29T16:26:43.564Z"
   },
   {
    "duration": 507,
    "start_time": "2022-01-29T16:26:59.144Z"
   },
   {
    "duration": 214,
    "start_time": "2022-01-29T16:27:27.316Z"
   },
   {
    "duration": 7,
    "start_time": "2022-01-29T16:32:37.928Z"
   },
   {
    "duration": 628,
    "start_time": "2022-01-29T18:13:03.349Z"
   },
   {
    "duration": 67,
    "start_time": "2022-01-29T18:13:03.979Z"
   },
   {
    "duration": 23,
    "start_time": "2022-01-29T18:13:04.047Z"
   },
   {
    "duration": 580,
    "start_time": "2022-01-29T18:13:04.072Z"
   },
   {
    "duration": 20,
    "start_time": "2022-01-29T18:13:04.653Z"
   },
   {
    "duration": 466,
    "start_time": "2022-01-29T18:13:04.675Z"
   },
   {
    "duration": 349,
    "start_time": "2022-01-29T18:13:05.142Z"
   },
   {
    "duration": 227,
    "start_time": "2022-01-29T18:13:05.493Z"
   },
   {
    "duration": 242,
    "start_time": "2022-01-29T18:13:05.722Z"
   },
   {
    "duration": 8,
    "start_time": "2022-01-29T18:13:05.966Z"
   },
   {
    "duration": 364,
    "start_time": "2022-01-29T18:13:05.975Z"
   },
   {
    "duration": 29,
    "start_time": "2022-01-29T18:13:06.341Z"
   },
   {
    "duration": 300,
    "start_time": "2022-01-29T18:13:06.371Z"
   },
   {
    "duration": 307,
    "start_time": "2022-01-29T18:13:06.672Z"
   },
   {
    "duration": 345,
    "start_time": "2022-01-29T18:13:06.981Z"
   },
   {
    "duration": -2121,
    "start_time": "2022-01-29T18:13:09.449Z"
   },
   {
    "duration": -2125,
    "start_time": "2022-01-29T18:13:09.454Z"
   },
   {
    "duration": -2130,
    "start_time": "2022-01-29T18:13:09.460Z"
   },
   {
    "duration": -2130,
    "start_time": "2022-01-29T18:13:09.461Z"
   },
   {
    "duration": -2169,
    "start_time": "2022-01-29T18:13:09.501Z"
   },
   {
    "duration": -2176,
    "start_time": "2022-01-29T18:13:09.509Z"
   },
   {
    "duration": -2177,
    "start_time": "2022-01-29T18:13:09.511Z"
   },
   {
    "duration": -2177,
    "start_time": "2022-01-29T18:13:09.512Z"
   },
   {
    "duration": -2178,
    "start_time": "2022-01-29T18:13:09.514Z"
   },
   {
    "duration": -2232,
    "start_time": "2022-01-29T18:13:09.569Z"
   },
   {
    "duration": -2232,
    "start_time": "2022-01-29T18:13:09.570Z"
   },
   {
    "duration": -2234,
    "start_time": "2022-01-29T18:13:09.572Z"
   },
   {
    "duration": -2234,
    "start_time": "2022-01-29T18:13:09.573Z"
   },
   {
    "duration": -2235,
    "start_time": "2022-01-29T18:13:09.575Z"
   },
   {
    "duration": -2238,
    "start_time": "2022-01-29T18:13:09.579Z"
   },
   {
    "duration": 764,
    "start_time": "2022-01-29T18:13:33.697Z"
   },
   {
    "duration": 71,
    "start_time": "2022-01-29T18:13:34.465Z"
   },
   {
    "duration": 21,
    "start_time": "2022-01-29T18:13:34.538Z"
   },
   {
    "duration": 582,
    "start_time": "2022-01-29T18:13:34.561Z"
   },
   {
    "duration": 22,
    "start_time": "2022-01-29T18:13:35.145Z"
   },
   {
    "duration": 450,
    "start_time": "2022-01-29T18:13:35.168Z"
   },
   {
    "duration": 325,
    "start_time": "2022-01-29T18:13:35.621Z"
   },
   {
    "duration": 216,
    "start_time": "2022-01-29T18:13:35.947Z"
   },
   {
    "duration": 227,
    "start_time": "2022-01-29T18:13:36.164Z"
   },
   {
    "duration": 7,
    "start_time": "2022-01-29T18:13:36.393Z"
   },
   {
    "duration": 334,
    "start_time": "2022-01-29T18:13:36.412Z"
   },
   {
    "duration": 28,
    "start_time": "2022-01-29T18:13:36.747Z"
   },
   {
    "duration": 293,
    "start_time": "2022-01-29T18:13:36.777Z"
   },
   {
    "duration": 295,
    "start_time": "2022-01-29T18:13:37.071Z"
   },
   {
    "duration": 361,
    "start_time": "2022-01-29T18:13:37.368Z"
   },
   {
    "duration": -1721,
    "start_time": "2022-01-29T18:13:39.452Z"
   },
   {
    "duration": -1721,
    "start_time": "2022-01-29T18:13:39.453Z"
   },
   {
    "duration": -1722,
    "start_time": "2022-01-29T18:13:39.455Z"
   },
   {
    "duration": -1723,
    "start_time": "2022-01-29T18:13:39.457Z"
   },
   {
    "duration": -1726,
    "start_time": "2022-01-29T18:13:39.461Z"
   },
   {
    "duration": -1728,
    "start_time": "2022-01-29T18:13:39.463Z"
   },
   {
    "duration": -1727,
    "start_time": "2022-01-29T18:13:39.464Z"
   },
   {
    "duration": -1729,
    "start_time": "2022-01-29T18:13:39.466Z"
   },
   {
    "duration": -1730,
    "start_time": "2022-01-29T18:13:39.468Z"
   },
   {
    "duration": -1729,
    "start_time": "2022-01-29T18:13:39.469Z"
   },
   {
    "duration": -1730,
    "start_time": "2022-01-29T18:13:39.471Z"
   },
   {
    "duration": -1731,
    "start_time": "2022-01-29T18:13:39.473Z"
   },
   {
    "duration": -1734,
    "start_time": "2022-01-29T18:13:39.477Z"
   },
   {
    "duration": -1734,
    "start_time": "2022-01-29T18:13:39.478Z"
   },
   {
    "duration": -1736,
    "start_time": "2022-01-29T18:13:39.480Z"
   },
   {
    "duration": 330,
    "start_time": "2022-01-29T18:14:08.494Z"
   },
   {
    "duration": 323,
    "start_time": "2022-01-29T18:14:15.118Z"
   },
   {
    "duration": 286,
    "start_time": "2022-01-29T18:15:22.671Z"
   },
   {
    "duration": 296,
    "start_time": "2022-01-29T18:15:30.144Z"
   },
   {
    "duration": 6,
    "start_time": "2022-01-29T18:15:34.385Z"
   },
   {
    "duration": 297,
    "start_time": "2022-01-29T18:15:34.866Z"
   },
   {
    "duration": 5,
    "start_time": "2022-01-29T18:15:44.203Z"
   },
   {
    "duration": 137,
    "start_time": "2022-01-29T18:15:49.541Z"
   },
   {
    "duration": 289,
    "start_time": "2022-01-29T18:16:24.730Z"
   },
   {
    "duration": 243,
    "start_time": "2022-01-29T18:16:28.370Z"
   },
   {
    "duration": 121,
    "start_time": "2022-01-29T18:16:37.941Z"
   },
   {
    "duration": 689,
    "start_time": "2022-01-29T18:17:57.014Z"
   },
   {
    "duration": 62,
    "start_time": "2022-01-29T18:17:57.705Z"
   },
   {
    "duration": 24,
    "start_time": "2022-01-29T18:17:57.769Z"
   },
   {
    "duration": 604,
    "start_time": "2022-01-29T18:17:57.795Z"
   },
   {
    "duration": 31,
    "start_time": "2022-01-29T18:17:58.400Z"
   },
   {
    "duration": 483,
    "start_time": "2022-01-29T18:17:58.432Z"
   },
   {
    "duration": 352,
    "start_time": "2022-01-29T18:17:58.917Z"
   },
   {
    "duration": 224,
    "start_time": "2022-01-29T18:17:59.271Z"
   },
   {
    "duration": 228,
    "start_time": "2022-01-29T18:17:59.497Z"
   },
   {
    "duration": 8,
    "start_time": "2022-01-29T18:17:59.727Z"
   },
   {
    "duration": 349,
    "start_time": "2022-01-29T18:17:59.736Z"
   },
   {
    "duration": 41,
    "start_time": "2022-01-29T18:18:00.087Z"
   },
   {
    "duration": 287,
    "start_time": "2022-01-29T18:18:00.129Z"
   },
   {
    "duration": 298,
    "start_time": "2022-01-29T18:18:00.418Z"
   },
   {
    "duration": 626,
    "start_time": "2022-01-29T18:18:00.718Z"
   },
   {
    "duration": -1747,
    "start_time": "2022-01-29T18:18:03.093Z"
   },
   {
    "duration": -1748,
    "start_time": "2022-01-29T18:18:03.095Z"
   },
   {
    "duration": -1750,
    "start_time": "2022-01-29T18:18:03.098Z"
   },
   {
    "duration": -1751,
    "start_time": "2022-01-29T18:18:03.100Z"
   },
   {
    "duration": -1753,
    "start_time": "2022-01-29T18:18:03.103Z"
   },
   {
    "duration": -1754,
    "start_time": "2022-01-29T18:18:03.105Z"
   },
   {
    "duration": -1755,
    "start_time": "2022-01-29T18:18:03.107Z"
   },
   {
    "duration": -1756,
    "start_time": "2022-01-29T18:18:03.109Z"
   },
   {
    "duration": -1756,
    "start_time": "2022-01-29T18:18:03.110Z"
   },
   {
    "duration": -1757,
    "start_time": "2022-01-29T18:18:03.112Z"
   },
   {
    "duration": -1758,
    "start_time": "2022-01-29T18:18:03.114Z"
   },
   {
    "duration": -1761,
    "start_time": "2022-01-29T18:18:03.118Z"
   },
   {
    "duration": -1762,
    "start_time": "2022-01-29T18:18:03.120Z"
   },
   {
    "duration": -1763,
    "start_time": "2022-01-29T18:18:03.122Z"
   },
   {
    "duration": -1763,
    "start_time": "2022-01-29T18:18:03.123Z"
   },
   {
    "duration": 141,
    "start_time": "2022-01-29T18:19:34.241Z"
   },
   {
    "duration": 186,
    "start_time": "2022-01-29T18:19:42.428Z"
   },
   {
    "duration": 8,
    "start_time": "2022-01-29T18:19:49.476Z"
   },
   {
    "duration": 283,
    "start_time": "2022-01-29T18:19:50.106Z"
   },
   {
    "duration": 305,
    "start_time": "2022-01-29T18:19:53.028Z"
   },
   {
    "duration": 291,
    "start_time": "2022-01-29T18:19:53.336Z"
   },
   {
    "duration": 333,
    "start_time": "2022-01-29T18:19:53.629Z"
   },
   {
    "duration": 60,
    "start_time": "2022-01-29T18:19:54.201Z"
   },
   {
    "duration": 5,
    "start_time": "2022-01-29T18:19:54.383Z"
   },
   {
    "duration": 234,
    "start_time": "2022-01-29T18:19:55.451Z"
   },
   {
    "duration": 6,
    "start_time": "2022-01-29T18:19:55.805Z"
   },
   {
    "duration": 350,
    "start_time": "2022-01-29T18:19:55.985Z"
   },
   {
    "duration": 323,
    "start_time": "2022-01-29T18:19:56.336Z"
   },
   {
    "duration": 321,
    "start_time": "2022-01-29T18:19:56.661Z"
   },
   {
    "duration": 291,
    "start_time": "2022-01-29T18:19:56.984Z"
   },
   {
    "duration": -1796,
    "start_time": "2022-01-29T18:19:59.072Z"
   },
   {
    "duration": 271,
    "start_time": "2022-01-29T18:19:57.460Z"
   },
   {
    "duration": 280,
    "start_time": "2022-01-29T18:20:43.725Z"
   },
   {
    "duration": 875,
    "start_time": "2022-01-30T12:19:50.068Z"
   },
   {
    "duration": 111,
    "start_time": "2022-01-30T12:19:50.946Z"
   },
   {
    "duration": 33,
    "start_time": "2022-01-30T12:19:51.060Z"
   },
   {
    "duration": 2038,
    "start_time": "2022-01-30T12:19:51.096Z"
   },
   {
    "duration": 38,
    "start_time": "2022-01-30T12:19:53.137Z"
   },
   {
    "duration": 755,
    "start_time": "2022-01-30T12:19:53.177Z"
   },
   {
    "duration": 531,
    "start_time": "2022-01-30T12:19:53.935Z"
   },
   {
    "duration": 343,
    "start_time": "2022-01-30T12:19:54.470Z"
   },
   {
    "duration": 377,
    "start_time": "2022-01-30T12:19:54.816Z"
   },
   {
    "duration": 10,
    "start_time": "2022-01-30T12:19:55.196Z"
   },
   {
    "duration": 578,
    "start_time": "2022-01-30T12:19:55.209Z"
   },
   {
    "duration": 51,
    "start_time": "2022-01-30T12:19:55.790Z"
   },
   {
    "duration": 459,
    "start_time": "2022-01-30T12:19:55.844Z"
   },
   {
    "duration": 461,
    "start_time": "2022-01-30T12:19:56.305Z"
   },
   {
    "duration": 575,
    "start_time": "2022-01-30T12:20:09.848Z"
   },
   {
    "duration": 575,
    "start_time": "2022-01-30T12:22:20.470Z"
   },
   {
    "duration": 262,
    "start_time": "2022-01-30T12:22:49.954Z"
   },
   {
    "duration": 343,
    "start_time": "2022-01-30T12:32:29.784Z"
   },
   {
    "duration": 250,
    "start_time": "2022-01-30T12:32:52.320Z"
   },
   {
    "duration": 237,
    "start_time": "2022-01-30T12:33:10.822Z"
   },
   {
    "duration": 289,
    "start_time": "2022-01-30T12:33:22.737Z"
   },
   {
    "duration": 240,
    "start_time": "2022-01-30T12:33:32.523Z"
   },
   {
    "duration": 289,
    "start_time": "2022-01-30T12:34:51.315Z"
   },
   {
    "duration": 230,
    "start_time": "2022-01-30T12:35:49.947Z"
   },
   {
    "duration": 212,
    "start_time": "2022-01-30T12:36:26.139Z"
   },
   {
    "duration": 250,
    "start_time": "2022-01-30T12:36:44.250Z"
   },
   {
    "duration": 556,
    "start_time": "2022-01-30T12:37:20.354Z"
   },
   {
    "duration": 552,
    "start_time": "2022-01-30T12:37:46.239Z"
   },
   {
    "duration": 267,
    "start_time": "2022-01-30T12:37:59.333Z"
   },
   {
    "duration": 511,
    "start_time": "2022-01-30T12:38:26.840Z"
   },
   {
    "duration": 262,
    "start_time": "2022-01-30T12:38:39.411Z"
   },
   {
    "duration": 494,
    "start_time": "2022-01-30T12:39:04.850Z"
   },
   {
    "duration": 892,
    "start_time": "2022-01-30T12:39:18.903Z"
   },
   {
    "duration": 363,
    "start_time": "2022-01-30T12:39:32.194Z"
   },
   {
    "duration": 331,
    "start_time": "2022-01-30T12:40:09.508Z"
   },
   {
    "duration": 131168,
    "start_time": "2022-01-30T12:42:48.449Z"
   },
   {
    "duration": 252,
    "start_time": "2022-01-30T12:45:19.516Z"
   },
   {
    "duration": 271,
    "start_time": "2022-01-30T12:50:36.264Z"
   },
   {
    "duration": 338,
    "start_time": "2022-01-30T12:51:08.501Z"
   },
   {
    "duration": 330,
    "start_time": "2022-01-30T12:52:14.807Z"
   },
   {
    "duration": 365,
    "start_time": "2022-01-30T12:56:28.382Z"
   },
   {
    "duration": 217,
    "start_time": "2022-01-30T13:00:08.607Z"
   },
   {
    "duration": 140,
    "start_time": "2022-01-30T13:05:25.116Z"
   },
   {
    "duration": 105,
    "start_time": "2022-01-30T13:05:25.258Z"
   },
   {
    "duration": 32,
    "start_time": "2022-01-30T13:05:25.366Z"
   },
   {
    "duration": 998,
    "start_time": "2022-01-30T13:05:25.401Z"
   },
   {
    "duration": 48,
    "start_time": "2022-01-30T13:05:26.401Z"
   },
   {
    "duration": 604,
    "start_time": "2022-01-30T13:05:26.451Z"
   },
   {
    "duration": 569,
    "start_time": "2022-01-30T13:05:27.058Z"
   },
   {
    "duration": 376,
    "start_time": "2022-01-30T13:05:27.633Z"
   },
   {
    "duration": 397,
    "start_time": "2022-01-30T13:05:28.013Z"
   },
   {
    "duration": 23,
    "start_time": "2022-01-30T13:05:28.414Z"
   },
   {
    "duration": 551,
    "start_time": "2022-01-30T13:05:28.439Z"
   },
   {
    "duration": 50,
    "start_time": "2022-01-30T13:05:28.993Z"
   },
   {
    "duration": 450,
    "start_time": "2022-01-30T13:05:29.045Z"
   },
   {
    "duration": 450,
    "start_time": "2022-01-30T13:05:29.498Z"
   },
   {
    "duration": 218,
    "start_time": "2022-01-30T13:05:29.950Z"
   },
   {
    "duration": 221,
    "start_time": "2022-01-30T13:05:30.171Z"
   },
   {
    "duration": 9,
    "start_time": "2022-01-30T13:05:30.394Z"
   },
   {
    "duration": 482,
    "start_time": "2022-01-30T13:05:30.405Z"
   },
   {
    "duration": 466,
    "start_time": "2022-01-30T13:05:30.890Z"
   },
   {
    "duration": 438,
    "start_time": "2022-01-30T13:05:31.359Z"
   },
   {
    "duration": 499,
    "start_time": "2022-01-30T13:05:31.800Z"
   },
   {
    "duration": 110,
    "start_time": "2022-01-30T13:05:32.302Z"
   },
   {
    "duration": 5,
    "start_time": "2022-01-30T13:05:32.414Z"
   },
   {
    "duration": 383,
    "start_time": "2022-01-30T13:05:32.433Z"
   },
   {
    "duration": 16,
    "start_time": "2022-01-30T13:05:32.819Z"
   },
   {
    "duration": 436,
    "start_time": "2022-01-30T13:05:32.837Z"
   },
   {
    "duration": 455,
    "start_time": "2022-01-30T13:05:33.277Z"
   },
   {
    "duration": 461,
    "start_time": "2022-01-30T13:05:33.734Z"
   },
   {
    "duration": 222,
    "start_time": "2022-01-30T13:05:39.941Z"
   },
   {
    "duration": 226,
    "start_time": "2022-01-30T13:08:49.986Z"
   },
   {
    "duration": 719,
    "start_time": "2022-01-31T06:18:36.348Z"
   },
   {
    "duration": 65,
    "start_time": "2022-01-31T06:18:37.069Z"
   },
   {
    "duration": 38,
    "start_time": "2022-01-31T06:18:37.136Z"
   },
   {
    "duration": 590,
    "start_time": "2022-01-31T06:18:37.176Z"
   },
   {
    "duration": 22,
    "start_time": "2022-01-31T06:18:37.768Z"
   },
   {
    "duration": 462,
    "start_time": "2022-01-31T06:18:37.791Z"
   },
   {
    "duration": 327,
    "start_time": "2022-01-31T06:18:38.255Z"
   },
   {
    "duration": 218,
    "start_time": "2022-01-31T06:18:38.583Z"
   },
   {
    "duration": 219,
    "start_time": "2022-01-31T06:18:38.804Z"
   },
   {
    "duration": 8,
    "start_time": "2022-01-31T06:18:39.025Z"
   },
   {
    "duration": 327,
    "start_time": "2022-01-31T06:18:39.035Z"
   },
   {
    "duration": 32,
    "start_time": "2022-01-31T06:18:39.364Z"
   },
   {
    "duration": 297,
    "start_time": "2022-01-31T06:18:39.398Z"
   },
   {
    "duration": 288,
    "start_time": "2022-01-31T06:18:39.697Z"
   },
   {
    "duration": 141,
    "start_time": "2022-01-31T06:18:39.987Z"
   },
   {
    "duration": 202,
    "start_time": "2022-01-31T06:18:40.129Z"
   },
   {
    "duration": 7,
    "start_time": "2022-01-31T06:18:40.333Z"
   },
   {
    "duration": 291,
    "start_time": "2022-01-31T06:18:40.341Z"
   },
   {
    "duration": 306,
    "start_time": "2022-01-31T06:18:40.633Z"
   },
   {
    "duration": 278,
    "start_time": "2022-01-31T06:18:40.940Z"
   },
   {
    "duration": 317,
    "start_time": "2022-01-31T06:18:41.221Z"
   },
   {
    "duration": 70,
    "start_time": "2022-01-31T06:18:41.540Z"
   },
   {
    "duration": 3,
    "start_time": "2022-01-31T06:18:41.612Z"
   },
   {
    "duration": 259,
    "start_time": "2022-01-31T06:18:41.617Z"
   },
   {
    "duration": 5,
    "start_time": "2022-01-31T06:18:41.878Z"
   },
   {
    "duration": 327,
    "start_time": "2022-01-31T06:18:41.885Z"
   },
   {
    "duration": 324,
    "start_time": "2022-01-31T06:18:42.215Z"
   },
   {
    "duration": 361,
    "start_time": "2022-01-31T06:18:42.541Z"
   },
   {
    "duration": 154,
    "start_time": "2022-01-31T06:18:42.904Z"
   },
   {
    "duration": 218,
    "start_time": "2022-01-31T06:18:43.060Z"
   },
   {
    "duration": 357,
    "start_time": "2022-01-31T06:18:43.280Z"
   }
  ],
  "kernelspec": {
   "display_name": "Python 3 (ipykernel)",
   "language": "python",
   "name": "python3"
  },
  "language_info": {
   "codemirror_mode": {
    "name": "ipython",
    "version": 3
   },
   "file_extension": ".py",
   "mimetype": "text/x-python",
   "name": "python",
   "nbconvert_exporter": "python",
   "pygments_lexer": "ipython3",
   "version": "3.9.5"
  },
  "toc": {
   "base_numbering": 1,
   "nav_menu": {},
   "number_sections": true,
   "sideBar": true,
   "skip_h1_title": true,
   "title_cell": "Содержание",
   "title_sidebar": "Contents",
   "toc_cell": true,
   "toc_position": {
    "height": "calc(100% - 180px)",
    "left": "10px",
    "top": "150px",
    "width": "268.984px"
   },
   "toc_section_display": true,
   "toc_window_display": true
  }
 },
 "nbformat": 4,
 "nbformat_minor": 2
}
