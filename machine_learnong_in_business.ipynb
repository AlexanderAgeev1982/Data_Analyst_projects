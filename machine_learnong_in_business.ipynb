{
 "cells": [
  {
   "cell_type": "markdown",
   "metadata": {},
   "source": [
    "<div style=\"border:solid Chocolate 2px; padding: 40px\">\n",
    "    \n",
    " <b>Добрый день, Александр!</b>\n",
    "Меня зовут Ксения Цыганова, и я буду комментировать твою работу и помогать тебе сделать ее сильнее. В Практикуме мы общаемся на «ты», но если тебе это будет некомфортно, пожалуйста, скажи, и мы будем обращаться друг к другу на «вы».\n",
    "    \n",
    "Все мои комментарии делятся на три вида:\n",
    "\n",
    "    \n",
    "👍 Здесь все отлично, идем дальше! - <font color='green'> зеленый цвет </font>\n",
    "    \n",
    "💡 Все хорошо, однако, можно оптимизировать или рассмотреть другие способы (необязательно для исполнения, чтобы пройти дальше) - <font color='gold'>желтый цвет</font>\n",
    "    \n",
    "🤔 Необходимо внести исправления, без которых я не смогу принять проект - <font color='red'>красный цвет</font>\n",
    "    \n",
    "    \n",
    "Свои комментарии я буду выделять заголовком «комментарий ревьюера». Пожалуйста, не удаляй их, это поможет сократить время проверки на повторных ревью.Ты также можешь писать свои комментарии к моим и выделять их любым понравившимся способом, отличным от моего. Если у тебя будут возникать вопросы в течение нашей работы, я с радостью на них отвечу.\n",
    "\n",
    "Цель моего ревью не критика и не возможность дать тебе готовые ответы, это способ привести тебя в нужное русло, чтобы ты смог развить собственные идеи и решения. Твой будущий работодатель будет поступать похожим образом. \n",
    "        \n",
    "   <b>У тебя все получится!</b>"
   ]
  },
  {
   "cell_type": "markdown",
   "metadata": {},
   "source": [
    "# Выбор локации для скважины"
   ]
  },
  {
   "cell_type": "markdown",
   "metadata": {},
   "source": [
    "Допустим, вы работаете в добывающей компании «ГлавРосГосНефть». Нужно решить, где бурить новую скважину.\n",
    "\n",
    "Вам предоставлены пробы нефти в трёх регионах: в каждом 10 000 месторождений, где измерили качество нефти и объём её запасов. Постройте модель машинного обучения, которая поможет определить регион, где добыча принесёт наибольшую прибыль. Проанализируйте возможную прибыль и риски техникой *Bootstrap.*\n",
    "\n",
    "Шаги для выбора локации:\n",
    "\n",
    "- В избранном регионе ищут месторождения, для каждого определяют значения признаков;\n",
    "- Строят модель и оценивают объём запасов;\n",
    "- Выбирают месторождения с самым высокими оценками значений. Количество месторождений зависит от бюджета компании и стоимости разработки одной скважины;\n",
    "- Прибыль равна суммарной прибыли отобранных месторождений."
   ]
  },
  {
   "cell_type": "markdown",
   "metadata": {},
   "source": [
    "# План работы по проекту"
   ]
  },
  {
   "cell_type": "markdown",
   "metadata": {},
   "source": [
    "# Цель проекта\n",
    "\n",
    "В трёх нефтедобывающих регионах (по 10000 скважин в каждом) взяты пробы нефти, измерено качество сырья объём её запасов.\n",
    "Необходимо построить модель для обозначения региона с наибольшей прибылью, а также проанализировать возможную среднюю прибыль и риски техникой Bootstrap."
   ]
  },
  {
   "cell_type": "markdown",
   "metadata": {},
   "source": [
    "# Описание данных\n",
    "Данные геологоразведки трёх регионов находятся в data sets: geo_data_0.csv, geo_data_1.csv, geo_data_2.csv\n",
    "id — уникальный идентификатор скважины;\n",
    "f0, f1, f2 — три признака точек;\n",
    "product — объём запасов в скважине (тыс. баррелей).\n",
    "\n"
   ]
  },
  {
   "cell_type": "markdown",
   "metadata": {},
   "source": [
    "# Условия задания\n",
    " - Использовать модель линейной регрессии (остальные — недостаточно предсказуемые).\n",
    " - Исследовать 500 точек при геологоразведке, выбрать 200 с наибольшими запасами для расчёта прибыли.\n",
    " - Бюджет на разработку скважин в регионе — 10 млрд рублей.\n",
    " - Стоимость одного барреля нефти 450 рублей. Объём указан в 1000 баррелей.\n",
    " - Выбрать регионы, в которых вероятность убытков меньше 2.5%. Среди регионов, прошедших оценку рисков, выбрать один с наибольшей средней прибылью.\n",
    "\n"
   ]
  },
  {
   "cell_type": "markdown",
   "metadata": {},
   "source": [
    "# План проекта\n",
    " - Загрузка и подготовка данных\n",
    " - Обучение и проверка модели\n",
    " - Подготовка к расчёту прибыли\n",
    " - Расчёт прибыли\n",
    " - Расчёт рисков\n",
    " - Общий вывод\n",
    "\n"
   ]
  },
  {
   "cell_type": "markdown",
   "metadata": {},
   "source": [
    "<div class=\"alert alert-success\">\n",
    "<h2> Комментарий ревьюера <a class=\"tocSkip\"> </h2>\n",
    "\n",
    "<b>Все отлично!👍:</b> \n",
    "\n",
    "Хорошо оформленное подробное вступление."
   ]
  },
  {
   "cell_type": "markdown",
   "metadata": {},
   "source": [
    "## Загрузка и подготовка данных"
   ]
  },
  {
   "cell_type": "markdown",
   "metadata": {},
   "source": [
    "1.1 импортируем необходимые библиотеки"
   ]
  },
  {
   "cell_type": "code",
   "execution_count": 1,
   "metadata": {},
   "outputs": [],
   "source": [
    "import pandas as pd\n",
    "import numpy as np\n",
    "import matplotlib.pyplot as plt\n",
    "\n",
    "from IPython.display import display\n",
    "from numpy.random import RandomState\n",
    "from scipy import stats\n",
    "from scipy import stats as st\n",
    "from sklearn.metrics import r2_score\n",
    "from sklearn.preprocessing import StandardScaler\n",
    "from sklearn.model_selection import train_test_split\n",
    "from sklearn.linear_model import LinearRegression\n",
    "from sklearn.metrics import mean_squared_error"
   ]
  },
  {
   "cell_type": "markdown",
   "metadata": {},
   "source": [
    "<div class=\"alert alert-success\">\n",
    "<h2> Комментарий ревьюера <a class=\"tocSkip\"> </h2>\n",
    "\n",
    "<b>Все отлично!👍:</b> \n",
    "    \n",
    "Все импорты собраны в одном месте, это здорово. Будет понятно, какие библиотеки потребуется установить в случае чего."
   ]
  },
  {
   "cell_type": "markdown",
   "metadata": {},
   "source": [
    "1.2 загружаем данные первого data set. Выводим первые 5 строк"
   ]
  },
  {
   "cell_type": "code",
   "execution_count": 2,
   "metadata": {},
   "outputs": [
    {
     "data": {
      "text/html": [
       "<div>\n",
       "<style scoped>\n",
       "    .dataframe tbody tr th:only-of-type {\n",
       "        vertical-align: middle;\n",
       "    }\n",
       "\n",
       "    .dataframe tbody tr th {\n",
       "        vertical-align: top;\n",
       "    }\n",
       "\n",
       "    .dataframe thead th {\n",
       "        text-align: right;\n",
       "    }\n",
       "</style>\n",
       "<table border=\"1\" class=\"dataframe\">\n",
       "  <thead>\n",
       "    <tr style=\"text-align: right;\">\n",
       "      <th></th>\n",
       "      <th>id</th>\n",
       "      <th>f0</th>\n",
       "      <th>f1</th>\n",
       "      <th>f2</th>\n",
       "      <th>product</th>\n",
       "    </tr>\n",
       "  </thead>\n",
       "  <tbody>\n",
       "    <tr>\n",
       "      <th>0</th>\n",
       "      <td>txEyH</td>\n",
       "      <td>0.705745</td>\n",
       "      <td>-0.497823</td>\n",
       "      <td>1.221170</td>\n",
       "      <td>105.280062</td>\n",
       "    </tr>\n",
       "    <tr>\n",
       "      <th>1</th>\n",
       "      <td>2acmU</td>\n",
       "      <td>1.334711</td>\n",
       "      <td>-0.340164</td>\n",
       "      <td>4.365080</td>\n",
       "      <td>73.037750</td>\n",
       "    </tr>\n",
       "    <tr>\n",
       "      <th>2</th>\n",
       "      <td>409Wp</td>\n",
       "      <td>1.022732</td>\n",
       "      <td>0.151990</td>\n",
       "      <td>1.419926</td>\n",
       "      <td>85.265647</td>\n",
       "    </tr>\n",
       "    <tr>\n",
       "      <th>3</th>\n",
       "      <td>iJLyR</td>\n",
       "      <td>-0.032172</td>\n",
       "      <td>0.139033</td>\n",
       "      <td>2.978566</td>\n",
       "      <td>168.620776</td>\n",
       "    </tr>\n",
       "    <tr>\n",
       "      <th>4</th>\n",
       "      <td>Xdl7t</td>\n",
       "      <td>1.988431</td>\n",
       "      <td>0.155413</td>\n",
       "      <td>4.751769</td>\n",
       "      <td>154.036647</td>\n",
       "    </tr>\n",
       "  </tbody>\n",
       "</table>\n",
       "</div>"
      ],
      "text/plain": [
       "      id        f0        f1        f2     product\n",
       "0  txEyH  0.705745 -0.497823  1.221170  105.280062\n",
       "1  2acmU  1.334711 -0.340164  4.365080   73.037750\n",
       "2  409Wp  1.022732  0.151990  1.419926   85.265647\n",
       "3  iJLyR -0.032172  0.139033  2.978566  168.620776\n",
       "4  Xdl7t  1.988431  0.155413  4.751769  154.036647"
      ]
     },
     "metadata": {},
     "output_type": "display_data"
    },
    {
     "name": "stdout",
     "output_type": "stream",
     "text": [
      "<class 'pandas.core.frame.DataFrame'>\n",
      "RangeIndex: 100000 entries, 0 to 99999\n",
      "Data columns (total 5 columns):\n",
      " #   Column   Non-Null Count   Dtype  \n",
      "---  ------   --------------   -----  \n",
      " 0   id       100000 non-null  object \n",
      " 1   f0       100000 non-null  float64\n",
      " 2   f1       100000 non-null  float64\n",
      " 3   f2       100000 non-null  float64\n",
      " 4   product  100000 non-null  float64\n",
      "dtypes: float64(4), object(1)\n",
      "memory usage: 3.8+ MB\n"
     ]
    },
    {
     "data": {
      "text/plain": [
       "None"
      ]
     },
     "metadata": {},
     "output_type": "display_data"
    }
   ],
   "source": [
    "data_0 = pd.read_csv('/datasets/geo_data_0.csv')\n",
    "display(data_0.head())\n",
    "display(data_0.info()) #выводим информацию о данных методом info()"
   ]
  },
  {
   "cell_type": "markdown",
   "metadata": {},
   "source": [
    "<div class=\"alert alert-warning\">\n",
    "    <h2> Комментарий ревьюера <a class=\"tocSkip\"> </h2>\n",
    "    \n",
    "<b>Некоторые замечания и рекомендации💡:</b> \n",
    "        \n",
    "Здесь и далее можно использовать конструкцию try/except или библиотеку os, чтобы избежать ошибок при чтении файлов."
   ]
  },
  {
   "cell_type": "code",
   "execution_count": 3,
   "metadata": {},
   "outputs": [
    {
     "name": "stdout",
     "output_type": "stream",
     "text": [
      "дубликатов: 0\n"
     ]
    }
   ],
   "source": [
    "print('дубликатов:', sum(data_0.duplicated())) #считаем кол-во дубликатов"
   ]
  },
  {
   "cell_type": "markdown",
   "metadata": {},
   "source": [
    "<div class=\"alert alert-success\">\n",
    "<h2> Комментарий ревьюера <a class=\"tocSkip\"> </h2>\n",
    "\n",
    "<b>Все отлично!👍:</b> \n",
    "\n",
    "Плюс за анализ на дубликаты."
   ]
  },
  {
   "cell_type": "markdown",
   "metadata": {},
   "source": [
    "1.3 загружаем данные второго data set. Выводим первые 5 строк, считаем дубликаты"
   ]
  },
  {
   "cell_type": "code",
   "execution_count": 4,
   "metadata": {
    "scrolled": true
   },
   "outputs": [
    {
     "data": {
      "text/html": [
       "<div>\n",
       "<style scoped>\n",
       "    .dataframe tbody tr th:only-of-type {\n",
       "        vertical-align: middle;\n",
       "    }\n",
       "\n",
       "    .dataframe tbody tr th {\n",
       "        vertical-align: top;\n",
       "    }\n",
       "\n",
       "    .dataframe thead th {\n",
       "        text-align: right;\n",
       "    }\n",
       "</style>\n",
       "<table border=\"1\" class=\"dataframe\">\n",
       "  <thead>\n",
       "    <tr style=\"text-align: right;\">\n",
       "      <th></th>\n",
       "      <th>id</th>\n",
       "      <th>f0</th>\n",
       "      <th>f1</th>\n",
       "      <th>f2</th>\n",
       "      <th>product</th>\n",
       "    </tr>\n",
       "  </thead>\n",
       "  <tbody>\n",
       "    <tr>\n",
       "      <th>0</th>\n",
       "      <td>kBEdx</td>\n",
       "      <td>-15.001348</td>\n",
       "      <td>-8.276000</td>\n",
       "      <td>-0.005876</td>\n",
       "      <td>3.179103</td>\n",
       "    </tr>\n",
       "    <tr>\n",
       "      <th>1</th>\n",
       "      <td>62mP7</td>\n",
       "      <td>14.272088</td>\n",
       "      <td>-3.475083</td>\n",
       "      <td>0.999183</td>\n",
       "      <td>26.953261</td>\n",
       "    </tr>\n",
       "    <tr>\n",
       "      <th>2</th>\n",
       "      <td>vyE1P</td>\n",
       "      <td>6.263187</td>\n",
       "      <td>-5.948386</td>\n",
       "      <td>5.001160</td>\n",
       "      <td>134.766305</td>\n",
       "    </tr>\n",
       "    <tr>\n",
       "      <th>3</th>\n",
       "      <td>KcrkZ</td>\n",
       "      <td>-13.081196</td>\n",
       "      <td>-11.506057</td>\n",
       "      <td>4.999415</td>\n",
       "      <td>137.945408</td>\n",
       "    </tr>\n",
       "    <tr>\n",
       "      <th>4</th>\n",
       "      <td>AHL4O</td>\n",
       "      <td>12.702195</td>\n",
       "      <td>-8.147433</td>\n",
       "      <td>5.004363</td>\n",
       "      <td>134.766305</td>\n",
       "    </tr>\n",
       "  </tbody>\n",
       "</table>\n",
       "</div>"
      ],
      "text/plain": [
       "      id         f0         f1        f2     product\n",
       "0  kBEdx -15.001348  -8.276000 -0.005876    3.179103\n",
       "1  62mP7  14.272088  -3.475083  0.999183   26.953261\n",
       "2  vyE1P   6.263187  -5.948386  5.001160  134.766305\n",
       "3  KcrkZ -13.081196 -11.506057  4.999415  137.945408\n",
       "4  AHL4O  12.702195  -8.147433  5.004363  134.766305"
      ]
     },
     "metadata": {},
     "output_type": "display_data"
    },
    {
     "name": "stdout",
     "output_type": "stream",
     "text": [
      "<class 'pandas.core.frame.DataFrame'>\n",
      "RangeIndex: 100000 entries, 0 to 99999\n",
      "Data columns (total 5 columns):\n",
      " #   Column   Non-Null Count   Dtype  \n",
      "---  ------   --------------   -----  \n",
      " 0   id       100000 non-null  object \n",
      " 1   f0       100000 non-null  float64\n",
      " 2   f1       100000 non-null  float64\n",
      " 3   f2       100000 non-null  float64\n",
      " 4   product  100000 non-null  float64\n",
      "dtypes: float64(4), object(1)\n",
      "memory usage: 3.8+ MB\n"
     ]
    },
    {
     "data": {
      "text/plain": [
       "None"
      ]
     },
     "metadata": {},
     "output_type": "display_data"
    },
    {
     "name": "stdout",
     "output_type": "stream",
     "text": [
      "дубликатов: 0\n"
     ]
    }
   ],
   "source": [
    "data_1 = pd.read_csv('/datasets/geo_data_1.csv')\n",
    "display(data_1.head())\n",
    "display(data_1.info()) #выводим информацию о данных методом info()\n",
    "print('дубликатов:', sum(data_1.duplicated())) #считаем кол-во дубликатов"
   ]
  },
  {
   "cell_type": "markdown",
   "metadata": {},
   "source": [
    "1.4 загружаем данные третьего data set. Выводим первые 5 строк, считаем дубликаты"
   ]
  },
  {
   "cell_type": "code",
   "execution_count": 5,
   "metadata": {
    "scrolled": true
   },
   "outputs": [
    {
     "data": {
      "text/html": [
       "<div>\n",
       "<style scoped>\n",
       "    .dataframe tbody tr th:only-of-type {\n",
       "        vertical-align: middle;\n",
       "    }\n",
       "\n",
       "    .dataframe tbody tr th {\n",
       "        vertical-align: top;\n",
       "    }\n",
       "\n",
       "    .dataframe thead th {\n",
       "        text-align: right;\n",
       "    }\n",
       "</style>\n",
       "<table border=\"1\" class=\"dataframe\">\n",
       "  <thead>\n",
       "    <tr style=\"text-align: right;\">\n",
       "      <th></th>\n",
       "      <th>id</th>\n",
       "      <th>f0</th>\n",
       "      <th>f1</th>\n",
       "      <th>f2</th>\n",
       "      <th>product</th>\n",
       "    </tr>\n",
       "  </thead>\n",
       "  <tbody>\n",
       "    <tr>\n",
       "      <th>0</th>\n",
       "      <td>fwXo0</td>\n",
       "      <td>-1.146987</td>\n",
       "      <td>0.963328</td>\n",
       "      <td>-0.828965</td>\n",
       "      <td>27.758673</td>\n",
       "    </tr>\n",
       "    <tr>\n",
       "      <th>1</th>\n",
       "      <td>WJtFt</td>\n",
       "      <td>0.262778</td>\n",
       "      <td>0.269839</td>\n",
       "      <td>-2.530187</td>\n",
       "      <td>56.069697</td>\n",
       "    </tr>\n",
       "    <tr>\n",
       "      <th>2</th>\n",
       "      <td>ovLUW</td>\n",
       "      <td>0.194587</td>\n",
       "      <td>0.289035</td>\n",
       "      <td>-5.586433</td>\n",
       "      <td>62.871910</td>\n",
       "    </tr>\n",
       "    <tr>\n",
       "      <th>3</th>\n",
       "      <td>q6cA6</td>\n",
       "      <td>2.236060</td>\n",
       "      <td>-0.553760</td>\n",
       "      <td>0.930038</td>\n",
       "      <td>114.572842</td>\n",
       "    </tr>\n",
       "    <tr>\n",
       "      <th>4</th>\n",
       "      <td>WPMUX</td>\n",
       "      <td>-0.515993</td>\n",
       "      <td>1.716266</td>\n",
       "      <td>5.899011</td>\n",
       "      <td>149.600746</td>\n",
       "    </tr>\n",
       "  </tbody>\n",
       "</table>\n",
       "</div>"
      ],
      "text/plain": [
       "      id        f0        f1        f2     product\n",
       "0  fwXo0 -1.146987  0.963328 -0.828965   27.758673\n",
       "1  WJtFt  0.262778  0.269839 -2.530187   56.069697\n",
       "2  ovLUW  0.194587  0.289035 -5.586433   62.871910\n",
       "3  q6cA6  2.236060 -0.553760  0.930038  114.572842\n",
       "4  WPMUX -0.515993  1.716266  5.899011  149.600746"
      ]
     },
     "metadata": {},
     "output_type": "display_data"
    },
    {
     "name": "stdout",
     "output_type": "stream",
     "text": [
      "<class 'pandas.core.frame.DataFrame'>\n",
      "RangeIndex: 100000 entries, 0 to 99999\n",
      "Data columns (total 5 columns):\n",
      " #   Column   Non-Null Count   Dtype  \n",
      "---  ------   --------------   -----  \n",
      " 0   id       100000 non-null  object \n",
      " 1   f0       100000 non-null  float64\n",
      " 2   f1       100000 non-null  float64\n",
      " 3   f2       100000 non-null  float64\n",
      " 4   product  100000 non-null  float64\n",
      "dtypes: float64(4), object(1)\n",
      "memory usage: 3.8+ MB\n"
     ]
    },
    {
     "data": {
      "text/plain": [
       "None"
      ]
     },
     "metadata": {},
     "output_type": "display_data"
    },
    {
     "name": "stdout",
     "output_type": "stream",
     "text": [
      "дубликатов: 0\n"
     ]
    }
   ],
   "source": [
    "data_2 = pd.read_csv('/datasets/geo_data_2.csv')\n",
    "display(data_2.head())\n",
    "display(data_2.info()) #выводим информацию о данных методом info()\n",
    "print('дубликатов:', sum(data_2.duplicated())) #считаем кол-во дубликатов"
   ]
  },
  {
   "cell_type": "markdown",
   "metadata": {},
   "source": [
    "1.5 столбец id никакой ценности не несет. Мы его удалим"
   ]
  },
  {
   "cell_type": "code",
   "execution_count": 6,
   "metadata": {},
   "outputs": [],
   "source": [
    "data_0 = data_0.drop('id', axis=1)\n",
    "data_1 = data_1.drop('id', axis=1)\n",
    "data_2 = data_2.drop('id', axis=1)\n",
    "\n"
   ]
  },
  {
   "cell_type": "markdown",
   "metadata": {},
   "source": [
    "<div class=\"alert alert-success\">\n",
    "<h2> Комментарий ревьюера <a class=\"tocSkip\"> </h2>\n",
    "\n",
    "<b>Все отлично!👍:</b> \n",
    "\n",
    "Хорошо, что исключаешь столбец с id."
   ]
  },
  {
   "cell_type": "code",
   "execution_count": 7,
   "metadata": {},
   "outputs": [
    {
     "data": {
      "text/html": [
       "<div>\n",
       "<style scoped>\n",
       "    .dataframe tbody tr th:only-of-type {\n",
       "        vertical-align: middle;\n",
       "    }\n",
       "\n",
       "    .dataframe tbody tr th {\n",
       "        vertical-align: top;\n",
       "    }\n",
       "\n",
       "    .dataframe thead th {\n",
       "        text-align: right;\n",
       "    }\n",
       "</style>\n",
       "<table border=\"1\" class=\"dataframe\">\n",
       "  <thead>\n",
       "    <tr style=\"text-align: right;\">\n",
       "      <th></th>\n",
       "      <th>f0</th>\n",
       "      <th>f1</th>\n",
       "      <th>f2</th>\n",
       "      <th>product</th>\n",
       "    </tr>\n",
       "  </thead>\n",
       "  <tbody>\n",
       "    <tr>\n",
       "      <th>0</th>\n",
       "      <td>0.705745</td>\n",
       "      <td>-0.497823</td>\n",
       "      <td>1.221170</td>\n",
       "      <td>105.280062</td>\n",
       "    </tr>\n",
       "    <tr>\n",
       "      <th>1</th>\n",
       "      <td>1.334711</td>\n",
       "      <td>-0.340164</td>\n",
       "      <td>4.365080</td>\n",
       "      <td>73.037750</td>\n",
       "    </tr>\n",
       "    <tr>\n",
       "      <th>2</th>\n",
       "      <td>1.022732</td>\n",
       "      <td>0.151990</td>\n",
       "      <td>1.419926</td>\n",
       "      <td>85.265647</td>\n",
       "    </tr>\n",
       "    <tr>\n",
       "      <th>3</th>\n",
       "      <td>-0.032172</td>\n",
       "      <td>0.139033</td>\n",
       "      <td>2.978566</td>\n",
       "      <td>168.620776</td>\n",
       "    </tr>\n",
       "    <tr>\n",
       "      <th>4</th>\n",
       "      <td>1.988431</td>\n",
       "      <td>0.155413</td>\n",
       "      <td>4.751769</td>\n",
       "      <td>154.036647</td>\n",
       "    </tr>\n",
       "  </tbody>\n",
       "</table>\n",
       "</div>"
      ],
      "text/plain": [
       "         f0        f1        f2     product\n",
       "0  0.705745 -0.497823  1.221170  105.280062\n",
       "1  1.334711 -0.340164  4.365080   73.037750\n",
       "2  1.022732  0.151990  1.419926   85.265647\n",
       "3 -0.032172  0.139033  2.978566  168.620776\n",
       "4  1.988431  0.155413  4.751769  154.036647"
      ]
     },
     "metadata": {},
     "output_type": "display_data"
    },
    {
     "data": {
      "text/html": [
       "<div>\n",
       "<style scoped>\n",
       "    .dataframe tbody tr th:only-of-type {\n",
       "        vertical-align: middle;\n",
       "    }\n",
       "\n",
       "    .dataframe tbody tr th {\n",
       "        vertical-align: top;\n",
       "    }\n",
       "\n",
       "    .dataframe thead th {\n",
       "        text-align: right;\n",
       "    }\n",
       "</style>\n",
       "<table border=\"1\" class=\"dataframe\">\n",
       "  <thead>\n",
       "    <tr style=\"text-align: right;\">\n",
       "      <th></th>\n",
       "      <th>f0</th>\n",
       "      <th>f1</th>\n",
       "      <th>f2</th>\n",
       "      <th>product</th>\n",
       "    </tr>\n",
       "  </thead>\n",
       "  <tbody>\n",
       "    <tr>\n",
       "      <th>0</th>\n",
       "      <td>-15.001348</td>\n",
       "      <td>-8.276000</td>\n",
       "      <td>-0.005876</td>\n",
       "      <td>3.179103</td>\n",
       "    </tr>\n",
       "    <tr>\n",
       "      <th>1</th>\n",
       "      <td>14.272088</td>\n",
       "      <td>-3.475083</td>\n",
       "      <td>0.999183</td>\n",
       "      <td>26.953261</td>\n",
       "    </tr>\n",
       "    <tr>\n",
       "      <th>2</th>\n",
       "      <td>6.263187</td>\n",
       "      <td>-5.948386</td>\n",
       "      <td>5.001160</td>\n",
       "      <td>134.766305</td>\n",
       "    </tr>\n",
       "    <tr>\n",
       "      <th>3</th>\n",
       "      <td>-13.081196</td>\n",
       "      <td>-11.506057</td>\n",
       "      <td>4.999415</td>\n",
       "      <td>137.945408</td>\n",
       "    </tr>\n",
       "    <tr>\n",
       "      <th>4</th>\n",
       "      <td>12.702195</td>\n",
       "      <td>-8.147433</td>\n",
       "      <td>5.004363</td>\n",
       "      <td>134.766305</td>\n",
       "    </tr>\n",
       "  </tbody>\n",
       "</table>\n",
       "</div>"
      ],
      "text/plain": [
       "          f0         f1        f2     product\n",
       "0 -15.001348  -8.276000 -0.005876    3.179103\n",
       "1  14.272088  -3.475083  0.999183   26.953261\n",
       "2   6.263187  -5.948386  5.001160  134.766305\n",
       "3 -13.081196 -11.506057  4.999415  137.945408\n",
       "4  12.702195  -8.147433  5.004363  134.766305"
      ]
     },
     "metadata": {},
     "output_type": "display_data"
    },
    {
     "data": {
      "text/html": [
       "<div>\n",
       "<style scoped>\n",
       "    .dataframe tbody tr th:only-of-type {\n",
       "        vertical-align: middle;\n",
       "    }\n",
       "\n",
       "    .dataframe tbody tr th {\n",
       "        vertical-align: top;\n",
       "    }\n",
       "\n",
       "    .dataframe thead th {\n",
       "        text-align: right;\n",
       "    }\n",
       "</style>\n",
       "<table border=\"1\" class=\"dataframe\">\n",
       "  <thead>\n",
       "    <tr style=\"text-align: right;\">\n",
       "      <th></th>\n",
       "      <th>f0</th>\n",
       "      <th>f1</th>\n",
       "      <th>f2</th>\n",
       "      <th>product</th>\n",
       "    </tr>\n",
       "  </thead>\n",
       "  <tbody>\n",
       "    <tr>\n",
       "      <th>0</th>\n",
       "      <td>-1.146987</td>\n",
       "      <td>0.963328</td>\n",
       "      <td>-0.828965</td>\n",
       "      <td>27.758673</td>\n",
       "    </tr>\n",
       "    <tr>\n",
       "      <th>1</th>\n",
       "      <td>0.262778</td>\n",
       "      <td>0.269839</td>\n",
       "      <td>-2.530187</td>\n",
       "      <td>56.069697</td>\n",
       "    </tr>\n",
       "    <tr>\n",
       "      <th>2</th>\n",
       "      <td>0.194587</td>\n",
       "      <td>0.289035</td>\n",
       "      <td>-5.586433</td>\n",
       "      <td>62.871910</td>\n",
       "    </tr>\n",
       "    <tr>\n",
       "      <th>3</th>\n",
       "      <td>2.236060</td>\n",
       "      <td>-0.553760</td>\n",
       "      <td>0.930038</td>\n",
       "      <td>114.572842</td>\n",
       "    </tr>\n",
       "    <tr>\n",
       "      <th>4</th>\n",
       "      <td>-0.515993</td>\n",
       "      <td>1.716266</td>\n",
       "      <td>5.899011</td>\n",
       "      <td>149.600746</td>\n",
       "    </tr>\n",
       "  </tbody>\n",
       "</table>\n",
       "</div>"
      ],
      "text/plain": [
       "         f0        f1        f2     product\n",
       "0 -1.146987  0.963328 -0.828965   27.758673\n",
       "1  0.262778  0.269839 -2.530187   56.069697\n",
       "2  0.194587  0.289035 -5.586433   62.871910\n",
       "3  2.236060 -0.553760  0.930038  114.572842\n",
       "4 -0.515993  1.716266  5.899011  149.600746"
      ]
     },
     "metadata": {},
     "output_type": "display_data"
    }
   ],
   "source": [
    "display(data_0.head())\n",
    "display(data_1.head())\n",
    "display(data_2.head())"
   ]
  },
  {
   "cell_type": "markdown",
   "metadata": {},
   "source": [
    "# Вывод\n",
    " - Данные успешно загрузили. \n",
    " - Дубликатов нет.\n",
    " - Типы данных соответствуют описанию.\n",
    " - Столбец id пришлось удалить за ненадобностью и бесполезностью"
   ]
  },
  {
   "cell_type": "markdown",
   "metadata": {},
   "source": [
    "<div class=\"alert alert-success\">\n",
    "<h2> Комментарий ревьюера <a class=\"tocSkip\"> </h2>\n",
    "\n",
    "<b>Все отлично!👍:</b> \n",
    "    \n",
    "Хорошо, что делаешь промежуточные выводы."
   ]
  },
  {
   "cell_type": "markdown",
   "metadata": {},
   "source": [
    "<div class=\"alert alert-warning\">\n",
    "    <h2> Комментарий ревьюера <a class=\"tocSkip\"> </h2>\n",
    "    \n",
    "<b>Некоторые замечания и рекомендации💡:</b> \n",
    "        \n",
    "У тебя есть некоторая повторяемость кода, в этом случае можно использовать пользовательские функции, избегать повторяемые фрагменты кода — хорошая практика.\n",
    "        \n",
    "Можно также применить визуализацию для анализа, чтобы были видны распределения данных. \n",
    "Визуализация важна не только в работе аналитиков, но и DS-специалистов: можно увидеть важные закономерности в данных, проще интерпретировать результаты моделирования. Да и бизнес будет рад, если мы ещё и какие-то инсайты из данных ему принесём. Я бы посоветовала не только распределения визуализировать, но и взаимосвязи в данных: матрицу диаграмм рассеяния и тепловую карту коэффициентов корреляции Пирсона изобразить. В этой задаче у нас планируется использовать модель линейной регрессии, а она чувствительна к проблеме мультиколлинеарности, поэтому тепловая карта может быть очень полезна."
   ]
  },
  {
   "cell_type": "markdown",
   "metadata": {},
   "source": [
    "## Обучение и проверка модели"
   ]
  },
  {
   "cell_type": "markdown",
   "metadata": {},
   "source": [
    "2.1 Разобъем данные на обучающую и валидационную выборки в соотношении 75:25.\n",
    "    Используем модель линейной регрессии согласно условиям.\n",
    "    Выведем средний запас сырья и RMSE модели."
   ]
  },
  {
   "cell_type": "code",
   "execution_count": 8,
   "metadata": {},
   "outputs": [],
   "source": [
    "target_0 = data_0['product']\n",
    "features_0= data_0.drop('product', axis=1)\n",
    "target_1 = data_1['product']\n",
    "features_1= data_1.drop('product', axis=1)\n",
    "target_2 = data_2['product']\n",
    "features_2 = data_2.drop('product', axis=1)\n",
    "numeric = ['f0', 'f1', 'f2']\n",
    "\n",
    "#features_train_0, features_valid_0, target_train_0, target_valid_0 = train_test_split(\n",
    "  # features_0, target_0, test_size=0.25, random_state=12345)"
   ]
  },
  {
   "cell_type": "code",
   "execution_count": 9,
   "metadata": {},
   "outputs": [],
   "source": [
    "def model_fit_valid(features, target): # создадим функцию, которря делит данные на обучающую и валидационную выборки (75/25),\n",
    "                 #обучает модель линейной регрессии (согласно условию), предсказывает на валидационной выборке,        \n",
    "    \n",
    "    features_train, features_valid, target_train, target_valid = train_test_split(features, target, test_size=0.25, random_state=42)\n",
    "    print('Train shape:', features_train.shape)\n",
    "    print('Valid shape:', features_valid.shape)\n",
    "    \n",
    "    model = LinearRegression()\n",
    "    model.fit(features_train, target_train)\n",
    "    predict = model.predict(features_valid)\n",
    "\n",
    "    predict_mean = predict.mean()\n",
    "    rmse = mean_squared_error(target_valid, predict)**.5\n",
    "\n",
    "    print('Cредний запас сырья: {:.4f}'.format(predict_mean))\n",
    "    print('RMSE: {:.4f}'.format(rmse))\n",
    "    \n",
    "    return target_valid, predict\n"
   ]
  },
  {
   "cell_type": "markdown",
   "metadata": {},
   "source": [
    "<div class=\"alert alert-success\">\n",
    "<h2> Комментарий ревьюера <a class=\"tocSkip\"> </h2>\n",
    "\n",
    "<b>Все отлично!👍:</b> \n",
    "    \n",
    "Хорошая функция. Молодец, что не забываешь вычислять квадратный корень из mse."
   ]
  },
  {
   "cell_type": "markdown",
   "metadata": {},
   "source": [
    "2.2 Рассмотрим data_0"
   ]
  },
  {
   "cell_type": "code",
   "execution_count": 10,
   "metadata": {
    "scrolled": true
   },
   "outputs": [
    {
     "name": "stdout",
     "output_type": "stream",
     "text": [
      "Train shape: (75000, 3)\n",
      "Valid shape: (25000, 3)\n",
      "Cредний запас сырья: 92.3988\n",
      "RMSE: 37.7566\n"
     ]
    }
   ],
   "source": [
    "target_0_valid, predict_0 = model_fit_valid(features_0, target_0)"
   ]
  },
  {
   "cell_type": "markdown",
   "metadata": {},
   "source": [
    "2.3 Рассмотрим data_1"
   ]
  },
  {
   "cell_type": "code",
   "execution_count": 11,
   "metadata": {},
   "outputs": [
    {
     "name": "stdout",
     "output_type": "stream",
     "text": [
      "Train shape: (75000, 3)\n",
      "Valid shape: (25000, 3)\n",
      "Cредний запас сырья: 68.7129\n",
      "RMSE: 0.8903\n"
     ]
    }
   ],
   "source": [
    "target_1_valid, predict_1 = model_fit_valid(features_1, target_1)"
   ]
  },
  {
   "cell_type": "markdown",
   "metadata": {},
   "source": [
    "2.4 Рассмотрим data_2"
   ]
  },
  {
   "cell_type": "code",
   "execution_count": 12,
   "metadata": {
    "scrolled": true
   },
   "outputs": [
    {
     "name": "stdout",
     "output_type": "stream",
     "text": [
      "Train shape: (75000, 3)\n",
      "Valid shape: (25000, 3)\n",
      "Cредний запас сырья: 94.7710\n",
      "RMSE: 40.1459\n"
     ]
    }
   ],
   "source": [
    "target_2_valid, predict_2 = model_fit_valid(features_2, target_2)"
   ]
  },
  {
   "cell_type": "markdown",
   "metadata": {},
   "source": [
    "# Вывод\n",
    " - Самый высокий средний запас сырья = 94.8 обнаружен в месторождениях Региона 3. Второй по средним запасам Регион 1 = 92,4, замыкает тройку Регион 2 со средними запасами = 68,7.\n",
    " - в тоже время RMSE регионов лидеров также высок (40.1 и 37,8 соответственно). ВОозможна проблема с точностью (качеством) модели регрессии.\n",
    " - в Регионе 2 показатель среднего запаса сырья ниже остальных, днако RMSE = 0.89, что указывает на большую точность предсказаний и качестве построенной модели."
   ]
  },
  {
   "cell_type": "markdown",
   "metadata": {},
   "source": [
    "<div class=\"alert alert-success\">\n",
    "<h2> Комментарий ревьюера <a class=\"tocSkip\"> </h2>\n",
    "\n",
    "<b>Все отлично!👍:</b> \n",
    "\n",
    "Обучение прошло верно. Выводы верные."
   ]
  },
  {
   "cell_type": "markdown",
   "metadata": {},
   "source": [
    "<div class=\"alert alert-warning\">\n",
    "    <h2> Комментарий ревьюера <a class=\"tocSkip\"> </h2>\n",
    "    \n",
    "<b>Некоторые замечания и рекомендации💡:</b>\n",
    "        \n",
    "Ты заметил, что возможна проблема с точностью. Это тот самый момент, когда была бы полезна визуализация и более глобокое исследование данных. Если визуализировать диаграммы рессеяния, то станет понятнее, почему так получается."
   ]
  },
  {
   "cell_type": "markdown",
   "metadata": {},
   "source": [
    "## Подготовка к расчёту прибыли"
   ]
  },
  {
   "cell_type": "markdown",
   "metadata": {},
   "source": [
    "3.1 Нужно рассчитать минимальный объём сырья для окупаеммости разработки одной скважины. После этого нужно сравнить этот показатель с нашими расчитанными средними запасами сырья в каждом Data (Регионе)"
   ]
  },
  {
   "cell_type": "code",
   "execution_count": 13,
   "metadata": {},
   "outputs": [
    {
     "name": "stdout",
     "output_type": "stream",
     "text": [
      "мнимальный объем сырья: 111.11111111111111\n"
     ]
    }
   ],
   "source": [
    "budget = 10_000 # в млн р\n",
    "samp_wells = 500\n",
    "best_wells = 200\n",
    "rev_per_well = 0.45 # доход с 1 тыс баррель в млн. руб\n",
    "alfa = 0.025 # допустимый коэффициент убытков\n",
    "bootstrap_samples = 1000\n",
    "budget_best_wells = budget/best_wells\n",
    "min_volume = budget_best_wells/rev_per_well\n",
    "print('мнимальный объем сырья:', min_volume)"
   ]
  },
  {
   "cell_type": "markdown",
   "metadata": {},
   "source": [
    "# Вывод\n",
    " - Минимальный необходимы объем сырья удельно на одну скважину = 111,1. \n",
    " - этот показатель превышает наши средние запасы по всем Регионам"
   ]
  },
  {
   "cell_type": "markdown",
   "metadata": {},
   "source": [
    "<div class=\"alert alert-success\">\n",
    "<h2> Комментарий ревьюера <a class=\"tocSkip\"> </h2>\n",
    "\n",
    "<b>Все отлично!👍:</b> \n",
    "\n",
    "Расчет правильный, выводы верные, молодец."
   ]
  },
  {
   "cell_type": "markdown",
   "metadata": {},
   "source": [
    "<div class=\"alert alert-warning\">\n",
    "    <h2> Комментарий ревьюера <a class=\"tocSkip\"> </h2>\n",
    "    \n",
    "<b>Некоторые замечания и рекомендации💡:</b>\n",
    "\n",
    "Хорошо называть константы в верхнем регистре, чтобы соответствовать стилевым рекомендациям Python-программистов.\n",
    "\n",
    "Также можно разделять разряды в длинных числах с помощью <code>_</code>: <code>10000000000</code> и <code>10_000_000_000</code> в качестве значения переменной — одно и тоже, но второй вариант проще читать и с ним удобнее работать.         "
   ]
  },
  {
   "cell_type": "markdown",
   "metadata": {},
   "source": [
    "<div class=\"alert alert-block alert-info\">\n",
    "<b>Комментарий студента:</b> поправил синтаксис, добавил переменную с допустимым процентом убытков и уменьшил большие цифровые значения переменных. Спасибо за подсказку)\n",
    "</div>"
   ]
  },
  {
   "cell_type": "markdown",
   "metadata": {},
   "source": [
    "## Расчёт прибыли и рисков "
   ]
  },
  {
   "cell_type": "markdown",
   "metadata": {},
   "source": [
    "4.1 создадим функцию для расчета прибыли в лучших скважинах"
   ]
  },
  {
   "cell_type": "code",
   "execution_count": 14,
   "metadata": {},
   "outputs": [
    {
     "name": "stdout",
     "output_type": "stream",
     "text": [
      "Прибыль 200 лучших скважин:\n",
      "Регион 1 = 3359.14 млн. руб.\n",
      "Регион 2 = 2415.09 млн. руб.\n",
      "Регион 3 = 2598.57 млн. руб.\n"
     ]
    }
   ],
   "source": [
    "\n",
    "def income(target_valid, predict, count):\n",
    "    #revenue = data['product'] * 450000\n",
    "    pred_sorted = predict.sort_values(ascending=False).head(200) # сортируем 200 лучших скважин по значениям их предсказаний\n",
    "    targ = target_valid[pred_sorted.index][:count]\n",
    "    result = rev_per_well * targ.sum()\n",
    "    return result\n",
    "predict_0 = pd.Series(predict_0) # перевел из ndarray в Series\n",
    "predict_1 = pd.Series(predict_1)\n",
    "predict_2 = pd.Series(predict_2)\n",
    "\n",
    "predict_0.index = target_0_valid.index # так как индексы не совпали сразу после предказания, я сопоставил индексы и ошибка счезла\n",
    "predict_1.index = target_1_valid.index\n",
    "predict_2.index = target_2_valid.index\n",
    "\n",
    "print('Прибыль 200 лучших скважин:')\n",
    "print('Регион 1 = {:.2f} млн. руб.'.format(income(target_0_valid, predict_0, best_wells) - budget))\n",
    "print('Регион 2 = {:.2f} млн. руб.'.format(income(target_1_valid, predict_1, best_wells) - budget))\n",
    "print('Регион 3 = {:.2f} млн. руб.'.format(income(target_2_valid, predict_2, best_wells) - budget))\n"
   ]
  },
  {
   "cell_type": "markdown",
   "metadata": {},
   "source": [
    "<div class=\"alert alert-success\">\n",
    "<h2> Комментарий ревьюера №2<a class=\"tocSkip\"> </h2>\n",
    "\n",
    "<b>Все отлично!👍:</b> \n",
    "    \n",
    "Отлично, что заметил момент с индексами. Теперь все верно."
   ]
  },
  {
   "cell_type": "markdown",
   "metadata": {},
   "source": [
    "# Вывод\n",
    " - самая высокая прибыль в 200 лучших скважинах получилась у Региона 1 =3,3 млрд р.\n",
    " - на втором местс регион 3 = 2,6 млрд р\n",
    " - на третьем Регион 2= 2,4 млрд р"
   ]
  },
  {
   "cell_type": "markdown",
   "metadata": {},
   "source": [
    "<div class=\"alert alert-block alert-danger\">\n",
    "<h2> Комментарий ревьюера <a class=\"tocSkip\"></h2>\n",
    "\n",
    "    \n",
    "<b>На доработку🤔:</b>\n",
    "    \n",
    "Давай посмотрим на функцию: ты делаешь сортировку, основываясь на целевом значении объема сырья. В задании же сказано \"Выберите скважины с максимальными значениями предсказаний\". \n",
    "\n",
    "Здесь стоит подумать, как это сделать. \n",
    " \n",
    "Мы выбираем определенное количество лучших скважин именно по прогнозу модели,  если бы мы знали сразу реальное число для новых скважин, модель нам не понадобилась бы.\n",
    "    \n",
    "Также стоит учитывать, что в итоге у тебя получается не значение прибыли, а значение оборота. Чтобы посчитать прибыль, нужно еще учесть бюджет на разработку."
   ]
  },
  {
   "cell_type": "markdown",
   "metadata": {},
   "source": [
    "<div class=\"alert alert-block alert-info\">\n",
    "<b>Комментарий студента:</b> Заменил изначальный data set на предсказания в модели, отсортировал скважины с максимальными значениями предсказаний. Спасибо за замечание. Я не сразу смог разобраться)\n",
    "</div>"
   ]
  },
  {
   "cell_type": "markdown",
   "metadata": {},
   "source": [
    "<div class=\"alert alert-success\">\n",
    "<h2> Комментарий ревьюера №2<a class=\"tocSkip\"> </h2>\n",
    "\n",
    "<b>Все отлично!👍:</b> \n",
    "\n",
    "Ты молодец, что разобрался, не имеет значения сразу/не сразу. Главное, что ты не бросил попыток. А значит, все получится."
   ]
  },
  {
   "cell_type": "markdown",
   "metadata": {},
   "source": [
    "4.2 рассчитаем среднюю прибыль для каждого региона\n",
    "необходимо создать новую функцию для случайного кол-ва скважин (по заданию их должно быть 500)"
   ]
  },
  {
   "cell_type": "code",
   "execution_count": 15,
   "metadata": {},
   "outputs": [],
   "source": [
    "def revenue(target_valid, predict, count):\n",
    "    pred_sorted = predict.sort_values(ascending=False) # сортируем скважины по значениям их предсказаний\n",
    "    targ = target_valid[pred_sorted.index][:count]\n",
    "    result = rev_per_well * targ.sum()\n",
    "    return result\n"
   ]
  },
  {
   "cell_type": "markdown",
   "metadata": {},
   "source": [
    "<div class=\"alert alert-warning\">\n",
    "    <h2> Комментарий ревьюера №2<a class=\"tocSkip\"> </h2>\n",
    "    \n",
    "<b>Некоторые замечания и рекомендации💡:</b>\n",
    "\n",
    "Функция revenue дублирует функцию income, заявленную выше."
   ]
  },
  {
   "cell_type": "code",
   "execution_count": 23,
   "metadata": {},
   "outputs": [
    {
     "name": "stdout",
     "output_type": "stream",
     "text": [
      "Средняя прибыль Регион_1:\n",
      "435.93 млн. руб.\n",
      "95%-ый доверительный интервал: (-107.1136797748473, 978.9812240521721)\n",
      "риск убыточности Региона 1 = 6.10% и крайне вероятен\n"
     ]
    }
   ],
   "source": [
    "revenue_0 = []\n",
    "state = np.random.RandomState(12345)\n",
    "count_0 = 0\n",
    "\n",
    "for i in range(bootstrap_samples): # создаем 1000 выборок\n",
    "    target_subsample_0 = target_0_valid.sample(n = samp_wells, replace=True, random_state=state)\n",
    "    pred_subsample_0 = predict_0[target_subsample_0.index]\n",
    "    rev = revenue(target_subsample_0, pred_subsample_0, best_wells) - budget\n",
    "    revenue_0.append(rev)\n",
    "    \n",
    "revenue_0 = pd.Series(revenue_0)\n",
    "\n",
    "for o in revenue_0:\n",
    "    if o < 0 :       #проверяем выборку на убыточность, если минусовое значение, то увеличиваем счетчик\n",
    "        count_0 += 1\n",
    "\n",
    "    \n",
    "mean_0 = revenue_0.mean()\n",
    "print(\"Средняя прибыль Регион_1:\")\n",
    "print(\"{:.2f} млн. руб.\".format(mean_0))\n",
    "\n",
    "confidence_interval = st.t.interval(0.95, len(revenue_0)-1, revenue_0.mean(), np.std(revenue_0, ddof=1))  # посчитаем и выведем 95-% доверительный интервал\n",
    "print(\"95%-ый доверительный интервал:\", confidence_interval)\n",
    "    \n",
    "pvalue = 1. * count_0 / bootstrap_samples\n",
    "if pvalue < alfa:\n",
    "    print(\"риск убыточности Региона 1 = {:.2%}, риск маловероятен\".format(pvalue))\n",
    "else:\n",
    "    print(\"риск убыточности Региона 1 = {:.2%} и крайне вероятен\".format(pvalue))    \n",
    "\n",
    " \n"
   ]
  },
  {
   "cell_type": "markdown",
   "metadata": {},
   "source": [
    "<div class=\"alert alert-warning\">\n",
    "    <h2> Комментарий ревьюера <a class=\"tocSkip\"> </h2>\n",
    "    \n",
    "<b>Некоторые замечания и рекомендации💡:</b> \n",
    "\n",
    "Ключевые значения, используемые для расчетов, лучше сохранить в отдельных переменных, как того требует задание.\n",
    "Здесь это количество исследуемых точек и количество выборок для Bootstrap.\n",
    "\n",
    "В целом неудачная практика передавать в код числа в явном виде. Если что-то изменится, то придётся всё переделывать вручную: монотонно и можно ошибиться.        \n",
    "Также не совсем поняла, почему ты вычисляешь 5% квантиль, обьясни, пожалуйста."
   ]
  },
  {
   "cell_type": "markdown",
   "metadata": {},
   "source": [
    "<div class=\"alert alert-block alert-info\">\n",
    "<b>Комментарий студента:</b> при расчете средней прибыли Региона один внес ряд изменений:\n",
    "    1) написал новую функцию для подсчета прибыли в случайном кол-ве скважин \n",
    "    1) в цикле заменил data на предсказания\n",
    "    2) сопоставил индексы\n",
    "    3) убрал числа, заменил их переменными\n",
    "    4) 5%-й квантиль показыает какая прибыль будет в скважинах Региона 1 в 95% случаев. Использовал его, чтобы посмотреть насколько может отличаться среднее значения от того, которое будет в 95% случаев. В последствии я отказался от этой метрики, так как в задании не стояло такого условия\n",
    "    5) не сразу до меня долшло как посчитать риск возможных убытков, но в цикое поставил услове по проверке выборки на минусовую прибыль и сделал счетчик\n",
    "    6) посчитал среднюю прибыль, доверительный интервал, чтобы понимать насколько в минус сможет уходить прибыль в выборке, высчитал pvalue и сравнил с заданным условием допустимого % убытка = 2,5%\n",
    "</div>"
   ]
  },
  {
   "cell_type": "markdown",
   "metadata": {},
   "source": [
    "<div class=\"alert alert-warning\">\n",
    "    <h2> Комментарий ревьюера №2<a class=\"tocSkip\"> </h2>\n",
    "    \n",
    "<b>Некоторые замечания и рекомендации💡:</b> \n",
    "        \n",
    "Не совсем верное определение 5% квантиля."
   ]
  },
  {
   "cell_type": "code",
   "execution_count": 24,
   "metadata": {},
   "outputs": [
    {
     "name": "stdout",
     "output_type": "stream",
     "text": [
      "Средняя прибыль Регион_2:\n",
      "498.57 млн. руб.\n",
      "95%-ый доверительный интервал: (78.22561584002028, 918.912417993557)\n",
      "риск убыточности Региона 2 = 1.00%, риск маловероятен\n"
     ]
    }
   ],
   "source": [
    "revenue_1 = []\n",
    "count_1 = 0\n",
    "\n",
    "for e in range(bootstrap_samples): # создаем 1000 выборок\n",
    "    target_subsample_1 = target_1_valid.sample(n = samp_wells, replace=True, random_state=state)\n",
    "    pred_subsample_1 = predict_1[target_subsample_1.index]\n",
    "    rev_1 = revenue(target_subsample_1, pred_subsample_1, best_wells) - budget\n",
    "    revenue_1.append(rev_1)\n",
    "    \n",
    "revenue_1 = pd.Series(revenue_1)\n",
    "\n",
    "for u in revenue_1:\n",
    "    if u < 0 :\n",
    "        count_1 += 1\n",
    "    \n",
    "mean_1 = revenue_1.mean()\n",
    "print(\"Средняя прибыль Регион_2:\")\n",
    "print(\"{:.2f} млн. руб.\".format(mean_1))\n",
    "\n",
    "confidence_interval = st.t.interval(0.95, len(revenue_1)-1, revenue_1.mean(), np.std(revenue_1, ddof=1))  # посчитаем и выведем 95-% доверительный интервал\n",
    "print(\"95%-ый доверительный интервал:\", confidence_interval)\n",
    "    \n",
    "pvalue = 1. * count_1 / bootstrap_samples\n",
    "if pvalue < alfa:\n",
    "    print(\"риск убыточности Региона 2 = {:.2%}, риск маловероятен\".format(pvalue))\n",
    "else:\n",
    "    print(\"риск убыточности Региона 2 = {:.2%} и крайне вероятен\".format(pvalue))    "
   ]
  },
  {
   "cell_type": "code",
   "execution_count": 21,
   "metadata": {},
   "outputs": [
    {
     "name": "stdout",
     "output_type": "stream",
     "text": [
      "Средняя прибыль Регион_3:\n",
      "406.93 млн. руб.\n",
      "95%-ый доверительный интервал: (-131.7784256694049, 945.641665848101)\n",
      "риск убыточности Региона 3 = 7.00% и крайне вероятен\n"
     ]
    }
   ],
   "source": [
    "revenue_2 = []\n",
    "count_2 = 0\n",
    "\n",
    "\n",
    "for t in range(bootstrap_samples): # создаем 1000 выборок\n",
    "    target_subsample_2 = target_2_valid.sample(n = samp_wells, replace=True, random_state=state)\n",
    "    pred_subsample_2 = predict_2[target_subsample_2.index]\n",
    "    rev_2 = revenue(target_subsample_2, pred_subsample_2, best_wells) - budget\n",
    "    revenue_2.append(rev_2)\n",
    "    \n",
    "revenue_2 = pd.Series(revenue_2)\n",
    "\n",
    "for y in revenue_2:\n",
    "    if y < 0 :\n",
    "        count_2 += 1\n",
    "\n",
    "mean_2 = revenue_2.mean()\n",
    "print(\"Средняя прибыль Регион_3:\")\n",
    "print(\"{:.2f} млн. руб.\".format(mean_2))\n",
    "\n",
    "confidence_interval = st.t.interval(0.95, len(revenue_2)-1, revenue_2.mean(), np.std(revenue_2, ddof=1))  # посчитаем и выведем 95-% доверительный интервал\n",
    "print(\"95%-ый доверительный интервал:\", confidence_interval)\n",
    "    \n",
    "pvalue = 1. * count_2 / bootstrap_samples\n",
    "if pvalue < alfa:\n",
    "    print(\"риск убыточности Региона 3 = {:.2%}, риск маловероятен\".format(pvalue))\n",
    "else:\n",
    "    print(\"риск убыточности Региона 3 = {:.2%} и крайне вероятен\".format(pvalue))\n",
    "\n",
    "\n"
   ]
  },
  {
   "cell_type": "markdown",
   "metadata": {},
   "source": [
    "# Вывод\n",
    " - Используя выборку из 500 скважин, потенциальная прибыль уменьшается в среднем с 2,5 - 3 млрд рублей до 0,4 - 0,5 млрд рублей. \n",
    " - Судя по доверительному интервалу Регион 1 и Регион 3 имеют вероятность убытков, поэтому не подходят (вероятность убытков должна быть меньше 2,5 %). \n",
    " - Регион 2 показал минимальную вероятность убытков и поэтому можем считать его как наименее рискованный. У Региона 2 у единственного левая граница 95-% доверительного интервала - положительная. "
   ]
  },
  {
   "cell_type": "markdown",
   "metadata": {},
   "source": [
    "<div class=\"alert alert-block alert-danger\">\n",
    "<h2> Комментарий ревьюера <a class=\"tocSkip\"></h2>\n",
    "\n",
    "    \n",
    "<b>На доработку🤔:</b>\n",
    "\n",
    "Последний пункт вывода вызывает вопросы.\n",
    "Как мы использовали модель, чтобы получить такой вывод?\n",
    "Зачем заказчику нужна наша модель?\n",
    "Стоит поразмышлять над этим, тогда должно стать понятнее, почему алгоритм действий именно такой."
   ]
  },
  {
   "cell_type": "markdown",
   "metadata": {},
   "source": [
    "<div class=\"alert alert-block alert-danger\">\n",
    "<h2> Комментарий ревьюера <a class=\"tocSkip\"></h2>\n",
    "\n",
    "    \n",
    "<b>На доработку🤔:</b>\n",
    "    \n",
    "Не совсем понятно, что за функция predicted_income. Из-за этого ячейка ниже выдает ошибку. \n",
    "Просьба перед тем, как сдавать проект, запусти его сначала и до конца, иначе проект может быть возвращен на доработку без проверки.\n",
    "На этот раз я произвела проверку, потому что не работают буквально последние 3 ячейки, но это скорее исключение.\n",
    "    \n",
    "Также получается, что у тебя дважды проходит процедура bootstrap. Код дублируется.\n",
    "    \n",
    "Комментарии в функции не соответсвуют использованным ранее в проекте переменным.\n",
    "    \n",
    "Ответь, пожалуйста, на несколько вопросов, это поможет убедиться, что проект тебе понятен:\n",
    "    \n",
    "1. В чем логика этого и предыдущего разделов\n",
    "2. В чем отличие между этим и предыдущим разделом.\n",
    "3. Зачем нам нужна модель машинного обучения."
   ]
  },
  {
   "cell_type": "markdown",
   "metadata": {},
   "source": [
    "<div class=\"alert alert-block alert-info\">\n",
    "<b>Комментарий студента:</b> постараюсь ответить так как понимаю задание:\n",
    "    1) предыдущий раздел считал вероятную прибыть из 200 самых привлекательных скважин и показал хорошие результаты. Значения прибыли для каждого региона (от 2.4 млрд руб. до 3.2 млрд руб). Однако разведка десятков тысяч скважин что повлечет за собой очень большие с вложениями затраты, поэтому принято решение расчитать прибыль на 500 случайных скважинах.\n",
    "    2) В текущем разделе мы рассчитываем прибыль, процент и процент риска по случайным 500 скважинам, чтобы не давать бизнесу завышенные ожидания по модели от 200 лучших скважин. При случайном выборе скважин (не менее 500) для исследования, расчетная прибыль падает в несколько раз по сравнению с ситуацией, если бы мы проводили разведку для всего объема скважин. Рекомендуем заказчику определить объем вложений для проведения геолоразведки 1-й скважины и включения данного параметра в бизнес-модель.\n",
    "    3) модель ML необходима для того, чтобы она, обучаясь, предсказывала прибыльность либо убыточность на выборке. Можно, конечно, это делать считая в ручную каждую скважину, но это не целесообразно. \n",
    "</div>"
   ]
  },
  {
   "cell_type": "markdown",
   "metadata": {},
   "source": [
    "<div class=\"alert alert-success\">\n",
    "<h2> Комментарий ревьюера №2<a class=\"tocSkip\"> </h2>\n",
    "\n",
    "<b>Все отлично!👍:</b> \n",
    "    \n",
    "Да, теперь все стало яснее. Молодец, что доработал."
   ]
  },
  {
   "cell_type": "code",
   "execution_count": null,
   "metadata": {},
   "outputs": [],
   "source": []
  },
  {
   "cell_type": "code",
   "execution_count": null,
   "metadata": {},
   "outputs": [],
   "source": []
  },
  {
   "cell_type": "code",
   "execution_count": null,
   "metadata": {
    "scrolled": true
   },
   "outputs": [],
   "source": []
  },
  {
   "cell_type": "markdown",
   "metadata": {},
   "source": [
    "## Общий Вывод\n",
    " - Данные успешно загрузили. \n",
    " - Дубликатов нет.\n",
    " - Типы данных соответствуют описанию.\n",
    " - Столбец id пришлось удалить за ненадобностью и бесполезностью\n",
    " - Самый высокий средний запас сырья = 94.8 обнаружен в месторождениях Региона 3. Второй по средним запасам Регион 1 = 92,4,      - Замыкает тройку Регион 2 со средними запасами = 68,7.\n",
    " - В тоже время RMSE регионов лидеров также высок (40.1 и 37,8 соответственно). ВОозможна проблема с точностью (качеством) модели регрессии.\n",
    " - Минимальный необходимы объем сырья удельно на одну скважину = 111,1. \n",
    " - Этот показатель превышает наши средние запасы по всем Регионам\n",
    " - Наибольшая средняя выручка по 200 лучшим скважинам у нас в Регионе 1 = 3,3 млрд р, на втором местс регион 3 = 2,6 млрд р\n",
    "на третьем Регион 2= 2,4 млрд р\n",
    " - Используя выборку из 500 скважин, потенциальная прибыль уменьшается в среднем с 2,5 - 3 млрд рублей до 0,4 - 0,5 млрд рублей.\n",
    " - Судя по доверительному интервалу Регион 1 и Регион 3 имеют вероятность убытков, поэтому не подходят (вероятность убытков должна быть меньше 2,5 %).\n",
    " - Регион 2 показал минимальную вероятность убытков и поэтому можем считать его как наименее рискованный. У Региона 2 у единственного левая граница 95-% доверительного интервала - положительная.\n",
    " # В соответствии с задачей рекомендую Регион 2 для разработки."
   ]
  },
  {
   "cell_type": "markdown",
   "metadata": {},
   "source": [
    "<div class=\"alert alert-block alert-danger\">\n",
    "<h2> Комментарий ревьюера <a class=\"tocSkip\"></h2>\n",
    "\n",
    "    \n",
    "<b>На доработку🤔:</b>\n",
    "    \n",
    "Когда произведешь перерасчет, необходимо будет также поправить все промежуточные выводы и общий вывод, исходя из новых данных."
   ]
  },
  {
   "cell_type": "markdown",
   "metadata": {},
   "source": [
    "<div class=\"alert alert-warning\">\n",
    "    <h2> Комментарий ревьюера <a class=\"tocSkip\"> </h2>\n",
    "    \n",
    "<b>Некоторые замечания и рекомендации💡:</b> \n",
    "    \n",
    "Если есть желание углубиться в тему, то можно почитать, например, что-то из этих материалов:\n",
    "\n",
    "\"A Gentle Introduction to the Bootstrap Method\" (на английском)\n",
    "https://machinelearningmastery.com/a-gentle-introduction-to-the-bootstrap-method/\n",
    "        \n",
    "\"Как устроено A/B-тестирование в Авито\" (на русском)\n",
    "https://habr.com/ru/company/avito/blog/454164/\n",
    "        "
   ]
  },
  {
   "cell_type": "markdown",
   "metadata": {},
   "source": [
    "<div class=\"alert alert-success\">\n",
    "<h2> Комментарий ревьюера №2<a class=\"tocSkip\"> </h2>\n",
    "\n",
    "<b>Все отлично!👍:</b> \n",
    "    \n",
    "Хороший общий вывод."
   ]
  },
  {
   "cell_type": "code",
   "execution_count": null,
   "metadata": {},
   "outputs": [],
   "source": []
  },
  {
   "cell_type": "markdown",
   "metadata": {},
   "source": [
    "## Чек-лист готовности проекта"
   ]
  },
  {
   "cell_type": "markdown",
   "metadata": {},
   "source": [
    "Поставьте 'x' в выполненных пунктах. Далее нажмите Shift+Enter."
   ]
  },
  {
   "cell_type": "markdown",
   "metadata": {},
   "source": [
    "- [x]  Jupyter Notebook открыт\n",
    "- [ ]  Весь код выполняется без ошибок\n",
    "- [ ]  Ячейки с кодом расположены в порядке исполнения\n",
    "- [ ]  Выполнен шаг 1: данные подготовлены\n",
    "- [ ]  Выполнен шаг 2: модели обучены и проверены\n",
    "    - [ ]  Данные корректно разбиты на обучающую и валидационную выборки\n",
    "    - [ ]  Модели обучены, предсказания сделаны\n",
    "    - [ ]  Предсказания и правильные ответы на валидационной выборке сохранены\n",
    "    - [ ]  На экране напечатаны результаты\n",
    "    - [ ]  Сделаны выводы\n",
    "- [ ]  Выполнен шаг 3: проведена подготовка к расчёту прибыли\n",
    "    - [ ]  Для всех ключевых значений созданы константы Python\n",
    "    - [ ]  Посчитано минимальное среднее количество продукта в месторождениях региона, достаточное для разработки\n",
    "    - [ ]  По предыдущему пункту сделаны выводы\n",
    "    - [ ]  Написана функция расчёта прибыли\n",
    "- [ ]  Выполнен шаг 4: посчитаны риски и прибыль\n",
    "    - [ ]  Проведена процедура *Bootstrap*\n",
    "    - [ ]  Все параметры бутстрепа соответствуют условию\n",
    "    - [ ]  Найдены все нужные величины\n",
    "    - [ ]  Предложен регион для разработки месторождения\n",
    "    - [ ]  Выбор региона обоснован"
   ]
  },
  {
   "cell_type": "markdown",
   "metadata": {},
   "source": [
    "<div style=\"border:solid Chocolate 2px; padding: 40px\">\n",
    "    \n",
    "<b>Общий вывод по проекту</b>\n",
    "\n",
    "Александр, благодарю тебя за работу! Проект продуманный, доведенный до конца, для этого нужно много сил, времени и мотивации. Ты все это инвестировал, видно, что ты старался. В проекте много хороших моментов. Однако есть места, которые стоит проработать еще раз, чтобы сделать его сильнее для портфолио.\n",
    "\n",
    "**Положительные моменты проекта, которые хочу еще раз подчеркнуть:**\n",
    "\n",
    "1. Выдержана структура проекта,\n",
    "2. Проведена предварительная работа с данными,\n",
    "3. Верно обучены модели линейной регрессии для всех трех регионов,\n",
    "4. Верно произведен расчет минимального обьема сырья,\n",
    "5. Реализована процедура bootstrap.\n",
    "\n",
    "**Замечания, на которые стоит обратить внимание при будущей работе:**\n",
    "\n",
    "1. Возможно, использовать визуализацию для предварительного анализа данных\n",
    "2. Необходимо исправить функцию расчета прибыли\n",
    "3. Произвести перерасчет и исправить выводы, исходя из новых значений.\n",
    "4. Избавиться от дублирующего кода.\n",
    "\n",
    "Остальные комментарии ты найдешь выше.\n",
    "\n",
    "**Желаю удачи и жду твой проект на повторное ревью!**\n",
    "\n"
   ]
  },
  {
   "cell_type": "markdown",
   "metadata": {},
   "source": [
    "<div style=\"border:solid Chocolate 2px; padding: 40px\">\n",
    "    \n",
    "<b>Общий вывод по проекту №2</b>\n",
    "    \n",
    "Александр, ты хорошо поработал, теперь все стало на свои места в проекте. Молодец!\n",
    "Я отправлю еще раз работу тебе назад. На случай, если ты хочешь задать вопросы, может, что-то еще добавить или подправить.\n",
    "Если нет, то на следующей итерации я приму проект.\n",
    "    \n",
    "Желаю успехов!"
   ]
  },
  {
   "cell_type": "markdown",
   "metadata": {},
   "source": [
    "<div class=\"alert alert-block alert-info\">\n",
    "<b>Комментарий студента:</b> Ксения, спасибо за качественное ревью. Ты мне очень помогла разобраться с тем, с чем в теории изначально я недопонял. С удовольствием приступлю к Сборному проекту и буду рад, если ты снова будешь моим ревьюером)\n",
    "</div>"
   ]
  },
  {
   "cell_type": "code",
   "execution_count": null,
   "metadata": {},
   "outputs": [],
   "source": []
  }
 ],
 "metadata": {
  "ExecuteTimeLog": [
   {
    "duration": 1346,
    "start_time": "2022-06-05T10:31:11.022Z"
   },
   {
    "duration": 395,
    "start_time": "2022-06-05T10:31:14.346Z"
   },
   {
    "duration": 150,
    "start_time": "2022-06-05T10:31:44.711Z"
   },
   {
    "duration": 60,
    "start_time": "2022-06-05T10:34:26.484Z"
   },
   {
    "duration": 274,
    "start_time": "2022-06-05T10:36:06.283Z"
   },
   {
    "duration": 270,
    "start_time": "2022-06-05T10:39:24.532Z"
   },
   {
    "duration": 16,
    "start_time": "2022-06-05T10:42:20.479Z"
   },
   {
    "duration": 196,
    "start_time": "2022-06-05T10:44:07.004Z"
   },
   {
    "duration": 34,
    "start_time": "2022-06-05T10:44:31.046Z"
   },
   {
    "duration": 189,
    "start_time": "2022-06-05T10:44:34.143Z"
   },
   {
    "duration": 183,
    "start_time": "2022-06-05T10:44:38.398Z"
   },
   {
    "duration": 19,
    "start_time": "2022-06-05T10:45:11.637Z"
   },
   {
    "duration": 109,
    "start_time": "2022-06-05T10:45:44.092Z"
   },
   {
    "duration": 3,
    "start_time": "2022-06-05T10:46:54.286Z"
   },
   {
    "duration": 148,
    "start_time": "2022-06-05T10:46:54.291Z"
   },
   {
    "duration": 42,
    "start_time": "2022-06-05T10:46:54.441Z"
   },
   {
    "duration": 197,
    "start_time": "2022-06-05T10:46:54.484Z"
   },
   {
    "duration": 181,
    "start_time": "2022-06-05T10:46:54.683Z"
   },
   {
    "duration": 12,
    "start_time": "2022-06-05T10:47:49.864Z"
   },
   {
    "duration": 24,
    "start_time": "2022-06-05T10:47:55.790Z"
   },
   {
    "duration": 22,
    "start_time": "2022-06-05T11:00:01.863Z"
   },
   {
    "duration": 1418,
    "start_time": "2022-06-07T06:26:00.028Z"
   },
   {
    "duration": 440,
    "start_time": "2022-06-07T06:26:01.448Z"
   },
   {
    "duration": 84,
    "start_time": "2022-06-07T06:26:01.890Z"
   },
   {
    "duration": 272,
    "start_time": "2022-06-07T06:26:01.976Z"
   },
   {
    "duration": 274,
    "start_time": "2022-06-07T06:26:02.250Z"
   },
   {
    "duration": 38,
    "start_time": "2022-06-07T06:26:02.526Z"
   },
   {
    "duration": 23,
    "start_time": "2022-06-07T06:26:02.566Z"
   },
   {
    "duration": 6,
    "start_time": "2022-06-07T06:51:37.652Z"
   },
   {
    "duration": 110,
    "start_time": "2022-06-07T07:24:57.386Z"
   },
   {
    "duration": 5,
    "start_time": "2022-06-07T07:29:17.896Z"
   },
   {
    "duration": 13,
    "start_time": "2022-06-07T07:29:20.750Z"
   },
   {
    "duration": 11,
    "start_time": "2022-06-07T07:29:23.023Z"
   },
   {
    "duration": 38,
    "start_time": "2022-06-07T07:29:26.215Z"
   },
   {
    "duration": 3,
    "start_time": "2022-06-08T06:05:49.141Z"
   },
   {
    "duration": 145,
    "start_time": "2022-06-08T06:05:49.146Z"
   },
   {
    "duration": 59,
    "start_time": "2022-06-08T06:05:49.293Z"
   },
   {
    "duration": 165,
    "start_time": "2022-06-08T06:05:49.354Z"
   },
   {
    "duration": 174,
    "start_time": "2022-06-08T06:05:49.521Z"
   },
   {
    "duration": 13,
    "start_time": "2022-06-08T06:05:49.696Z"
   },
   {
    "duration": 24,
    "start_time": "2022-06-08T06:05:49.710Z"
   },
   {
    "duration": 8,
    "start_time": "2022-06-08T06:05:49.752Z"
   },
   {
    "duration": 9,
    "start_time": "2022-06-08T06:05:49.762Z"
   },
   {
    "duration": 83,
    "start_time": "2022-06-08T06:05:49.772Z"
   },
   {
    "duration": 23,
    "start_time": "2022-06-08T06:06:34.682Z"
   },
   {
    "duration": 24,
    "start_time": "2022-06-08T06:06:37.453Z"
   },
   {
    "duration": 3,
    "start_time": "2022-06-08T07:04:26.656Z"
   },
   {
    "duration": 3,
    "start_time": "2022-06-08T07:04:58.231Z"
   },
   {
    "duration": 4,
    "start_time": "2022-06-09T06:24:47.449Z"
   },
   {
    "duration": 182,
    "start_time": "2022-06-09T06:24:47.455Z"
   },
   {
    "duration": 47,
    "start_time": "2022-06-09T06:24:47.639Z"
   },
   {
    "duration": 189,
    "start_time": "2022-06-09T06:24:47.688Z"
   },
   {
    "duration": 189,
    "start_time": "2022-06-09T06:24:47.878Z"
   },
   {
    "duration": 13,
    "start_time": "2022-06-09T06:24:48.068Z"
   },
   {
    "duration": 51,
    "start_time": "2022-06-09T06:24:48.082Z"
   },
   {
    "duration": 10,
    "start_time": "2022-06-09T06:24:48.134Z"
   },
   {
    "duration": 22,
    "start_time": "2022-06-09T06:24:48.145Z"
   },
   {
    "duration": 60,
    "start_time": "2022-06-09T06:24:48.169Z"
   },
   {
    "duration": 113,
    "start_time": "2022-06-09T06:24:48.232Z"
   },
   {
    "duration": 196,
    "start_time": "2022-06-09T06:24:48.348Z"
   },
   {
    "duration": 182,
    "start_time": "2022-06-09T06:24:48.546Z"
   },
   {
    "duration": 3,
    "start_time": "2022-06-09T06:48:31.257Z"
   },
   {
    "duration": 1006,
    "start_time": "2022-06-09T06:53:53.128Z"
   },
   {
    "duration": 1073,
    "start_time": "2022-06-09T07:07:27.373Z"
   },
   {
    "duration": 994,
    "start_time": "2022-06-09T07:08:24.661Z"
   },
   {
    "duration": 1000,
    "start_time": "2022-06-09T07:08:38.050Z"
   },
   {
    "duration": 1105,
    "start_time": "2022-06-09T07:08:54.522Z"
   },
   {
    "duration": 4,
    "start_time": "2022-06-09T07:36:58.427Z"
   },
   {
    "duration": 126,
    "start_time": "2022-06-09T07:37:28.749Z"
   },
   {
    "duration": 29,
    "start_time": "2022-06-09T07:37:54.371Z"
   },
   {
    "duration": 4,
    "start_time": "2022-06-09T07:38:19.137Z"
   },
   {
    "duration": 1106,
    "start_time": "2022-06-09T07:38:20.702Z"
   },
   {
    "duration": 835,
    "start_time": "2022-06-09T07:39:12.677Z"
   },
   {
    "duration": 812,
    "start_time": "2022-06-09T07:40:05.915Z"
   },
   {
    "duration": 828,
    "start_time": "2022-06-09T07:40:27.115Z"
   },
   {
    "duration": 856,
    "start_time": "2022-06-09T07:42:02.765Z"
   },
   {
    "duration": 847,
    "start_time": "2022-06-09T07:42:13.729Z"
   },
   {
    "duration": 818,
    "start_time": "2022-06-09T07:42:42.353Z"
   },
   {
    "duration": 907,
    "start_time": "2022-06-09T07:42:51.384Z"
   },
   {
    "duration": 813,
    "start_time": "2022-06-09T07:43:32.928Z"
   },
   {
    "duration": 1046,
    "start_time": "2022-06-09T07:43:35.714Z"
   },
   {
    "duration": 3,
    "start_time": "2022-06-10T12:54:48.459Z"
   },
   {
    "duration": 161,
    "start_time": "2022-06-10T12:54:48.464Z"
   },
   {
    "duration": 42,
    "start_time": "2022-06-10T12:54:48.626Z"
   },
   {
    "duration": 188,
    "start_time": "2022-06-10T12:54:48.670Z"
   },
   {
    "duration": 175,
    "start_time": "2022-06-10T12:54:48.859Z"
   },
   {
    "duration": 12,
    "start_time": "2022-06-10T12:54:49.035Z"
   },
   {
    "duration": 21,
    "start_time": "2022-06-10T12:54:49.048Z"
   },
   {
    "duration": 7,
    "start_time": "2022-06-10T12:54:49.070Z"
   },
   {
    "duration": 8,
    "start_time": "2022-06-10T12:54:49.085Z"
   },
   {
    "duration": 90,
    "start_time": "2022-06-10T12:54:49.096Z"
   },
   {
    "duration": 108,
    "start_time": "2022-06-10T12:54:49.188Z"
   },
   {
    "duration": 94,
    "start_time": "2022-06-10T12:54:49.298Z"
   },
   {
    "duration": 188,
    "start_time": "2022-06-10T12:54:49.394Z"
   },
   {
    "duration": 4,
    "start_time": "2022-06-10T12:54:49.584Z"
   },
   {
    "duration": 737,
    "start_time": "2022-06-10T12:54:49.593Z"
   },
   {
    "duration": 739,
    "start_time": "2022-06-10T12:54:50.332Z"
   },
   {
    "duration": 735,
    "start_time": "2022-06-10T12:54:51.073Z"
   },
   {
    "duration": 3,
    "start_time": "2022-06-10T13:06:35.967Z"
   },
   {
    "duration": 5,
    "start_time": "2022-06-10T13:08:03.237Z"
   },
   {
    "duration": 107,
    "start_time": "2022-06-10T13:08:55.294Z"
   },
   {
    "duration": 4,
    "start_time": "2022-06-10T13:12:13.737Z"
   },
   {
    "duration": 15,
    "start_time": "2022-06-10T13:12:16.788Z"
   },
   {
    "duration": 4,
    "start_time": "2022-06-10T13:13:43.928Z"
   },
   {
    "duration": 11,
    "start_time": "2022-06-10T13:13:46.298Z"
   },
   {
    "duration": 5,
    "start_time": "2022-06-10T13:14:13.960Z"
   },
   {
    "duration": 12,
    "start_time": "2022-06-10T13:14:16.486Z"
   },
   {
    "duration": 4,
    "start_time": "2022-06-10T13:14:26.894Z"
   },
   {
    "duration": 12,
    "start_time": "2022-06-10T13:14:29.200Z"
   },
   {
    "duration": 4,
    "start_time": "2022-06-10T13:14:41.416Z"
   },
   {
    "duration": 12,
    "start_time": "2022-06-10T13:14:43.449Z"
   },
   {
    "duration": 4,
    "start_time": "2022-06-10T13:16:16.227Z"
   },
   {
    "duration": 13,
    "start_time": "2022-06-10T13:16:18.334Z"
   },
   {
    "duration": 5,
    "start_time": "2022-06-10T13:16:27.670Z"
   },
   {
    "duration": 10,
    "start_time": "2022-06-10T13:16:29.476Z"
   },
   {
    "duration": 4,
    "start_time": "2022-06-10T13:16:54.074Z"
   },
   {
    "duration": 11,
    "start_time": "2022-06-10T13:16:56.311Z"
   },
   {
    "duration": 3,
    "start_time": "2022-06-12T08:22:12.289Z"
   },
   {
    "duration": 173,
    "start_time": "2022-06-12T08:22:12.294Z"
   },
   {
    "duration": 52,
    "start_time": "2022-06-12T08:22:12.468Z"
   },
   {
    "duration": 191,
    "start_time": "2022-06-12T08:22:12.522Z"
   },
   {
    "duration": 203,
    "start_time": "2022-06-12T08:22:12.716Z"
   },
   {
    "duration": 14,
    "start_time": "2022-06-12T08:22:12.920Z"
   },
   {
    "duration": 37,
    "start_time": "2022-06-12T08:22:12.935Z"
   },
   {
    "duration": 8,
    "start_time": "2022-06-12T08:22:12.974Z"
   },
   {
    "duration": 7,
    "start_time": "2022-06-12T08:22:12.984Z"
   },
   {
    "duration": 76,
    "start_time": "2022-06-12T08:22:12.992Z"
   },
   {
    "duration": 100,
    "start_time": "2022-06-12T08:22:13.159Z"
   },
   {
    "duration": 119,
    "start_time": "2022-06-12T08:22:13.261Z"
   },
   {
    "duration": 81,
    "start_time": "2022-06-12T08:22:13.382Z"
   },
   {
    "duration": 96,
    "start_time": "2022-06-12T08:22:13.468Z"
   },
   {
    "duration": 836,
    "start_time": "2022-06-12T08:22:13.566Z"
   },
   {
    "duration": 839,
    "start_time": "2022-06-12T08:22:14.404Z"
   },
   {
    "duration": 813,
    "start_time": "2022-06-12T08:22:15.245Z"
   },
   {
    "duration": 5,
    "start_time": "2022-06-12T08:22:16.059Z"
   },
   {
    "duration": 6,
    "start_time": "2022-06-12T08:22:16.065Z"
   },
   {
    "duration": 444,
    "start_time": "2022-06-12T08:23:17.424Z"
   },
   {
    "duration": 387,
    "start_time": "2022-06-12T08:26:05.229Z"
   },
   {
    "duration": 468,
    "start_time": "2022-06-12T08:47:16.651Z"
   },
   {
    "duration": 5,
    "start_time": "2022-06-13T12:20:06.803Z"
   },
   {
    "duration": 287,
    "start_time": "2022-06-13T12:20:06.813Z"
   },
   {
    "duration": 75,
    "start_time": "2022-06-13T12:20:07.102Z"
   },
   {
    "duration": 265,
    "start_time": "2022-06-13T12:20:07.180Z"
   },
   {
    "duration": 310,
    "start_time": "2022-06-13T12:20:07.451Z"
   },
   {
    "duration": 22,
    "start_time": "2022-06-13T12:20:07.763Z"
   },
   {
    "duration": 78,
    "start_time": "2022-06-13T12:20:07.788Z"
   },
   {
    "duration": 52,
    "start_time": "2022-06-13T12:20:07.868Z"
   },
   {
    "duration": 49,
    "start_time": "2022-06-13T12:20:07.934Z"
   },
   {
    "duration": 276,
    "start_time": "2022-06-13T12:20:07.990Z"
   },
   {
    "duration": 85,
    "start_time": "2022-06-13T12:20:08.307Z"
   },
   {
    "duration": 235,
    "start_time": "2022-06-13T12:20:08.415Z"
   },
   {
    "duration": 38,
    "start_time": "2022-06-13T12:20:08.680Z"
   },
   {
    "duration": 132,
    "start_time": "2022-06-13T12:20:08.728Z"
   },
   {
    "duration": 1187,
    "start_time": "2022-06-13T12:20:08.864Z"
   },
   {
    "duration": 1065,
    "start_time": "2022-06-13T12:20:10.053Z"
   },
   {
    "duration": 1019,
    "start_time": "2022-06-13T12:20:11.120Z"
   },
   {
    "duration": 328,
    "start_time": "2022-06-13T12:24:00.334Z"
   },
   {
    "duration": 11,
    "start_time": "2022-06-13T12:24:18.216Z"
   },
   {
    "duration": 39,
    "start_time": "2022-06-13T12:24:34.994Z"
   },
   {
    "duration": 17,
    "start_time": "2022-06-13T12:24:58.091Z"
   },
   {
    "duration": 5,
    "start_time": "2022-06-13T12:25:16.421Z"
   },
   {
    "duration": 7,
    "start_time": "2022-06-13T12:25:30.965Z"
   },
   {
    "duration": 3,
    "start_time": "2022-06-13T12:28:18.382Z"
   },
   {
    "duration": 5,
    "start_time": "2022-06-13T12:29:24.515Z"
   },
   {
    "duration": 23,
    "start_time": "2022-06-13T12:30:17.480Z"
   },
   {
    "duration": 11,
    "start_time": "2022-06-13T12:30:59.699Z"
   },
   {
    "duration": 17,
    "start_time": "2022-06-13T12:31:07.852Z"
   },
   {
    "duration": 5,
    "start_time": "2022-06-13T12:31:26.921Z"
   },
   {
    "duration": 18,
    "start_time": "2022-06-13T12:31:30.187Z"
   },
   {
    "duration": 5,
    "start_time": "2022-06-13T12:31:54.210Z"
   },
   {
    "duration": 6,
    "start_time": "2022-06-13T12:32:57.050Z"
   },
   {
    "duration": 38,
    "start_time": "2022-06-13T12:32:59.785Z"
   },
   {
    "duration": 4,
    "start_time": "2022-06-13T12:33:28.752Z"
   },
   {
    "duration": 18,
    "start_time": "2022-06-13T12:33:28.758Z"
   },
   {
    "duration": 0,
    "start_time": "2022-06-13T12:33:28.778Z"
   },
   {
    "duration": 0,
    "start_time": "2022-06-13T12:33:28.780Z"
   },
   {
    "duration": 0,
    "start_time": "2022-06-13T12:33:28.781Z"
   },
   {
    "duration": 0,
    "start_time": "2022-06-13T12:33:28.782Z"
   },
   {
    "duration": 0,
    "start_time": "2022-06-13T12:33:28.784Z"
   },
   {
    "duration": 0,
    "start_time": "2022-06-13T12:33:28.786Z"
   },
   {
    "duration": 0,
    "start_time": "2022-06-13T12:33:28.787Z"
   },
   {
    "duration": 0,
    "start_time": "2022-06-13T12:33:28.788Z"
   },
   {
    "duration": 13,
    "start_time": "2022-06-13T12:33:56.551Z"
   },
   {
    "duration": 4,
    "start_time": "2022-06-13T12:34:36.767Z"
   },
   {
    "duration": 405,
    "start_time": "2022-06-13T12:34:36.776Z"
   },
   {
    "duration": 56,
    "start_time": "2022-06-13T12:34:37.184Z"
   },
   {
    "duration": 255,
    "start_time": "2022-06-13T12:34:37.241Z"
   },
   {
    "duration": 189,
    "start_time": "2022-06-13T12:34:37.500Z"
   },
   {
    "duration": 20,
    "start_time": "2022-06-13T12:34:37.693Z"
   },
   {
    "duration": 22,
    "start_time": "2022-06-13T12:34:37.715Z"
   },
   {
    "duration": 8,
    "start_time": "2022-06-13T12:34:37.738Z"
   },
   {
    "duration": 9,
    "start_time": "2022-06-13T12:34:37.747Z"
   },
   {
    "duration": 61,
    "start_time": "2022-06-13T12:34:37.757Z"
   },
   {
    "duration": 189,
    "start_time": "2022-06-13T12:34:37.823Z"
   },
   {
    "duration": 203,
    "start_time": "2022-06-13T12:34:38.014Z"
   },
   {
    "duration": 5,
    "start_time": "2022-06-13T12:34:38.220Z"
   },
   {
    "duration": 13,
    "start_time": "2022-06-13T12:34:38.306Z"
   },
   {
    "duration": 914,
    "start_time": "2022-06-13T12:34:38.398Z"
   },
   {
    "duration": 804,
    "start_time": "2022-06-13T12:34:39.318Z"
   },
   {
    "duration": 831,
    "start_time": "2022-06-13T12:34:40.123Z"
   },
   {
    "duration": 4,
    "start_time": "2022-06-13T12:34:40.956Z"
   },
   {
    "duration": 7,
    "start_time": "2022-06-13T12:34:40.961Z"
   },
   {
    "duration": 12,
    "start_time": "2022-06-13T12:34:50.291Z"
   },
   {
    "duration": 4,
    "start_time": "2022-06-13T12:34:53.605Z"
   },
   {
    "duration": 20,
    "start_time": "2022-06-13T12:35:03.327Z"
   },
   {
    "duration": 4,
    "start_time": "2022-06-13T12:35:23.180Z"
   },
   {
    "duration": 18,
    "start_time": "2022-06-13T12:35:27.556Z"
   },
   {
    "duration": 5,
    "start_time": "2022-06-13T12:54:37.282Z"
   },
   {
    "duration": 4,
    "start_time": "2022-06-13T12:54:41.025Z"
   },
   {
    "duration": 1035,
    "start_time": "2022-06-13T12:54:43.981Z"
   },
   {
    "duration": 962,
    "start_time": "2022-06-13T12:54:51.713Z"
   },
   {
    "duration": 914,
    "start_time": "2022-06-13T12:54:57.765Z"
   },
   {
    "duration": 3,
    "start_time": "2022-06-13T12:56:42.930Z"
   },
   {
    "duration": 13,
    "start_time": "2022-06-13T12:56:46.844Z"
   },
   {
    "duration": 6,
    "start_time": "2022-06-13T12:56:56.489Z"
   },
   {
    "duration": 6,
    "start_time": "2022-06-13T12:57:03.062Z"
   },
   {
    "duration": 30,
    "start_time": "2022-06-13T12:57:07.591Z"
   },
   {
    "duration": 5,
    "start_time": "2022-06-13T12:58:05.018Z"
   },
   {
    "duration": 5,
    "start_time": "2022-06-13T12:58:51.026Z"
   },
   {
    "duration": 15,
    "start_time": "2022-06-13T12:59:10.277Z"
   },
   {
    "duration": 5,
    "start_time": "2022-06-13T13:00:43.775Z"
   },
   {
    "duration": 15,
    "start_time": "2022-06-13T13:00:46.323Z"
   },
   {
    "duration": 8,
    "start_time": "2022-06-13T13:01:15.588Z"
   },
   {
    "duration": 31,
    "start_time": "2022-06-13T13:01:18.035Z"
   },
   {
    "duration": 4,
    "start_time": "2022-06-13T13:04:13.725Z"
   },
   {
    "duration": 7,
    "start_time": "2022-06-13T13:04:16.210Z"
   },
   {
    "duration": 7,
    "start_time": "2022-06-13T13:04:55.034Z"
   },
   {
    "duration": 8,
    "start_time": "2022-06-13T13:05:04.479Z"
   },
   {
    "duration": 5,
    "start_time": "2022-06-13T13:05:11.870Z"
   },
   {
    "duration": 4,
    "start_time": "2022-06-13T13:05:17.890Z"
   },
   {
    "duration": 7,
    "start_time": "2022-06-13T13:05:19.467Z"
   },
   {
    "duration": 463,
    "start_time": "2022-06-13T13:05:21.749Z"
   },
   {
    "duration": 3,
    "start_time": "2022-06-13T13:10:11.926Z"
   },
   {
    "duration": 4,
    "start_time": "2022-06-13T13:10:15.004Z"
   },
   {
    "duration": 16,
    "start_time": "2022-06-13T13:10:17.315Z"
   },
   {
    "duration": 6,
    "start_time": "2022-06-13T13:10:21.728Z"
   },
   {
    "duration": 8,
    "start_time": "2022-06-13T13:10:36.091Z"
   },
   {
    "duration": 4,
    "start_time": "2022-06-13T13:10:52.322Z"
   },
   {
    "duration": 5,
    "start_time": "2022-06-13T13:10:53.912Z"
   },
   {
    "duration": 522,
    "start_time": "2022-06-13T13:10:57.191Z"
   },
   {
    "duration": 5,
    "start_time": "2022-06-13T13:12:25.652Z"
   },
   {
    "duration": 612,
    "start_time": "2022-06-13T13:12:28.875Z"
   },
   {
    "duration": 488,
    "start_time": "2022-06-13T13:13:41.134Z"
   },
   {
    "duration": 504,
    "start_time": "2022-06-13T13:13:49.238Z"
   },
   {
    "duration": 3,
    "start_time": "2022-06-13T13:19:49.951Z"
   },
   {
    "duration": 4,
    "start_time": "2022-06-13T13:19:52.075Z"
   },
   {
    "duration": 5,
    "start_time": "2022-06-13T13:19:56.158Z"
   },
   {
    "duration": 7,
    "start_time": "2022-06-13T13:19:58.078Z"
   },
   {
    "duration": 664,
    "start_time": "2022-06-13T13:20:02.628Z"
   },
   {
    "duration": 544,
    "start_time": "2022-06-13T13:20:08.145Z"
   },
   {
    "duration": 551,
    "start_time": "2022-06-13T13:20:54.340Z"
   },
   {
    "duration": 5,
    "start_time": "2022-06-13T13:27:04.249Z"
   },
   {
    "duration": 8,
    "start_time": "2022-06-13T13:27:06.685Z"
   },
   {
    "duration": 579,
    "start_time": "2022-06-13T13:27:10.165Z"
   },
   {
    "duration": 632,
    "start_time": "2022-06-13T13:27:30.550Z"
   },
   {
    "duration": 650,
    "start_time": "2022-06-13T13:27:33.632Z"
   },
   {
    "duration": 5,
    "start_time": "2022-06-13T13:28:20.423Z"
   },
   {
    "duration": 603,
    "start_time": "2022-06-13T13:28:23.969Z"
   },
   {
    "duration": 588,
    "start_time": "2022-06-13T13:28:32.137Z"
   },
   {
    "duration": 545,
    "start_time": "2022-06-13T13:28:35.220Z"
   },
   {
    "duration": 3,
    "start_time": "2022-06-13T13:29:46.762Z"
   },
   {
    "duration": 5,
    "start_time": "2022-06-13T13:29:52.445Z"
   },
   {
    "duration": 548,
    "start_time": "2022-06-13T13:29:55.243Z"
   },
   {
    "duration": 4,
    "start_time": "2022-06-13T13:31:10.030Z"
   },
   {
    "duration": 4,
    "start_time": "2022-06-13T13:31:11.383Z"
   },
   {
    "duration": 490,
    "start_time": "2022-06-13T13:31:13.915Z"
   },
   {
    "duration": 3,
    "start_time": "2022-06-13T13:39:56.481Z"
   },
   {
    "duration": 7,
    "start_time": "2022-06-13T13:39:58.222Z"
   },
   {
    "duration": 9,
    "start_time": "2022-06-13T13:40:00.220Z"
   },
   {
    "duration": 15,
    "start_time": "2022-06-13T13:40:04.010Z"
   },
   {
    "duration": 569,
    "start_time": "2022-06-13T13:40:06.615Z"
   },
   {
    "duration": 6,
    "start_time": "2022-06-13T13:40:35.036Z"
   },
   {
    "duration": 1347,
    "start_time": "2022-06-14T06:39:21.955Z"
   },
   {
    "duration": 614,
    "start_time": "2022-06-14T06:39:23.303Z"
   },
   {
    "duration": 51,
    "start_time": "2022-06-14T06:39:23.919Z"
   },
   {
    "duration": 721,
    "start_time": "2022-06-14T06:39:23.973Z"
   },
   {
    "duration": 739,
    "start_time": "2022-06-14T06:39:24.696Z"
   },
   {
    "duration": 20,
    "start_time": "2022-06-14T06:39:25.437Z"
   },
   {
    "duration": 19,
    "start_time": "2022-06-14T06:39:25.459Z"
   },
   {
    "duration": 10,
    "start_time": "2022-06-14T06:39:25.479Z"
   },
   {
    "duration": 7,
    "start_time": "2022-06-14T06:39:25.490Z"
   },
   {
    "duration": 73,
    "start_time": "2022-06-14T06:39:25.500Z"
   },
   {
    "duration": 103,
    "start_time": "2022-06-14T06:39:25.626Z"
   },
   {
    "duration": 95,
    "start_time": "2022-06-14T06:39:25.738Z"
   },
   {
    "duration": 107,
    "start_time": "2022-06-14T06:39:25.837Z"
   },
   {
    "duration": 11,
    "start_time": "2022-06-14T06:39:25.949Z"
   },
   {
    "duration": 822,
    "start_time": "2022-06-14T06:39:25.962Z"
   },
   {
    "duration": 718,
    "start_time": "2022-06-14T06:39:26.786Z"
   },
   {
    "duration": 727,
    "start_time": "2022-06-14T06:39:27.506Z"
   },
   {
    "duration": 4,
    "start_time": "2022-06-14T06:39:28.237Z"
   },
   {
    "duration": 16,
    "start_time": "2022-06-14T06:39:28.242Z"
   },
   {
    "duration": 6,
    "start_time": "2022-06-14T06:39:28.260Z"
   },
   {
    "duration": 8,
    "start_time": "2022-06-14T06:39:28.267Z"
   },
   {
    "duration": 100,
    "start_time": "2022-06-14T06:39:28.276Z"
   },
   {
    "duration": 0,
    "start_time": "2022-06-14T06:39:28.378Z"
   },
   {
    "duration": 0,
    "start_time": "2022-06-14T06:39:28.379Z"
   },
   {
    "duration": 54,
    "start_time": "2022-06-14T07:11:18.118Z"
   },
   {
    "duration": 56,
    "start_time": "2022-06-14T07:12:20.750Z"
   },
   {
    "duration": 3,
    "start_time": "2022-06-18T07:28:48.830Z"
   },
   {
    "duration": 163,
    "start_time": "2022-06-18T07:28:48.835Z"
   },
   {
    "duration": 46,
    "start_time": "2022-06-18T07:28:48.999Z"
   },
   {
    "duration": 170,
    "start_time": "2022-06-18T07:28:49.047Z"
   },
   {
    "duration": 182,
    "start_time": "2022-06-18T07:28:49.218Z"
   },
   {
    "duration": 11,
    "start_time": "2022-06-18T07:28:49.402Z"
   },
   {
    "duration": 22,
    "start_time": "2022-06-18T07:28:49.414Z"
   },
   {
    "duration": 28,
    "start_time": "2022-06-18T07:28:49.437Z"
   },
   {
    "duration": 16,
    "start_time": "2022-06-18T07:28:49.467Z"
   },
   {
    "duration": 78,
    "start_time": "2022-06-18T07:28:49.484Z"
   },
   {
    "duration": 110,
    "start_time": "2022-06-18T07:28:49.565Z"
   },
   {
    "duration": 185,
    "start_time": "2022-06-18T07:28:49.677Z"
   },
   {
    "duration": 5,
    "start_time": "2022-06-18T07:28:49.864Z"
   },
   {
    "duration": 4,
    "start_time": "2022-06-18T07:28:49.960Z"
   },
   {
    "duration": 791,
    "start_time": "2022-06-18T07:28:49.966Z"
   },
   {
    "duration": 787,
    "start_time": "2022-06-18T07:28:50.759Z"
   },
   {
    "duration": 738,
    "start_time": "2022-06-18T07:28:51.548Z"
   },
   {
    "duration": 2,
    "start_time": "2022-06-18T07:43:52.396Z"
   },
   {
    "duration": 13,
    "start_time": "2022-06-18T07:44:01.307Z"
   },
   {
    "duration": 3,
    "start_time": "2022-06-18T07:44:30.013Z"
   },
   {
    "duration": 158,
    "start_time": "2022-06-18T07:44:30.018Z"
   },
   {
    "duration": 45,
    "start_time": "2022-06-18T07:44:30.177Z"
   },
   {
    "duration": 177,
    "start_time": "2022-06-18T07:44:30.224Z"
   },
   {
    "duration": 193,
    "start_time": "2022-06-18T07:44:30.403Z"
   },
   {
    "duration": 15,
    "start_time": "2022-06-18T07:44:30.598Z"
   },
   {
    "duration": 31,
    "start_time": "2022-06-18T07:44:30.615Z"
   },
   {
    "duration": 8,
    "start_time": "2022-06-18T07:44:30.659Z"
   },
   {
    "duration": 8,
    "start_time": "2022-06-18T07:44:30.668Z"
   },
   {
    "duration": 82,
    "start_time": "2022-06-18T07:44:30.678Z"
   },
   {
    "duration": 112,
    "start_time": "2022-06-18T07:44:30.765Z"
   },
   {
    "duration": 186,
    "start_time": "2022-06-18T07:44:30.879Z"
   },
   {
    "duration": 89,
    "start_time": "2022-06-18T07:44:31.070Z"
   },
   {
    "duration": 97,
    "start_time": "2022-06-18T07:44:31.163Z"
   },
   {
    "duration": 12,
    "start_time": "2022-06-18T07:56:34.731Z"
   },
   {
    "duration": 12,
    "start_time": "2022-06-18T07:59:23.899Z"
   },
   {
    "duration": 16,
    "start_time": "2022-06-18T07:59:40.646Z"
   },
   {
    "duration": 17,
    "start_time": "2022-06-18T08:00:26.855Z"
   },
   {
    "duration": 12,
    "start_time": "2022-06-18T08:02:37.131Z"
   },
   {
    "duration": 11,
    "start_time": "2022-06-18T08:02:58.990Z"
   },
   {
    "duration": 11,
    "start_time": "2022-06-18T08:03:39.252Z"
   },
   {
    "duration": 1196,
    "start_time": "2022-06-18T08:03:51.491Z"
   },
   {
    "duration": 3,
    "start_time": "2022-06-18T08:05:59.272Z"
   },
   {
    "duration": 1243,
    "start_time": "2022-06-18T08:06:08.104Z"
   },
   {
    "duration": 3,
    "start_time": "2022-06-18T08:11:17.001Z"
   },
   {
    "duration": 1401,
    "start_time": "2022-06-18T08:11:22.901Z"
   },
   {
    "duration": 3,
    "start_time": "2022-06-18T08:12:10.102Z"
   },
   {
    "duration": 1180,
    "start_time": "2022-06-18T08:12:15.379Z"
   },
   {
    "duration": 1225,
    "start_time": "2022-06-18T08:13:17.440Z"
   },
   {
    "duration": 1237,
    "start_time": "2022-06-18T08:16:55.022Z"
   },
   {
    "duration": 1218,
    "start_time": "2022-06-18T08:18:48.761Z"
   },
   {
    "duration": 1495,
    "start_time": "2022-06-18T12:25:36.424Z"
   },
   {
    "duration": 490,
    "start_time": "2022-06-18T12:25:37.922Z"
   },
   {
    "duration": 54,
    "start_time": "2022-06-18T12:25:38.414Z"
   },
   {
    "duration": 275,
    "start_time": "2022-06-18T12:25:38.470Z"
   },
   {
    "duration": 321,
    "start_time": "2022-06-18T12:25:38.747Z"
   },
   {
    "duration": 20,
    "start_time": "2022-06-18T12:25:39.070Z"
   },
   {
    "duration": 34,
    "start_time": "2022-06-18T12:25:39.092Z"
   },
   {
    "duration": 13,
    "start_time": "2022-06-18T12:25:39.130Z"
   },
   {
    "duration": 8,
    "start_time": "2022-06-18T12:25:39.145Z"
   },
   {
    "duration": 69,
    "start_time": "2022-06-18T12:25:39.155Z"
   },
   {
    "duration": 118,
    "start_time": "2022-06-18T12:25:39.225Z"
   },
   {
    "duration": 194,
    "start_time": "2022-06-18T12:25:39.347Z"
   },
   {
    "duration": 80,
    "start_time": "2022-06-18T12:25:39.545Z"
   },
   {
    "duration": 115,
    "start_time": "2022-06-18T12:25:39.628Z"
   },
   {
    "duration": 1374,
    "start_time": "2022-06-18T12:25:39.745Z"
   },
   {
    "duration": 1382,
    "start_time": "2022-06-18T12:25:41.120Z"
   },
   {
    "duration": 1417,
    "start_time": "2022-06-18T12:25:42.504Z"
   },
   {
    "duration": 5,
    "start_time": "2022-06-18T12:29:49.560Z"
   },
   {
    "duration": 113,
    "start_time": "2022-06-18T12:29:58.205Z"
   },
   {
    "duration": 17,
    "start_time": "2022-06-18T12:30:22.567Z"
   },
   {
    "duration": 11,
    "start_time": "2022-06-18T12:30:40.801Z"
   },
   {
    "duration": 7,
    "start_time": "2022-06-18T12:30:48.392Z"
   },
   {
    "duration": 13,
    "start_time": "2022-06-18T12:30:51.601Z"
   },
   {
    "duration": 6,
    "start_time": "2022-06-18T12:31:50.015Z"
   },
   {
    "duration": 17,
    "start_time": "2022-06-18T12:31:52.736Z"
   },
   {
    "duration": 6,
    "start_time": "2022-06-18T12:32:08.363Z"
   },
   {
    "duration": 24,
    "start_time": "2022-06-18T12:32:10.741Z"
   },
   {
    "duration": 1432,
    "start_time": "2022-06-18T13:16:07.569Z"
   },
   {
    "duration": 1356,
    "start_time": "2022-06-18T13:16:25.353Z"
   },
   {
    "duration": 1396,
    "start_time": "2022-06-18T13:18:59.103Z"
   },
   {
    "duration": 1392,
    "start_time": "2022-06-18T13:22:29.608Z"
   },
   {
    "duration": 1428,
    "start_time": "2022-06-18T13:22:38.158Z"
   },
   {
    "duration": 1411,
    "start_time": "2022-06-18T13:23:36.655Z"
   },
   {
    "duration": 1376,
    "start_time": "2022-06-18T13:32:11.939Z"
   },
   {
    "duration": 3,
    "start_time": "2022-06-18T13:42:00.957Z"
   },
   {
    "duration": 5,
    "start_time": "2022-06-18T13:57:27.838Z"
   },
   {
    "duration": 1025,
    "start_time": "2022-06-18T13:57:36.054Z"
   },
   {
    "duration": 4,
    "start_time": "2022-06-18T14:05:51.398Z"
   },
   {
    "duration": 12,
    "start_time": "2022-06-18T14:08:10.798Z"
   },
   {
    "duration": 11,
    "start_time": "2022-06-18T14:08:25.693Z"
   },
   {
    "duration": 14,
    "start_time": "2022-06-18T14:09:26.955Z"
   },
   {
    "duration": 15,
    "start_time": "2022-06-18T14:11:40.171Z"
   },
   {
    "duration": 13,
    "start_time": "2022-06-18T14:11:57.761Z"
   },
   {
    "duration": 14,
    "start_time": "2022-06-18T14:12:27.100Z"
   },
   {
    "duration": 19,
    "start_time": "2022-06-18T14:12:45.709Z"
   },
   {
    "duration": 1269,
    "start_time": "2022-06-18T14:21:01.929Z"
   },
   {
    "duration": 4,
    "start_time": "2022-06-18T14:24:11.880Z"
   },
   {
    "duration": 3,
    "start_time": "2022-06-18T14:24:30.355Z"
   },
   {
    "duration": 3,
    "start_time": "2022-06-18T14:25:30.865Z"
   },
   {
    "duration": 15,
    "start_time": "2022-06-18T14:25:34.063Z"
   },
   {
    "duration": 8,
    "start_time": "2022-06-18T14:25:38.522Z"
   },
   {
    "duration": 1344,
    "start_time": "2022-06-18T14:26:17.979Z"
   },
   {
    "duration": 11,
    "start_time": "2022-06-18T14:31:00.405Z"
   },
   {
    "duration": 15,
    "start_time": "2022-06-18T14:31:27.622Z"
   },
   {
    "duration": 1355,
    "start_time": "2022-06-18T14:31:36.050Z"
   },
   {
    "duration": 1430,
    "start_time": "2022-06-18T14:32:04.740Z"
   },
   {
    "duration": 1347,
    "start_time": "2022-06-18T14:32:37.541Z"
   },
   {
    "duration": 15,
    "start_time": "2022-06-18T14:32:44.551Z"
   },
   {
    "duration": 17,
    "start_time": "2022-06-18T14:33:22.252Z"
   },
   {
    "duration": 1318,
    "start_time": "2022-06-18T14:34:36.968Z"
   },
   {
    "duration": 1592,
    "start_time": "2022-06-18T14:36:05.163Z"
   },
   {
    "duration": 1379,
    "start_time": "2022-06-18T14:37:10.207Z"
   },
   {
    "duration": 1377,
    "start_time": "2022-06-18T14:39:08.900Z"
   },
   {
    "duration": 1292,
    "start_time": "2022-06-18T14:39:44.002Z"
   },
   {
    "duration": 1446,
    "start_time": "2022-06-18T14:41:47.960Z"
   },
   {
    "duration": 6,
    "start_time": "2022-06-19T16:16:20.439Z"
   },
   {
    "duration": 171,
    "start_time": "2022-06-19T16:16:20.447Z"
   },
   {
    "duration": 61,
    "start_time": "2022-06-19T16:16:20.620Z"
   },
   {
    "duration": 216,
    "start_time": "2022-06-19T16:16:20.683Z"
   },
   {
    "duration": 210,
    "start_time": "2022-06-19T16:16:20.902Z"
   },
   {
    "duration": 16,
    "start_time": "2022-06-19T16:16:21.124Z"
   },
   {
    "duration": 38,
    "start_time": "2022-06-19T16:16:21.142Z"
   },
   {
    "duration": 10,
    "start_time": "2022-06-19T16:16:21.182Z"
   },
   {
    "duration": 11,
    "start_time": "2022-06-19T16:16:21.193Z"
   },
   {
    "duration": 33,
    "start_time": "2022-06-19T16:16:21.207Z"
   },
   {
    "duration": 93,
    "start_time": "2022-06-19T16:16:21.243Z"
   },
   {
    "duration": 190,
    "start_time": "2022-06-19T16:16:21.338Z"
   },
   {
    "duration": 99,
    "start_time": "2022-06-19T16:16:21.530Z"
   },
   {
    "duration": 0,
    "start_time": "2022-06-19T16:16:21.632Z"
   },
   {
    "duration": 0,
    "start_time": "2022-06-19T16:16:21.634Z"
   },
   {
    "duration": 0,
    "start_time": "2022-06-19T16:16:21.636Z"
   },
   {
    "duration": 0,
    "start_time": "2022-06-19T16:16:21.638Z"
   },
   {
    "duration": 0,
    "start_time": "2022-06-19T16:16:21.639Z"
   },
   {
    "duration": 7,
    "start_time": "2022-06-19T16:17:01.104Z"
   },
   {
    "duration": 16,
    "start_time": "2022-06-19T16:17:06.570Z"
   },
   {
    "duration": 5,
    "start_time": "2022-06-19T16:27:31.039Z"
   },
   {
    "duration": 412,
    "start_time": "2022-06-19T16:27:31.046Z"
   },
   {
    "duration": 50,
    "start_time": "2022-06-19T16:27:31.460Z"
   },
   {
    "duration": 271,
    "start_time": "2022-06-19T16:27:31.512Z"
   },
   {
    "duration": 300,
    "start_time": "2022-06-19T16:27:31.786Z"
   },
   {
    "duration": 15,
    "start_time": "2022-06-19T16:27:32.088Z"
   },
   {
    "duration": 34,
    "start_time": "2022-06-19T16:27:32.105Z"
   },
   {
    "duration": 10,
    "start_time": "2022-06-19T16:27:32.141Z"
   },
   {
    "duration": 9,
    "start_time": "2022-06-19T16:27:32.154Z"
   },
   {
    "duration": 63,
    "start_time": "2022-06-19T16:27:32.165Z"
   },
   {
    "duration": 197,
    "start_time": "2022-06-19T16:27:32.230Z"
   },
   {
    "duration": 207,
    "start_time": "2022-06-19T16:27:32.429Z"
   },
   {
    "duration": 104,
    "start_time": "2022-06-19T16:27:32.641Z"
   },
   {
    "duration": 20,
    "start_time": "2022-06-19T16:27:52.078Z"
   },
   {
    "duration": 11,
    "start_time": "2022-06-19T16:28:23.811Z"
   },
   {
    "duration": 17,
    "start_time": "2022-06-19T16:33:23.990Z"
   },
   {
    "duration": 13,
    "start_time": "2022-06-19T16:41:20.375Z"
   },
   {
    "duration": 26,
    "start_time": "2022-06-19T16:43:21.758Z"
   },
   {
    "duration": 22,
    "start_time": "2022-06-19T16:44:07.615Z"
   },
   {
    "duration": 5,
    "start_time": "2022-06-19T16:45:02.845Z"
   },
   {
    "duration": 1462,
    "start_time": "2022-06-19T16:45:21.541Z"
   },
   {
    "duration": 1385,
    "start_time": "2022-06-19T16:45:36.293Z"
   },
   {
    "duration": 1408,
    "start_time": "2022-06-19T16:45:44.199Z"
   },
   {
    "duration": 1392,
    "start_time": "2022-06-19T16:56:48.148Z"
   },
   {
    "duration": 1464,
    "start_time": "2022-06-19T16:57:36.653Z"
   },
   {
    "duration": 1531,
    "start_time": "2022-06-19T16:57:45.052Z"
   },
   {
    "duration": 3,
    "start_time": "2022-06-19T16:58:49.292Z"
   },
   {
    "duration": 475,
    "start_time": "2022-06-19T16:58:49.298Z"
   },
   {
    "duration": 47,
    "start_time": "2022-06-19T16:58:49.774Z"
   },
   {
    "duration": 327,
    "start_time": "2022-06-19T16:58:49.825Z"
   },
   {
    "duration": 309,
    "start_time": "2022-06-19T16:58:50.155Z"
   },
   {
    "duration": 16,
    "start_time": "2022-06-19T16:58:50.466Z"
   },
   {
    "duration": 22,
    "start_time": "2022-06-19T16:58:50.484Z"
   },
   {
    "duration": 23,
    "start_time": "2022-06-19T16:58:50.508Z"
   },
   {
    "duration": 39,
    "start_time": "2022-06-19T16:58:50.533Z"
   },
   {
    "duration": 87,
    "start_time": "2022-06-19T16:58:50.574Z"
   },
   {
    "duration": 126,
    "start_time": "2022-06-19T16:58:50.725Z"
   },
   {
    "duration": 180,
    "start_time": "2022-06-19T16:58:50.858Z"
   },
   {
    "duration": 81,
    "start_time": "2022-06-19T16:58:51.046Z"
   },
   {
    "duration": 41,
    "start_time": "2022-06-19T16:58:51.136Z"
   },
   {
    "duration": 3,
    "start_time": "2022-06-19T16:58:51.179Z"
   },
   {
    "duration": 1500,
    "start_time": "2022-06-19T16:58:51.184Z"
   },
   {
    "duration": 1491,
    "start_time": "2022-06-19T16:58:52.686Z"
   },
   {
    "duration": 1394,
    "start_time": "2022-06-19T16:58:54.179Z"
   },
   {
    "duration": 1438,
    "start_time": "2022-06-19T17:00:23.035Z"
   },
   {
    "duration": 1464,
    "start_time": "2022-06-19T17:00:38.551Z"
   },
   {
    "duration": 1393,
    "start_time": "2022-06-19T17:00:47.073Z"
   },
   {
    "duration": 9,
    "start_time": "2022-06-19T17:14:35.243Z"
   },
   {
    "duration": 1517,
    "start_time": "2022-06-19T17:15:19.347Z"
   },
   {
    "duration": 1432,
    "start_time": "2022-06-19T17:15:32.405Z"
   },
   {
    "duration": 6,
    "start_time": "2022-06-19T17:19:12.099Z"
   },
   {
    "duration": 191,
    "start_time": "2022-06-19T17:19:12.108Z"
   },
   {
    "duration": 52,
    "start_time": "2022-06-19T17:19:12.301Z"
   },
   {
    "duration": 199,
    "start_time": "2022-06-19T17:19:12.355Z"
   },
   {
    "duration": 234,
    "start_time": "2022-06-19T17:19:12.557Z"
   },
   {
    "duration": 17,
    "start_time": "2022-06-19T17:19:12.793Z"
   },
   {
    "duration": 42,
    "start_time": "2022-06-19T17:19:12.824Z"
   },
   {
    "duration": 10,
    "start_time": "2022-06-19T17:19:12.868Z"
   },
   {
    "duration": 16,
    "start_time": "2022-06-19T17:19:12.879Z"
   },
   {
    "duration": 128,
    "start_time": "2022-06-19T17:19:12.897Z"
   },
   {
    "duration": 121,
    "start_time": "2022-06-19T17:19:13.028Z"
   },
   {
    "duration": 115,
    "start_time": "2022-06-19T17:19:13.230Z"
   },
   {
    "duration": 78,
    "start_time": "2022-06-19T17:19:13.348Z"
   },
   {
    "duration": 126,
    "start_time": "2022-06-19T17:19:13.429Z"
   },
   {
    "duration": 3,
    "start_time": "2022-06-19T17:19:13.558Z"
   },
   {
    "duration": 1312,
    "start_time": "2022-06-19T17:19:13.563Z"
   },
   {
    "duration": 1333,
    "start_time": "2022-06-19T17:19:14.877Z"
   },
   {
    "duration": 33,
    "start_time": "2022-06-19T17:19:58.941Z"
   },
   {
    "duration": 1504,
    "start_time": "2022-06-19T17:20:24.822Z"
   },
   {
    "duration": 6,
    "start_time": "2022-06-19T17:23:21.440Z"
   },
   {
    "duration": 15,
    "start_time": "2022-06-19T17:23:56.572Z"
   },
   {
    "duration": 1433,
    "start_time": "2022-06-19T17:24:09.959Z"
   },
   {
    "duration": 1624,
    "start_time": "2022-06-19T17:24:51.740Z"
   },
   {
    "duration": 5,
    "start_time": "2022-06-19T17:28:16.491Z"
   },
   {
    "duration": 1542,
    "start_time": "2022-06-19T17:28:35.673Z"
   },
   {
    "duration": 1646,
    "start_time": "2022-06-19T17:28:58.898Z"
   },
   {
    "duration": 4,
    "start_time": "2022-06-19T17:34:56.017Z"
   },
   {
    "duration": 1432,
    "start_time": "2022-06-19T17:37:42.785Z"
   },
   {
    "duration": 1450,
    "start_time": "2022-06-19T17:38:04.068Z"
   },
   {
    "duration": 1402,
    "start_time": "2022-06-19T17:38:27.917Z"
   },
   {
    "duration": 1503,
    "start_time": "2022-06-19T17:39:01.003Z"
   },
   {
    "duration": 1386,
    "start_time": "2022-06-19T17:41:43.272Z"
   },
   {
    "duration": 1662,
    "start_time": "2022-06-19T17:44:43.223Z"
   },
   {
    "duration": 1490,
    "start_time": "2022-06-19T17:51:08.648Z"
   },
   {
    "duration": 1491,
    "start_time": "2022-06-19T17:52:23.584Z"
   },
   {
    "duration": 1449,
    "start_time": "2022-06-19T17:52:57.286Z"
   },
   {
    "duration": 1475,
    "start_time": "2022-06-19T17:53:38.717Z"
   },
   {
    "duration": 1522,
    "start_time": "2022-06-19T17:54:00.853Z"
   },
   {
    "duration": 1573,
    "start_time": "2022-06-19T17:56:07.296Z"
   },
   {
    "duration": 1430,
    "start_time": "2022-06-19T17:56:28.278Z"
   },
   {
    "duration": 1502,
    "start_time": "2022-06-19T17:57:10.559Z"
   },
   {
    "duration": 1484,
    "start_time": "2022-06-19T17:58:36.610Z"
   },
   {
    "duration": 1445,
    "start_time": "2022-06-19T17:58:58.670Z"
   },
   {
    "duration": 1407,
    "start_time": "2022-06-19T17:59:39.099Z"
   },
   {
    "duration": 1557,
    "start_time": "2022-06-20T07:03:01.181Z"
   },
   {
    "duration": 769,
    "start_time": "2022-06-20T07:03:02.740Z"
   },
   {
    "duration": 41,
    "start_time": "2022-06-20T07:03:03.510Z"
   },
   {
    "duration": 583,
    "start_time": "2022-06-20T07:03:03.553Z"
   },
   {
    "duration": 550,
    "start_time": "2022-06-20T07:03:04.138Z"
   },
   {
    "duration": 13,
    "start_time": "2022-06-20T07:03:04.690Z"
   },
   {
    "duration": 23,
    "start_time": "2022-06-20T07:03:04.704Z"
   },
   {
    "duration": 9,
    "start_time": "2022-06-20T07:03:04.728Z"
   },
   {
    "duration": 5,
    "start_time": "2022-06-20T07:03:04.738Z"
   },
   {
    "duration": 81,
    "start_time": "2022-06-20T07:03:04.746Z"
   },
   {
    "duration": 111,
    "start_time": "2022-06-20T07:03:04.829Z"
   },
   {
    "duration": 188,
    "start_time": "2022-06-20T07:03:04.942Z"
   },
   {
    "duration": 95,
    "start_time": "2022-06-20T07:03:05.135Z"
   },
   {
    "duration": 104,
    "start_time": "2022-06-20T07:03:05.232Z"
   },
   {
    "duration": 4,
    "start_time": "2022-06-20T07:03:05.338Z"
   },
   {
    "duration": 1168,
    "start_time": "2022-06-20T07:03:05.343Z"
   },
   {
    "duration": 1220,
    "start_time": "2022-06-20T07:03:06.512Z"
   },
   {
    "duration": 1203,
    "start_time": "2022-06-20T07:03:07.733Z"
   },
   {
    "duration": 1160,
    "start_time": "2022-06-20T07:04:45.671Z"
   },
   {
    "duration": 1153,
    "start_time": "2022-06-20T07:19:29.349Z"
   },
   {
    "duration": 1218,
    "start_time": "2022-06-20T07:20:22.504Z"
   },
   {
    "duration": 1190,
    "start_time": "2022-06-20T07:21:26.494Z"
   },
   {
    "duration": 1160,
    "start_time": "2022-06-20T07:22:42.307Z"
   },
   {
    "duration": 1312,
    "start_time": "2022-06-20T07:32:01.772Z"
   }
  ],
  "kernelspec": {
   "display_name": "Python 3 (ipykernel)",
   "language": "python",
   "name": "python3"
  },
  "language_info": {
   "codemirror_mode": {
    "name": "ipython",
    "version": 3
   },
   "file_extension": ".py",
   "mimetype": "text/x-python",
   "name": "python",
   "nbconvert_exporter": "python",
   "pygments_lexer": "ipython3",
   "version": "3.9.5"
  },
  "toc": {
   "base_numbering": 1,
   "nav_menu": {},
   "number_sections": true,
   "sideBar": true,
   "skip_h1_title": true,
   "title_cell": "Table of Contents",
   "title_sidebar": "Contents",
   "toc_cell": false,
   "toc_position": {},
   "toc_section_display": true,
   "toc_window_display": false
  }
 },
 "nbformat": 4,
 "nbformat_minor": 2
}
